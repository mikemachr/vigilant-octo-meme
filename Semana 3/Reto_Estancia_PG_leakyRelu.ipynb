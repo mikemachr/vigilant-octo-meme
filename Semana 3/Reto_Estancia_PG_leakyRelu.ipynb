{
  "nbformat": 4,
  "nbformat_minor": 0,
  "metadata": {
    "colab": {
      "name": "Copia de Reto Estancia.ipynb",
      "provenance": [],
      "collapsed_sections": []
    },
    "kernelspec": {
      "name": "python3",
      "display_name": "Python 3"
    },
    "language_info": {
      "name": "python"
    }
  },
  "cells": [
    {
      "cell_type": "markdown",
      "source": [
        "## Dependencias"
      ],
      "metadata": {
        "id": "Rq-TbFYrOCOv"
      }
    },
    {
      "cell_type": "code",
      "source": [
        "!pip install giotto-tda"
      ],
      "metadata": {
        "colab": {
          "base_uri": "https://localhost:8080/"
        },
        "id": "yQDCOwHROQaH",
        "outputId": "96d0d361-7b65-4695-88c2-1c7d44b2bbe0"
      },
      "execution_count": 5,
      "outputs": [
        {
          "output_type": "stream",
          "name": "stdout",
          "text": [
            "Looking in indexes: https://pypi.org/simple, https://us-python.pkg.dev/colab-wheels/public/simple/\n",
            "Requirement already satisfied: giotto-tda in /usr/local/lib/python3.7/dist-packages (0.6.0)\n",
            "Requirement already satisfied: plotly>=4.8.2 in /usr/local/lib/python3.7/dist-packages (from giotto-tda) (5.5.0)\n",
            "Requirement already satisfied: scikit-learn>=0.23.1 in /usr/local/lib/python3.7/dist-packages (from giotto-tda) (1.0.2)\n",
            "Requirement already satisfied: ipywidgets>=7.5.1 in /usr/local/lib/python3.7/dist-packages (from giotto-tda) (7.7.1)\n",
            "Requirement already satisfied: joblib>=0.16.0 in /usr/local/lib/python3.7/dist-packages (from giotto-tda) (1.1.0)\n",
            "Requirement already satisfied: giotto-ph>=0.2.1 in /usr/local/lib/python3.7/dist-packages (from giotto-tda) (0.2.2)\n",
            "Requirement already satisfied: scipy>=1.5.0 in /usr/local/lib/python3.7/dist-packages (from giotto-tda) (1.7.3)\n",
            "Requirement already satisfied: igraph>=0.9.8 in /usr/local/lib/python3.7/dist-packages (from giotto-tda) (0.9.11)\n",
            "Requirement already satisfied: numpy>=1.19.1 in /usr/local/lib/python3.7/dist-packages (from giotto-tda) (1.21.6)\n",
            "Requirement already satisfied: pyflagser>=0.4.3 in /usr/local/lib/python3.7/dist-packages (from giotto-tda) (0.4.5)\n",
            "Requirement already satisfied: texttable>=1.6.2 in /usr/local/lib/python3.7/dist-packages (from igraph>=0.9.8->giotto-tda) (1.6.4)\n",
            "Requirement already satisfied: ipykernel>=4.5.1 in /usr/local/lib/python3.7/dist-packages (from ipywidgets>=7.5.1->giotto-tda) (5.3.4)\n",
            "Requirement already satisfied: traitlets>=4.3.1 in /usr/local/lib/python3.7/dist-packages (from ipywidgets>=7.5.1->giotto-tda) (5.1.1)\n",
            "Requirement already satisfied: widgetsnbextension~=3.6.0 in /usr/local/lib/python3.7/dist-packages (from ipywidgets>=7.5.1->giotto-tda) (3.6.1)\n",
            "Requirement already satisfied: jupyterlab-widgets>=1.0.0 in /usr/local/lib/python3.7/dist-packages (from ipywidgets>=7.5.1->giotto-tda) (3.0.2)\n",
            "Requirement already satisfied: ipython-genutils~=0.2.0 in /usr/local/lib/python3.7/dist-packages (from ipywidgets>=7.5.1->giotto-tda) (0.2.0)\n",
            "Requirement already satisfied: ipython>=4.0.0 in /usr/local/lib/python3.7/dist-packages (from ipywidgets>=7.5.1->giotto-tda) (7.9.0)\n",
            "Requirement already satisfied: jupyter-client in /usr/local/lib/python3.7/dist-packages (from ipykernel>=4.5.1->ipywidgets>=7.5.1->giotto-tda) (6.1.12)\n",
            "Requirement already satisfied: tornado>=4.2 in /usr/local/lib/python3.7/dist-packages (from ipykernel>=4.5.1->ipywidgets>=7.5.1->giotto-tda) (5.1.1)\n",
            "Requirement already satisfied: pexpect in /usr/local/lib/python3.7/dist-packages (from ipython>=4.0.0->ipywidgets>=7.5.1->giotto-tda) (4.8.0)\n",
            "Requirement already satisfied: backcall in /usr/local/lib/python3.7/dist-packages (from ipython>=4.0.0->ipywidgets>=7.5.1->giotto-tda) (0.2.0)\n",
            "Requirement already satisfied: pickleshare in /usr/local/lib/python3.7/dist-packages (from ipython>=4.0.0->ipywidgets>=7.5.1->giotto-tda) (0.7.5)\n",
            "Requirement already satisfied: pygments in /usr/local/lib/python3.7/dist-packages (from ipython>=4.0.0->ipywidgets>=7.5.1->giotto-tda) (2.6.1)\n",
            "Requirement already satisfied: decorator in /usr/local/lib/python3.7/dist-packages (from ipython>=4.0.0->ipywidgets>=7.5.1->giotto-tda) (4.4.2)\n",
            "Requirement already satisfied: jedi>=0.10 in /usr/local/lib/python3.7/dist-packages (from ipython>=4.0.0->ipywidgets>=7.5.1->giotto-tda) (0.18.1)\n",
            "Requirement already satisfied: setuptools>=18.5 in /usr/local/lib/python3.7/dist-packages (from ipython>=4.0.0->ipywidgets>=7.5.1->giotto-tda) (57.4.0)\n",
            "Requirement already satisfied: prompt-toolkit<2.1.0,>=2.0.0 in /usr/local/lib/python3.7/dist-packages (from ipython>=4.0.0->ipywidgets>=7.5.1->giotto-tda) (2.0.10)\n",
            "Requirement already satisfied: parso<0.9.0,>=0.8.0 in /usr/local/lib/python3.7/dist-packages (from jedi>=0.10->ipython>=4.0.0->ipywidgets>=7.5.1->giotto-tda) (0.8.3)\n",
            "Requirement already satisfied: tenacity>=6.2.0 in /usr/local/lib/python3.7/dist-packages (from plotly>=4.8.2->giotto-tda) (8.0.1)\n",
            "Requirement already satisfied: six in /usr/local/lib/python3.7/dist-packages (from plotly>=4.8.2->giotto-tda) (1.15.0)\n",
            "Requirement already satisfied: wcwidth in /usr/local/lib/python3.7/dist-packages (from prompt-toolkit<2.1.0,>=2.0.0->ipython>=4.0.0->ipywidgets>=7.5.1->giotto-tda) (0.2.5)\n",
            "Requirement already satisfied: threadpoolctl>=2.0.0 in /usr/local/lib/python3.7/dist-packages (from scikit-learn>=0.23.1->giotto-tda) (3.1.0)\n",
            "Requirement already satisfied: notebook>=4.4.1 in /usr/local/lib/python3.7/dist-packages (from widgetsnbextension~=3.6.0->ipywidgets>=7.5.1->giotto-tda) (5.3.1)\n",
            "Requirement already satisfied: Send2Trash in /usr/local/lib/python3.7/dist-packages (from notebook>=4.4.1->widgetsnbextension~=3.6.0->ipywidgets>=7.5.1->giotto-tda) (1.8.0)\n",
            "Requirement already satisfied: nbconvert in /usr/local/lib/python3.7/dist-packages (from notebook>=4.4.1->widgetsnbextension~=3.6.0->ipywidgets>=7.5.1->giotto-tda) (5.6.1)\n",
            "Requirement already satisfied: terminado>=0.8.1 in /usr/local/lib/python3.7/dist-packages (from notebook>=4.4.1->widgetsnbextension~=3.6.0->ipywidgets>=7.5.1->giotto-tda) (0.13.3)\n",
            "Requirement already satisfied: nbformat in /usr/local/lib/python3.7/dist-packages (from notebook>=4.4.1->widgetsnbextension~=3.6.0->ipywidgets>=7.5.1->giotto-tda) (5.4.0)\n",
            "Requirement already satisfied: jinja2 in /usr/local/lib/python3.7/dist-packages (from notebook>=4.4.1->widgetsnbextension~=3.6.0->ipywidgets>=7.5.1->giotto-tda) (2.11.3)\n",
            "Requirement already satisfied: jupyter-core>=4.4.0 in /usr/local/lib/python3.7/dist-packages (from notebook>=4.4.1->widgetsnbextension~=3.6.0->ipywidgets>=7.5.1->giotto-tda) (4.11.1)\n",
            "Requirement already satisfied: python-dateutil>=2.1 in /usr/local/lib/python3.7/dist-packages (from jupyter-client->ipykernel>=4.5.1->ipywidgets>=7.5.1->giotto-tda) (2.8.2)\n",
            "Requirement already satisfied: pyzmq>=13 in /usr/local/lib/python3.7/dist-packages (from jupyter-client->ipykernel>=4.5.1->ipywidgets>=7.5.1->giotto-tda) (23.2.1)\n",
            "Requirement already satisfied: ptyprocess in /usr/local/lib/python3.7/dist-packages (from terminado>=0.8.1->notebook>=4.4.1->widgetsnbextension~=3.6.0->ipywidgets>=7.5.1->giotto-tda) (0.7.0)\n",
            "Requirement already satisfied: MarkupSafe>=0.23 in /usr/local/lib/python3.7/dist-packages (from jinja2->notebook>=4.4.1->widgetsnbextension~=3.6.0->ipywidgets>=7.5.1->giotto-tda) (2.0.1)\n",
            "Requirement already satisfied: defusedxml in /usr/local/lib/python3.7/dist-packages (from nbconvert->notebook>=4.4.1->widgetsnbextension~=3.6.0->ipywidgets>=7.5.1->giotto-tda) (0.7.1)\n",
            "Requirement already satisfied: testpath in /usr/local/lib/python3.7/dist-packages (from nbconvert->notebook>=4.4.1->widgetsnbextension~=3.6.0->ipywidgets>=7.5.1->giotto-tda) (0.6.0)\n",
            "Requirement already satisfied: entrypoints>=0.2.2 in /usr/local/lib/python3.7/dist-packages (from nbconvert->notebook>=4.4.1->widgetsnbextension~=3.6.0->ipywidgets>=7.5.1->giotto-tda) (0.4)\n",
            "Requirement already satisfied: bleach in /usr/local/lib/python3.7/dist-packages (from nbconvert->notebook>=4.4.1->widgetsnbextension~=3.6.0->ipywidgets>=7.5.1->giotto-tda) (5.0.1)\n",
            "Requirement already satisfied: pandocfilters>=1.4.1 in /usr/local/lib/python3.7/dist-packages (from nbconvert->notebook>=4.4.1->widgetsnbextension~=3.6.0->ipywidgets>=7.5.1->giotto-tda) (1.5.0)\n",
            "Requirement already satisfied: mistune<2,>=0.8.1 in /usr/local/lib/python3.7/dist-packages (from nbconvert->notebook>=4.4.1->widgetsnbextension~=3.6.0->ipywidgets>=7.5.1->giotto-tda) (0.8.4)\n",
            "Requirement already satisfied: fastjsonschema in /usr/local/lib/python3.7/dist-packages (from nbformat->notebook>=4.4.1->widgetsnbextension~=3.6.0->ipywidgets>=7.5.1->giotto-tda) (2.16.1)\n",
            "Requirement already satisfied: jsonschema>=2.6 in /usr/local/lib/python3.7/dist-packages (from nbformat->notebook>=4.4.1->widgetsnbextension~=3.6.0->ipywidgets>=7.5.1->giotto-tda) (4.3.3)\n",
            "Requirement already satisfied: importlib-resources>=1.4.0 in /usr/local/lib/python3.7/dist-packages (from jsonschema>=2.6->nbformat->notebook>=4.4.1->widgetsnbextension~=3.6.0->ipywidgets>=7.5.1->giotto-tda) (5.9.0)\n",
            "Requirement already satisfied: importlib-metadata in /usr/local/lib/python3.7/dist-packages (from jsonschema>=2.6->nbformat->notebook>=4.4.1->widgetsnbextension~=3.6.0->ipywidgets>=7.5.1->giotto-tda) (4.12.0)\n",
            "Requirement already satisfied: attrs>=17.4.0 in /usr/local/lib/python3.7/dist-packages (from jsonschema>=2.6->nbformat->notebook>=4.4.1->widgetsnbextension~=3.6.0->ipywidgets>=7.5.1->giotto-tda) (22.1.0)\n",
            "Requirement already satisfied: typing-extensions in /usr/local/lib/python3.7/dist-packages (from jsonschema>=2.6->nbformat->notebook>=4.4.1->widgetsnbextension~=3.6.0->ipywidgets>=7.5.1->giotto-tda) (4.1.1)\n",
            "Requirement already satisfied: pyrsistent!=0.17.0,!=0.17.1,!=0.17.2,>=0.14.0 in /usr/local/lib/python3.7/dist-packages (from jsonschema>=2.6->nbformat->notebook>=4.4.1->widgetsnbextension~=3.6.0->ipywidgets>=7.5.1->giotto-tda) (0.18.1)\n",
            "Requirement already satisfied: zipp>=3.1.0 in /usr/local/lib/python3.7/dist-packages (from importlib-resources>=1.4.0->jsonschema>=2.6->nbformat->notebook>=4.4.1->widgetsnbextension~=3.6.0->ipywidgets>=7.5.1->giotto-tda) (3.8.1)\n",
            "Requirement already satisfied: webencodings in /usr/local/lib/python3.7/dist-packages (from bleach->nbconvert->notebook>=4.4.1->widgetsnbextension~=3.6.0->ipywidgets>=7.5.1->giotto-tda) (0.5.1)\n"
          ]
        }
      ]
    },
    {
      "cell_type": "code",
      "source": [
        "!pip install gudhi"
      ],
      "metadata": {
        "colab": {
          "base_uri": "https://localhost:8080/"
        },
        "id": "TU0_0xk2OTs2",
        "outputId": "8aafe8c2-02db-4960-883b-6620a4835043"
      },
      "execution_count": 6,
      "outputs": [
        {
          "output_type": "stream",
          "name": "stdout",
          "text": [
            "Looking in indexes: https://pypi.org/simple, https://us-python.pkg.dev/colab-wheels/public/simple/\n",
            "Requirement already satisfied: gudhi in /usr/local/lib/python3.7/dist-packages (3.6.0)\n",
            "Requirement already satisfied: numpy>=1.15.0 in /usr/local/lib/python3.7/dist-packages (from gudhi) (1.21.6)\n"
          ]
        }
      ]
    },
    {
      "cell_type": "code",
      "execution_count": 7,
      "metadata": {
        "id": "sF2unU4ObVAJ"
      },
      "outputs": [],
      "source": [
        "import pandas as pd\n",
        "import numpy as np\n",
        "import numpy as np\n",
        "import gudhi as gd  \n",
        "from sklearn import manifold\n",
        "from pylab import *\n",
        "from sklearn.decomposition import PCA\n",
        "from gtda.plotting import plot_point_cloud\n",
        "from gtda.time_series import SingleTakensEmbedding\n",
        "\n",
        "%matplotlib inline\n",
        "# import sklearn_tda\n"
      ]
    },
    {
      "cell_type": "markdown",
      "source": [
        "### Importar datos"
      ],
      "metadata": {
        "id": "Fi7hOrmDO2Y_"
      }
    },
    {
      "cell_type": "code",
      "source": [
        "object=pd.read_pickle('uke_eggedal_data_challenge.pkl')\n",
        "df=pd.DataFrame.from_dict(object,orient='index')"
      ],
      "metadata": {
        "id": "0Sxa0Vv4bhwd"
      },
      "execution_count": 8,
      "outputs": []
    },
    {
      "cell_type": "code",
      "source": [
        "df=df.T\n",
        "df"
      ],
      "metadata": {
        "colab": {
          "base_uri": "https://localhost:8080/",
          "height": 424
        },
        "id": "y8XSaFGBcLZK",
        "outputId": "cdff1b4e-8ba5-4704-cd73-300e5cef1c4c"
      },
      "execution_count": 9,
      "outputs": [
        {
          "output_type": "execute_result",
          "data": {
            "text/plain": [
              "           flow                                            obs_tas flow_dates  \\\n",
              "0      1.723781  [-10.600000381469727, -9.699999809265137, -6.6... 1958-01-04   \n",
              "1      0.960882  [-20.5, -19.100000381469727, -12.0, -17.700000... 1958-01-05   \n",
              "2         0.001  [-23.600000381469727, -22.5, -15.1000003814697... 1958-01-06   \n",
              "3         0.001  [-16.200000762939453, -16.0, -14.1000003814697... 1958-01-07   \n",
              "4      0.316796  [-7.900000095367432, -7.800000190734863, -9.5,... 1958-01-08   \n",
              "...         ...                                                ...        ...   \n",
              "21541  1.812796  [-12.5, -11.699999809265137, -8.60000038146972... 2016-12-26   \n",
              "21542      None  [-12.5, -11.899999618530273, -9.10000038146972...        NaT   \n",
              "21543      None  [-11.899999618530273, -11.399999618530273, -8....        NaT   \n",
              "21544      None  [-7.0, -6.5, -3.4000000953674316, -5.900000095...        NaT   \n",
              "21545      None  [-2.4000000953674316, -2.0999999046325684, 1.2...        NaT   \n",
              "\n",
              "      obs_lon_lat                                             obs_pr  \\\n",
              "0            9.37  [0.0, 0.0, 0.0, 0.0, 0.0, 0.0, 0.0, 0.10000000...   \n",
              "1           60.23  [0.0, 0.0, 0.0, 0.0, 0.0, 0.0, 0.0, 0.20000000...   \n",
              "2            None  [0.10000000149011612, 0.0, 0.30000001192092896...   \n",
              "3            None  [1.0, 0.0, 1.0, 1.100000023841858, 0.899999976...   \n",
              "4            None  [9.300000190734863, 8.600000381469727, 8.0, 8....   \n",
              "...           ...                                                ...   \n",
              "21541        None  [2.200000047683716, 0.10000000149011612, 1.100...   \n",
              "21542        None  [5.5, 4.900000095367432, 8.300000190734863, 6....   \n",
              "21543        None  [1.7999999523162842, 1.7000000476837158, 2.099...   \n",
              "21544        None  [4.099999904632568, 3.5, 4.599999904632568, 5....   \n",
              "21545        None  [6.400000095367432, 7.400000095367432, 8.5, 8....   \n",
              "\n",
              "       obs_dates  \n",
              "0     1957-01-01  \n",
              "1     1957-01-02  \n",
              "2     1957-01-03  \n",
              "3     1957-01-04  \n",
              "4     1957-01-05  \n",
              "...          ...  \n",
              "21541 2015-12-27  \n",
              "21542 2015-12-28  \n",
              "21543 2015-12-29  \n",
              "21544 2015-12-30  \n",
              "21545 2015-12-31  \n",
              "\n",
              "[21546 rows x 6 columns]"
            ],
            "text/html": [
              "\n",
              "  <div id=\"df-8eedcd6c-310a-4e0b-984b-971ef94d4bbf\">\n",
              "    <div class=\"colab-df-container\">\n",
              "      <div>\n",
              "<style scoped>\n",
              "    .dataframe tbody tr th:only-of-type {\n",
              "        vertical-align: middle;\n",
              "    }\n",
              "\n",
              "    .dataframe tbody tr th {\n",
              "        vertical-align: top;\n",
              "    }\n",
              "\n",
              "    .dataframe thead th {\n",
              "        text-align: right;\n",
              "    }\n",
              "</style>\n",
              "<table border=\"1\" class=\"dataframe\">\n",
              "  <thead>\n",
              "    <tr style=\"text-align: right;\">\n",
              "      <th></th>\n",
              "      <th>flow</th>\n",
              "      <th>obs_tas</th>\n",
              "      <th>flow_dates</th>\n",
              "      <th>obs_lon_lat</th>\n",
              "      <th>obs_pr</th>\n",
              "      <th>obs_dates</th>\n",
              "    </tr>\n",
              "  </thead>\n",
              "  <tbody>\n",
              "    <tr>\n",
              "      <th>0</th>\n",
              "      <td>1.723781</td>\n",
              "      <td>[-10.600000381469727, -9.699999809265137, -6.6...</td>\n",
              "      <td>1958-01-04</td>\n",
              "      <td>9.37</td>\n",
              "      <td>[0.0, 0.0, 0.0, 0.0, 0.0, 0.0, 0.0, 0.10000000...</td>\n",
              "      <td>1957-01-01</td>\n",
              "    </tr>\n",
              "    <tr>\n",
              "      <th>1</th>\n",
              "      <td>0.960882</td>\n",
              "      <td>[-20.5, -19.100000381469727, -12.0, -17.700000...</td>\n",
              "      <td>1958-01-05</td>\n",
              "      <td>60.23</td>\n",
              "      <td>[0.0, 0.0, 0.0, 0.0, 0.0, 0.0, 0.0, 0.20000000...</td>\n",
              "      <td>1957-01-02</td>\n",
              "    </tr>\n",
              "    <tr>\n",
              "      <th>2</th>\n",
              "      <td>0.001</td>\n",
              "      <td>[-23.600000381469727, -22.5, -15.1000003814697...</td>\n",
              "      <td>1958-01-06</td>\n",
              "      <td>None</td>\n",
              "      <td>[0.10000000149011612, 0.0, 0.30000001192092896...</td>\n",
              "      <td>1957-01-03</td>\n",
              "    </tr>\n",
              "    <tr>\n",
              "      <th>3</th>\n",
              "      <td>0.001</td>\n",
              "      <td>[-16.200000762939453, -16.0, -14.1000003814697...</td>\n",
              "      <td>1958-01-07</td>\n",
              "      <td>None</td>\n",
              "      <td>[1.0, 0.0, 1.0, 1.100000023841858, 0.899999976...</td>\n",
              "      <td>1957-01-04</td>\n",
              "    </tr>\n",
              "    <tr>\n",
              "      <th>4</th>\n",
              "      <td>0.316796</td>\n",
              "      <td>[-7.900000095367432, -7.800000190734863, -9.5,...</td>\n",
              "      <td>1958-01-08</td>\n",
              "      <td>None</td>\n",
              "      <td>[9.300000190734863, 8.600000381469727, 8.0, 8....</td>\n",
              "      <td>1957-01-05</td>\n",
              "    </tr>\n",
              "    <tr>\n",
              "      <th>...</th>\n",
              "      <td>...</td>\n",
              "      <td>...</td>\n",
              "      <td>...</td>\n",
              "      <td>...</td>\n",
              "      <td>...</td>\n",
              "      <td>...</td>\n",
              "    </tr>\n",
              "    <tr>\n",
              "      <th>21541</th>\n",
              "      <td>1.812796</td>\n",
              "      <td>[-12.5, -11.699999809265137, -8.60000038146972...</td>\n",
              "      <td>2016-12-26</td>\n",
              "      <td>None</td>\n",
              "      <td>[2.200000047683716, 0.10000000149011612, 1.100...</td>\n",
              "      <td>2015-12-27</td>\n",
              "    </tr>\n",
              "    <tr>\n",
              "      <th>21542</th>\n",
              "      <td>None</td>\n",
              "      <td>[-12.5, -11.899999618530273, -9.10000038146972...</td>\n",
              "      <td>NaT</td>\n",
              "      <td>None</td>\n",
              "      <td>[5.5, 4.900000095367432, 8.300000190734863, 6....</td>\n",
              "      <td>2015-12-28</td>\n",
              "    </tr>\n",
              "    <tr>\n",
              "      <th>21543</th>\n",
              "      <td>None</td>\n",
              "      <td>[-11.899999618530273, -11.399999618530273, -8....</td>\n",
              "      <td>NaT</td>\n",
              "      <td>None</td>\n",
              "      <td>[1.7999999523162842, 1.7000000476837158, 2.099...</td>\n",
              "      <td>2015-12-29</td>\n",
              "    </tr>\n",
              "    <tr>\n",
              "      <th>21544</th>\n",
              "      <td>None</td>\n",
              "      <td>[-7.0, -6.5, -3.4000000953674316, -5.900000095...</td>\n",
              "      <td>NaT</td>\n",
              "      <td>None</td>\n",
              "      <td>[4.099999904632568, 3.5, 4.599999904632568, 5....</td>\n",
              "      <td>2015-12-30</td>\n",
              "    </tr>\n",
              "    <tr>\n",
              "      <th>21545</th>\n",
              "      <td>None</td>\n",
              "      <td>[-2.4000000953674316, -2.0999999046325684, 1.2...</td>\n",
              "      <td>NaT</td>\n",
              "      <td>None</td>\n",
              "      <td>[6.400000095367432, 7.400000095367432, 8.5, 8....</td>\n",
              "      <td>2015-12-31</td>\n",
              "    </tr>\n",
              "  </tbody>\n",
              "</table>\n",
              "<p>21546 rows × 6 columns</p>\n",
              "</div>\n",
              "      <button class=\"colab-df-convert\" onclick=\"convertToInteractive('df-8eedcd6c-310a-4e0b-984b-971ef94d4bbf')\"\n",
              "              title=\"Convert this dataframe to an interactive table.\"\n",
              "              style=\"display:none;\">\n",
              "        \n",
              "  <svg xmlns=\"http://www.w3.org/2000/svg\" height=\"24px\"viewBox=\"0 0 24 24\"\n",
              "       width=\"24px\">\n",
              "    <path d=\"M0 0h24v24H0V0z\" fill=\"none\"/>\n",
              "    <path d=\"M18.56 5.44l.94 2.06.94-2.06 2.06-.94-2.06-.94-.94-2.06-.94 2.06-2.06.94zm-11 1L8.5 8.5l.94-2.06 2.06-.94-2.06-.94L8.5 2.5l-.94 2.06-2.06.94zm10 10l.94 2.06.94-2.06 2.06-.94-2.06-.94-.94-2.06-.94 2.06-2.06.94z\"/><path d=\"M17.41 7.96l-1.37-1.37c-.4-.4-.92-.59-1.43-.59-.52 0-1.04.2-1.43.59L10.3 9.45l-7.72 7.72c-.78.78-.78 2.05 0 2.83L4 21.41c.39.39.9.59 1.41.59.51 0 1.02-.2 1.41-.59l7.78-7.78 2.81-2.81c.8-.78.8-2.07 0-2.86zM5.41 20L4 18.59l7.72-7.72 1.47 1.35L5.41 20z\"/>\n",
              "  </svg>\n",
              "      </button>\n",
              "      \n",
              "  <style>\n",
              "    .colab-df-container {\n",
              "      display:flex;\n",
              "      flex-wrap:wrap;\n",
              "      gap: 12px;\n",
              "    }\n",
              "\n",
              "    .colab-df-convert {\n",
              "      background-color: #E8F0FE;\n",
              "      border: none;\n",
              "      border-radius: 50%;\n",
              "      cursor: pointer;\n",
              "      display: none;\n",
              "      fill: #1967D2;\n",
              "      height: 32px;\n",
              "      padding: 0 0 0 0;\n",
              "      width: 32px;\n",
              "    }\n",
              "\n",
              "    .colab-df-convert:hover {\n",
              "      background-color: #E2EBFA;\n",
              "      box-shadow: 0px 1px 2px rgba(60, 64, 67, 0.3), 0px 1px 3px 1px rgba(60, 64, 67, 0.15);\n",
              "      fill: #174EA6;\n",
              "    }\n",
              "\n",
              "    [theme=dark] .colab-df-convert {\n",
              "      background-color: #3B4455;\n",
              "      fill: #D2E3FC;\n",
              "    }\n",
              "\n",
              "    [theme=dark] .colab-df-convert:hover {\n",
              "      background-color: #434B5C;\n",
              "      box-shadow: 0px 1px 3px 1px rgba(0, 0, 0, 0.15);\n",
              "      filter: drop-shadow(0px 1px 2px rgba(0, 0, 0, 0.3));\n",
              "      fill: #FFFFFF;\n",
              "    }\n",
              "  </style>\n",
              "\n",
              "      <script>\n",
              "        const buttonEl =\n",
              "          document.querySelector('#df-8eedcd6c-310a-4e0b-984b-971ef94d4bbf button.colab-df-convert');\n",
              "        buttonEl.style.display =\n",
              "          google.colab.kernel.accessAllowed ? 'block' : 'none';\n",
              "\n",
              "        async function convertToInteractive(key) {\n",
              "          const element = document.querySelector('#df-8eedcd6c-310a-4e0b-984b-971ef94d4bbf');\n",
              "          const dataTable =\n",
              "            await google.colab.kernel.invokeFunction('convertToInteractive',\n",
              "                                                     [key], {});\n",
              "          if (!dataTable) return;\n",
              "\n",
              "          const docLinkHtml = 'Like what you see? Visit the ' +\n",
              "            '<a target=\"_blank\" href=https://colab.research.google.com/notebooks/data_table.ipynb>data table notebook</a>'\n",
              "            + ' to learn more about interactive tables.';\n",
              "          element.innerHTML = '';\n",
              "          dataTable['output_type'] = 'display_data';\n",
              "          await google.colab.output.renderOutput(dataTable, element);\n",
              "          const docLink = document.createElement('div');\n",
              "          docLink.innerHTML = docLinkHtml;\n",
              "          element.appendChild(docLink);\n",
              "        }\n",
              "      </script>\n",
              "    </div>\n",
              "  </div>\n",
              "  "
            ]
          },
          "metadata": {},
          "execution_count": 9
        }
      ]
    },
    {
      "cell_type": "markdown",
      "source": [
        "### Hay un desface en la data, se separan en df_target y df predic, se usa merge con date como llave"
      ],
      "metadata": {
        "id": "TXQFTheGsSOe"
      }
    },
    {
      "cell_type": "code",
      "source": [
        "df_target=df[['flow_dates','flow']]\n",
        "df_target.sort_values(by='flow_dates')\n",
        "df_target=df_target.dropna()\n",
        "df_target"
      ],
      "metadata": {
        "colab": {
          "base_uri": "https://localhost:8080/",
          "height": 424
        },
        "id": "NUuPUocyoIVg",
        "outputId": "59bb6054-8382-4294-ac42-05c18b0431a6"
      },
      "execution_count": 10,
      "outputs": [
        {
          "output_type": "execute_result",
          "data": {
            "text/plain": [
              "      flow_dates      flow\n",
              "0     1958-01-04  1.723781\n",
              "1     1958-01-05  0.960882\n",
              "2     1958-01-06     0.001\n",
              "3     1958-01-07     0.001\n",
              "4     1958-01-08  0.316796\n",
              "...          ...       ...\n",
              "21537 2016-12-22   4.84329\n",
              "21538 2016-12-23   3.75697\n",
              "21539 2016-12-24  3.556818\n",
              "21540 2016-12-25  3.402133\n",
              "21541 2016-12-26  1.812796\n",
              "\n",
              "[21542 rows x 2 columns]"
            ],
            "text/html": [
              "\n",
              "  <div id=\"df-c058a833-74cb-433c-8a89-890d9a3f3f85\">\n",
              "    <div class=\"colab-df-container\">\n",
              "      <div>\n",
              "<style scoped>\n",
              "    .dataframe tbody tr th:only-of-type {\n",
              "        vertical-align: middle;\n",
              "    }\n",
              "\n",
              "    .dataframe tbody tr th {\n",
              "        vertical-align: top;\n",
              "    }\n",
              "\n",
              "    .dataframe thead th {\n",
              "        text-align: right;\n",
              "    }\n",
              "</style>\n",
              "<table border=\"1\" class=\"dataframe\">\n",
              "  <thead>\n",
              "    <tr style=\"text-align: right;\">\n",
              "      <th></th>\n",
              "      <th>flow_dates</th>\n",
              "      <th>flow</th>\n",
              "    </tr>\n",
              "  </thead>\n",
              "  <tbody>\n",
              "    <tr>\n",
              "      <th>0</th>\n",
              "      <td>1958-01-04</td>\n",
              "      <td>1.723781</td>\n",
              "    </tr>\n",
              "    <tr>\n",
              "      <th>1</th>\n",
              "      <td>1958-01-05</td>\n",
              "      <td>0.960882</td>\n",
              "    </tr>\n",
              "    <tr>\n",
              "      <th>2</th>\n",
              "      <td>1958-01-06</td>\n",
              "      <td>0.001</td>\n",
              "    </tr>\n",
              "    <tr>\n",
              "      <th>3</th>\n",
              "      <td>1958-01-07</td>\n",
              "      <td>0.001</td>\n",
              "    </tr>\n",
              "    <tr>\n",
              "      <th>4</th>\n",
              "      <td>1958-01-08</td>\n",
              "      <td>0.316796</td>\n",
              "    </tr>\n",
              "    <tr>\n",
              "      <th>...</th>\n",
              "      <td>...</td>\n",
              "      <td>...</td>\n",
              "    </tr>\n",
              "    <tr>\n",
              "      <th>21537</th>\n",
              "      <td>2016-12-22</td>\n",
              "      <td>4.84329</td>\n",
              "    </tr>\n",
              "    <tr>\n",
              "      <th>21538</th>\n",
              "      <td>2016-12-23</td>\n",
              "      <td>3.75697</td>\n",
              "    </tr>\n",
              "    <tr>\n",
              "      <th>21539</th>\n",
              "      <td>2016-12-24</td>\n",
              "      <td>3.556818</td>\n",
              "    </tr>\n",
              "    <tr>\n",
              "      <th>21540</th>\n",
              "      <td>2016-12-25</td>\n",
              "      <td>3.402133</td>\n",
              "    </tr>\n",
              "    <tr>\n",
              "      <th>21541</th>\n",
              "      <td>2016-12-26</td>\n",
              "      <td>1.812796</td>\n",
              "    </tr>\n",
              "  </tbody>\n",
              "</table>\n",
              "<p>21542 rows × 2 columns</p>\n",
              "</div>\n",
              "      <button class=\"colab-df-convert\" onclick=\"convertToInteractive('df-c058a833-74cb-433c-8a89-890d9a3f3f85')\"\n",
              "              title=\"Convert this dataframe to an interactive table.\"\n",
              "              style=\"display:none;\">\n",
              "        \n",
              "  <svg xmlns=\"http://www.w3.org/2000/svg\" height=\"24px\"viewBox=\"0 0 24 24\"\n",
              "       width=\"24px\">\n",
              "    <path d=\"M0 0h24v24H0V0z\" fill=\"none\"/>\n",
              "    <path d=\"M18.56 5.44l.94 2.06.94-2.06 2.06-.94-2.06-.94-.94-2.06-.94 2.06-2.06.94zm-11 1L8.5 8.5l.94-2.06 2.06-.94-2.06-.94L8.5 2.5l-.94 2.06-2.06.94zm10 10l.94 2.06.94-2.06 2.06-.94-2.06-.94-.94-2.06-.94 2.06-2.06.94z\"/><path d=\"M17.41 7.96l-1.37-1.37c-.4-.4-.92-.59-1.43-.59-.52 0-1.04.2-1.43.59L10.3 9.45l-7.72 7.72c-.78.78-.78 2.05 0 2.83L4 21.41c.39.39.9.59 1.41.59.51 0 1.02-.2 1.41-.59l7.78-7.78 2.81-2.81c.8-.78.8-2.07 0-2.86zM5.41 20L4 18.59l7.72-7.72 1.47 1.35L5.41 20z\"/>\n",
              "  </svg>\n",
              "      </button>\n",
              "      \n",
              "  <style>\n",
              "    .colab-df-container {\n",
              "      display:flex;\n",
              "      flex-wrap:wrap;\n",
              "      gap: 12px;\n",
              "    }\n",
              "\n",
              "    .colab-df-convert {\n",
              "      background-color: #E8F0FE;\n",
              "      border: none;\n",
              "      border-radius: 50%;\n",
              "      cursor: pointer;\n",
              "      display: none;\n",
              "      fill: #1967D2;\n",
              "      height: 32px;\n",
              "      padding: 0 0 0 0;\n",
              "      width: 32px;\n",
              "    }\n",
              "\n",
              "    .colab-df-convert:hover {\n",
              "      background-color: #E2EBFA;\n",
              "      box-shadow: 0px 1px 2px rgba(60, 64, 67, 0.3), 0px 1px 3px 1px rgba(60, 64, 67, 0.15);\n",
              "      fill: #174EA6;\n",
              "    }\n",
              "\n",
              "    [theme=dark] .colab-df-convert {\n",
              "      background-color: #3B4455;\n",
              "      fill: #D2E3FC;\n",
              "    }\n",
              "\n",
              "    [theme=dark] .colab-df-convert:hover {\n",
              "      background-color: #434B5C;\n",
              "      box-shadow: 0px 1px 3px 1px rgba(0, 0, 0, 0.15);\n",
              "      filter: drop-shadow(0px 1px 2px rgba(0, 0, 0, 0.3));\n",
              "      fill: #FFFFFF;\n",
              "    }\n",
              "  </style>\n",
              "\n",
              "      <script>\n",
              "        const buttonEl =\n",
              "          document.querySelector('#df-c058a833-74cb-433c-8a89-890d9a3f3f85 button.colab-df-convert');\n",
              "        buttonEl.style.display =\n",
              "          google.colab.kernel.accessAllowed ? 'block' : 'none';\n",
              "\n",
              "        async function convertToInteractive(key) {\n",
              "          const element = document.querySelector('#df-c058a833-74cb-433c-8a89-890d9a3f3f85');\n",
              "          const dataTable =\n",
              "            await google.colab.kernel.invokeFunction('convertToInteractive',\n",
              "                                                     [key], {});\n",
              "          if (!dataTable) return;\n",
              "\n",
              "          const docLinkHtml = 'Like what you see? Visit the ' +\n",
              "            '<a target=\"_blank\" href=https://colab.research.google.com/notebooks/data_table.ipynb>data table notebook</a>'\n",
              "            + ' to learn more about interactive tables.';\n",
              "          element.innerHTML = '';\n",
              "          dataTable['output_type'] = 'display_data';\n",
              "          await google.colab.output.renderOutput(dataTable, element);\n",
              "          const docLink = document.createElement('div');\n",
              "          docLink.innerHTML = docLinkHtml;\n",
              "          element.appendChild(docLink);\n",
              "        }\n",
              "      </script>\n",
              "    </div>\n",
              "  </div>\n",
              "  "
            ]
          },
          "metadata": {},
          "execution_count": 10
        }
      ]
    },
    {
      "cell_type": "code",
      "source": [
        "df_predic=df[['obs_dates','obs_tas','obs_pr']]\n",
        "df_predic.sort_values(by='obs_dates')\n",
        "df_predic=df_predic.dropna()\n",
        "df_predic\n"
      ],
      "metadata": {
        "colab": {
          "base_uri": "https://localhost:8080/",
          "height": 424
        },
        "id": "c0L29Nu_ryaQ",
        "outputId": "6562a3f7-8da8-444e-8c53-021d99b664cb"
      },
      "execution_count": 11,
      "outputs": [
        {
          "output_type": "execute_result",
          "data": {
            "text/plain": [
              "       obs_dates                                            obs_tas  \\\n",
              "0     1957-01-01  [-10.600000381469727, -9.699999809265137, -6.6...   \n",
              "1     1957-01-02  [-20.5, -19.100000381469727, -12.0, -17.700000...   \n",
              "2     1957-01-03  [-23.600000381469727, -22.5, -15.1000003814697...   \n",
              "3     1957-01-04  [-16.200000762939453, -16.0, -14.1000003814697...   \n",
              "4     1957-01-05  [-7.900000095367432, -7.800000190734863, -9.5,...   \n",
              "...          ...                                                ...   \n",
              "21541 2015-12-27  [-12.5, -11.699999809265137, -8.60000038146972...   \n",
              "21542 2015-12-28  [-12.5, -11.899999618530273, -9.10000038146972...   \n",
              "21543 2015-12-29  [-11.899999618530273, -11.399999618530273, -8....   \n",
              "21544 2015-12-30  [-7.0, -6.5, -3.4000000953674316, -5.900000095...   \n",
              "21545 2015-12-31  [-2.4000000953674316, -2.0999999046325684, 1.2...   \n",
              "\n",
              "                                                  obs_pr  \n",
              "0      [0.0, 0.0, 0.0, 0.0, 0.0, 0.0, 0.0, 0.10000000...  \n",
              "1      [0.0, 0.0, 0.0, 0.0, 0.0, 0.0, 0.0, 0.20000000...  \n",
              "2      [0.10000000149011612, 0.0, 0.30000001192092896...  \n",
              "3      [1.0, 0.0, 1.0, 1.100000023841858, 0.899999976...  \n",
              "4      [9.300000190734863, 8.600000381469727, 8.0, 8....  \n",
              "...                                                  ...  \n",
              "21541  [2.200000047683716, 0.10000000149011612, 1.100...  \n",
              "21542  [5.5, 4.900000095367432, 8.300000190734863, 6....  \n",
              "21543  [1.7999999523162842, 1.7000000476837158, 2.099...  \n",
              "21544  [4.099999904632568, 3.5, 4.599999904632568, 5....  \n",
              "21545  [6.400000095367432, 7.400000095367432, 8.5, 8....  \n",
              "\n",
              "[21546 rows x 3 columns]"
            ],
            "text/html": [
              "\n",
              "  <div id=\"df-e047ab0d-65e4-45ae-a019-07b8879d8c48\">\n",
              "    <div class=\"colab-df-container\">\n",
              "      <div>\n",
              "<style scoped>\n",
              "    .dataframe tbody tr th:only-of-type {\n",
              "        vertical-align: middle;\n",
              "    }\n",
              "\n",
              "    .dataframe tbody tr th {\n",
              "        vertical-align: top;\n",
              "    }\n",
              "\n",
              "    .dataframe thead th {\n",
              "        text-align: right;\n",
              "    }\n",
              "</style>\n",
              "<table border=\"1\" class=\"dataframe\">\n",
              "  <thead>\n",
              "    <tr style=\"text-align: right;\">\n",
              "      <th></th>\n",
              "      <th>obs_dates</th>\n",
              "      <th>obs_tas</th>\n",
              "      <th>obs_pr</th>\n",
              "    </tr>\n",
              "  </thead>\n",
              "  <tbody>\n",
              "    <tr>\n",
              "      <th>0</th>\n",
              "      <td>1957-01-01</td>\n",
              "      <td>[-10.600000381469727, -9.699999809265137, -6.6...</td>\n",
              "      <td>[0.0, 0.0, 0.0, 0.0, 0.0, 0.0, 0.0, 0.10000000...</td>\n",
              "    </tr>\n",
              "    <tr>\n",
              "      <th>1</th>\n",
              "      <td>1957-01-02</td>\n",
              "      <td>[-20.5, -19.100000381469727, -12.0, -17.700000...</td>\n",
              "      <td>[0.0, 0.0, 0.0, 0.0, 0.0, 0.0, 0.0, 0.20000000...</td>\n",
              "    </tr>\n",
              "    <tr>\n",
              "      <th>2</th>\n",
              "      <td>1957-01-03</td>\n",
              "      <td>[-23.600000381469727, -22.5, -15.1000003814697...</td>\n",
              "      <td>[0.10000000149011612, 0.0, 0.30000001192092896...</td>\n",
              "    </tr>\n",
              "    <tr>\n",
              "      <th>3</th>\n",
              "      <td>1957-01-04</td>\n",
              "      <td>[-16.200000762939453, -16.0, -14.1000003814697...</td>\n",
              "      <td>[1.0, 0.0, 1.0, 1.100000023841858, 0.899999976...</td>\n",
              "    </tr>\n",
              "    <tr>\n",
              "      <th>4</th>\n",
              "      <td>1957-01-05</td>\n",
              "      <td>[-7.900000095367432, -7.800000190734863, -9.5,...</td>\n",
              "      <td>[9.300000190734863, 8.600000381469727, 8.0, 8....</td>\n",
              "    </tr>\n",
              "    <tr>\n",
              "      <th>...</th>\n",
              "      <td>...</td>\n",
              "      <td>...</td>\n",
              "      <td>...</td>\n",
              "    </tr>\n",
              "    <tr>\n",
              "      <th>21541</th>\n",
              "      <td>2015-12-27</td>\n",
              "      <td>[-12.5, -11.699999809265137, -8.60000038146972...</td>\n",
              "      <td>[2.200000047683716, 0.10000000149011612, 1.100...</td>\n",
              "    </tr>\n",
              "    <tr>\n",
              "      <th>21542</th>\n",
              "      <td>2015-12-28</td>\n",
              "      <td>[-12.5, -11.899999618530273, -9.10000038146972...</td>\n",
              "      <td>[5.5, 4.900000095367432, 8.300000190734863, 6....</td>\n",
              "    </tr>\n",
              "    <tr>\n",
              "      <th>21543</th>\n",
              "      <td>2015-12-29</td>\n",
              "      <td>[-11.899999618530273, -11.399999618530273, -8....</td>\n",
              "      <td>[1.7999999523162842, 1.7000000476837158, 2.099...</td>\n",
              "    </tr>\n",
              "    <tr>\n",
              "      <th>21544</th>\n",
              "      <td>2015-12-30</td>\n",
              "      <td>[-7.0, -6.5, -3.4000000953674316, -5.900000095...</td>\n",
              "      <td>[4.099999904632568, 3.5, 4.599999904632568, 5....</td>\n",
              "    </tr>\n",
              "    <tr>\n",
              "      <th>21545</th>\n",
              "      <td>2015-12-31</td>\n",
              "      <td>[-2.4000000953674316, -2.0999999046325684, 1.2...</td>\n",
              "      <td>[6.400000095367432, 7.400000095367432, 8.5, 8....</td>\n",
              "    </tr>\n",
              "  </tbody>\n",
              "</table>\n",
              "<p>21546 rows × 3 columns</p>\n",
              "</div>\n",
              "      <button class=\"colab-df-convert\" onclick=\"convertToInteractive('df-e047ab0d-65e4-45ae-a019-07b8879d8c48')\"\n",
              "              title=\"Convert this dataframe to an interactive table.\"\n",
              "              style=\"display:none;\">\n",
              "        \n",
              "  <svg xmlns=\"http://www.w3.org/2000/svg\" height=\"24px\"viewBox=\"0 0 24 24\"\n",
              "       width=\"24px\">\n",
              "    <path d=\"M0 0h24v24H0V0z\" fill=\"none\"/>\n",
              "    <path d=\"M18.56 5.44l.94 2.06.94-2.06 2.06-.94-2.06-.94-.94-2.06-.94 2.06-2.06.94zm-11 1L8.5 8.5l.94-2.06 2.06-.94-2.06-.94L8.5 2.5l-.94 2.06-2.06.94zm10 10l.94 2.06.94-2.06 2.06-.94-2.06-.94-.94-2.06-.94 2.06-2.06.94z\"/><path d=\"M17.41 7.96l-1.37-1.37c-.4-.4-.92-.59-1.43-.59-.52 0-1.04.2-1.43.59L10.3 9.45l-7.72 7.72c-.78.78-.78 2.05 0 2.83L4 21.41c.39.39.9.59 1.41.59.51 0 1.02-.2 1.41-.59l7.78-7.78 2.81-2.81c.8-.78.8-2.07 0-2.86zM5.41 20L4 18.59l7.72-7.72 1.47 1.35L5.41 20z\"/>\n",
              "  </svg>\n",
              "      </button>\n",
              "      \n",
              "  <style>\n",
              "    .colab-df-container {\n",
              "      display:flex;\n",
              "      flex-wrap:wrap;\n",
              "      gap: 12px;\n",
              "    }\n",
              "\n",
              "    .colab-df-convert {\n",
              "      background-color: #E8F0FE;\n",
              "      border: none;\n",
              "      border-radius: 50%;\n",
              "      cursor: pointer;\n",
              "      display: none;\n",
              "      fill: #1967D2;\n",
              "      height: 32px;\n",
              "      padding: 0 0 0 0;\n",
              "      width: 32px;\n",
              "    }\n",
              "\n",
              "    .colab-df-convert:hover {\n",
              "      background-color: #E2EBFA;\n",
              "      box-shadow: 0px 1px 2px rgba(60, 64, 67, 0.3), 0px 1px 3px 1px rgba(60, 64, 67, 0.15);\n",
              "      fill: #174EA6;\n",
              "    }\n",
              "\n",
              "    [theme=dark] .colab-df-convert {\n",
              "      background-color: #3B4455;\n",
              "      fill: #D2E3FC;\n",
              "    }\n",
              "\n",
              "    [theme=dark] .colab-df-convert:hover {\n",
              "      background-color: #434B5C;\n",
              "      box-shadow: 0px 1px 3px 1px rgba(0, 0, 0, 0.15);\n",
              "      filter: drop-shadow(0px 1px 2px rgba(0, 0, 0, 0.3));\n",
              "      fill: #FFFFFF;\n",
              "    }\n",
              "  </style>\n",
              "\n",
              "      <script>\n",
              "        const buttonEl =\n",
              "          document.querySelector('#df-e047ab0d-65e4-45ae-a019-07b8879d8c48 button.colab-df-convert');\n",
              "        buttonEl.style.display =\n",
              "          google.colab.kernel.accessAllowed ? 'block' : 'none';\n",
              "\n",
              "        async function convertToInteractive(key) {\n",
              "          const element = document.querySelector('#df-e047ab0d-65e4-45ae-a019-07b8879d8c48');\n",
              "          const dataTable =\n",
              "            await google.colab.kernel.invokeFunction('convertToInteractive',\n",
              "                                                     [key], {});\n",
              "          if (!dataTable) return;\n",
              "\n",
              "          const docLinkHtml = 'Like what you see? Visit the ' +\n",
              "            '<a target=\"_blank\" href=https://colab.research.google.com/notebooks/data_table.ipynb>data table notebook</a>'\n",
              "            + ' to learn more about interactive tables.';\n",
              "          element.innerHTML = '';\n",
              "          dataTable['output_type'] = 'display_data';\n",
              "          await google.colab.output.renderOutput(dataTable, element);\n",
              "          const docLink = document.createElement('div');\n",
              "          docLink.innerHTML = docLinkHtml;\n",
              "          element.appendChild(docLink);\n",
              "        }\n",
              "      </script>\n",
              "    </div>\n",
              "  </div>\n",
              "  "
            ]
          },
          "metadata": {},
          "execution_count": 11
        }
      ]
    },
    {
      "cell_type": "markdown",
      "source": [
        "### Se hace el merge tomando como llaves las fechas, el resultado es un df con fechas que ya hacen match"
      ],
      "metadata": {
        "id": "2LgigK16vQyt"
      }
    },
    {
      "cell_type": "code",
      "source": [
        "df_final=df_predic.merge(df_target,how='inner',left_on='obs_dates',right_on='flow_dates')\n",
        "df_final"
      ],
      "metadata": {
        "colab": {
          "base_uri": "https://localhost:8080/",
          "height": 424
        },
        "id": "134KJ0xmslx_",
        "outputId": "08f8d507-3d60-44c3-d3aa-7a7495ce9dfa"
      },
      "execution_count": 12,
      "outputs": [
        {
          "output_type": "execute_result",
          "data": {
            "text/plain": [
              "       obs_dates                                            obs_tas  \\\n",
              "0     1958-01-04  [-12.800000190734863, -13.0, -13.0, -12.5, -12...   \n",
              "1     1958-01-05  [-7.800000190734863, -7.900000095367432, -8.39...   \n",
              "2     1958-01-06  [-11.0, -9.899999618530273, -6.5, -8.5, -9.0, ...   \n",
              "3     1958-01-07  [-13.199999809265137, -12.199999809265137, -7....   \n",
              "4     1958-01-08  [-19.899999618530273, -19.299999237060547, -15...   \n",
              "...          ...                                                ...   \n",
              "21173 2015-12-27  [-12.5, -11.699999809265137, -8.60000038146972...   \n",
              "21174 2015-12-28  [-12.5, -11.899999618530273, -9.10000038146972...   \n",
              "21175 2015-12-29  [-11.899999618530273, -11.399999618530273, -8....   \n",
              "21176 2015-12-30  [-7.0, -6.5, -3.4000000953674316, -5.900000095...   \n",
              "21177 2015-12-31  [-2.4000000953674316, -2.0999999046325684, 1.2...   \n",
              "\n",
              "                                                  obs_pr flow_dates      flow  \n",
              "0          [0.0, 0.0, 0.0, 0.0, 0.0, 0.0, 0.0, 0.0, 0.0] 1958-01-04  1.723781  \n",
              "1      [2.0, 2.200000047683716, 3.0, 3.29999995231628... 1958-01-05  0.960882  \n",
              "2      [12.699999809265137, 11.0, 16.5, 12.5, 11.1999... 1958-01-06     0.001  \n",
              "3      [6.599999904632568, 6.900000095367432, 9.60000... 1958-01-07     0.001  \n",
              "4      [3.4000000953674316, 3.5999999046325684, 2.700... 1958-01-08  0.316796  \n",
              "...                                                  ...        ...       ...  \n",
              "21173  [2.200000047683716, 0.10000000149011612, 1.100... 2015-12-27   2.17704  \n",
              "21174  [5.5, 4.900000095367432, 8.300000190734863, 6.... 2015-12-28   4.87625  \n",
              "21175  [1.7999999523162842, 1.7000000476837158, 2.099... 2015-12-29   4.99884  \n",
              "21176  [4.099999904632568, 3.5, 4.599999904632568, 5.... 2015-12-30  4.428777  \n",
              "21177  [6.400000095367432, 7.400000095367432, 8.5, 8.... 2015-12-31  4.047925  \n",
              "\n",
              "[21178 rows x 5 columns]"
            ],
            "text/html": [
              "\n",
              "  <div id=\"df-a04d8680-fe2c-4bce-86fb-586afb165f69\">\n",
              "    <div class=\"colab-df-container\">\n",
              "      <div>\n",
              "<style scoped>\n",
              "    .dataframe tbody tr th:only-of-type {\n",
              "        vertical-align: middle;\n",
              "    }\n",
              "\n",
              "    .dataframe tbody tr th {\n",
              "        vertical-align: top;\n",
              "    }\n",
              "\n",
              "    .dataframe thead th {\n",
              "        text-align: right;\n",
              "    }\n",
              "</style>\n",
              "<table border=\"1\" class=\"dataframe\">\n",
              "  <thead>\n",
              "    <tr style=\"text-align: right;\">\n",
              "      <th></th>\n",
              "      <th>obs_dates</th>\n",
              "      <th>obs_tas</th>\n",
              "      <th>obs_pr</th>\n",
              "      <th>flow_dates</th>\n",
              "      <th>flow</th>\n",
              "    </tr>\n",
              "  </thead>\n",
              "  <tbody>\n",
              "    <tr>\n",
              "      <th>0</th>\n",
              "      <td>1958-01-04</td>\n",
              "      <td>[-12.800000190734863, -13.0, -13.0, -12.5, -12...</td>\n",
              "      <td>[0.0, 0.0, 0.0, 0.0, 0.0, 0.0, 0.0, 0.0, 0.0]</td>\n",
              "      <td>1958-01-04</td>\n",
              "      <td>1.723781</td>\n",
              "    </tr>\n",
              "    <tr>\n",
              "      <th>1</th>\n",
              "      <td>1958-01-05</td>\n",
              "      <td>[-7.800000190734863, -7.900000095367432, -8.39...</td>\n",
              "      <td>[2.0, 2.200000047683716, 3.0, 3.29999995231628...</td>\n",
              "      <td>1958-01-05</td>\n",
              "      <td>0.960882</td>\n",
              "    </tr>\n",
              "    <tr>\n",
              "      <th>2</th>\n",
              "      <td>1958-01-06</td>\n",
              "      <td>[-11.0, -9.899999618530273, -6.5, -8.5, -9.0, ...</td>\n",
              "      <td>[12.699999809265137, 11.0, 16.5, 12.5, 11.1999...</td>\n",
              "      <td>1958-01-06</td>\n",
              "      <td>0.001</td>\n",
              "    </tr>\n",
              "    <tr>\n",
              "      <th>3</th>\n",
              "      <td>1958-01-07</td>\n",
              "      <td>[-13.199999809265137, -12.199999809265137, -7....</td>\n",
              "      <td>[6.599999904632568, 6.900000095367432, 9.60000...</td>\n",
              "      <td>1958-01-07</td>\n",
              "      <td>0.001</td>\n",
              "    </tr>\n",
              "    <tr>\n",
              "      <th>4</th>\n",
              "      <td>1958-01-08</td>\n",
              "      <td>[-19.899999618530273, -19.299999237060547, -15...</td>\n",
              "      <td>[3.4000000953674316, 3.5999999046325684, 2.700...</td>\n",
              "      <td>1958-01-08</td>\n",
              "      <td>0.316796</td>\n",
              "    </tr>\n",
              "    <tr>\n",
              "      <th>...</th>\n",
              "      <td>...</td>\n",
              "      <td>...</td>\n",
              "      <td>...</td>\n",
              "      <td>...</td>\n",
              "      <td>...</td>\n",
              "    </tr>\n",
              "    <tr>\n",
              "      <th>21173</th>\n",
              "      <td>2015-12-27</td>\n",
              "      <td>[-12.5, -11.699999809265137, -8.60000038146972...</td>\n",
              "      <td>[2.200000047683716, 0.10000000149011612, 1.100...</td>\n",
              "      <td>2015-12-27</td>\n",
              "      <td>2.17704</td>\n",
              "    </tr>\n",
              "    <tr>\n",
              "      <th>21174</th>\n",
              "      <td>2015-12-28</td>\n",
              "      <td>[-12.5, -11.899999618530273, -9.10000038146972...</td>\n",
              "      <td>[5.5, 4.900000095367432, 8.300000190734863, 6....</td>\n",
              "      <td>2015-12-28</td>\n",
              "      <td>4.87625</td>\n",
              "    </tr>\n",
              "    <tr>\n",
              "      <th>21175</th>\n",
              "      <td>2015-12-29</td>\n",
              "      <td>[-11.899999618530273, -11.399999618530273, -8....</td>\n",
              "      <td>[1.7999999523162842, 1.7000000476837158, 2.099...</td>\n",
              "      <td>2015-12-29</td>\n",
              "      <td>4.99884</td>\n",
              "    </tr>\n",
              "    <tr>\n",
              "      <th>21176</th>\n",
              "      <td>2015-12-30</td>\n",
              "      <td>[-7.0, -6.5, -3.4000000953674316, -5.900000095...</td>\n",
              "      <td>[4.099999904632568, 3.5, 4.599999904632568, 5....</td>\n",
              "      <td>2015-12-30</td>\n",
              "      <td>4.428777</td>\n",
              "    </tr>\n",
              "    <tr>\n",
              "      <th>21177</th>\n",
              "      <td>2015-12-31</td>\n",
              "      <td>[-2.4000000953674316, -2.0999999046325684, 1.2...</td>\n",
              "      <td>[6.400000095367432, 7.400000095367432, 8.5, 8....</td>\n",
              "      <td>2015-12-31</td>\n",
              "      <td>4.047925</td>\n",
              "    </tr>\n",
              "  </tbody>\n",
              "</table>\n",
              "<p>21178 rows × 5 columns</p>\n",
              "</div>\n",
              "      <button class=\"colab-df-convert\" onclick=\"convertToInteractive('df-a04d8680-fe2c-4bce-86fb-586afb165f69')\"\n",
              "              title=\"Convert this dataframe to an interactive table.\"\n",
              "              style=\"display:none;\">\n",
              "        \n",
              "  <svg xmlns=\"http://www.w3.org/2000/svg\" height=\"24px\"viewBox=\"0 0 24 24\"\n",
              "       width=\"24px\">\n",
              "    <path d=\"M0 0h24v24H0V0z\" fill=\"none\"/>\n",
              "    <path d=\"M18.56 5.44l.94 2.06.94-2.06 2.06-.94-2.06-.94-.94-2.06-.94 2.06-2.06.94zm-11 1L8.5 8.5l.94-2.06 2.06-.94-2.06-.94L8.5 2.5l-.94 2.06-2.06.94zm10 10l.94 2.06.94-2.06 2.06-.94-2.06-.94-.94-2.06-.94 2.06-2.06.94z\"/><path d=\"M17.41 7.96l-1.37-1.37c-.4-.4-.92-.59-1.43-.59-.52 0-1.04.2-1.43.59L10.3 9.45l-7.72 7.72c-.78.78-.78 2.05 0 2.83L4 21.41c.39.39.9.59 1.41.59.51 0 1.02-.2 1.41-.59l7.78-7.78 2.81-2.81c.8-.78.8-2.07 0-2.86zM5.41 20L4 18.59l7.72-7.72 1.47 1.35L5.41 20z\"/>\n",
              "  </svg>\n",
              "      </button>\n",
              "      \n",
              "  <style>\n",
              "    .colab-df-container {\n",
              "      display:flex;\n",
              "      flex-wrap:wrap;\n",
              "      gap: 12px;\n",
              "    }\n",
              "\n",
              "    .colab-df-convert {\n",
              "      background-color: #E8F0FE;\n",
              "      border: none;\n",
              "      border-radius: 50%;\n",
              "      cursor: pointer;\n",
              "      display: none;\n",
              "      fill: #1967D2;\n",
              "      height: 32px;\n",
              "      padding: 0 0 0 0;\n",
              "      width: 32px;\n",
              "    }\n",
              "\n",
              "    .colab-df-convert:hover {\n",
              "      background-color: #E2EBFA;\n",
              "      box-shadow: 0px 1px 2px rgba(60, 64, 67, 0.3), 0px 1px 3px 1px rgba(60, 64, 67, 0.15);\n",
              "      fill: #174EA6;\n",
              "    }\n",
              "\n",
              "    [theme=dark] .colab-df-convert {\n",
              "      background-color: #3B4455;\n",
              "      fill: #D2E3FC;\n",
              "    }\n",
              "\n",
              "    [theme=dark] .colab-df-convert:hover {\n",
              "      background-color: #434B5C;\n",
              "      box-shadow: 0px 1px 3px 1px rgba(0, 0, 0, 0.15);\n",
              "      filter: drop-shadow(0px 1px 2px rgba(0, 0, 0, 0.3));\n",
              "      fill: #FFFFFF;\n",
              "    }\n",
              "  </style>\n",
              "\n",
              "      <script>\n",
              "        const buttonEl =\n",
              "          document.querySelector('#df-a04d8680-fe2c-4bce-86fb-586afb165f69 button.colab-df-convert');\n",
              "        buttonEl.style.display =\n",
              "          google.colab.kernel.accessAllowed ? 'block' : 'none';\n",
              "\n",
              "        async function convertToInteractive(key) {\n",
              "          const element = document.querySelector('#df-a04d8680-fe2c-4bce-86fb-586afb165f69');\n",
              "          const dataTable =\n",
              "            await google.colab.kernel.invokeFunction('convertToInteractive',\n",
              "                                                     [key], {});\n",
              "          if (!dataTable) return;\n",
              "\n",
              "          const docLinkHtml = 'Like what you see? Visit the ' +\n",
              "            '<a target=\"_blank\" href=https://colab.research.google.com/notebooks/data_table.ipynb>data table notebook</a>'\n",
              "            + ' to learn more about interactive tables.';\n",
              "          element.innerHTML = '';\n",
              "          dataTable['output_type'] = 'display_data';\n",
              "          await google.colab.output.renderOutput(dataTable, element);\n",
              "          const docLink = document.createElement('div');\n",
              "          docLink.innerHTML = docLinkHtml;\n",
              "          element.appendChild(docLink);\n",
              "        }\n",
              "      </script>\n",
              "    </div>\n",
              "  </div>\n",
              "  "
            ]
          },
          "metadata": {},
          "execution_count": 12
        }
      ]
    },
    {
      "cell_type": "markdown",
      "source": [
        "### Climate AI sugiere usar o PCA o simplemente promediar los datos vectorizados en lugar de tratarlos como variables distintas"
      ],
      "metadata": {
        "id": "iI3oE9aoveG9"
      }
    },
    {
      "cell_type": "code",
      "source": [
        "df_final['temperatures'] = df_final['obs_tas'].apply(lambda x: np.mean(x))\n",
        "df_final"
      ],
      "metadata": {
        "id": "v10JkLX-vmmf",
        "colab": {
          "base_uri": "https://localhost:8080/",
          "height": 424
        },
        "outputId": "368bc673-d1f7-4b27-c6ab-23e3aea25d60"
      },
      "execution_count": 13,
      "outputs": [
        {
          "output_type": "execute_result",
          "data": {
            "text/plain": [
              "       obs_dates                                            obs_tas  \\\n",
              "0     1958-01-04  [-12.800000190734863, -13.0, -13.0, -12.5, -12...   \n",
              "1     1958-01-05  [-7.800000190734863, -7.900000095367432, -8.39...   \n",
              "2     1958-01-06  [-11.0, -9.899999618530273, -6.5, -8.5, -9.0, ...   \n",
              "3     1958-01-07  [-13.199999809265137, -12.199999809265137, -7....   \n",
              "4     1958-01-08  [-19.899999618530273, -19.299999237060547, -15...   \n",
              "...          ...                                                ...   \n",
              "21173 2015-12-27  [-12.5, -11.699999809265137, -8.60000038146972...   \n",
              "21174 2015-12-28  [-12.5, -11.899999618530273, -9.10000038146972...   \n",
              "21175 2015-12-29  [-11.899999618530273, -11.399999618530273, -8....   \n",
              "21176 2015-12-30  [-7.0, -6.5, -3.4000000953674316, -5.900000095...   \n",
              "21177 2015-12-31  [-2.4000000953674316, -2.0999999046325684, 1.2...   \n",
              "\n",
              "                                                  obs_pr flow_dates      flow  \\\n",
              "0          [0.0, 0.0, 0.0, 0.0, 0.0, 0.0, 0.0, 0.0, 0.0] 1958-01-04  1.723781   \n",
              "1      [2.0, 2.200000047683716, 3.0, 3.29999995231628... 1958-01-05  0.960882   \n",
              "2      [12.699999809265137, 11.0, 16.5, 12.5, 11.1999... 1958-01-06     0.001   \n",
              "3      [6.599999904632568, 6.900000095367432, 9.60000... 1958-01-07     0.001   \n",
              "4      [3.4000000953674316, 3.5999999046325684, 2.700... 1958-01-08  0.316796   \n",
              "...                                                  ...        ...       ...   \n",
              "21173  [2.200000047683716, 0.10000000149011612, 1.100... 2015-12-27   2.17704   \n",
              "21174  [5.5, 4.900000095367432, 8.300000190734863, 6.... 2015-12-28   4.87625   \n",
              "21175  [1.7999999523162842, 1.7000000476837158, 2.099... 2015-12-29   4.99884   \n",
              "21176  [4.099999904632568, 3.5, 4.599999904632568, 5.... 2015-12-30  4.428777   \n",
              "21177  [6.400000095367432, 7.400000095367432, 8.5, 8.... 2015-12-31  4.047925   \n",
              "\n",
              "       temperatures  \n",
              "0        -12.655556  \n",
              "1         -7.722222  \n",
              "2         -8.088889  \n",
              "3        -10.122222  \n",
              "4        -17.455555  \n",
              "...             ...  \n",
              "21173     -9.944444  \n",
              "21174    -10.288889  \n",
              "21175     -9.411111  \n",
              "21176     -5.055556  \n",
              "21177     -0.733333  \n",
              "\n",
              "[21178 rows x 6 columns]"
            ],
            "text/html": [
              "\n",
              "  <div id=\"df-3494af69-e707-4f5e-a5a5-72eadb704b5b\">\n",
              "    <div class=\"colab-df-container\">\n",
              "      <div>\n",
              "<style scoped>\n",
              "    .dataframe tbody tr th:only-of-type {\n",
              "        vertical-align: middle;\n",
              "    }\n",
              "\n",
              "    .dataframe tbody tr th {\n",
              "        vertical-align: top;\n",
              "    }\n",
              "\n",
              "    .dataframe thead th {\n",
              "        text-align: right;\n",
              "    }\n",
              "</style>\n",
              "<table border=\"1\" class=\"dataframe\">\n",
              "  <thead>\n",
              "    <tr style=\"text-align: right;\">\n",
              "      <th></th>\n",
              "      <th>obs_dates</th>\n",
              "      <th>obs_tas</th>\n",
              "      <th>obs_pr</th>\n",
              "      <th>flow_dates</th>\n",
              "      <th>flow</th>\n",
              "      <th>temperatures</th>\n",
              "    </tr>\n",
              "  </thead>\n",
              "  <tbody>\n",
              "    <tr>\n",
              "      <th>0</th>\n",
              "      <td>1958-01-04</td>\n",
              "      <td>[-12.800000190734863, -13.0, -13.0, -12.5, -12...</td>\n",
              "      <td>[0.0, 0.0, 0.0, 0.0, 0.0, 0.0, 0.0, 0.0, 0.0]</td>\n",
              "      <td>1958-01-04</td>\n",
              "      <td>1.723781</td>\n",
              "      <td>-12.655556</td>\n",
              "    </tr>\n",
              "    <tr>\n",
              "      <th>1</th>\n",
              "      <td>1958-01-05</td>\n",
              "      <td>[-7.800000190734863, -7.900000095367432, -8.39...</td>\n",
              "      <td>[2.0, 2.200000047683716, 3.0, 3.29999995231628...</td>\n",
              "      <td>1958-01-05</td>\n",
              "      <td>0.960882</td>\n",
              "      <td>-7.722222</td>\n",
              "    </tr>\n",
              "    <tr>\n",
              "      <th>2</th>\n",
              "      <td>1958-01-06</td>\n",
              "      <td>[-11.0, -9.899999618530273, -6.5, -8.5, -9.0, ...</td>\n",
              "      <td>[12.699999809265137, 11.0, 16.5, 12.5, 11.1999...</td>\n",
              "      <td>1958-01-06</td>\n",
              "      <td>0.001</td>\n",
              "      <td>-8.088889</td>\n",
              "    </tr>\n",
              "    <tr>\n",
              "      <th>3</th>\n",
              "      <td>1958-01-07</td>\n",
              "      <td>[-13.199999809265137, -12.199999809265137, -7....</td>\n",
              "      <td>[6.599999904632568, 6.900000095367432, 9.60000...</td>\n",
              "      <td>1958-01-07</td>\n",
              "      <td>0.001</td>\n",
              "      <td>-10.122222</td>\n",
              "    </tr>\n",
              "    <tr>\n",
              "      <th>4</th>\n",
              "      <td>1958-01-08</td>\n",
              "      <td>[-19.899999618530273, -19.299999237060547, -15...</td>\n",
              "      <td>[3.4000000953674316, 3.5999999046325684, 2.700...</td>\n",
              "      <td>1958-01-08</td>\n",
              "      <td>0.316796</td>\n",
              "      <td>-17.455555</td>\n",
              "    </tr>\n",
              "    <tr>\n",
              "      <th>...</th>\n",
              "      <td>...</td>\n",
              "      <td>...</td>\n",
              "      <td>...</td>\n",
              "      <td>...</td>\n",
              "      <td>...</td>\n",
              "      <td>...</td>\n",
              "    </tr>\n",
              "    <tr>\n",
              "      <th>21173</th>\n",
              "      <td>2015-12-27</td>\n",
              "      <td>[-12.5, -11.699999809265137, -8.60000038146972...</td>\n",
              "      <td>[2.200000047683716, 0.10000000149011612, 1.100...</td>\n",
              "      <td>2015-12-27</td>\n",
              "      <td>2.17704</td>\n",
              "      <td>-9.944444</td>\n",
              "    </tr>\n",
              "    <tr>\n",
              "      <th>21174</th>\n",
              "      <td>2015-12-28</td>\n",
              "      <td>[-12.5, -11.899999618530273, -9.10000038146972...</td>\n",
              "      <td>[5.5, 4.900000095367432, 8.300000190734863, 6....</td>\n",
              "      <td>2015-12-28</td>\n",
              "      <td>4.87625</td>\n",
              "      <td>-10.288889</td>\n",
              "    </tr>\n",
              "    <tr>\n",
              "      <th>21175</th>\n",
              "      <td>2015-12-29</td>\n",
              "      <td>[-11.899999618530273, -11.399999618530273, -8....</td>\n",
              "      <td>[1.7999999523162842, 1.7000000476837158, 2.099...</td>\n",
              "      <td>2015-12-29</td>\n",
              "      <td>4.99884</td>\n",
              "      <td>-9.411111</td>\n",
              "    </tr>\n",
              "    <tr>\n",
              "      <th>21176</th>\n",
              "      <td>2015-12-30</td>\n",
              "      <td>[-7.0, -6.5, -3.4000000953674316, -5.900000095...</td>\n",
              "      <td>[4.099999904632568, 3.5, 4.599999904632568, 5....</td>\n",
              "      <td>2015-12-30</td>\n",
              "      <td>4.428777</td>\n",
              "      <td>-5.055556</td>\n",
              "    </tr>\n",
              "    <tr>\n",
              "      <th>21177</th>\n",
              "      <td>2015-12-31</td>\n",
              "      <td>[-2.4000000953674316, -2.0999999046325684, 1.2...</td>\n",
              "      <td>[6.400000095367432, 7.400000095367432, 8.5, 8....</td>\n",
              "      <td>2015-12-31</td>\n",
              "      <td>4.047925</td>\n",
              "      <td>-0.733333</td>\n",
              "    </tr>\n",
              "  </tbody>\n",
              "</table>\n",
              "<p>21178 rows × 6 columns</p>\n",
              "</div>\n",
              "      <button class=\"colab-df-convert\" onclick=\"convertToInteractive('df-3494af69-e707-4f5e-a5a5-72eadb704b5b')\"\n",
              "              title=\"Convert this dataframe to an interactive table.\"\n",
              "              style=\"display:none;\">\n",
              "        \n",
              "  <svg xmlns=\"http://www.w3.org/2000/svg\" height=\"24px\"viewBox=\"0 0 24 24\"\n",
              "       width=\"24px\">\n",
              "    <path d=\"M0 0h24v24H0V0z\" fill=\"none\"/>\n",
              "    <path d=\"M18.56 5.44l.94 2.06.94-2.06 2.06-.94-2.06-.94-.94-2.06-.94 2.06-2.06.94zm-11 1L8.5 8.5l.94-2.06 2.06-.94-2.06-.94L8.5 2.5l-.94 2.06-2.06.94zm10 10l.94 2.06.94-2.06 2.06-.94-2.06-.94-.94-2.06-.94 2.06-2.06.94z\"/><path d=\"M17.41 7.96l-1.37-1.37c-.4-.4-.92-.59-1.43-.59-.52 0-1.04.2-1.43.59L10.3 9.45l-7.72 7.72c-.78.78-.78 2.05 0 2.83L4 21.41c.39.39.9.59 1.41.59.51 0 1.02-.2 1.41-.59l7.78-7.78 2.81-2.81c.8-.78.8-2.07 0-2.86zM5.41 20L4 18.59l7.72-7.72 1.47 1.35L5.41 20z\"/>\n",
              "  </svg>\n",
              "      </button>\n",
              "      \n",
              "  <style>\n",
              "    .colab-df-container {\n",
              "      display:flex;\n",
              "      flex-wrap:wrap;\n",
              "      gap: 12px;\n",
              "    }\n",
              "\n",
              "    .colab-df-convert {\n",
              "      background-color: #E8F0FE;\n",
              "      border: none;\n",
              "      border-radius: 50%;\n",
              "      cursor: pointer;\n",
              "      display: none;\n",
              "      fill: #1967D2;\n",
              "      height: 32px;\n",
              "      padding: 0 0 0 0;\n",
              "      width: 32px;\n",
              "    }\n",
              "\n",
              "    .colab-df-convert:hover {\n",
              "      background-color: #E2EBFA;\n",
              "      box-shadow: 0px 1px 2px rgba(60, 64, 67, 0.3), 0px 1px 3px 1px rgba(60, 64, 67, 0.15);\n",
              "      fill: #174EA6;\n",
              "    }\n",
              "\n",
              "    [theme=dark] .colab-df-convert {\n",
              "      background-color: #3B4455;\n",
              "      fill: #D2E3FC;\n",
              "    }\n",
              "\n",
              "    [theme=dark] .colab-df-convert:hover {\n",
              "      background-color: #434B5C;\n",
              "      box-shadow: 0px 1px 3px 1px rgba(0, 0, 0, 0.15);\n",
              "      filter: drop-shadow(0px 1px 2px rgba(0, 0, 0, 0.3));\n",
              "      fill: #FFFFFF;\n",
              "    }\n",
              "  </style>\n",
              "\n",
              "      <script>\n",
              "        const buttonEl =\n",
              "          document.querySelector('#df-3494af69-e707-4f5e-a5a5-72eadb704b5b button.colab-df-convert');\n",
              "        buttonEl.style.display =\n",
              "          google.colab.kernel.accessAllowed ? 'block' : 'none';\n",
              "\n",
              "        async function convertToInteractive(key) {\n",
              "          const element = document.querySelector('#df-3494af69-e707-4f5e-a5a5-72eadb704b5b');\n",
              "          const dataTable =\n",
              "            await google.colab.kernel.invokeFunction('convertToInteractive',\n",
              "                                                     [key], {});\n",
              "          if (!dataTable) return;\n",
              "\n",
              "          const docLinkHtml = 'Like what you see? Visit the ' +\n",
              "            '<a target=\"_blank\" href=https://colab.research.google.com/notebooks/data_table.ipynb>data table notebook</a>'\n",
              "            + ' to learn more about interactive tables.';\n",
              "          element.innerHTML = '';\n",
              "          dataTable['output_type'] = 'display_data';\n",
              "          await google.colab.output.renderOutput(dataTable, element);\n",
              "          const docLink = document.createElement('div');\n",
              "          docLink.innerHTML = docLinkHtml;\n",
              "          element.appendChild(docLink);\n",
              "        }\n",
              "      </script>\n",
              "    </div>\n",
              "  </div>\n",
              "  "
            ]
          },
          "metadata": {},
          "execution_count": 13
        }
      ]
    },
    {
      "cell_type": "code",
      "source": [
        "df_final['precipitations'] = df_final['obs_pr'].apply(lambda x: np.mean(x))\n",
        "df_final"
      ],
      "metadata": {
        "colab": {
          "base_uri": "https://localhost:8080/",
          "height": 424
        },
        "id": "ib5H9tkQza7Z",
        "outputId": "22325933-2863-46af-9b17-ecb72f118a17"
      },
      "execution_count": 14,
      "outputs": [
        {
          "output_type": "execute_result",
          "data": {
            "text/plain": [
              "       obs_dates                                            obs_tas  \\\n",
              "0     1958-01-04  [-12.800000190734863, -13.0, -13.0, -12.5, -12...   \n",
              "1     1958-01-05  [-7.800000190734863, -7.900000095367432, -8.39...   \n",
              "2     1958-01-06  [-11.0, -9.899999618530273, -6.5, -8.5, -9.0, ...   \n",
              "3     1958-01-07  [-13.199999809265137, -12.199999809265137, -7....   \n",
              "4     1958-01-08  [-19.899999618530273, -19.299999237060547, -15...   \n",
              "...          ...                                                ...   \n",
              "21173 2015-12-27  [-12.5, -11.699999809265137, -8.60000038146972...   \n",
              "21174 2015-12-28  [-12.5, -11.899999618530273, -9.10000038146972...   \n",
              "21175 2015-12-29  [-11.899999618530273, -11.399999618530273, -8....   \n",
              "21176 2015-12-30  [-7.0, -6.5, -3.4000000953674316, -5.900000095...   \n",
              "21177 2015-12-31  [-2.4000000953674316, -2.0999999046325684, 1.2...   \n",
              "\n",
              "                                                  obs_pr flow_dates      flow  \\\n",
              "0          [0.0, 0.0, 0.0, 0.0, 0.0, 0.0, 0.0, 0.0, 0.0] 1958-01-04  1.723781   \n",
              "1      [2.0, 2.200000047683716, 3.0, 3.29999995231628... 1958-01-05  0.960882   \n",
              "2      [12.699999809265137, 11.0, 16.5, 12.5, 11.1999... 1958-01-06     0.001   \n",
              "3      [6.599999904632568, 6.900000095367432, 9.60000... 1958-01-07     0.001   \n",
              "4      [3.4000000953674316, 3.5999999046325684, 2.700... 1958-01-08  0.316796   \n",
              "...                                                  ...        ...       ...   \n",
              "21173  [2.200000047683716, 0.10000000149011612, 1.100... 2015-12-27   2.17704   \n",
              "21174  [5.5, 4.900000095367432, 8.300000190734863, 6.... 2015-12-28   4.87625   \n",
              "21175  [1.7999999523162842, 1.7000000476837158, 2.099... 2015-12-29   4.99884   \n",
              "21176  [4.099999904632568, 3.5, 4.599999904632568, 5.... 2015-12-30  4.428777   \n",
              "21177  [6.400000095367432, 7.400000095367432, 8.5, 8.... 2015-12-31  4.047925   \n",
              "\n",
              "       temperatures  precipitations  \n",
              "0        -12.655556        0.000000  \n",
              "1         -7.722222        2.588889  \n",
              "2         -8.088889       12.766667  \n",
              "3        -10.122222        6.877778  \n",
              "4        -17.455555        3.411111  \n",
              "...             ...             ...  \n",
              "21173     -9.944444        0.555556  \n",
              "21174    -10.288889        4.888889  \n",
              "21175     -9.411111        1.277778  \n",
              "21176     -5.055556        3.444444  \n",
              "21177     -0.733333        8.322222  \n",
              "\n",
              "[21178 rows x 7 columns]"
            ],
            "text/html": [
              "\n",
              "  <div id=\"df-e58e2cca-d478-4d4b-a86c-1c90d0e516ae\">\n",
              "    <div class=\"colab-df-container\">\n",
              "      <div>\n",
              "<style scoped>\n",
              "    .dataframe tbody tr th:only-of-type {\n",
              "        vertical-align: middle;\n",
              "    }\n",
              "\n",
              "    .dataframe tbody tr th {\n",
              "        vertical-align: top;\n",
              "    }\n",
              "\n",
              "    .dataframe thead th {\n",
              "        text-align: right;\n",
              "    }\n",
              "</style>\n",
              "<table border=\"1\" class=\"dataframe\">\n",
              "  <thead>\n",
              "    <tr style=\"text-align: right;\">\n",
              "      <th></th>\n",
              "      <th>obs_dates</th>\n",
              "      <th>obs_tas</th>\n",
              "      <th>obs_pr</th>\n",
              "      <th>flow_dates</th>\n",
              "      <th>flow</th>\n",
              "      <th>temperatures</th>\n",
              "      <th>precipitations</th>\n",
              "    </tr>\n",
              "  </thead>\n",
              "  <tbody>\n",
              "    <tr>\n",
              "      <th>0</th>\n",
              "      <td>1958-01-04</td>\n",
              "      <td>[-12.800000190734863, -13.0, -13.0, -12.5, -12...</td>\n",
              "      <td>[0.0, 0.0, 0.0, 0.0, 0.0, 0.0, 0.0, 0.0, 0.0]</td>\n",
              "      <td>1958-01-04</td>\n",
              "      <td>1.723781</td>\n",
              "      <td>-12.655556</td>\n",
              "      <td>0.000000</td>\n",
              "    </tr>\n",
              "    <tr>\n",
              "      <th>1</th>\n",
              "      <td>1958-01-05</td>\n",
              "      <td>[-7.800000190734863, -7.900000095367432, -8.39...</td>\n",
              "      <td>[2.0, 2.200000047683716, 3.0, 3.29999995231628...</td>\n",
              "      <td>1958-01-05</td>\n",
              "      <td>0.960882</td>\n",
              "      <td>-7.722222</td>\n",
              "      <td>2.588889</td>\n",
              "    </tr>\n",
              "    <tr>\n",
              "      <th>2</th>\n",
              "      <td>1958-01-06</td>\n",
              "      <td>[-11.0, -9.899999618530273, -6.5, -8.5, -9.0, ...</td>\n",
              "      <td>[12.699999809265137, 11.0, 16.5, 12.5, 11.1999...</td>\n",
              "      <td>1958-01-06</td>\n",
              "      <td>0.001</td>\n",
              "      <td>-8.088889</td>\n",
              "      <td>12.766667</td>\n",
              "    </tr>\n",
              "    <tr>\n",
              "      <th>3</th>\n",
              "      <td>1958-01-07</td>\n",
              "      <td>[-13.199999809265137, -12.199999809265137, -7....</td>\n",
              "      <td>[6.599999904632568, 6.900000095367432, 9.60000...</td>\n",
              "      <td>1958-01-07</td>\n",
              "      <td>0.001</td>\n",
              "      <td>-10.122222</td>\n",
              "      <td>6.877778</td>\n",
              "    </tr>\n",
              "    <tr>\n",
              "      <th>4</th>\n",
              "      <td>1958-01-08</td>\n",
              "      <td>[-19.899999618530273, -19.299999237060547, -15...</td>\n",
              "      <td>[3.4000000953674316, 3.5999999046325684, 2.700...</td>\n",
              "      <td>1958-01-08</td>\n",
              "      <td>0.316796</td>\n",
              "      <td>-17.455555</td>\n",
              "      <td>3.411111</td>\n",
              "    </tr>\n",
              "    <tr>\n",
              "      <th>...</th>\n",
              "      <td>...</td>\n",
              "      <td>...</td>\n",
              "      <td>...</td>\n",
              "      <td>...</td>\n",
              "      <td>...</td>\n",
              "      <td>...</td>\n",
              "      <td>...</td>\n",
              "    </tr>\n",
              "    <tr>\n",
              "      <th>21173</th>\n",
              "      <td>2015-12-27</td>\n",
              "      <td>[-12.5, -11.699999809265137, -8.60000038146972...</td>\n",
              "      <td>[2.200000047683716, 0.10000000149011612, 1.100...</td>\n",
              "      <td>2015-12-27</td>\n",
              "      <td>2.17704</td>\n",
              "      <td>-9.944444</td>\n",
              "      <td>0.555556</td>\n",
              "    </tr>\n",
              "    <tr>\n",
              "      <th>21174</th>\n",
              "      <td>2015-12-28</td>\n",
              "      <td>[-12.5, -11.899999618530273, -9.10000038146972...</td>\n",
              "      <td>[5.5, 4.900000095367432, 8.300000190734863, 6....</td>\n",
              "      <td>2015-12-28</td>\n",
              "      <td>4.87625</td>\n",
              "      <td>-10.288889</td>\n",
              "      <td>4.888889</td>\n",
              "    </tr>\n",
              "    <tr>\n",
              "      <th>21175</th>\n",
              "      <td>2015-12-29</td>\n",
              "      <td>[-11.899999618530273, -11.399999618530273, -8....</td>\n",
              "      <td>[1.7999999523162842, 1.7000000476837158, 2.099...</td>\n",
              "      <td>2015-12-29</td>\n",
              "      <td>4.99884</td>\n",
              "      <td>-9.411111</td>\n",
              "      <td>1.277778</td>\n",
              "    </tr>\n",
              "    <tr>\n",
              "      <th>21176</th>\n",
              "      <td>2015-12-30</td>\n",
              "      <td>[-7.0, -6.5, -3.4000000953674316, -5.900000095...</td>\n",
              "      <td>[4.099999904632568, 3.5, 4.599999904632568, 5....</td>\n",
              "      <td>2015-12-30</td>\n",
              "      <td>4.428777</td>\n",
              "      <td>-5.055556</td>\n",
              "      <td>3.444444</td>\n",
              "    </tr>\n",
              "    <tr>\n",
              "      <th>21177</th>\n",
              "      <td>2015-12-31</td>\n",
              "      <td>[-2.4000000953674316, -2.0999999046325684, 1.2...</td>\n",
              "      <td>[6.400000095367432, 7.400000095367432, 8.5, 8....</td>\n",
              "      <td>2015-12-31</td>\n",
              "      <td>4.047925</td>\n",
              "      <td>-0.733333</td>\n",
              "      <td>8.322222</td>\n",
              "    </tr>\n",
              "  </tbody>\n",
              "</table>\n",
              "<p>21178 rows × 7 columns</p>\n",
              "</div>\n",
              "      <button class=\"colab-df-convert\" onclick=\"convertToInteractive('df-e58e2cca-d478-4d4b-a86c-1c90d0e516ae')\"\n",
              "              title=\"Convert this dataframe to an interactive table.\"\n",
              "              style=\"display:none;\">\n",
              "        \n",
              "  <svg xmlns=\"http://www.w3.org/2000/svg\" height=\"24px\"viewBox=\"0 0 24 24\"\n",
              "       width=\"24px\">\n",
              "    <path d=\"M0 0h24v24H0V0z\" fill=\"none\"/>\n",
              "    <path d=\"M18.56 5.44l.94 2.06.94-2.06 2.06-.94-2.06-.94-.94-2.06-.94 2.06-2.06.94zm-11 1L8.5 8.5l.94-2.06 2.06-.94-2.06-.94L8.5 2.5l-.94 2.06-2.06.94zm10 10l.94 2.06.94-2.06 2.06-.94-2.06-.94-.94-2.06-.94 2.06-2.06.94z\"/><path d=\"M17.41 7.96l-1.37-1.37c-.4-.4-.92-.59-1.43-.59-.52 0-1.04.2-1.43.59L10.3 9.45l-7.72 7.72c-.78.78-.78 2.05 0 2.83L4 21.41c.39.39.9.59 1.41.59.51 0 1.02-.2 1.41-.59l7.78-7.78 2.81-2.81c.8-.78.8-2.07 0-2.86zM5.41 20L4 18.59l7.72-7.72 1.47 1.35L5.41 20z\"/>\n",
              "  </svg>\n",
              "      </button>\n",
              "      \n",
              "  <style>\n",
              "    .colab-df-container {\n",
              "      display:flex;\n",
              "      flex-wrap:wrap;\n",
              "      gap: 12px;\n",
              "    }\n",
              "\n",
              "    .colab-df-convert {\n",
              "      background-color: #E8F0FE;\n",
              "      border: none;\n",
              "      border-radius: 50%;\n",
              "      cursor: pointer;\n",
              "      display: none;\n",
              "      fill: #1967D2;\n",
              "      height: 32px;\n",
              "      padding: 0 0 0 0;\n",
              "      width: 32px;\n",
              "    }\n",
              "\n",
              "    .colab-df-convert:hover {\n",
              "      background-color: #E2EBFA;\n",
              "      box-shadow: 0px 1px 2px rgba(60, 64, 67, 0.3), 0px 1px 3px 1px rgba(60, 64, 67, 0.15);\n",
              "      fill: #174EA6;\n",
              "    }\n",
              "\n",
              "    [theme=dark] .colab-df-convert {\n",
              "      background-color: #3B4455;\n",
              "      fill: #D2E3FC;\n",
              "    }\n",
              "\n",
              "    [theme=dark] .colab-df-convert:hover {\n",
              "      background-color: #434B5C;\n",
              "      box-shadow: 0px 1px 3px 1px rgba(0, 0, 0, 0.15);\n",
              "      filter: drop-shadow(0px 1px 2px rgba(0, 0, 0, 0.3));\n",
              "      fill: #FFFFFF;\n",
              "    }\n",
              "  </style>\n",
              "\n",
              "      <script>\n",
              "        const buttonEl =\n",
              "          document.querySelector('#df-e58e2cca-d478-4d4b-a86c-1c90d0e516ae button.colab-df-convert');\n",
              "        buttonEl.style.display =\n",
              "          google.colab.kernel.accessAllowed ? 'block' : 'none';\n",
              "\n",
              "        async function convertToInteractive(key) {\n",
              "          const element = document.querySelector('#df-e58e2cca-d478-4d4b-a86c-1c90d0e516ae');\n",
              "          const dataTable =\n",
              "            await google.colab.kernel.invokeFunction('convertToInteractive',\n",
              "                                                     [key], {});\n",
              "          if (!dataTable) return;\n",
              "\n",
              "          const docLinkHtml = 'Like what you see? Visit the ' +\n",
              "            '<a target=\"_blank\" href=https://colab.research.google.com/notebooks/data_table.ipynb>data table notebook</a>'\n",
              "            + ' to learn more about interactive tables.';\n",
              "          element.innerHTML = '';\n",
              "          dataTable['output_type'] = 'display_data';\n",
              "          await google.colab.output.renderOutput(dataTable, element);\n",
              "          const docLink = document.createElement('div');\n",
              "          docLink.innerHTML = docLinkHtml;\n",
              "          element.appendChild(docLink);\n",
              "        }\n",
              "      </script>\n",
              "    </div>\n",
              "  </div>\n",
              "  "
            ]
          },
          "metadata": {},
          "execution_count": 14
        }
      ]
    },
    {
      "cell_type": "markdown",
      "source": [
        "## Inicia el TDA"
      ],
      "metadata": {
        "id": "ApBkz9OC-8SQ"
      }
    },
    {
      "cell_type": "code",
      "source": [
        "max_embedding_dimension = 10\n",
        "max_time_delay = 20\n",
        "stride = 30\n",
        "\n",
        "embedder_periodic = SingleTakensEmbedding(\n",
        "    parameters_type=\"search\",\n",
        "    time_delay=max_time_delay,\n",
        "    dimension=max_embedding_dimension,\n",
        "    stride=stride,\n",
        ")"
      ],
      "metadata": {
        "id": "SYJ45nHglQP9"
      },
      "execution_count": 15,
      "outputs": []
    },
    {
      "cell_type": "code",
      "source": [
        "def fit_embedder(embedder: SingleTakensEmbedding, y: np.ndarray, verbose: bool=True) -> np.ndarray:\n",
        "    \"\"\"Fits a Takens embedder and displays optimal search parameters.\"\"\"\n",
        "    y_embedded = embedder.fit_transform(y)\n",
        "\n",
        "    if verbose:\n",
        "        print(f\"Shape of embedded time series: {y_embedded.shape}\")\n",
        "        print(\n",
        "            f\"Optimal embedding dimension is {embedder.dimension_} and time delay is {embedder.time_delay_}\"\n",
        "        )\n",
        "\n",
        "    return y_embedded"
      ],
      "metadata": {
        "id": "2cxDqWOJlQ44"
      },
      "execution_count": 16,
      "outputs": []
    },
    {
      "cell_type": "markdown",
      "source": [
        "#### Incrustacion y plot de componentes principales de precipitaciones"
      ],
      "metadata": {
        "id": "Z52F5oZLATyf"
      }
    },
    {
      "cell_type": "code",
      "source": [
        "df_final.boxplot('precipitations')"
      ],
      "metadata": {
        "colab": {
          "base_uri": "https://localhost:8080/",
          "height": 282
        },
        "id": "kUINgHK956tE",
        "outputId": "42a5c076-ac3c-44d2-965c-656084b00419"
      },
      "execution_count": 17,
      "outputs": [
        {
          "output_type": "execute_result",
          "data": {
            "text/plain": [
              "<matplotlib.axes._subplots.AxesSubplot at 0x7f1f896cb410>"
            ]
          },
          "metadata": {},
          "execution_count": 17
        },
        {
          "output_type": "display_data",
          "data": {
            "text/plain": [
              "<Figure size 432x288 with 1 Axes>"
            ],
            "image/png": "[encoded data removed]"
          },
          "metadata": {
            "needs_background": "light"
          }
        }
      ]
    },
    {
      "cell_type": "code",
      "source": [
        "y_periodic_embedded = fit_embedder(embedder_periodic, df_final['precipitations'])"
      ],
      "metadata": {
        "colab": {
          "base_uri": "https://localhost:8080/"
        },
        "id": "bESLxzvD0NFa",
        "outputId": "efc1b472-5690-416a-dad1-b8d197bb8925"
      },
      "execution_count": 18,
      "outputs": [
        {
          "output_type": "stream",
          "name": "stdout",
          "text": [
            "Shape of embedded time series: (702, 8)\n",
            "Optimal embedding dimension is 8 and time delay is 18\n"
          ]
        }
      ]
    },
    {
      "cell_type": "code",
      "source": [
        "pca = PCA(n_components=3)\n",
        "y_periodic_embedded_pca = pca.fit_transform(y_periodic_embedded)\n",
        "plot_point_cloud(y_periodic_embedded_pca)"
      ],
      "metadata": {
        "colab": {
          "base_uri": "https://localhost:8080/",
          "height": 542
        },
        "id": "V73jX37Y0j_p",
        "outputId": "f79268c9-6623-4d7e-8a6f-b602c6321cbd"
      },
      "execution_count": 19,
      "outputs": [
        {
          "output_type": "display_data",
          "data": {
            "text/html": [
              "<html>\n",
              "<head><meta charset=\"utf-8\" /></head>\n",
              "<body>\n",
              "    <div>            <script src=\"https://cdnjs.cloudflare.com/ajax/libs/mathjax/2.7.5/MathJax.js?config=TeX-AMS-MML_SVG\"></script><script type=\"text/javascript\">if (window.MathJax) {MathJax.Hub.Config({SVG: {font: \"STIX-Web\"}});}</script>                <script type=\"text/javascript\">window.PlotlyConfig = {MathJaxConfig: 'local'};</script>\n",
              "        <script src=\"https://cdn.plot.ly/plotly-2.8.3.min.js\"></script>                <div id=\"a997944b-eb96-48d8-8c1e-3865873fab57\" class=\"plotly-graph-div\" style=\"height:525px; width:100%;\"></div>            <script type=\"text/javascript\">                                    window.PLOTLYENV=window.PLOTLYENV || {};                                    if (document.getElementById(\"a997944b-eb96-48d8-8c1e-3865873fab57\")) {                    Plotly.newPlot(                        \"a997944b-eb96-48d8-8c1e-3865873fab57\",                        [{\"marker\":{\"color\":[0,1,2,3,4,5,6,7,8,9,10,11,12,13,14,15,16,17,18,19,20,21,22,23,24,25,26,27,28,29,30,31,32,33,34,35,36,37,38,39,40,41,42,43,44,45,46,47,48,49,50,51,52,53,54,55,56,57,58,59,60,61,62,63,64,65,66,67,68,69,70,71,72,73,74,75,76,77,78,79,80,81,82,83,84,85,86,87,88,89,90,91,92,93,94,95,96,97,98,99,100,101,102,103,104,105,106,107,108,109,110,111,112,113,114,115,116,117,118,119,120,121,122,123,124,125,126,127,128,129,130,131,132,133,134,135,136,137,138,139,140,141,142,143,144,145,146,147,148,149,150,151,152,153,154,155,156,157,158,159,160,161,162,163,164,165,166,167,168,169,170,171,172,173,174,175,176,177,178,179,180,181,182,183,184,185,186,187,188,189,190,191,192,193,194,195,196,197,198,199,200,201,202,203,204,205,206,207,208,209,210,211,212,213,214,215,216,217,218,219,220,221,222,223,224,225,226,227,228,229,230,231,232,233,234,235,236,237,238,239,240,241,242,243,244,245,246,247,248,249,250,251,252,253,254,255,256,257,258,259,260,261,262,263,264,265,266,267,268,269,270,271,272,273,274,275,276,277,278,279,280,281,282,283,284,285,286,287,288,289,290,291,292,293,294,295,296,297,298,299,300,301,302,303,304,305,306,307,308,309,310,311,312,313,314,315,316,317,318,319,320,321,322,323,324,325,326,327,328,329,330,331,332,333,334,335,336,337,338,339,340,341,342,343,344,345,346,347,348,349,350,351,352,353,354,355,356,357,358,359,360,361,362,363,364,365,366,367,368,369,370,371,372,373,374,375,376,377,378,379,380,381,382,383,384,385,386,387,388,389,390,391,392,393,394,395,396,397,398,399,400,401,402,403,404,405,406,407,408,409,410,411,412,413,414,415,416,417,418,419,420,421,422,423,424,425,426,427,428,429,430,431,432,433,434,435,436,437,438,439,440,441,442,443,444,445,446,447,448,449,450,451,452,453,454,455,456,457,458,459,460,461,462,463,464,465,466,467,468,469,470,471,472,473,474,475,476,477,478,479,480,481,482,483,484,485,486,487,488,489,490,491,492,493,494,495,496,497,498,499,500,501,502,503,504,505,506,507,508,509,510,511,512,513,514,515,516,517,518,519,520,521,522,523,524,525,526,527,528,529,530,531,532,533,534,535,536,537,538,539,540,541,542,543,544,545,546,547,548,549,550,551,552,553,554,555,556,557,558,559,560,561,562,563,564,565,566,567,568,569,570,571,572,573,574,575,576,577,578,579,580,581,582,583,584,585,586,587,588,589,590,591,592,593,594,595,596,597,598,599,600,601,602,603,604,605,606,607,608,609,610,611,612,613,614,615,616,617,618,619,620,621,622,623,624,625,626,627,628,629,630,631,632,633,634,635,636,637,638,639,640,641,642,643,644,645,646,647,648,649,650,651,652,653,654,655,656,657,658,659,660,661,662,663,664,665,666,667,668,669,670,671,672,673,674,675,676,677,678,679,680,681,682,683,684,685,686,687,688,689,690,691,692,693,694,695,696,697,698,699,700,701],\"colorscale\":[[0.0,\"#440154\"],[0.1111111111111111,\"#482878\"],[0.2222222222222222,\"#3e4989\"],[0.3333333333333333,\"#31688e\"],[0.4444444444444444,\"#26828e\"],[0.5555555555555556,\"#1f9e89\"],[0.6666666666666666,\"#35b779\"],[0.7777777777777778,\"#6ece58\"],[0.8888888888888888,\"#b5de2b\"],[1.0,\"#fde725\"]],\"opacity\":0.8,\"size\":4},\"mode\":\"markers\",\"x\":[-0.8730079224801544,-3.5638753095211624,-3.9107746929153695,16.294601700661904,-4.439077047961566,5.197835371425186,-3.774293262010972,26.811268489613457,-2.931228299128418,-1.6402312398478227,-2.6371760879896944,-3.462477967497805,-1.4324898537693167,-2.0644879537338254,-2.697929751051471,-2.4243965175428834,0.328987990227286,-0.7714017931054876,-1.78948473141851,-1.1120098429895156,10.232637902038002,-1.0846964711682736,2.400388337792067,-2.9966548052171786,-2.449906213696813,-0.37609422099246714,-10.415368017034412,-2.5991494401424915,5.984123168079388,-3.852699143316826,-4.358204752032225,15.965315051783382,8.401588430907358,2.2546983916005883,6.222569718792263,-2.6453838491716275,-2.4046057984553357,3.963747941621822,-2.9036961160318846,11.506163523654257,-0.13244656190826778,-4.246894056613184,-6.786435597246476,23.999573627252758,-4.594417838620614,2.027663559032784,6.820693478836888,-1.6393559796458854,-0.4575235801718925,-1.906715408422732,-2.2793990789606884,-4.819998984435664,-2.0947306637467733,-1.0275324138459545,-2.9342604810274655,-2.383771660484457,-2.460427846158053,-4.187909226689565,-2.266159421116371,-2.7092685295293846,-3.0122902520360824,-2.4771171355516586,-1.9185339718265921,-1.3717242204412634,-2.368831512439601,-5.320967968666408,9.100062397265413,-0.3523972485020279,-3.4497299776947252,10.3754434739845,1.0304662829231324,-3.169673788659846,-2.037546914751208,-2.186890346357785,-1.6209575655378428,-2.5897037726581944,1.5419521134839709,0.6243446368411404,0.6214394900053671,-1.7040533130843438,20.387435784251704,4.61346648773461,-1.6366055639244455,7.11397516147634,-2.4001552145082656,-2.0893734782810633,0.9912611709770133,-2.577787068080017,19.040490961554934,2.9611419151277993,-2.3825361565983556,22.569564190846553,-2.3680548667382264,-2.9197383328117623,0.4762933312815422,-2.359961813117449,3.9750915450643087,-4.977355186004516,-2.5179345870746794,1.374543550360748,2.2746186652383615,-0.48536211062722173,4.059350628396109,12.922985365499889,-2.794056790400965,-3.2285418612969026,16.42652300279815,-3.250101500070653,-0.45586299073378334,-2.534264905112144,-1.8776539340222385,0.7316905508861438,-2.6292918127258202,0.2645956303566923,4.312401703606318,11.941184177767479,-2.707714980966398,22.46458069499786,-1.8293754241893352,-1.1386605488998698,1.2411353201966335,-2.538119256673959,-2.4737252031208765,-0.8488100527608162,-1.9477413103434609,-0.09855029847492587,1.4139848175437795,-0.1447517051540384,-2.123963736050687,-2.298345935824463,4.230038368384389,-2.289727623623881,0.28639907008621773,-1.9669657000943128,-4.566285667204909,5.418750503111496,-1.4088350168253438,-4.437062335613244,1.731009687311555,-2.47557328999288,-2.288126083318986,-2.0894009704542986,-0.40175498236010276,-1.2130361483926224,-2.171579582120351,-2.508518328053315,-2.359659506419946,-0.4754500459566078,-2.5912545863081853,-3.49251244554296,0.4918587971066716,-2.435961095563391,-4.506321902835743,-3.221983124031342,3.5950995336313256,-3.8940516806334124,-3.3493778086419046,-2.4555924427547473,-2.7545609320227213,-3.632129668324261,-3.414271367489824,-3.0921313504181973,-2.4468619902999116,-4.106699021271754,-2.172198906097552,-1.3824732481853828,0.32568988445460867,-1.5663394465231586,-1.9449966072410811,-2.1132325259877938,6.698277008421057,3.1326317645464696,-2.454115866408262,5.155133845862226,-0.6953617036794065,-2.4000184664340134,-2.892032857518621,-3.721338776270514,-2.6365389146200062,0.9316603245659156,-2.491308707245613,-2.906024976789718,-1.7191623654694506,-2.4043412619173377,-2.419475558835028,-2.7503917454848605,-3.2604926872585893,-2.3754729404227026,-1.5684045101741417,-2.910009950918803,-2.5142772720042705,-3.5931241171423096,-1.6157039617025069,-2.5563326764798693,-2.536336715816553,-2.5625752517864644,-1.968430444114602,-2.4710084711956433,-3.9772314626468566,-2.5522931601494516,-2.171884354934834,3.243207285806226,-0.1855542663761455,-3.097462965670595,1.5364601987338737,-2.3911381342268103,-3.119648202825526,-2.763475164184713,-2.3686364618965623,-2.134410543801759,-1.88239101817606,-2.3545286288778464,-1.18691627311855,-3.672058146000984,5.208191998952396,6.181592251292281,-2.794626908438264,-2.4187288353313376,-1.977435089201625,-2.3786980196405683,-2.1963483661024683,1.6732904734246739,4.413440721604952,-2.246547412251917,-2.857054872252344,5.922085378427802,-1.935453023560459,5.0029639615748716,-1.2975288409461245,-0.5419038033704122,-2.423380742809147,-2.478161581474429,-1.6131281285296413,-2.1405509970138406,14.22974243879006,-2.0652656575594075,-1.6276939353250413,4.988119730320185,-1.571139351451427,-2.816492673012374,-2.2823260720735665,-2.0618070406946685,1.273344515675007,5.226158237515924,-1.281245582350368,-1.203670972320084,-2.8706340832046906,10.746502994984741,-1.8917133663435837,-2.7450012909214703,-0.5181333217110354,-2.0081402239406936,-2.12971999986298,-2.605647931638453,-1.493029035041521,-0.9935423599890573,-2.253103996403573,-3.734314308763748,-4.394714384013361,-1.1113922818662336,-3.259768438097075,-0.3742150532754362,-1.1106304475934075,-3.7832701824824757,-2.252131758058117,4.589853539394106,-0.744203799354735,-2.5631025165682324,-2.4019379105702874,-2.679169003432244,-2.0663835192682454,-0.9647531907776979,6.608699242243158,0.22049208641041923,-2.2334729096082273,-1.9432781137491137,2.851172691609293,-2.402990869056369,-2.2835600023027838,-2.744572766988753,6.143838462077255,-2.5721124081209026,-2.20065498180946,1.1417159374494257,-3.195701248515068,-3.0978613115937277,-2.689178694309941,-3.293151763695481,-3.7823289418294403,-2.3107982371563347,-2.3704184872811043,-1.681037902450399,-0.2252412588396684,-3.1458745573647877,-0.784211471171257,-2.8848546157004704,-3.3150472231542345,-4.540865829640879,-0.1000500189982831,-3.1593931329549747,-3.1764514622078206,-0.3155789775860673,-2.0523615785347857,-2.6540372435016746,-2.199733605321445,-2.4393473852147523,-1.8923435809454785,-2.946857164834647,-2.527335394392393,-2.0607092059639354,8.184062604270494,0.7402335816212202,-3.333613596376677,-2.5289889719265934,-1.9835538367408772,-0.0960991881486817,-3.6683665685440188,-0.7138913533800717,-1.9129886259381155,10.813520927182232,-1.7363029103809096,9.61680451196781,-2.6226310361227076,10.75899691791086,-0.46352436929382,-2.2347851266841,-0.5995237519691349,-0.3805559640159606,-0.29796641686822,-3.495331221601846,0.8869699369364874,-2.217650029257319,6.907569672530275,-1.8694760190445616,1.8375037548596205,-2.3396561967673812,-0.30235831128745944,-2.4985039212632336,-0.8870646199608334,-2.0866231405001776,-2.2654738599904563,-1.3576942535979215,0.3409996793796571,-2.0325842170375092,-1.3130507579406288,0.2660816473993847,8.458835213422319,1.069609625812618,-0.3912178043192528,-2.765071059014541,1.0943894162434573,-1.6046426004638064,-2.8612773426575426,1.4967446535059936,-1.4248619400842883,2.8960155905738496,8.783820437992862,-1.7385991372423724,-1.9148202550247155,-2.666158576844467,19.708824940365517,4.25714382902624,-3.2381471338248304,6.633441160636716,-1.7381417553637044,-3.814484118568197,-2.501849545818818,-3.808031810619807,-2.763664884614439,-1.8143156335956703,11.309707981911677,-2.4120045611166563,-2.133917250372348,0.4086250859226092,-2.4990241300035843,-2.26164374598783,-4.333015838067894,3.744750284014631,3.910287133726994,-2.6880431567543694,9.04161447972918,-1.8260606999409204,-1.430752248050465,2.7780646224226495,-3.3364954481188542,4.344557521792147,-2.8434649212649474,-1.3748401806345052,4.883452227215541,-2.6152532493743608,4.702752928671776,-2.6191469608143834,5.481420378547366,3.7671005646953883,-2.560036668047681,-0.5565549276642464,-2.115701753571874,5.152308035115516,-2.9287009578709204,-2.3510453683286787,-2.831924160415497,-2.7541730237948285,-1.9174712962598146,-2.914581930444488,-2.348370924228216,0.3646564646139555,-2.4813293669237986,-2.743631275376562,-2.484069247677222,-2.872162886410648,-3.194916544655146,-2.6280285995772013,-2.652966015725498,-2.5280481860608703,-2.3410329199114344,-2.380359439833805,0.2714533461179352,-2.1664746016161107,31.59278648215654,-2.517223537837315,-2.950517781591052,4.124755034647248,11.255346657172892,6.206780026504329,-0.4724327239179931,-1.415561882162971,-2.938467789310618,-2.4903889834874575,-2.0053138342835752,-2.0130110713484166,-3.6988511662320427,1.9637470391492842,-1.8368129219608977,-2.080431562816733,9.917390780722588,-2.852171394987465,9.96525597657189,-1.0634011066915339,4.229310581376969,-2.3092863995585113,-2.203303054154874,-2.7139167974352048,-1.9390003638261115,-3.656028349075726,36.90410312573484,-2.00689466456023,-5.900039538043408,6.43987009149331,-2.744487472768268,-0.8081055043109518,1.0199834642866965,-4.126071366341666,-1.3123305176548743,6.245295385929386,0.06890797879490833,-1.74256041576988,17.805277604738325,8.894436029292079,-2.6094612595510505,-0.6896879289788294,-0.60705143346549,-2.372453016610406,-2.223534556461079,-0.5019077499559296,-2.5456092565690334,8.257286791492472,9.675510910699026,-2.37216898939643,17.8803286153195,1.9658169933749188,7.846409898215173,-2.7080118873959593,-1.872262655589709,-2.831484258484283,-0.5096685994424214,-1.0626585781257039,-2.333514583454104,-0.7674418780129352,6.8964675389523125,-0.4733024086343429,-2.749682083403221,-3.478993327581509,-5.113585014470738,-1.5359984448658506,-2.259873690207912,-2.837996292197708,-0.6660282185967858,-2.3543492463328697,-3.195779217630578,-1.3822727842533735,-2.5424049476008275,-2.0851149192835434,-1.9796046109478407,-2.2278500431276846,-1.321501187593423,-2.5133670150791825,-4.54497111314936,0.17941532500978358,-0.8613355033982217,-1.4447965043866537,-2.3256093252089576,-2.8390647479730537,-3.1231879363930073,-3.291752079814666,-3.335016373171092,-3.199621919209989,-4.862413462306967,-3.507474427849338,0.03619409112218598,-2.027946444382799,-0.4429960580225418,-2.511125727911658,-3.3372491002505185,-2.3848552685721764,-3.71443080882974,-2.4866201296043515,-3.6648159644962126,2.199939284926883,0.6221239328792527,-1.7143564437568093,-1.0768389421577398,7.95348887749581,-3.4458119756765315,-2.651776617094441,3.249244974890086,-3.0183233410252264,-2.389036424422175,-0.43468543491550454,20.523320135220793,-0.4215470276681219,-0.6816203992523057,-2.5970897252048593,9.589011019627318,-1.7799038003979655,8.078132272844883,-3.36427987450171,-3.919207382129183,17.806933443456607,-0.23687362093574438,4.335398199549304,-1.738003178170734,-1.9729210728737203,-2.4023830888524738,-2.1142696008858666,-1.023573954467924,0.38538862683903674,-1.5562488809868402,2.0317823495268104,-2.061520264234537,-3.0292542186092564,8.020005316859228,0.06512909021773984,15.12474520980639,-1.245635551825009,35.291420241972965,-2.5276576096770453,-2.149229715041958,-1.62783373786722,-2.776114476915399,-2.6479777238964535,-2.6118333601722643,-1.8662209915317873,-1.8979706930646782,10.550262828774981,6.646919188126786,3.927307842304102,-3.69388055767214,3.7864885974363327,-1.6264729913754548,-2.361685303308526,-2.601353741933507,-0.543221609194634,4.53623770822161,-2.947522566555597,-3.750464065001846,12.727055042740586,-4.089986432811743,-2.629593915027617,-3.1360162424695375,-2.1657574507950272,-0.8945401136794993,0.8649650922671854,0.07517504822562215,4.321442738707736,-3.196747816195906,0.7633526753481585,-2.31520216787281,-4.430291687827369,-3.0488989566795044,4.565443199370042,0.9020794182814975,19.67348539615236,-1.0821680738951336,3.5001050127152293,-2.300896180164406,-1.8529352966110548,4.642596310787979,0.03414999549777714,-2.2962196495968583,-5.6632006695230075,54.667490795012,-2.101238363011618,0.4371954531322171,-2.404216802918539,-2.198389440081632,13.222535933372985,-7.304637265497012,-2.8193640085491296,-2.6052334195202653,6.121908361186726,-0.2729383696755432,-2.8363764622931087,-0.6715817940241102,-2.7000065128449795,-2.0229684035947666,-2.594328171697375,-1.2794993342905687,-3.1708840726337844,-3.0703872969091566,6.108925132879938,-2.236599673444367,-1.9253946476692898,-2.9114201999968805,-4.6362921045943715,0.261826432444063,1.297205515388519,-3.737428826466157,4.394630494688914,-3.7088508492821823,-1.4520150554289486,2.781030246801423,-4.059812994970728,-1.7167739999597056,-0.5282144184662908,-2.7468439820761756,-4.3743257575006425,-3.243768511761833,-0.43869010794443863,3.4188752641620965,-2.777842645748041,-2.4973953048733275,-1.1864797017689717,-2.5535947318451284,-0.9533528545557225,-2.308237311934157,-2.4494987966865573,-2.2036044475096777,-1.9024851884125396,-2.7346487505108708,4.177403996926408,-2.1410589645257727,12.226579173018264,3.3761758505869097,-2.72600015455962,4.218318087365128,-1.8057821374181953,-3.0225918694557814,-2.3872464885410283,-4.231926226522048,-2.722216845363713,-4.711674171651045,8.864914852558318,1.2451439462521356,-2.3979846898862105,-2.4176744827678984,7.521533959550208,-0.6728392731096756,-0.9228159448247001,-3.9855539127162722,-2.696037804064802,-4.210407645488836,-3.0643756627130134,3.7997501622981718,0.6364271755435277,-2.4666778092135173,-1.5631048545983997,-3.7063521393150793,-1.9084787308347497,-2.820331449994561,-1.9096916554090797,2.6905172744709462,1.486637740570656,-0.3449451543509409,-3.9293872058914525,-2.422273581818493,2.646146179568159,1.975727367100015,0.26813569460781134,-0.9174514175072364,-0.4430778053427925,31.86492601544921,-2.905946889481783,-1.654072147193224,-3.441913145661146,-2.1567532459480954,-2.7436784302971353,-2.6010346756567313,-5.946521680879755,0.08577649704305336,-2.249571647992627,-2.7731630473596676,-3.8956270993346065],\"y\":[-3.37318871094178,20.57946092776238,4.298477757924226,9.590520092324182,-9.30535349101366,-2.6596204418317817,-4.493311280505862,-0.13999409581418193,6.8229703226030765,5.641486260399248,-0.18452022399017792,-4.9881842765270425,-5.658021285957308,-1.4814691310668895,1.253842209391213,-0.40241298593361874,-0.3267366272577763,-4.796205924359958,2.7890064904567478,10.291172745046103,8.779496877043776,-2.903323651512271,-16.50509766152061,-4.850545288464253,0.1511880077964962,-1.0159793135167245,18.64697478332303,0.7182190314594462,3.2213335401188674,-17.262523591027367,9.990207707528336,-4.599452154182683,1.2324300869140803,-7.276590946607464,0.9947131121867251,-0.1698652047112989,-0.7522726516079307,2.1751429579817674,6.2578624506781795,2.233743820728176,-7.08456021861329,7.390488760390266,17.17144074648361,2.9601541001030416,-7.839111913715176,-21.34230851767632,2.463718591324345,-2.9867214015763057,-1.9271153177552232,-0.7070160457721851,-0.11701370949523719,2.332214137518699,0.05537878961961559,-1.0314451124272295,1.5663504546390314,2.959834208152307,1.2653213300040762,-3.9726248722402393,-5.233749691056447,-1.1373902655366586,1.4727134226458138,0.30117379285152834,1.8366845282927613,2.2679305883463963,1.1006343025624574,11.367909337441395,1.856430365108871,1.8215519934459228,3.061133079613516,-11.515529645138049,-10.42783136480246,-5.103783469774832,1.098407111941451,-0.0435865926800095,0.9657948885438338,0.9746612861647834,8.557017120374324,0.4705997631925787,8.53099371595261,-9.379018213602903,0.7551901358507059,-20.043773113283866,3.373939480383,-0.2617055994992649,1.8338158639946143,3.5565568971181216,2.2243631490401836,-1.261954194869812,-1.5946335604419712,-1.6763849506844493,-1.6776558771074284,5.87736437294178,-0.5610047900972592,1.9487593533306695,-8.099968623712089,-0.6038053985150085,0.5030991213775877,4.8680316956395755,2.0564253222024176,-2.038160319277256,-1.1095721215833028,1.4627602553707477,6.183484916478017,-0.2990673373270364,-0.13796764796377475,11.217445977030753,0.893130783948605,-0.22714238281985774,-6.566214430394458,1.8943217628357831,6.3349174861841275,-2.5935631131927517,-2.1873767895029723,-10.921627530622684,3.4150031191517325,12.803386761166154,8.914482920087734,1.799901264251537,-6.72485279132606,-6.411498851343113,-6.945384494676371,-2.6118836471901856,0.23270142933885837,-1.112949359711895,0.20795625911213908,1.7509474490728418,-4.00968204451796,15.848849065027808,3.812554053635919,0.19429891718558384,-23.645858558712632,-4.700989851611115,0.32819998780990917,-1.5676708423636847,9.617474558621929,3.855836882803562,-0.5618659600000373,-5.222262512829772,1.1165519269914188,-0.11905519306257571,6.3975890680539855,-2.645804422404134,3.2298263389125204,-7.072583898048413,2.6151335318382642,-3.532108542810353,1.4570418612873441,2.8794407003223648,0.21433224182893876,3.2525037443169396,-3.058734033139339,0.2069530707263285,4.164845707901417,1.3895248093018897,1.4388542178669341,-3.651547698157059,0.8292823046501726,-2.0632632671372115,0.8824033156246656,0.028275115149157204,0.7121344814156244,4.466083160823172,-2.5371863094171347,2.309782242123845,-3.736522373120322,-1.7221671339849263,-3.217723662947217,-0.9544300521717664,-1.1508432486083122,-0.20327025680353267,2.1435049012528897,-0.22186812095801162,-0.3637858088064463,4.488550650865864,8.11867453749704,-0.029314910875217,-4.861586147737784,-4.766619471377342,3.40579189277878,0.9274627808335802,-2.1082662142770294,-4.2295208548994685,-1.9388535726483105,5.357369139797597,1.2923135963151728,2.0168175952446585,-2.6282531131364384,-1.33468514626912,-4.576782852584022,-2.1557390368991793,-0.279958499297252,2.2804289881984032,1.3992564884553362,1.3002065090278423,-2.494774234436082,-1.6453668808261621,-1.4451005878057723,0.3608286539175629,2.8884933694103974,1.8033387833833683,4.295041411915395,4.582377551269178,-2.63151188615798,-0.5245116395620119,-10.316527162324837,-0.7865059186891034,-2.6157375722528844,-1.424931957348483,-0.5613437677303725,-1.131540842757412,0.6072197598640526,4.866293452300919,-2.194924864531642,-0.5741994006068647,-3.7325872071242308,0.0911768354506323,-1.0517863439995288,-1.2446538261102953,-0.9351724177439209,-0.6382118016672194,0.48425411880352687,-0.04633723663737172,0.3909543971724598,-0.8623408773096765,3.226016793341545,10.133029161436195,0.4365801878747113,-4.247464926238172,-6.886893245358841,-0.6172088070150991,-1.045578161875674,-3.9506560000508015,-2.039259020803454,1.1652238534909463,1.3220686274761648,0.8952618541528222,1.976856158468295,-0.264481344761751,-2.623643554468816,-4.806947164650253,-0.006136744111679579,1.299004764243048,0.6279284346749149,0.46910319708370823,-3.5902612270704055,-2.044436072357156,8.765656777787589,1.7083833071201855,-2.1307811556543608,-7.167115315169947,0.3642616757816277,0.3518531575610518,-1.0982695361439636,1.2083364441790085,-3.546707163052965,4.425310186657734,-1.2471375943883642,2.7582652219582853,5.973230224111812,2.1591335516825834,2.322761455609419,-9.620934789928691,6.1102933162188755,2.2667487196728677,-0.8903207928395045,-10.912052660005632,1.2961013282029352,2.352572360626957,-0.7753558167650476,6.639808428898534,5.675572937193982,-0.23418509110427854,-3.1006652848013565,-10.393270617979564,1.2835765109520556,-2.5999763978980956,0.07826474753047781,-0.5056984659670303,-1.1091337937752423,0.48417849672772956,0.43577553988014783,1.7586946923209492,0.18966683895862524,1.4786693422378254,0.8294971587444614,11.137488516988324,-1.2014551778053948,-1.6902710836604677,-9.921152649633605,-0.30948756216314705,-0.5801033332642248,4.547478865059939,-0.24879273904172391,7.599953263698091,-7.74111041841217,0.32428850300832335,-4.9777876029642005,4.311769649729768,2.8851635870123937,1.2186378894427496,-2.6039828573200694,-2.822191712500245,-0.33907907942002985,-0.31233444232519825,-1.1388894854584897,0.7050299070479835,0.4942641760495503,-0.44756262818016523,-1.2037135027072345,0.15794656724348813,-0.3854213744132957,-2.149622920677544,-0.3307223136668653,1.2575191394489253,-1.5476242067629056,3.1311096860244625,1.4621230987185125,0.8991171184051694,-2.449687265866485,-1.775302968561313,-1.5112282049302166,0.184992705499029,6.025315183094057,10.696912060561688,-3.013187688575217,-3.1511787862224114,-8.527141337724599,3.052585084098939,-5.897119591515727,1.2532164015467404,-4.626089710779037,0.8315729895424572,0.23923499063599485,5.816163711649547,0.7277769996416421,-3.1966106740815143,-10.033746944027733,-0.0744686536444352,-0.3712800281185547,-1.3249572560406007,1.5848273564778572,2.6447357028529055,0.04650440715815032,-2.4149424777425725,1.6927729701036873,10.265117204256507,0.7873392513721765,-10.29282660439453,-7.100066949402201,2.9904834086481156,-0.09079279422227934,-2.6341638167568338,0.9382758358413773,0.97849106391304,0.6640427620100006,1.73580433177943,-0.5235764820417834,-0.42138250769195745,1.8911900490436453,0.24370055593961248,3.904415178649174,-0.5286026965051821,10.445456633889478,1.0709379993970585,1.7613475460766164,-10.001198554239592,-0.5462489335336631,10.077343168732005,0.2770134933816843,2.5294540606535683,-16.950000137715357,-0.5377199313414124,-0.10912716570473278,-0.8258366579438691,2.0645943403143208,0.807074818687031,6.48522591986656,-1.7737910622268445,-2.4011426306310963,-3.3519643666132004,6.915719651860257,-0.9951269724111818,-0.4514236754250583,-11.580626905320925,6.114785031207765,0.28756885721284553,0.397779623705108,-5.210960969234866,2.629830577597503,-2.6737056860455977,-0.9011356292269747,-2.2652017756585474,7.649860764729225,0.24468860575720353,0.012802663276738884,-1.5982883154375902,2.458490322334741,3.2133832389279307,0.29073963366016353,-2.5286516170815694,-0.46278024362449083,-1.1782636468269128,-1.9207449888112813,-1.2048095471539242,0.134415733635699,-0.020261199053738906,-1.6008645767922423,6.191613481391001,1.4744490469939007,1.0454440999644687,-6.439799099943568,-2.0169650178498917,0.2325002813670915,0.4199849867189298,0.7543540171122186,-0.6965724694596267,-0.2562534981842056,2.8951506878554567,7.540835830804923,0.6241509130788739,-0.08369104946264715,-6.799441618327849,1.0392336697284552,1.1343405954833854,0.15029470563027744,-2.636618553345695,-3.845538946383727,1.4041523523958679,3.134102871344541,4.944567731040428,2.4766739097642065,1.5663693587558254,-2.6772058731906454,-0.7818185203786312,-1.3151354996321294,-0.12003011040058886,-1.325626609301394,-1.9858890548002472,3.632474530665645,2.9793721602585514,-1.0200636121814208,1.2048366001739848,-3.428718255924069,19.387373809165055,4.190474631338256,0.9544599536354071,-12.148035903861382,3.853026789182845,-1.630716612787948,-0.969535555500519,-4.870549172733712,9.065420623804064,-0.5464382945210006,0.5077385311279812,-13.256580320732986,-0.18293457281203537,1.9799138569825432,1.9272032385741802,-2.6656698933140666,0.9189018510355375,1.2149008880461778,-0.5746973824583114,-0.2879295058595086,-6.016310351652474,0.05743177824707732,-0.2820103443370205,0.42120625240652315,-0.5713696928739797,1.2496816882561188,1.053041678483479,4.92218791369507,-0.024912475299407363,0.08939824694188103,-3.656677814795502,-0.9603522416855579,-3.9877820084998468,-0.3161351638384065,7.4732001287529854,12.46172058379853,1.0599366746831091,-1.8313642446225098,-9.034368608887045,5.495762272882663,-2.070993955334137,-0.7352987430217914,-1.7320925753758831,-2.580081009445864,2.4706709781487484,-0.24768898516964385,-0.09964357342486266,0.803506538281886,1.2213182155084394,-3.715022685320019,7.9540661345805,-5.421717116865667,0.9126717724834509,-6.213071081460196,7.991824866191053,-0.7374404450344724,1.8021129295533744,-1.0689339100032875,2.4888257731084864,1.1680957700250398,0.0824495308761007,8.572795651307379,-2.0579841304336464,-0.7246862123372845,-6.9400235220598745,-2.7291324438402573,-7.246691890319196,0.6532086553547546,1.9691096952255915,3.8432723177203374,-1.5955282892542835,0.5606149240954625,4.019784385342962,2.388643626624717,1.8529005982464433,9.242495076549895,5.876126968830084,-5.293124207465394,-5.310899599750052,2.097696216476832,0.7791422450907859,3.697511474251024,-3.431878044829924,3.0485151729561144,-1.0291255500197658,-0.12138236152296104,6.168194734125731,-4.651431705809899,-2.1125981711360167,-5.696751896280379,-2.134256710832242,0.8010694645636689,-0.8035751020404369,4.910236050549687,3.77602804346206,-0.7720973619292804,-6.639998420846143,-1.3507980719011479,1.0489053957012862,-0.4742813971542652,-0.7706963721120872,3.338751643820357,0.8997568815262479,-0.6694557616284372,-11.30821270510278,1.2665477306215278,1.8660727501423948,0.8623819258644329,-4.298914474534178,1.2887055662654527,-3.8444692105250033,5.2860244680843165,1.8478406618393033,1.248940414037878,-2.4733885469629797,-0.5583747025059147,-2.480646130177647,5.517270593935127,-0.8954109253162005,8.342814097174877,1.1481093808048657,0.5290648439694658,-9.926312372478192,0.18056235816421723,3.207441780764499,2.1109434988612805,-0.5901942171017003,-2.426394177620925,-5.403370641958824,-0.05739615908360131,9.733830745796784,2.245364345451387,25.319077833304696,-6.254490076370863,-3.6877535801902486,-21.45552968155279,1.1728140254046466,-0.21490077455679626,-1.206255287975928,-2.1312791602514927,0.33062002141014,2.2568153815753615,-0.7617033308346948,-0.7227363162450975,1.5508566722537636,1.7807850696451828,9.842588249616046,4.391314322685743,1.2776500181991883,-4.688581952051749,-12.81557625031802,0.7965953565842451,-1.8832318478325842,-1.6493707594488354,4.126402859500535,-0.3558123063948885,11.041570975688437,-6.172306490684672,-0.6044601380706318,-8.432681528847423,-0.9956014181074353,2.555096491407944,8.676350652577128,12.457412987905775,-1.8358781188138458,-5.6638276132056875,-10.52193185291635,-1.1307119606031422,1.2034541469372295,7.797558778594221,3.1274766130874223,-1.7147163106965442,-8.292710243250772,-1.756234855869341,1.8688254288218715,2.002823801417317,0.18808910471563964,-3.389166027309897,-1.3310741379758206,-1.5406655675700227,5.07745701578769,2.5899098056217307,2.3442466265677466,-2.545865392629494,-11.469433891074734,5.124525664295624,6.278383836849212,-2.980228766288422,-0.027101486456567264,-6.6390207894578195,-0.1507289737074929,8.969127358748247,7.9234601642207885,2.5673611854631218,-15.399290703500872,-9.037180234920703,-1.5252643847654466,0.3502072268861822,-2.096470620701789,-0.5532483225502111,-0.27696851317866705,-0.8104412413643357,-0.634853380143,3.003931143579701,11.912393825666324,9.428371899096808,7.031260395874181,-11.114352527334662,-6.080228707266457,-21.501212337431365,0.552202154294609,-2.0488104189359584,-0.8682779309235724,0.059357606578202014,-0.34279813008401283,6.03187029607614,3.016979729628999,10.682585168376733,-0.9423387332612126,0.024034080480986535,-6.069436341143993,4.958093505377528,0.3966326463733721,-3.728649679460004,-6.77438937127729,1.573877706834289,-0.9891435656979565,7.8434300509316035,-1.2387116403124439,0.14014658733286872,3.6815794883819093,0.7272555631936661,5.777494383224331,-8.94436983159095,0.5587591264169689,8.279837292208308,4.8924965584785545,2.9874515588353203,-9.417722371137273,-6.891299244502622,-0.08314373672634608,0.3446685335372722,0.4050184523104137,-0.5065713323445095,0.9186263068990842,-1.6019601837106427,-1.304335905711948,0.08887876353504724,5.584245659836683,-1.9972240311926248,2.4174628812316934,-4.300970298345287,5.624838105146459,-3.3239577695820977,10.619284622182677,8.362506156829618,-0.903220997158377,-10.289474814711472,-8.655300018865175],\"z\":[-2.6373281709740026,6.157932729366823,-2.4741355688089985,-0.7902871756665227,17.462738783085207,1.098029521823767,1.7728198523582681,-1.4536721840442333,-0.10407450393250736,3.4307237431871282,-3.8763268715706167,1.0008727462047833,-1.870652022568032,-2.316491222216784,0.5353872178732088,-4.88835258287883,-4.697831374430567,0.25113491213941913,2.8151722608776413,16.707566863139036,-1.0253203407758895,-0.21165337448277577,6.487395028720412,-2.4365017291818223,-3.980997221688067,-3.095833936151042,5.015488543485078,-2.2403830202257677,6.320239396127071,22.97419649330799,4.092065048577394,0.08764642929443159,-4.182761314482842,4.602263731620812,0.3872168760139894,-3.9329940413269724,-4.858475395133349,5.457896673948084,1.3399857344350956,-3.780442582723815,3.1615055245593755,6.078723857340704,17.470072555163604,-5.255849506405972,3.5251162884643783,30.667580157425125,-3.996833368381614,-2.015206762429792,0.6762095622495602,-1.4611727952743834,-3.872675190126025,1.661598511876554,-2.876609070301881,-4.300185195794405,8.742663526374296,1.7652561958511186,-3.650329612282349,1.1834031999419217,-2.2512996327120747,-2.526621259797947,-3.0234815250346867,-4.04077145211575,-1.2117860413960364,2.9415559056678826,-0.8524951157167876,4.001186731645899,14.323033307399122,10.208656945569073,1.342593422737803,1.27532495220517,1.259679211361476,-1.6167299678618663,-4.125718545168653,-2.98231607885883,-3.680091672506379,0.9087478953129943,3.9680593083373776,-2.2462513071425545,21.860067563195773,0.418456686521806,-3.481556320506229,5.883723791410316,-2.006472509694315,-4.7622346116664716,-2.817862307199045,0.5137288297530895,-3.9074436562128723,-2.5372586753837654,-0.6642549224008663,-3.2144238098774056,-2.7941174090637677,8.77203923524994,-4.953566237826569,-2.745920521921676,2.860838746364819,-4.994083936819695,-1.3647334182111628,-1.663212109905189,-3.5802362689556695,-4.118743941892584,8.289590991913583,-1.9188412163323245,-1.5704415234950433,-3.398301881699052,-0.944286771457059,3.9165607567109313,-4.195880641069346,-2.5159830442146998,7.217291639074061,-3.672033411296616,12.606886132640382,-1.1743331317591414,-3.3839613824480854,1.3288511401170524,1.3775980003252941,1.077189587691294,0.4660445788008828,7.759432626067817,4.105089938483509,-0.04095745572897841,3.5245590421580806,-0.7078178389437618,-4.315277988981406,2.4205664355171788,-1.7738852211538725,-1.8049260007308003,-3.061375147050925,23.16079000205765,1.3332765387158874,-3.913560011226507,10.923754946600015,-2.4430304044406457,-3.535547041539119,-4.327201650456044,0.38834204235133735,-3.169017750036694,-4.901348525767647,6.693852629408129,-1.6841413770492473,-4.772376984576123,1.5569857378992038,-3.75083757421671,-1.760254396002745,-0.5721952257857938,-1.4433127036165048,-1.3528544180748374,-3.491877509822281,3.4411453453145766,-4.289103677783191,-0.5649740567455722,1.3091381444770387,-0.8652241828455736,0.49094024163275957,-0.5510204520987814,-2.0762285405160426,4.051954693418061,-0.5022802721969384,0.5270357791721202,0.41488746619519623,0.0207354590219763,-2.80604441055908,2.050958736554827,1.9142360371932645,-1.8978664361205948,0.3975356038155113,-1.1552609875388737,0.8740823682704699,-1.6980431161072218,-2.5350665733593396,-4.363375310652817,-1.6233732044216838,-4.4001179290898085,-3.644090659320778,0.07551038358146879,0.49050800945042855,-3.824347554662631,1.8216434099693384,0.23054566860982675,-1.774339206087882,-3.1305067624505045,-2.186299668132955,-2.8102129125214335,-3.1173107665456365,-0.9881457866124098,-4.1420372691881076,-0.3507595749094648,-0.46246660259031397,-0.10815799992805122,-0.9442790803608342,-3.4299146231944397,-2.377110577403174,-3.4288831540542613,-2.7632247949784254,2.9818391835501132,-1.5660782618915927,-4.30456634060566,-2.420536685930214,-3.710393200119284,-3.072357458199329,2.0138119018190896,-1.6961212933366956,17.32707495021383,-0.819209223012723,0.6749877982375564,4.285526590118616,-4.879438123014064,2.0710905282326744,-0.3789612397840811,-4.981757791720318,1.3338221158557408,-2.111438317837652,-0.19040739404631885,-3.3723072322078784,-2.3253454091708448,-1.7797669138447134,-3.9623637992168304,-1.8058692576014743,-3.477990855542779,-4.8072547546325115,-4.908002501310647,-3.6774718508688937,-5.138825857011172,-4.890078803139095,-4.761886770735427,0.8481379534796858,8.730670150394268,-2.0904651758384496,0.7798938956102773,5.0558977793685145,0.9807496186671029,-3.759746805177023,4.369901739253409,-1.7123378748035971,-0.27005904014543003,-2.85633320738083,-1.3477703680611453,1.7744957123110543,-4.035686707506507,-3.365135274052356,-1.41359585760642,-3.6578672432325763,-0.6481693728066202,-0.2976954873407462,-4.045032972353411,-3.2381608953151897,-0.7352734955135123,0.14313906657379882,-5.04218460291774,-2.23088273650614,0.08933036523858146,-4.65722136916323,-0.8289129250622818,-4.556966843798285,-2.5744450346525105,-2.578805970113826,-0.9051036448705693,1.3822477930609374,-2.7446297580277546,3.6400327042375773,-0.6575076294782639,3.2210477635458945,11.726099822502293,11.552159186451949,-1.8305000531142672,-4.839688273050848,1.4171360183093817,-2.2898284096724746,-3.402606290995587,-4.888810845362452,0.5333773186019025,7.639138351941714,-4.982628383047459,2.8476559891102644,0.5690838137108176,-3.498636939197307,-1.7646104591222578,-5.186004953062649,-4.978239323116852,-1.6480591599582115,-4.330192613148147,-5.193254404130702,-1.7719980319060828,-3.822524077002343,-4.170555370814764,0.5976373278475341,3.337093062377738,-3.8505278935736054,3.1888024844671494,1.0170119555167874,-4.319852340743749,-5.002688519984943,3.6604616726031267,-3.1335802891013467,-0.5933542156639794,-1.0142694286049139,-3.2311015004627484,0.6470716063134979,-2.391616835604537,0.5468642234220485,-2.649016363110664,2.818312391660158,4.405241924744091,1.4163451233532698,-4.418268939342286,-2.701616647138824,3.17017312083618,-1.6730025124063745,-2.0011297363594602,-1.081990152696043,-3.1240052144844754,-3.087688581218952,-1.132643565969578,-2.6494421475517234,-2.6402476500400995,-4.260062098847638,1.6801749221437805,-1.7495197441326136,-2.1458030820727876,-0.3413360683983069,1.1952710644954396,-2.3697924409127586,2.907776795876645,0.12139416057421983,7.126692412411417,-0.6723247494976908,8.335527620016062,1.1902618521713457,5.153903461001158,-1.848619773866057,-1.4890281239183576,4.489238829271133,-3.627792827437477,3.0335329596407434,9.697245101377984,-3.5088951630185155,-1.6230436232725183,3.762764082577957,-2.587847405256389,-2.9108716787885442,-4.073109552769138,-3.007634889838429,-2.964091151520935,-4.522181490511011,-3.65111926444881,14.06122717825968,1.6069364899762306,-5.241506659405305,1.3572551399948871,2.5470776171056917,-2.873394609282599,-3.838464519173702,-3.8535987087371977,-1.8678174237566776,0.017105380437114025,-2.3783241641660973,-0.7599541205782774,-1.6056707019752294,-1.0409724932041118,0.996306447908889,-1.994429655353461,-2.4482545479532924,1.833698421916825,3.5051417671292926,-0.6951022826632751,0.447619814699603,1.0409097867057173,-3.3837060892198716,18.280693119886607,-4.128035820777123,-2.957995419364126,11.078092380422312,-4.768969180589219,3.710654149969937,-4.712462735175032,-3.5830473293162655,-1.210361598332433,-0.6995909414440725,-3.6629183861882715,1.3598892336632624,-1.5727801019786773,11.997334156585618,-3.1783150915823204,-5.042144383018955,6.76622368109268,0.07980053153168164,-5.2247038370401295,-0.5517069992376139,3.037756627935859,-3.9944057150472077,-0.847323660516107,-3.148625771661899,-3.8253313360071073,-1.4925895248784957,-4.3443276830506665,-4.5661023288446465,2.307427903159543,-3.383824404167122,-3.4451692951018704,-2.879922744647664,1.8083801172958582,1.2641857807281627,-2.3300476595065795,-4.134514649926169,-2.9463744916445034,-2.198308454163705,-4.660159365929057,-3.7197600828790844,0.8668693002867617,-3.8981301877608714,-3.7701409017698557,-0.8190644205702486,-4.0607174360224745,-4.39424622485399,-4.433925732402154,-4.1434414803502975,-4.794051914099392,-4.203569857476297,2.2280721284620832,2.6135054159112343,-3.539089746036712,2.1351995348122474,-1.4479341480418746,-1.9677897102255435,5.5057205990707345,-4.759658283228768,-3.8929050403413292,-1.975272701589442,-3.9306161787015563,-1.7746976442471945,2.0077877446928563,-1.335031748575166,3.6839264084252425,1.0542233882052594,-0.6612346289572814,0.3574781266687141,-0.5906618605516349,-3.853911565462252,-3.40352676865257,2.655398376062009,-1.545135384143137,-4.769773255888282,-1.136273153797419,-0.9766293592185571,5.880603994481731,-5.690155660328761,-2.595433791706267,5.807620114600996,1.4272726919867567,-3.1146733949191803,1.1467516330389829,-2.2511464253723297,9.446877802596939,-0.3449901172293417,-5.303820715463857,8.466428483402778,-1.327082036420242,-5.682623709261267,-2.7683472982400876,-3.7557376978907224,-4.35889587812523,6.012575672080675,-5.005601645700049,-1.2310764214562906,0.10493977712979365,-4.58031326595594,-2.976862544241158,1.4632099891126176,-5.011562691544427,-5.085643878427423,-1.0526208172058276,-3.0878156639998036,-4.405342369081897,0.29815614306050386,-3.1293367285656597,-3.949911608871361,-3.0561225807957784,-4.4292122870888875,-0.7990317504016484,1.084645958511749,-3.897024690355451,5.680516298343118,2.5328957241971923,0.12443139438425876,3.57399767028479,-3.968810451499472,3.612591083431897,2.128233233505211,-3.2288518710771132,-2.488064669757807,0.512746283788184,-0.3286248815521625,3.8830877004695465,-2.114556558498485,3.23300966839174,-2.294127369666192,-3.861012349378082,1.9125023339093408,-0.6455351985564496,-3.6317765323161484,0.6459975173100497,5.815579399544432,-3.1485856045039506,3.5721911901738737,7.123081366210716,1.6177586235234371,6.50923619789872,9.383604545661603,4.5287742384160605,-3.064844400098215,4.695240402681931,-2.116831235063176,-3.6289121806370455,-2.672827366252948,-2.32885831105673,-1.334035728387939,3.485085118567824,-3.3450851464916593,2.9414314566513564,6.2860824082969655,4.874661677798172,1.9546073496654421,3.2704683060230817,1.7598701139030675,-3.263424864114542,7.053599676384779,3.546483629383817,-0.07546958474707263,4.392131280581378,-1.2118273251148775,6.225718494625917,1.0782470576714571,-4.084104306208724,2.3415056510174503,-3.9574707977286057,-5.324251614238981,1.0909290480003924,1.2626800323382044,-2.557986060265377,0.4337013324255357,3.334454056930269,0.9268291328930809,-1.4576618599356295,-4.944579145836596,-2.824272219497056,15.18313180462414,-4.565271469482271,-4.917492064457498,4.138781164194706,1.759119482497065,-2.980874101537953,1.410424981890982,-1.5153599585950865,-5.41508339169067,-2.323495923973422,-2.199352984759713,-3.6723998233852537,-2.195085298585128,-3.5705990367030527,-1.3923542734704168,-3.8629656700277963,-1.6868871096036753,-3.7310005358731533,5.953570071437439,-0.5838246722508608,-5.022633531536557,0.5034560402732287,4.689547519320169,-3.581828694296444,1.8255084378871664,-3.4997334729491048,-3.079810010632185,-1.398533140686034,-2.7271311021639115,0.6036595195866056,-2.948774900797481,13.717003390107134,0.9251002981004641,0.5813864939636988,12.865084647161346,-0.8215014607832742,-4.942205060680399,-4.270790976461172,-3.253082056123059,-5.023149641946092,-3.2589318321856235,-4.763497512741176,-4.929995171087343,-0.7135022429060021,-3.5731373763777032,1.8377753767480647,18.732504711754704,-4.578857468470145,9.235068294998472,6.565755835165045,-2.2218615654156673,-3.778447113076621,-4.052535569221753,15.17418915845202,-4.370757357539602,2.596026846715084,0.4878098819905864,-3.9870480249255427,6.394790380616792,-4.319824182959608,-2.2255893396117625,-1.4930474664423767,2.0870144565650683,-1.790000683699146,-1.600324636602181,13.212270908265758,-2.7647510780571234,-2.472619874152073,1.337424095047472,-1.9943512996505701,-1.6961433899667095,2.393578342614544,0.11999207924154179,-0.36818443550558244,-2.2139100376488927,-2.6421401157929174,1.0711530255853547,3.3545323275866714,-3.468977072254595,-2.1363132205468403,14.999367548572168,-2.193193169896691,5.244110177153028,5.937096646405045,1.2295389329138875,4.503462662003268,-3.5668927412503515,-0.3964816588166945,0.609377959552043,-4.791083277442251,17.510922886574367,6.035062939463248,-1.3750550249606819,6.511982830644236,8.860170712889678,2.0185539062539792,-3.912570489217645,-1.4491175499224596,-4.690631469560421,-3.6170078711073073,-4.8795972870677256,-4.37958381023855,3.6917998807408803,5.286092101622192,3.912579458669303,29.005322889772376,5.160430001721303,2.353203632841211,8.96405841361878,-4.319903004331266,-4.002060704250217,-3.097209833131313,-3.2227901467319278,-4.892387998076235,0.5528247474117788,0.33643310175108126,1.7215582357060417,1.996692626558195,-0.050918015601837605,9.777161473771121,3.3692425848641667,0.631883988562154,-0.1878506493962872,3.725520766037338,-2.1353779809404774,-2.7393977547774186,2.3762573149095982,3.0097987585591475,-2.237047737337657,9.853157971585182,-1.9645922473739712,3.390738122875489,0.48692815302071696,-3.436610712900984,4.154966654116529,4.295569772167184,0.325442053518115,2.7795675174223113,1.2102453913251052,-0.12819916986818358,-4.513010832516877,-0.763794871627526,3.671072773686101,0.4136136209667516,-2.21764287517607,0.6160086313231287,-3.1889913856475194,1.7222434330592553,-3.8943986509360826,-3.0620317970638453,-0.3564813915235967,-1.4303069894499947,-0.029066171308875642,2.088784928469797,9.51118487618172,-4.786793601674693,20.02737349970689,4.814656809303019],\"type\":\"scatter3d\"}],                        {\"template\":{\"data\":{\"bar\":[{\"error_x\":{\"color\":\"#2a3f5f\"},\"error_y\":{\"color\":\"#2a3f5f\"},\"marker\":{\"line\":{\"color\":\"#E5ECF6\",\"width\":0.5},\"pattern\":{\"fillmode\":\"overlay\",\"size\":10,\"solidity\":0.2}},\"type\":\"bar\"}],\"barpolar\":[{\"marker\":{\"line\":{\"color\":\"#E5ECF6\",\"width\":0.5},\"pattern\":{\"fillmode\":\"overlay\",\"size\":10,\"solidity\":0.2}},\"type\":\"barpolar\"}],\"carpet\":[{\"aaxis\":{\"endlinecolor\":\"#2a3f5f\",\"gridcolor\":\"white\",\"linecolor\":\"white\",\"minorgridcolor\":\"white\",\"startlinecolor\":\"#2a3f5f\"},\"baxis\":{\"endlinecolor\":\"#2a3f5f\",\"gridcolor\":\"white\",\"linecolor\":\"white\",\"minorgridcolor\":\"white\",\"startlinecolor\":\"#2a3f5f\"},\"type\":\"carpet\"}],\"choropleth\":[{\"colorbar\":{\"outlinewidth\":0,\"ticks\":\"\"},\"type\":\"choropleth\"}],\"contour\":[{\"colorbar\":{\"outlinewidth\":0,\"ticks\":\"\"},\"colorscale\":[[0.0,\"#0d0887\"],[0.1111111111111111,\"#46039f\"],[0.2222222222222222,\"#7201a8\"],[0.3333333333333333,\"#9c179e\"],[0.4444444444444444,\"#bd3786\"],[0.5555555555555556,\"#d8576b\"],[0.6666666666666666,\"#ed7953\"],[0.7777777777777778,\"#fb9f3a\"],[0.8888888888888888,\"#fdca26\"],[1.0,\"#f0f921\"]],\"type\":\"contour\"}],\"contourcarpet\":[{\"colorbar\":{\"outlinewidth\":0,\"ticks\":\"\"},\"type\":\"contourcarpet\"}],\"heatmap\":[{\"colorbar\":{\"outlinewidth\":0,\"ticks\":\"\"},\"colorscale\":[[0.0,\"#0d0887\"],[0.1111111111111111,\"#46039f\"],[0.2222222222222222,\"#7201a8\"],[0.3333333333333333,\"#9c179e\"],[0.4444444444444444,\"#bd3786\"],[0.5555555555555556,\"#d8576b\"],[0.6666666666666666,\"#ed7953\"],[0.7777777777777778,\"#fb9f3a\"],[0.8888888888888888,\"#fdca26\"],[1.0,\"#f0f921\"]],\"type\":\"heatmap\"}],\"heatmapgl\":[{\"colorbar\":{\"outlinewidth\":0,\"ticks\":\"\"},\"colorscale\":[[0.0,\"#0d0887\"],[0.1111111111111111,\"#46039f\"],[0.2222222222222222,\"#7201a8\"],[0.3333333333333333,\"#9c179e\"],[0.4444444444444444,\"#bd3786\"],[0.5555555555555556,\"#d8576b\"],[0.6666666666666666,\"#ed7953\"],[0.7777777777777778,\"#fb9f3a\"],[0.8888888888888888,\"#fdca26\"],[1.0,\"#f0f921\"]],\"type\":\"heatmapgl\"}],\"histogram\":[{\"marker\":{\"pattern\":{\"fillmode\":\"overlay\",\"size\":10,\"solidity\":0.2}},\"type\":\"histogram\"}],\"histogram2d\":[{\"colorbar\":{\"outlinewidth\":0,\"ticks\":\"\"},\"colorscale\":[[0.0,\"#0d0887\"],[0.1111111111111111,\"#46039f\"],[0.2222222222222222,\"#7201a8\"],[0.3333333333333333,\"#9c179e\"],[0.4444444444444444,\"#bd3786\"],[0.5555555555555556,\"#d8576b\"],[0.6666666666666666,\"#ed7953\"],[0.7777777777777778,\"#fb9f3a\"],[0.8888888888888888,\"#fdca26\"],[1.0,\"#f0f921\"]],\"type\":\"histogram2d\"}],\"histogram2dcontour\":[{\"colorbar\":{\"outlinewidth\":0,\"ticks\":\"\"},\"colorscale\":[[0.0,\"#0d0887\"],[0.1111111111111111,\"#46039f\"],[0.2222222222222222,\"#7201a8\"],[0.3333333333333333,\"#9c179e\"],[0.4444444444444444,\"#bd3786\"],[0.5555555555555556,\"#d8576b\"],[0.6666666666666666,\"#ed7953\"],[0.7777777777777778,\"#fb9f3a\"],[0.8888888888888888,\"#fdca26\"],[1.0,\"#f0f921\"]],\"type\":\"histogram2dcontour\"}],\"mesh3d\":[{\"colorbar\":{\"outlinewidth\":0,\"ticks\":\"\"},\"type\":\"mesh3d\"}],\"parcoords\":[{\"line\":{\"colorbar\":{\"outlinewidth\":0,\"ticks\":\"\"}},\"type\":\"parcoords\"}],\"pie\":[{\"automargin\":true,\"type\":\"pie\"}],\"scatter\":[{\"marker\":{\"colorbar\":{\"outlinewidth\":0,\"ticks\":\"\"}},\"type\":\"scatter\"}],\"scatter3d\":[{\"line\":{\"colorbar\":{\"outlinewidth\":0,\"ticks\":\"\"}},\"marker\":{\"colorbar\":{\"outlinewidth\":0,\"ticks\":\"\"}},\"type\":\"scatter3d\"}],\"scattercarpet\":[{\"marker\":{\"colorbar\":{\"outlinewidth\":0,\"ticks\":\"\"}},\"type\":\"scattercarpet\"}],\"scattergeo\":[{\"marker\":{\"colorbar\":{\"outlinewidth\":0,\"ticks\":\"\"}},\"type\":\"scattergeo\"}],\"scattergl\":[{\"marker\":{\"colorbar\":{\"outlinewidth\":0,\"ticks\":\"\"}},\"type\":\"scattergl\"}],\"scattermapbox\":[{\"marker\":{\"colorbar\":{\"outlinewidth\":0,\"ticks\":\"\"}},\"type\":\"scattermapbox\"}],\"scatterpolar\":[{\"marker\":{\"colorbar\":{\"outlinewidth\":0,\"ticks\":\"\"}},\"type\":\"scatterpolar\"}],\"scatterpolargl\":[{\"marker\":{\"colorbar\":{\"outlinewidth\":0,\"ticks\":\"\"}},\"type\":\"scatterpolargl\"}],\"scatterternary\":[{\"marker\":{\"colorbar\":{\"outlinewidth\":0,\"ticks\":\"\"}},\"type\":\"scatterternary\"}],\"surface\":[{\"colorbar\":{\"outlinewidth\":0,\"ticks\":\"\"},\"colorscale\":[[0.0,\"#0d0887\"],[0.1111111111111111,\"#46039f\"],[0.2222222222222222,\"#7201a8\"],[0.3333333333333333,\"#9c179e\"],[0.4444444444444444,\"#bd3786\"],[0.5555555555555556,\"#d8576b\"],[0.6666666666666666,\"#ed7953\"],[0.7777777777777778,\"#fb9f3a\"],[0.8888888888888888,\"#fdca26\"],[1.0,\"#f0f921\"]],\"type\":\"surface\"}],\"table\":[{\"cells\":{\"fill\":{\"color\":\"#EBF0F8\"},\"line\":{\"color\":\"white\"}},\"header\":{\"fill\":{\"color\":\"#C8D4E3\"},\"line\":{\"color\":\"white\"}},\"type\":\"table\"}]},\"layout\":{\"annotationdefaults\":{\"arrowcolor\":\"#2a3f5f\",\"arrowhead\":0,\"arrowwidth\":1},\"autotypenumbers\":\"strict\",\"coloraxis\":{\"colorbar\":{\"outlinewidth\":0,\"ticks\":\"\"}},\"colorscale\":{\"diverging\":[[0,\"#8e0152\"],[0.1,\"#c51b7d\"],[0.2,\"#de77ae\"],[0.3,\"#f1b6da\"],[0.4,\"#fde0ef\"],[0.5,\"#f7f7f7\"],[0.6,\"#e6f5d0\"],[0.7,\"#b8e186\"],[0.8,\"#7fbc41\"],[0.9,\"#4d9221\"],[1,\"#276419\"]],\"sequential\":[[0.0,\"#0d0887\"],[0.1111111111111111,\"#46039f\"],[0.2222222222222222,\"#7201a8\"],[0.3333333333333333,\"#9c179e\"],[0.4444444444444444,\"#bd3786\"],[0.5555555555555556,\"#d8576b\"],[0.6666666666666666,\"#ed7953\"],[0.7777777777777778,\"#fb9f3a\"],[0.8888888888888888,\"#fdca26\"],[1.0,\"#f0f921\"]],\"sequentialminus\":[[0.0,\"#0d0887\"],[0.1111111111111111,\"#46039f\"],[0.2222222222222222,\"#7201a8\"],[0.3333333333333333,\"#9c179e\"],[0.4444444444444444,\"#bd3786\"],[0.5555555555555556,\"#d8576b\"],[0.6666666666666666,\"#ed7953\"],[0.7777777777777778,\"#fb9f3a\"],[0.8888888888888888,\"#fdca26\"],[1.0,\"#f0f921\"]]},\"colorway\":[\"#636efa\",\"#EF553B\",\"#00cc96\",\"#ab63fa\",\"#FFA15A\",\"#19d3f3\",\"#FF6692\",\"#B6E880\",\"#FF97FF\",\"#FECB52\"],\"font\":{\"color\":\"#2a3f5f\"},\"geo\":{\"bgcolor\":\"white\",\"lakecolor\":\"white\",\"landcolor\":\"#E5ECF6\",\"showlakes\":true,\"showland\":true,\"subunitcolor\":\"white\"},\"hoverlabel\":{\"align\":\"left\"},\"hovermode\":\"closest\",\"mapbox\":{\"style\":\"light\"},\"paper_bgcolor\":\"white\",\"plot_bgcolor\":\"#E5ECF6\",\"polar\":{\"angularaxis\":{\"gridcolor\":\"white\",\"linecolor\":\"white\",\"ticks\":\"\"},\"bgcolor\":\"#E5ECF6\",\"radialaxis\":{\"gridcolor\":\"white\",\"linecolor\":\"white\",\"ticks\":\"\"}},\"scene\":{\"xaxis\":{\"backgroundcolor\":\"#E5ECF6\",\"gridcolor\":\"white\",\"gridwidth\":2,\"linecolor\":\"white\",\"showbackground\":true,\"ticks\":\"\",\"zerolinecolor\":\"white\"},\"yaxis\":{\"backgroundcolor\":\"#E5ECF6\",\"gridcolor\":\"white\",\"gridwidth\":2,\"linecolor\":\"white\",\"showbackground\":true,\"ticks\":\"\",\"zerolinecolor\":\"white\"},\"zaxis\":{\"backgroundcolor\":\"#E5ECF6\",\"gridcolor\":\"white\",\"gridwidth\":2,\"linecolor\":\"white\",\"showbackground\":true,\"ticks\":\"\",\"zerolinecolor\":\"white\"}},\"shapedefaults\":{\"line\":{\"color\":\"#2a3f5f\"}},\"ternary\":{\"aaxis\":{\"gridcolor\":\"white\",\"linecolor\":\"white\",\"ticks\":\"\"},\"baxis\":{\"gridcolor\":\"white\",\"linecolor\":\"white\",\"ticks\":\"\"},\"bgcolor\":\"#E5ECF6\",\"caxis\":{\"gridcolor\":\"white\",\"linecolor\":\"white\",\"ticks\":\"\"}},\"title\":{\"x\":0.05},\"xaxis\":{\"automargin\":true,\"gridcolor\":\"white\",\"linecolor\":\"white\",\"ticks\":\"\",\"title\":{\"standoff\":15},\"zerolinecolor\":\"white\",\"zerolinewidth\":2},\"yaxis\":{\"automargin\":true,\"gridcolor\":\"white\",\"linecolor\":\"white\",\"ticks\":\"\",\"title\":{\"standoff\":15},\"zerolinecolor\":\"white\",\"zerolinewidth\":2}}},\"scene\":{\"xaxis\":{\"title\":{\"text\":\"0th\"},\"type\":\"linear\",\"showexponent\":\"all\",\"exponentformat\":\"e\"},\"yaxis\":{\"title\":{\"text\":\"1st\"},\"type\":\"linear\",\"showexponent\":\"all\",\"exponentformat\":\"e\"},\"zaxis\":{\"title\":{\"text\":\"2nd\"},\"type\":\"linear\",\"showexponent\":\"all\",\"exponentformat\":\"e\"}}},                        {\"responsive\": true}                    ).then(function(){\n",
              "                            \n",
              "var gd = document.getElementById('a997944b-eb96-48d8-8c1e-3865873fab57');\n",
              "var x = new MutationObserver(function (mutations, observer) {{\n",
              "        var display = window.getComputedStyle(gd).display;\n",
              "        if (!display || display === 'none') {{\n",
              "            console.log([gd, 'removed!']);\n",
              "            Plotly.purge(gd);\n",
              "            observer.disconnect();\n",
              "        }}\n",
              "}});\n",
              "\n",
              "// Listen for the removal of the full notebook cells\n",
              "var notebookContainer = gd.closest('#notebook-container');\n",
              "if (notebookContainer) {{\n",
              "    x.observe(notebookContainer, {childList: true});\n",
              "}}\n",
              "\n",
              "// Listen for the clearing of the current output cell\n",
              "var outputEl = gd.closest('.output');\n",
              "if (outputEl) {{\n",
              "    x.observe(outputEl, {childList: true});\n",
              "}}\n",
              "\n",
              "                        })                };                            </script>        </div>\n",
              "</body>\n",
              "</html>"
            ]
          },
          "metadata": {}
        }
      ]
    },
    {
      "cell_type": "markdown",
      "source": [
        "#### Incrustacion y plot de componentes principales de temperaturas"
      ],
      "metadata": {
        "id": "g88k1QXX9yy5"
      }
    },
    {
      "cell_type": "code",
      "source": [
        "df_final.boxplot('temperatures')"
      ],
      "metadata": {
        "colab": {
          "base_uri": "https://localhost:8080/",
          "height": 282
        },
        "id": "rDOuj9aa2zTy",
        "outputId": "7983a5e9-d52a-4d3e-dd0f-7fbc91c48c95"
      },
      "execution_count": 20,
      "outputs": [
        {
          "output_type": "execute_result",
          "data": {
            "text/plain": [
              "<matplotlib.axes._subplots.AxesSubplot at 0x7f1f88ec3110>"
            ]
          },
          "metadata": {},
          "execution_count": 20
        },
        {
          "output_type": "display_data",
          "data": {
            "text/plain": [
              "<Figure size 432x288 with 1 Axes>"
            ],
            "image/png": "[encoded data removed]"
          },
          "metadata": {
            "needs_background": "light"
          }
        }
      ]
    },
    {
      "cell_type": "code",
      "source": [
        "y_periodic_embedded = fit_embedder(embedder_periodic, df_final['temperatures'])\n",
        "pca = PCA(n_components=3)\n",
        "y_periodic_embedded_pca = pca.fit_transform(y_periodic_embedded)\n",
        "plot_point_cloud(y_periodic_embedded_pca)"
      ],
      "metadata": {
        "colab": {
          "base_uri": "https://localhost:8080/",
          "height": 577
        },
        "id": "X-BwkTVL1T0w",
        "outputId": "bbe00cb1-f16e-4651-cd30-2c432a5fbdc9"
      },
      "execution_count": 21,
      "outputs": [
        {
          "output_type": "stream",
          "name": "stdout",
          "text": [
            "Shape of embedded time series: (703, 6)\n",
            "Optimal embedding dimension is 6 and time delay is 20\n"
          ]
        },
        {
          "output_type": "display_data",
          "data": {
            "text/html": [
              "<html>\n",
              "<head><meta charset=\"utf-8\" /></head>\n",
              "<body>\n",
              "    <div>            <script src=\"https://cdnjs.cloudflare.com/ajax/libs/mathjax/2.7.5/MathJax.js?config=TeX-AMS-MML_SVG\"></script><script type=\"text/javascript\">if (window.MathJax) {MathJax.Hub.Config({SVG: {font: \"STIX-Web\"}});}</script>                <script type=\"text/javascript\">window.PlotlyConfig = {MathJaxConfig: 'local'};</script>\n",
              "        <script src=\"https://cdn.plot.ly/plotly-2.8.3.min.js\"></script>                <div id=\"2ac592a3-5d16-4fc1-946f-5a62b1ec4495\" class=\"plotly-graph-div\" style=\"height:525px; width:100%;\"></div>            <script type=\"text/javascript\">                                    window.PLOTLYENV=window.PLOTLYENV || {};                                    if (document.getElementById(\"2ac592a3-5d16-4fc1-946f-5a62b1ec4495\")) {                    Plotly.newPlot(                        \"2ac592a3-5d16-4fc1-946f-5a62b1ec4495\",                        [{\"marker\":{\"color\":[0,1,2,3,4,5,6,7,8,9,10,11,12,13,14,15,16,17,18,19,20,21,22,23,24,25,26,27,28,29,30,31,32,33,34,35,36,37,38,39,40,41,42,43,44,45,46,47,48,49,50,51,52,53,54,55,56,57,58,59,60,61,62,63,64,65,66,67,68,69,70,71,72,73,74,75,76,77,78,79,80,81,82,83,84,85,86,87,88,89,90,91,92,93,94,95,96,97,98,99,100,101,102,103,104,105,106,107,108,109,110,111,112,113,114,115,116,117,118,119,120,121,122,123,124,125,126,127,128,129,130,131,132,133,134,135,136,137,138,139,140,141,142,143,144,145,146,147,148,149,150,151,152,153,154,155,156,157,158,159,160,161,162,163,164,165,166,167,168,169,170,171,172,173,174,175,176,177,178,179,180,181,182,183,184,185,186,187,188,189,190,191,192,193,194,195,196,197,198,199,200,201,202,203,204,205,206,207,208,209,210,211,212,213,214,215,216,217,218,219,220,221,222,223,224,225,226,227,228,229,230,231,232,233,234,235,236,237,238,239,240,241,242,243,244,245,246,247,248,249,250,251,252,253,254,255,256,257,258,259,260,261,262,263,264,265,266,267,268,269,270,271,272,273,274,275,276,277,278,279,280,281,282,283,284,285,286,287,288,289,290,291,292,293,294,295,296,297,298,299,300,301,302,303,304,305,306,307,308,309,310,311,312,313,314,315,316,317,318,319,320,321,322,323,324,325,326,327,328,329,330,331,332,333,334,335,336,337,338,339,340,341,342,343,344,345,346,347,348,349,350,351,352,353,354,355,356,357,358,359,360,361,362,363,364,365,366,367,368,369,370,371,372,373,374,375,376,377,378,379,380,381,382,383,384,385,386,387,388,389,390,391,392,393,394,395,396,397,398,399,400,401,402,403,404,405,406,407,408,409,410,411,412,413,414,415,416,417,418,419,420,421,422,423,424,425,426,427,428,429,430,431,432,433,434,435,436,437,438,439,440,441,442,443,444,445,446,447,448,449,450,451,452,453,454,455,456,457,458,459,460,461,462,463,464,465,466,467,468,469,470,471,472,473,474,475,476,477,478,479,480,481,482,483,484,485,486,487,488,489,490,491,492,493,494,495,496,497,498,499,500,501,502,503,504,505,506,507,508,509,510,511,512,513,514,515,516,517,518,519,520,521,522,523,524,525,526,527,528,529,530,531,532,533,534,535,536,537,538,539,540,541,542,543,544,545,546,547,548,549,550,551,552,553,554,555,556,557,558,559,560,561,562,563,564,565,566,567,568,569,570,571,572,573,574,575,576,577,578,579,580,581,582,583,584,585,586,587,588,589,590,591,592,593,594,595,596,597,598,599,600,601,602,603,604,605,606,607,608,609,610,611,612,613,614,615,616,617,618,619,620,621,622,623,624,625,626,627,628,629,630,631,632,633,634,635,636,637,638,639,640,641,642,643,644,645,646,647,648,649,650,651,652,653,654,655,656,657,658,659,660,661,662,663,664,665,666,667,668,669,670,671,672,673,674,675,676,677,678,679,680,681,682,683,684,685,686,687,688,689,690,691,692,693,694,695,696,697,698,699,700,701,702],\"colorscale\":[[0.0,\"#440154\"],[0.1111111111111111,\"#482878\"],[0.2222222222222222,\"#3e4989\"],[0.3333333333333333,\"#31688e\"],[0.4444444444444444,\"#26828e\"],[0.5555555555555556,\"#1f9e89\"],[0.6666666666666666,\"#35b779\"],[0.7777777777777778,\"#6ece58\"],[0.8888888888888888,\"#b5de2b\"],[1.0,\"#fde725\"]],\"opacity\":0.8,\"size\":4},\"mode\":\"markers\",\"x\":[22.29518215558219,14.99101907298305,-1.6041351345066666,-13.933135109795248,-19.296076232688062,-21.57359499594309,-16.69543400825929,-7.8875880083286285,-0.06304510524999045,13.445835747730575,20.656741902012595,17.4403923268504,14.288640297040137,0.5146889788127302,-11.326932367984503,-18.52943468890484,-28.086158730230142,-25.383919023971888,-19.52457862600172,-7.016929905489507,-1.1935128357405207,18.061535651147672,23.66985827213155,24.38303279407808,30.82200831900809,7.109287294714544,-1.6153069423943458,-15.074460683773763,-21.335754080177814,-20.65942587451247,-11.442417357106446,-8.845433196563889,5.072426988670789,15.880593921237976,18.361073883167705,20.719023330645225,11.966375125762367,8.24781433015182,-7.451601604327641,-12.843899210201045,-16.990682410994133,-21.36333150705499,-19.241681422364177,-12.993562683272689,-4.48995197988993,4.0869663048238,15.99261550813409,19.935035813420892,21.51419220221047,16.283636363389185,8.721213473852139,-7.774683870914562,-13.098010166026823,-18.943739904517525,-14.489005000877146,-11.827797093850263,-0.6688044354859499,11.911271233191528,19.66686268398324,26.389700111464254,26.809028445268076,11.432040065893704,3.2789073790043224,-11.848750126659668,-17.370591496463195,-26.223635010115057,-16.330679506019514,-14.445313020175831,-1.1154314792734756,4.26421508750853,18.97547878216271,10.551553332501094,22.691576770801273,11.730939908248978,3.9128382055681703,-4.233750001362418,-15.467137778856577,-23.089456674658123,-15.538514884908555,-14.29996205803607,-6.219869847649006,7.933148215747639,13.692710515662247,15.539682850026805,23.4793766737596,11.316828992031764,11.594783092663132,-6.557794936555661,-11.160359424866803,-15.95987052037752,-17.87874759191525,-11.731885731576977,-4.957449076847135,5.393869457824194,22.786792294247498,26.80683340121361,33.688930414482996,26.094441488755105,11.376471542189133,2.7988799754240765,-12.405629699055329,-19.92596261088039,-20.733808865687358,-14.501052762301525,-5.760400255255685,5.911390418143909,13.343363627172511,26.702091484051238,19.3622671786808,20.768013696296254,9.827179161227866,-0.1999710624798417,-8.18212641724239,-18.24572517890606,-21.288485536374875,-18.21167733388356,-11.966575396093303,1.4999648669789873,14.314896178030484,24.192645004284476,25.675214520584106,21.787372216281945,9.011820741605645,3.2969486196280844,-12.623945269012268,-17.665832632646264,-25.477439335833818,-19.780617909735525,-10.327355710561088,5.659729940157681,10.374066017815304,26.001699084534202,25.067530194933195,32.30966013002963,24.94737008047404,12.206672585539174,-4.6253270635421915,-19.38476168857104,-26.436810887464244,-25.13685810328113,-19.488179080493488,-2.7023431647726643,4.198250860601161,26.848663328121248,26.471847983169685,36.15249162909875,22.97283069330448,9.829951867379613,-8.722768107132191,-20.72252758193534,-25.716690639875598,-18.514304453280644,-16.499702973956555,-0.5316005210934964,11.383615412577669,15.236078967129641,24.952232678144426,23.27647077283636,13.561806102393554,11.429981106849118,-8.444451476104737,-14.71783015704526,-24.634835190587598,-19.59604290483798,-19.34442192460258,-2.652987413898185,0.7169513486444776,20.427681598286973,17.381045511566516,23.30935807196635,19.39099149375225,6.7821405502830805,-1.4651125520334107,-13.814822473351795,-20.07351822843485,-20.78666483418994,-17.727120277807163,-5.045784739643951,0.12965292584780055,8.19869989560674,12.498192633050865,10.582835107853505,12.494971278011144,4.8782082646208735,-1.22983508538047,-11.54111912615064,-19.296955998424657,-25.218635372316633,-19.396853069701443,-6.415836552752668,3.4839417697263038,17.57889818554493,15.311039344133402,16.677780075395052,8.993805630362568,4.833892401471018,-5.539359414815955,-12.132764437949174,-19.444622331043988,-21.971124755728965,-18.52834187290833,-10.004835096386584,-3.185191386142271,15.04962676060909,8.07829046362175,19.97037134616,14.786959118183619,15.952529639831432,8.04384817499806,-5.648994981447704,-19.127507063129258,-30.914010061528,-25.929263443316,-19.454435165724444,-1.5816007786682282,-0.47288313458751924,23.547915360215775,9.648232527556555,27.42852996887045,14.059218524797965,2.2812316106566057,-6.788524647022755,-20.46357491216296,-26.606184745592348,-22.863999205351305,-13.496727742822324,-4.256078558931287,11.725807519017362,15.775203643046476,30.362748422154322,25.21114137816126,22.69914191241205,13.855073488170676,-1.6088705297988495,-6.536652696723597,-24.17003260810019,-16.47754167397853,-19.00594343014634,-5.32363044012673,3.201386712311476,11.385200995535929,22.642635924215757,23.11359504895112,25.517382116098595,20.34500995815252,-1.1982924304965206,-9.39014047964111,-19.591930045093992,-21.95949678726302,-15.260601394301842,-8.161727606709606,-1.9228803499330618,16.42480688075799,28.977478122678516,32.378783727667255,28.119596998147667,16.013260801738667,3.294910757836904,-11.937106548105097,-14.35186726604537,-25.67616463526377,-15.841591739500434,-11.3245532896576,3.199820939148556,18.352299750149736,20.88916576121165,29.643155891746108,24.718787683934707,12.56413163116335,-0.6051673758917083,-11.093128399904263,-22.4480314548331,-23.894825667961683,-18.834077822996566,-10.519454015129929,5.5585289897169625,9.099094123837768,16.946296811084917,20.92704389407311,14.385642195663499,20.90609328530224,3.823345007904538,-4.484997647677741,-19.18875586925993,-21.081701745997027,-23.18097905962593,-12.680941246639863,-4.659123838896402,10.769470857688622,25.872025133576802,24.607457278393227,25.258265227785053,12.385502231999991,2.628817982721497,-13.760940854241554,-12.559123191852075,-32.181527207119856,-17.174105828767633,-20.430063307559728,-2.0632001413130454,0.4583694799963835,8.77093750639674,11.872865429842584,16.83855588397761,14.938943678702236,9.96332489365991,-1.6920022650962043,-10.533503866441494,-25.231722832576576,-22.297019348083413,-20.00936682258437,-9.932646168046094,-1.9121865468594827,13.352500102091968,20.422666751341744,20.69894469413133,23.193905618278844,5.789550752829572,-1.276314872053608,-17.180517996911455,-22.794372821039914,-23.883703666382,-18.518363418840277,-10.284313929447402,-0.8410850431348158,9.437293165266338,20.73563711333555,23.05811935502783,28.641897372835178,14.43077651719764,4.0468317236028595,-10.63162833772728,-15.234823676991908,-23.016003044953496,-16.148136647927398,-12.34576965431978,2.792310048920162,12.566001576991283,27.298466414437424,23.9785127215204,27.556884609579487,11.979179952433308,7.174403753018146,-10.454967004914216,-20.468203224489958,-22.759647043031375,-19.901514435347792,-10.00281147722265,-0.9430560883502568,13.215827238354828,27.835475600636165,32.48998590786174,33.70982760148058,22.493508637580966,9.458883446494577,-6.685374672912218,-9.592223908928833,-19.51001022243697,-15.56467053733527,-12.225550625724122,-0.7210650241289326,5.842722672929554,19.06968874317939,18.297679491674145,18.665527580706733,19.739960185229634,4.384174270319037,-5.180957315272857,-18.820486405398302,-23.632552837474183,-23.77702760376026,-13.997698509207254,-3.0055492194718103,5.975384325014873,9.160272060368396,12.610954665053518,7.183763327181208,4.488237792270996,5.048206593482193,-5.537983418964773,-11.121710322432081,-23.319943599528106,-16.487845057136436,-17.19167189878856,-4.449972099507871,3.8335325289691573,5.891376157597753,18.7007594501449,2.8477977756926744,13.667088138216531,-3.3217959984765835,-5.817024004926042,-14.663326128297793,-21.11383873165242,-23.48974663406895,-16.64386523586011,-8.932259355583557,6.993432677525982,13.888867397286816,22.600895913438016,18.096925641345837,16.877159726314396,9.191565845016694,-0.4246348850215869,-10.659198947581324,-16.709479569118503,-26.837071836853184,-16.913371565041018,-10.285337431739489,6.37300779206075,6.918042847685992,14.4842202626199,13.516528396544953,10.406143881683816,9.649751741065273,0.18100410953492513,-11.520354671051722,-19.519036418602862,-23.081258333171046,-16.962860610090715,-8.625835276092172,2.0116547826082263,12.67225441923106,20.932775855552052,17.85763510923831,23.380767046097883,8.267928186205758,5.8521838325217965,-13.49069397197163,-14.706176803999643,-24.810136074979194,-14.513502521971692,-12.574990957428783,5.104360047515574,6.82601692022173,20.48285481004439,24.98372536671893,25.600408971921013,19.94094003051781,8.662696414670329,-6.905845995237929,-19.73837995663257,-25.070309076551016,-24.916786356407663,-14.823793999796827,-6.491779880964495,9.236779546115503,9.330483450265456,20.76716208744335,15.662167718183282,20.14607159769576,10.73906007052857,0.1708643558684227,-8.090261220732462,-20.600034039615213,-17.964447625351884,-20.554234149836113,-8.01947149755795,-2.216436649310921,14.605760694511162,24.28127377803703,27.32549236255053,25.242650049511724,9.59982436054299,1.3466536995466785,-16.70286061907252,-16.992113649533295,-21.631487723869306,-17.835824425271536,-8.298996118231152,0.8385952431231349,24.75588517530145,12.525855835396609,27.600226682585923,14.306048487822213,8.636548986090924,-0.4507132856051541,-7.873221337883162,-22.848652958241985,-24.992814291566553,-20.383077315739907,-12.024207781242174,5.744989643982631,13.505844575585272,20.054167094906774,17.06195836503112,14.334342073360562,13.412765378608839,1.5695563333571634,-5.588260460028292,-17.652296397496176,-21.524286659032555,-20.637906588802366,-14.23908757434603,-0.6285757074321378,14.13061602738942,20.4610368617024,25.907205862556868,24.577832836484937,11.777918296896258,4.406355665191683,-9.360189438245127,-16.584659344751625,-20.40484334417202,-23.97489336203429,-15.441179624654632,-12.59400568440517,5.735394137445173,12.847744308611842,17.990672806267614,20.894618402611698,11.910308591990134,5.244595127929558,-8.53994173558612,-15.732867921846038,-22.259447130910452,-22.197216642390057,-17.958081714715455,-7.485785215517198,-2.1733118012963573,13.965589560212175,12.286342390783284,36.94758778015305,14.68184661584437,20.419111501199467,-2.01069895772135,-13.509996113175044,-26.909244502462737,-23.044386435651855,-21.944825266882088,-9.3472092557129,1.089803610294483,12.29409315995899,17.93464516452698,18.618764374022383,15.381895270708366,6.810062338614654,-3.139345477730122,-15.185871036684897,-21.71213436461937,-27.18074843628541,-19.297170551680743,-12.412600032149996,9.930620831867932,15.871388488283026,24.766759956656948,20.04611873730578,17.217049148663563,5.978658222910824,2.1442851420257742,-13.881574016873003,-23.49514807577038,-24.344333379638318,-26.020196839277283,-12.02000666308368,-2.6096077419115464,13.49544001346029,16.053625018314754,25.41635360218826,21.488717921673327,10.681636502719211,1.2943488267085232,-9.108519286114229,-18.413701042673825,-23.583859381353022,-21.01340917983956,-13.625267157089604,-3.3132025366345434,8.001889320457435,9.932491853141286,10.969113502206785,12.245054379780736,6.968677648867344,1.8918883644603641,-4.520741494171045,-18.17568845031181,-17.689044193160854,-22.450218746233237,-13.513799599843322,-10.927253874531246,3.262341022451232,11.226768910032888,11.034830812461056,32.56938367235921,15.841563238083681,17.672323121046617,-0.7290611744580273,-17.794094884848455,-23.058741310031746,-30.350861653051847,-21.061630113054566,-10.738101357367743,-2.3515773598064293,5.0174453159004635,12.019272437911015,10.805103908551603,10.322736517292347,6.281650040320067,-5.224615681576514,-16.64559834811545,-20.65142406446409,-27.82292978807008,-19.7195636659512,-13.822965883008399,2.3862132308460984,13.791060158712751,19.957999746718055,18.164640192924153,16.923274086160088,1.1306859713038724,1.942608566752926,-18.55015380504973,-19.368272127226316,-27.219138315014405,-16.387027046340393,-14.553327317952613,2.6697107716987607,2.5227891539587435,21.320817484921527,15.136593200855947,13.619418538696547,11.15018266264555,-6.269477698491078,-14.083174895138669,-20.61481726909504,-26.12355470382434,-20.880751037721847,-11.615535574425564,4.260745453627287,7.7722807526581645,38.60854119337515,23.47432587680876,34.209535648594176,13.706120329528888,7.049055126692864,-13.706086904326492,-12.239489406068335,-25.26887593923758,-19.45147029616141,-14.315192934452487,2.1310176582078415,13.3377646638933,24.085535032310318,28.23441873739432,25.59894263175927,12.76936374477246,5.870860086492106,-9.713078807032856,-17.646269483224224,-24.103040634838035,-22.18211804486054,-22.000713784099016,-9.545245195353779,-0.129221917519324,12.708503106413437,18.821854095087826,16.517286740139845,13.1158798794409,-1.7647153699043143,-4.723922294815583,-14.48389544437297,-20.424540326087296,-21.27787687657521,-15.764510059009963,-8.24066607716553,7.1463089287537755,21.43455590685584,19.686190164038287,31.071514742885547,19.293668691382887,10.209714656706375,-0.08347864578041678,-11.42428051651738,-20.538284149604138,-25.36366148687451,-19.307647077577883,-9.27900122612281,1.086781430801822,9.955492110603606,15.535223633317518,16.159261249086455,10.388695483892743,6.010028322913693,-6.462684582274449,-17.391750095543202,-22.21009961424839,-29.23919726863852,-20.493581492258755,-13.07297532133786,-7.374707313959887,7.124498056809939,14.752261976950011,13.641820714627839,17.98561498226129,9.021507463831474,1.6370123547916509,-7.548908052794068,-14.721845925757828,-21.075169369206613,-21.368522099399033,-13.724540657796338,-10.519533877863843,2.917616521414948],\"y\":[12.726614016249531,19.409748055711294,19.769817827391762,10.171734615205434,3.4677965974172076,-2.6849713496453087,-3.807103127375852,-11.855058566797185,-14.104678080193885,-9.659677143437538,-2.6807767390631367,8.659598536332204,12.724963281174176,11.726366183503625,17.9127072245577,10.783794651261877,1.4787181891316226,-4.930612767791123,-8.32455507731049,-14.74364745038949,-9.084867051904375,-11.910374520988569,-17.72089977576289,3.9671161467385443,12.504282884028253,13.368585111005611,19.977066904574123,7.57465327216733,2.6955287062996893,-1.0570932785008575,-12.30301892327955,-13.894104650009286,-5.893666749378037,-9.100351129797707,-8.884108897780141,9.263989518172277,14.461823544015463,12.842773512780168,6.012945903854644,13.368331890818572,3.7513068190130037,-3.053547970446392,-2.897666427955694,-7.337386541148662,-15.781434291465821,-8.21119820037623,-5.585822765749981,-4.738241702761823,1.8520305638723988,14.220427181373232,16.898139264410627,13.807158154007059,8.615908681701534,0.574802020844721,-4.81687601501259,-6.9295906656667325,-7.756764579615571,-20.960816530384168,-12.37488771777009,1.5994971908138735,6.622563947208634,7.854742460670159,17.8120934091173,15.68688520587395,6.439093908286926,-0.2787228273434536,-5.421681707977606,-10.246890288838394,-12.276066216116298,-7.498515311723986,-5.583527647728435,2.5215029123620627,7.488293361394121,3.0531271464877494,19.816146622857776,17.638556744340153,2.898787721000505,4.548131844727889,-0.6651150782229931,-16.207150547591922,-7.98785454533393,-10.665871931820007,-10.288941699774433,-4.109580118356413,-0.96886433115023,5.814401117785679,11.276062945256388,11.32689448585201,10.705654848878098,0.15645869211925517,-1.7485212672422512,-4.055585231325198,-12.683257309105933,-15.765689453019448,-19.134289791190255,-9.385169614218487,8.907152890742877,4.797691443132086,18.724548770860434,19.343287817556757,12.274709566243336,5.627522596734347,-2.179352127932021,-7.646595620584706,-12.430285909765825,-14.919130865492464,-4.822034521455744,-8.547733857314057,4.564456006055727,11.673798630569019,11.988414628960346,11.448812992578171,10.666412629672712,9.773409866955188,1.3443239579566708,-6.4308854218555656,-15.40376566158493,-16.702042672728606,-17.445374955484212,-8.49365020926894,2.151774266373027,4.913478938998773,10.578280651588841,10.826780875039443,11.894629392233988,7.823113551206016,1.312016175902475,-7.5080348875249845,-15.500484412605116,-19.699433280479006,-7.636005812227546,-6.573186548406085,-12.213842117519382,1.2254346124850681,9.739220010088161,21.253157442701706,18.6149174848606,14.465263949881113,3.4632307006842256,-9.044152684512136,-11.338990422019556,-16.57194399128494,-12.777350957732105,-14.519247770377918,-9.107516042172755,6.6015686084945955,13.91346027355057,23.90016589141522,16.538319559417452,7.0810980376995305,1.8408463771703596,-10.527708723780773,-9.605037105966206,-12.397769300873561,-15.354523605197361,-6.952001595502023,2.949592489926394,-4.879343089193723,10.553497362706214,14.272082252539544,12.54435311095788,8.191402129981949,4.540434451468364,-3.9223220825964678,-11.715889812098135,-16.510027810559137,-6.5834536438966325,-12.185535429841773,-7.006691399599868,5.812078737767404,11.222370330185727,11.553241024185484,12.58767468980659,13.725461197016928,6.159768003888123,-6.086380716373338,-10.839019860789195,-10.793564222354254,-10.759128951833052,-7.7384664708459825,-7.299377445939244,2.035364755865096,2.5332835452564986,2.8277496002820315,7.669148200548495,14.581876102034931,7.471127454879226,-1.8145459174499001,-10.65535714554982,-16.036870882164294,-17.492188717277777,-4.612561836492971,-0.131463015789517,6.903648996499178,3.7630380127561485,6.129560275947298,11.205038634575809,10.508356627888263,3.84634543667299,0.18714973733365664,-6.37762161949667,-12.026584448290722,-10.655798053472774,-9.37362957124872,-3.070855377791554,6.958617212715951,-5.609575130064221,2.958319901838608,9.798515971944443,22.414823072254716,15.082324585250971,3.791859184518659,-11.158798384159022,-14.756152382416618,-14.138321939382308,-3.655936939309657,-13.73762999857036,-1.2292100809088355,9.199870292640684,7.286847603909775,15.752990000469916,22.104391030775215,9.03359173856645,3.298872546245723,-6.560453192200951,-14.320770058127474,-14.258845872582048,-13.02873446288678,-11.313189001758762,-7.786076598401689,1.3096911698690328,14.202334246564362,14.634318903930943,13.630961694801545,13.28435630761077,10.171814426699074,0.11470968090427136,-13.459759366666857,-12.753696056307074,-9.83064433202082,-5.473242485513191,-13.662957989435954,-8.102165490090753,6.148843611151168,10.919002365232995,16.87677056134731,14.267972889486035,3.834889915912017,-5.741633308279446,-4.273231323109942,-12.607418738882128,-11.350512618790331,-14.259825511713633,-15.178554078566329,1.4885213932813466,18.74107937001429,16.430787734444237,13.82906332224526,13.23673954725346,6.790590434009814,0.1759330896853907,-4.1070850357671755,-14.99196887428693,-13.865625649265347,-18.06374313563217,-7.948195896919378,5.871176799487418,2.6908469949010936,15.150737916745502,21.668665990887284,16.43573915350599,5.220598516388033,-0.047394261004253646,-5.385393710621823,-17.904076404854052,-17.55277279753188,-5.894393437378391,7.444981835266295,-6.773365114427049,-0.22543914745231386,12.90109233229975,16.661755398861906,15.052073819484228,10.581733946139787,0.3523303154864326,-3.94228220498872,-11.712373494509581,-13.425685243570127,-17.00051422543081,-14.652376752661965,-1.8424618511214554,17.142704558764663,10.17171263842595,8.800263374371253,15.49728119150002,11.948897168555083,0.9474087778355176,-3.7974805297523067,-15.419455145163345,-8.495466138673223,-9.120030085986661,-2.735209472841477,-5.858297479199297,-1.4885696435271067,1.8695471926526197,13.759791105117447,16.300251084650498,9.403666736107809,7.121430363954283,-0.27095167165158857,-13.149179845838608,-17.04577315325409,-10.201699294842399,-12.10983029738342,-14.77855103353385,-0.47477502264129295,9.780054417228783,12.980530725308997,14.903478567087678,8.840724425597626,7.955804680867302,-3.5540566853325744,-10.920125576296213,-13.841381884450826,-8.365057907908353,-10.913280703700961,-19.635280721289725,-3.4248110917668195,5.703801627157688,14.160357730491064,14.20698011921922,14.6437721126897,5.7441718182602655,-2.383643028799763,-3.776675429860898,-11.69836238975225,-18.11879163685077,-16.16222771928367,-8.018172991150285,5.407429581579562,7.987481040143315,11.090532171534006,16.148056508428464,17.361288850618763,12.115901970077466,-2.375285885205988,-13.076901739519418,-10.23840075571054,-5.316217622920143,-16.68100895827894,-15.948257894261785,-6.613707039844782,18.330868861541322,15.731897457560573,12.328064972367875,15.689400492837537,9.159985609303169,1.0338112668906623,-4.27085694882782,-8.229977243976633,-16.439961271281582,-10.771449893877547,-7.18084870909326,-4.342781780878815,4.501229393948465,2.518277769790745,12.47830201920521,21.795087901997206,9.884330682596906,-0.9924953086622001,-4.323451226326945,-7.577669644662147,-17.861406729790545,-13.872915114796838,5.3696643157501125,5.619317528201141,-4.438699969994504,2.173378321788081,10.33353917092443,12.695954160773029,8.051541613788718,7.314886488163597,-2.143749986344322,-11.976395831216822,-11.299637422861965,-14.337528971939056,-1.2768000709292537,-3.9058549805034914,4.972996323717334,7.171138874930521,5.793724247176565,13.12001375890285,10.27387060012671,3.6281775135026963,-0.652020591463221,-8.48603428167438,-17.048262934330438,-15.65093255173402,-11.029386100778666,-1.9760732327900694,2.9643540974324063,8.508657207262539,5.133465783409748,11.378416942107686,16.557803592844113,8.137461177464068,-1.2065228981720817,-8.019737123201956,-16.763253658880398,-16.129066789294708,-5.41282100103416,5.01574455390091,-2.4445762399978745,-3.686569287251179,7.387286312950441,16.645551332534392,14.655469821108674,5.829279709479881,-5.23387530632391,-5.027372086127431,-15.029994514351086,-12.141967260750503,-11.56437814290169,-6.984096494913381,1.1330583857071075,2.9449928295836276,7.889489293664836,12.720327222579556,14.094894950062654,8.314856342615686,-2.9000506505878385,-6.602929310582854,-8.548853683626524,-13.44915041931187,-10.219726143906714,-3.3993988522002168,-7.613984914327896,2.220699233321577,12.820050023718954,19.648955556518988,12.455639454075419,12.736031733870584,4.514510136756861,-8.487073234738393,-19.311107698890577,-12.380172393910955,-8.360217365579011,-6.895618297955414,-6.424226471794374,0.5900540259800015,6.405861121178074,6.811632491172208,12.964127567544608,15.378442795711658,9.785197352099205,-4.153413986707885,-7.4309999532198345,-8.175105558378043,-10.858613696288755,-14.999044834141895,-16.154000119952016,3.4426913250404114,14.055356777914694,21.448818695430855,11.693587394338527,10.606983844425226,9.284188727999997,-0.9777092454330628,-7.549111866325928,-14.27272545337454,-10.427069595985676,-19.414847300975218,0.08946432189126267,14.456597500123724,2.324295339692764,4.765473325347383,18.02426486955299,13.149794765280006,8.47751533244548,4.357092355942356,-8.640895541951485,-19.570922908562334,-18.729180184210215,-7.559156111243137,-0.4348695568390806,0.5519278496158068,-0.00390952428479196,4.880594617473221,9.411414606910737,15.195137193639422,7.761380419192617,2.3185784377562366,-5.196028639168521,-10.732367617630631,-14.189291053023707,-17.550508350371334,-10.175554625887946,4.656822082020776,5.6504415966908415,10.634093147127754,15.157365344311783,8.9867030488275,11.099466804644715,1.8024610441315747,-0.3329774765544289,-9.445308602616183,-8.646855137066582,-11.905479339390586,-12.808449896090023,0.14055391733048664,6.300443115435749,8.700389299200005,9.896975746250547,14.054070238922911,11.042278600879447,1.7188415095902028,-3.4744055976737713,-5.247633915538186,-11.78455502437905,-12.581508242422542,-15.661789947453931,-4.672700663624536,-9.629823106386706,-0.360469446041481,24.014764697630383,15.917519546074894,11.688177060769885,7.291789394354197,-1.0427600394062637,-13.233623714755126,-14.282834262602064,-13.201936646526764,-7.842927500696707,-5.6621399577294556,-0.245175747034076,7.532167956698983,12.76966732738304,13.56619635031137,7.956365327049836,7.618922871749393,2.9165740599700762,-10.662817624736748,-20.812782723381005,-21.61917187812073,-11.067711788965548,-0.7815687062508115,1.6987152668513068,2.807606908504019,10.155905135457933,12.377490381088553,10.532195519237764,14.482690989038828,1.675201505838238,-11.828272327299432,-12.60198438914392,-11.772699960472655,-14.42374267666532,-8.106264819060057,2.95239268896574,4.385736947802955,13.459005550473861,16.97895747057314,12.600585193328195,7.713707610191764,5.62622777823866,-2.171661970733875,-15.354719582578324,-16.52038606961134,-8.379657492864682,-1.6012723755851483,-0.45665665667895267,-0.9355602818592529,2.0231739723033466,14.646747870434872,9.399419897786805,8.620891644586985,5.8120386242233435,-4.369416853127158,-11.810719782377586,-8.806969622685092,-10.91658017866394,-19.07540617570252,-6.002152448543967,-5.2124270965269375,-1.7196869895603488,18.00049762341689,17.17000612256003,19.347504892522416,6.682454453011507,-5.9394636190792625,-10.414381414393008,-13.966739513160805,-12.104176188254245,-3.554410650166175,-6.441609966195205,-3.215817356361782,8.066455819071143,9.410662490300743,10.43268660014535,13.034139232101374,7.670829574215293,-3.0307351228336374,-7.679052352430274,-13.789295814529432,-18.294928973948515,-14.92922444917355,-1.6168798689698993,8.81823613863337,1.8826410423642,10.26093772594674,16.651717484216185,11.007265903447434,5.9951001944702,-2.7846310483433796,-7.888842471823633,-14.58823405416712,-13.620800514570206,-9.89421232542306,-7.971250052630764,-7.630385321193029,12.409215996640054,10.75620691997111,5.33648417438439,18.341555048524842,5.959702525659056,-3.6790135591648427,-11.264727754474732,-12.148808695906606,-20.919798729920597,-15.262850121221204,-16.11626871492144,-6.396166504418234,21.64641082957953,13.805906046713714,11.550057472524319,14.367673443303579,14.187113464258335,-2.7218077267133567,-5.997881971086679,-9.68142688931653,-19.652853221561557,-19.90267892110566,-7.877615586366756,3.2698769583286906,4.166993759631663,13.705151360493801,16.63098359885416,12.894173628727806,8.292467459787922,6.156084029513195,-4.370828850261946,-8.205794037791852,-9.694953333570123,-15.002220969314942,-16.405021385201977,-6.108134972334262,12.527512481127722,8.849188218818883,7.8000310726854645,7.806233623577631,9.782019965063927,7.243275849551876,-2.0379115701947335,-12.291204679979918,-11.55170396718383,-10.605411140861843,-19.004025286858088,-5.867426971860901,8.295591979714905,3.37660558577257,10.872578394552065,14.094993037057693,12.328609606617634,8.137007849870662,1.1387443843476537,-7.927054371992095,-18.34684430074203,-12.995386206829066,-4.605255244687168,-2.7008856479109835,-1.8482749230824491,6.534206329621325,12.032797286922582,12.41206077363697,12.493539013132125,7.42700410683153,-2.847664706016169,-5.394269763298565,-15.300772414158338,-9.445390861173212,-7.939358045648654,-14.335656873481941,0.20443120325845593,9.263956310538086,6.451902907646697,7.795461007880267,15.563876808227857,7.461524389250332,1.7340122161499567,-1.534080965418484,-5.561372634095829,-11.177563569555314,-7.958458566297797],\"z\":[0.16886426606472552,-5.959632372097224,0.9786150915195587,0.6941777619787382,-2.281343950934868,1.4685575204839703,-2.5212600925507593,3.7690125058107506,-1.6857433452882304,4.555930986488147,5.999502474680256,0.7839230748085333,1.4784785593773944,1.2509328786919212,-3.0234797314666055,-1.7819347671039494,2.9732551078298175,-1.235889371486524,1.9738498760855396,2.650246938592649,1.6553042933040305,7.82148188258327,-1.3808872749905428,1.0632827763000348,-4.1469573334756,-4.035584182185146,-1.0566445331741134,-2.090623945892948,1.9937195757962514,-1.309228875641007,4.3834887241560265,0.24541784478287887,-0.42727894867817484,4.612264502011206,-0.4443831351927508,3.603519627572018,-9.851460948376797,7.22492954201456,0.7288322471444277,0.43026013878816627,-1.6449887734228732,-2.8053324224894496,-1.9919268517020168,-1.0654856957209429,-0.10097167422981948,7.78365306490237,6.105518544557228,9.405780596876252,6.1042846988936095,6.929662053853322,2.457529775402698,5.359624904283598,0.7809981080447064,1.64472300651678,1.9671975442919902,-1.2771393635170079,-0.13162224108086046,-3.246257577391961,-3.322160696349842,-8.491031809956397,-4.396255750070901,-3.919505115509591,-2.2268111867899245,-1.313839035811243,0.7110273637789672,-0.5387494441045125,-1.6383225616543922,0.7423589848369647,-4.674780436557655,5.061815123518023,5.565829937614659,1.6863021154558768,10.594615394143695,10.400648177037857,5.147645226140102,0.35303611752017333,-0.5164607915861809,-1.5170374452935345,0.8698526120467065,-2.2218749082989975,4.171833482012471,-3.0830258395985037,3.385055315199749,-5.97410606209061,-6.198784694721523,0.682800909948533,-2.504257691019307,1.5297387225349384,1.5948511362046145,1.8039625145938734,-1.6897532278252139,0.06607894350048632,-3.7223652478296585,-1.1822666338817118,1.2221640847125155,-3.5742011275418455,6.150102927129122,-2.9705048160204055,8.35816667411879,1.163144849506432,0.22607022705891436,-0.11077098061161647,-0.4789623242805457,-1.5124120019473206,4.696649412447219,-0.20725173141366499,2.986511171910652,-0.42233630730031574,5.154714791320116,-10.100870065908925,2.9157368056096846,0.6595441938985935,-5.198017857999084,1.1880809521724394,-6.442641521346229,-0.020890527532614524,-2.7422578950620404,0.36197943089101847,-5.203526689442519,3.55608466825938,-3.9854129071638087,-9.88145020956426,-7.398274510722417,-6.61629397693368,1.6164386076045951,-0.9874026260385309,4.945695096253447,-4.400465673186691,0.8130314074533126,-5.386824693826199,-1.418205372765768,-11.624758606120974,-6.073935858678566,0.19632953492001468,-5.994485760784276,-1.0227511500626174,1.4035161681917954,-1.1772022390834012,2.590911586486095,-2.6037574159592505,1.1254193210879428,-0.7918253352834778,5.398983889762163,4.068589399805561,0.6712724589593261,1.5850309792913373,-2.516422885934838,2.327644244445411,-2.2222815451107563,-3.4587395412512723,7.642705593103779,-3.497572241738926,3.959487797941581,-4.570957778847735,4.973189836013769,-5.010869967282741,0.7985564736489336,-8.564844207887198,-1.301832813676668,-12.93207527986649,0.48117388948018086,-0.4293754861889119,3.6524166674633163,3.717737981115163,-2.114187726692935,-3.1987031952639957,4.420607037873927,-1.9343563160569381,9.578733930236176,4.540254439250714,1.6608774456949513,1.7617629557816392,-0.9225506098889426,-1.276348338643038,-4.30051992374215,-1.873764537883599,-1.0647037861642543,-1.6857847681533658,-3.6435507506770213,-4.703806029227307,-8.120145170727293,-0.27247546176670606,-2.3151539647101407,4.76991485625621,5.24008837434601,-1.1938644079337128,-1.681781221924642,0.5700587970652047,-2.603041853346306,0.7909459961361849,-4.059448146363225,2.2997119126683403,-8.91799185255097,-3.8082708839218977,-0.8223963083094998,-0.22293359644134927,-1.1313483910339455,3.0092733487656123,0.2997063491411889,4.156080080203539,-1.8664063669778137,0.8372823835785662,1.7708564975095618,5.735374453838881,-2.432357813563665,-2.6187880693363508,-5.5350105874152105,1.589972872326798,-4.75600800549946,1.6843291881162303,-1.4523753952925498,2.668128678693484,-1.1141281755118666,4.058781427626699,0.7634453574325164,1.610783876576418,0.6528729223372632,4.239379392542199,-4.521565163839155,5.434735987357379,-2.1089730010466687,2.805867855388671,-0.27948899379907594,-1.5016910168795095,-0.9838752179737592,-2.767339619981031,-3.702889113515128,-5.4835753154549645,-4.7502561679829265,-3.8919994332444525,4.284435491339295,-5.631611406376002,10.43929572934484,0.00249566006729982,3.195683655576997,-6.243832013604487,-3.540218021273096,0.9323877035866452,1.944409060846361,-1.8395008976212266,5.850511340200298,-10.06633917578213,0.5945510259262992,-2.7065964337266375,-3.8949664998925857,1.2875776553260878,-11.07517974334837,4.216216063021132,-6.5227195318302975,1.621416827233668,-1.0655635662877807,-5.563750808679662,2.2888828422822813,16.119252011070206,8.904874342529768,3.682351488402866,0.1867071068047366,1.6280078195155265,-0.15694924057014892,2.556700371797457,3.827190098609121,0.3612419580133703,3.3157699458953305,4.626219516686844,-3.9687348855886833,-5.2323275798170386,-0.20633001646488974,2.217007467469475,11.56860366488062,2.362992522967161,3.546581981394584,5.979400463481133,0.43259312585478976,-0.3598981645450628,-5.309263188777408,3.049252351054485,1.5094741657758655,0.724364689331587,10.447540329399182,5.753437322111847,9.49666379206801,1.8085039185859046,1.0358472189544596,4.766619292463957,-2.9506258222512898,4.11562940800331,1.3498288197290254,0.28783796319788724,-2.438123752515078,3.610295880849153,-3.6989141682409614,-10.744105239051606,-4.514769141225303,-2.7837208153655046,-0.5302244993683307,1.9107658744113496,2.351379571820833,1.145861383132158,5.934374207013493,1.540412066382698,0.7897310887618795,3.811953025209386,-6.5394339591386155,6.606359555889292,-2.947969918748517,3.1283175947681325,1.0469130401022082,-1.354757932147021,-6.096987990979012,-5.29954793799391,-0.5191395204091548,-0.48256717298461954,-2.3366730001826,-0.13963282135105562,-2.5295133616922096,-2.415999204038114,-11.55314864138474,1.0250052075593832,-3.557585632913647,-1.4695731929226432,2.1119144975384803,-4.313094688640352,1.0568941390161877,2.5533103386928,-3.4145694251815217,-3.70837947167812,-5.805118577272634,-0.8025433986146897,-3.446769796325391,-2.9781121122255123,2.4624964806044662,-0.7443190659995911,3.9785557893526318,-1.1451015230748516,-2.3494532183696517,0.9317366682264842,-5.3671966941296025,5.309988628833182,-0.8600247095541363,3.3011392898375305,3.778119516652638,2.0635777619629487,2.284155326441408,-1.4814567310761184,-4.184759154185041,2.402353774555508,2.151822660318997,0.6842744561277042,2.757648900796777,2.4149483109014236,10.098242731221802,1.2513607884632274,-11.414535775625891,3.1796484105239133,-1.7179206813369148,0.15828149473445427,0.3782230251461588,-3.08117560655727,-3.2874115699611584,-1.511264647776767,-4.2734879191771356,1.7004614520932073,5.984553261664018,-7.654107542277643,-0.3591703025103667,8.2371525893902,-2.957724325120583,3.6672249401862813,-2.768815339361122,-1.2246582643160917,-0.5360029605146526,0.4468569933094721,1.8640307867553971,-1.6093510205759256,-0.31413377429668177,-9.621281497747265,1.8817047114465426,3.937152791255848,2.1617012407737963,4.1521302083744525,0.33687318653223397,-5.289313325492954,-4.005478453032894,-0.4576076122193283,0.06439588951736178,-3.1913548850597575,-0.7078792351674466,-0.3192433037686483,-1.0129257177612845,0.9807697580773415,5.692452328718979,-3.579047128375996,3.094081887681104,-2.65657611471935,-4.275722210038435,0.5787848586580888,-2.906260693987882,-2.7770954608039533,-5.52359501989016,-3.131409898968043,-5.338533504067624,7.211787616184765,-0.6214996920643505,1.6475823106750178,-5.905084461375105,1.6305953437967555,-6.772005288205529,1.1542628695642474,1.503897665437211,-1.1408253581061394,-1.7633142469420047,-6.424884571560067,1.3755711410599099,2.084277312694616,-0.06511836674435992,0.7593653195726654,-7.392309748913645,4.412347432637097,-1.885714316827326,-1.089261436869596,-4.267217569251764,5.988524131924912,-0.8094051381404394,4.204949429717552,3.6051599258815195,1.2359130151448814,3.3369478667740724,1.6292130056187433,-6.924557905693117,4.567749748558469,-0.6022975687622303,0.09846397891467992,5.732813633175876,2.131631631000376,5.2463905490671445,0.6612902883000408,-1.0468927549073068,8.04500623463538,-3.1661420372078224,5.430703444676478,-2.945370497137749,-1.207249727521597,-3.5519752019555053,0.012585498382125198,-0.5733951254119222,-2.1818475592239532,-1.0426699564316009,-2.6557669428898683,-2.501310319635011,1.993943108240033,-7.448797505109061,4.714574607327331,-1.336681510850254,0.2369296843872859,4.559354062491205,4.054530652741813,2.274967858546568,-3.1719991414143984,-3.1834897970504454,5.663272683822244,8.813014805447947,-3.02602691722248,-0.7167122098508248,2.860807211416374,-0.05566507788806579,4.27498744991828,1.6285340614411696,3.1162207083132616,0.3577956529572368,3.2958385711725837,1.7992364831268748,7.289150835537753,3.5098771411619065,-9.266256259393634,1.2401066390715654,-6.1611542555948375,-2.8799967513870066,0.0603487151888876,3.348043137313621,-0.6605584639168266,-1.277338095614073,-0.6558870311127291,-0.3182720104248689,-0.702440951849853,1.7060420409588273,-2.0308833637819728,-1.4505742953796976,1.9356837785486076,-0.8228495598435205,-1.0814118796931218,2.3411750442987276,0.24769287213643057,0.23223452770876984,-0.8720925017505882,4.95181036407165,6.337392600370051,-5.3013254657773725,-4.503524042642325,-2.6398327752685367,-4.966639720177966,0.7885682021732623,-1.2215797755076705,1.1043760582705229,-2.1889472775047882,2.2419980382944686,-1.4764679526079036,7.542843736961471,-0.7397693010328763,13.144420777382507,-3.2681275552846594,2.5613073945479297,-0.643612856052161,-1.4251164189713534,-4.038147637696235,1.738436176642805,-0.9868484882566262,1.3524183056333376,3.7460499351386845,-0.08400231918005313,1.7078779609052026,-5.736842124480703,-1.4901133270135016,3.1773648504009366,-0.7218896911502443,-2.42748038011119,-5.364287975067842,0.7961339079331566,-2.674813765812282,4.882714433083259,-0.1794229987218485,0.052427321599421726,-4.0641768449915405,-0.35707797849874956,0.09073984389134339,-5.800268243992727,2.8312342112824536,-4.265333580137866,-0.15304598521254492,-0.868165192228286,5.023306828401503,-3.095741111565577,-0.8156906622300889,-4.097661542779172,-1.8727844813250567,-7.8910660301902364,-2.220286865644407,-5.3633514601321455,5.790047346994423,-4.703149516616122,5.645580475873118,3.9954273872289123,-0.716440956721077,0.49290672081720405,2.7855501351544056,2.1805022872772533,5.388204583381871,-0.18859369251363114,2.26585423952085,5.407296261607421,2.6084723203197107,3.6564410325766636,-0.7783841216489823,3.729059875739323,5.452225896438119,3.241494119567807,1.1807568069937617,2.5397190895994415,-1.8214972835657282,1.2856961313203512,-1.050395595053581,-0.5667547889613723,8.848303670061112,1.2368933258004988,1.33475613589438,2.8474784800690722,-1.9356255603611687,0.41326854842446475,2.8503370772305434,-2.594132071145427,-1.3342797681113145,-2.054755003896503,-5.637830711224184,-5.60676565472244,0.41459781146973174,6.0028766751436,0.7383668826560678,-2.2414055218027937,-3.226679626184478,-2.720337304919009,-0.2982773805499549,0.6200539352267392,-2.33646795739291,-0.923786972604684,-2.7832986093433068,0.018128114038169843,3.13511456668918,1.2128401901865626,1.0193826165794286,2.137334889790824,-0.9921354721307896,-1.3945201498640598,0.49508201949724595,3.1777195636345823,2.9286356341071365,-0.667013523094228,-1.3034466341423274,1.681185227583596,-8.008472448845838,-2.155960835101605,3.073192582546439,-5.143434202909549,-4.848370275323929,-2.036315583314233,-8.082018464288346,-0.9783519253751978,-3.5096502430055794,-2.2963497469082843,-6.5174877571466485,1.5262705167107276,-0.6744769655037347,-4.109865997423477,0.6912753753825848,-1.7143317285746968,3.543119008528134,-4.1345426775238785,-2.7320774185154058,-2.6890285749826957,-6.076327318946037,-1.9103789800400792,-7.673923731453449,3.2734702047955397,0.37002951919720395,3.044681044482575,-1.6558706222442188,9.065165918523554,-3.068045094565868,0.9305093583892343,-0.6071223098076622,1.6015360415812385,3.015963236346643,-2.0798283867959206,0.44572997817317805,1.1082271015747107,-3.7470761605413854,5.55086847370645,8.161766783913961,-0.2436325687278008,5.580064493247788,-0.26629807326700566,3.256612561461322,1.6021951500484435,2.9434959005268104,1.5846793458786124,3.188419269119183,2.77492648450909,-0.8950079701620101,3.8571968300663984,-8.544807452296386,8.963021839709615,0.1529567573654793,0.37263668589758975,-2.532962846929792,1.0076941440203948,-0.6511811598952495,0.7459200860535513,3.124918995441231,1.688932829166291,-6.811053831164929,4.651196199496724,-9.569131106516773,4.4786405783010155,-1.5447275561065201,0.9086276906922782,3.7669510743818715,-2.7819855419920776,4.2122633229520385,0.08423496433761686,-0.5141495293913044,-4.1821700334906105,-6.743641040408948,2.3665683200038385,-4.156109554590268,-3.903243294696099,5.386171101020556,-1.939416148478661,6.973527696508905,-1.8679086015627318,2.8728212761346414,-4.516983799385202,-3.427476835978122,-2.8850746497293684,5.068024787169617,1.7358108955862048,1.486031283675445,2.6237949804760676,1.1941273330279405,5.119717400259829,-1.5220543604609718,1.824837017186945,0.12301023568741715,0.877255551147018,0.38621041408832457,7.172056274051253],\"type\":\"scatter3d\"}],                        {\"template\":{\"data\":{\"bar\":[{\"error_x\":{\"color\":\"#2a3f5f\"},\"error_y\":{\"color\":\"#2a3f5f\"},\"marker\":{\"line\":{\"color\":\"#E5ECF6\",\"width\":0.5},\"pattern\":{\"fillmode\":\"overlay\",\"size\":10,\"solidity\":0.2}},\"type\":\"bar\"}],\"barpolar\":[{\"marker\":{\"line\":{\"color\":\"#E5ECF6\",\"width\":0.5},\"pattern\":{\"fillmode\":\"overlay\",\"size\":10,\"solidity\":0.2}},\"type\":\"barpolar\"}],\"carpet\":[{\"aaxis\":{\"endlinecolor\":\"#2a3f5f\",\"gridcolor\":\"white\",\"linecolor\":\"white\",\"minorgridcolor\":\"white\",\"startlinecolor\":\"#2a3f5f\"},\"baxis\":{\"endlinecolor\":\"#2a3f5f\",\"gridcolor\":\"white\",\"linecolor\":\"white\",\"minorgridcolor\":\"white\",\"startlinecolor\":\"#2a3f5f\"},\"type\":\"carpet\"}],\"choropleth\":[{\"colorbar\":{\"outlinewidth\":0,\"ticks\":\"\"},\"type\":\"choropleth\"}],\"contour\":[{\"colorbar\":{\"outlinewidth\":0,\"ticks\":\"\"},\"colorscale\":[[0.0,\"#0d0887\"],[0.1111111111111111,\"#46039f\"],[0.2222222222222222,\"#7201a8\"],[0.3333333333333333,\"#9c179e\"],[0.4444444444444444,\"#bd3786\"],[0.5555555555555556,\"#d8576b\"],[0.6666666666666666,\"#ed7953\"],[0.7777777777777778,\"#fb9f3a\"],[0.8888888888888888,\"#fdca26\"],[1.0,\"#f0f921\"]],\"type\":\"contour\"}],\"contourcarpet\":[{\"colorbar\":{\"outlinewidth\":0,\"ticks\":\"\"},\"type\":\"contourcarpet\"}],\"heatmap\":[{\"colorbar\":{\"outlinewidth\":0,\"ticks\":\"\"},\"colorscale\":[[0.0,\"#0d0887\"],[0.1111111111111111,\"#46039f\"],[0.2222222222222222,\"#7201a8\"],[0.3333333333333333,\"#9c179e\"],[0.4444444444444444,\"#bd3786\"],[0.5555555555555556,\"#d8576b\"],[0.6666666666666666,\"#ed7953\"],[0.7777777777777778,\"#fb9f3a\"],[0.8888888888888888,\"#fdca26\"],[1.0,\"#f0f921\"]],\"type\":\"heatmap\"}],\"heatmapgl\":[{\"colorbar\":{\"outlinewidth\":0,\"ticks\":\"\"},\"colorscale\":[[0.0,\"#0d0887\"],[0.1111111111111111,\"#46039f\"],[0.2222222222222222,\"#7201a8\"],[0.3333333333333333,\"#9c179e\"],[0.4444444444444444,\"#bd3786\"],[0.5555555555555556,\"#d8576b\"],[0.6666666666666666,\"#ed7953\"],[0.7777777777777778,\"#fb9f3a\"],[0.8888888888888888,\"#fdca26\"],[1.0,\"#f0f921\"]],\"type\":\"heatmapgl\"}],\"histogram\":[{\"marker\":{\"pattern\":{\"fillmode\":\"overlay\",\"size\":10,\"solidity\":0.2}},\"type\":\"histogram\"}],\"histogram2d\":[{\"colorbar\":{\"outlinewidth\":0,\"ticks\":\"\"},\"colorscale\":[[0.0,\"#0d0887\"],[0.1111111111111111,\"#46039f\"],[0.2222222222222222,\"#7201a8\"],[0.3333333333333333,\"#9c179e\"],[0.4444444444444444,\"#bd3786\"],[0.5555555555555556,\"#d8576b\"],[0.6666666666666666,\"#ed7953\"],[0.7777777777777778,\"#fb9f3a\"],[0.8888888888888888,\"#fdca26\"],[1.0,\"#f0f921\"]],\"type\":\"histogram2d\"}],\"histogram2dcontour\":[{\"colorbar\":{\"outlinewidth\":0,\"ticks\":\"\"},\"colorscale\":[[0.0,\"#0d0887\"],[0.1111111111111111,\"#46039f\"],[0.2222222222222222,\"#7201a8\"],[0.3333333333333333,\"#9c179e\"],[0.4444444444444444,\"#bd3786\"],[0.5555555555555556,\"#d8576b\"],[0.6666666666666666,\"#ed7953\"],[0.7777777777777778,\"#fb9f3a\"],[0.8888888888888888,\"#fdca26\"],[1.0,\"#f0f921\"]],\"type\":\"histogram2dcontour\"}],\"mesh3d\":[{\"colorbar\":{\"outlinewidth\":0,\"ticks\":\"\"},\"type\":\"mesh3d\"}],\"parcoords\":[{\"line\":{\"colorbar\":{\"outlinewidth\":0,\"ticks\":\"\"}},\"type\":\"parcoords\"}],\"pie\":[{\"automargin\":true,\"type\":\"pie\"}],\"scatter\":[{\"marker\":{\"colorbar\":{\"outlinewidth\":0,\"ticks\":\"\"}},\"type\":\"scatter\"}],\"scatter3d\":[{\"line\":{\"colorbar\":{\"outlinewidth\":0,\"ticks\":\"\"}},\"marker\":{\"colorbar\":{\"outlinewidth\":0,\"ticks\":\"\"}},\"type\":\"scatter3d\"}],\"scattercarpet\":[{\"marker\":{\"colorbar\":{\"outlinewidth\":0,\"ticks\":\"\"}},\"type\":\"scattercarpet\"}],\"scattergeo\":[{\"marker\":{\"colorbar\":{\"outlinewidth\":0,\"ticks\":\"\"}},\"type\":\"scattergeo\"}],\"scattergl\":[{\"marker\":{\"colorbar\":{\"outlinewidth\":0,\"ticks\":\"\"}},\"type\":\"scattergl\"}],\"scattermapbox\":[{\"marker\":{\"colorbar\":{\"outlinewidth\":0,\"ticks\":\"\"}},\"type\":\"scattermapbox\"}],\"scatterpolar\":[{\"marker\":{\"colorbar\":{\"outlinewidth\":0,\"ticks\":\"\"}},\"type\":\"scatterpolar\"}],\"scatterpolargl\":[{\"marker\":{\"colorbar\":{\"outlinewidth\":0,\"ticks\":\"\"}},\"type\":\"scatterpolargl\"}],\"scatterternary\":[{\"marker\":{\"colorbar\":{\"outlinewidth\":0,\"ticks\":\"\"}},\"type\":\"scatterternary\"}],\"surface\":[{\"colorbar\":{\"outlinewidth\":0,\"ticks\":\"\"},\"colorscale\":[[0.0,\"#0d0887\"],[0.1111111111111111,\"#46039f\"],[0.2222222222222222,\"#7201a8\"],[0.3333333333333333,\"#9c179e\"],[0.4444444444444444,\"#bd3786\"],[0.5555555555555556,\"#d8576b\"],[0.6666666666666666,\"#ed7953\"],[0.7777777777777778,\"#fb9f3a\"],[0.8888888888888888,\"#fdca26\"],[1.0,\"#f0f921\"]],\"type\":\"surface\"}],\"table\":[{\"cells\":{\"fill\":{\"color\":\"#EBF0F8\"},\"line\":{\"color\":\"white\"}},\"header\":{\"fill\":{\"color\":\"#C8D4E3\"},\"line\":{\"color\":\"white\"}},\"type\":\"table\"}]},\"layout\":{\"annotationdefaults\":{\"arrowcolor\":\"#2a3f5f\",\"arrowhead\":0,\"arrowwidth\":1},\"autotypenumbers\":\"strict\",\"coloraxis\":{\"colorbar\":{\"outlinewidth\":0,\"ticks\":\"\"}},\"colorscale\":{\"diverging\":[[0,\"#8e0152\"],[0.1,\"#c51b7d\"],[0.2,\"#de77ae\"],[0.3,\"#f1b6da\"],[0.4,\"#fde0ef\"],[0.5,\"#f7f7f7\"],[0.6,\"#e6f5d0\"],[0.7,\"#b8e186\"],[0.8,\"#7fbc41\"],[0.9,\"#4d9221\"],[1,\"#276419\"]],\"sequential\":[[0.0,\"#0d0887\"],[0.1111111111111111,\"#46039f\"],[0.2222222222222222,\"#7201a8\"],[0.3333333333333333,\"#9c179e\"],[0.4444444444444444,\"#bd3786\"],[0.5555555555555556,\"#d8576b\"],[0.6666666666666666,\"#ed7953\"],[0.7777777777777778,\"#fb9f3a\"],[0.8888888888888888,\"#fdca26\"],[1.0,\"#f0f921\"]],\"sequentialminus\":[[0.0,\"#0d0887\"],[0.1111111111111111,\"#46039f\"],[0.2222222222222222,\"#7201a8\"],[0.3333333333333333,\"#9c179e\"],[0.4444444444444444,\"#bd3786\"],[0.5555555555555556,\"#d8576b\"],[0.6666666666666666,\"#ed7953\"],[0.7777777777777778,\"#fb9f3a\"],[0.8888888888888888,\"#fdca26\"],[1.0,\"#f0f921\"]]},\"colorway\":[\"#636efa\",\"#EF553B\",\"#00cc96\",\"#ab63fa\",\"#FFA15A\",\"#19d3f3\",\"#FF6692\",\"#B6E880\",\"#FF97FF\",\"#FECB52\"],\"font\":{\"color\":\"#2a3f5f\"},\"geo\":{\"bgcolor\":\"white\",\"lakecolor\":\"white\",\"landcolor\":\"#E5ECF6\",\"showlakes\":true,\"showland\":true,\"subunitcolor\":\"white\"},\"hoverlabel\":{\"align\":\"left\"},\"hovermode\":\"closest\",\"mapbox\":{\"style\":\"light\"},\"paper_bgcolor\":\"white\",\"plot_bgcolor\":\"#E5ECF6\",\"polar\":{\"angularaxis\":{\"gridcolor\":\"white\",\"linecolor\":\"white\",\"ticks\":\"\"},\"bgcolor\":\"#E5ECF6\",\"radialaxis\":{\"gridcolor\":\"white\",\"linecolor\":\"white\",\"ticks\":\"\"}},\"scene\":{\"xaxis\":{\"backgroundcolor\":\"#E5ECF6\",\"gridcolor\":\"white\",\"gridwidth\":2,\"linecolor\":\"white\",\"showbackground\":true,\"ticks\":\"\",\"zerolinecolor\":\"white\"},\"yaxis\":{\"backgroundcolor\":\"#E5ECF6\",\"gridcolor\":\"white\",\"gridwidth\":2,\"linecolor\":\"white\",\"showbackground\":true,\"ticks\":\"\",\"zerolinecolor\":\"white\"},\"zaxis\":{\"backgroundcolor\":\"#E5ECF6\",\"gridcolor\":\"white\",\"gridwidth\":2,\"linecolor\":\"white\",\"showbackground\":true,\"ticks\":\"\",\"zerolinecolor\":\"white\"}},\"shapedefaults\":{\"line\":{\"color\":\"#2a3f5f\"}},\"ternary\":{\"aaxis\":{\"gridcolor\":\"white\",\"linecolor\":\"white\",\"ticks\":\"\"},\"baxis\":{\"gridcolor\":\"white\",\"linecolor\":\"white\",\"ticks\":\"\"},\"bgcolor\":\"#E5ECF6\",\"caxis\":{\"gridcolor\":\"white\",\"linecolor\":\"white\",\"ticks\":\"\"}},\"title\":{\"x\":0.05},\"xaxis\":{\"automargin\":true,\"gridcolor\":\"white\",\"linecolor\":\"white\",\"ticks\":\"\",\"title\":{\"standoff\":15},\"zerolinecolor\":\"white\",\"zerolinewidth\":2},\"yaxis\":{\"automargin\":true,\"gridcolor\":\"white\",\"linecolor\":\"white\",\"ticks\":\"\",\"title\":{\"standoff\":15},\"zerolinecolor\":\"white\",\"zerolinewidth\":2}}},\"scene\":{\"xaxis\":{\"title\":{\"text\":\"0th\"},\"type\":\"linear\",\"showexponent\":\"all\",\"exponentformat\":\"e\"},\"yaxis\":{\"title\":{\"text\":\"1st\"},\"type\":\"linear\",\"showexponent\":\"all\",\"exponentformat\":\"e\"},\"zaxis\":{\"title\":{\"text\":\"2nd\"},\"type\":\"linear\",\"showexponent\":\"all\",\"exponentformat\":\"e\"}}},                        {\"responsive\": true}                    ).then(function(){\n",
              "                            \n",
              "var gd = document.getElementById('2ac592a3-5d16-4fc1-946f-5a62b1ec4495');\n",
              "var x = new MutationObserver(function (mutations, observer) {{\n",
              "        var display = window.getComputedStyle(gd).display;\n",
              "        if (!display || display === 'none') {{\n",
              "            console.log([gd, 'removed!']);\n",
              "            Plotly.purge(gd);\n",
              "            observer.disconnect();\n",
              "        }}\n",
              "}});\n",
              "\n",
              "// Listen for the removal of the full notebook cells\n",
              "var notebookContainer = gd.closest('#notebook-container');\n",
              "if (notebookContainer) {{\n",
              "    x.observe(notebookContainer, {childList: true});\n",
              "}}\n",
              "\n",
              "// Listen for the clearing of the current output cell\n",
              "var outputEl = gd.closest('.output');\n",
              "if (outputEl) {{\n",
              "    x.observe(outputEl, {childList: true});\n",
              "}}\n",
              "\n",
              "                        })                };                            </script>        </div>\n",
              "</body>\n",
              "</html>"
            ]
          },
          "metadata": {}
        }
      ]
    },
    {
      "cell_type": "code",
      "source": [
        "y_periodic_embedded = fit_embedder(embedder_periodic, df_final['temperatures'])\n",
        "\n",
        "\n",
        "pca = PCA(n_components=2)\n",
        "y_periodic_embedded_pca = pca.fit_transform(y_periodic_embedded)\n",
        "plot_point_cloud(y_periodic_embedded_pca)"
      ],
      "metadata": {
        "colab": {
          "base_uri": "https://localhost:8080/",
          "height": 652
        },
        "id": "5FNw6S9O-lVa",
        "outputId": "cc3edabd-9a36-4a4f-8e83-1fa6281dddce"
      },
      "execution_count": 22,
      "outputs": [
        {
          "output_type": "stream",
          "name": "stdout",
          "text": [
            "Shape of embedded time series: (703, 6)\n",
            "Optimal embedding dimension is 6 and time delay is 20\n"
          ]
        },
        {
          "output_type": "display_data",
          "data": {
            "text/html": [
              "<html>\n",
              "<head><meta charset=\"utf-8\" /></head>\n",
              "<body>\n",
              "    <div>            <script src=\"https://cdnjs.cloudflare.com/ajax/libs/mathjax/2.7.5/MathJax.js?config=TeX-AMS-MML_SVG\"></script><script type=\"text/javascript\">if (window.MathJax) {MathJax.Hub.Config({SVG: {font: \"STIX-Web\"}});}</script>                <script type=\"text/javascript\">window.PlotlyConfig = {MathJaxConfig: 'local'};</script>\n",
              "        <script src=\"https://cdn.plot.ly/plotly-2.8.3.min.js\"></script>                <div id=\"9316024f-95c8-4a1c-a924-94a174c33306\" class=\"plotly-graph-div\" style=\"height:600px; width:600px;\"></div>            <script type=\"text/javascript\">                                    window.PLOTLYENV=window.PLOTLYENV || {};                                    if (document.getElementById(\"9316024f-95c8-4a1c-a924-94a174c33306\")) {                    Plotly.newPlot(                        \"9316024f-95c8-4a1c-a924-94a174c33306\",                        [{\"marker\":{\"color\":[0,1,2,3,4,5,6,7,8,9,10,11,12,13,14,15,16,17,18,19,20,21,22,23,24,25,26,27,28,29,30,31,32,33,34,35,36,37,38,39,40,41,42,43,44,45,46,47,48,49,50,51,52,53,54,55,56,57,58,59,60,61,62,63,64,65,66,67,68,69,70,71,72,73,74,75,76,77,78,79,80,81,82,83,84,85,86,87,88,89,90,91,92,93,94,95,96,97,98,99,100,101,102,103,104,105,106,107,108,109,110,111,112,113,114,115,116,117,118,119,120,121,122,123,124,125,126,127,128,129,130,131,132,133,134,135,136,137,138,139,140,141,142,143,144,145,146,147,148,149,150,151,152,153,154,155,156,157,158,159,160,161,162,163,164,165,166,167,168,169,170,171,172,173,174,175,176,177,178,179,180,181,182,183,184,185,186,187,188,189,190,191,192,193,194,195,196,197,198,199,200,201,202,203,204,205,206,207,208,209,210,211,212,213,214,215,216,217,218,219,220,221,222,223,224,225,226,227,228,229,230,231,232,233,234,235,236,237,238,239,240,241,242,243,244,245,246,247,248,249,250,251,252,253,254,255,256,257,258,259,260,261,262,263,264,265,266,267,268,269,270,271,272,273,274,275,276,277,278,279,280,281,282,283,284,285,286,287,288,289,290,291,292,293,294,295,296,297,298,299,300,301,302,303,304,305,306,307,308,309,310,311,312,313,314,315,316,317,318,319,320,321,322,323,324,325,326,327,328,329,330,331,332,333,334,335,336,337,338,339,340,341,342,343,344,345,346,347,348,349,350,351,352,353,354,355,356,357,358,359,360,361,362,363,364,365,366,367,368,369,370,371,372,373,374,375,376,377,378,379,380,381,382,383,384,385,386,387,388,389,390,391,392,393,394,395,396,397,398,399,400,401,402,403,404,405,406,407,408,409,410,411,412,413,414,415,416,417,418,419,420,421,422,423,424,425,426,427,428,429,430,431,432,433,434,435,436,437,438,439,440,441,442,443,444,445,446,447,448,449,450,451,452,453,454,455,456,457,458,459,460,461,462,463,464,465,466,467,468,469,470,471,472,473,474,475,476,477,478,479,480,481,482,483,484,485,486,487,488,489,490,491,492,493,494,495,496,497,498,499,500,501,502,503,504,505,506,507,508,509,510,511,512,513,514,515,516,517,518,519,520,521,522,523,524,525,526,527,528,529,530,531,532,533,534,535,536,537,538,539,540,541,542,543,544,545,546,547,548,549,550,551,552,553,554,555,556,557,558,559,560,561,562,563,564,565,566,567,568,569,570,571,572,573,574,575,576,577,578,579,580,581,582,583,584,585,586,587,588,589,590,591,592,593,594,595,596,597,598,599,600,601,602,603,604,605,606,607,608,609,610,611,612,613,614,615,616,617,618,619,620,621,622,623,624,625,626,627,628,629,630,631,632,633,634,635,636,637,638,639,640,641,642,643,644,645,646,647,648,649,650,651,652,653,654,655,656,657,658,659,660,661,662,663,664,665,666,667,668,669,670,671,672,673,674,675,676,677,678,679,680,681,682,683,684,685,686,687,688,689,690,691,692,693,694,695,696,697,698,699,700,701,702],\"colorscale\":[[0.0,\"#440154\"],[0.1111111111111111,\"#482878\"],[0.2222222222222222,\"#3e4989\"],[0.3333333333333333,\"#31688e\"],[0.4444444444444444,\"#26828e\"],[0.5555555555555556,\"#1f9e89\"],[0.6666666666666666,\"#35b779\"],[0.7777777777777778,\"#6ece58\"],[0.8888888888888888,\"#b5de2b\"],[1.0,\"#fde725\"]],\"opacity\":0.8,\"size\":4},\"mode\":\"markers\",\"x\":[22.295182155582104,14.991019072983033,-1.6041351345066777,-13.933135109795247,-19.296076232688055,-21.573594995943083,-16.695434008259287,-7.887588008328616,-0.0630451052499848,13.445835747730575,20.656741902012577,17.44039232685039,14.288640297040127,0.5146889788127239,-11.326932367984508,-18.529434688904846,-28.086158730230146,-25.383919023971877,-19.524578626001706,-7.016929905489496,-1.1935128357405158,18.061535651147686,23.669858272131545,24.38303279407809,30.82200831900807,7.109287294714526,-1.6153069423943522,-15.074460683773763,-21.33575408017781,-20.659425874512458,-11.442417357106436,-8.84543319656388,5.072426988670793,15.880593921237967,18.361073883167688,20.71902333064521,11.966375125762355,8.247814330151815,-7.451601604327642,-12.843899210201043,-16.99068241099412,-21.36333150705498,-19.24168142236417,-12.993562683272678,-4.489951979889919,4.086966304823806,15.992615508134094,19.9350358134209,21.514192202210467,16.283636363389185,8.72121347385213,-7.774683870914561,-13.098010166026823,-18.94373990451752,-14.489005000877137,-11.82779709385026,-0.6688044354859523,11.91127123319153,19.66686268398324,26.38970011146424,26.809028445268055,11.432040065893695,3.2789073790043095,-11.848750126659674,-17.370591496463195,-26.223635010115046,-16.330679506019514,-14.445313020175817,-1.1154314792734734,4.264215087508532,18.975478782162696,10.551553332501094,22.691576770801266,11.730939908248972,3.912838205568166,-4.233750001362424,-15.467137778856568,-23.089456674658123,-15.538514884908547,-14.299962058036062,-6.219869847649001,7.93314821574764,13.69271051566225,15.539682850026798,23.4793766737596,11.316828992031754,11.594783092663123,-6.557794936555662,-11.160359424866808,-15.959870520377512,-17.87874759191525,-11.731885731576966,-4.957449076847125,5.3938694578242,22.7867922942475,26.806833401213606,33.68893041448298,26.094441488755102,11.376471542189128,2.7988799754240614,-12.405629699055329,-19.92596261088039,-20.733808865687358,-14.501052762301507,-5.760400255255675,5.911390418143914,13.343363627172506,26.702091484051238,19.362267178680796,20.768013696296237,9.827179161227857,-0.19997106247985372,-8.182126417242397,-18.245725178906063,-21.28848553637487,-18.21167733388355,-11.966575396093297,1.4999648669790013,14.314896178030486,24.192645004284476,25.67521452058409,21.787372216281938,9.011820741605632,3.2969486196280715,-12.623945269012268,-17.665832632646275,-25.477439335833807,-19.78061790973552,-10.327355710561077,5.65972994015768,10.374066017815307,26.001699084534184,25.067530194933184,32.30966013002961,24.94737008047402,12.20667258553916,-4.625327063542193,-19.38476168857104,-26.43681088746423,-25.136858103281114,-19.488179080493477,-2.7023431647726524,4.198250860601166,26.848663328121244,26.471847983169678,36.15249162909874,22.972830693304463,9.829951867379597,-8.722768107132195,-20.72252758193533,-25.71669063987559,-18.514304453280634,-16.49970297395654,-0.5316005210934936,11.383615412577674,15.236078967129632,24.952232678144416,23.276470772836337,13.56180610239354,11.4299811068491,-8.444451476104735,-14.717830157045256,-24.634835190587584,-19.596042904837965,-19.34442192460257,-2.6529874138981717,0.7169513486444773,20.427681598286988,17.38104551156652,23.309358071966344,19.390991493752242,6.782140550283073,-1.4651125520334183,-13.814822473351802,-20.073518228434843,-20.786664834189928,-17.727120277807153,-5.045784739643942,0.12965292584780036,8.198699895606742,12.498192633050861,10.582835107853505,12.49497127801114,4.878208264620874,-1.2298350853804672,-11.541119126150644,-19.29695599842466,-25.21863537231662,-19.396853069701425,-6.4158365527526655,3.4839417697263078,17.57889818554493,15.311039344133388,16.677780075395045,8.993805630362559,4.833892401471015,-5.539359414815959,-12.132764437949172,-19.444622331043977,-21.97112475572895,-18.52834187290832,-10.004835096386575,-3.1851913861422663,15.04962676060909,8.078290463621745,19.970371346159986,14.786959118183614,15.952529639831424,8.043848174998049,-5.648994981447712,-19.12750706312926,-30.914010061527982,-25.929263443315993,-19.45443516572443,-1.5816007786682225,-0.4728831345875225,23.547915360215768,9.648232527556546,27.428529968870425,14.059218524797958,2.2812316106565937,-6.7885246470227605,-20.463574912162954,-26.606184745592337,-22.863999205351295,-13.496727742822316,-4.256078558931281,11.725807519017362,15.775203643046478,30.362748422154294,25.211141378161255,22.69914191241202,13.855073488170678,-1.608870529798862,-6.536652696723599,-24.170032608100183,-16.47754167397853,-19.00594343014633,-5.323630440126717,3.2013867123114754,11.385200995535934,22.64263592421575,23.113595048951115,25.51738211609858,20.34500995815251,-1.1982924304965281,-9.39014047964112,-19.591930045093985,-21.959496787263014,-15.260601394301831,-8.161727606709599,-1.9228803499330531,16.424806880757995,28.97747812267852,32.37878372766725,28.119596998147657,16.013260801738657,3.2949107578368952,-11.937106548105097,-14.351867266045364,-25.676164635263756,-15.841591739500428,-11.324553289657583,3.199820939148561,18.352299750149733,20.88916576121165,29.643155891746087,24.71878768393469,12.564131631163344,-0.6051673758917191,-11.09312839990426,-22.44803145483309,-23.89482566796167,-18.834077822996562,-10.51945401512991,5.558528989716966,9.099094123837766,16.946296811084906,20.92704389407311,14.385642195663488,20.90609328530223,3.823345007904533,-4.4849976476777424,-19.188755869259925,-21.081701745997016,-23.180979059625923,-12.680941246639849,-4.659123838896391,10.769470857688628,25.872025133576802,24.60745727839322,25.25826522778502,12.385502231999979,2.628817982721486,-13.760940854241552,-12.559123191852084,-32.181527207119835,-17.174105828767622,-20.43006330755971,-2.0632001413130387,0.4583694799963875,8.77093750639674,11.872865429842573,16.83855588397761,14.938943678702229,9.963324893659903,-1.692002265096214,-10.533503866441496,-25.231722832576573,-22.2970193480834,-20.00936682258435,-9.932646168046084,-1.9121865468594754,13.352500102091977,20.42266675134174,20.698944694131324,23.193905618278816,5.789550752829564,-1.2763148720536177,-17.18051799691146,-22.794372821039907,-23.883703666381987,-18.518363418840266,-10.28431392944739,-0.8410850431348127,9.43729316526634,20.735637113335553,23.058119355027817,28.641897372835178,14.43077651719761,4.046831723602852,-10.631628337727284,-15.234823676991898,-23.016003044953486,-16.14813664792739,-12.345769654319763,2.7923100489201675,12.566001576991289,27.298466414437417,23.97851272152039,27.556884609579477,11.979179952433292,7.1744037530181375,-10.454967004914225,-20.468203224489958,-22.759647043031364,-19.901514435347778,-10.002811477222641,-0.9430560883502546,13.215827238354843,27.83547560063615,32.489985907861744,33.709827601480534,22.49350863758094,9.45888344649456,-6.685374672912226,-9.592223908928831,-19.510010222436968,-15.564670537335266,-12.225550625724116,-0.7210650241289208,5.842722672929556,19.06968874317939,18.297679491674145,18.665527580706723,19.739960185229627,4.384174270319024,-5.1809573152728605,-18.8204864053983,-23.632552837474176,-23.777027603760246,-13.997698509207249,-3.005549219471801,5.975384325014873,9.160272060368396,12.610954665053503,7.183763327181211,4.488237792270996,5.048206593482183,-5.537983418964781,-11.121710322432081,-23.319943599528102,-16.48784505713643,-17.19167189878855,-4.449972099507865,3.8335325289691644,5.891376157597752,18.70075945014489,2.8477977756926665,13.667088138216522,-3.321795998476586,-5.817024004926049,-14.663326128297784,-21.11383873165242,-23.489746634068943,-16.6438652358601,-8.932259355583552,6.993432677525982,13.888867397286806,22.60089591343801,18.096925641345827,16.877159726314396,9.191565845016685,-0.42463488502159014,-10.659198947581338,-16.709479569118496,-26.837071836853173,-16.913371565041015,-10.285337431739476,6.3730077920607515,6.918042847685995,14.484220262619893,13.516528396544953,10.406143881683814,9.649751741065264,0.18100410953491278,-11.520354671051727,-19.519036418602855,-23.081258333171036,-16.96286061009071,-8.625835276092154,2.011654782608231,12.672254419231061,20.932775855552045,17.85763510923831,23.380767046097887,8.26792818620575,5.852183832521786,-13.490693971971638,-14.706176803999634,-24.810136074979184,-14.513502521971683,-12.57499095742877,5.1043600475155815,6.826016920221736,20.482854810044383,24.983725366718925,25.600408971921006,19.940940030517798,8.66269641467032,-6.905845995237933,-19.73837995663257,-25.070309076550995,-24.91678635640764,-14.823793999796813,-6.491779880964487,9.236779546115503,9.330483450265453,20.767162087443346,15.662167718183277,20.146071597695734,10.739060070528565,0.17086435586841658,-8.090261220732465,-20.60003403961521,-17.964447625351873,-20.5542341498361,-8.019471497557943,-2.216436649310914,14.60576069451116,24.281273778037036,27.32549236255052,25.242650049511706,9.599824360542975,1.3466536995466698,-16.70286061907252,-16.992113649533295,-21.63148772386929,-17.83582442527152,-8.298996118231134,0.8385952431231375,24.75588517530145,12.525855835396598,27.600226682585905,14.306048487822208,8.636548986090911,-0.4507132856051692,-7.873221337883168,-22.848652958241974,-24.992814291566543,-20.383077315739886,-12.02420778124216,5.744989643982641,13.505844575585268,20.054167094906774,17.061958365031114,14.33434207336056,13.412765378608826,1.5695563333571592,-5.588260460028298,-17.652296397496176,-21.52428665903255,-20.637906588802352,-14.239087574346017,-0.6285757074321302,14.130616027389422,20.461036861702393,25.907205862556854,24.577832836484916,11.777918296896246,4.40635566519167,-9.360189438245127,-16.584659344751632,-20.404843344172008,-23.974893362034276,-15.44117962465461,-12.59400568440516,5.73539413744517,12.847744308611855,17.990672806267604,20.894618402611698,11.910308591990123,5.244595127929551,-8.539941735586133,-15.732867921846033,-22.259447130910456,-22.197216642390043,-17.958081714715444,-7.485785215517191,-2.1733118012963475,13.965589560212178,12.286342390783284,36.94758778015305,14.681846615844355,20.41911150119945,-2.01069895772136,-13.509996113175044,-26.909244502462727,-23.044386435651848,-21.944825266882077,-9.347209255712883,1.0898036102944884,12.29409315995898,17.934645164526973,18.618764374022373,15.381895270708357,6.810062338614644,-3.1393454777301275,-15.1858710366849,-21.712134364619363,-27.180748436285395,-19.29717055168072,-12.412600032149989,9.930620831867937,15.871388488283024,24.766759956656948,20.046118737305758,17.217049148663573,5.978658222910813,2.1442851420257707,-13.881574016873007,-23.495148075770373,-24.34433337963831,-26.020196839277258,-12.02000666308367,-2.6096077419115407,13.495440013460293,16.05362501831476,25.41635360218825,21.48871792167332,10.681636502719202,1.2943488267085135,-9.108519286114236,-18.413701042673818,-23.58385938135301,-21.013409179839545,-13.62526715708959,-3.3132025366345306,8.001889320457437,9.932491853141286,10.96911350220679,12.245054379780731,6.968677648867337,1.891888364460358,-4.520741494171047,-18.17568845031181,-17.68904419316085,-22.450218746233222,-13.513799599843308,-10.927253874531239,3.2623410224512384,11.226768910032893,11.034830812461058,32.56938367235918,15.841563238083673,17.67232312104661,-0.7290611744580376,-17.794094884848462,-23.058741310031746,-30.350861653051833,-21.061630113054544,-10.738101357367736,-2.3515773598064196,5.017445315900464,12.019272437911011,10.805103908551601,10.322736517292338,6.281650040320062,-5.224615681576519,-16.64559834811544,-20.65142406446409,-27.822929788070077,-19.719563665951185,-13.82296588300838,2.3862132308461144,13.791060158712751,19.957999746718038,18.164640192924136,16.923274086160074,1.1306859713038624,1.9426085667529125,-18.550153805049735,-19.368272127226323,-27.219138315014405,-16.387027046340382,-14.5533273179526,2.6697107716987674,2.5227891539587484,21.32081748492153,15.136593200855938,13.619418538696532,11.150182662645538,-6.26947769849108,-14.083174895138674,-20.614817269095035,-26.123554703824333,-20.880751037721833,-11.615535574425557,4.260745453627298,7.772280752658173,38.60854119337515,23.474325876808752,34.209535648594155,13.706120329528876,7.049055126692863,-13.706086904326494,-12.23948940606834,-25.268875939237574,-19.451470296161393,-14.315192934452474,2.131017658207853,13.337764663893303,24.085535032310307,28.234418737394314,25.598942631759268,12.769363744772447,5.870860086492098,-9.713078807032856,-17.646269483224224,-24.10304063483803,-22.18211804486053,-22.000713784099,-9.545245195353763,-0.1292219175193128,12.708503106413442,18.821854095087826,16.51728674013985,13.115879879440886,-1.7647153699043119,-4.723922294815584,-14.483895444372964,-20.4245403260873,-21.277876876575206,-15.76451005900995,-8.240666077165525,7.146308928753779,21.43455590685584,19.686190164038287,31.07151474288553,19.293668691382873,10.209714656706367,-0.08347864578042694,-11.424280516517383,-20.538284149604127,-25.36366148687449,-19.307647077577872,-9.2790012261228,1.0867814308018242,9.955492110603606,15.535223633317505,16.15926124908645,10.388695483892734,6.010028322913684,-6.462684582274452,-17.391750095543205,-22.210099614248385,-29.239197268638524,-20.49358149225874,-13.072975321337857,-7.374707313959878,7.1244980568099345,14.752261976950015,13.641820714627835,17.985614982261282,9.02150746383147,1.637012354791647,-7.548908052794071,-14.721845925757824,-21.075169369206602,-21.368522099399026,-13.72454065779633,-10.519533877863829,2.9176165214149505],\"y\":[12.72661401624948,19.409748055711283,19.769817827391755,10.171734615205414,3.4677965974171956,-2.6849713496453247,-3.8071031273758598,-11.855058566797188,-14.10467808019388,-9.659677143437522,-2.680776739063118,8.659598536332211,12.724963281174178,11.726366183503615,17.91270722455769,10.783794651261859,1.478718189131606,-4.930612767791143,-8.3245550773105,-14.743647450389483,-9.084867051904375,-11.910374520988555,-17.72089977576287,3.967116146738552,12.50428288402827,13.368585111005618,19.977066904574112,7.574653272167317,2.6955287062996733,-1.0570932785008698,-12.303018923279556,-13.894104650009286,-5.893666749378035,-9.100351129797687,-8.884108897780125,9.263989518172286,14.461823544015468,12.842773512780166,6.012945903854637,13.368331890818553,3.7513068190129903,-3.0535479704463993,-2.8976664279557047,-7.337386541148667,-15.781434291465818,-8.211198200376225,-5.585822765749966,-4.738241702761814,1.8520305638724104,14.220427181373228,16.898139264410624,13.807158154007038,8.615908681701514,0.574802020844705,-4.816876015012599,-6.929590665666737,-7.756764579615565,-20.960816530384147,-12.374887717770074,1.5994971908138922,6.622563947208652,7.854742460670165,17.812093409117292,15.686885205873939,6.439093908286908,-0.27872282734347104,-5.4216817079776165,-10.246890288838394,-12.276066216116293,-7.498515311723979,-5.583527647728414,2.5215029123620676,7.4882933613941285,3.0531271464877556,19.816146622857765,17.638556744340143,2.898787721000494,4.548131844727873,-0.6651150782230025,-16.20715054759192,-7.987854545333929,-10.665871931819996,-10.28894169977442,-4.109580118356399,-0.9688643311502129,5.814401117785683,11.27606294525639,11.326894485852,10.705654848878082,0.15645869211924582,-1.7485212672422612,-4.055585231325201,-12.683257309105928,-15.765689453019437,-19.134289791190223,-9.385169614218468,8.907152890742895,4.7976914431320985,18.724548770860427,19.343287817556746,12.27470956624332,5.62752259673433,-2.1793521279320376,-7.646595620584713,-12.430285909765823,-14.919130865492454,-4.822034521455733,-8.547733857314034,4.56445600605574,11.673798630569031,11.98841462896035,11.448812992578173,10.6664126296727,9.773409866955172,1.3443239579566573,-6.4308854218555735,-15.403765661584929,-16.702042672728602,-17.44537495548419,-8.49365020926892,2.1517742663730437,4.913478938998783,10.578280651588846,10.826780875039438,11.894629392233977,7.823113551206004,1.312016175902456,-7.508034887524996,-15.500484412605116,-19.699433280478996,-7.636005812227538,-6.573186548406062,-12.213842117519354,1.2254346124850932,9.739220010088173,21.25315744270171,18.614917484860584,14.465263949881093,3.4632307006842007,-9.04415268451215,-11.338990422019561,-16.57194399128493,-12.777350957732097,-14.51924777037789,-9.107516042172731,6.601568608494619,13.913460273550571,23.900165891415213,16.53831955941745,7.081098037699514,1.8408463771703383,-10.527708723780778,-9.605037105966215,-12.397769300873554,-15.35452360519735,-6.952001595502004,2.9495924899264034,-4.879343089193705,10.553497362706217,14.272082252539548,12.544353110957871,8.191402129981933,4.540434451468342,-3.922322082596482,-11.715889812098142,-16.510027810559137,-6.583453643896626,-12.18553542984175,-7.006691399599859,5.812078737767415,11.222370330185733,11.553241024185482,12.587674689806587,13.725461197016916,6.159768003888111,-6.086380716373348,-10.8390198607892,-10.793564222354252,-10.759128951833045,-7.73846647084597,-7.299377445939235,2.0353647558651042,2.5332835452565066,2.8277496002820315,7.669148200548491,14.581876102034915,7.4711274548792055,-1.8145459174499166,-10.655357145549823,-16.036870882164287,-17.492188717277763,-4.612561836492954,-0.13146301578950478,6.903648996499185,3.763038012756156,6.129560275947296,11.205038634575802,10.508356627888245,3.8463454366729732,0.1871497373336396,-6.377621619496679,-12.02658444829072,-10.65579805347277,-9.373629571248701,-3.070855377791548,6.958617212715957,-5.609575130064207,2.9583199018386184,9.798515971944447,22.41482307225471,15.082324585250952,3.7918591845186302,-11.15879838415904,-14.75615238241663,-14.138321939382305,-3.6559369393096506,-13.737629998570334,-1.2292100809088269,9.199870292640702,7.286847603909784,15.75299000046991,22.104391030775194,9.033591738566438,3.2988725462457045,-6.5604531922009635,-14.320770058127476,-14.258845872582041,-13.028734462886769,-11.313189001758742,-7.786076598401658,1.30969116986905,14.20233424656437,14.634318903930945,13.630961694801544,13.284356307610757,10.171814426699052,0.11470968090426036,-13.459759366666859,-12.753696056307074,-9.83064433202081,-5.473242485513185,-13.662957989435936,-8.102165490090739,6.148843611151183,10.919002365233004,16.8767705613473,14.267972889486028,3.834889915912001,-5.741633308279455,-4.273231323109949,-12.607418738882124,-11.35051261879033,-14.259825511713617,-15.1785540785663,1.4885213932813646,18.74107937001429,16.430787734444227,13.829063322245256,13.23673954725344,6.7905904340098,0.17593308968537255,-4.107085035767185,-14.991968874286938,-13.865625649265336,-18.06374313563215,-7.948195896919365,5.87117679948744,2.6908469949011082,15.150737916745502,21.668665990887273,16.435739153505967,5.220598516388013,-0.04739426100426921,-5.385393710621834,-17.904076404854052,-17.552772797531865,-5.894393437378381,7.444981835266302,-6.7733651144270315,-0.2254391474523042,12.901092332299749,16.661755398861903,15.052073819484216,10.581733946139774,0.35233031548641924,-3.9422822049887354,-11.712373494509583,-13.42568524357012,-17.000514225430802,-14.652376752661937,-1.8424618511214388,17.14270455876467,10.171712638425955,8.800263374371253,15.497281191500008,11.948897168555071,0.947408777835492,-3.797480529752319,-15.419455145163354,-8.49546613867322,-9.120030085986658,-2.7352094728414724,-5.858297479199286,-1.4885696435270943,1.8695471926526321,13.759791105117442,16.30025108465049,9.403666736107802,7.121430363954261,-0.27095167165160206,-13.149179845838612,-17.04577315325409,-10.201699294842395,-12.109830297383409,-14.778551033533832,-0.4747750226412812,9.780054417228804,12.980530725308993,14.903478567087669,8.840724425597612,7.955804680867289,-3.5540566853325855,-10.920125576296225,-13.84138188445083,-8.365057907908353,-10.913280703700947,-19.635280721289693,-3.424811091766798,5.703801627157703,14.160357730491073,14.206980119219216,14.643772112689684,5.7441718182602495,-2.3836430287997783,-3.776675429860905,-11.698362389752255,-18.118791636850762,-16.16222771928366,-8.018172991150262,5.407429581579572,7.9874810401433285,11.09053217153401,16.148056508428464,17.36128885061875,12.115901970077447,-2.3752858852060066,-13.076901739519421,-10.238400755710538,-5.316217622920137,-16.68100895827893,-15.948257894261756,-6.613707039844759,18.330868861541333,15.731897457560578,12.328064972367878,15.689400492837528,9.159985609303156,1.0338112668906485,-4.27085694882783,-8.229977243976634,-16.439961271281575,-10.771449893877538,-7.180848709093239,-4.342781780878802,4.501229393948474,2.518277769790752,12.47830201920521,21.79508790199719,9.884330682596886,-0.9924953086622126,-4.323451226326956,-7.577669644662153,-17.861406729790534,-13.872915114796827,5.369664315750116,5.619317528201154,-4.438699969994497,2.1733783217880815,10.333539170924428,12.695954160773017,8.051541613788707,7.31488648816358,-2.1437499863443326,-11.976395831216825,-11.299637422861958,-14.33752897193905,-1.2768000709292484,-3.9058549805034772,4.972996323717337,7.171138874930525,5.793724247176562,13.120013758902838,10.27387060012669,3.628177513502687,-0.6520205914632387,-8.48603428167439,-17.04826293433043,-15.650932551734,-11.02938610077865,-1.9760732327900523,2.9643540974324205,8.508657207262544,5.133465783409756,11.378416942107682,16.557803592844106,8.137461177464054,-1.2065228981720957,-8.019737123201965,-16.763253658880394,-16.129066789294697,-5.412821001034156,5.015744553900921,-2.4445762399978626,-3.6865692872511726,7.387286312950447,16.645551332534385,14.65546982110866,5.829279709479864,-5.233875306323921,-5.027372086127443,-15.029994514351083,-12.141967260750492,-11.564378142901674,-6.984096494913372,1.1330583857071153,2.9449928295836356,7.889489293664836,12.720327222579556,14.094894950062645,8.314856342615668,-2.9000506505878536,-6.60292931058286,-8.548853683626525,-13.449150419311863,-10.219726143906708,-3.399398852200204,-7.613984914327879,2.220699233321594,12.820050023718963,19.64895555651898,12.455639454075408,12.736031733870563,4.514510136756842,-8.487073234738405,-19.311107698890577,-12.380172393910948,-8.360217365578997,-6.895618297955402,-6.4242264717943565,0.590054025980013,6.405861121178089,6.8116324911722055,12.9641275675446,15.378442795711642,9.785197352099187,-4.153413986707896,-7.4309999532198425,-8.175105558378048,-10.85861369628875,-14.999044834141879,-16.154000119951995,3.4426913250404296,14.055356777914701,21.448818695430855,11.693587394338525,10.606983844425214,9.284188727999977,-0.9777092454330797,-7.549111866325938,-14.272725453374541,-10.42706959598567,-19.41484730097519,0.08946432189127214,14.456597500123738,2.3242953396927724,4.765473325347391,18.02426486955298,13.14979476528,8.477515332445462,4.357092355942338,-8.640895541951496,-19.570922908562338,-18.7291801842102,-7.559156111243123,-0.43486955683907336,0.5519278496158136,-0.003909524284786556,4.880594617473226,9.41141460691073,15.195137193639415,7.761380419192599,2.3185784377562184,-5.196028639168533,-10.732367617630638,-14.189291053023702,-17.550508350371313,-10.175554625887923,4.656822082020789,5.650441596690857,10.634093147127755,15.157365344311776,8.986703048827488,11.099466804644702,1.8024610441315618,-0.3329774765544428,-9.445308602616187,-8.64685513706659,-11.905479339390567,-12.808449896090012,0.14055391733050068,6.300443115435751,8.70038929920001,9.896975746250545,14.054070238922899,11.042278600879431,1.7188415095901879,-3.474405597673785,-5.247633915538197,-11.784555024379047,-12.581508242422538,-15.661789947453915,-4.672700663624527,-9.629823106386674,-0.36046944604147285,24.014764697630383,15.91751954607489,11.68817706076987,7.2917893943541765,-1.0427600394062833,-13.233623714755133,-14.282834262602064,-13.201936646526757,-7.842927500696689,-5.662139957729439,-0.2451757470340614,7.532167956698986,12.769667327383036,13.566196350311364,7.956365327049823,7.618922871749372,2.916574059970058,-10.662817624736755,-20.812782723381005,-21.6191718781207,-11.067711788965532,-0.7815687062507973,1.6987152668513203,2.8076069085040256,10.155905135457933,12.377490381088547,10.532195519237753,14.482690989038806,1.6752015058382206,-11.828272327299445,-12.60198438914392,-11.772699960472648,-14.423742676665308,-8.106264819060044,2.952392688965752,4.385736947802966,13.459005550473856,16.978957470573135,12.600585193328186,7.713707610191748,5.626227778238637,-2.1716619707338896,-15.354719582578328,-16.520386069611337,-8.379657492864672,-1.6012723755851412,-0.45665665667894983,-0.9355602818592446,2.0231739723033506,14.646747870434865,9.399419897786798,8.62089164458697,5.812038624223327,-4.369416853127171,-11.810719782377594,-8.806969622685095,-10.916580178663933,-19.075406175702497,-6.002152448543958,-5.212427096526908,-1.719686989560337,18.000497623416898,17.170006122560014,19.3475048925224,6.682454453011496,-5.939463619079277,-10.414381414393018,-13.966739513160801,-12.104176188254241,-3.5544106501661688,-6.441609966195194,-3.215817356361775,8.066455819071146,9.410662490300743,10.432686600145344,13.034139232101355,7.670829574215273,-3.030735122833654,-7.679052352430286,-13.789295814529432,-18.29492897394851,-14.929224449173528,-1.616879868969885,8.81823613863338,1.8826410423642106,10.260937725946736,16.65171748421618,11.007265903447415,5.995100194470184,-2.784631048343391,-7.888842471823638,-14.588234054167119,-13.6208005145702,-9.894212325423055,-7.971250052630748,-7.630385321193015,12.409215996640059,10.756206919971115,5.336484174384382,18.341555048524818,5.959702525659037,-3.679013559164856,-11.264727754474741,-12.148808695906604,-20.919798729920576,-15.262850121221195,-16.116268714921393,-6.3961665044182165,21.646410829579548,13.805906046713721,11.550057472524312,14.36767344330357,14.18711346425832,-2.7218077267133713,-5.997881971086694,-9.681426889316537,-19.652853221561546,-19.902678921105633,-7.877615586366736,3.269876958328708,4.166993759631675,13.705151360493803,16.630983598854154,12.894173628727792,8.292467459787906,6.156084029513171,-4.370828850261959,-8.205794037791863,-9.694953333570126,-15.00222096931494,-16.405021385201962,-6.1081349723342475,12.527512481127726,8.84918821881889,7.800031072685453,7.806233623577627,9.782019965063911,7.243275849551853,-2.0379115701947472,-12.291204679979922,-11.551703967183832,-10.605411140861833,-19.004025286858067,-5.867426971860888,8.295591979714914,3.376605585772588,10.872578394552061,14.094993037057687,12.32860960661762,8.137007849870647,1.1387443843476388,-7.927054371992108,-18.34684430074203,-12.995386206829057,-4.60525524468716,-2.7008856479109675,-1.8482749230824362,6.534206329621329,12.032797286922577,12.412060773636957,12.49353901313211,7.4270041068315065,-2.847664706016189,-5.394269763298577,-15.300772414158336,-9.445390861173209,-7.9393580456486434,-14.335656873481922,0.20443120325846556,9.263956310538083,6.451902907646699,7.795461007880262,15.563876808227846,7.461524389250321,1.7340122161499414,-1.5340809654184984,-5.561372634095838,-11.17756356955531,-7.958458566297789],\"type\":\"scatter\"}],                        {\"height\":600,\"plot_bgcolor\":\"white\",\"width\":600,\"xaxis\":{\"anchor\":\"x\",\"exponentformat\":\"e\",\"showexponent\":\"all\",\"showline\":true,\"side\":\"bottom\",\"ticks\":\"outside\",\"title\":{\"text\":\"0th\"},\"type\":\"linear\",\"zeroline\":true,\"linewidth\":1,\"linecolor\":\"black\",\"mirror\":false},\"yaxis\":{\"anchor\":\"y\",\"exponentformat\":\"e\",\"showexponent\":\"all\",\"showline\":true,\"side\":\"left\",\"ticks\":\"outside\",\"title\":{\"text\":\"1st\"},\"type\":\"linear\",\"zeroline\":true,\"linewidth\":1,\"linecolor\":\"black\",\"mirror\":false},\"template\":{\"data\":{\"bar\":[{\"error_x\":{\"color\":\"#2a3f5f\"},\"error_y\":{\"color\":\"#2a3f5f\"},\"marker\":{\"line\":{\"color\":\"#E5ECF6\",\"width\":0.5},\"pattern\":{\"fillmode\":\"overlay\",\"size\":10,\"solidity\":0.2}},\"type\":\"bar\"}],\"barpolar\":[{\"marker\":{\"line\":{\"color\":\"#E5ECF6\",\"width\":0.5},\"pattern\":{\"fillmode\":\"overlay\",\"size\":10,\"solidity\":0.2}},\"type\":\"barpolar\"}],\"carpet\":[{\"aaxis\":{\"endlinecolor\":\"#2a3f5f\",\"gridcolor\":\"white\",\"linecolor\":\"white\",\"minorgridcolor\":\"white\",\"startlinecolor\":\"#2a3f5f\"},\"baxis\":{\"endlinecolor\":\"#2a3f5f\",\"gridcolor\":\"white\",\"linecolor\":\"white\",\"minorgridcolor\":\"white\",\"startlinecolor\":\"#2a3f5f\"},\"type\":\"carpet\"}],\"choropleth\":[{\"colorbar\":{\"outlinewidth\":0,\"ticks\":\"\"},\"type\":\"choropleth\"}],\"contour\":[{\"colorbar\":{\"outlinewidth\":0,\"ticks\":\"\"},\"colorscale\":[[0.0,\"#0d0887\"],[0.1111111111111111,\"#46039f\"],[0.2222222222222222,\"#7201a8\"],[0.3333333333333333,\"#9c179e\"],[0.4444444444444444,\"#bd3786\"],[0.5555555555555556,\"#d8576b\"],[0.6666666666666666,\"#ed7953\"],[0.7777777777777778,\"#fb9f3a\"],[0.8888888888888888,\"#fdca26\"],[1.0,\"#f0f921\"]],\"type\":\"contour\"}],\"contourcarpet\":[{\"colorbar\":{\"outlinewidth\":0,\"ticks\":\"\"},\"type\":\"contourcarpet\"}],\"heatmap\":[{\"colorbar\":{\"outlinewidth\":0,\"ticks\":\"\"},\"colorscale\":[[0.0,\"#0d0887\"],[0.1111111111111111,\"#46039f\"],[0.2222222222222222,\"#7201a8\"],[0.3333333333333333,\"#9c179e\"],[0.4444444444444444,\"#bd3786\"],[0.5555555555555556,\"#d8576b\"],[0.6666666666666666,\"#ed7953\"],[0.7777777777777778,\"#fb9f3a\"],[0.8888888888888888,\"#fdca26\"],[1.0,\"#f0f921\"]],\"type\":\"heatmap\"}],\"heatmapgl\":[{\"colorbar\":{\"outlinewidth\":0,\"ticks\":\"\"},\"colorscale\":[[0.0,\"#0d0887\"],[0.1111111111111111,\"#46039f\"],[0.2222222222222222,\"#7201a8\"],[0.3333333333333333,\"#9c179e\"],[0.4444444444444444,\"#bd3786\"],[0.5555555555555556,\"#d8576b\"],[0.6666666666666666,\"#ed7953\"],[0.7777777777777778,\"#fb9f3a\"],[0.8888888888888888,\"#fdca26\"],[1.0,\"#f0f921\"]],\"type\":\"heatmapgl\"}],\"histogram\":[{\"marker\":{\"pattern\":{\"fillmode\":\"overlay\",\"size\":10,\"solidity\":0.2}},\"type\":\"histogram\"}],\"histogram2d\":[{\"colorbar\":{\"outlinewidth\":0,\"ticks\":\"\"},\"colorscale\":[[0.0,\"#0d0887\"],[0.1111111111111111,\"#46039f\"],[0.2222222222222222,\"#7201a8\"],[0.3333333333333333,\"#9c179e\"],[0.4444444444444444,\"#bd3786\"],[0.5555555555555556,\"#d8576b\"],[0.6666666666666666,\"#ed7953\"],[0.7777777777777778,\"#fb9f3a\"],[0.8888888888888888,\"#fdca26\"],[1.0,\"#f0f921\"]],\"type\":\"histogram2d\"}],\"histogram2dcontour\":[{\"colorbar\":{\"outlinewidth\":0,\"ticks\":\"\"},\"colorscale\":[[0.0,\"#0d0887\"],[0.1111111111111111,\"#46039f\"],[0.2222222222222222,\"#7201a8\"],[0.3333333333333333,\"#9c179e\"],[0.4444444444444444,\"#bd3786\"],[0.5555555555555556,\"#d8576b\"],[0.6666666666666666,\"#ed7953\"],[0.7777777777777778,\"#fb9f3a\"],[0.8888888888888888,\"#fdca26\"],[1.0,\"#f0f921\"]],\"type\":\"histogram2dcontour\"}],\"mesh3d\":[{\"colorbar\":{\"outlinewidth\":0,\"ticks\":\"\"},\"type\":\"mesh3d\"}],\"parcoords\":[{\"line\":{\"colorbar\":{\"outlinewidth\":0,\"ticks\":\"\"}},\"type\":\"parcoords\"}],\"pie\":[{\"automargin\":true,\"type\":\"pie\"}],\"scatter\":[{\"marker\":{\"colorbar\":{\"outlinewidth\":0,\"ticks\":\"\"}},\"type\":\"scatter\"}],\"scatter3d\":[{\"line\":{\"colorbar\":{\"outlinewidth\":0,\"ticks\":\"\"}},\"marker\":{\"colorbar\":{\"outlinewidth\":0,\"ticks\":\"\"}},\"type\":\"scatter3d\"}],\"scattercarpet\":[{\"marker\":{\"colorbar\":{\"outlinewidth\":0,\"ticks\":\"\"}},\"type\":\"scattercarpet\"}],\"scattergeo\":[{\"marker\":{\"colorbar\":{\"outlinewidth\":0,\"ticks\":\"\"}},\"type\":\"scattergeo\"}],\"scattergl\":[{\"marker\":{\"colorbar\":{\"outlinewidth\":0,\"ticks\":\"\"}},\"type\":\"scattergl\"}],\"scattermapbox\":[{\"marker\":{\"colorbar\":{\"outlinewidth\":0,\"ticks\":\"\"}},\"type\":\"scattermapbox\"}],\"scatterpolar\":[{\"marker\":{\"colorbar\":{\"outlinewidth\":0,\"ticks\":\"\"}},\"type\":\"scatterpolar\"}],\"scatterpolargl\":[{\"marker\":{\"colorbar\":{\"outlinewidth\":0,\"ticks\":\"\"}},\"type\":\"scatterpolargl\"}],\"scatterternary\":[{\"marker\":{\"colorbar\":{\"outlinewidth\":0,\"ticks\":\"\"}},\"type\":\"scatterternary\"}],\"surface\":[{\"colorbar\":{\"outlinewidth\":0,\"ticks\":\"\"},\"colorscale\":[[0.0,\"#0d0887\"],[0.1111111111111111,\"#46039f\"],[0.2222222222222222,\"#7201a8\"],[0.3333333333333333,\"#9c179e\"],[0.4444444444444444,\"#bd3786\"],[0.5555555555555556,\"#d8576b\"],[0.6666666666666666,\"#ed7953\"],[0.7777777777777778,\"#fb9f3a\"],[0.8888888888888888,\"#fdca26\"],[1.0,\"#f0f921\"]],\"type\":\"surface\"}],\"table\":[{\"cells\":{\"fill\":{\"color\":\"#EBF0F8\"},\"line\":{\"color\":\"white\"}},\"header\":{\"fill\":{\"color\":\"#C8D4E3\"},\"line\":{\"color\":\"white\"}},\"type\":\"table\"}]},\"layout\":{\"annotationdefaults\":{\"arrowcolor\":\"#2a3f5f\",\"arrowhead\":0,\"arrowwidth\":1},\"autotypenumbers\":\"strict\",\"coloraxis\":{\"colorbar\":{\"outlinewidth\":0,\"ticks\":\"\"}},\"colorscale\":{\"diverging\":[[0,\"#8e0152\"],[0.1,\"#c51b7d\"],[0.2,\"#de77ae\"],[0.3,\"#f1b6da\"],[0.4,\"#fde0ef\"],[0.5,\"#f7f7f7\"],[0.6,\"#e6f5d0\"],[0.7,\"#b8e186\"],[0.8,\"#7fbc41\"],[0.9,\"#4d9221\"],[1,\"#276419\"]],\"sequential\":[[0.0,\"#0d0887\"],[0.1111111111111111,\"#46039f\"],[0.2222222222222222,\"#7201a8\"],[0.3333333333333333,\"#9c179e\"],[0.4444444444444444,\"#bd3786\"],[0.5555555555555556,\"#d8576b\"],[0.6666666666666666,\"#ed7953\"],[0.7777777777777778,\"#fb9f3a\"],[0.8888888888888888,\"#fdca26\"],[1.0,\"#f0f921\"]],\"sequentialminus\":[[0.0,\"#0d0887\"],[0.1111111111111111,\"#46039f\"],[0.2222222222222222,\"#7201a8\"],[0.3333333333333333,\"#9c179e\"],[0.4444444444444444,\"#bd3786\"],[0.5555555555555556,\"#d8576b\"],[0.6666666666666666,\"#ed7953\"],[0.7777777777777778,\"#fb9f3a\"],[0.8888888888888888,\"#fdca26\"],[1.0,\"#f0f921\"]]},\"colorway\":[\"#636efa\",\"#EF553B\",\"#00cc96\",\"#ab63fa\",\"#FFA15A\",\"#19d3f3\",\"#FF6692\",\"#B6E880\",\"#FF97FF\",\"#FECB52\"],\"font\":{\"color\":\"#2a3f5f\"},\"geo\":{\"bgcolor\":\"white\",\"lakecolor\":\"white\",\"landcolor\":\"#E5ECF6\",\"showlakes\":true,\"showland\":true,\"subunitcolor\":\"white\"},\"hoverlabel\":{\"align\":\"left\"},\"hovermode\":\"closest\",\"mapbox\":{\"style\":\"light\"},\"paper_bgcolor\":\"white\",\"plot_bgcolor\":\"#E5ECF6\",\"polar\":{\"angularaxis\":{\"gridcolor\":\"white\",\"linecolor\":\"white\",\"ticks\":\"\"},\"bgcolor\":\"#E5ECF6\",\"radialaxis\":{\"gridcolor\":\"white\",\"linecolor\":\"white\",\"ticks\":\"\"}},\"scene\":{\"xaxis\":{\"backgroundcolor\":\"#E5ECF6\",\"gridcolor\":\"white\",\"gridwidth\":2,\"linecolor\":\"white\",\"showbackground\":true,\"ticks\":\"\",\"zerolinecolor\":\"white\"},\"yaxis\":{\"backgroundcolor\":\"#E5ECF6\",\"gridcolor\":\"white\",\"gridwidth\":2,\"linecolor\":\"white\",\"showbackground\":true,\"ticks\":\"\",\"zerolinecolor\":\"white\"},\"zaxis\":{\"backgroundcolor\":\"#E5ECF6\",\"gridcolor\":\"white\",\"gridwidth\":2,\"linecolor\":\"white\",\"showbackground\":true,\"ticks\":\"\",\"zerolinecolor\":\"white\"}},\"shapedefaults\":{\"line\":{\"color\":\"#2a3f5f\"}},\"ternary\":{\"aaxis\":{\"gridcolor\":\"white\",\"linecolor\":\"white\",\"ticks\":\"\"},\"baxis\":{\"gridcolor\":\"white\",\"linecolor\":\"white\",\"ticks\":\"\"},\"bgcolor\":\"#E5ECF6\",\"caxis\":{\"gridcolor\":\"white\",\"linecolor\":\"white\",\"ticks\":\"\"}},\"title\":{\"x\":0.05},\"xaxis\":{\"automargin\":true,\"gridcolor\":\"white\",\"linecolor\":\"white\",\"ticks\":\"\",\"title\":{\"standoff\":15},\"zerolinecolor\":\"white\",\"zerolinewidth\":2},\"yaxis\":{\"automargin\":true,\"gridcolor\":\"white\",\"linecolor\":\"white\",\"ticks\":\"\",\"title\":{\"standoff\":15},\"zerolinecolor\":\"white\",\"zerolinewidth\":2}}}},                        {\"responsive\": true}                    ).then(function(){\n",
              "                            \n",
              "var gd = document.getElementById('9316024f-95c8-4a1c-a924-94a174c33306');\n",
              "var x = new MutationObserver(function (mutations, observer) {{\n",
              "        var display = window.getComputedStyle(gd).display;\n",
              "        if (!display || display === 'none') {{\n",
              "            console.log([gd, 'removed!']);\n",
              "            Plotly.purge(gd);\n",
              "            observer.disconnect();\n",
              "        }}\n",
              "}});\n",
              "\n",
              "// Listen for the removal of the full notebook cells\n",
              "var notebookContainer = gd.closest('#notebook-container');\n",
              "if (notebookContainer) {{\n",
              "    x.observe(notebookContainer, {childList: true});\n",
              "}}\n",
              "\n",
              "// Listen for the clearing of the current output cell\n",
              "var outputEl = gd.closest('.output');\n",
              "if (outputEl) {{\n",
              "    x.observe(outputEl, {childList: true});\n",
              "}}\n",
              "\n",
              "                        })                };                            </script>        </div>\n",
              "</body>\n",
              "</html>"
            ]
          },
          "metadata": {}
        }
      ]
    },
    {
      "cell_type": "code",
      "source": [
        "from scipy import stats\n",
        "owo=df_final[(np.abs(stats.zscore(df_final['temperatures'])) < 3)]"
      ],
      "metadata": {
        "id": "JoGanfHL3Ibz"
      },
      "execution_count": 23,
      "outputs": []
    },
    {
      "cell_type": "markdown",
      "source": [
        "### Diagrama de persistencia"
      ],
      "metadata": {
        "id": "b4XCAsTZ9vZ6"
      }
    },
    {
      "cell_type": "code",
      "source": [
        "y_periodic_embedded = y_periodic_embedded_pca[None, :, :]\n",
        "from gtda.homology import VietorisRipsPersistence\n",
        "# 0 - connected components, 1 - loops, 2 - voids\n",
        "homology_dimensions = [0, 1, 2]\n",
        "periodic_persistence = VietorisRipsPersistence(\n",
        "    homology_dimensions=homology_dimensions, n_jobs=6\n",
        ")\n",
        "print(\"Persistence diagram for periodic signal\")\n",
        "periodic_persistence.fit_transform_plot(y_periodic_embedded)\n",
        "\n"
      ],
      "metadata": {
        "colab": {
          "base_uri": "https://localhost:8080/",
          "height": 656
        },
        "id": "jZ9T78ER66aU",
        "outputId": "d3975ce6-c100-4049-b9da-05723c976bcb"
      },
      "execution_count": 24,
      "outputs": [
        {
          "output_type": "stream",
          "name": "stdout",
          "text": [
            "Persistence diagram for periodic signal\n"
          ]
        },
        {
          "output_type": "display_data",
          "data": {
            "text/html": [
              "<html>\n",
              "<head><meta charset=\"utf-8\" /></head>\n",
              "<body>\n",
              "    <div>            <script src=\"https://cdnjs.cloudflare.com/ajax/libs/mathjax/2.7.5/MathJax.js?config=TeX-AMS-MML_SVG\"></script><script type=\"text/javascript\">if (window.MathJax) {MathJax.Hub.Config({SVG: {font: \"STIX-Web\"}});}</script>                <script type=\"text/javascript\">window.PlotlyConfig = {MathJaxConfig: 'local'};</script>\n",
              "        <script src=\"https://cdn.plot.ly/plotly-2.8.3.min.js\"></script>                <div id=\"be0c7f30-ef03-4d34-8e08-e8e6bf555083\" class=\"plotly-graph-div\" style=\"height:500px; width:500px;\"></div>            <script type=\"text/javascript\">                                    window.PLOTLYENV=window.PLOTLYENV || {};                                    if (document.getElementById(\"be0c7f30-ef03-4d34-8e08-e8e6bf555083\")) {                    Plotly.newPlot(                        \"be0c7f30-ef03-4d34-8e08-e8e6bf555083\",                        [{\"hoverinfo\":\"none\",\"line\":{\"color\":\"black\",\"dash\":\"dash\",\"width\":1},\"mode\":\"lines\",\"showlegend\":false,\"x\":[-0.22532186508178711,11.491415119171142],\"y\":[-0.22532186508178711,11.491415119171142],\"type\":\"scatter\"},{\"hoverinfo\":\"text\",\"hovertext\":[\"(0.0, 0.06319975852966309)\",\"(0.0, 0.07646697014570236)\",\"(0.0, 0.07918082922697067)\",\"(0.0, 0.08453930169343948)\",\"(0.0, 0.09982907772064209)\",\"(0.0, 0.0999613106250763)\",\"(0.0, 0.10171785205602646)\",\"(0.0, 0.12400300055742264)\",\"(0.0, 0.12983167171478271)\",\"(0.0, 0.14775246381759644)\",\"(0.0, 0.17545881867408752)\",\"(0.0, 0.18158908188343048)\",\"(0.0, 0.2065725475549698)\",\"(0.0, 0.2072884738445282)\",\"(0.0, 0.20754997432231903)\",\"(0.0, 0.21080932021141052)\",\"(0.0, 0.21216079592704773)\",\"(0.0, 0.22411225736141205)\",\"(0.0, 0.2244296818971634)\",\"(0.0, 0.22739189863204956)\",\"(0.0, 0.23184199631214142)\",\"(0.0, 0.23431038856506348)\",\"(0.0, 0.23543457686901093)\",\"(0.0, 0.2360108196735382)\",\"(0.0, 0.23826256394386292)\",\"(0.0, 0.24521271884441376)\",\"(0.0, 0.2564921975135803)\",\"(0.0, 0.2636485993862152)\",\"(0.0, 0.2669335603713989)\",\"(0.0, 0.2676354944705963)\",\"(0.0, 0.2681044340133667)\",\"(0.0, 0.2720160484313965)\",\"(0.0, 0.27970606088638306)\",\"(0.0, 0.2815234363079071)\",\"(0.0, 0.2895977199077606)\",\"(0.0, 0.2963652014732361)\",\"(0.0, 0.29659503698349)\",\"(0.0, 0.3040784001350403)\",\"(0.0, 0.32111284136772156)\",\"(0.0, 0.32172441482543945)\",\"(0.0, 0.3255307078361511)\",\"(0.0, 0.33546432852745056)\",\"(0.0, 0.3392610251903534)\",\"(0.0, 0.3427344262599945)\",\"(0.0, 0.3475661277770996)\",\"(0.0, 0.34849074482917786)\",\"(0.0, 0.3601582646369934)\",\"(0.0, 0.3641299307346344)\",\"(0.0, 0.3692108392715454)\",\"(0.0, 0.37031784653663635)\",\"(0.0, 0.37289464473724365)\",\"(0.0, 0.38400518894195557)\",\"(0.0, 0.3924378454685211)\",\"(0.0, 0.3976384699344635)\",\"(0.0, 0.3979368209838867)\",\"(0.0, 0.4021981656551361)\",\"(0.0, 0.4033847749233246)\",\"(0.0, 0.40665116906166077)\",\"(0.0, 0.40794146060943604)\",\"(0.0, 0.4088456332683563)\",\"(0.0, 0.42006686329841614)\",\"(0.0, 0.42146891355514526)\",\"(0.0, 0.4243341386318207)\",\"(0.0, 0.4268285632133484)\",\"(0.0, 0.4322669506072998)\",\"(0.0, 0.4350939393043518)\",\"(0.0, 0.4426499605178833)\",\"(0.0, 0.44425299763679504)\",\"(0.0, 0.4452989399433136)\",\"(0.0, 0.4469011425971985)\",\"(0.0, 0.45071086287498474)\",\"(0.0, 0.4507710039615631)\",\"(0.0, 0.45189422369003296)\",\"(0.0, 0.45284226536750793)\",\"(0.0, 0.4541969299316406)\",\"(0.0, 0.46412935853004456)\",\"(0.0, 0.4654977321624756)\",\"(0.0, 0.4682239890098572)\",\"(0.0, 0.4697614312171936)\",\"(0.0, 0.4707839787006378)\",\"(0.0, 0.47306525707244873)\",\"(0.0, 0.47870248556137085)\",\"(0.0, 0.478768527507782)\",\"(0.0, 0.4797111749649048)\",\"(0.0, 0.48032957315444946)\",\"(0.0, 0.48081210255622864)\",\"(0.0, 0.481826514005661)\",\"(0.0, 0.48402315378189087)\",\"(0.0, 0.4871435761451721)\",\"(0.0, 0.49146777391433716)\",\"(0.0, 0.4921512007713318)\",\"(0.0, 0.49804720282554626)\",\"(0.0, 0.4988414943218231)\",\"(0.0, 0.501003086566925)\",\"(0.0, 0.5013381242752075)\",\"(0.0, 0.5064691305160522)\",\"(0.0, 0.5076319575309753)\",\"(0.0, 0.5080514550209045)\",\"(0.0, 0.5095335841178894)\",\"(0.0, 0.5119197368621826)\",\"(0.0, 0.5193518996238708)\",\"(0.0, 0.5235574841499329)\",\"(0.0, 0.5237409472465515)\",\"(0.0, 0.5245267748832703)\",\"(0.0, 0.5274629592895508)\",\"(0.0, 0.5336686372756958)\",\"(0.0, 0.5385783910751343)\",\"(0.0, 0.5423762202262878)\",\"(0.0, 0.543472170829773)\",\"(0.0, 0.5466382503509521)\",\"(0.0, 0.5481425523757935)\",\"(0.0, 0.5506607294082642)\",\"(0.0, 0.5523204207420349)\",\"(0.0, 0.5533218383789062)\",\"(0.0, 0.5549203157424927)\",\"(0.0, 0.5621958374977112)\",\"(0.0, 0.5689642429351807)\",\"(0.0, 0.5718253254890442)\",\"(0.0, 0.5722315907478333)\",\"(0.0, 0.5728349089622498)\",\"(0.0, 0.5770882368087769)\",\"(0.0, 0.5775352120399475)\",\"(0.0, 0.5787555575370789)\",\"(0.0, 0.5800085067749023)\",\"(0.0, 0.5802413821220398)\",\"(0.0, 0.5804330706596375)\",\"(0.0, 0.5806059241294861)\",\"(0.0, 0.5806512236595154)\",\"(0.0, 0.5831074118614197)\",\"(0.0, 0.5839145183563232)\",\"(0.0, 0.5853664875030518)\",\"(0.0, 0.5855792760848999)\",\"(0.0, 0.5903103351593018)\",\"(0.0, 0.5944564342498779)\",\"(0.0, 0.5963809490203857)\",\"(0.0, 0.5989733338356018)\",\"(0.0, 0.6014053821563721)\",\"(0.0, 0.6042702198028564)\",\"(0.0, 0.6052835583686829)\",\"(0.0, 0.6063876748085022)\",\"(0.0, 0.6074249744415283)\",\"(0.0, 0.6130313277244568)\",\"(0.0, 0.6153863668441772)\",\"(0.0, 0.6170709133148193)\",\"(0.0, 0.6213565468788147)\",\"(0.0, 0.6230143308639526)\",\"(0.0, 0.6236154437065125)\",\"(0.0, 0.6252769231796265)\",\"(0.0, 0.6322194337844849)\",\"(0.0, 0.634432852268219)\",\"(0.0, 0.6347361207008362)\",\"(0.0, 0.639502763748169)\",\"(0.0, 0.6460112929344177)\",\"(0.0, 0.6467143297195435)\",\"(0.0, 0.6520209908485413)\",\"(0.0, 0.6647076606750488)\",\"(0.0, 0.6647911071777344)\",\"(0.0, 0.6659295558929443)\",\"(0.0, 0.6664443612098694)\",\"(0.0, 0.668538510799408)\",\"(0.0, 0.6695058345794678)\",\"(0.0, 0.6695725917816162)\",\"(0.0, 0.6707162857055664)\",\"(0.0, 0.6720761656761169)\",\"(0.0, 0.6738117337226868)\",\"(0.0, 0.6746958494186401)\",\"(0.0, 0.6756213903427124)\",\"(0.0, 0.6759593486785889)\",\"(0.0, 0.6793719530105591)\",\"(0.0, 0.681568443775177)\",\"(0.0, 0.6842491626739502)\",\"(0.0, 0.6856397986412048)\",\"(0.0, 0.6895889639854431)\",\"(0.0, 0.6897063851356506)\",\"(0.0, 0.6901271939277649)\",\"(0.0, 0.699602484703064)\",\"(0.0, 0.7032854557037354)\",\"(0.0, 0.7054163813591003)\",\"(0.0, 0.7075052857398987)\",\"(0.0, 0.7104238271713257)\",\"(0.0, 0.7114320397377014)\",\"(0.0, 0.7116430401802063)\",\"(0.0, 0.7193818092346191)\",\"(0.0, 0.7231816649436951)\",\"(0.0, 0.7239507436752319)\",\"(0.0, 0.7261726260185242)\",\"(0.0, 0.728938639163971)\",\"(0.0, 0.7330944538116455)\",\"(0.0, 0.7343936562538147)\",\"(0.0, 0.7370796203613281)\",\"(0.0, 0.7371729612350464)\",\"(0.0, 0.7381557822227478)\",\"(0.0, 0.7393608689308167)\",\"(0.0, 0.73996901512146)\",\"(0.0, 0.7414181232452393)\",\"(0.0, 0.7418199181556702)\",\"(0.0, 0.7450724840164185)\",\"(0.0, 0.7457031607627869)\",\"(0.0, 0.7516085505485535)\",\"(0.0, 0.7530688643455505)\",\"(0.0, 0.7544876933097839)\",\"(0.0, 0.7558285593986511)\",\"(0.0, 0.755933403968811)\",\"(0.0, 0.7590283751487732)\",\"(0.0, 0.7617602944374084)\",\"(0.0, 0.7627378106117249)\",\"(0.0, 0.7635142207145691)\",\"(0.0, 0.7638927102088928)\",\"(0.0, 0.7653166055679321)\",\"(0.0, 0.7659865617752075)\",\"(0.0, 0.7661831378936768)\",\"(0.0, 0.7666646838188171)\",\"(0.0, 0.7677420377731323)\",\"(0.0, 0.7686540484428406)\",\"(0.0, 0.7696869969367981)\",\"(0.0, 0.7766150236129761)\",\"(0.0, 0.77675461769104)\",\"(0.0, 0.7774422764778137)\",\"(0.0, 0.7783913016319275)\",\"(0.0, 0.7787448167800903)\",\"(0.0, 0.7793280482292175)\",\"(0.0, 0.7817306518554688)\",\"(0.0, 0.7819903492927551)\",\"(0.0, 0.7828554511070251)\",\"(0.0, 0.783287525177002)\",\"(0.0, 0.7840278744697571)\",\"(0.0, 0.7880388498306274)\",\"(0.0, 0.788665771484375)\",\"(0.0, 0.7891587615013123)\",\"(0.0, 0.7901158928871155)\",\"(0.0, 0.7944392561912537)\",\"(0.0, 0.7953891158103943)\",\"(0.0, 0.7975573539733887)\",\"(0.0, 0.8001232147216797)\",\"(0.0, 0.8007486462593079)\",\"(0.0, 0.8014552593231201)\",\"(0.0, 0.8022210597991943)\",\"(0.0, 0.8024200797080994)\",\"(0.0, 0.8041052222251892)\",\"(0.0, 0.8044816255569458)\",\"(0.0, 0.8061244487762451)\",\"(0.0, 0.8066985607147217)\",\"(0.0, 0.817686915397644)\",\"(0.0, 0.8247910141944885)\",\"(0.0, 0.8288550972938538)\",\"(0.0, 0.8290351033210754)\",\"(0.0, 0.8323842287063599)\",\"(0.0, 0.8326101899147034)\",\"(0.0, 0.8340211510658264)\",\"(0.0, 0.8386447429656982)\",\"(0.0, 0.8415499329566956)\",\"(0.0, 0.8464364409446716)\",\"(0.0, 0.8464374542236328)\",\"(0.0, 0.8537090420722961)\",\"(0.0, 0.8545961976051331)\",\"(0.0, 0.857988178730011)\",\"(0.0, 0.8618861436843872)\",\"(0.0, 0.8652454018592834)\",\"(0.0, 0.8667922616004944)\",\"(0.0, 0.8693711161613464)\",\"(0.0, 0.8696638941764832)\",\"(0.0, 0.8701794743537903)\",\"(0.0, 0.8719244599342346)\",\"(0.0, 0.8726087808609009)\",\"(0.0, 0.8747499585151672)\",\"(0.0, 0.8748804330825806)\",\"(0.0, 0.8754260540008545)\",\"(0.0, 0.8766939043998718)\",\"(0.0, 0.8867620825767517)\",\"(0.0, 0.8888033032417297)\",\"(0.0, 0.8937294483184814)\",\"(0.0, 0.8965504169464111)\",\"(0.0, 0.8984628915786743)\",\"(0.0, 0.8996911644935608)\",\"(0.0, 0.8999792337417603)\",\"(0.0, 0.9030501842498779)\",\"(0.0, 0.9046313762664795)\",\"(0.0, 0.908353865146637)\",\"(0.0, 0.9086518287658691)\",\"(0.0, 0.9089177846908569)\",\"(0.0, 0.9097849726676941)\",\"(0.0, 0.912094235420227)\",\"(0.0, 0.9149269461631775)\",\"(0.0, 0.915960967540741)\",\"(0.0, 0.9162911772727966)\",\"(0.0, 0.9214071035385132)\",\"(0.0, 0.9233222603797913)\",\"(0.0, 0.9241110682487488)\",\"(0.0, 0.9252091646194458)\",\"(0.0, 0.9255280494689941)\",\"(0.0, 0.9293211102485657)\",\"(0.0, 0.9332661032676697)\",\"(0.0, 0.9340693354606628)\",\"(0.0, 0.9360806345939636)\",\"(0.0, 0.9417913556098938)\",\"(0.0, 0.9421594142913818)\",\"(0.0, 0.943880558013916)\",\"(0.0, 0.9476404190063477)\",\"(0.0, 0.9487598538398743)\",\"(0.0, 0.9543870687484741)\",\"(0.0, 0.9561274647712708)\",\"(0.0, 0.9561886191368103)\",\"(0.0, 0.9577071070671082)\",\"(0.0, 0.9586867094039917)\",\"(0.0, 0.9591484069824219)\",\"(0.0, 0.9604043960571289)\",\"(0.0, 0.9614924788475037)\",\"(0.0, 0.9650852084159851)\",\"(0.0, 0.9674206376075745)\",\"(0.0, 0.9685497879981995)\",\"(0.0, 0.9686381220817566)\",\"(0.0, 0.9704976081848145)\",\"(0.0, 0.9707927703857422)\",\"(0.0, 0.9715242385864258)\",\"(0.0, 0.9723109006881714)\",\"(0.0, 0.9727473258972168)\",\"(0.0, 0.9739750623703003)\",\"(0.0, 0.9739919304847717)\",\"(0.0, 0.9816715717315674)\",\"(0.0, 0.9824100732803345)\",\"(0.0, 0.9828282594680786)\",\"(0.0, 0.9852990508079529)\",\"(0.0, 0.9856700897216797)\",\"(0.0, 0.9897575378417969)\",\"(0.0, 0.9922143816947937)\",\"(0.0, 0.9922187924385071)\",\"(0.0, 0.9928500652313232)\",\"(0.0, 0.9930011034011841)\",\"(0.0, 0.9973194003105164)\",\"(0.0, 0.9975419640541077)\",\"(0.0, 0.998182475566864)\",\"(0.0, 1.0003899335861206)\",\"(0.0, 1.0010911226272583)\",\"(0.0, 1.0013811588287354)\",\"(0.0, 1.0090328454971313)\",\"(0.0, 1.0097124576568604)\",\"(0.0, 1.0122567415237427)\",\"(0.0, 1.0133167505264282)\",\"(0.0, 1.0151517391204834)\",\"(0.0, 1.0161149501800537)\",\"(0.0, 1.019303798675537)\",\"(0.0, 1.0232648849487305)\",\"(0.0, 1.0256996154785156)\",\"(0.0, 1.0276148319244385)\",\"(0.0, 1.0279079675674438)\",\"(0.0, 1.0316907167434692)\",\"(0.0, 1.032484769821167)\",\"(0.0, 1.0331547260284424)\",\"(0.0, 1.0355710983276367)\",\"(0.0, 1.0358790159225464)\",\"(0.0, 1.0397249460220337)\",\"(0.0, 1.0405995845794678)\",\"(0.0, 1.041908860206604)\",\"(0.0, 1.0429240465164185)\",\"(0.0, 1.0437405109405518)\",\"(0.0, 1.0443921089172363)\",\"(0.0, 1.048171043395996)\",\"(0.0, 1.0503673553466797)\",\"(0.0, 1.0505948066711426)\",\"(0.0, 1.050685167312622)\",\"(0.0, 1.0519566535949707)\",\"(0.0, 1.053144931793213)\",\"(0.0, 1.0619795322418213)\",\"(0.0, 1.062791109085083)\",\"(0.0, 1.06355881690979)\",\"(0.0, 1.0638357400894165)\",\"(0.0, 1.0641939640045166)\",\"(0.0, 1.0659198760986328)\",\"(0.0, 1.0670899152755737)\",\"(0.0, 1.067517876625061)\",\"(0.0, 1.0702800750732422)\",\"(0.0, 1.0705068111419678)\",\"(0.0, 1.0719276666641235)\",\"(0.0, 1.072786808013916)\",\"(0.0, 1.0743582248687744)\",\"(0.0, 1.0799449682235718)\",\"(0.0, 1.0824329853057861)\",\"(0.0, 1.0824648141860962)\",\"(0.0, 1.0842007398605347)\",\"(0.0, 1.087130069732666)\",\"(0.0, 1.087645173072815)\",\"(0.0, 1.0893263816833496)\",\"(0.0, 1.0902348756790161)\",\"(0.0, 1.0910985469818115)\",\"(0.0, 1.0942384004592896)\",\"(0.0, 1.1009708642959595)\",\"(0.0, 1.1010929346084595)\",\"(0.0, 1.1033328771591187)\",\"(0.0, 1.1050399541854858)\",\"(0.0, 1.108228325843811)\",\"(0.0, 1.1111832857131958)\",\"(0.0, 1.112257957458496)\",\"(0.0, 1.1124998331069946)\",\"(0.0, 1.1193708181381226)\",\"(0.0, 1.1218712329864502)\",\"(0.0, 1.126556396484375)\",\"(0.0, 1.1267799139022827)\",\"(0.0, 1.127504587173462)\",\"(0.0, 1.1279841661453247)\",\"(0.0, 1.1282508373260498)\",\"(0.0, 1.1286201477050781)\",\"(0.0, 1.1293258666992188)\",\"(0.0, 1.1309387683868408)\",\"(0.0, 1.1340198516845703)\",\"(0.0, 1.1390970945358276)\",\"(0.0, 1.1433579921722412)\",\"(0.0, 1.1503750085830688)\",\"(0.0, 1.1504772901535034)\",\"(0.0, 1.1518750190734863)\",\"(0.0, 1.1525135040283203)\",\"(0.0, 1.154644250869751)\",\"(0.0, 1.1562800407409668)\",\"(0.0, 1.1587953567504883)\",\"(0.0, 1.1591148376464844)\",\"(0.0, 1.1621944904327393)\",\"(0.0, 1.1659085750579834)\",\"(0.0, 1.1694557666778564)\",\"(0.0, 1.1727573871612549)\",\"(0.0, 1.177523136138916)\",\"(0.0, 1.1795862913131714)\",\"(0.0, 1.179639220237732)\",\"(0.0, 1.179701566696167)\",\"(0.0, 1.179754614830017)\",\"(0.0, 1.181057095527649)\",\"(0.0, 1.181110143661499)\",\"(0.0, 1.1859159469604492)\",\"(0.0, 1.1860543489456177)\",\"(0.0, 1.1898295879364014)\",\"(0.0, 1.1906580924987793)\",\"(0.0, 1.1910927295684814)\",\"(0.0, 1.196351170539856)\",\"(0.0, 1.1978750228881836)\",\"(0.0, 1.2033103704452515)\",\"(0.0, 1.2043020725250244)\",\"(0.0, 1.2053725719451904)\",\"(0.0, 1.2058902978897095)\",\"(0.0, 1.2062543630599976)\",\"(0.0, 1.2100344896316528)\",\"(0.0, 1.2101646661758423)\",\"(0.0, 1.214233636856079)\",\"(0.0, 1.2147194147109985)\",\"(0.0, 1.2159465551376343)\",\"(0.0, 1.2191647291183472)\",\"(0.0, 1.2200781106948853)\",\"(0.0, 1.222450613975525)\",\"(0.0, 1.2229231595993042)\",\"(0.0, 1.2258158922195435)\",\"(0.0, 1.2279115915298462)\",\"(0.0, 1.2282485961914062)\",\"(0.0, 1.2313274145126343)\",\"(0.0, 1.233515739440918)\",\"(0.0, 1.2350331544876099)\",\"(0.0, 1.2350367307662964)\",\"(0.0, 1.236709475517273)\",\"(0.0, 1.2429817914962769)\",\"(0.0, 1.2502315044403076)\",\"(0.0, 1.2520380020141602)\",\"(0.0, 1.2540819644927979)\",\"(0.0, 1.2571114301681519)\",\"(0.0, 1.2584571838378906)\",\"(0.0, 1.262088656425476)\",\"(0.0, 1.2634681463241577)\",\"(0.0, 1.265286922454834)\",\"(0.0, 1.265758752822876)\",\"(0.0, 1.2726703882217407)\",\"(0.0, 1.2728382349014282)\",\"(0.0, 1.27346932888031)\",\"(0.0, 1.2795461416244507)\",\"(0.0, 1.2832454442977905)\",\"(0.0, 1.2846277952194214)\",\"(0.0, 1.2936680316925049)\",\"(0.0, 1.2971187829971313)\",\"(0.0, 1.2995715141296387)\",\"(0.0, 1.3009363412857056)\",\"(0.0, 1.3011780977249146)\",\"(0.0, 1.3066372871398926)\",\"(0.0, 1.3087470531463623)\",\"(0.0, 1.315253734588623)\",\"(0.0, 1.3159078359603882)\",\"(0.0, 1.3169549703598022)\",\"(0.0, 1.3171054124832153)\",\"(0.0, 1.321128010749817)\",\"(0.0, 1.3246313333511353)\",\"(0.0, 1.3280836343765259)\",\"(0.0, 1.3364872932434082)\",\"(0.0, 1.3452345132827759)\",\"(0.0, 1.3482962846755981)\",\"(0.0, 1.3519612550735474)\",\"(0.0, 1.3540509939193726)\",\"(0.0, 1.3584963083267212)\",\"(0.0, 1.361221432685852)\",\"(0.0, 1.361943244934082)\",\"(0.0, 1.361990213394165)\",\"(0.0, 1.362855076789856)\",\"(0.0, 1.3645603656768799)\",\"(0.0, 1.3658188581466675)\",\"(0.0, 1.366679072380066)\",\"(0.0, 1.3691617250442505)\",\"(0.0, 1.3717797994613647)\",\"(0.0, 1.3757765293121338)\",\"(0.0, 1.37717604637146)\",\"(0.0, 1.3816957473754883)\",\"(0.0, 1.3895282745361328)\",\"(0.0, 1.390123963356018)\",\"(0.0, 1.3945506811141968)\",\"(0.0, 1.398633360862732)\",\"(0.0, 1.4000037908554077)\",\"(0.0, 1.4003098011016846)\",\"(0.0, 1.4035274982452393)\",\"(0.0, 1.4087015390396118)\",\"(0.0, 1.4118449687957764)\",\"(0.0, 1.414292573928833)\",\"(0.0, 1.415562629699707)\",\"(0.0, 1.4192249774932861)\",\"(0.0, 1.420737385749817)\",\"(0.0, 1.424551010131836)\",\"(0.0, 1.4260926246643066)\",\"(0.0, 1.4280505180358887)\",\"(0.0, 1.4319298267364502)\",\"(0.0, 1.4402616024017334)\",\"(0.0, 1.4410090446472168)\",\"(0.0, 1.4450331926345825)\",\"(0.0, 1.44596529006958)\",\"(0.0, 1.4465842247009277)\",\"(0.0, 1.447882890701294)\",\"(0.0, 1.4488364458084106)\",\"(0.0, 1.4538092613220215)\",\"(0.0, 1.4540601968765259)\",\"(0.0, 1.4554599523544312)\",\"(0.0, 1.455861210823059)\",\"(0.0, 1.4570566415786743)\",\"(0.0, 1.461470365524292)\",\"(0.0, 1.4642411470413208)\",\"(0.0, 1.469220757484436)\",\"(0.0, 1.4697468280792236)\",\"(0.0, 1.4702531099319458)\",\"(0.0, 1.470613956451416)\",\"(0.0, 1.4707177877426147)\",\"(0.0, 1.470829963684082)\",\"(0.0, 1.4737492799758911)\",\"(0.0, 1.4745267629623413)\",\"(0.0, 1.4760572910308838)\",\"(0.0, 1.476889967918396)\",\"(0.0, 1.4839063882827759)\",\"(0.0, 1.4851993322372437)\",\"(0.0, 1.4878267049789429)\",\"(0.0, 1.5028523206710815)\",\"(0.0, 1.510801911354065)\",\"(0.0, 1.5111244916915894)\",\"(0.0, 1.517992377281189)\",\"(0.0, 1.51917564868927)\",\"(0.0, 1.5243566036224365)\",\"(0.0, 1.5296730995178223)\",\"(0.0, 1.5302174091339111)\",\"(0.0, 1.5318447351455688)\",\"(0.0, 1.535882830619812)\",\"(0.0, 1.5404454469680786)\",\"(0.0, 1.5433238744735718)\",\"(0.0, 1.5441633462905884)\",\"(0.0, 1.5476739406585693)\",\"(0.0, 1.5547910928726196)\",\"(0.0, 1.5563700199127197)\",\"(0.0, 1.6025816202163696)\",\"(0.0, 1.60467529296875)\",\"(0.0, 1.6060899496078491)\",\"(0.0, 1.6108484268188477)\",\"(0.0, 1.6118720769882202)\",\"(0.0, 1.6134097576141357)\",\"(0.0, 1.618636965751648)\",\"(0.0, 1.6232750415802002)\",\"(0.0, 1.6236995458602905)\",\"(0.0, 1.6239088773727417)\",\"(0.0, 1.6291005611419678)\",\"(0.0, 1.6323034763336182)\",\"(0.0, 1.6343737840652466)\",\"(0.0, 1.6361027956008911)\",\"(0.0, 1.6402177810668945)\",\"(0.0, 1.640917181968689)\",\"(0.0, 1.6455419063568115)\",\"(0.0, 1.649448037147522)\",\"(0.0, 1.6654701232910156)\",\"(0.0, 1.6665763854980469)\",\"(0.0, 1.6676703691482544)\",\"(0.0, 1.6678870916366577)\",\"(0.0, 1.6711814403533936)\",\"(0.0, 1.6725636720657349)\",\"(0.0, 1.6742631196975708)\",\"(0.0, 1.6744883060455322)\",\"(0.0, 1.6819641590118408)\",\"(0.0, 1.6861498355865479)\",\"(0.0, 1.696747899055481)\",\"(0.0, 1.698268175125122)\",\"(0.0, 1.699175477027893)\",\"(0.0, 1.7079344987869263)\",\"(0.0, 1.7089624404907227)\",\"(0.0, 1.7190824747085571)\",\"(0.0, 1.725570797920227)\",\"(0.0, 1.7352380752563477)\",\"(0.0, 1.7366255521774292)\",\"(0.0, 1.7403104305267334)\",\"(0.0, 1.7404788732528687)\",\"(0.0, 1.7458456754684448)\",\"(0.0, 1.7509396076202393)\",\"(0.0, 1.7534791231155396)\",\"(0.0, 1.7539398670196533)\",\"(0.0, 1.7568320035934448)\",\"(0.0, 1.7571536302566528)\",\"(0.0, 1.765018343925476)\",\"(0.0, 1.7662615776062012)\",\"(0.0, 1.767462134361267)\",\"(0.0, 1.776102066040039)\",\"(0.0, 1.7864347696304321)\",\"(0.0, 1.7968709468841553)\",\"(0.0, 1.797551155090332)\",\"(0.0, 1.80666184425354)\",\"(0.0, 1.8093172311782837)\",\"(0.0, 1.8157581090927124)\",\"(0.0, 1.819393277168274)\",\"(0.0, 1.822833776473999)\",\"(0.0, 1.8230953216552734)\",\"(0.0, 1.8307133913040161)\",\"(0.0, 1.8447846174240112)\",\"(0.0, 1.8457672595977783)\",\"(0.0, 1.8538333177566528)\",\"(0.0, 1.856461524963379)\",\"(0.0, 1.8828719854354858)\",\"(0.0, 1.9072258472442627)\",\"(0.0, 1.9372997283935547)\",\"(0.0, 1.9415435791015625)\",\"(0.0, 1.9702510833740234)\",\"(0.0, 1.9732651710510254)\",\"(0.0, 1.988979458808899)\",\"(0.0, 1.991980791091919)\",\"(0.0, 1.997662901878357)\",\"(0.0, 2.0012800693511963)\",\"(0.0, 2.0058205127716064)\",\"(0.0, 2.0102574825286865)\",\"(0.0, 2.0292155742645264)\",\"(0.0, 2.047746181488037)\",\"(0.0, 2.0502519607543945)\",\"(0.0, 2.0754716396331787)\",\"(0.0, 2.087200880050659)\",\"(0.0, 2.088423252105713)\",\"(0.0, 2.0922086238861084)\",\"(0.0, 2.124687671661377)\",\"(0.0, 2.148649215698242)\",\"(0.0, 2.152012825012207)\",\"(0.0, 2.1535837650299072)\",\"(0.0, 2.1758503913879395)\",\"(0.0, 2.187547206878662)\",\"(0.0, 2.2268354892730713)\",\"(0.0, 2.2399563789367676)\",\"(0.0, 2.245587110519409)\",\"(0.0, 2.2582366466522217)\",\"(0.0, 2.268131732940674)\",\"(0.0, 2.2742502689361572)\",\"(0.0, 2.2839608192443848)\",\"(0.0, 2.2983062267303467)\",\"(0.0, 2.339850664138794)\",\"(0.0, 2.346167802810669)\",\"(0.0, 2.39147686958313)\",\"(0.0, 2.410491466522217)\",\"(0.0, 2.4289071559906006)\",\"(0.0, 2.439521551132202)\",\"(0.0, 2.452784538269043)\",\"(0.0, 2.462125539779663)\",\"(0.0, 2.4845142364501953)\",\"(0.0, 2.497612714767456)\",\"(0.0, 2.4976484775543213)\",\"(0.0, 2.5196897983551025)\",\"(0.0, 2.5396392345428467)\",\"(0.0, 2.5986571311950684)\",\"(0.0, 2.61418080329895)\",\"(0.0, 2.6614086627960205)\",\"(0.0, 2.66988205909729)\",\"(0.0, 2.6879122257232666)\",\"(0.0, 2.751438617706299)\",\"(0.0, 2.789405584335327)\",\"(0.0, 2.8116164207458496)\",\"(0.0, 2.8138937950134277)\",\"(0.0, 2.815279722213745)\",\"(0.0, 2.854825258255005)\",\"(0.0, 2.9134864807128906)\",\"(0.0, 2.953751802444458)\",\"(0.0, 3.0290887355804443)\",\"(0.0, 3.073059320449829)\",\"(0.0, 3.0873873233795166)\",\"(0.0, 3.1140806674957275)\",\"(0.0, 3.228344678878784)\",\"(0.0, 3.2775022983551025)\",\"(0.0, 3.2855772972106934)\",\"(0.0, 3.352987766265869)\",\"(0.0, 3.3741447925567627)\",\"(0.0, 3.653404474258423)\",\"(0.0, 3.767148733139038)\",\"(0.0, 3.8424062728881836)\",\"(0.0, 3.844848871231079)\",\"(0.0, 4.510985374450684)\",\"(0.0, 5.382115840911865)\",\"(0.0, 5.605260848999023)\",\"(0.0, 6.6118268966674805)\",\"(0.0, 6.695725917816162)\"],\"mode\":\"markers\",\"name\":\"H0\",\"x\":[0.0,0.0,0.0,0.0,0.0,0.0,0.0,0.0,0.0,0.0,0.0,0.0,0.0,0.0,0.0,0.0,0.0,0.0,0.0,0.0,0.0,0.0,0.0,0.0,0.0,0.0,0.0,0.0,0.0,0.0,0.0,0.0,0.0,0.0,0.0,0.0,0.0,0.0,0.0,0.0,0.0,0.0,0.0,0.0,0.0,0.0,0.0,0.0,0.0,0.0,0.0,0.0,0.0,0.0,0.0,0.0,0.0,0.0,0.0,0.0,0.0,0.0,0.0,0.0,0.0,0.0,0.0,0.0,0.0,0.0,0.0,0.0,0.0,0.0,0.0,0.0,0.0,0.0,0.0,0.0,0.0,0.0,0.0,0.0,0.0,0.0,0.0,0.0,0.0,0.0,0.0,0.0,0.0,0.0,0.0,0.0,0.0,0.0,0.0,0.0,0.0,0.0,0.0,0.0,0.0,0.0,0.0,0.0,0.0,0.0,0.0,0.0,0.0,0.0,0.0,0.0,0.0,0.0,0.0,0.0,0.0,0.0,0.0,0.0,0.0,0.0,0.0,0.0,0.0,0.0,0.0,0.0,0.0,0.0,0.0,0.0,0.0,0.0,0.0,0.0,0.0,0.0,0.0,0.0,0.0,0.0,0.0,0.0,0.0,0.0,0.0,0.0,0.0,0.0,0.0,0.0,0.0,0.0,0.0,0.0,0.0,0.0,0.0,0.0,0.0,0.0,0.0,0.0,0.0,0.0,0.0,0.0,0.0,0.0,0.0,0.0,0.0,0.0,0.0,0.0,0.0,0.0,0.0,0.0,0.0,0.0,0.0,0.0,0.0,0.0,0.0,0.0,0.0,0.0,0.0,0.0,0.0,0.0,0.0,0.0,0.0,0.0,0.0,0.0,0.0,0.0,0.0,0.0,0.0,0.0,0.0,0.0,0.0,0.0,0.0,0.0,0.0,0.0,0.0,0.0,0.0,0.0,0.0,0.0,0.0,0.0,0.0,0.0,0.0,0.0,0.0,0.0,0.0,0.0,0.0,0.0,0.0,0.0,0.0,0.0,0.0,0.0,0.0,0.0,0.0,0.0,0.0,0.0,0.0,0.0,0.0,0.0,0.0,0.0,0.0,0.0,0.0,0.0,0.0,0.0,0.0,0.0,0.0,0.0,0.0,0.0,0.0,0.0,0.0,0.0,0.0,0.0,0.0,0.0,0.0,0.0,0.0,0.0,0.0,0.0,0.0,0.0,0.0,0.0,0.0,0.0,0.0,0.0,0.0,0.0,0.0,0.0,0.0,0.0,0.0,0.0,0.0,0.0,0.0,0.0,0.0,0.0,0.0,0.0,0.0,0.0,0.0,0.0,0.0,0.0,0.0,0.0,0.0,0.0,0.0,0.0,0.0,0.0,0.0,0.0,0.0,0.0,0.0,0.0,0.0,0.0,0.0,0.0,0.0,0.0,0.0,0.0,0.0,0.0,0.0,0.0,0.0,0.0,0.0,0.0,0.0,0.0,0.0,0.0,0.0,0.0,0.0,0.0,0.0,0.0,0.0,0.0,0.0,0.0,0.0,0.0,0.0,0.0,0.0,0.0,0.0,0.0,0.0,0.0,0.0,0.0,0.0,0.0,0.0,0.0,0.0,0.0,0.0,0.0,0.0,0.0,0.0,0.0,0.0,0.0,0.0,0.0,0.0,0.0,0.0,0.0,0.0,0.0,0.0,0.0,0.0,0.0,0.0,0.0,0.0,0.0,0.0,0.0,0.0,0.0,0.0,0.0,0.0,0.0,0.0,0.0,0.0,0.0,0.0,0.0,0.0,0.0,0.0,0.0,0.0,0.0,0.0,0.0,0.0,0.0,0.0,0.0,0.0,0.0,0.0,0.0,0.0,0.0,0.0,0.0,0.0,0.0,0.0,0.0,0.0,0.0,0.0,0.0,0.0,0.0,0.0,0.0,0.0,0.0,0.0,0.0,0.0,0.0,0.0,0.0,0.0,0.0,0.0,0.0,0.0,0.0,0.0,0.0,0.0,0.0,0.0,0.0,0.0,0.0,0.0,0.0,0.0,0.0,0.0,0.0,0.0,0.0,0.0,0.0,0.0,0.0,0.0,0.0,0.0,0.0,0.0,0.0,0.0,0.0,0.0,0.0,0.0,0.0,0.0,0.0,0.0,0.0,0.0,0.0,0.0,0.0,0.0,0.0,0.0,0.0,0.0,0.0,0.0,0.0,0.0,0.0,0.0,0.0,0.0,0.0,0.0,0.0,0.0,0.0,0.0,0.0,0.0,0.0,0.0,0.0,0.0,0.0,0.0,0.0,0.0,0.0,0.0,0.0,0.0,0.0,0.0,0.0,0.0,0.0,0.0,0.0,0.0,0.0,0.0,0.0,0.0,0.0,0.0,0.0,0.0,0.0,0.0,0.0,0.0,0.0,0.0,0.0,0.0,0.0,0.0,0.0,0.0,0.0,0.0,0.0,0.0,0.0,0.0,0.0,0.0,0.0,0.0,0.0,0.0,0.0,0.0,0.0,0.0,0.0,0.0,0.0,0.0,0.0,0.0,0.0,0.0,0.0,0.0,0.0,0.0,0.0,0.0,0.0,0.0,0.0,0.0,0.0,0.0,0.0,0.0,0.0,0.0,0.0,0.0,0.0,0.0,0.0,0.0,0.0,0.0,0.0,0.0,0.0,0.0,0.0,0.0,0.0,0.0,0.0,0.0,0.0,0.0,0.0,0.0,0.0,0.0,0.0,0.0,0.0,0.0,0.0,0.0,0.0,0.0,0.0,0.0,0.0,0.0,0.0,0.0,0.0,0.0,0.0,0.0,0.0,0.0,0.0,0.0,0.0,0.0,0.0,0.0,0.0,0.0,0.0,0.0,0.0,0.0,0.0,0.0,0.0,0.0,0.0,0.0,0.0,0.0,0.0,0.0,0.0,0.0,0.0,0.0,0.0,0.0,0.0,0.0,0.0,0.0,0.0,0.0,0.0,0.0,0.0,0.0,0.0,0.0,0.0,0.0,0.0,0.0,0.0,0.0,0.0,0.0,0.0,0.0,0.0,0.0,0.0,0.0,0.0,0.0,0.0,0.0,0.0,0.0,0.0],\"y\":[0.06319975852966309,0.07646697014570236,0.07918082922697067,0.08453930169343948,0.09982907772064209,0.0999613106250763,0.10171785205602646,0.12400300055742264,0.12983167171478271,0.14775246381759644,0.17545881867408752,0.18158908188343048,0.2065725475549698,0.2072884738445282,0.20754997432231903,0.21080932021141052,0.21216079592704773,0.22411225736141205,0.2244296818971634,0.22739189863204956,0.23184199631214142,0.23431038856506348,0.23543457686901093,0.2360108196735382,0.23826256394386292,0.24521271884441376,0.2564921975135803,0.2636485993862152,0.2669335603713989,0.2676354944705963,0.2681044340133667,0.2720160484313965,0.27970606088638306,0.2815234363079071,0.2895977199077606,0.2963652014732361,0.29659503698349,0.3040784001350403,0.32111284136772156,0.32172441482543945,0.3255307078361511,0.33546432852745056,0.3392610251903534,0.3427344262599945,0.3475661277770996,0.34849074482917786,0.3601582646369934,0.3641299307346344,0.3692108392715454,0.37031784653663635,0.37289464473724365,0.38400518894195557,0.3924378454685211,0.3976384699344635,0.3979368209838867,0.4021981656551361,0.4033847749233246,0.40665116906166077,0.40794146060943604,0.4088456332683563,0.42006686329841614,0.42146891355514526,0.4243341386318207,0.4268285632133484,0.4322669506072998,0.4350939393043518,0.4426499605178833,0.44425299763679504,0.4452989399433136,0.4469011425971985,0.45071086287498474,0.4507710039615631,0.45189422369003296,0.45284226536750793,0.4541969299316406,0.46412935853004456,0.4654977321624756,0.4682239890098572,0.4697614312171936,0.4707839787006378,0.47306525707244873,0.47870248556137085,0.478768527507782,0.4797111749649048,0.48032957315444946,0.48081210255622864,0.481826514005661,0.48402315378189087,0.4871435761451721,0.49146777391433716,0.4921512007713318,0.49804720282554626,0.4988414943218231,0.501003086566925,0.5013381242752075,0.5064691305160522,0.5076319575309753,0.5080514550209045,0.5095335841178894,0.5119197368621826,0.5193518996238708,0.5235574841499329,0.5237409472465515,0.5245267748832703,0.5274629592895508,0.5336686372756958,0.5385783910751343,0.5423762202262878,0.543472170829773,0.5466382503509521,0.5481425523757935,0.5506607294082642,0.5523204207420349,0.5533218383789062,0.5549203157424927,0.5621958374977112,0.5689642429351807,0.5718253254890442,0.5722315907478333,0.5728349089622498,0.5770882368087769,0.5775352120399475,0.5787555575370789,0.5800085067749023,0.5802413821220398,0.5804330706596375,0.5806059241294861,0.5806512236595154,0.5831074118614197,0.5839145183563232,0.5853664875030518,0.5855792760848999,0.5903103351593018,0.5944564342498779,0.5963809490203857,0.5989733338356018,0.6014053821563721,0.6042702198028564,0.6052835583686829,0.6063876748085022,0.6074249744415283,0.6130313277244568,0.6153863668441772,0.6170709133148193,0.6213565468788147,0.6230143308639526,0.6236154437065125,0.6252769231796265,0.6322194337844849,0.634432852268219,0.6347361207008362,0.639502763748169,0.6460112929344177,0.6467143297195435,0.6520209908485413,0.6647076606750488,0.6647911071777344,0.6659295558929443,0.6664443612098694,0.668538510799408,0.6695058345794678,0.6695725917816162,0.6707162857055664,0.6720761656761169,0.6738117337226868,0.6746958494186401,0.6756213903427124,0.6759593486785889,0.6793719530105591,0.681568443775177,0.6842491626739502,0.6856397986412048,0.6895889639854431,0.6897063851356506,0.6901271939277649,0.699602484703064,0.7032854557037354,0.7054163813591003,0.7075052857398987,0.7104238271713257,0.7114320397377014,0.7116430401802063,0.7193818092346191,0.7231816649436951,0.7239507436752319,0.7261726260185242,0.728938639163971,0.7330944538116455,0.7343936562538147,0.7370796203613281,0.7371729612350464,0.7381557822227478,0.7393608689308167,0.73996901512146,0.7414181232452393,0.7418199181556702,0.7450724840164185,0.7457031607627869,0.7516085505485535,0.7530688643455505,0.7544876933097839,0.7558285593986511,0.755933403968811,0.7590283751487732,0.7617602944374084,0.7627378106117249,0.7635142207145691,0.7638927102088928,0.7653166055679321,0.7659865617752075,0.7661831378936768,0.7666646838188171,0.7677420377731323,0.7686540484428406,0.7696869969367981,0.7766150236129761,0.77675461769104,0.7774422764778137,0.7783913016319275,0.7787448167800903,0.7793280482292175,0.7817306518554688,0.7819903492927551,0.7828554511070251,0.783287525177002,0.7840278744697571,0.7880388498306274,0.788665771484375,0.7891587615013123,0.7901158928871155,0.7944392561912537,0.7953891158103943,0.7975573539733887,0.8001232147216797,0.8007486462593079,0.8014552593231201,0.8022210597991943,0.8024200797080994,0.8041052222251892,0.8044816255569458,0.8061244487762451,0.8066985607147217,0.817686915397644,0.8247910141944885,0.8288550972938538,0.8290351033210754,0.8323842287063599,0.8326101899147034,0.8340211510658264,0.8386447429656982,0.8415499329566956,0.8464364409446716,0.8464374542236328,0.8537090420722961,0.8545961976051331,0.857988178730011,0.8618861436843872,0.8652454018592834,0.8667922616004944,0.8693711161613464,0.8696638941764832,0.8701794743537903,0.8719244599342346,0.8726087808609009,0.8747499585151672,0.8748804330825806,0.8754260540008545,0.8766939043998718,0.8867620825767517,0.8888033032417297,0.8937294483184814,0.8965504169464111,0.8984628915786743,0.8996911644935608,0.8999792337417603,0.9030501842498779,0.9046313762664795,0.908353865146637,0.9086518287658691,0.9089177846908569,0.9097849726676941,0.912094235420227,0.9149269461631775,0.915960967540741,0.9162911772727966,0.9214071035385132,0.9233222603797913,0.9241110682487488,0.9252091646194458,0.9255280494689941,0.9293211102485657,0.9332661032676697,0.9340693354606628,0.9360806345939636,0.9417913556098938,0.9421594142913818,0.943880558013916,0.9476404190063477,0.9487598538398743,0.9543870687484741,0.9561274647712708,0.9561886191368103,0.9577071070671082,0.9586867094039917,0.9591484069824219,0.9604043960571289,0.9614924788475037,0.9650852084159851,0.9674206376075745,0.9685497879981995,0.9686381220817566,0.9704976081848145,0.9707927703857422,0.9715242385864258,0.9723109006881714,0.9727473258972168,0.9739750623703003,0.9739919304847717,0.9816715717315674,0.9824100732803345,0.9828282594680786,0.9852990508079529,0.9856700897216797,0.9897575378417969,0.9922143816947937,0.9922187924385071,0.9928500652313232,0.9930011034011841,0.9973194003105164,0.9975419640541077,0.998182475566864,1.0003899335861206,1.0010911226272583,1.0013811588287354,1.0090328454971313,1.0097124576568604,1.0122567415237427,1.0133167505264282,1.0151517391204834,1.0161149501800537,1.019303798675537,1.0232648849487305,1.0256996154785156,1.0276148319244385,1.0279079675674438,1.0316907167434692,1.032484769821167,1.0331547260284424,1.0355710983276367,1.0358790159225464,1.0397249460220337,1.0405995845794678,1.041908860206604,1.0429240465164185,1.0437405109405518,1.0443921089172363,1.048171043395996,1.0503673553466797,1.0505948066711426,1.050685167312622,1.0519566535949707,1.053144931793213,1.0619795322418213,1.062791109085083,1.06355881690979,1.0638357400894165,1.0641939640045166,1.0659198760986328,1.0670899152755737,1.067517876625061,1.0702800750732422,1.0705068111419678,1.0719276666641235,1.072786808013916,1.0743582248687744,1.0799449682235718,1.0824329853057861,1.0824648141860962,1.0842007398605347,1.087130069732666,1.087645173072815,1.0893263816833496,1.0902348756790161,1.0910985469818115,1.0942384004592896,1.1009708642959595,1.1010929346084595,1.1033328771591187,1.1050399541854858,1.108228325843811,1.1111832857131958,1.112257957458496,1.1124998331069946,1.1193708181381226,1.1218712329864502,1.126556396484375,1.1267799139022827,1.127504587173462,1.1279841661453247,1.1282508373260498,1.1286201477050781,1.1293258666992188,1.1309387683868408,1.1340198516845703,1.1390970945358276,1.1433579921722412,1.1503750085830688,1.1504772901535034,1.1518750190734863,1.1525135040283203,1.154644250869751,1.1562800407409668,1.1587953567504883,1.1591148376464844,1.1621944904327393,1.1659085750579834,1.1694557666778564,1.1727573871612549,1.177523136138916,1.1795862913131714,1.179639220237732,1.179701566696167,1.179754614830017,1.181057095527649,1.181110143661499,1.1859159469604492,1.1860543489456177,1.1898295879364014,1.1906580924987793,1.1910927295684814,1.196351170539856,1.1978750228881836,1.2033103704452515,1.2043020725250244,1.2053725719451904,1.2058902978897095,1.2062543630599976,1.2100344896316528,1.2101646661758423,1.214233636856079,1.2147194147109985,1.2159465551376343,1.2191647291183472,1.2200781106948853,1.222450613975525,1.2229231595993042,1.2258158922195435,1.2279115915298462,1.2282485961914062,1.2313274145126343,1.233515739440918,1.2350331544876099,1.2350367307662964,1.236709475517273,1.2429817914962769,1.2502315044403076,1.2520380020141602,1.2540819644927979,1.2571114301681519,1.2584571838378906,1.262088656425476,1.2634681463241577,1.265286922454834,1.265758752822876,1.2726703882217407,1.2728382349014282,1.27346932888031,1.2795461416244507,1.2832454442977905,1.2846277952194214,1.2936680316925049,1.2971187829971313,1.2995715141296387,1.3009363412857056,1.3011780977249146,1.3066372871398926,1.3087470531463623,1.315253734588623,1.3159078359603882,1.3169549703598022,1.3171054124832153,1.321128010749817,1.3246313333511353,1.3280836343765259,1.3364872932434082,1.3452345132827759,1.3482962846755981,1.3519612550735474,1.3540509939193726,1.3584963083267212,1.361221432685852,1.361943244934082,1.361990213394165,1.362855076789856,1.3645603656768799,1.3658188581466675,1.366679072380066,1.3691617250442505,1.3717797994613647,1.3757765293121338,1.37717604637146,1.3816957473754883,1.3895282745361328,1.390123963356018,1.3945506811141968,1.398633360862732,1.4000037908554077,1.4003098011016846,1.4035274982452393,1.4087015390396118,1.4118449687957764,1.414292573928833,1.415562629699707,1.4192249774932861,1.420737385749817,1.424551010131836,1.4260926246643066,1.4280505180358887,1.4319298267364502,1.4402616024017334,1.4410090446472168,1.4450331926345825,1.44596529006958,1.4465842247009277,1.447882890701294,1.4488364458084106,1.4538092613220215,1.4540601968765259,1.4554599523544312,1.455861210823059,1.4570566415786743,1.461470365524292,1.4642411470413208,1.469220757484436,1.4697468280792236,1.4702531099319458,1.470613956451416,1.4707177877426147,1.470829963684082,1.4737492799758911,1.4745267629623413,1.4760572910308838,1.476889967918396,1.4839063882827759,1.4851993322372437,1.4878267049789429,1.5028523206710815,1.510801911354065,1.5111244916915894,1.517992377281189,1.51917564868927,1.5243566036224365,1.5296730995178223,1.5302174091339111,1.5318447351455688,1.535882830619812,1.5404454469680786,1.5433238744735718,1.5441633462905884,1.5476739406585693,1.5547910928726196,1.5563700199127197,1.6025816202163696,1.60467529296875,1.6060899496078491,1.6108484268188477,1.6118720769882202,1.6134097576141357,1.618636965751648,1.6232750415802002,1.6236995458602905,1.6239088773727417,1.6291005611419678,1.6323034763336182,1.6343737840652466,1.6361027956008911,1.6402177810668945,1.640917181968689,1.6455419063568115,1.649448037147522,1.6654701232910156,1.6665763854980469,1.6676703691482544,1.6678870916366577,1.6711814403533936,1.6725636720657349,1.6742631196975708,1.6744883060455322,1.6819641590118408,1.6861498355865479,1.696747899055481,1.698268175125122,1.699175477027893,1.7079344987869263,1.7089624404907227,1.7190824747085571,1.725570797920227,1.7352380752563477,1.7366255521774292,1.7403104305267334,1.7404788732528687,1.7458456754684448,1.7509396076202393,1.7534791231155396,1.7539398670196533,1.7568320035934448,1.7571536302566528,1.765018343925476,1.7662615776062012,1.767462134361267,1.776102066040039,1.7864347696304321,1.7968709468841553,1.797551155090332,1.80666184425354,1.8093172311782837,1.8157581090927124,1.819393277168274,1.822833776473999,1.8230953216552734,1.8307133913040161,1.8447846174240112,1.8457672595977783,1.8538333177566528,1.856461524963379,1.8828719854354858,1.9072258472442627,1.9372997283935547,1.9415435791015625,1.9702510833740234,1.9732651710510254,1.988979458808899,1.991980791091919,1.997662901878357,2.0012800693511963,2.0058205127716064,2.0102574825286865,2.0292155742645264,2.047746181488037,2.0502519607543945,2.0754716396331787,2.087200880050659,2.088423252105713,2.0922086238861084,2.124687671661377,2.148649215698242,2.152012825012207,2.1535837650299072,2.1758503913879395,2.187547206878662,2.2268354892730713,2.2399563789367676,2.245587110519409,2.2582366466522217,2.268131732940674,2.2742502689361572,2.2839608192443848,2.2983062267303467,2.339850664138794,2.346167802810669,2.39147686958313,2.410491466522217,2.4289071559906006,2.439521551132202,2.452784538269043,2.462125539779663,2.4845142364501953,2.497612714767456,2.4976484775543213,2.5196897983551025,2.5396392345428467,2.5986571311950684,2.61418080329895,2.6614086627960205,2.66988205909729,2.6879122257232666,2.751438617706299,2.789405584335327,2.8116164207458496,2.8138937950134277,2.815279722213745,2.854825258255005,2.9134864807128906,2.953751802444458,3.0290887355804443,3.073059320449829,3.0873873233795166,3.1140806674957275,3.228344678878784,3.2775022983551025,3.2855772972106934,3.352987766265869,3.3741447925567627,3.653404474258423,3.767148733139038,3.8424062728881836,3.844848871231079,4.510985374450684,5.382115840911865,5.605260848999023,6.6118268966674805,6.695725917816162],\"type\":\"scatter\"},{\"hoverinfo\":\"text\",\"hovertext\":[\"(9.676605224609375, 9.71138858795166)\",\"(6.502968788146973, 6.797106742858887)\",\"(6.443098545074463, 8.645747184753418)\",\"(6.3548502922058105, 6.550185203552246)\",\"(5.328261852264404, 5.655409812927246)\",\"(4.6825103759765625, 5.313539028167725)\",\"(4.468752861022949, 5.57589054107666)\",\"(4.310877799987793, 4.924226760864258)\",\"(4.216080188751221, 5.324830532073975)\",\"(4.084483623504639, 4.264389514923096)\",\"(3.8831567764282227, 4.344945430755615)\",\"(3.7659873962402344, 4.221543788909912)\",\"(3.5863120555877686, 3.7034807205200195)\",\"(3.5335447788238525, 4.710458278656006)\",\"(3.471369743347168, 4.214025974273682)\",\"(3.464480400085449, 4.599792003631592)\",\"(3.463381052017212, 3.6048948764801025)\",\"(3.375214099884033, 3.671769618988037)\",\"(3.339272975921631, 4.901933193206787)\",\"(3.320626974105835, 4.887539386749268)\",\"(3.234408140182495, 3.384840965270996)\",\"(3.156196355819702, 4.03493595123291)\",\"(3.14784836769104, 4.061283111572266)\",\"(3.118134021759033, 3.2930500507354736)\",\"(3.1164791584014893, 4.193849563598633)\",\"(3.103909730911255, 3.2200260162353516)\",\"(3.0712063312530518, 4.2284626960754395)\",\"(3.0514047145843506, 3.1220815181732178)\",\"(2.9139695167541504, 3.2982370853424072)\",\"(2.8940560817718506, 2.89755916595459)\",\"(2.869628667831421, 4.5491228103637695)\",\"(2.8668978214263916, 3.2524025440216064)\",\"(2.8633549213409424, 3.1908810138702393)\",\"(2.862468957901001, 3.4290931224823)\",\"(2.828644275665283, 3.0988059043884277)\",\"(2.7862436771392822, 3.705643653869629)\",\"(2.7802340984344482, 3.2412302494049072)\",\"(2.594911575317383, 2.719769239425659)\",\"(2.592073917388916, 2.6988513469696045)\",\"(2.5844597816467285, 2.593824625015259)\",\"(2.560925245285034, 2.6486785411834717)\",\"(2.551624059677124, 2.5807127952575684)\",\"(2.539104700088501, 3.635342597961426)\",\"(2.5349581241607666, 2.654940605163574)\",\"(2.5281150341033936, 2.7722764015197754)\",\"(2.52763295173645, 2.707881212234497)\",\"(2.5217814445495605, 2.7498831748962402)\",\"(2.5087485313415527, 2.8653523921966553)\",\"(2.4835808277130127, 3.0991172790527344)\",\"(2.4822006225585938, 3.2239768505096436)\",\"(2.4780821800231934, 3.1625850200653076)\",\"(2.4677982330322266, 2.703806161880493)\",\"(2.465294361114502, 2.6957709789276123)\",\"(2.444014310836792, 2.5959231853485107)\",\"(2.4238855838775635, 4.011435031890869)\",\"(2.421114921569824, 2.423640727996826)\",\"(2.383756160736084, 2.6201891899108887)\",\"(2.3781492710113525, 2.5339484214782715)\",\"(2.3466625213623047, 3.311594009399414)\",\"(2.33990216255188, 2.5641117095947266)\",\"(2.322761058807373, 2.6355273723602295)\",\"(2.260404348373413, 2.324047088623047)\",\"(2.245978832244873, 2.5615837574005127)\",\"(2.2373762130737305, 2.4932751655578613)\",\"(2.2364392280578613, 3.322117328643799)\",\"(2.233583927154541, 2.776728391647339)\",\"(2.1836960315704346, 3.1086480617523193)\",\"(2.1810288429260254, 2.7849605083465576)\",\"(2.163022994995117, 2.5584287643432617)\",\"(2.1540770530700684, 2.4636290073394775)\",\"(2.137953042984009, 3.736517906188965)\",\"(2.1339478492736816, 2.3155455589294434)\",\"(2.1338162422180176, 2.2389445304870605)\",\"(2.1335999965667725, 2.411649465560913)\",\"(2.1165623664855957, 2.1339917182922363)\",\"(2.115252733230591, 2.157719612121582)\",\"(2.1013779640197754, 2.3823471069335938)\",\"(2.0977399349212646, 2.215397834777832)\",\"(2.0876948833465576, 2.4096381664276123)\",\"(2.0853428840637207, 2.407083749771118)\",\"(2.082881450653076, 2.277040719985962)\",\"(2.077725410461426, 2.305137872695923)\",\"(2.077637195587158, 2.1231112480163574)\",\"(2.0774683952331543, 2.3843302726745605)\",\"(2.067931890487671, 3.161412000656128)\",\"(2.0553030967712402, 2.656721830368042)\",\"(2.051647424697876, 2.9784915447235107)\",\"(2.0509774684906006, 2.406893253326416)\",\"(2.0413973331451416, 2.0837254524230957)\",\"(2.0349016189575195, 2.4354159832000732)\",\"(2.014326333999634, 2.0958855152130127)\",\"(2.0081892013549805, 2.1269187927246094)\",\"(2.0046474933624268, 11.266093254089355)\",\"(2.0025851726531982, 2.489112615585327)\",\"(1.9953488111495972, 2.0526905059814453)\",\"(1.9772661924362183, 2.242156505584717)\",\"(1.9766004085540771, 2.2191975116729736)\",\"(1.9692834615707397, 2.0814552307128906)\",\"(1.9556761980056763, 2.0950863361358643)\",\"(1.9427504539489746, 2.7317793369293213)\",\"(1.9331926107406616, 2.7636427879333496)\",\"(1.9321835041046143, 2.2452051639556885)\",\"(1.9311449527740479, 2.033048391342163)\",\"(1.9221328496932983, 2.8333308696746826)\",\"(1.9215679168701172, 2.0078232288360596)\",\"(1.9177569150924683, 2.617982864379883)\",\"(1.9075660705566406, 2.0221009254455566)\",\"(1.9014685153961182, 2.467804193496704)\",\"(1.8988643884658813, 2.768930673599243)\",\"(1.8961737155914307, 2.197777032852173)\",\"(1.8918206691741943, 2.0901715755462646)\",\"(1.8843849897384644, 1.9676557779312134)\",\"(1.8771167993545532, 2.5272443294525146)\",\"(1.8610560894012451, 2.1456637382507324)\",\"(1.8580657243728638, 2.442504405975342)\",\"(1.8566126823425293, 2.6981680393218994)\",\"(1.8522967100143433, 2.6310341358184814)\",\"(1.836191177368164, 1.9255555868148804)\",\"(1.8352676630020142, 2.8189778327941895)\",\"(1.8269656896591187, 2.198145627975464)\",\"(1.8234883546829224, 3.1350350379943848)\",\"(1.8043760061264038, 2.389902353286743)\",\"(1.802241325378418, 2.250255823135376)\",\"(1.7899632453918457, 1.8807631731033325)\",\"(1.7864559888839722, 2.0423858165740967)\",\"(1.782729148864746, 2.2548911571502686)\",\"(1.7802790403366089, 1.887962818145752)\",\"(1.7757573127746582, 2.241755962371826)\",\"(1.769792914390564, 2.2070162296295166)\",\"(1.767030954360962, 2.136030673980713)\",\"(1.766478419303894, 2.43247652053833)\",\"(1.7657939195632935, 1.8112132549285889)\",\"(1.7624094486236572, 1.938733696937561)\",\"(1.7489720582962036, 1.813489317893982)\",\"(1.728880763053894, 2.180671215057373)\",\"(1.725197434425354, 1.9741979837417603)\",\"(1.7236899137496948, 3.1676347255706787)\",\"(1.7177733182907104, 2.1100733280181885)\",\"(1.697600245475769, 1.6980379819869995)\",\"(1.6891766786575317, 2.0350608825683594)\",\"(1.678730845451355, 1.6938410997390747)\",\"(1.6560252904891968, 2.26196026802063)\",\"(1.6478794813156128, 1.724008560180664)\",\"(1.6444416046142578, 2.7419400215148926)\",\"(1.6442738771438599, 1.871414303779602)\",\"(1.642699956893921, 3.061587333679199)\",\"(1.6205482482910156, 2.3248109817504883)\",\"(1.5952736139297485, 1.9005588293075562)\",\"(1.5631247758865356, 1.5877926349639893)\",\"(1.5505543947219849, 1.6022405624389648)\",\"(1.5456066131591797, 1.7343754768371582)\",\"(1.534333348274231, 2.530359983444214)\",\"(1.5195730924606323, 1.7416173219680786)\",\"(1.496041178703308, 1.6945594549179077)\",\"(1.490916132926941, 1.519681453704834)\",\"(1.488726258277893, 1.6844358444213867)\",\"(1.4875423908233643, 1.9843735694885254)\",\"(1.4777491092681885, 1.5240447521209717)\",\"(1.4569737911224365, 1.5673458576202393)\",\"(1.411245346069336, 1.6497305631637573)\",\"(1.4111438989639282, 1.4675935506820679)\",\"(1.3904026746749878, 1.4600824117660522)\",\"(1.382449746131897, 1.4505764245986938)\",\"(1.345689058303833, 1.3567653894424438)\",\"(1.344077229499817, 1.4560350179672241)\",\"(1.3411833047866821, 1.746401309967041)\",\"(1.2523176670074463, 1.3220843076705933)\",\"(1.2479013204574585, 1.329277753829956)\",\"(1.2322287559509277, 1.3785135746002197)\",\"(1.2282601594924927, 1.2480396032333374)\",\"(1.2101218700408936, 1.2167314291000366)\",\"(1.1458476781845093, 1.295436978340149)\",\"(1.0385706424713135, 1.0482618808746338)\",\"(0.93788743019104, 0.9467855095863342)\"],\"mode\":\"markers\",\"name\":\"H1\",\"x\":[9.676605224609375,6.502968788146973,6.443098545074463,6.3548502922058105,5.328261852264404,4.6825103759765625,4.468752861022949,4.310877799987793,4.216080188751221,4.084483623504639,3.8831567764282227,3.7659873962402344,3.5863120555877686,3.5335447788238525,3.471369743347168,3.464480400085449,3.463381052017212,3.375214099884033,3.339272975921631,3.320626974105835,3.234408140182495,3.156196355819702,3.14784836769104,3.118134021759033,3.1164791584014893,3.103909730911255,3.0712063312530518,3.0514047145843506,2.9139695167541504,2.8940560817718506,2.869628667831421,2.8668978214263916,2.8633549213409424,2.862468957901001,2.828644275665283,2.7862436771392822,2.7802340984344482,2.594911575317383,2.592073917388916,2.5844597816467285,2.560925245285034,2.551624059677124,2.539104700088501,2.5349581241607666,2.5281150341033936,2.52763295173645,2.5217814445495605,2.5087485313415527,2.4835808277130127,2.4822006225585938,2.4780821800231934,2.4677982330322266,2.465294361114502,2.444014310836792,2.4238855838775635,2.421114921569824,2.383756160736084,2.3781492710113525,2.3466625213623047,2.33990216255188,2.322761058807373,2.260404348373413,2.245978832244873,2.2373762130737305,2.2364392280578613,2.233583927154541,2.1836960315704346,2.1810288429260254,2.163022994995117,2.1540770530700684,2.137953042984009,2.1339478492736816,2.1338162422180176,2.1335999965667725,2.1165623664855957,2.115252733230591,2.1013779640197754,2.0977399349212646,2.0876948833465576,2.0853428840637207,2.082881450653076,2.077725410461426,2.077637195587158,2.0774683952331543,2.067931890487671,2.0553030967712402,2.051647424697876,2.0509774684906006,2.0413973331451416,2.0349016189575195,2.014326333999634,2.0081892013549805,2.0046474933624268,2.0025851726531982,1.9953488111495972,1.9772661924362183,1.9766004085540771,1.9692834615707397,1.9556761980056763,1.9427504539489746,1.9331926107406616,1.9321835041046143,1.9311449527740479,1.9221328496932983,1.9215679168701172,1.9177569150924683,1.9075660705566406,1.9014685153961182,1.8988643884658813,1.8961737155914307,1.8918206691741943,1.8843849897384644,1.8771167993545532,1.8610560894012451,1.8580657243728638,1.8566126823425293,1.8522967100143433,1.836191177368164,1.8352676630020142,1.8269656896591187,1.8234883546829224,1.8043760061264038,1.802241325378418,1.7899632453918457,1.7864559888839722,1.782729148864746,1.7802790403366089,1.7757573127746582,1.769792914390564,1.767030954360962,1.766478419303894,1.7657939195632935,1.7624094486236572,1.7489720582962036,1.728880763053894,1.725197434425354,1.7236899137496948,1.7177733182907104,1.697600245475769,1.6891766786575317,1.678730845451355,1.6560252904891968,1.6478794813156128,1.6444416046142578,1.6442738771438599,1.642699956893921,1.6205482482910156,1.5952736139297485,1.5631247758865356,1.5505543947219849,1.5456066131591797,1.534333348274231,1.5195730924606323,1.496041178703308,1.490916132926941,1.488726258277893,1.4875423908233643,1.4777491092681885,1.4569737911224365,1.411245346069336,1.4111438989639282,1.3904026746749878,1.382449746131897,1.345689058303833,1.344077229499817,1.3411833047866821,1.2523176670074463,1.2479013204574585,1.2322287559509277,1.2282601594924927,1.2101218700408936,1.1458476781845093,1.0385706424713135,0.93788743019104],\"y\":[9.71138858795166,6.797106742858887,8.645747184753418,6.550185203552246,5.655409812927246,5.313539028167725,5.57589054107666,4.924226760864258,5.324830532073975,4.264389514923096,4.344945430755615,4.221543788909912,3.7034807205200195,4.710458278656006,4.214025974273682,4.599792003631592,3.6048948764801025,3.671769618988037,4.901933193206787,4.887539386749268,3.384840965270996,4.03493595123291,4.061283111572266,3.2930500507354736,4.193849563598633,3.2200260162353516,4.2284626960754395,3.1220815181732178,3.2982370853424072,2.89755916595459,4.5491228103637695,3.2524025440216064,3.1908810138702393,3.4290931224823,3.0988059043884277,3.705643653869629,3.2412302494049072,2.719769239425659,2.6988513469696045,2.593824625015259,2.6486785411834717,2.5807127952575684,3.635342597961426,2.654940605163574,2.7722764015197754,2.707881212234497,2.7498831748962402,2.8653523921966553,3.0991172790527344,3.2239768505096436,3.1625850200653076,2.703806161880493,2.6957709789276123,2.5959231853485107,4.011435031890869,2.423640727996826,2.6201891899108887,2.5339484214782715,3.311594009399414,2.5641117095947266,2.6355273723602295,2.324047088623047,2.5615837574005127,2.4932751655578613,3.322117328643799,2.776728391647339,3.1086480617523193,2.7849605083465576,2.5584287643432617,2.4636290073394775,3.736517906188965,2.3155455589294434,2.2389445304870605,2.411649465560913,2.1339917182922363,2.157719612121582,2.3823471069335938,2.215397834777832,2.4096381664276123,2.407083749771118,2.277040719985962,2.305137872695923,2.1231112480163574,2.3843302726745605,3.161412000656128,2.656721830368042,2.9784915447235107,2.406893253326416,2.0837254524230957,2.4354159832000732,2.0958855152130127,2.1269187927246094,11.266093254089355,2.489112615585327,2.0526905059814453,2.242156505584717,2.2191975116729736,2.0814552307128906,2.0950863361358643,2.7317793369293213,2.7636427879333496,2.2452051639556885,2.033048391342163,2.8333308696746826,2.0078232288360596,2.617982864379883,2.0221009254455566,2.467804193496704,2.768930673599243,2.197777032852173,2.0901715755462646,1.9676557779312134,2.5272443294525146,2.1456637382507324,2.442504405975342,2.6981680393218994,2.6310341358184814,1.9255555868148804,2.8189778327941895,2.198145627975464,3.1350350379943848,2.389902353286743,2.250255823135376,1.8807631731033325,2.0423858165740967,2.2548911571502686,1.887962818145752,2.241755962371826,2.2070162296295166,2.136030673980713,2.43247652053833,1.8112132549285889,1.938733696937561,1.813489317893982,2.180671215057373,1.9741979837417603,3.1676347255706787,2.1100733280181885,1.6980379819869995,2.0350608825683594,1.6938410997390747,2.26196026802063,1.724008560180664,2.7419400215148926,1.871414303779602,3.061587333679199,2.3248109817504883,1.9005588293075562,1.5877926349639893,1.6022405624389648,1.7343754768371582,2.530359983444214,1.7416173219680786,1.6945594549179077,1.519681453704834,1.6844358444213867,1.9843735694885254,1.5240447521209717,1.5673458576202393,1.6497305631637573,1.4675935506820679,1.4600824117660522,1.4505764245986938,1.3567653894424438,1.4560350179672241,1.746401309967041,1.3220843076705933,1.329277753829956,1.3785135746002197,1.2480396032333374,1.2167314291000366,1.295436978340149,1.0482618808746338,0.9467855095863342],\"type\":\"scatter\"},{\"hoverinfo\":\"text\",\"hovertext\":[],\"mode\":\"markers\",\"name\":\"H2\",\"x\":[],\"y\":[],\"type\":\"scatter\"}],                        {\"template\":{\"data\":{\"bar\":[{\"error_x\":{\"color\":\"#2a3f5f\"},\"error_y\":{\"color\":\"#2a3f5f\"},\"marker\":{\"line\":{\"color\":\"#E5ECF6\",\"width\":0.5},\"pattern\":{\"fillmode\":\"overlay\",\"size\":10,\"solidity\":0.2}},\"type\":\"bar\"}],\"barpolar\":[{\"marker\":{\"line\":{\"color\":\"#E5ECF6\",\"width\":0.5},\"pattern\":{\"fillmode\":\"overlay\",\"size\":10,\"solidity\":0.2}},\"type\":\"barpolar\"}],\"carpet\":[{\"aaxis\":{\"endlinecolor\":\"#2a3f5f\",\"gridcolor\":\"white\",\"linecolor\":\"white\",\"minorgridcolor\":\"white\",\"startlinecolor\":\"#2a3f5f\"},\"baxis\":{\"endlinecolor\":\"#2a3f5f\",\"gridcolor\":\"white\",\"linecolor\":\"white\",\"minorgridcolor\":\"white\",\"startlinecolor\":\"#2a3f5f\"},\"type\":\"carpet\"}],\"choropleth\":[{\"colorbar\":{\"outlinewidth\":0,\"ticks\":\"\"},\"type\":\"choropleth\"}],\"contour\":[{\"colorbar\":{\"outlinewidth\":0,\"ticks\":\"\"},\"colorscale\":[[0.0,\"#0d0887\"],[0.1111111111111111,\"#46039f\"],[0.2222222222222222,\"#7201a8\"],[0.3333333333333333,\"#9c179e\"],[0.4444444444444444,\"#bd3786\"],[0.5555555555555556,\"#d8576b\"],[0.6666666666666666,\"#ed7953\"],[0.7777777777777778,\"#fb9f3a\"],[0.8888888888888888,\"#fdca26\"],[1.0,\"#f0f921\"]],\"type\":\"contour\"}],\"contourcarpet\":[{\"colorbar\":{\"outlinewidth\":0,\"ticks\":\"\"},\"type\":\"contourcarpet\"}],\"heatmap\":[{\"colorbar\":{\"outlinewidth\":0,\"ticks\":\"\"},\"colorscale\":[[0.0,\"#0d0887\"],[0.1111111111111111,\"#46039f\"],[0.2222222222222222,\"#7201a8\"],[0.3333333333333333,\"#9c179e\"],[0.4444444444444444,\"#bd3786\"],[0.5555555555555556,\"#d8576b\"],[0.6666666666666666,\"#ed7953\"],[0.7777777777777778,\"#fb9f3a\"],[0.8888888888888888,\"#fdca26\"],[1.0,\"#f0f921\"]],\"type\":\"heatmap\"}],\"heatmapgl\":[{\"colorbar\":{\"outlinewidth\":0,\"ticks\":\"\"},\"colorscale\":[[0.0,\"#0d0887\"],[0.1111111111111111,\"#46039f\"],[0.2222222222222222,\"#7201a8\"],[0.3333333333333333,\"#9c179e\"],[0.4444444444444444,\"#bd3786\"],[0.5555555555555556,\"#d8576b\"],[0.6666666666666666,\"#ed7953\"],[0.7777777777777778,\"#fb9f3a\"],[0.8888888888888888,\"#fdca26\"],[1.0,\"#f0f921\"]],\"type\":\"heatmapgl\"}],\"histogram\":[{\"marker\":{\"pattern\":{\"fillmode\":\"overlay\",\"size\":10,\"solidity\":0.2}},\"type\":\"histogram\"}],\"histogram2d\":[{\"colorbar\":{\"outlinewidth\":0,\"ticks\":\"\"},\"colorscale\":[[0.0,\"#0d0887\"],[0.1111111111111111,\"#46039f\"],[0.2222222222222222,\"#7201a8\"],[0.3333333333333333,\"#9c179e\"],[0.4444444444444444,\"#bd3786\"],[0.5555555555555556,\"#d8576b\"],[0.6666666666666666,\"#ed7953\"],[0.7777777777777778,\"#fb9f3a\"],[0.8888888888888888,\"#fdca26\"],[1.0,\"#f0f921\"]],\"type\":\"histogram2d\"}],\"histogram2dcontour\":[{\"colorbar\":{\"outlinewidth\":0,\"ticks\":\"\"},\"colorscale\":[[0.0,\"#0d0887\"],[0.1111111111111111,\"#46039f\"],[0.2222222222222222,\"#7201a8\"],[0.3333333333333333,\"#9c179e\"],[0.4444444444444444,\"#bd3786\"],[0.5555555555555556,\"#d8576b\"],[0.6666666666666666,\"#ed7953\"],[0.7777777777777778,\"#fb9f3a\"],[0.8888888888888888,\"#fdca26\"],[1.0,\"#f0f921\"]],\"type\":\"histogram2dcontour\"}],\"mesh3d\":[{\"colorbar\":{\"outlinewidth\":0,\"ticks\":\"\"},\"type\":\"mesh3d\"}],\"parcoords\":[{\"line\":{\"colorbar\":{\"outlinewidth\":0,\"ticks\":\"\"}},\"type\":\"parcoords\"}],\"pie\":[{\"automargin\":true,\"type\":\"pie\"}],\"scatter\":[{\"marker\":{\"colorbar\":{\"outlinewidth\":0,\"ticks\":\"\"}},\"type\":\"scatter\"}],\"scatter3d\":[{\"line\":{\"colorbar\":{\"outlinewidth\":0,\"ticks\":\"\"}},\"marker\":{\"colorbar\":{\"outlinewidth\":0,\"ticks\":\"\"}},\"type\":\"scatter3d\"}],\"scattercarpet\":[{\"marker\":{\"colorbar\":{\"outlinewidth\":0,\"ticks\":\"\"}},\"type\":\"scattercarpet\"}],\"scattergeo\":[{\"marker\":{\"colorbar\":{\"outlinewidth\":0,\"ticks\":\"\"}},\"type\":\"scattergeo\"}],\"scattergl\":[{\"marker\":{\"colorbar\":{\"outlinewidth\":0,\"ticks\":\"\"}},\"type\":\"scattergl\"}],\"scattermapbox\":[{\"marker\":{\"colorbar\":{\"outlinewidth\":0,\"ticks\":\"\"}},\"type\":\"scattermapbox\"}],\"scatterpolar\":[{\"marker\":{\"colorbar\":{\"outlinewidth\":0,\"ticks\":\"\"}},\"type\":\"scatterpolar\"}],\"scatterpolargl\":[{\"marker\":{\"colorbar\":{\"outlinewidth\":0,\"ticks\":\"\"}},\"type\":\"scatterpolargl\"}],\"scatterternary\":[{\"marker\":{\"colorbar\":{\"outlinewidth\":0,\"ticks\":\"\"}},\"type\":\"scatterternary\"}],\"surface\":[{\"colorbar\":{\"outlinewidth\":0,\"ticks\":\"\"},\"colorscale\":[[0.0,\"#0d0887\"],[0.1111111111111111,\"#46039f\"],[0.2222222222222222,\"#7201a8\"],[0.3333333333333333,\"#9c179e\"],[0.4444444444444444,\"#bd3786\"],[0.5555555555555556,\"#d8576b\"],[0.6666666666666666,\"#ed7953\"],[0.7777777777777778,\"#fb9f3a\"],[0.8888888888888888,\"#fdca26\"],[1.0,\"#f0f921\"]],\"type\":\"surface\"}],\"table\":[{\"cells\":{\"fill\":{\"color\":\"#EBF0F8\"},\"line\":{\"color\":\"white\"}},\"header\":{\"fill\":{\"color\":\"#C8D4E3\"},\"line\":{\"color\":\"white\"}},\"type\":\"table\"}]},\"layout\":{\"annotationdefaults\":{\"arrowcolor\":\"#2a3f5f\",\"arrowhead\":0,\"arrowwidth\":1},\"autotypenumbers\":\"strict\",\"coloraxis\":{\"colorbar\":{\"outlinewidth\":0,\"ticks\":\"\"}},\"colorscale\":{\"diverging\":[[0,\"#8e0152\"],[0.1,\"#c51b7d\"],[0.2,\"#de77ae\"],[0.3,\"#f1b6da\"],[0.4,\"#fde0ef\"],[0.5,\"#f7f7f7\"],[0.6,\"#e6f5d0\"],[0.7,\"#b8e186\"],[0.8,\"#7fbc41\"],[0.9,\"#4d9221\"],[1,\"#276419\"]],\"sequential\":[[0.0,\"#0d0887\"],[0.1111111111111111,\"#46039f\"],[0.2222222222222222,\"#7201a8\"],[0.3333333333333333,\"#9c179e\"],[0.4444444444444444,\"#bd3786\"],[0.5555555555555556,\"#d8576b\"],[0.6666666666666666,\"#ed7953\"],[0.7777777777777778,\"#fb9f3a\"],[0.8888888888888888,\"#fdca26\"],[1.0,\"#f0f921\"]],\"sequentialminus\":[[0.0,\"#0d0887\"],[0.1111111111111111,\"#46039f\"],[0.2222222222222222,\"#7201a8\"],[0.3333333333333333,\"#9c179e\"],[0.4444444444444444,\"#bd3786\"],[0.5555555555555556,\"#d8576b\"],[0.6666666666666666,\"#ed7953\"],[0.7777777777777778,\"#fb9f3a\"],[0.8888888888888888,\"#fdca26\"],[1.0,\"#f0f921\"]]},\"colorway\":[\"#636efa\",\"#EF553B\",\"#00cc96\",\"#ab63fa\",\"#FFA15A\",\"#19d3f3\",\"#FF6692\",\"#B6E880\",\"#FF97FF\",\"#FECB52\"],\"font\":{\"color\":\"#2a3f5f\"},\"geo\":{\"bgcolor\":\"white\",\"lakecolor\":\"white\",\"landcolor\":\"#E5ECF6\",\"showlakes\":true,\"showland\":true,\"subunitcolor\":\"white\"},\"hoverlabel\":{\"align\":\"left\"},\"hovermode\":\"closest\",\"mapbox\":{\"style\":\"light\"},\"paper_bgcolor\":\"white\",\"plot_bgcolor\":\"#E5ECF6\",\"polar\":{\"angularaxis\":{\"gridcolor\":\"white\",\"linecolor\":\"white\",\"ticks\":\"\"},\"bgcolor\":\"#E5ECF6\",\"radialaxis\":{\"gridcolor\":\"white\",\"linecolor\":\"white\",\"ticks\":\"\"}},\"scene\":{\"xaxis\":{\"backgroundcolor\":\"#E5ECF6\",\"gridcolor\":\"white\",\"gridwidth\":2,\"linecolor\":\"white\",\"showbackground\":true,\"ticks\":\"\",\"zerolinecolor\":\"white\"},\"yaxis\":{\"backgroundcolor\":\"#E5ECF6\",\"gridcolor\":\"white\",\"gridwidth\":2,\"linecolor\":\"white\",\"showbackground\":true,\"ticks\":\"\",\"zerolinecolor\":\"white\"},\"zaxis\":{\"backgroundcolor\":\"#E5ECF6\",\"gridcolor\":\"white\",\"gridwidth\":2,\"linecolor\":\"white\",\"showbackground\":true,\"ticks\":\"\",\"zerolinecolor\":\"white\"}},\"shapedefaults\":{\"line\":{\"color\":\"#2a3f5f\"}},\"ternary\":{\"aaxis\":{\"gridcolor\":\"white\",\"linecolor\":\"white\",\"ticks\":\"\"},\"baxis\":{\"gridcolor\":\"white\",\"linecolor\":\"white\",\"ticks\":\"\"},\"bgcolor\":\"#E5ECF6\",\"caxis\":{\"gridcolor\":\"white\",\"linecolor\":\"white\",\"ticks\":\"\"}},\"title\":{\"x\":0.05},\"xaxis\":{\"automargin\":true,\"gridcolor\":\"white\",\"linecolor\":\"white\",\"ticks\":\"\",\"title\":{\"standoff\":15},\"zerolinecolor\":\"white\",\"zerolinewidth\":2},\"yaxis\":{\"automargin\":true,\"gridcolor\":\"white\",\"linecolor\":\"white\",\"ticks\":\"\",\"title\":{\"standoff\":15},\"zerolinecolor\":\"white\",\"zerolinewidth\":2}}},\"xaxis\":{\"title\":{\"text\":\"Birth\"},\"side\":\"bottom\",\"type\":\"linear\",\"range\":[-0.22532186508178711,11.491415119171142],\"autorange\":false,\"ticks\":\"outside\",\"showline\":true,\"zeroline\":true,\"linewidth\":1,\"linecolor\":\"black\",\"mirror\":false,\"showexponent\":\"all\",\"exponentformat\":\"e\"},\"yaxis\":{\"title\":{\"text\":\"Death\"},\"side\":\"left\",\"type\":\"linear\",\"range\":[-0.22532186508178711,11.491415119171142],\"autorange\":false,\"scaleanchor\":\"x\",\"scaleratio\":1,\"ticks\":\"outside\",\"showline\":true,\"zeroline\":true,\"linewidth\":1,\"linecolor\":\"black\",\"mirror\":false,\"showexponent\":\"all\",\"exponentformat\":\"e\"},\"width\":500,\"height\":500,\"plot_bgcolor\":\"white\"},                        {\"responsive\": true}                    ).then(function(){\n",
              "                            \n",
              "var gd = document.getElementById('be0c7f30-ef03-4d34-8e08-e8e6bf555083');\n",
              "var x = new MutationObserver(function (mutations, observer) {{\n",
              "        var display = window.getComputedStyle(gd).display;\n",
              "        if (!display || display === 'none') {{\n",
              "            console.log([gd, 'removed!']);\n",
              "            Plotly.purge(gd);\n",
              "            observer.disconnect();\n",
              "        }}\n",
              "}});\n",
              "\n",
              "// Listen for the removal of the full notebook cells\n",
              "var notebookContainer = gd.closest('#notebook-container');\n",
              "if (notebookContainer) {{\n",
              "    x.observe(notebookContainer, {childList: true});\n",
              "}}\n",
              "\n",
              "// Listen for the clearing of the current output cell\n",
              "var outputEl = gd.closest('.output');\n",
              "if (outputEl) {{\n",
              "    x.observe(outputEl, {childList: true});\n",
              "}}\n",
              "\n",
              "                        })                };                            </script>        </div>\n",
              "</body>\n",
              "</html>"
            ]
          },
          "metadata": {}
        },
        {
          "output_type": "execute_result",
          "data": {
            "text/plain": [
              "array([[[0.        , 0.06319976, 0.        ],\n",
              "        [0.        , 0.07646697, 0.        ],\n",
              "        [0.        , 0.07918083, 0.        ],\n",
              "        ...,\n",
              "        [1.03857064, 1.04826188, 1.        ],\n",
              "        [0.93788743, 0.94678551, 1.        ],\n",
              "        [0.        , 0.        , 2.        ]]])"
            ]
          },
          "metadata": {},
          "execution_count": 24
        }
      ]
    },
    {
      "cell_type": "markdown",
      "source": [
        "##REDES NEURONALES"
      ],
      "metadata": {
        "id": "O2PjRCc2kh6T"
      }
    },
    {
      "cell_type": "code",
      "source": [
        "!pip install keras\n",
        "!pip install tensorflow"
      ],
      "metadata": {
        "colab": {
          "base_uri": "https://localhost:8080/"
        },
        "id": "0mdlNvdCUZx-",
        "outputId": "2dceda89-b83e-4296-c28d-196d63aaed9b"
      },
      "execution_count": 25,
      "outputs": [
        {
          "output_type": "stream",
          "name": "stdout",
          "text": [
            "Looking in indexes: https://pypi.org/simple, https://us-python.pkg.dev/colab-wheels/public/simple/\n",
            "Requirement already satisfied: keras in /usr/local/lib/python3.7/dist-packages (2.8.0)\n",
            "Looking in indexes: https://pypi.org/simple, https://us-python.pkg.dev/colab-wheels/public/simple/\n",
            "Requirement already satisfied: tensorflow in /usr/local/lib/python3.7/dist-packages (2.8.2+zzzcolab20220719082949)\n",
            "Requirement already satisfied: google-pasta>=0.1.1 in /usr/local/lib/python3.7/dist-packages (from tensorflow) (0.2.0)\n",
            "Requirement already satisfied: setuptools in /usr/local/lib/python3.7/dist-packages (from tensorflow) (57.4.0)\n",
            "Requirement already satisfied: tensorflow-estimator<2.9,>=2.8 in /usr/local/lib/python3.7/dist-packages (from tensorflow) (2.8.0)\n",
            "Requirement already satisfied: grpcio<2.0,>=1.24.3 in /usr/local/lib/python3.7/dist-packages (from tensorflow) (1.47.0)\n",
            "Requirement already satisfied: gast>=0.2.1 in /usr/local/lib/python3.7/dist-packages (from tensorflow) (0.5.3)\n",
            "Requirement already satisfied: opt-einsum>=2.3.2 in /usr/local/lib/python3.7/dist-packages (from tensorflow) (3.3.0)\n",
            "Requirement already satisfied: absl-py>=0.4.0 in /usr/local/lib/python3.7/dist-packages (from tensorflow) (1.2.0)\n",
            "Requirement already satisfied: astunparse>=1.6.0 in /usr/local/lib/python3.7/dist-packages (from tensorflow) (1.6.3)\n",
            "Requirement already satisfied: six>=1.12.0 in /usr/local/lib/python3.7/dist-packages (from tensorflow) (1.15.0)\n",
            "Requirement already satisfied: termcolor>=1.1.0 in /usr/local/lib/python3.7/dist-packages (from tensorflow) (1.1.0)\n",
            "Requirement already satisfied: libclang>=9.0.1 in /usr/local/lib/python3.7/dist-packages (from tensorflow) (14.0.6)\n",
            "Requirement already satisfied: tensorflow-io-gcs-filesystem>=0.23.1 in /usr/local/lib/python3.7/dist-packages (from tensorflow) (0.26.0)\n",
            "Requirement already satisfied: wrapt>=1.11.0 in /usr/local/lib/python3.7/dist-packages (from tensorflow) (1.14.1)\n",
            "Requirement already satisfied: h5py>=2.9.0 in /usr/local/lib/python3.7/dist-packages (from tensorflow) (3.1.0)\n",
            "Requirement already satisfied: flatbuffers>=1.12 in /usr/local/lib/python3.7/dist-packages (from tensorflow) (2.0.7)\n",
            "Requirement already satisfied: tensorboard<2.9,>=2.8 in /usr/local/lib/python3.7/dist-packages (from tensorflow) (2.8.0)\n",
            "Requirement already satisfied: typing-extensions>=3.6.6 in /usr/local/lib/python3.7/dist-packages (from tensorflow) (4.1.1)\n",
            "Requirement already satisfied: keras-preprocessing>=1.1.1 in /usr/local/lib/python3.7/dist-packages (from tensorflow) (1.1.2)\n",
            "Requirement already satisfied: numpy>=1.20 in /usr/local/lib/python3.7/dist-packages (from tensorflow) (1.21.6)\n",
            "Requirement already satisfied: protobuf<3.20,>=3.9.2 in /usr/local/lib/python3.7/dist-packages (from tensorflow) (3.17.3)\n",
            "Requirement already satisfied: keras<2.9,>=2.8.0rc0 in /usr/local/lib/python3.7/dist-packages (from tensorflow) (2.8.0)\n",
            "Requirement already satisfied: wheel<1.0,>=0.23.0 in /usr/local/lib/python3.7/dist-packages (from astunparse>=1.6.0->tensorflow) (0.37.1)\n",
            "Requirement already satisfied: cached-property in /usr/local/lib/python3.7/dist-packages (from h5py>=2.9.0->tensorflow) (1.5.2)\n",
            "Requirement already satisfied: tensorboard-data-server<0.7.0,>=0.6.0 in /usr/local/lib/python3.7/dist-packages (from tensorboard<2.9,>=2.8->tensorflow) (0.6.1)\n",
            "Requirement already satisfied: markdown>=2.6.8 in /usr/local/lib/python3.7/dist-packages (from tensorboard<2.9,>=2.8->tensorflow) (3.4.1)\n",
            "Requirement already satisfied: google-auth-oauthlib<0.5,>=0.4.1 in /usr/local/lib/python3.7/dist-packages (from tensorboard<2.9,>=2.8->tensorflow) (0.4.6)\n",
            "Requirement already satisfied: tensorboard-plugin-wit>=1.6.0 in /usr/local/lib/python3.7/dist-packages (from tensorboard<2.9,>=2.8->tensorflow) (1.8.1)\n",
            "Requirement already satisfied: requests<3,>=2.21.0 in /usr/local/lib/python3.7/dist-packages (from tensorboard<2.9,>=2.8->tensorflow) (2.23.0)\n",
            "Requirement already satisfied: werkzeug>=0.11.15 in /usr/local/lib/python3.7/dist-packages (from tensorboard<2.9,>=2.8->tensorflow) (1.0.1)\n",
            "Requirement already satisfied: google-auth<3,>=1.6.3 in /usr/local/lib/python3.7/dist-packages (from tensorboard<2.9,>=2.8->tensorflow) (1.35.0)\n",
            "Requirement already satisfied: pyasn1-modules>=0.2.1 in /usr/local/lib/python3.7/dist-packages (from google-auth<3,>=1.6.3->tensorboard<2.9,>=2.8->tensorflow) (0.2.8)\n",
            "Requirement already satisfied: rsa<5,>=3.1.4 in /usr/local/lib/python3.7/dist-packages (from google-auth<3,>=1.6.3->tensorboard<2.9,>=2.8->tensorflow) (4.9)\n",
            "Requirement already satisfied: cachetools<5.0,>=2.0.0 in /usr/local/lib/python3.7/dist-packages (from google-auth<3,>=1.6.3->tensorboard<2.9,>=2.8->tensorflow) (4.2.4)\n",
            "Requirement already satisfied: requests-oauthlib>=0.7.0 in /usr/local/lib/python3.7/dist-packages (from google-auth-oauthlib<0.5,>=0.4.1->tensorboard<2.9,>=2.8->tensorflow) (1.3.1)\n",
            "Requirement already satisfied: importlib-metadata>=4.4 in /usr/local/lib/python3.7/dist-packages (from markdown>=2.6.8->tensorboard<2.9,>=2.8->tensorflow) (4.12.0)\n",
            "Requirement already satisfied: zipp>=0.5 in /usr/local/lib/python3.7/dist-packages (from importlib-metadata>=4.4->markdown>=2.6.8->tensorboard<2.9,>=2.8->tensorflow) (3.8.1)\n",
            "Requirement already satisfied: pyasn1<0.5.0,>=0.4.6 in /usr/local/lib/python3.7/dist-packages (from pyasn1-modules>=0.2.1->google-auth<3,>=1.6.3->tensorboard<2.9,>=2.8->tensorflow) (0.4.8)\n",
            "Requirement already satisfied: certifi>=2017.4.17 in /usr/local/lib/python3.7/dist-packages (from requests<3,>=2.21.0->tensorboard<2.9,>=2.8->tensorflow) (2022.6.15)\n",
            "Requirement already satisfied: chardet<4,>=3.0.2 in /usr/local/lib/python3.7/dist-packages (from requests<3,>=2.21.0->tensorboard<2.9,>=2.8->tensorflow) (3.0.4)\n",
            "Requirement already satisfied: urllib3!=1.25.0,!=1.25.1,<1.26,>=1.21.1 in /usr/local/lib/python3.7/dist-packages (from requests<3,>=2.21.0->tensorboard<2.9,>=2.8->tensorflow) (1.24.3)\n",
            "Requirement already satisfied: idna<3,>=2.5 in /usr/local/lib/python3.7/dist-packages (from requests<3,>=2.21.0->tensorboard<2.9,>=2.8->tensorflow) (2.10)\n",
            "Requirement already satisfied: oauthlib>=3.0.0 in /usr/local/lib/python3.7/dist-packages (from requests-oauthlib>=0.7.0->google-auth-oauthlib<0.5,>=0.4.1->tensorboard<2.9,>=2.8->tensorflow) (3.2.0)\n"
          ]
        }
      ]
    },
    {
      "cell_type": "code",
      "source": [
        "train = df_final[['temperatures','precipitations']]\n",
        "test = df_final['flow']"
      ],
      "metadata": {
        "id": "hqICXwlul6Yf"
      },
      "execution_count": 26,
      "outputs": []
    },
    {
      "cell_type": "code",
      "source": [
        "train = np.asarray(train).astype('float32')"
      ],
      "metadata": {
        "id": "WOnPegchV1_s"
      },
      "execution_count": 27,
      "outputs": []
    },
    {
      "cell_type": "code",
      "source": [
        "test = np.asarray(test).astype('float32')"
      ],
      "metadata": {
        "id": "ZPwdo0tdV5Ov"
      },
      "execution_count": 28,
      "outputs": []
    },
    {
      "cell_type": "code",
      "source": [
        "import statsmodels.api as sm\n",
        "import statsmodels.formula.api as smf\n",
        "import tensorflow\n",
        "tensorflow.random.set_seed(1)\n",
        "from tensorflow.python.keras.layers import Dense\n",
        "from tensorflow.keras.layers import Dropout\n",
        "from tensorflow.python.keras.models import Sequential\n",
        "from tensorflow.python.keras.wrappers.scikit_learn import KerasRegressor\n",
        "from sklearn.metrics import mean_absolute_error\n",
        "from sklearn.metrics import mean_squared_error\n",
        "from sklearn.model_selection import train_test_split\n",
        "from sklearn.preprocessing import MinMaxScaler\n",
        "from tensorflow.keras.optimizers import Adam"
      ],
      "metadata": {
        "id": "55CspvEH6Kfq"
      },
      "execution_count": 29,
      "outputs": []
    },
    {
      "cell_type": "code",
      "source": [
        "#batch_size = 64\n",
        "#epochs = 20\n",
        "#num_classes = 10000"
      ],
      "metadata": {
        "id": "E0jakuqMC-Rf"
      },
      "execution_count": 30,
      "outputs": []
    },
    {
      "cell_type": "code",
      "source": [
        "model = Sequential()\n",
        "model.add(Dense(256, input_dim=2, kernel_initializer='normal', activation='relu'))\n",
        "\n",
        "model.add(Dense(128, activation='relu'))\n",
        "model.add(Dense(128, activation='relu'))\n",
        "model.add(Dense(128, activation='relu'))\n",
        "\n",
        "model.add(Dense(1, activation='linear'))"
      ],
      "metadata": {
        "id": "sqQFRqn_SNem"
      },
      "execution_count": 31,
      "outputs": []
    },
    {
      "cell_type": "code",
      "source": [
        "model.compile(loss='mse', metrics=['mse','mae'],optimizer='adam')"
      ],
      "metadata": {
        "id": "FHR4k-17SbVf"
      },
      "execution_count": 32,
      "outputs": []
    },
    {
      "cell_type": "code",
      "source": [
        "model.summary()"
      ],
      "metadata": {
        "colab": {
          "base_uri": "https://localhost:8080/"
        },
        "id": "0aOjFn07Sdfw",
        "outputId": "8b09407d-d145-47df-8897-6cd8d8fa994d"
      },
      "execution_count": 33,
      "outputs": [
        {
          "output_type": "stream",
          "name": "stdout",
          "text": [
            "Model: \"sequential\"\n",
            "_________________________________________________________________\n",
            "Layer (type)                 Output Shape              Param #   \n",
            "=================================================================\n",
            "dense (Dense)                (None, 256)               768       \n",
            "_________________________________________________________________\n",
            "dense_1 (Dense)              (None, 128)               32896     \n",
            "_________________________________________________________________\n",
            "dense_2 (Dense)              (None, 128)               16512     \n",
            "_________________________________________________________________\n",
            "dense_3 (Dense)              (None, 128)               16512     \n",
            "_________________________________________________________________\n",
            "dense_4 (Dense)              (None, 1)                 129       \n",
            "=================================================================\n",
            "Total params: 66,817\n",
            "Trainable params: 66,817\n",
            "Non-trainable params: 0\n",
            "_________________________________________________________________\n"
          ]
        }
      ]
    },
    {
      "cell_type": "code",
      "source": [
        "history = model.fit(train, test, epochs=20, verbose = 1,batch_size=32)\n",
        "model.evaluate(train, test)"
      ],
      "metadata": {
        "colab": {
          "base_uri": "https://localhost:8080/"
        },
        "id": "K-WVGuDoSnsu",
        "outputId": "ce73ad56-2695-4e2f-9752-f9b29645f7ba"
      },
      "execution_count": 34,
      "outputs": [
        {
          "output_type": "stream",
          "name": "stdout",
          "text": [
            "Epoch 1/20\n",
            "662/662 [==============================] - 4s 5ms/step - loss: 75.5403 - mse: 75.5403 - mae: 5.2107\n",
            "Epoch 2/20\n",
            "662/662 [==============================] - 3s 4ms/step - loss: 69.5774 - mse: 69.5774 - mae: 5.0460\n",
            "Epoch 3/20\n",
            "662/662 [==============================] - 3s 5ms/step - loss: 69.1719 - mse: 69.1719 - mae: 5.0401\n",
            "Epoch 4/20\n",
            "662/662 [==============================] - 4s 5ms/step - loss: 68.8648 - mse: 68.8648 - mae: 5.0244\n",
            "Epoch 5/20\n",
            "662/662 [==============================] - 4s 6ms/step - loss: 68.8078 - mse: 68.8078 - mae: 5.0422\n",
            "Epoch 6/20\n",
            "662/662 [==============================] - 3s 5ms/step - loss: 68.7492 - mse: 68.7492 - mae: 5.0270\n",
            "Epoch 7/20\n",
            "662/662 [==============================] - 5s 7ms/step - loss: 68.5751 - mse: 68.5751 - mae: 5.0279\n",
            "Epoch 8/20\n",
            "662/662 [==============================] - 4s 7ms/step - loss: 68.1988 - mse: 68.1988 - mae: 5.0180\n",
            "Epoch 9/20\n",
            "662/662 [==============================] - 5s 7ms/step - loss: 68.2852 - mse: 68.2852 - mae: 5.0177\n",
            "Epoch 10/20\n",
            "662/662 [==============================] - 5s 7ms/step - loss: 68.4954 - mse: 68.4954 - mae: 5.0225\n",
            "Epoch 11/20\n",
            "662/662 [==============================] - 5s 8ms/step - loss: 68.2457 - mse: 68.2457 - mae: 5.0173\n",
            "Epoch 12/20\n",
            "662/662 [==============================] - 5s 7ms/step - loss: 67.9876 - mse: 67.9876 - mae: 5.0063\n",
            "Epoch 13/20\n",
            "662/662 [==============================] - 5s 7ms/step - loss: 68.3025 - mse: 68.3025 - mae: 5.0086\n",
            "Epoch 14/20\n",
            "662/662 [==============================] - 3s 5ms/step - loss: 68.1554 - mse: 68.1554 - mae: 5.0252\n",
            "Epoch 15/20\n",
            "662/662 [==============================] - 3s 5ms/step - loss: 68.1797 - mse: 68.1797 - mae: 5.0133\n",
            "Epoch 16/20\n",
            "662/662 [==============================] - 3s 5ms/step - loss: 68.0342 - mse: 68.0342 - mae: 5.0088\n",
            "Epoch 17/20\n",
            "662/662 [==============================] - 3s 5ms/step - loss: 68.1226 - mse: 68.1226 - mae: 5.0127\n",
            "Epoch 18/20\n",
            "662/662 [==============================] - 2s 3ms/step - loss: 67.9370 - mse: 67.9370 - mae: 5.0118\n",
            "Epoch 19/20\n",
            "662/662 [==============================] - 2s 2ms/step - loss: 68.0362 - mse: 68.0362 - mae: 5.0088\n",
            "Epoch 20/20\n",
            "662/662 [==============================] - 2s 2ms/step - loss: 67.8585 - mse: 67.8585 - mae: 5.0118\n",
            "662/662 [==============================] - 1s 1ms/step - loss: 67.5515 - mse: 67.5515 - mae: 5.0590\n"
          ]
        },
        {
          "output_type": "execute_result",
          "data": {
            "text/plain": [
              "[67.55148315429688, 67.55148315429688, 5.058999538421631]"
            ]
          },
          "metadata": {},
          "execution_count": 34
        }
      ]
    },
    {
      "cell_type": "code",
      "source": [
        "model = Sequential()\n",
        "model.add(Dense(128, input_dim=2, kernel_initializer='normal', activation='relu'))\n",
        "\n",
        "model.add(Dense(256, activation='relu'))\n",
        "model.add(Dense(256, activation='relu'))\n",
        "model.add(Dense(256, activation='relu'))\n",
        "\n",
        "model.add(Dense(1, activation='linear'))\n",
        "\n",
        "model.compile(loss='mse', metrics=['mse','mae'],optimizer='adam')\n",
        "model.summary()"
      ],
      "metadata": {
        "id": "BjRqQRUwEn2U",
        "colab": {
          "base_uri": "https://localhost:8080/"
        },
        "outputId": "2cf7bd73-ba31-4efb-9e23-8d112207f81e"
      },
      "execution_count": 35,
      "outputs": [
        {
          "output_type": "stream",
          "name": "stdout",
          "text": [
            "Model: \"sequential_1\"\n",
            "_________________________________________________________________\n",
            "Layer (type)                 Output Shape              Param #   \n",
            "=================================================================\n",
            "dense_5 (Dense)              (None, 128)               384       \n",
            "_________________________________________________________________\n",
            "dense_6 (Dense)              (None, 256)               33024     \n",
            "_________________________________________________________________\n",
            "dense_7 (Dense)              (None, 256)               65792     \n",
            "_________________________________________________________________\n",
            "dense_8 (Dense)              (None, 256)               65792     \n",
            "_________________________________________________________________\n",
            "dense_9 (Dense)              (None, 1)                 257       \n",
            "=================================================================\n",
            "Total params: 165,249\n",
            "Trainable params: 165,249\n",
            "Non-trainable params: 0\n",
            "_________________________________________________________________\n"
          ]
        }
      ]
    },
    {
      "cell_type": "code",
      "source": [
        "history = model.fit(train, test, epochs=20, verbose = 1,batch_size=32)\n",
        "model.evaluate(train, test)"
      ],
      "metadata": {
        "colab": {
          "base_uri": "https://localhost:8080/"
        },
        "id": "DluPrS4g6N_e",
        "outputId": "feed217a-3f8c-487b-c843-3e4de5da14e0"
      },
      "execution_count": 36,
      "outputs": [
        {
          "output_type": "stream",
          "name": "stdout",
          "text": [
            "Epoch 1/20\n",
            "662/662 [==============================] - 3s 3ms/step - loss: 74.6568 - mse: 74.6568 - mae: 5.1830\n",
            "Epoch 2/20\n",
            "662/662 [==============================] - 2s 3ms/step - loss: 69.4680 - mse: 69.4680 - mae: 5.0482\n",
            "Epoch 3/20\n",
            "662/662 [==============================] - 2s 3ms/step - loss: 68.9538 - mse: 68.9538 - mae: 5.0381\n",
            "Epoch 4/20\n",
            "662/662 [==============================] - 2s 3ms/step - loss: 68.8055 - mse: 68.8055 - mae: 5.0285\n",
            "Epoch 5/20\n",
            "662/662 [==============================] - 2s 3ms/step - loss: 68.7980 - mse: 68.7980 - mae: 5.0438\n",
            "Epoch 6/20\n",
            "662/662 [==============================] - 2s 3ms/step - loss: 68.7044 - mse: 68.7044 - mae: 5.0276\n",
            "Epoch 7/20\n",
            "662/662 [==============================] - 2s 3ms/step - loss: 68.6989 - mse: 68.6989 - mae: 5.0332\n",
            "Epoch 8/20\n",
            "662/662 [==============================] - 2s 3ms/step - loss: 68.2105 - mse: 68.2105 - mae: 5.0181\n",
            "Epoch 9/20\n",
            "662/662 [==============================] - 2s 3ms/step - loss: 68.1498 - mse: 68.1498 - mae: 5.0139\n",
            "Epoch 10/20\n",
            "662/662 [==============================] - 2s 3ms/step - loss: 68.4692 - mse: 68.4692 - mae: 5.0226\n",
            "Epoch 11/20\n",
            "662/662 [==============================] - 2s 3ms/step - loss: 68.1227 - mse: 68.1227 - mae: 5.0147\n",
            "Epoch 12/20\n",
            "662/662 [==============================] - 2s 3ms/step - loss: 67.8964 - mse: 67.8964 - mae: 5.0041\n",
            "Epoch 13/20\n",
            "662/662 [==============================] - 2s 3ms/step - loss: 68.1873 - mse: 68.1873 - mae: 5.0086\n",
            "Epoch 14/20\n",
            "662/662 [==============================] - 2s 3ms/step - loss: 68.0707 - mse: 68.0707 - mae: 5.0244\n",
            "Epoch 15/20\n",
            "662/662 [==============================] - 2s 3ms/step - loss: 68.0130 - mse: 68.0130 - mae: 5.0096\n",
            "Epoch 16/20\n",
            "662/662 [==============================] - 2s 3ms/step - loss: 68.0197 - mse: 68.0197 - mae: 5.0094\n",
            "Epoch 17/20\n",
            "662/662 [==============================] - 2s 3ms/step - loss: 68.0416 - mse: 68.0416 - mae: 5.0128\n",
            "Epoch 18/20\n",
            "662/662 [==============================] - 2s 3ms/step - loss: 67.9598 - mse: 67.9598 - mae: 5.0110\n",
            "Epoch 19/20\n",
            "662/662 [==============================] - 2s 4ms/step - loss: 67.9936 - mse: 67.9936 - mae: 5.0065\n",
            "Epoch 20/20\n",
            "662/662 [==============================] - 2s 4ms/step - loss: 67.9664 - mse: 67.9664 - mae: 5.0139\n",
            "662/662 [==============================] - 1s 2ms/step - loss: 67.5476 - mse: 67.5476 - mae: 5.0802\n"
          ]
        },
        {
          "output_type": "execute_result",
          "data": {
            "text/plain": [
              "[67.54756927490234, 67.54756927490234, 5.08021879196167]"
            ]
          },
          "metadata": {},
          "execution_count": 36
        }
      ]
    },
    {
      "cell_type": "code",
      "source": [
        "model = Sequential()\n",
        "model.add(Dense(128, input_dim=2, kernel_initializer='normal', activation='gelu'))\n",
        "\n",
        "model.add(Dense(256, activation='gelu'))\n",
        "model.add(Dense(256, activation='gelu'))\n",
        "model.add(Dense(256, activation='gelu'))\n",
        "\n",
        "model.add(Dense(1, activation='linear'))\n",
        "\n",
        "model.compile(loss='mse', metrics=['mse','mae'],optimizer='adam')\n",
        "model.summary()"
      ],
      "metadata": {
        "colab": {
          "base_uri": "https://localhost:8080/"
        },
        "id": "WbCReQIL6u4u",
        "outputId": "3e9977c0-ced7-49f4-f9d5-ac8668e1f9f5"
      },
      "execution_count": 37,
      "outputs": [
        {
          "output_type": "stream",
          "name": "stdout",
          "text": [
            "Model: \"sequential_2\"\n",
            "_________________________________________________________________\n",
            "Layer (type)                 Output Shape              Param #   \n",
            "=================================================================\n",
            "dense_10 (Dense)             (None, 128)               384       \n",
            "_________________________________________________________________\n",
            "dense_11 (Dense)             (None, 256)               33024     \n",
            "_________________________________________________________________\n",
            "dense_12 (Dense)             (None, 256)               65792     \n",
            "_________________________________________________________________\n",
            "dense_13 (Dense)             (None, 256)               65792     \n",
            "_________________________________________________________________\n",
            "dense_14 (Dense)             (None, 1)                 257       \n",
            "=================================================================\n",
            "Total params: 165,249\n",
            "Trainable params: 165,249\n",
            "Non-trainable params: 0\n",
            "_________________________________________________________________\n"
          ]
        }
      ]
    },
    {
      "cell_type": "code",
      "source": [
        "history = model.fit(train, test, epochs=20, verbose = 1,batch_size=64)\n",
        "model.evaluate(train, test)"
      ],
      "metadata": {
        "colab": {
          "base_uri": "https://localhost:8080/"
        },
        "id": "tdvu-UGz7yPg",
        "outputId": "43953ede-fa11-45d0-e8a7-7926a578a4ac"
      },
      "execution_count": 38,
      "outputs": [
        {
          "output_type": "stream",
          "name": "stdout",
          "text": [
            "Epoch 1/20\n",
            "331/331 [==============================] - 3s 6ms/step - loss: 71.8942 - mse: 71.8942 - mae: 5.1530\n",
            "Epoch 2/20\n",
            "331/331 [==============================] - 3s 9ms/step - loss: 68.7881 - mse: 68.7881 - mae: 5.0354\n",
            "Epoch 3/20\n",
            "331/331 [==============================] - 2s 6ms/step - loss: 68.4117 - mse: 68.4117 - mae: 5.0359\n",
            "Epoch 4/20\n",
            "331/331 [==============================] - 2s 6ms/step - loss: 68.6945 - mse: 68.6945 - mae: 5.0242\n",
            "Epoch 5/20\n",
            "331/331 [==============================] - 3s 9ms/step - loss: 68.3437 - mse: 68.3437 - mae: 5.0380\n",
            "Epoch 6/20\n",
            "331/331 [==============================] - 3s 9ms/step - loss: 68.3482 - mse: 68.3482 - mae: 5.0216\n",
            "Epoch 7/20\n",
            "331/331 [==============================] - 2s 6ms/step - loss: 68.6705 - mse: 68.6705 - mae: 5.0326\n",
            "Epoch 8/20\n",
            "331/331 [==============================] - 2s 6ms/step - loss: 68.1888 - mse: 68.1888 - mae: 5.0194\n",
            "Epoch 9/20\n",
            "331/331 [==============================] - 2s 5ms/step - loss: 68.0233 - mse: 68.0233 - mae: 5.0137\n",
            "Epoch 10/20\n",
            "331/331 [==============================] - 2s 6ms/step - loss: 68.1868 - mse: 68.1868 - mae: 5.0274\n",
            "Epoch 11/20\n",
            "331/331 [==============================] - 2s 6ms/step - loss: 67.9417 - mse: 67.9417 - mae: 5.0073\n",
            "Epoch 12/20\n",
            "331/331 [==============================] - 2s 6ms/step - loss: 67.8383 - mse: 67.8383 - mae: 5.0071\n",
            "Epoch 13/20\n",
            "331/331 [==============================] - 2s 8ms/step - loss: 68.0529 - mse: 68.0529 - mae: 5.0103\n",
            "Epoch 14/20\n",
            "331/331 [==============================] - 3s 8ms/step - loss: 67.9621 - mse: 67.9621 - mae: 5.0176\n",
            "Epoch 15/20\n",
            "331/331 [==============================] - 2s 6ms/step - loss: 67.8997 - mse: 67.8997 - mae: 5.0091\n",
            "Epoch 16/20\n",
            "331/331 [==============================] - 2s 6ms/step - loss: 67.8326 - mse: 67.8326 - mae: 5.0017\n",
            "Epoch 17/20\n",
            "331/331 [==============================] - 2s 6ms/step - loss: 67.8294 - mse: 67.8294 - mae: 5.0133\n",
            "Epoch 18/20\n",
            "331/331 [==============================] - 2s 6ms/step - loss: 67.9412 - mse: 67.9412 - mae: 5.0104\n",
            "Epoch 19/20\n",
            "331/331 [==============================] - 2s 6ms/step - loss: 67.8255 - mse: 67.8255 - mae: 5.0031\n",
            "Epoch 20/20\n",
            "331/331 [==============================] - 2s 6ms/step - loss: 67.8326 - mse: 67.8326 - mae: 5.0079\n",
            "662/662 [==============================] - 1s 2ms/step - loss: 67.6080 - mse: 67.6080 - mae: 5.1210\n"
          ]
        },
        {
          "output_type": "execute_result",
          "data": {
            "text/plain": [
              "[67.60795593261719, 67.60795593261719, 5.121006488800049]"
            ]
          },
          "metadata": {},
          "execution_count": 38
        }
      ]
    },
    {
      "cell_type": "code",
      "source": [
        "history = model.fit(train, test, epochs=50, verbose = 1,batch_size=32)\n",
        "model.evaluate(train, test)"
      ],
      "metadata": {
        "colab": {
          "base_uri": "https://localhost:8080/"
        },
        "id": "F3y7nCxl8KLL",
        "outputId": "7f7c6a20-6b0b-4ebb-bea4-9ea585de65ce"
      },
      "execution_count": 39,
      "outputs": [
        {
          "output_type": "stream",
          "name": "stdout",
          "text": [
            "Epoch 1/50\n",
            "662/662 [==============================] - 3s 5ms/step - loss: 68.3581 - mse: 68.3581 - mae: 5.0267\n",
            "Epoch 2/50\n",
            "662/662 [==============================] - 3s 4ms/step - loss: 68.1165 - mse: 68.1165 - mae: 5.0151\n",
            "Epoch 3/50\n",
            "662/662 [==============================] - 3s 4ms/step - loss: 67.9791 - mse: 67.9791 - mae: 5.0167\n",
            "Epoch 4/50\n",
            "662/662 [==============================] - 3s 4ms/step - loss: 68.0800 - mse: 68.0800 - mae: 5.0081\n",
            "Epoch 5/50\n",
            "662/662 [==============================] - 3s 4ms/step - loss: 67.9353 - mse: 67.9353 - mae: 5.0218\n",
            "Epoch 6/50\n",
            "662/662 [==============================] - 3s 4ms/step - loss: 67.9875 - mse: 67.9875 - mae: 5.0098\n",
            "Epoch 7/50\n",
            "662/662 [==============================] - 3s 4ms/step - loss: 68.6128 - mse: 68.6128 - mae: 5.0169\n",
            "Epoch 8/50\n",
            "662/662 [==============================] - 3s 4ms/step - loss: 68.0782 - mse: 68.0782 - mae: 5.0188\n",
            "Epoch 9/50\n",
            "662/662 [==============================] - 3s 4ms/step - loss: 67.8356 - mse: 67.8356 - mae: 5.0120\n",
            "Epoch 10/50\n",
            "662/662 [==============================] - 3s 4ms/step - loss: 67.9803 - mse: 67.9803 - mae: 5.0201\n",
            "Epoch 11/50\n",
            "662/662 [==============================] - 3s 5ms/step - loss: 67.7607 - mse: 67.7607 - mae: 5.0079\n",
            "Epoch 12/50\n",
            "662/662 [==============================] - 3s 5ms/step - loss: 67.7317 - mse: 67.7317 - mae: 5.0013\n",
            "Epoch 13/50\n",
            "662/662 [==============================] - 3s 5ms/step - loss: 67.8836 - mse: 67.8836 - mae: 5.0049\n",
            "Epoch 14/50\n",
            "662/662 [==============================] - 3s 5ms/step - loss: 67.8447 - mse: 67.8447 - mae: 5.0170\n",
            "Epoch 15/50\n",
            "662/662 [==============================] - 3s 4ms/step - loss: 67.7338 - mse: 67.7338 - mae: 5.0036\n",
            "Epoch 16/50\n",
            "662/662 [==============================] - 3s 4ms/step - loss: 67.7752 - mse: 67.7752 - mae: 5.0027\n",
            "Epoch 17/50\n",
            "662/662 [==============================] - 3s 4ms/step - loss: 67.7972 - mse: 67.7972 - mae: 5.0139\n",
            "Epoch 18/50\n",
            "662/662 [==============================] - 3s 4ms/step - loss: 67.7984 - mse: 67.7984 - mae: 5.0087\n",
            "Epoch 19/50\n",
            "662/662 [==============================] - 3s 4ms/step - loss: 67.7321 - mse: 67.7321 - mae: 5.0015\n",
            "Epoch 20/50\n",
            "662/662 [==============================] - 3s 4ms/step - loss: 67.6903 - mse: 67.6903 - mae: 5.0066\n",
            "Epoch 21/50\n",
            "662/662 [==============================] - 3s 4ms/step - loss: 67.7380 - mse: 67.7380 - mae: 5.0063\n",
            "Epoch 22/50\n",
            "662/662 [==============================] - 3s 4ms/step - loss: 67.7082 - mse: 67.7082 - mae: 5.0045\n",
            "Epoch 23/50\n",
            "662/662 [==============================] - 4s 6ms/step - loss: 67.8325 - mse: 67.8325 - mae: 5.0076\n",
            "Epoch 24/50\n",
            "662/662 [==============================] - 3s 4ms/step - loss: 67.6566 - mse: 67.6566 - mae: 5.0131\n",
            "Epoch 25/50\n",
            "662/662 [==============================] - 3s 4ms/step - loss: 67.8757 - mse: 67.8757 - mae: 5.0032\n",
            "Epoch 26/50\n",
            "662/662 [==============================] - 4s 6ms/step - loss: 67.6879 - mse: 67.6879 - mae: 4.9967\n",
            "Epoch 27/50\n",
            "662/662 [==============================] - 3s 4ms/step - loss: 67.7615 - mse: 67.7615 - mae: 5.0162\n",
            "Epoch 28/50\n",
            "662/662 [==============================] - 3s 4ms/step - loss: 67.6546 - mse: 67.6546 - mae: 5.0062\n",
            "Epoch 29/50\n",
            "662/662 [==============================] - 3s 4ms/step - loss: 67.7278 - mse: 67.7278 - mae: 5.0012\n",
            "Epoch 30/50\n",
            "662/662 [==============================] - 3s 4ms/step - loss: 67.5795 - mse: 67.5795 - mae: 5.0048\n",
            "Epoch 31/50\n",
            "662/662 [==============================] - 3s 4ms/step - loss: 67.8216 - mse: 67.8216 - mae: 5.0050\n",
            "Epoch 32/50\n",
            "662/662 [==============================] - 3s 4ms/step - loss: 67.7259 - mse: 67.7259 - mae: 5.0037\n",
            "Epoch 33/50\n",
            "662/662 [==============================] - 3s 4ms/step - loss: 67.5617 - mse: 67.5617 - mae: 5.0009\n",
            "Epoch 34/50\n",
            "662/662 [==============================] - 4s 6ms/step - loss: 67.6823 - mse: 67.6823 - mae: 5.0073\n",
            "Epoch 35/50\n",
            "662/662 [==============================] - 3s 4ms/step - loss: 67.6896 - mse: 67.6896 - mae: 5.0054\n",
            "Epoch 36/50\n",
            "662/662 [==============================] - 3s 4ms/step - loss: 67.6256 - mse: 67.6256 - mae: 5.0060\n",
            "Epoch 37/50\n",
            "662/662 [==============================] - 3s 4ms/step - loss: 67.4876 - mse: 67.4876 - mae: 4.9974\n",
            "Epoch 38/50\n",
            "662/662 [==============================] - 3s 4ms/step - loss: 67.6841 - mse: 67.6841 - mae: 5.0058\n",
            "Epoch 39/50\n",
            "662/662 [==============================] - 3s 4ms/step - loss: 67.6758 - mse: 67.6758 - mae: 4.9943\n",
            "Epoch 40/50\n",
            "662/662 [==============================] - 3s 4ms/step - loss: 67.6776 - mse: 67.6776 - mae: 5.0076\n",
            "Epoch 41/50\n",
            "662/662 [==============================] - 3s 4ms/step - loss: 67.5382 - mse: 67.5382 - mae: 4.9992\n",
            "Epoch 42/50\n",
            "662/662 [==============================] - 3s 4ms/step - loss: 67.5991 - mse: 67.5991 - mae: 5.0082\n",
            "Epoch 43/50\n",
            "662/662 [==============================] - 3s 4ms/step - loss: 67.5645 - mse: 67.5645 - mae: 5.0000\n",
            "Epoch 44/50\n",
            "662/662 [==============================] - 3s 4ms/step - loss: 67.4929 - mse: 67.4929 - mae: 5.0003\n",
            "Epoch 45/50\n",
            "662/662 [==============================] - 3s 4ms/step - loss: 67.5924 - mse: 67.5924 - mae: 5.0045\n",
            "Epoch 46/50\n",
            "662/662 [==============================] - 3s 4ms/step - loss: 67.5128 - mse: 67.5128 - mae: 4.9962\n",
            "Epoch 47/50\n",
            "662/662 [==============================] - 3s 4ms/step - loss: 67.6562 - mse: 67.6562 - mae: 5.0018\n",
            "Epoch 48/50\n",
            "662/662 [==============================] - 3s 4ms/step - loss: 67.7788 - mse: 67.7788 - mae: 4.9996\n",
            "Epoch 49/50\n",
            "662/662 [==============================] - 3s 4ms/step - loss: 67.5271 - mse: 67.5271 - mae: 4.9944\n",
            "Epoch 50/50\n",
            "662/662 [==============================] - 3s 4ms/step - loss: 67.5254 - mse: 67.5254 - mae: 5.0033\n",
            "662/662 [==============================] - 1s 2ms/step - loss: 67.1907 - mse: 67.1907 - mae: 5.1040\n"
          ]
        },
        {
          "output_type": "execute_result",
          "data": {
            "text/plain": [
              "[67.19071960449219, 67.19071960449219, 5.10397481918335]"
            ]
          },
          "metadata": {},
          "execution_count": 39
        }
      ]
    },
    {
      "cell_type": "code",
      "source": [
        "model = Sequential()\n",
        "model.add(Dense(64, input_dim=2, kernel_initializer='normal', activation='gelu'))\n",
        "\n",
        "model.add(Dense(32, activation='gelu'))\n",
        "model.add(Dense(32, activation='gelu'))\n",
        "model.add(Dense(32, activation='gelu'))\n",
        "\n",
        "model.add(Dense(1, activation='linear'))\n",
        "\n",
        "model.compile(loss='mse', metrics=['mse','mae'],optimizer='adam')\n",
        "model.summary()"
      ],
      "metadata": {
        "colab": {
          "base_uri": "https://localhost:8080/"
        },
        "id": "o_kENkdE8W3V",
        "outputId": "6da5b43c-06bb-413c-d172-fafb8f0c2520"
      },
      "execution_count": 40,
      "outputs": [
        {
          "output_type": "stream",
          "name": "stdout",
          "text": [
            "Model: \"sequential_3\"\n",
            "_________________________________________________________________\n",
            "Layer (type)                 Output Shape              Param #   \n",
            "=================================================================\n",
            "dense_15 (Dense)             (None, 64)                192       \n",
            "_________________________________________________________________\n",
            "dense_16 (Dense)             (None, 32)                2080      \n",
            "_________________________________________________________________\n",
            "dense_17 (Dense)             (None, 32)                1056      \n",
            "_________________________________________________________________\n",
            "dense_18 (Dense)             (None, 32)                1056      \n",
            "_________________________________________________________________\n",
            "dense_19 (Dense)             (None, 1)                 33        \n",
            "=================================================================\n",
            "Total params: 4,417\n",
            "Trainable params: 4,417\n",
            "Non-trainable params: 0\n",
            "_________________________________________________________________\n"
          ]
        }
      ]
    },
    {
      "cell_type": "code",
      "source": [
        "history = model.fit(train, test, epochs=20, verbose = 1,batch_size=32)\n",
        "model.evaluate(train, test)"
      ],
      "metadata": {
        "colab": {
          "base_uri": "https://localhost:8080/"
        },
        "id": "5enHJFsW9REy",
        "outputId": "985fb300-cda1-4223-9f74-13643a8c55e2"
      },
      "execution_count": 41,
      "outputs": [
        {
          "output_type": "stream",
          "name": "stdout",
          "text": [
            "Epoch 1/20\n",
            "662/662 [==============================] - 2s 2ms/step - loss: 74.8612 - mse: 74.8612 - mae: 5.1748\n",
            "Epoch 2/20\n",
            "662/662 [==============================] - 1s 2ms/step - loss: 68.6152 - mse: 68.6152 - mae: 5.0270\n",
            "Epoch 3/20\n",
            "662/662 [==============================] - 1s 2ms/step - loss: 68.2943 - mse: 68.2943 - mae: 5.0284\n",
            "Epoch 4/20\n",
            "662/662 [==============================] - 1s 2ms/step - loss: 68.3673 - mse: 68.3673 - mae: 5.0161\n",
            "Epoch 5/20\n",
            "662/662 [==============================] - 1s 2ms/step - loss: 68.2486 - mse: 68.2486 - mae: 5.0345\n",
            "Epoch 6/20\n",
            "662/662 [==============================] - 1s 2ms/step - loss: 68.2199 - mse: 68.2199 - mae: 5.0178\n",
            "Epoch 7/20\n",
            "662/662 [==============================] - 1s 2ms/step - loss: 68.2349 - mse: 68.2349 - mae: 5.0171\n",
            "Epoch 8/20\n",
            "662/662 [==============================] - 1s 2ms/step - loss: 68.0772 - mse: 68.0772 - mae: 5.0195\n",
            "Epoch 9/20\n",
            "662/662 [==============================] - 1s 2ms/step - loss: 67.9779 - mse: 67.9779 - mae: 5.0138\n",
            "Epoch 10/20\n",
            "662/662 [==============================] - 1s 2ms/step - loss: 68.1255 - mse: 68.1255 - mae: 5.0202\n",
            "Epoch 11/20\n",
            "662/662 [==============================] - 1s 2ms/step - loss: 67.9899 - mse: 67.9899 - mae: 5.0118\n",
            "Epoch 12/20\n",
            "662/662 [==============================] - 1s 2ms/step - loss: 67.8070 - mse: 67.8070 - mae: 5.0057\n",
            "Epoch 13/20\n",
            "662/662 [==============================] - 1s 2ms/step - loss: 68.0239 - mse: 68.0239 - mae: 5.0072\n",
            "Epoch 14/20\n",
            "662/662 [==============================] - 1s 2ms/step - loss: 67.9533 - mse: 67.9533 - mae: 5.0203\n",
            "Epoch 15/20\n",
            "662/662 [==============================] - 2s 4ms/step - loss: 67.8515 - mse: 67.8515 - mae: 5.0062\n",
            "Epoch 16/20\n",
            "662/662 [==============================] - 3s 4ms/step - loss: 67.7916 - mse: 67.7916 - mae: 5.0012\n",
            "Epoch 17/20\n",
            "662/662 [==============================] - 1s 2ms/step - loss: 67.8556 - mse: 67.8556 - mae: 5.0111\n",
            "Epoch 18/20\n",
            "662/662 [==============================] - 1s 2ms/step - loss: 67.8527 - mse: 67.8527 - mae: 5.0057\n",
            "Epoch 19/20\n",
            "662/662 [==============================] - 1s 2ms/step - loss: 67.7809 - mse: 67.7809 - mae: 5.0024\n",
            "Epoch 20/20\n",
            "662/662 [==============================] - 1s 2ms/step - loss: 67.7413 - mse: 67.7413 - mae: 5.0059\n",
            "662/662 [==============================] - 1s 1ms/step - loss: 67.4570 - mse: 67.4570 - mae: 5.0778\n"
          ]
        },
        {
          "output_type": "execute_result",
          "data": {
            "text/plain": [
              "[67.45701599121094, 67.45701599121094, 5.077849388122559]"
            ]
          },
          "metadata": {},
          "execution_count": 41
        }
      ]
    },
    {
      "cell_type": "code",
      "source": [
        "model = Sequential()\n",
        "model.add(Dense(8, input_dim=2, kernel_initializer='normal', activation='gelu'))\n",
        "\n",
        "model.add(Dense(32, activation='gelu'))\n",
        "model.add(Dense(64, activation='gelu'))\n",
        "model.add(Dense(32, activation='gelu'))\n",
        "\n",
        "model.add(Dense(1, activation='linear'))\n",
        "\n",
        "model.compile(loss='mse', metrics=['mse','mae'],optimizer='adam')\n",
        "model.summary()"
      ],
      "metadata": {
        "colab": {
          "base_uri": "https://localhost:8080/"
        },
        "id": "smH0lXoW9Tj8",
        "outputId": "af81648b-632d-48e3-bd93-003d51e58d07"
      },
      "execution_count": 42,
      "outputs": [
        {
          "output_type": "stream",
          "name": "stdout",
          "text": [
            "Model: \"sequential_4\"\n",
            "_________________________________________________________________\n",
            "Layer (type)                 Output Shape              Param #   \n",
            "=================================================================\n",
            "dense_20 (Dense)             (None, 8)                 24        \n",
            "_________________________________________________________________\n",
            "dense_21 (Dense)             (None, 32)                288       \n",
            "_________________________________________________________________\n",
            "dense_22 (Dense)             (None, 64)                2112      \n",
            "_________________________________________________________________\n",
            "dense_23 (Dense)             (None, 32)                2080      \n",
            "_________________________________________________________________\n",
            "dense_24 (Dense)             (None, 1)                 33        \n",
            "=================================================================\n",
            "Total params: 4,537\n",
            "Trainable params: 4,537\n",
            "Non-trainable params: 0\n",
            "_________________________________________________________________\n"
          ]
        }
      ]
    },
    {
      "cell_type": "code",
      "source": [
        "history = model.fit(train, test, epochs=20, verbose = 1,batch_size=32)\n",
        "model.evaluate(train, test)"
      ],
      "metadata": {
        "colab": {
          "base_uri": "https://localhost:8080/"
        },
        "id": "Th0T-b759hYr",
        "outputId": "698bff5f-34d5-43b9-e586-e568bcafbe50"
      },
      "execution_count": 43,
      "outputs": [
        {
          "output_type": "stream",
          "name": "stdout",
          "text": [
            "Epoch 1/20\n",
            "662/662 [==============================] - 2s 2ms/step - loss: 75.0893 - mse: 75.0893 - mae: 5.2182\n",
            "Epoch 2/20\n",
            "662/662 [==============================] - 1s 2ms/step - loss: 68.5454 - mse: 68.5454 - mae: 5.0333\n",
            "Epoch 3/20\n",
            "662/662 [==============================] - 1s 2ms/step - loss: 68.2534 - mse: 68.2534 - mae: 5.0314\n",
            "Epoch 4/20\n",
            "662/662 [==============================] - 1s 2ms/step - loss: 68.3498 - mse: 68.3498 - mae: 5.0173\n",
            "Epoch 5/20\n",
            "662/662 [==============================] - 1s 2ms/step - loss: 68.2229 - mse: 68.2229 - mae: 5.0322\n",
            "Epoch 6/20\n",
            "662/662 [==============================] - 1s 2ms/step - loss: 68.1900 - mse: 68.1900 - mae: 5.0186\n",
            "Epoch 7/20\n",
            "662/662 [==============================] - 1s 2ms/step - loss: 68.1902 - mse: 68.1902 - mae: 5.0177\n",
            "Epoch 8/20\n",
            "662/662 [==============================] - 1s 2ms/step - loss: 68.0532 - mse: 68.0532 - mae: 5.0185\n",
            "Epoch 9/20\n",
            "662/662 [==============================] - 1s 2ms/step - loss: 67.9457 - mse: 67.9457 - mae: 5.0115\n",
            "Epoch 10/20\n",
            "662/662 [==============================] - 1s 2ms/step - loss: 68.0864 - mse: 68.0864 - mae: 5.0222\n",
            "Epoch 11/20\n",
            "662/662 [==============================] - 1s 2ms/step - loss: 67.9863 - mse: 67.9863 - mae: 5.0110\n",
            "Epoch 12/20\n",
            "662/662 [==============================] - 1s 2ms/step - loss: 67.8194 - mse: 67.8194 - mae: 5.0040\n",
            "Epoch 13/20\n",
            "662/662 [==============================] - 1s 2ms/step - loss: 68.0401 - mse: 68.0401 - mae: 5.0093\n",
            "Epoch 14/20\n",
            "662/662 [==============================] - 1s 2ms/step - loss: 67.9759 - mse: 67.9759 - mae: 5.0218\n",
            "Epoch 15/20\n",
            "662/662 [==============================] - 1s 2ms/step - loss: 67.9078 - mse: 67.9078 - mae: 5.0077\n",
            "Epoch 16/20\n",
            "662/662 [==============================] - 1s 2ms/step - loss: 67.8638 - mse: 67.8638 - mae: 5.0057\n",
            "Epoch 17/20\n",
            "662/662 [==============================] - 1s 2ms/step - loss: 67.9450 - mse: 67.9450 - mae: 5.0130\n",
            "Epoch 18/20\n",
            "662/662 [==============================] - 1s 2ms/step - loss: 67.9172 - mse: 67.9172 - mae: 5.0074\n",
            "Epoch 19/20\n",
            "662/662 [==============================] - 1s 2ms/step - loss: 67.9051 - mse: 67.9051 - mae: 5.0087\n",
            "Epoch 20/20\n",
            "662/662 [==============================] - 1s 2ms/step - loss: 67.8502 - mse: 67.8502 - mae: 5.0107\n",
            "662/662 [==============================] - 1s 1ms/step - loss: 67.7033 - mse: 67.7033 - mae: 5.0775\n"
          ]
        },
        {
          "output_type": "execute_result",
          "data": {
            "text/plain": [
              "[67.70325469970703, 67.70325469970703, 5.0775299072265625]"
            ]
          },
          "metadata": {},
          "execution_count": 43
        }
      ]
    },
    {
      "cell_type": "code",
      "source": [
        "model = Sequential()\n",
        "model.add(Dense(512, input_dim=2, kernel_initializer='normal', activation='gelu'))\n",
        "\n",
        "model.add(Dense(256, activation='gelu'))\n",
        "model.add(Dense(128, activation='gelu'))\n",
        "model.add(Dense(64, activation='gelu'))\n",
        "\n",
        "model.add(Dense(1, activation='linear'))\n",
        "\n",
        "model.compile(loss='mse', metrics=['mse','mae'],optimizer='adam')\n",
        "model.summary()"
      ],
      "metadata": {
        "colab": {
          "base_uri": "https://localhost:8080/"
        },
        "id": "KFN7Rcgi9ixB",
        "outputId": "32c6e83b-d890-4eae-ad1d-c4b50e738a78"
      },
      "execution_count": 44,
      "outputs": [
        {
          "output_type": "stream",
          "name": "stdout",
          "text": [
            "Model: \"sequential_5\"\n",
            "_________________________________________________________________\n",
            "Layer (type)                 Output Shape              Param #   \n",
            "=================================================================\n",
            "dense_25 (Dense)             (None, 512)               1536      \n",
            "_________________________________________________________________\n",
            "dense_26 (Dense)             (None, 256)               131328    \n",
            "_________________________________________________________________\n",
            "dense_27 (Dense)             (None, 128)               32896     \n",
            "_________________________________________________________________\n",
            "dense_28 (Dense)             (None, 64)                8256      \n",
            "_________________________________________________________________\n",
            "dense_29 (Dense)             (None, 1)                 65        \n",
            "=================================================================\n",
            "Total params: 174,081\n",
            "Trainable params: 174,081\n",
            "Non-trainable params: 0\n",
            "_________________________________________________________________\n"
          ]
        }
      ]
    },
    {
      "cell_type": "code",
      "source": [
        "history = model.fit(train, test, epochs=20, verbose = 1,batch_size=32)\n",
        "model.evaluate(train, test)"
      ],
      "metadata": {
        "colab": {
          "base_uri": "https://localhost:8080/"
        },
        "id": "5QoXtAmI9zME",
        "outputId": "6e66dd00-0bae-4537-aa1b-fa4f9dae1ca6"
      },
      "execution_count": 45,
      "outputs": [
        {
          "output_type": "stream",
          "name": "stdout",
          "text": [
            "Epoch 1/20\n",
            "662/662 [==============================] - 4s 5ms/step - loss: 71.0160 - mse: 71.0160 - mae: 5.0936\n",
            "Epoch 2/20\n",
            "662/662 [==============================] - 3s 5ms/step - loss: 69.1020 - mse: 69.1020 - mae: 5.0500\n",
            "Epoch 3/20\n",
            "662/662 [==============================] - 3s 5ms/step - loss: 68.6584 - mse: 68.6584 - mae: 5.0341\n",
            "Epoch 4/20\n",
            "662/662 [==============================] - 3s 5ms/step - loss: 68.6154 - mse: 68.6154 - mae: 5.0258\n",
            "Epoch 5/20\n",
            "662/662 [==============================] - 3s 5ms/step - loss: 68.4013 - mse: 68.4013 - mae: 5.0323\n",
            "Epoch 6/20\n",
            "662/662 [==============================] - 3s 5ms/step - loss: 68.3517 - mse: 68.3517 - mae: 5.0197\n",
            "Epoch 7/20\n",
            "662/662 [==============================] - 3s 5ms/step - loss: 68.4434 - mse: 68.4434 - mae: 5.0250\n",
            "Epoch 8/20\n",
            "662/662 [==============================] - 3s 5ms/step - loss: 68.1106 - mse: 68.1106 - mae: 5.0174\n",
            "Epoch 9/20\n",
            "662/662 [==============================] - 3s 5ms/step - loss: 68.0513 - mse: 68.0513 - mae: 5.0161\n",
            "Epoch 10/20\n",
            "662/662 [==============================] - 3s 5ms/step - loss: 68.2870 - mse: 68.2870 - mae: 5.0222\n",
            "Epoch 11/20\n",
            "662/662 [==============================] - 3s 5ms/step - loss: 68.0025 - mse: 68.0025 - mae: 5.0125\n",
            "Epoch 12/20\n",
            "662/662 [==============================] - 3s 5ms/step - loss: 67.8369 - mse: 67.8369 - mae: 5.0038\n",
            "Epoch 13/20\n",
            "662/662 [==============================] - 3s 5ms/step - loss: 68.1020 - mse: 68.1020 - mae: 5.0067\n",
            "Epoch 14/20\n",
            "662/662 [==============================] - 3s 5ms/step - loss: 67.9937 - mse: 67.9937 - mae: 5.0174\n",
            "Epoch 15/20\n",
            "662/662 [==============================] - 3s 5ms/step - loss: 67.8942 - mse: 67.8942 - mae: 5.0060\n",
            "Epoch 16/20\n",
            "662/662 [==============================] - 3s 5ms/step - loss: 67.8731 - mse: 67.8731 - mae: 5.0034\n",
            "Epoch 17/20\n",
            "662/662 [==============================] - 3s 5ms/step - loss: 67.8898 - mse: 67.8898 - mae: 5.0097\n",
            "Epoch 18/20\n",
            "662/662 [==============================] - 3s 5ms/step - loss: 67.9198 - mse: 67.9198 - mae: 5.0069\n",
            "Epoch 19/20\n",
            "662/662 [==============================] - 3s 5ms/step - loss: 67.8553 - mse: 67.8553 - mae: 5.0014\n",
            "Epoch 20/20\n",
            "662/662 [==============================] - 3s 5ms/step - loss: 67.8262 - mse: 67.8262 - mae: 5.0063\n",
            "662/662 [==============================] - 1s 2ms/step - loss: 67.5298 - mse: 67.5298 - mae: 5.0881\n"
          ]
        },
        {
          "output_type": "execute_result",
          "data": {
            "text/plain": [
              "[67.52977752685547, 67.52977752685547, 5.0881171226501465]"
            ]
          },
          "metadata": {},
          "execution_count": 45
        }
      ]
    },
    {
      "cell_type": "code",
      "source": [
        "model = Sequential()\n",
        "model.add(Dense(256, input_dim=2, kernel_initializer='normal', activation='gelu'))\n",
        "\n",
        "model.add(Dense(128, activation='gelu'))\n",
        "model.add(Dense(64, activation='relu'))\n",
        "model.add(Dense(64, activation='gelu'))\n",
        "\n",
        "model.add(Dense(1, activation='linear'))\n",
        "\n",
        "model.compile(loss='mse', metrics=['mse','mae'],optimizer='adam')\n",
        "model.summary()"
      ],
      "metadata": {
        "colab": {
          "base_uri": "https://localhost:8080/"
        },
        "id": "XNbTXope90dR",
        "outputId": "40b65c2c-e846-466b-ee72-b8f27eb57ccf"
      },
      "execution_count": 46,
      "outputs": [
        {
          "output_type": "stream",
          "name": "stdout",
          "text": [
            "Model: \"sequential_6\"\n",
            "_________________________________________________________________\n",
            "Layer (type)                 Output Shape              Param #   \n",
            "=================================================================\n",
            "dense_30 (Dense)             (None, 256)               768       \n",
            "_________________________________________________________________\n",
            "dense_31 (Dense)             (None, 128)               32896     \n",
            "_________________________________________________________________\n",
            "dense_32 (Dense)             (None, 64)                8256      \n",
            "_________________________________________________________________\n",
            "dense_33 (Dense)             (None, 64)                4160      \n",
            "_________________________________________________________________\n",
            "dense_34 (Dense)             (None, 1)                 65        \n",
            "=================================================================\n",
            "Total params: 46,145\n",
            "Trainable params: 46,145\n",
            "Non-trainable params: 0\n",
            "_________________________________________________________________\n"
          ]
        }
      ]
    },
    {
      "cell_type": "code",
      "source": [
        "history = model.fit(train, test, epochs=20, verbose = 1,batch_size=32)\n",
        "model.evaluate(train, test)"
      ],
      "metadata": {
        "colab": {
          "base_uri": "https://localhost:8080/"
        },
        "id": "rhlLOBtp-xE5",
        "outputId": "a77b0f1e-d260-44c6-9a7b-fb7abd225b47"
      },
      "execution_count": 47,
      "outputs": [
        {
          "output_type": "stream",
          "name": "stdout",
          "text": [
            "Epoch 1/20\n",
            "662/662 [==============================] - 3s 3ms/step - loss: 71.6652 - mse: 71.6652 - mae: 5.1041\n",
            "Epoch 2/20\n",
            "662/662 [==============================] - 2s 3ms/step - loss: 68.7893 - mse: 68.7893 - mae: 5.0375\n",
            "Epoch 3/20\n",
            "662/662 [==============================] - 2s 2ms/step - loss: 68.4031 - mse: 68.4031 - mae: 5.0264\n",
            "Epoch 4/20\n",
            "662/662 [==============================] - 2s 3ms/step - loss: 68.5135 - mse: 68.5135 - mae: 5.0181\n",
            "Epoch 5/20\n",
            "662/662 [==============================] - 2s 3ms/step - loss: 68.2954 - mse: 68.2954 - mae: 5.0288\n",
            "Epoch 6/20\n",
            "662/662 [==============================] - 2s 3ms/step - loss: 68.2994 - mse: 68.2994 - mae: 5.0172\n",
            "Epoch 7/20\n",
            "662/662 [==============================] - 3s 5ms/step - loss: 68.3085 - mse: 68.3085 - mae: 5.0192\n",
            "Epoch 8/20\n",
            "662/662 [==============================] - 3s 5ms/step - loss: 68.0216 - mse: 68.0216 - mae: 5.0130\n",
            "Epoch 9/20\n",
            "662/662 [==============================] - 4s 5ms/step - loss: 67.9785 - mse: 67.9785 - mae: 5.0128\n",
            "Epoch 10/20\n",
            "662/662 [==============================] - 3s 5ms/step - loss: 68.1519 - mse: 68.1519 - mae: 5.0156\n",
            "Epoch 11/20\n",
            "662/662 [==============================] - 5s 8ms/step - loss: 67.9437 - mse: 67.9437 - mae: 5.0073\n",
            "Epoch 12/20\n",
            "662/662 [==============================] - 6s 9ms/step - loss: 67.7781 - mse: 67.7781 - mae: 5.0009\n",
            "Epoch 13/20\n",
            "662/662 [==============================] - 3s 5ms/step - loss: 68.0668 - mse: 68.0668 - mae: 5.0035\n",
            "Epoch 14/20\n",
            "662/662 [==============================] - 2s 3ms/step - loss: 67.9232 - mse: 67.9232 - mae: 5.0168\n",
            "Epoch 15/20\n",
            "662/662 [==============================] - 2s 3ms/step - loss: 67.8385 - mse: 67.8385 - mae: 5.0021\n",
            "Epoch 16/20\n",
            "662/662 [==============================] - 2s 2ms/step - loss: 67.8599 - mse: 67.8599 - mae: 5.0002\n",
            "Epoch 17/20\n",
            "662/662 [==============================] - 2s 2ms/step - loss: 67.8987 - mse: 67.8987 - mae: 5.0074\n",
            "Epoch 18/20\n",
            "662/662 [==============================] - 2s 2ms/step - loss: 67.8792 - mse: 67.8792 - mae: 5.0044\n",
            "Epoch 19/20\n",
            "662/662 [==============================] - 2s 2ms/step - loss: 67.7985 - mse: 67.7985 - mae: 4.9991\n",
            "Epoch 20/20\n",
            "662/662 [==============================] - 2s 2ms/step - loss: 67.7861 - mse: 67.7861 - mae: 5.0071\n",
            "662/662 [==============================] - 1s 1ms/step - loss: 67.4369 - mse: 67.4369 - mae: 5.0809\n"
          ]
        },
        {
          "output_type": "execute_result",
          "data": {
            "text/plain": [
              "[67.43693542480469, 67.43693542480469, 5.0808634757995605]"
            ]
          },
          "metadata": {},
          "execution_count": 47
        }
      ]
    },
    {
      "cell_type": "code",
      "source": [
        "from keras.layers import LeakyReLU"
      ],
      "metadata": {
        "id": "ghUmKuDjRQF3"
      },
      "execution_count": 53,
      "outputs": []
    },
    {
      "cell_type": "code",
      "source": [
        "model = Sequential()\n",
        "model.add(Dense(256, input_dim=2, kernel_initializer='normal', activation='LeakyReLU'))\n",
        "\n",
        "model.add(Dense(128, activation='gelu'))\n",
        "model.add(Dense(128, activation='relu'))\n",
        "model.add(Dense(128, activation='gelu'))\n",
        "\n",
        "model.add(Dense(1, activation='linear'))\n",
        "\n",
        "model.compile(loss='mse', metrics=['mse','mae'],optimizer='adam')\n",
        "model.summary()"
      ],
      "metadata": {
        "colab": {
          "base_uri": "https://localhost:8080/"
        },
        "id": "TH0s90ZzQ8ms",
        "outputId": "323a5acb-7667-470a-a6a0-e493cc2ea3f8"
      },
      "execution_count": 60,
      "outputs": [
        {
          "output_type": "stream",
          "name": "stdout",
          "text": [
            "Model: \"sequential_15\"\n",
            "_________________________________________________________________\n",
            "Layer (type)                 Output Shape              Param #   \n",
            "=================================================================\n",
            "dense_42 (Dense)             (None, 256)               768       \n",
            "_________________________________________________________________\n",
            "dense_43 (Dense)             (None, 128)               32896     \n",
            "_________________________________________________________________\n",
            "dense_44 (Dense)             (None, 128)               16512     \n",
            "_________________________________________________________________\n",
            "dense_45 (Dense)             (None, 128)               16512     \n",
            "_________________________________________________________________\n",
            "dense_46 (Dense)             (None, 1)                 129       \n",
            "=================================================================\n",
            "Total params: 66,817\n",
            "Trainable params: 66,817\n",
            "Non-trainable params: 0\n",
            "_________________________________________________________________\n"
          ]
        }
      ]
    },
    {
      "cell_type": "code",
      "source": [
        "history = model.fit(train, test, epochs=20, verbose = 1,batch_size=32)\n",
        "model.evaluate(train, test)"
      ],
      "metadata": {
        "colab": {
          "base_uri": "https://localhost:8080/"
        },
        "id": "6qbtMPByRJX-",
        "outputId": "acfa0421-36d2-4202-a2f7-377541d832fb"
      },
      "execution_count": 61,
      "outputs": [
        {
          "output_type": "stream",
          "name": "stdout",
          "text": [
            "Epoch 1/20\n",
            "662/662 [==============================] - 2s 3ms/step - loss: 71.5114 - mse: 71.5114 - mae: 5.1084\n",
            "Epoch 2/20\n",
            "662/662 [==============================] - 2s 2ms/step - loss: 69.1085 - mse: 69.1085 - mae: 5.0510\n",
            "Epoch 3/20\n",
            "662/662 [==============================] - 2s 2ms/step - loss: 68.7169 - mse: 68.7169 - mae: 5.0439\n",
            "Epoch 4/20\n",
            "662/662 [==============================] - 2s 2ms/step - loss: 68.7372 - mse: 68.7372 - mae: 5.0301\n",
            "Epoch 5/20\n",
            "662/662 [==============================] - 2s 2ms/step - loss: 68.6146 - mse: 68.6146 - mae: 5.0409\n",
            "Epoch 6/20\n",
            "662/662 [==============================] - 2s 2ms/step - loss: 68.5734 - mse: 68.5734 - mae: 5.0348\n",
            "Epoch 7/20\n",
            "662/662 [==============================] - 2s 2ms/step - loss: 68.6629 - mse: 68.6629 - mae: 5.0320\n",
            "Epoch 8/20\n",
            "662/662 [==============================] - 2s 2ms/step - loss: 68.4084 - mse: 68.4084 - mae: 5.0302\n",
            "Epoch 9/20\n",
            "662/662 [==============================] - 2s 2ms/step - loss: 68.2947 - mse: 68.2947 - mae: 5.0269\n",
            "Epoch 10/20\n",
            "662/662 [==============================] - 2s 2ms/step - loss: 68.4531 - mse: 68.4531 - mae: 5.0302\n",
            "Epoch 11/20\n",
            "662/662 [==============================] - 2s 2ms/step - loss: 68.2798 - mse: 68.2798 - mae: 5.0221\n",
            "Epoch 12/20\n",
            "662/662 [==============================] - 2s 2ms/step - loss: 68.0378 - mse: 68.0378 - mae: 5.0087\n",
            "Epoch 13/20\n",
            "662/662 [==============================] - 2s 2ms/step - loss: 68.2665 - mse: 68.2665 - mae: 5.0176\n",
            "Epoch 14/20\n",
            "662/662 [==============================] - 2s 3ms/step - loss: 68.1003 - mse: 68.1003 - mae: 5.0246\n",
            "Epoch 15/20\n",
            "662/662 [==============================] - 3s 4ms/step - loss: 68.1457 - mse: 68.1457 - mae: 5.0177\n",
            "Epoch 16/20\n",
            "662/662 [==============================] - 2s 2ms/step - loss: 68.1202 - mse: 68.1202 - mae: 5.0103\n",
            "Epoch 17/20\n",
            "662/662 [==============================] - 2s 2ms/step - loss: 68.0566 - mse: 68.0566 - mae: 5.0181\n",
            "Epoch 18/20\n",
            "662/662 [==============================] - 2s 2ms/step - loss: 68.0610 - mse: 68.0610 - mae: 5.0159\n",
            "Epoch 19/20\n",
            "662/662 [==============================] - 2s 2ms/step - loss: 67.9880 - mse: 67.9880 - mae: 5.0105\n",
            "Epoch 20/20\n",
            "662/662 [==============================] - 2s 3ms/step - loss: 68.0318 - mse: 68.0318 - mae: 5.0187\n",
            "662/662 [==============================] - 1s 1ms/step - loss: 67.5189 - mse: 67.5189 - mae: 5.0537\n"
          ]
        },
        {
          "output_type": "execute_result",
          "data": {
            "text/plain": [
              "[67.5189437866211, 67.5189437866211, 5.05369758605957]"
            ]
          },
          "metadata": {},
          "execution_count": 61
        }
      ]
    },
    {
      "cell_type": "code",
      "source": [
        "model = Sequential()\n",
        "model.add(Dense(64, input_dim=2, kernel_initializer='normal', activation='LeakyReLU'))\n",
        "\n",
        "model.add(Dense(32, activation='relu'))\n",
        "model.add(Dense(32, activation='relu'))\n",
        "model.add(Dense(32, activation='relu'))\n",
        "\n",
        "model.add(Dense(1, activation='linear'))\n",
        "\n",
        "model.compile(loss='mse', metrics=['mse','mae'],optimizer='adam')\n",
        "model.summary()"
      ],
      "metadata": {
        "colab": {
          "base_uri": "https://localhost:8080/"
        },
        "id": "GykkGV1vRr8d",
        "outputId": "2ec7ebce-65a7-44ba-c8b0-4b9116807a7b"
      },
      "execution_count": 62,
      "outputs": [
        {
          "output_type": "stream",
          "name": "stdout",
          "text": [
            "Model: \"sequential_16\"\n",
            "_________________________________________________________________\n",
            "Layer (type)                 Output Shape              Param #   \n",
            "=================================================================\n",
            "dense_47 (Dense)             (None, 64)                192       \n",
            "_________________________________________________________________\n",
            "dense_48 (Dense)             (None, 32)                2080      \n",
            "_________________________________________________________________\n",
            "dense_49 (Dense)             (None, 32)                1056      \n",
            "_________________________________________________________________\n",
            "dense_50 (Dense)             (None, 32)                1056      \n",
            "_________________________________________________________________\n",
            "dense_51 (Dense)             (None, 1)                 33        \n",
            "=================================================================\n",
            "Total params: 4,417\n",
            "Trainable params: 4,417\n",
            "Non-trainable params: 0\n",
            "_________________________________________________________________\n"
          ]
        }
      ]
    },
    {
      "cell_type": "code",
      "source": [
        "history = model.fit(train, test, epochs=20, verbose = 1,batch_size=32)\n",
        "model.evaluate(train, test)"
      ],
      "metadata": {
        "colab": {
          "base_uri": "https://localhost:8080/"
        },
        "id": "ZbjIiJy9ScwX",
        "outputId": "613870d7-2a17-4118-9174-7b52a81e3d4d"
      },
      "execution_count": 63,
      "outputs": [
        {
          "output_type": "stream",
          "name": "stdout",
          "text": [
            "Epoch 1/20\n",
            "662/662 [==============================] - 3s 3ms/step - loss: 77.8290 - mse: 77.8290 - mae: 5.2822\n",
            "Epoch 2/20\n",
            "662/662 [==============================] - 1s 2ms/step - loss: 69.1510 - mse: 69.1510 - mae: 5.0503\n",
            "Epoch 3/20\n",
            "662/662 [==============================] - 1s 2ms/step - loss: 68.7949 - mse: 68.7949 - mae: 5.0440\n",
            "Epoch 4/20\n",
            "662/662 [==============================] - 1s 2ms/step - loss: 68.6616 - mse: 68.6616 - mae: 5.0300\n",
            "Epoch 5/20\n",
            "662/662 [==============================] - 1s 2ms/step - loss: 68.6202 - mse: 68.6202 - mae: 5.0409\n",
            "Epoch 6/20\n",
            "662/662 [==============================] - 1s 2ms/step - loss: 68.7049 - mse: 68.7049 - mae: 5.0347\n",
            "Epoch 7/20\n",
            "662/662 [==============================] - 1s 2ms/step - loss: 68.5642 - mse: 68.5642 - mae: 5.0335\n",
            "Epoch 8/20\n",
            "662/662 [==============================] - 1s 2ms/step - loss: 68.2855 - mse: 68.2855 - mae: 5.0217\n",
            "Epoch 9/20\n",
            "662/662 [==============================] - 1s 2ms/step - loss: 68.2711 - mse: 68.2711 - mae: 5.0142\n",
            "Epoch 10/20\n",
            "662/662 [==============================] - 1s 2ms/step - loss: 68.4009 - mse: 68.4009 - mae: 5.0250\n",
            "Epoch 11/20\n",
            "662/662 [==============================] - 1s 2ms/step - loss: 68.3681 - mse: 68.3681 - mae: 5.0288\n",
            "Epoch 12/20\n",
            "662/662 [==============================] - 1s 2ms/step - loss: 68.0074 - mse: 68.0074 - mae: 5.0080\n",
            "Epoch 13/20\n",
            "662/662 [==============================] - 1s 2ms/step - loss: 68.3371 - mse: 68.3371 - mae: 5.0163\n",
            "Epoch 14/20\n",
            "662/662 [==============================] - 1s 2ms/step - loss: 68.1533 - mse: 68.1533 - mae: 5.0223\n",
            "Epoch 15/20\n",
            "662/662 [==============================] - 1s 2ms/step - loss: 68.1677 - mse: 68.1677 - mae: 5.0091\n",
            "Epoch 16/20\n",
            "662/662 [==============================] - 1s 2ms/step - loss: 68.1521 - mse: 68.1521 - mae: 5.0150\n",
            "Epoch 17/20\n",
            "662/662 [==============================] - 1s 2ms/step - loss: 68.1865 - mse: 68.1865 - mae: 5.0182\n",
            "Epoch 18/20\n",
            "662/662 [==============================] - 1s 2ms/step - loss: 67.9480 - mse: 67.9480 - mae: 5.0087\n",
            "Epoch 19/20\n",
            "662/662 [==============================] - 1s 2ms/step - loss: 68.1560 - mse: 68.1560 - mae: 5.0120\n",
            "Epoch 20/20\n",
            "662/662 [==============================] - 1s 2ms/step - loss: 67.9778 - mse: 67.9778 - mae: 5.0124\n",
            "662/662 [==============================] - 1s 1ms/step - loss: 67.7689 - mse: 67.7689 - mae: 5.0313\n"
          ]
        },
        {
          "output_type": "execute_result",
          "data": {
            "text/plain": [
              "[67.7689437866211, 67.7689437866211, 5.031304359436035]"
            ]
          },
          "metadata": {},
          "execution_count": 63
        }
      ]
    },
    {
      "cell_type": "code",
      "source": [
        "model = Sequential()\n",
        "model.add(Dense(64, input_dim=2, kernel_initializer='normal', activation='LeakyReLU'))\n",
        "\n",
        "model.add(Dense(32, activation='relu'))\n",
        "model.add(Dense(32, activation='relu'))\n",
        "model.add(Dense(32, activation='relu'))\n",
        "\n",
        "model.add(Dense(1, activation='linear'))\n",
        "\n",
        "model.compile(loss='mse', metrics=['mse','mae'],optimizer='adam')\n",
        "model.summary()"
      ],
      "metadata": {
        "colab": {
          "base_uri": "https://localhost:8080/"
        },
        "id": "aMtNt9fnSex_",
        "outputId": "6277c43e-d354-4a7e-be63-fb944ad7896f"
      },
      "execution_count": 64,
      "outputs": [
        {
          "output_type": "stream",
          "name": "stdout",
          "text": [
            "Model: \"sequential_17\"\n",
            "_________________________________________________________________\n",
            "Layer (type)                 Output Shape              Param #   \n",
            "=================================================================\n",
            "dense_52 (Dense)             (None, 64)                192       \n",
            "_________________________________________________________________\n",
            "dense_53 (Dense)             (None, 32)                2080      \n",
            "_________________________________________________________________\n",
            "dense_54 (Dense)             (None, 32)                1056      \n",
            "_________________________________________________________________\n",
            "dense_55 (Dense)             (None, 32)                1056      \n",
            "_________________________________________________________________\n",
            "dense_56 (Dense)             (None, 1)                 33        \n",
            "=================================================================\n",
            "Total params: 4,417\n",
            "Trainable params: 4,417\n",
            "Non-trainable params: 0\n",
            "_________________________________________________________________\n"
          ]
        }
      ]
    },
    {
      "cell_type": "code",
      "source": [
        "history = model.fit(train, test, epochs=20, verbose = 1,batch_size=64)\n",
        "model.evaluate(train, test)"
      ],
      "metadata": {
        "colab": {
          "base_uri": "https://localhost:8080/"
        },
        "id": "sd44kSN2S0z7",
        "outputId": "419b7a30-e430-4cdc-bde2-cda5c80f46bf"
      },
      "execution_count": 65,
      "outputs": [
        {
          "output_type": "stream",
          "name": "stdout",
          "text": [
            "Epoch 1/20\n",
            "331/331 [==============================] - 2s 3ms/step - loss: 79.9802 - mse: 79.9802 - mae: 5.3546\n",
            "Epoch 2/20\n",
            "331/331 [==============================] - 1s 3ms/step - loss: 69.1538 - mse: 69.1538 - mae: 5.0462\n",
            "Epoch 3/20\n",
            "331/331 [==============================] - 1s 3ms/step - loss: 68.4199 - mse: 68.4199 - mae: 5.0365\n",
            "Epoch 4/20\n",
            "331/331 [==============================] - 2s 5ms/step - loss: 68.6881 - mse: 68.6881 - mae: 5.0229\n",
            "Epoch 5/20\n",
            "331/331 [==============================] - 1s 2ms/step - loss: 68.5370 - mse: 68.5370 - mae: 5.0360\n",
            "Epoch 6/20\n",
            "331/331 [==============================] - 1s 2ms/step - loss: 68.3612 - mse: 68.3612 - mae: 5.0246\n",
            "Epoch 7/20\n",
            "331/331 [==============================] - 1s 2ms/step - loss: 68.6774 - mse: 68.6774 - mae: 5.0299\n",
            "Epoch 8/20\n",
            "331/331 [==============================] - 1s 2ms/step - loss: 68.2769 - mse: 68.2769 - mae: 5.0197\n",
            "Epoch 9/20\n",
            "331/331 [==============================] - 1s 2ms/step - loss: 68.0194 - mse: 68.0194 - mae: 5.0170\n",
            "Epoch 10/20\n",
            "331/331 [==============================] - 1s 2ms/step - loss: 68.3662 - mse: 68.3662 - mae: 5.0268\n",
            "Epoch 11/20\n",
            "331/331 [==============================] - 1s 2ms/step - loss: 68.0207 - mse: 68.0207 - mae: 5.0100\n",
            "Epoch 12/20\n",
            "331/331 [==============================] - 1s 2ms/step - loss: 67.8221 - mse: 67.8221 - mae: 5.0073\n",
            "Epoch 13/20\n",
            "331/331 [==============================] - 1s 2ms/step - loss: 68.2187 - mse: 68.2187 - mae: 5.0137\n",
            "Epoch 14/20\n",
            "331/331 [==============================] - 1s 2ms/step - loss: 68.1079 - mse: 68.1079 - mae: 5.0292\n",
            "Epoch 15/20\n",
            "331/331 [==============================] - 1s 2ms/step - loss: 68.0512 - mse: 68.0512 - mae: 5.0128\n",
            "Epoch 16/20\n",
            "331/331 [==============================] - 1s 2ms/step - loss: 67.9486 - mse: 67.9486 - mae: 5.0091\n",
            "Epoch 17/20\n",
            "331/331 [==============================] - 1s 2ms/step - loss: 68.0666 - mse: 68.0666 - mae: 5.0152\n",
            "Epoch 18/20\n",
            "331/331 [==============================] - 1s 2ms/step - loss: 68.0483 - mse: 68.0483 - mae: 5.0135\n",
            "Epoch 19/20\n",
            "331/331 [==============================] - 1s 2ms/step - loss: 67.9680 - mse: 67.9680 - mae: 5.0086\n",
            "Epoch 20/20\n",
            "331/331 [==============================] - 1s 2ms/step - loss: 67.9115 - mse: 67.9115 - mae: 5.0124\n",
            "662/662 [==============================] - 1s 1ms/step - loss: 67.8813 - mse: 67.8813 - mae: 5.1178\n"
          ]
        },
        {
          "output_type": "execute_result",
          "data": {
            "text/plain": [
              "[67.88127136230469, 67.88127136230469, 5.117818832397461]"
            ]
          },
          "metadata": {},
          "execution_count": 65
        }
      ]
    }
  ]
}