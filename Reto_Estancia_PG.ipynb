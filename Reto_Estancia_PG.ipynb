{
  "nbformat": 4,
  "nbformat_minor": 0,
  "metadata": {
    "colab": {
      "name": "Copia de Reto Estancia.ipynb",
      "provenance": [],
      "collapsed_sections": []
    },
    "kernelspec": {
      "name": "python3",
      "display_name": "Python 3"
    },
    "language_info": {
      "name": "python"
    }
  },
  "cells": [
    {
      "cell_type": "markdown",
      "source": [
        "## Dependencias"
      ],
      "metadata": {
        "id": "Rq-TbFYrOCOv"
      }
    },
    {
      "cell_type": "code",
      "source": [
        "!pip install giotto-tda"
      ],
      "metadata": {
        "colab": {
          "base_uri": "https://localhost:8080/"
        },
        "id": "yQDCOwHROQaH",
        "outputId": "96f903f6-0856-4d37-af1e-a462de6ad7c9"
      },
      "execution_count": 1,
      "outputs": [
        {
          "output_type": "stream",
          "name": "stdout",
          "text": [
            "Looking in indexes: https://pypi.org/simple, https://us-python.pkg.dev/colab-wheels/public/simple/\n",
            "Collecting giotto-tda\n",
            "  Downloading giotto_tda-0.6.0-cp37-cp37m-manylinux_2_17_x86_64.manylinux2014_x86_64.whl (1.3 MB)\n",
            "\u001b[K     |████████████████████████████████| 1.3 MB 7.9 MB/s \n",
            "\u001b[?25hRequirement already satisfied: plotly>=4.8.2 in /usr/local/lib/python3.7/dist-packages (from giotto-tda) (5.5.0)\n",
            "Collecting pyflagser>=0.4.3\n",
            "  Downloading pyflagser-0.4.5-cp37-cp37m-manylinux_2_17_x86_64.manylinux2014_x86_64.whl (458 kB)\n",
            "\u001b[K     |████████████████████████████████| 458 kB 18.7 MB/s \n",
            "\u001b[?25hRequirement already satisfied: scikit-learn>=0.23.1 in /usr/local/lib/python3.7/dist-packages (from giotto-tda) (1.0.2)\n",
            "Requirement already satisfied: numpy>=1.19.1 in /usr/local/lib/python3.7/dist-packages (from giotto-tda) (1.21.6)\n",
            "Requirement already satisfied: scipy>=1.5.0 in /usr/local/lib/python3.7/dist-packages (from giotto-tda) (1.7.3)\n",
            "Requirement already satisfied: joblib>=0.16.0 in /usr/local/lib/python3.7/dist-packages (from giotto-tda) (1.1.0)\n",
            "Collecting igraph>=0.9.8\n",
            "  Downloading igraph-0.9.11-cp37-cp37m-manylinux_2_17_x86_64.manylinux2014_x86_64.whl (3.1 MB)\n",
            "\u001b[K     |████████████████████████████████| 3.1 MB 32.0 MB/s \n",
            "\u001b[?25hCollecting giotto-ph>=0.2.1\n",
            "  Downloading giotto_ph-0.2.2-cp37-cp37m-manylinux_2_17_x86_64.manylinux2014_x86_64.whl (529 kB)\n",
            "\u001b[K     |████████████████████████████████| 529 kB 38.7 MB/s \n",
            "\u001b[?25hRequirement already satisfied: ipywidgets>=7.5.1 in /usr/local/lib/python3.7/dist-packages (from giotto-tda) (7.7.1)\n",
            "Collecting texttable>=1.6.2\n",
            "  Downloading texttable-1.6.4-py2.py3-none-any.whl (10 kB)\n",
            "Requirement already satisfied: ipython-genutils~=0.2.0 in /usr/local/lib/python3.7/dist-packages (from ipywidgets>=7.5.1->giotto-tda) (0.2.0)\n",
            "Requirement already satisfied: ipykernel>=4.5.1 in /usr/local/lib/python3.7/dist-packages (from ipywidgets>=7.5.1->giotto-tda) (5.3.4)\n",
            "Requirement already satisfied: jupyterlab-widgets>=1.0.0 in /usr/local/lib/python3.7/dist-packages (from ipywidgets>=7.5.1->giotto-tda) (3.0.2)\n",
            "Requirement already satisfied: traitlets>=4.3.1 in /usr/local/lib/python3.7/dist-packages (from ipywidgets>=7.5.1->giotto-tda) (5.1.1)\n",
            "Requirement already satisfied: ipython>=4.0.0 in /usr/local/lib/python3.7/dist-packages (from ipywidgets>=7.5.1->giotto-tda) (7.9.0)\n",
            "Requirement already satisfied: widgetsnbextension~=3.6.0 in /usr/local/lib/python3.7/dist-packages (from ipywidgets>=7.5.1->giotto-tda) (3.6.1)\n",
            "Requirement already satisfied: tornado>=4.2 in /usr/local/lib/python3.7/dist-packages (from ipykernel>=4.5.1->ipywidgets>=7.5.1->giotto-tda) (5.1.1)\n",
            "Requirement already satisfied: jupyter-client in /usr/local/lib/python3.7/dist-packages (from ipykernel>=4.5.1->ipywidgets>=7.5.1->giotto-tda) (6.1.12)\n",
            "Requirement already satisfied: pickleshare in /usr/local/lib/python3.7/dist-packages (from ipython>=4.0.0->ipywidgets>=7.5.1->giotto-tda) (0.7.5)\n",
            "Requirement already satisfied: pygments in /usr/local/lib/python3.7/dist-packages (from ipython>=4.0.0->ipywidgets>=7.5.1->giotto-tda) (2.6.1)\n",
            "Requirement already satisfied: decorator in /usr/local/lib/python3.7/dist-packages (from ipython>=4.0.0->ipywidgets>=7.5.1->giotto-tda) (4.4.2)\n",
            "Requirement already satisfied: setuptools>=18.5 in /usr/local/lib/python3.7/dist-packages (from ipython>=4.0.0->ipywidgets>=7.5.1->giotto-tda) (57.4.0)\n",
            "Requirement already satisfied: backcall in /usr/local/lib/python3.7/dist-packages (from ipython>=4.0.0->ipywidgets>=7.5.1->giotto-tda) (0.2.0)\n",
            "Requirement already satisfied: prompt-toolkit<2.1.0,>=2.0.0 in /usr/local/lib/python3.7/dist-packages (from ipython>=4.0.0->ipywidgets>=7.5.1->giotto-tda) (2.0.10)\n",
            "Requirement already satisfied: pexpect in /usr/local/lib/python3.7/dist-packages (from ipython>=4.0.0->ipywidgets>=7.5.1->giotto-tda) (4.8.0)\n",
            "Collecting jedi>=0.10\n",
            "  Downloading jedi-0.18.1-py2.py3-none-any.whl (1.6 MB)\n",
            "\u001b[K     |████████████████████████████████| 1.6 MB 64.6 MB/s \n",
            "\u001b[?25hRequirement already satisfied: parso<0.9.0,>=0.8.0 in /usr/local/lib/python3.7/dist-packages (from jedi>=0.10->ipython>=4.0.0->ipywidgets>=7.5.1->giotto-tda) (0.8.3)\n",
            "Requirement already satisfied: six in /usr/local/lib/python3.7/dist-packages (from plotly>=4.8.2->giotto-tda) (1.15.0)\n",
            "Requirement already satisfied: tenacity>=6.2.0 in /usr/local/lib/python3.7/dist-packages (from plotly>=4.8.2->giotto-tda) (8.0.1)\n",
            "Requirement already satisfied: wcwidth in /usr/local/lib/python3.7/dist-packages (from prompt-toolkit<2.1.0,>=2.0.0->ipython>=4.0.0->ipywidgets>=7.5.1->giotto-tda) (0.2.5)\n",
            "Requirement already satisfied: threadpoolctl>=2.0.0 in /usr/local/lib/python3.7/dist-packages (from scikit-learn>=0.23.1->giotto-tda) (3.1.0)\n",
            "Requirement already satisfied: notebook>=4.4.1 in /usr/local/lib/python3.7/dist-packages (from widgetsnbextension~=3.6.0->ipywidgets>=7.5.1->giotto-tda) (5.3.1)\n",
            "Requirement already satisfied: nbformat in /usr/local/lib/python3.7/dist-packages (from notebook>=4.4.1->widgetsnbextension~=3.6.0->ipywidgets>=7.5.1->giotto-tda) (5.4.0)\n",
            "Requirement already satisfied: jupyter-core>=4.4.0 in /usr/local/lib/python3.7/dist-packages (from notebook>=4.4.1->widgetsnbextension~=3.6.0->ipywidgets>=7.5.1->giotto-tda) (4.11.1)\n",
            "Requirement already satisfied: terminado>=0.8.1 in /usr/local/lib/python3.7/dist-packages (from notebook>=4.4.1->widgetsnbextension~=3.6.0->ipywidgets>=7.5.1->giotto-tda) (0.13.3)\n",
            "Requirement already satisfied: Send2Trash in /usr/local/lib/python3.7/dist-packages (from notebook>=4.4.1->widgetsnbextension~=3.6.0->ipywidgets>=7.5.1->giotto-tda) (1.8.0)\n",
            "Requirement already satisfied: jinja2 in /usr/local/lib/python3.7/dist-packages (from notebook>=4.4.1->widgetsnbextension~=3.6.0->ipywidgets>=7.5.1->giotto-tda) (2.11.3)\n",
            "Requirement already satisfied: nbconvert in /usr/local/lib/python3.7/dist-packages (from notebook>=4.4.1->widgetsnbextension~=3.6.0->ipywidgets>=7.5.1->giotto-tda) (5.6.1)\n",
            "Requirement already satisfied: pyzmq>=13 in /usr/local/lib/python3.7/dist-packages (from jupyter-client->ipykernel>=4.5.1->ipywidgets>=7.5.1->giotto-tda) (23.2.1)\n",
            "Requirement already satisfied: python-dateutil>=2.1 in /usr/local/lib/python3.7/dist-packages (from jupyter-client->ipykernel>=4.5.1->ipywidgets>=7.5.1->giotto-tda) (2.8.2)\n",
            "Requirement already satisfied: ptyprocess in /usr/local/lib/python3.7/dist-packages (from terminado>=0.8.1->notebook>=4.4.1->widgetsnbextension~=3.6.0->ipywidgets>=7.5.1->giotto-tda) (0.7.0)\n",
            "Requirement already satisfied: MarkupSafe>=0.23 in /usr/local/lib/python3.7/dist-packages (from jinja2->notebook>=4.4.1->widgetsnbextension~=3.6.0->ipywidgets>=7.5.1->giotto-tda) (2.0.1)\n",
            "Requirement already satisfied: pandocfilters>=1.4.1 in /usr/local/lib/python3.7/dist-packages (from nbconvert->notebook>=4.4.1->widgetsnbextension~=3.6.0->ipywidgets>=7.5.1->giotto-tda) (1.5.0)\n",
            "Requirement already satisfied: bleach in /usr/local/lib/python3.7/dist-packages (from nbconvert->notebook>=4.4.1->widgetsnbextension~=3.6.0->ipywidgets>=7.5.1->giotto-tda) (5.0.1)\n",
            "Requirement already satisfied: testpath in /usr/local/lib/python3.7/dist-packages (from nbconvert->notebook>=4.4.1->widgetsnbextension~=3.6.0->ipywidgets>=7.5.1->giotto-tda) (0.6.0)\n",
            "Requirement already satisfied: defusedxml in /usr/local/lib/python3.7/dist-packages (from nbconvert->notebook>=4.4.1->widgetsnbextension~=3.6.0->ipywidgets>=7.5.1->giotto-tda) (0.7.1)\n",
            "Requirement already satisfied: entrypoints>=0.2.2 in /usr/local/lib/python3.7/dist-packages (from nbconvert->notebook>=4.4.1->widgetsnbextension~=3.6.0->ipywidgets>=7.5.1->giotto-tda) (0.4)\n",
            "Requirement already satisfied: mistune<2,>=0.8.1 in /usr/local/lib/python3.7/dist-packages (from nbconvert->notebook>=4.4.1->widgetsnbextension~=3.6.0->ipywidgets>=7.5.1->giotto-tda) (0.8.4)\n",
            "Requirement already satisfied: fastjsonschema in /usr/local/lib/python3.7/dist-packages (from nbformat->notebook>=4.4.1->widgetsnbextension~=3.6.0->ipywidgets>=7.5.1->giotto-tda) (2.16.1)\n",
            "Requirement already satisfied: jsonschema>=2.6 in /usr/local/lib/python3.7/dist-packages (from nbformat->notebook>=4.4.1->widgetsnbextension~=3.6.0->ipywidgets>=7.5.1->giotto-tda) (4.3.3)\n",
            "Requirement already satisfied: typing-extensions in /usr/local/lib/python3.7/dist-packages (from jsonschema>=2.6->nbformat->notebook>=4.4.1->widgetsnbextension~=3.6.0->ipywidgets>=7.5.1->giotto-tda) (4.1.1)\n",
            "Requirement already satisfied: pyrsistent!=0.17.0,!=0.17.1,!=0.17.2,>=0.14.0 in /usr/local/lib/python3.7/dist-packages (from jsonschema>=2.6->nbformat->notebook>=4.4.1->widgetsnbextension~=3.6.0->ipywidgets>=7.5.1->giotto-tda) (0.18.1)\n",
            "Requirement already satisfied: attrs>=17.4.0 in /usr/local/lib/python3.7/dist-packages (from jsonschema>=2.6->nbformat->notebook>=4.4.1->widgetsnbextension~=3.6.0->ipywidgets>=7.5.1->giotto-tda) (22.1.0)\n",
            "Requirement already satisfied: importlib-metadata in /usr/local/lib/python3.7/dist-packages (from jsonschema>=2.6->nbformat->notebook>=4.4.1->widgetsnbextension~=3.6.0->ipywidgets>=7.5.1->giotto-tda) (4.12.0)\n",
            "Requirement already satisfied: importlib-resources>=1.4.0 in /usr/local/lib/python3.7/dist-packages (from jsonschema>=2.6->nbformat->notebook>=4.4.1->widgetsnbextension~=3.6.0->ipywidgets>=7.5.1->giotto-tda) (5.9.0)\n",
            "Requirement already satisfied: zipp>=3.1.0 in /usr/local/lib/python3.7/dist-packages (from importlib-resources>=1.4.0->jsonschema>=2.6->nbformat->notebook>=4.4.1->widgetsnbextension~=3.6.0->ipywidgets>=7.5.1->giotto-tda) (3.8.1)\n",
            "Requirement already satisfied: webencodings in /usr/local/lib/python3.7/dist-packages (from bleach->nbconvert->notebook>=4.4.1->widgetsnbextension~=3.6.0->ipywidgets>=7.5.1->giotto-tda) (0.5.1)\n",
            "Installing collected packages: jedi, texttable, pyflagser, igraph, giotto-ph, giotto-tda\n",
            "Successfully installed giotto-ph-0.2.2 giotto-tda-0.6.0 igraph-0.9.11 jedi-0.18.1 pyflagser-0.4.5 texttable-1.6.4\n"
          ]
        }
      ]
    },
    {
      "cell_type": "code",
      "source": [
        "!pip install gudhi"
      ],
      "metadata": {
        "colab": {
          "base_uri": "https://localhost:8080/"
        },
        "id": "TU0_0xk2OTs2",
        "outputId": "6fc112a8-2a27-4ca8-b909-71e32893f9fa"
      },
      "execution_count": 2,
      "outputs": [
        {
          "output_type": "stream",
          "name": "stdout",
          "text": [
            "Looking in indexes: https://pypi.org/simple, https://us-python.pkg.dev/colab-wheels/public/simple/\n",
            "Collecting gudhi\n",
            "  Downloading gudhi-3.6.0-cp37-cp37m-manylinux_2_17_x86_64.manylinux2014_x86_64.whl (28.7 MB)\n",
            "\u001b[K     |████████████████████████████████| 28.7 MB 1.3 MB/s \n",
            "\u001b[?25hRequirement already satisfied: numpy>=1.15.0 in /usr/local/lib/python3.7/dist-packages (from gudhi) (1.21.6)\n",
            "Installing collected packages: gudhi\n",
            "Successfully installed gudhi-3.6.0\n"
          ]
        }
      ]
    },
    {
      "cell_type": "code",
      "execution_count": 5,
      "metadata": {
        "id": "sF2unU4ObVAJ"
      },
      "outputs": [],
      "source": [
        "import pandas as pd\n",
        "import numpy as np\n",
        "import numpy as np\n",
        "import gudhi as gd  \n",
        "from sklearn import manifold\n",
        "from pylab import *\n",
        "from sklearn.decomposition import PCA\n",
        "from gtda.plotting import plot_point_cloud\n",
        "from gtda.time_series import SingleTakensEmbedding\n",
        "\n",
        "%matplotlib inline\n",
        "# import sklearn_tda\n"
      ]
    },
    {
      "cell_type": "markdown",
      "source": [
        "### Importar datos"
      ],
      "metadata": {
        "id": "Fi7hOrmDO2Y_"
      }
    },
    {
      "cell_type": "code",
      "source": [
        "object=pd.read_pickle('uke_eggedal_data_challenge.pkl')\n",
        "df=pd.DataFrame.from_dict(object,orient='index')"
      ],
      "metadata": {
        "id": "0Sxa0Vv4bhwd"
      },
      "execution_count": 6,
      "outputs": []
    },
    {
      "cell_type": "code",
      "source": [
        "df=df.T\n",
        "df"
      ],
      "metadata": {
        "colab": {
          "base_uri": "https://localhost:8080/",
          "height": 424
        },
        "id": "y8XSaFGBcLZK",
        "outputId": "f00596f8-aef1-4ad4-de1d-b09f96ca0524"
      },
      "execution_count": 7,
      "outputs": [
        {
          "output_type": "execute_result",
          "data": {
            "text/plain": [
              "           flow                                            obs_tas flow_dates  \\\n",
              "0      1.723781  [-10.600000381469727, -9.699999809265137, -6.6... 1958-01-04   \n",
              "1      0.960882  [-20.5, -19.100000381469727, -12.0, -17.700000... 1958-01-05   \n",
              "2         0.001  [-23.600000381469727, -22.5, -15.1000003814697... 1958-01-06   \n",
              "3         0.001  [-16.200000762939453, -16.0, -14.1000003814697... 1958-01-07   \n",
              "4      0.316796  [-7.900000095367432, -7.800000190734863, -9.5,... 1958-01-08   \n",
              "...         ...                                                ...        ...   \n",
              "21541  1.812796  [-12.5, -11.699999809265137, -8.60000038146972... 2016-12-26   \n",
              "21542      None  [-12.5, -11.899999618530273, -9.10000038146972...        NaT   \n",
              "21543      None  [-11.899999618530273, -11.399999618530273, -8....        NaT   \n",
              "21544      None  [-7.0, -6.5, -3.4000000953674316, -5.900000095...        NaT   \n",
              "21545      None  [-2.4000000953674316, -2.0999999046325684, 1.2...        NaT   \n",
              "\n",
              "      obs_lon_lat                                             obs_pr  \\\n",
              "0            9.37  [0.0, 0.0, 0.0, 0.0, 0.0, 0.0, 0.0, 0.10000000...   \n",
              "1           60.23  [0.0, 0.0, 0.0, 0.0, 0.0, 0.0, 0.0, 0.20000000...   \n",
              "2            None  [0.10000000149011612, 0.0, 0.30000001192092896...   \n",
              "3            None  [1.0, 0.0, 1.0, 1.100000023841858, 0.899999976...   \n",
              "4            None  [9.300000190734863, 8.600000381469727, 8.0, 8....   \n",
              "...           ...                                                ...   \n",
              "21541        None  [2.200000047683716, 0.10000000149011612, 1.100...   \n",
              "21542        None  [5.5, 4.900000095367432, 8.300000190734863, 6....   \n",
              "21543        None  [1.7999999523162842, 1.7000000476837158, 2.099...   \n",
              "21544        None  [4.099999904632568, 3.5, 4.599999904632568, 5....   \n",
              "21545        None  [6.400000095367432, 7.400000095367432, 8.5, 8....   \n",
              "\n",
              "       obs_dates  \n",
              "0     1957-01-01  \n",
              "1     1957-01-02  \n",
              "2     1957-01-03  \n",
              "3     1957-01-04  \n",
              "4     1957-01-05  \n",
              "...          ...  \n",
              "21541 2015-12-27  \n",
              "21542 2015-12-28  \n",
              "21543 2015-12-29  \n",
              "21544 2015-12-30  \n",
              "21545 2015-12-31  \n",
              "\n",
              "[21546 rows x 6 columns]"
            ],
            "text/html": [
              "\n",
              "  <div id=\"df-bf54988a-28c5-496c-8684-fefc7991663f\">\n",
              "    <div class=\"colab-df-container\">\n",
              "      <div>\n",
              "<style scoped>\n",
              "    .dataframe tbody tr th:only-of-type {\n",
              "        vertical-align: middle;\n",
              "    }\n",
              "\n",
              "    .dataframe tbody tr th {\n",
              "        vertical-align: top;\n",
              "    }\n",
              "\n",
              "    .dataframe thead th {\n",
              "        text-align: right;\n",
              "    }\n",
              "</style>\n",
              "<table border=\"1\" class=\"dataframe\">\n",
              "  <thead>\n",
              "    <tr style=\"text-align: right;\">\n",
              "      <th></th>\n",
              "      <th>flow</th>\n",
              "      <th>obs_tas</th>\n",
              "      <th>flow_dates</th>\n",
              "      <th>obs_lon_lat</th>\n",
              "      <th>obs_pr</th>\n",
              "      <th>obs_dates</th>\n",
              "    </tr>\n",
              "  </thead>\n",
              "  <tbody>\n",
              "    <tr>\n",
              "      <th>0</th>\n",
              "      <td>1.723781</td>\n",
              "      <td>[-10.600000381469727, -9.699999809265137, -6.6...</td>\n",
              "      <td>1958-01-04</td>\n",
              "      <td>9.37</td>\n",
              "      <td>[0.0, 0.0, 0.0, 0.0, 0.0, 0.0, 0.0, 0.10000000...</td>\n",
              "      <td>1957-01-01</td>\n",
              "    </tr>\n",
              "    <tr>\n",
              "      <th>1</th>\n",
              "      <td>0.960882</td>\n",
              "      <td>[-20.5, -19.100000381469727, -12.0, -17.700000...</td>\n",
              "      <td>1958-01-05</td>\n",
              "      <td>60.23</td>\n",
              "      <td>[0.0, 0.0, 0.0, 0.0, 0.0, 0.0, 0.0, 0.20000000...</td>\n",
              "      <td>1957-01-02</td>\n",
              "    </tr>\n",
              "    <tr>\n",
              "      <th>2</th>\n",
              "      <td>0.001</td>\n",
              "      <td>[-23.600000381469727, -22.5, -15.1000003814697...</td>\n",
              "      <td>1958-01-06</td>\n",
              "      <td>None</td>\n",
              "      <td>[0.10000000149011612, 0.0, 0.30000001192092896...</td>\n",
              "      <td>1957-01-03</td>\n",
              "    </tr>\n",
              "    <tr>\n",
              "      <th>3</th>\n",
              "      <td>0.001</td>\n",
              "      <td>[-16.200000762939453, -16.0, -14.1000003814697...</td>\n",
              "      <td>1958-01-07</td>\n",
              "      <td>None</td>\n",
              "      <td>[1.0, 0.0, 1.0, 1.100000023841858, 0.899999976...</td>\n",
              "      <td>1957-01-04</td>\n",
              "    </tr>\n",
              "    <tr>\n",
              "      <th>4</th>\n",
              "      <td>0.316796</td>\n",
              "      <td>[-7.900000095367432, -7.800000190734863, -9.5,...</td>\n",
              "      <td>1958-01-08</td>\n",
              "      <td>None</td>\n",
              "      <td>[9.300000190734863, 8.600000381469727, 8.0, 8....</td>\n",
              "      <td>1957-01-05</td>\n",
              "    </tr>\n",
              "    <tr>\n",
              "      <th>...</th>\n",
              "      <td>...</td>\n",
              "      <td>...</td>\n",
              "      <td>...</td>\n",
              "      <td>...</td>\n",
              "      <td>...</td>\n",
              "      <td>...</td>\n",
              "    </tr>\n",
              "    <tr>\n",
              "      <th>21541</th>\n",
              "      <td>1.812796</td>\n",
              "      <td>[-12.5, -11.699999809265137, -8.60000038146972...</td>\n",
              "      <td>2016-12-26</td>\n",
              "      <td>None</td>\n",
              "      <td>[2.200000047683716, 0.10000000149011612, 1.100...</td>\n",
              "      <td>2015-12-27</td>\n",
              "    </tr>\n",
              "    <tr>\n",
              "      <th>21542</th>\n",
              "      <td>None</td>\n",
              "      <td>[-12.5, -11.899999618530273, -9.10000038146972...</td>\n",
              "      <td>NaT</td>\n",
              "      <td>None</td>\n",
              "      <td>[5.5, 4.900000095367432, 8.300000190734863, 6....</td>\n",
              "      <td>2015-12-28</td>\n",
              "    </tr>\n",
              "    <tr>\n",
              "      <th>21543</th>\n",
              "      <td>None</td>\n",
              "      <td>[-11.899999618530273, -11.399999618530273, -8....</td>\n",
              "      <td>NaT</td>\n",
              "      <td>None</td>\n",
              "      <td>[1.7999999523162842, 1.7000000476837158, 2.099...</td>\n",
              "      <td>2015-12-29</td>\n",
              "    </tr>\n",
              "    <tr>\n",
              "      <th>21544</th>\n",
              "      <td>None</td>\n",
              "      <td>[-7.0, -6.5, -3.4000000953674316, -5.900000095...</td>\n",
              "      <td>NaT</td>\n",
              "      <td>None</td>\n",
              "      <td>[4.099999904632568, 3.5, 4.599999904632568, 5....</td>\n",
              "      <td>2015-12-30</td>\n",
              "    </tr>\n",
              "    <tr>\n",
              "      <th>21545</th>\n",
              "      <td>None</td>\n",
              "      <td>[-2.4000000953674316, -2.0999999046325684, 1.2...</td>\n",
              "      <td>NaT</td>\n",
              "      <td>None</td>\n",
              "      <td>[6.400000095367432, 7.400000095367432, 8.5, 8....</td>\n",
              "      <td>2015-12-31</td>\n",
              "    </tr>\n",
              "  </tbody>\n",
              "</table>\n",
              "<p>21546 rows × 6 columns</p>\n",
              "</div>\n",
              "      <button class=\"colab-df-convert\" onclick=\"convertToInteractive('df-bf54988a-28c5-496c-8684-fefc7991663f')\"\n",
              "              title=\"Convert this dataframe to an interactive table.\"\n",
              "              style=\"display:none;\">\n",
              "        \n",
              "  <svg xmlns=\"http://www.w3.org/2000/svg\" height=\"24px\"viewBox=\"0 0 24 24\"\n",
              "       width=\"24px\">\n",
              "    <path d=\"M0 0h24v24H0V0z\" fill=\"none\"/>\n",
              "    <path d=\"M18.56 5.44l.94 2.06.94-2.06 2.06-.94-2.06-.94-.94-2.06-.94 2.06-2.06.94zm-11 1L8.5 8.5l.94-2.06 2.06-.94-2.06-.94L8.5 2.5l-.94 2.06-2.06.94zm10 10l.94 2.06.94-2.06 2.06-.94-2.06-.94-.94-2.06-.94 2.06-2.06.94z\"/><path d=\"M17.41 7.96l-1.37-1.37c-.4-.4-.92-.59-1.43-.59-.52 0-1.04.2-1.43.59L10.3 9.45l-7.72 7.72c-.78.78-.78 2.05 0 2.83L4 21.41c.39.39.9.59 1.41.59.51 0 1.02-.2 1.41-.59l7.78-7.78 2.81-2.81c.8-.78.8-2.07 0-2.86zM5.41 20L4 18.59l7.72-7.72 1.47 1.35L5.41 20z\"/>\n",
              "  </svg>\n",
              "      </button>\n",
              "      \n",
              "  <style>\n",
              "    .colab-df-container {\n",
              "      display:flex;\n",
              "      flex-wrap:wrap;\n",
              "      gap: 12px;\n",
              "    }\n",
              "\n",
              "    .colab-df-convert {\n",
              "      background-color: #E8F0FE;\n",
              "      border: none;\n",
              "      border-radius: 50%;\n",
              "      cursor: pointer;\n",
              "      display: none;\n",
              "      fill: #1967D2;\n",
              "      height: 32px;\n",
              "      padding: 0 0 0 0;\n",
              "      width: 32px;\n",
              "    }\n",
              "\n",
              "    .colab-df-convert:hover {\n",
              "      background-color: #E2EBFA;\n",
              "      box-shadow: 0px 1px 2px rgba(60, 64, 67, 0.3), 0px 1px 3px 1px rgba(60, 64, 67, 0.15);\n",
              "      fill: #174EA6;\n",
              "    }\n",
              "\n",
              "    [theme=dark] .colab-df-convert {\n",
              "      background-color: #3B4455;\n",
              "      fill: #D2E3FC;\n",
              "    }\n",
              "\n",
              "    [theme=dark] .colab-df-convert:hover {\n",
              "      background-color: #434B5C;\n",
              "      box-shadow: 0px 1px 3px 1px rgba(0, 0, 0, 0.15);\n",
              "      filter: drop-shadow(0px 1px 2px rgba(0, 0, 0, 0.3));\n",
              "      fill: #FFFFFF;\n",
              "    }\n",
              "  </style>\n",
              "\n",
              "      <script>\n",
              "        const buttonEl =\n",
              "          document.querySelector('#df-bf54988a-28c5-496c-8684-fefc7991663f button.colab-df-convert');\n",
              "        buttonEl.style.display =\n",
              "          google.colab.kernel.accessAllowed ? 'block' : 'none';\n",
              "\n",
              "        async function convertToInteractive(key) {\n",
              "          const element = document.querySelector('#df-bf54988a-28c5-496c-8684-fefc7991663f');\n",
              "          const dataTable =\n",
              "            await google.colab.kernel.invokeFunction('convertToInteractive',\n",
              "                                                     [key], {});\n",
              "          if (!dataTable) return;\n",
              "\n",
              "          const docLinkHtml = 'Like what you see? Visit the ' +\n",
              "            '<a target=\"_blank\" href=https://colab.research.google.com/notebooks/data_table.ipynb>data table notebook</a>'\n",
              "            + ' to learn more about interactive tables.';\n",
              "          element.innerHTML = '';\n",
              "          dataTable['output_type'] = 'display_data';\n",
              "          await google.colab.output.renderOutput(dataTable, element);\n",
              "          const docLink = document.createElement('div');\n",
              "          docLink.innerHTML = docLinkHtml;\n",
              "          element.appendChild(docLink);\n",
              "        }\n",
              "      </script>\n",
              "    </div>\n",
              "  </div>\n",
              "  "
            ]
          },
          "metadata": {},
          "execution_count": 7
        }
      ]
    },
    {
      "cell_type": "markdown",
      "source": [
        "### Hay un desface en la data, se separan en df_target y df predic, se usa merge con date como llave"
      ],
      "metadata": {
        "id": "TXQFTheGsSOe"
      }
    },
    {
      "cell_type": "code",
      "source": [
        "df_target=df[['flow_dates','flow']]\n",
        "df_target.sort_values(by='flow_dates')\n",
        "df_target=df_target.dropna()\n",
        "df_target"
      ],
      "metadata": {
        "colab": {
          "base_uri": "https://localhost:8080/",
          "height": 424
        },
        "id": "NUuPUocyoIVg",
        "outputId": "339b5e7c-9b82-4617-912f-e824ea25f7f0"
      },
      "execution_count": 8,
      "outputs": [
        {
          "output_type": "execute_result",
          "data": {
            "text/plain": [
              "      flow_dates      flow\n",
              "0     1958-01-04  1.723781\n",
              "1     1958-01-05  0.960882\n",
              "2     1958-01-06     0.001\n",
              "3     1958-01-07     0.001\n",
              "4     1958-01-08  0.316796\n",
              "...          ...       ...\n",
              "21537 2016-12-22   4.84329\n",
              "21538 2016-12-23   3.75697\n",
              "21539 2016-12-24  3.556818\n",
              "21540 2016-12-25  3.402133\n",
              "21541 2016-12-26  1.812796\n",
              "\n",
              "[21542 rows x 2 columns]"
            ],
            "text/html": [
              "\n",
              "  <div id=\"df-f0a62ed2-8602-415b-bec5-37d6c1eb162d\">\n",
              "    <div class=\"colab-df-container\">\n",
              "      <div>\n",
              "<style scoped>\n",
              "    .dataframe tbody tr th:only-of-type {\n",
              "        vertical-align: middle;\n",
              "    }\n",
              "\n",
              "    .dataframe tbody tr th {\n",
              "        vertical-align: top;\n",
              "    }\n",
              "\n",
              "    .dataframe thead th {\n",
              "        text-align: right;\n",
              "    }\n",
              "</style>\n",
              "<table border=\"1\" class=\"dataframe\">\n",
              "  <thead>\n",
              "    <tr style=\"text-align: right;\">\n",
              "      <th></th>\n",
              "      <th>flow_dates</th>\n",
              "      <th>flow</th>\n",
              "    </tr>\n",
              "  </thead>\n",
              "  <tbody>\n",
              "    <tr>\n",
              "      <th>0</th>\n",
              "      <td>1958-01-04</td>\n",
              "      <td>1.723781</td>\n",
              "    </tr>\n",
              "    <tr>\n",
              "      <th>1</th>\n",
              "      <td>1958-01-05</td>\n",
              "      <td>0.960882</td>\n",
              "    </tr>\n",
              "    <tr>\n",
              "      <th>2</th>\n",
              "      <td>1958-01-06</td>\n",
              "      <td>0.001</td>\n",
              "    </tr>\n",
              "    <tr>\n",
              "      <th>3</th>\n",
              "      <td>1958-01-07</td>\n",
              "      <td>0.001</td>\n",
              "    </tr>\n",
              "    <tr>\n",
              "      <th>4</th>\n",
              "      <td>1958-01-08</td>\n",
              "      <td>0.316796</td>\n",
              "    </tr>\n",
              "    <tr>\n",
              "      <th>...</th>\n",
              "      <td>...</td>\n",
              "      <td>...</td>\n",
              "    </tr>\n",
              "    <tr>\n",
              "      <th>21537</th>\n",
              "      <td>2016-12-22</td>\n",
              "      <td>4.84329</td>\n",
              "    </tr>\n",
              "    <tr>\n",
              "      <th>21538</th>\n",
              "      <td>2016-12-23</td>\n",
              "      <td>3.75697</td>\n",
              "    </tr>\n",
              "    <tr>\n",
              "      <th>21539</th>\n",
              "      <td>2016-12-24</td>\n",
              "      <td>3.556818</td>\n",
              "    </tr>\n",
              "    <tr>\n",
              "      <th>21540</th>\n",
              "      <td>2016-12-25</td>\n",
              "      <td>3.402133</td>\n",
              "    </tr>\n",
              "    <tr>\n",
              "      <th>21541</th>\n",
              "      <td>2016-12-26</td>\n",
              "      <td>1.812796</td>\n",
              "    </tr>\n",
              "  </tbody>\n",
              "</table>\n",
              "<p>21542 rows × 2 columns</p>\n",
              "</div>\n",
              "      <button class=\"colab-df-convert\" onclick=\"convertToInteractive('df-f0a62ed2-8602-415b-bec5-37d6c1eb162d')\"\n",
              "              title=\"Convert this dataframe to an interactive table.\"\n",
              "              style=\"display:none;\">\n",
              "        \n",
              "  <svg xmlns=\"http://www.w3.org/2000/svg\" height=\"24px\"viewBox=\"0 0 24 24\"\n",
              "       width=\"24px\">\n",
              "    <path d=\"M0 0h24v24H0V0z\" fill=\"none\"/>\n",
              "    <path d=\"M18.56 5.44l.94 2.06.94-2.06 2.06-.94-2.06-.94-.94-2.06-.94 2.06-2.06.94zm-11 1L8.5 8.5l.94-2.06 2.06-.94-2.06-.94L8.5 2.5l-.94 2.06-2.06.94zm10 10l.94 2.06.94-2.06 2.06-.94-2.06-.94-.94-2.06-.94 2.06-2.06.94z\"/><path d=\"M17.41 7.96l-1.37-1.37c-.4-.4-.92-.59-1.43-.59-.52 0-1.04.2-1.43.59L10.3 9.45l-7.72 7.72c-.78.78-.78 2.05 0 2.83L4 21.41c.39.39.9.59 1.41.59.51 0 1.02-.2 1.41-.59l7.78-7.78 2.81-2.81c.8-.78.8-2.07 0-2.86zM5.41 20L4 18.59l7.72-7.72 1.47 1.35L5.41 20z\"/>\n",
              "  </svg>\n",
              "      </button>\n",
              "      \n",
              "  <style>\n",
              "    .colab-df-container {\n",
              "      display:flex;\n",
              "      flex-wrap:wrap;\n",
              "      gap: 12px;\n",
              "    }\n",
              "\n",
              "    .colab-df-convert {\n",
              "      background-color: #E8F0FE;\n",
              "      border: none;\n",
              "      border-radius: 50%;\n",
              "      cursor: pointer;\n",
              "      display: none;\n",
              "      fill: #1967D2;\n",
              "      height: 32px;\n",
              "      padding: 0 0 0 0;\n",
              "      width: 32px;\n",
              "    }\n",
              "\n",
              "    .colab-df-convert:hover {\n",
              "      background-color: #E2EBFA;\n",
              "      box-shadow: 0px 1px 2px rgba(60, 64, 67, 0.3), 0px 1px 3px 1px rgba(60, 64, 67, 0.15);\n",
              "      fill: #174EA6;\n",
              "    }\n",
              "\n",
              "    [theme=dark] .colab-df-convert {\n",
              "      background-color: #3B4455;\n",
              "      fill: #D2E3FC;\n",
              "    }\n",
              "\n",
              "    [theme=dark] .colab-df-convert:hover {\n",
              "      background-color: #434B5C;\n",
              "      box-shadow: 0px 1px 3px 1px rgba(0, 0, 0, 0.15);\n",
              "      filter: drop-shadow(0px 1px 2px rgba(0, 0, 0, 0.3));\n",
              "      fill: #FFFFFF;\n",
              "    }\n",
              "  </style>\n",
              "\n",
              "      <script>\n",
              "        const buttonEl =\n",
              "          document.querySelector('#df-f0a62ed2-8602-415b-bec5-37d6c1eb162d button.colab-df-convert');\n",
              "        buttonEl.style.display =\n",
              "          google.colab.kernel.accessAllowed ? 'block' : 'none';\n",
              "\n",
              "        async function convertToInteractive(key) {\n",
              "          const element = document.querySelector('#df-f0a62ed2-8602-415b-bec5-37d6c1eb162d');\n",
              "          const dataTable =\n",
              "            await google.colab.kernel.invokeFunction('convertToInteractive',\n",
              "                                                     [key], {});\n",
              "          if (!dataTable) return;\n",
              "\n",
              "          const docLinkHtml = 'Like what you see? Visit the ' +\n",
              "            '<a target=\"_blank\" href=https://colab.research.google.com/notebooks/data_table.ipynb>data table notebook</a>'\n",
              "            + ' to learn more about interactive tables.';\n",
              "          element.innerHTML = '';\n",
              "          dataTable['output_type'] = 'display_data';\n",
              "          await google.colab.output.renderOutput(dataTable, element);\n",
              "          const docLink = document.createElement('div');\n",
              "          docLink.innerHTML = docLinkHtml;\n",
              "          element.appendChild(docLink);\n",
              "        }\n",
              "      </script>\n",
              "    </div>\n",
              "  </div>\n",
              "  "
            ]
          },
          "metadata": {},
          "execution_count": 8
        }
      ]
    },
    {
      "cell_type": "code",
      "source": [
        "df_predic=df[['obs_dates','obs_tas','obs_pr']]\n",
        "df_predic.sort_values(by='obs_dates')\n",
        "df_predic=df_predic.dropna()\n",
        "df_predic\n"
      ],
      "metadata": {
        "colab": {
          "base_uri": "https://localhost:8080/",
          "height": 424
        },
        "id": "c0L29Nu_ryaQ",
        "outputId": "c407b6ba-60fd-452f-9acb-6a228bd2db67"
      },
      "execution_count": 9,
      "outputs": [
        {
          "output_type": "execute_result",
          "data": {
            "text/plain": [
              "       obs_dates                                            obs_tas  \\\n",
              "0     1957-01-01  [-10.600000381469727, -9.699999809265137, -6.6...   \n",
              "1     1957-01-02  [-20.5, -19.100000381469727, -12.0, -17.700000...   \n",
              "2     1957-01-03  [-23.600000381469727, -22.5, -15.1000003814697...   \n",
              "3     1957-01-04  [-16.200000762939453, -16.0, -14.1000003814697...   \n",
              "4     1957-01-05  [-7.900000095367432, -7.800000190734863, -9.5,...   \n",
              "...          ...                                                ...   \n",
              "21541 2015-12-27  [-12.5, -11.699999809265137, -8.60000038146972...   \n",
              "21542 2015-12-28  [-12.5, -11.899999618530273, -9.10000038146972...   \n",
              "21543 2015-12-29  [-11.899999618530273, -11.399999618530273, -8....   \n",
              "21544 2015-12-30  [-7.0, -6.5, -3.4000000953674316, -5.900000095...   \n",
              "21545 2015-12-31  [-2.4000000953674316, -2.0999999046325684, 1.2...   \n",
              "\n",
              "                                                  obs_pr  \n",
              "0      [0.0, 0.0, 0.0, 0.0, 0.0, 0.0, 0.0, 0.10000000...  \n",
              "1      [0.0, 0.0, 0.0, 0.0, 0.0, 0.0, 0.0, 0.20000000...  \n",
              "2      [0.10000000149011612, 0.0, 0.30000001192092896...  \n",
              "3      [1.0, 0.0, 1.0, 1.100000023841858, 0.899999976...  \n",
              "4      [9.300000190734863, 8.600000381469727, 8.0, 8....  \n",
              "...                                                  ...  \n",
              "21541  [2.200000047683716, 0.10000000149011612, 1.100...  \n",
              "21542  [5.5, 4.900000095367432, 8.300000190734863, 6....  \n",
              "21543  [1.7999999523162842, 1.7000000476837158, 2.099...  \n",
              "21544  [4.099999904632568, 3.5, 4.599999904632568, 5....  \n",
              "21545  [6.400000095367432, 7.400000095367432, 8.5, 8....  \n",
              "\n",
              "[21546 rows x 3 columns]"
            ],
            "text/html": [
              "\n",
              "  <div id=\"df-eda7cc0c-bc63-4fcf-bd27-3d8be6b04c56\">\n",
              "    <div class=\"colab-df-container\">\n",
              "      <div>\n",
              "<style scoped>\n",
              "    .dataframe tbody tr th:only-of-type {\n",
              "        vertical-align: middle;\n",
              "    }\n",
              "\n",
              "    .dataframe tbody tr th {\n",
              "        vertical-align: top;\n",
              "    }\n",
              "\n",
              "    .dataframe thead th {\n",
              "        text-align: right;\n",
              "    }\n",
              "</style>\n",
              "<table border=\"1\" class=\"dataframe\">\n",
              "  <thead>\n",
              "    <tr style=\"text-align: right;\">\n",
              "      <th></th>\n",
              "      <th>obs_dates</th>\n",
              "      <th>obs_tas</th>\n",
              "      <th>obs_pr</th>\n",
              "    </tr>\n",
              "  </thead>\n",
              "  <tbody>\n",
              "    <tr>\n",
              "      <th>0</th>\n",
              "      <td>1957-01-01</td>\n",
              "      <td>[-10.600000381469727, -9.699999809265137, -6.6...</td>\n",
              "      <td>[0.0, 0.0, 0.0, 0.0, 0.0, 0.0, 0.0, 0.10000000...</td>\n",
              "    </tr>\n",
              "    <tr>\n",
              "      <th>1</th>\n",
              "      <td>1957-01-02</td>\n",
              "      <td>[-20.5, -19.100000381469727, -12.0, -17.700000...</td>\n",
              "      <td>[0.0, 0.0, 0.0, 0.0, 0.0, 0.0, 0.0, 0.20000000...</td>\n",
              "    </tr>\n",
              "    <tr>\n",
              "      <th>2</th>\n",
              "      <td>1957-01-03</td>\n",
              "      <td>[-23.600000381469727, -22.5, -15.1000003814697...</td>\n",
              "      <td>[0.10000000149011612, 0.0, 0.30000001192092896...</td>\n",
              "    </tr>\n",
              "    <tr>\n",
              "      <th>3</th>\n",
              "      <td>1957-01-04</td>\n",
              "      <td>[-16.200000762939453, -16.0, -14.1000003814697...</td>\n",
              "      <td>[1.0, 0.0, 1.0, 1.100000023841858, 0.899999976...</td>\n",
              "    </tr>\n",
              "    <tr>\n",
              "      <th>4</th>\n",
              "      <td>1957-01-05</td>\n",
              "      <td>[-7.900000095367432, -7.800000190734863, -9.5,...</td>\n",
              "      <td>[9.300000190734863, 8.600000381469727, 8.0, 8....</td>\n",
              "    </tr>\n",
              "    <tr>\n",
              "      <th>...</th>\n",
              "      <td>...</td>\n",
              "      <td>...</td>\n",
              "      <td>...</td>\n",
              "    </tr>\n",
              "    <tr>\n",
              "      <th>21541</th>\n",
              "      <td>2015-12-27</td>\n",
              "      <td>[-12.5, -11.699999809265137, -8.60000038146972...</td>\n",
              "      <td>[2.200000047683716, 0.10000000149011612, 1.100...</td>\n",
              "    </tr>\n",
              "    <tr>\n",
              "      <th>21542</th>\n",
              "      <td>2015-12-28</td>\n",
              "      <td>[-12.5, -11.899999618530273, -9.10000038146972...</td>\n",
              "      <td>[5.5, 4.900000095367432, 8.300000190734863, 6....</td>\n",
              "    </tr>\n",
              "    <tr>\n",
              "      <th>21543</th>\n",
              "      <td>2015-12-29</td>\n",
              "      <td>[-11.899999618530273, -11.399999618530273, -8....</td>\n",
              "      <td>[1.7999999523162842, 1.7000000476837158, 2.099...</td>\n",
              "    </tr>\n",
              "    <tr>\n",
              "      <th>21544</th>\n",
              "      <td>2015-12-30</td>\n",
              "      <td>[-7.0, -6.5, -3.4000000953674316, -5.900000095...</td>\n",
              "      <td>[4.099999904632568, 3.5, 4.599999904632568, 5....</td>\n",
              "    </tr>\n",
              "    <tr>\n",
              "      <th>21545</th>\n",
              "      <td>2015-12-31</td>\n",
              "      <td>[-2.4000000953674316, -2.0999999046325684, 1.2...</td>\n",
              "      <td>[6.400000095367432, 7.400000095367432, 8.5, 8....</td>\n",
              "    </tr>\n",
              "  </tbody>\n",
              "</table>\n",
              "<p>21546 rows × 3 columns</p>\n",
              "</div>\n",
              "      <button class=\"colab-df-convert\" onclick=\"convertToInteractive('df-eda7cc0c-bc63-4fcf-bd27-3d8be6b04c56')\"\n",
              "              title=\"Convert this dataframe to an interactive table.\"\n",
              "              style=\"display:none;\">\n",
              "        \n",
              "  <svg xmlns=\"http://www.w3.org/2000/svg\" height=\"24px\"viewBox=\"0 0 24 24\"\n",
              "       width=\"24px\">\n",
              "    <path d=\"M0 0h24v24H0V0z\" fill=\"none\"/>\n",
              "    <path d=\"M18.56 5.44l.94 2.06.94-2.06 2.06-.94-2.06-.94-.94-2.06-.94 2.06-2.06.94zm-11 1L8.5 8.5l.94-2.06 2.06-.94-2.06-.94L8.5 2.5l-.94 2.06-2.06.94zm10 10l.94 2.06.94-2.06 2.06-.94-2.06-.94-.94-2.06-.94 2.06-2.06.94z\"/><path d=\"M17.41 7.96l-1.37-1.37c-.4-.4-.92-.59-1.43-.59-.52 0-1.04.2-1.43.59L10.3 9.45l-7.72 7.72c-.78.78-.78 2.05 0 2.83L4 21.41c.39.39.9.59 1.41.59.51 0 1.02-.2 1.41-.59l7.78-7.78 2.81-2.81c.8-.78.8-2.07 0-2.86zM5.41 20L4 18.59l7.72-7.72 1.47 1.35L5.41 20z\"/>\n",
              "  </svg>\n",
              "      </button>\n",
              "      \n",
              "  <style>\n",
              "    .colab-df-container {\n",
              "      display:flex;\n",
              "      flex-wrap:wrap;\n",
              "      gap: 12px;\n",
              "    }\n",
              "\n",
              "    .colab-df-convert {\n",
              "      background-color: #E8F0FE;\n",
              "      border: none;\n",
              "      border-radius: 50%;\n",
              "      cursor: pointer;\n",
              "      display: none;\n",
              "      fill: #1967D2;\n",
              "      height: 32px;\n",
              "      padding: 0 0 0 0;\n",
              "      width: 32px;\n",
              "    }\n",
              "\n",
              "    .colab-df-convert:hover {\n",
              "      background-color: #E2EBFA;\n",
              "      box-shadow: 0px 1px 2px rgba(60, 64, 67, 0.3), 0px 1px 3px 1px rgba(60, 64, 67, 0.15);\n",
              "      fill: #174EA6;\n",
              "    }\n",
              "\n",
              "    [theme=dark] .colab-df-convert {\n",
              "      background-color: #3B4455;\n",
              "      fill: #D2E3FC;\n",
              "    }\n",
              "\n",
              "    [theme=dark] .colab-df-convert:hover {\n",
              "      background-color: #434B5C;\n",
              "      box-shadow: 0px 1px 3px 1px rgba(0, 0, 0, 0.15);\n",
              "      filter: drop-shadow(0px 1px 2px rgba(0, 0, 0, 0.3));\n",
              "      fill: #FFFFFF;\n",
              "    }\n",
              "  </style>\n",
              "\n",
              "      <script>\n",
              "        const buttonEl =\n",
              "          document.querySelector('#df-eda7cc0c-bc63-4fcf-bd27-3d8be6b04c56 button.colab-df-convert');\n",
              "        buttonEl.style.display =\n",
              "          google.colab.kernel.accessAllowed ? 'block' : 'none';\n",
              "\n",
              "        async function convertToInteractive(key) {\n",
              "          const element = document.querySelector('#df-eda7cc0c-bc63-4fcf-bd27-3d8be6b04c56');\n",
              "          const dataTable =\n",
              "            await google.colab.kernel.invokeFunction('convertToInteractive',\n",
              "                                                     [key], {});\n",
              "          if (!dataTable) return;\n",
              "\n",
              "          const docLinkHtml = 'Like what you see? Visit the ' +\n",
              "            '<a target=\"_blank\" href=https://colab.research.google.com/notebooks/data_table.ipynb>data table notebook</a>'\n",
              "            + ' to learn more about interactive tables.';\n",
              "          element.innerHTML = '';\n",
              "          dataTable['output_type'] = 'display_data';\n",
              "          await google.colab.output.renderOutput(dataTable, element);\n",
              "          const docLink = document.createElement('div');\n",
              "          docLink.innerHTML = docLinkHtml;\n",
              "          element.appendChild(docLink);\n",
              "        }\n",
              "      </script>\n",
              "    </div>\n",
              "  </div>\n",
              "  "
            ]
          },
          "metadata": {},
          "execution_count": 9
        }
      ]
    },
    {
      "cell_type": "markdown",
      "source": [
        "### Se hace el merge tomando como llaves las fechas, el resultado es un df con fechas que ya hacen match"
      ],
      "metadata": {
        "id": "2LgigK16vQyt"
      }
    },
    {
      "cell_type": "code",
      "source": [
        "df_final=df_predic.merge(df_target,how='inner',left_on='obs_dates',right_on='flow_dates')\n",
        "df_final"
      ],
      "metadata": {
        "colab": {
          "base_uri": "https://localhost:8080/",
          "height": 424
        },
        "id": "134KJ0xmslx_",
        "outputId": "7d8d1781-ad8b-464e-e169-332c5aee3e66"
      },
      "execution_count": 10,
      "outputs": [
        {
          "output_type": "execute_result",
          "data": {
            "text/plain": [
              "       obs_dates                                            obs_tas  \\\n",
              "0     1958-01-04  [-12.800000190734863, -13.0, -13.0, -12.5, -12...   \n",
              "1     1958-01-05  [-7.800000190734863, -7.900000095367432, -8.39...   \n",
              "2     1958-01-06  [-11.0, -9.899999618530273, -6.5, -8.5, -9.0, ...   \n",
              "3     1958-01-07  [-13.199999809265137, -12.199999809265137, -7....   \n",
              "4     1958-01-08  [-19.899999618530273, -19.299999237060547, -15...   \n",
              "...          ...                                                ...   \n",
              "21173 2015-12-27  [-12.5, -11.699999809265137, -8.60000038146972...   \n",
              "21174 2015-12-28  [-12.5, -11.899999618530273, -9.10000038146972...   \n",
              "21175 2015-12-29  [-11.899999618530273, -11.399999618530273, -8....   \n",
              "21176 2015-12-30  [-7.0, -6.5, -3.4000000953674316, -5.900000095...   \n",
              "21177 2015-12-31  [-2.4000000953674316, -2.0999999046325684, 1.2...   \n",
              "\n",
              "                                                  obs_pr flow_dates      flow  \n",
              "0          [0.0, 0.0, 0.0, 0.0, 0.0, 0.0, 0.0, 0.0, 0.0] 1958-01-04  1.723781  \n",
              "1      [2.0, 2.200000047683716, 3.0, 3.29999995231628... 1958-01-05  0.960882  \n",
              "2      [12.699999809265137, 11.0, 16.5, 12.5, 11.1999... 1958-01-06     0.001  \n",
              "3      [6.599999904632568, 6.900000095367432, 9.60000... 1958-01-07     0.001  \n",
              "4      [3.4000000953674316, 3.5999999046325684, 2.700... 1958-01-08  0.316796  \n",
              "...                                                  ...        ...       ...  \n",
              "21173  [2.200000047683716, 0.10000000149011612, 1.100... 2015-12-27   2.17704  \n",
              "21174  [5.5, 4.900000095367432, 8.300000190734863, 6.... 2015-12-28   4.87625  \n",
              "21175  [1.7999999523162842, 1.7000000476837158, 2.099... 2015-12-29   4.99884  \n",
              "21176  [4.099999904632568, 3.5, 4.599999904632568, 5.... 2015-12-30  4.428777  \n",
              "21177  [6.400000095367432, 7.400000095367432, 8.5, 8.... 2015-12-31  4.047925  \n",
              "\n",
              "[21178 rows x 5 columns]"
            ],
            "text/html": [
              "\n",
              "  <div id=\"df-eddd07c6-6939-44ce-82b2-b2943e0c226a\">\n",
              "    <div class=\"colab-df-container\">\n",
              "      <div>\n",
              "<style scoped>\n",
              "    .dataframe tbody tr th:only-of-type {\n",
              "        vertical-align: middle;\n",
              "    }\n",
              "\n",
              "    .dataframe tbody tr th {\n",
              "        vertical-align: top;\n",
              "    }\n",
              "\n",
              "    .dataframe thead th {\n",
              "        text-align: right;\n",
              "    }\n",
              "</style>\n",
              "<table border=\"1\" class=\"dataframe\">\n",
              "  <thead>\n",
              "    <tr style=\"text-align: right;\">\n",
              "      <th></th>\n",
              "      <th>obs_dates</th>\n",
              "      <th>obs_tas</th>\n",
              "      <th>obs_pr</th>\n",
              "      <th>flow_dates</th>\n",
              "      <th>flow</th>\n",
              "    </tr>\n",
              "  </thead>\n",
              "  <tbody>\n",
              "    <tr>\n",
              "      <th>0</th>\n",
              "      <td>1958-01-04</td>\n",
              "      <td>[-12.800000190734863, -13.0, -13.0, -12.5, -12...</td>\n",
              "      <td>[0.0, 0.0, 0.0, 0.0, 0.0, 0.0, 0.0, 0.0, 0.0]</td>\n",
              "      <td>1958-01-04</td>\n",
              "      <td>1.723781</td>\n",
              "    </tr>\n",
              "    <tr>\n",
              "      <th>1</th>\n",
              "      <td>1958-01-05</td>\n",
              "      <td>[-7.800000190734863, -7.900000095367432, -8.39...</td>\n",
              "      <td>[2.0, 2.200000047683716, 3.0, 3.29999995231628...</td>\n",
              "      <td>1958-01-05</td>\n",
              "      <td>0.960882</td>\n",
              "    </tr>\n",
              "    <tr>\n",
              "      <th>2</th>\n",
              "      <td>1958-01-06</td>\n",
              "      <td>[-11.0, -9.899999618530273, -6.5, -8.5, -9.0, ...</td>\n",
              "      <td>[12.699999809265137, 11.0, 16.5, 12.5, 11.1999...</td>\n",
              "      <td>1958-01-06</td>\n",
              "      <td>0.001</td>\n",
              "    </tr>\n",
              "    <tr>\n",
              "      <th>3</th>\n",
              "      <td>1958-01-07</td>\n",
              "      <td>[-13.199999809265137, -12.199999809265137, -7....</td>\n",
              "      <td>[6.599999904632568, 6.900000095367432, 9.60000...</td>\n",
              "      <td>1958-01-07</td>\n",
              "      <td>0.001</td>\n",
              "    </tr>\n",
              "    <tr>\n",
              "      <th>4</th>\n",
              "      <td>1958-01-08</td>\n",
              "      <td>[-19.899999618530273, -19.299999237060547, -15...</td>\n",
              "      <td>[3.4000000953674316, 3.5999999046325684, 2.700...</td>\n",
              "      <td>1958-01-08</td>\n",
              "      <td>0.316796</td>\n",
              "    </tr>\n",
              "    <tr>\n",
              "      <th>...</th>\n",
              "      <td>...</td>\n",
              "      <td>...</td>\n",
              "      <td>...</td>\n",
              "      <td>...</td>\n",
              "      <td>...</td>\n",
              "    </tr>\n",
              "    <tr>\n",
              "      <th>21173</th>\n",
              "      <td>2015-12-27</td>\n",
              "      <td>[-12.5, -11.699999809265137, -8.60000038146972...</td>\n",
              "      <td>[2.200000047683716, 0.10000000149011612, 1.100...</td>\n",
              "      <td>2015-12-27</td>\n",
              "      <td>2.17704</td>\n",
              "    </tr>\n",
              "    <tr>\n",
              "      <th>21174</th>\n",
              "      <td>2015-12-28</td>\n",
              "      <td>[-12.5, -11.899999618530273, -9.10000038146972...</td>\n",
              "      <td>[5.5, 4.900000095367432, 8.300000190734863, 6....</td>\n",
              "      <td>2015-12-28</td>\n",
              "      <td>4.87625</td>\n",
              "    </tr>\n",
              "    <tr>\n",
              "      <th>21175</th>\n",
              "      <td>2015-12-29</td>\n",
              "      <td>[-11.899999618530273, -11.399999618530273, -8....</td>\n",
              "      <td>[1.7999999523162842, 1.7000000476837158, 2.099...</td>\n",
              "      <td>2015-12-29</td>\n",
              "      <td>4.99884</td>\n",
              "    </tr>\n",
              "    <tr>\n",
              "      <th>21176</th>\n",
              "      <td>2015-12-30</td>\n",
              "      <td>[-7.0, -6.5, -3.4000000953674316, -5.900000095...</td>\n",
              "      <td>[4.099999904632568, 3.5, 4.599999904632568, 5....</td>\n",
              "      <td>2015-12-30</td>\n",
              "      <td>4.428777</td>\n",
              "    </tr>\n",
              "    <tr>\n",
              "      <th>21177</th>\n",
              "      <td>2015-12-31</td>\n",
              "      <td>[-2.4000000953674316, -2.0999999046325684, 1.2...</td>\n",
              "      <td>[6.400000095367432, 7.400000095367432, 8.5, 8....</td>\n",
              "      <td>2015-12-31</td>\n",
              "      <td>4.047925</td>\n",
              "    </tr>\n",
              "  </tbody>\n",
              "</table>\n",
              "<p>21178 rows × 5 columns</p>\n",
              "</div>\n",
              "      <button class=\"colab-df-convert\" onclick=\"convertToInteractive('df-eddd07c6-6939-44ce-82b2-b2943e0c226a')\"\n",
              "              title=\"Convert this dataframe to an interactive table.\"\n",
              "              style=\"display:none;\">\n",
              "        \n",
              "  <svg xmlns=\"http://www.w3.org/2000/svg\" height=\"24px\"viewBox=\"0 0 24 24\"\n",
              "       width=\"24px\">\n",
              "    <path d=\"M0 0h24v24H0V0z\" fill=\"none\"/>\n",
              "    <path d=\"M18.56 5.44l.94 2.06.94-2.06 2.06-.94-2.06-.94-.94-2.06-.94 2.06-2.06.94zm-11 1L8.5 8.5l.94-2.06 2.06-.94-2.06-.94L8.5 2.5l-.94 2.06-2.06.94zm10 10l.94 2.06.94-2.06 2.06-.94-2.06-.94-.94-2.06-.94 2.06-2.06.94z\"/><path d=\"M17.41 7.96l-1.37-1.37c-.4-.4-.92-.59-1.43-.59-.52 0-1.04.2-1.43.59L10.3 9.45l-7.72 7.72c-.78.78-.78 2.05 0 2.83L4 21.41c.39.39.9.59 1.41.59.51 0 1.02-.2 1.41-.59l7.78-7.78 2.81-2.81c.8-.78.8-2.07 0-2.86zM5.41 20L4 18.59l7.72-7.72 1.47 1.35L5.41 20z\"/>\n",
              "  </svg>\n",
              "      </button>\n",
              "      \n",
              "  <style>\n",
              "    .colab-df-container {\n",
              "      display:flex;\n",
              "      flex-wrap:wrap;\n",
              "      gap: 12px;\n",
              "    }\n",
              "\n",
              "    .colab-df-convert {\n",
              "      background-color: #E8F0FE;\n",
              "      border: none;\n",
              "      border-radius: 50%;\n",
              "      cursor: pointer;\n",
              "      display: none;\n",
              "      fill: #1967D2;\n",
              "      height: 32px;\n",
              "      padding: 0 0 0 0;\n",
              "      width: 32px;\n",
              "    }\n",
              "\n",
              "    .colab-df-convert:hover {\n",
              "      background-color: #E2EBFA;\n",
              "      box-shadow: 0px 1px 2px rgba(60, 64, 67, 0.3), 0px 1px 3px 1px rgba(60, 64, 67, 0.15);\n",
              "      fill: #174EA6;\n",
              "    }\n",
              "\n",
              "    [theme=dark] .colab-df-convert {\n",
              "      background-color: #3B4455;\n",
              "      fill: #D2E3FC;\n",
              "    }\n",
              "\n",
              "    [theme=dark] .colab-df-convert:hover {\n",
              "      background-color: #434B5C;\n",
              "      box-shadow: 0px 1px 3px 1px rgba(0, 0, 0, 0.15);\n",
              "      filter: drop-shadow(0px 1px 2px rgba(0, 0, 0, 0.3));\n",
              "      fill: #FFFFFF;\n",
              "    }\n",
              "  </style>\n",
              "\n",
              "      <script>\n",
              "        const buttonEl =\n",
              "          document.querySelector('#df-eddd07c6-6939-44ce-82b2-b2943e0c226a button.colab-df-convert');\n",
              "        buttonEl.style.display =\n",
              "          google.colab.kernel.accessAllowed ? 'block' : 'none';\n",
              "\n",
              "        async function convertToInteractive(key) {\n",
              "          const element = document.querySelector('#df-eddd07c6-6939-44ce-82b2-b2943e0c226a');\n",
              "          const dataTable =\n",
              "            await google.colab.kernel.invokeFunction('convertToInteractive',\n",
              "                                                     [key], {});\n",
              "          if (!dataTable) return;\n",
              "\n",
              "          const docLinkHtml = 'Like what you see? Visit the ' +\n",
              "            '<a target=\"_blank\" href=https://colab.research.google.com/notebooks/data_table.ipynb>data table notebook</a>'\n",
              "            + ' to learn more about interactive tables.';\n",
              "          element.innerHTML = '';\n",
              "          dataTable['output_type'] = 'display_data';\n",
              "          await google.colab.output.renderOutput(dataTable, element);\n",
              "          const docLink = document.createElement('div');\n",
              "          docLink.innerHTML = docLinkHtml;\n",
              "          element.appendChild(docLink);\n",
              "        }\n",
              "      </script>\n",
              "    </div>\n",
              "  </div>\n",
              "  "
            ]
          },
          "metadata": {},
          "execution_count": 10
        }
      ]
    },
    {
      "cell_type": "markdown",
      "source": [
        "### Climate AI sugiere usar o PCA o simplemente promediar los datos vectorizados en lugar de tratarlos como variables distintas"
      ],
      "metadata": {
        "id": "iI3oE9aoveG9"
      }
    },
    {
      "cell_type": "code",
      "source": [
        "df_final['temperatures'] = df_final['obs_tas'].apply(lambda x: np.mean(x))\n",
        "df_final"
      ],
      "metadata": {
        "id": "v10JkLX-vmmf",
        "colab": {
          "base_uri": "https://localhost:8080/",
          "height": 424
        },
        "outputId": "dc496f0c-a073-4983-f235-9fb0720a80f8"
      },
      "execution_count": 11,
      "outputs": [
        {
          "output_type": "execute_result",
          "data": {
            "text/plain": [
              "       obs_dates                                            obs_tas  \\\n",
              "0     1958-01-04  [-12.800000190734863, -13.0, -13.0, -12.5, -12...   \n",
              "1     1958-01-05  [-7.800000190734863, -7.900000095367432, -8.39...   \n",
              "2     1958-01-06  [-11.0, -9.899999618530273, -6.5, -8.5, -9.0, ...   \n",
              "3     1958-01-07  [-13.199999809265137, -12.199999809265137, -7....   \n",
              "4     1958-01-08  [-19.899999618530273, -19.299999237060547, -15...   \n",
              "...          ...                                                ...   \n",
              "21173 2015-12-27  [-12.5, -11.699999809265137, -8.60000038146972...   \n",
              "21174 2015-12-28  [-12.5, -11.899999618530273, -9.10000038146972...   \n",
              "21175 2015-12-29  [-11.899999618530273, -11.399999618530273, -8....   \n",
              "21176 2015-12-30  [-7.0, -6.5, -3.4000000953674316, -5.900000095...   \n",
              "21177 2015-12-31  [-2.4000000953674316, -2.0999999046325684, 1.2...   \n",
              "\n",
              "                                                  obs_pr flow_dates      flow  \\\n",
              "0          [0.0, 0.0, 0.0, 0.0, 0.0, 0.0, 0.0, 0.0, 0.0] 1958-01-04  1.723781   \n",
              "1      [2.0, 2.200000047683716, 3.0, 3.29999995231628... 1958-01-05  0.960882   \n",
              "2      [12.699999809265137, 11.0, 16.5, 12.5, 11.1999... 1958-01-06     0.001   \n",
              "3      [6.599999904632568, 6.900000095367432, 9.60000... 1958-01-07     0.001   \n",
              "4      [3.4000000953674316, 3.5999999046325684, 2.700... 1958-01-08  0.316796   \n",
              "...                                                  ...        ...       ...   \n",
              "21173  [2.200000047683716, 0.10000000149011612, 1.100... 2015-12-27   2.17704   \n",
              "21174  [5.5, 4.900000095367432, 8.300000190734863, 6.... 2015-12-28   4.87625   \n",
              "21175  [1.7999999523162842, 1.7000000476837158, 2.099... 2015-12-29   4.99884   \n",
              "21176  [4.099999904632568, 3.5, 4.599999904632568, 5.... 2015-12-30  4.428777   \n",
              "21177  [6.400000095367432, 7.400000095367432, 8.5, 8.... 2015-12-31  4.047925   \n",
              "\n",
              "       temperatures  \n",
              "0        -12.655556  \n",
              "1         -7.722222  \n",
              "2         -8.088889  \n",
              "3        -10.122222  \n",
              "4        -17.455555  \n",
              "...             ...  \n",
              "21173     -9.944444  \n",
              "21174    -10.288889  \n",
              "21175     -9.411111  \n",
              "21176     -5.055556  \n",
              "21177     -0.733333  \n",
              "\n",
              "[21178 rows x 6 columns]"
            ],
            "text/html": [
              "\n",
              "  <div id=\"df-af4ab950-c71e-4a9a-83cf-2dfec3200cba\">\n",
              "    <div class=\"colab-df-container\">\n",
              "      <div>\n",
              "<style scoped>\n",
              "    .dataframe tbody tr th:only-of-type {\n",
              "        vertical-align: middle;\n",
              "    }\n",
              "\n",
              "    .dataframe tbody tr th {\n",
              "        vertical-align: top;\n",
              "    }\n",
              "\n",
              "    .dataframe thead th {\n",
              "        text-align: right;\n",
              "    }\n",
              "</style>\n",
              "<table border=\"1\" class=\"dataframe\">\n",
              "  <thead>\n",
              "    <tr style=\"text-align: right;\">\n",
              "      <th></th>\n",
              "      <th>obs_dates</th>\n",
              "      <th>obs_tas</th>\n",
              "      <th>obs_pr</th>\n",
              "      <th>flow_dates</th>\n",
              "      <th>flow</th>\n",
              "      <th>temperatures</th>\n",
              "    </tr>\n",
              "  </thead>\n",
              "  <tbody>\n",
              "    <tr>\n",
              "      <th>0</th>\n",
              "      <td>1958-01-04</td>\n",
              "      <td>[-12.800000190734863, -13.0, -13.0, -12.5, -12...</td>\n",
              "      <td>[0.0, 0.0, 0.0, 0.0, 0.0, 0.0, 0.0, 0.0, 0.0]</td>\n",
              "      <td>1958-01-04</td>\n",
              "      <td>1.723781</td>\n",
              "      <td>-12.655556</td>\n",
              "    </tr>\n",
              "    <tr>\n",
              "      <th>1</th>\n",
              "      <td>1958-01-05</td>\n",
              "      <td>[-7.800000190734863, -7.900000095367432, -8.39...</td>\n",
              "      <td>[2.0, 2.200000047683716, 3.0, 3.29999995231628...</td>\n",
              "      <td>1958-01-05</td>\n",
              "      <td>0.960882</td>\n",
              "      <td>-7.722222</td>\n",
              "    </tr>\n",
              "    <tr>\n",
              "      <th>2</th>\n",
              "      <td>1958-01-06</td>\n",
              "      <td>[-11.0, -9.899999618530273, -6.5, -8.5, -9.0, ...</td>\n",
              "      <td>[12.699999809265137, 11.0, 16.5, 12.5, 11.1999...</td>\n",
              "      <td>1958-01-06</td>\n",
              "      <td>0.001</td>\n",
              "      <td>-8.088889</td>\n",
              "    </tr>\n",
              "    <tr>\n",
              "      <th>3</th>\n",
              "      <td>1958-01-07</td>\n",
              "      <td>[-13.199999809265137, -12.199999809265137, -7....</td>\n",
              "      <td>[6.599999904632568, 6.900000095367432, 9.60000...</td>\n",
              "      <td>1958-01-07</td>\n",
              "      <td>0.001</td>\n",
              "      <td>-10.122222</td>\n",
              "    </tr>\n",
              "    <tr>\n",
              "      <th>4</th>\n",
              "      <td>1958-01-08</td>\n",
              "      <td>[-19.899999618530273, -19.299999237060547, -15...</td>\n",
              "      <td>[3.4000000953674316, 3.5999999046325684, 2.700...</td>\n",
              "      <td>1958-01-08</td>\n",
              "      <td>0.316796</td>\n",
              "      <td>-17.455555</td>\n",
              "    </tr>\n",
              "    <tr>\n",
              "      <th>...</th>\n",
              "      <td>...</td>\n",
              "      <td>...</td>\n",
              "      <td>...</td>\n",
              "      <td>...</td>\n",
              "      <td>...</td>\n",
              "      <td>...</td>\n",
              "    </tr>\n",
              "    <tr>\n",
              "      <th>21173</th>\n",
              "      <td>2015-12-27</td>\n",
              "      <td>[-12.5, -11.699999809265137, -8.60000038146972...</td>\n",
              "      <td>[2.200000047683716, 0.10000000149011612, 1.100...</td>\n",
              "      <td>2015-12-27</td>\n",
              "      <td>2.17704</td>\n",
              "      <td>-9.944444</td>\n",
              "    </tr>\n",
              "    <tr>\n",
              "      <th>21174</th>\n",
              "      <td>2015-12-28</td>\n",
              "      <td>[-12.5, -11.899999618530273, -9.10000038146972...</td>\n",
              "      <td>[5.5, 4.900000095367432, 8.300000190734863, 6....</td>\n",
              "      <td>2015-12-28</td>\n",
              "      <td>4.87625</td>\n",
              "      <td>-10.288889</td>\n",
              "    </tr>\n",
              "    <tr>\n",
              "      <th>21175</th>\n",
              "      <td>2015-12-29</td>\n",
              "      <td>[-11.899999618530273, -11.399999618530273, -8....</td>\n",
              "      <td>[1.7999999523162842, 1.7000000476837158, 2.099...</td>\n",
              "      <td>2015-12-29</td>\n",
              "      <td>4.99884</td>\n",
              "      <td>-9.411111</td>\n",
              "    </tr>\n",
              "    <tr>\n",
              "      <th>21176</th>\n",
              "      <td>2015-12-30</td>\n",
              "      <td>[-7.0, -6.5, -3.4000000953674316, -5.900000095...</td>\n",
              "      <td>[4.099999904632568, 3.5, 4.599999904632568, 5....</td>\n",
              "      <td>2015-12-30</td>\n",
              "      <td>4.428777</td>\n",
              "      <td>-5.055556</td>\n",
              "    </tr>\n",
              "    <tr>\n",
              "      <th>21177</th>\n",
              "      <td>2015-12-31</td>\n",
              "      <td>[-2.4000000953674316, -2.0999999046325684, 1.2...</td>\n",
              "      <td>[6.400000095367432, 7.400000095367432, 8.5, 8....</td>\n",
              "      <td>2015-12-31</td>\n",
              "      <td>4.047925</td>\n",
              "      <td>-0.733333</td>\n",
              "    </tr>\n",
              "  </tbody>\n",
              "</table>\n",
              "<p>21178 rows × 6 columns</p>\n",
              "</div>\n",
              "      <button class=\"colab-df-convert\" onclick=\"convertToInteractive('df-af4ab950-c71e-4a9a-83cf-2dfec3200cba')\"\n",
              "              title=\"Convert this dataframe to an interactive table.\"\n",
              "              style=\"display:none;\">\n",
              "        \n",
              "  <svg xmlns=\"http://www.w3.org/2000/svg\" height=\"24px\"viewBox=\"0 0 24 24\"\n",
              "       width=\"24px\">\n",
              "    <path d=\"M0 0h24v24H0V0z\" fill=\"none\"/>\n",
              "    <path d=\"M18.56 5.44l.94 2.06.94-2.06 2.06-.94-2.06-.94-.94-2.06-.94 2.06-2.06.94zm-11 1L8.5 8.5l.94-2.06 2.06-.94-2.06-.94L8.5 2.5l-.94 2.06-2.06.94zm10 10l.94 2.06.94-2.06 2.06-.94-2.06-.94-.94-2.06-.94 2.06-2.06.94z\"/><path d=\"M17.41 7.96l-1.37-1.37c-.4-.4-.92-.59-1.43-.59-.52 0-1.04.2-1.43.59L10.3 9.45l-7.72 7.72c-.78.78-.78 2.05 0 2.83L4 21.41c.39.39.9.59 1.41.59.51 0 1.02-.2 1.41-.59l7.78-7.78 2.81-2.81c.8-.78.8-2.07 0-2.86zM5.41 20L4 18.59l7.72-7.72 1.47 1.35L5.41 20z\"/>\n",
              "  </svg>\n",
              "      </button>\n",
              "      \n",
              "  <style>\n",
              "    .colab-df-container {\n",
              "      display:flex;\n",
              "      flex-wrap:wrap;\n",
              "      gap: 12px;\n",
              "    }\n",
              "\n",
              "    .colab-df-convert {\n",
              "      background-color: #E8F0FE;\n",
              "      border: none;\n",
              "      border-radius: 50%;\n",
              "      cursor: pointer;\n",
              "      display: none;\n",
              "      fill: #1967D2;\n",
              "      height: 32px;\n",
              "      padding: 0 0 0 0;\n",
              "      width: 32px;\n",
              "    }\n",
              "\n",
              "    .colab-df-convert:hover {\n",
              "      background-color: #E2EBFA;\n",
              "      box-shadow: 0px 1px 2px rgba(60, 64, 67, 0.3), 0px 1px 3px 1px rgba(60, 64, 67, 0.15);\n",
              "      fill: #174EA6;\n",
              "    }\n",
              "\n",
              "    [theme=dark] .colab-df-convert {\n",
              "      background-color: #3B4455;\n",
              "      fill: #D2E3FC;\n",
              "    }\n",
              "\n",
              "    [theme=dark] .colab-df-convert:hover {\n",
              "      background-color: #434B5C;\n",
              "      box-shadow: 0px 1px 3px 1px rgba(0, 0, 0, 0.15);\n",
              "      filter: drop-shadow(0px 1px 2px rgba(0, 0, 0, 0.3));\n",
              "      fill: #FFFFFF;\n",
              "    }\n",
              "  </style>\n",
              "\n",
              "      <script>\n",
              "        const buttonEl =\n",
              "          document.querySelector('#df-af4ab950-c71e-4a9a-83cf-2dfec3200cba button.colab-df-convert');\n",
              "        buttonEl.style.display =\n",
              "          google.colab.kernel.accessAllowed ? 'block' : 'none';\n",
              "\n",
              "        async function convertToInteractive(key) {\n",
              "          const element = document.querySelector('#df-af4ab950-c71e-4a9a-83cf-2dfec3200cba');\n",
              "          const dataTable =\n",
              "            await google.colab.kernel.invokeFunction('convertToInteractive',\n",
              "                                                     [key], {});\n",
              "          if (!dataTable) return;\n",
              "\n",
              "          const docLinkHtml = 'Like what you see? Visit the ' +\n",
              "            '<a target=\"_blank\" href=https://colab.research.google.com/notebooks/data_table.ipynb>data table notebook</a>'\n",
              "            + ' to learn more about interactive tables.';\n",
              "          element.innerHTML = '';\n",
              "          dataTable['output_type'] = 'display_data';\n",
              "          await google.colab.output.renderOutput(dataTable, element);\n",
              "          const docLink = document.createElement('div');\n",
              "          docLink.innerHTML = docLinkHtml;\n",
              "          element.appendChild(docLink);\n",
              "        }\n",
              "      </script>\n",
              "    </div>\n",
              "  </div>\n",
              "  "
            ]
          },
          "metadata": {},
          "execution_count": 11
        }
      ]
    },
    {
      "cell_type": "code",
      "source": [
        "df_final['precipitations'] = df_final['obs_pr'].apply(lambda x: np.mean(x))\n",
        "df_final"
      ],
      "metadata": {
        "colab": {
          "base_uri": "https://localhost:8080/",
          "height": 424
        },
        "id": "ib5H9tkQza7Z",
        "outputId": "8d89fc40-c934-42a4-bb7c-b49c4eff8428"
      },
      "execution_count": 12,
      "outputs": [
        {
          "output_type": "execute_result",
          "data": {
            "text/plain": [
              "       obs_dates                                            obs_tas  \\\n",
              "0     1958-01-04  [-12.800000190734863, -13.0, -13.0, -12.5, -12...   \n",
              "1     1958-01-05  [-7.800000190734863, -7.900000095367432, -8.39...   \n",
              "2     1958-01-06  [-11.0, -9.899999618530273, -6.5, -8.5, -9.0, ...   \n",
              "3     1958-01-07  [-13.199999809265137, -12.199999809265137, -7....   \n",
              "4     1958-01-08  [-19.899999618530273, -19.299999237060547, -15...   \n",
              "...          ...                                                ...   \n",
              "21173 2015-12-27  [-12.5, -11.699999809265137, -8.60000038146972...   \n",
              "21174 2015-12-28  [-12.5, -11.899999618530273, -9.10000038146972...   \n",
              "21175 2015-12-29  [-11.899999618530273, -11.399999618530273, -8....   \n",
              "21176 2015-12-30  [-7.0, -6.5, -3.4000000953674316, -5.900000095...   \n",
              "21177 2015-12-31  [-2.4000000953674316, -2.0999999046325684, 1.2...   \n",
              "\n",
              "                                                  obs_pr flow_dates      flow  \\\n",
              "0          [0.0, 0.0, 0.0, 0.0, 0.0, 0.0, 0.0, 0.0, 0.0] 1958-01-04  1.723781   \n",
              "1      [2.0, 2.200000047683716, 3.0, 3.29999995231628... 1958-01-05  0.960882   \n",
              "2      [12.699999809265137, 11.0, 16.5, 12.5, 11.1999... 1958-01-06     0.001   \n",
              "3      [6.599999904632568, 6.900000095367432, 9.60000... 1958-01-07     0.001   \n",
              "4      [3.4000000953674316, 3.5999999046325684, 2.700... 1958-01-08  0.316796   \n",
              "...                                                  ...        ...       ...   \n",
              "21173  [2.200000047683716, 0.10000000149011612, 1.100... 2015-12-27   2.17704   \n",
              "21174  [5.5, 4.900000095367432, 8.300000190734863, 6.... 2015-12-28   4.87625   \n",
              "21175  [1.7999999523162842, 1.7000000476837158, 2.099... 2015-12-29   4.99884   \n",
              "21176  [4.099999904632568, 3.5, 4.599999904632568, 5.... 2015-12-30  4.428777   \n",
              "21177  [6.400000095367432, 7.400000095367432, 8.5, 8.... 2015-12-31  4.047925   \n",
              "\n",
              "       temperatures  precipitations  \n",
              "0        -12.655556        0.000000  \n",
              "1         -7.722222        2.588889  \n",
              "2         -8.088889       12.766667  \n",
              "3        -10.122222        6.877778  \n",
              "4        -17.455555        3.411111  \n",
              "...             ...             ...  \n",
              "21173     -9.944444        0.555556  \n",
              "21174    -10.288889        4.888889  \n",
              "21175     -9.411111        1.277778  \n",
              "21176     -5.055556        3.444444  \n",
              "21177     -0.733333        8.322222  \n",
              "\n",
              "[21178 rows x 7 columns]"
            ],
            "text/html": [
              "\n",
              "  <div id=\"df-47dbc018-c30f-4673-8453-b18cc68d1f45\">\n",
              "    <div class=\"colab-df-container\">\n",
              "      <div>\n",
              "<style scoped>\n",
              "    .dataframe tbody tr th:only-of-type {\n",
              "        vertical-align: middle;\n",
              "    }\n",
              "\n",
              "    .dataframe tbody tr th {\n",
              "        vertical-align: top;\n",
              "    }\n",
              "\n",
              "    .dataframe thead th {\n",
              "        text-align: right;\n",
              "    }\n",
              "</style>\n",
              "<table border=\"1\" class=\"dataframe\">\n",
              "  <thead>\n",
              "    <tr style=\"text-align: right;\">\n",
              "      <th></th>\n",
              "      <th>obs_dates</th>\n",
              "      <th>obs_tas</th>\n",
              "      <th>obs_pr</th>\n",
              "      <th>flow_dates</th>\n",
              "      <th>flow</th>\n",
              "      <th>temperatures</th>\n",
              "      <th>precipitations</th>\n",
              "    </tr>\n",
              "  </thead>\n",
              "  <tbody>\n",
              "    <tr>\n",
              "      <th>0</th>\n",
              "      <td>1958-01-04</td>\n",
              "      <td>[-12.800000190734863, -13.0, -13.0, -12.5, -12...</td>\n",
              "      <td>[0.0, 0.0, 0.0, 0.0, 0.0, 0.0, 0.0, 0.0, 0.0]</td>\n",
              "      <td>1958-01-04</td>\n",
              "      <td>1.723781</td>\n",
              "      <td>-12.655556</td>\n",
              "      <td>0.000000</td>\n",
              "    </tr>\n",
              "    <tr>\n",
              "      <th>1</th>\n",
              "      <td>1958-01-05</td>\n",
              "      <td>[-7.800000190734863, -7.900000095367432, -8.39...</td>\n",
              "      <td>[2.0, 2.200000047683716, 3.0, 3.29999995231628...</td>\n",
              "      <td>1958-01-05</td>\n",
              "      <td>0.960882</td>\n",
              "      <td>-7.722222</td>\n",
              "      <td>2.588889</td>\n",
              "    </tr>\n",
              "    <tr>\n",
              "      <th>2</th>\n",
              "      <td>1958-01-06</td>\n",
              "      <td>[-11.0, -9.899999618530273, -6.5, -8.5, -9.0, ...</td>\n",
              "      <td>[12.699999809265137, 11.0, 16.5, 12.5, 11.1999...</td>\n",
              "      <td>1958-01-06</td>\n",
              "      <td>0.001</td>\n",
              "      <td>-8.088889</td>\n",
              "      <td>12.766667</td>\n",
              "    </tr>\n",
              "    <tr>\n",
              "      <th>3</th>\n",
              "      <td>1958-01-07</td>\n",
              "      <td>[-13.199999809265137, -12.199999809265137, -7....</td>\n",
              "      <td>[6.599999904632568, 6.900000095367432, 9.60000...</td>\n",
              "      <td>1958-01-07</td>\n",
              "      <td>0.001</td>\n",
              "      <td>-10.122222</td>\n",
              "      <td>6.877778</td>\n",
              "    </tr>\n",
              "    <tr>\n",
              "      <th>4</th>\n",
              "      <td>1958-01-08</td>\n",
              "      <td>[-19.899999618530273, -19.299999237060547, -15...</td>\n",
              "      <td>[3.4000000953674316, 3.5999999046325684, 2.700...</td>\n",
              "      <td>1958-01-08</td>\n",
              "      <td>0.316796</td>\n",
              "      <td>-17.455555</td>\n",
              "      <td>3.411111</td>\n",
              "    </tr>\n",
              "    <tr>\n",
              "      <th>...</th>\n",
              "      <td>...</td>\n",
              "      <td>...</td>\n",
              "      <td>...</td>\n",
              "      <td>...</td>\n",
              "      <td>...</td>\n",
              "      <td>...</td>\n",
              "      <td>...</td>\n",
              "    </tr>\n",
              "    <tr>\n",
              "      <th>21173</th>\n",
              "      <td>2015-12-27</td>\n",
              "      <td>[-12.5, -11.699999809265137, -8.60000038146972...</td>\n",
              "      <td>[2.200000047683716, 0.10000000149011612, 1.100...</td>\n",
              "      <td>2015-12-27</td>\n",
              "      <td>2.17704</td>\n",
              "      <td>-9.944444</td>\n",
              "      <td>0.555556</td>\n",
              "    </tr>\n",
              "    <tr>\n",
              "      <th>21174</th>\n",
              "      <td>2015-12-28</td>\n",
              "      <td>[-12.5, -11.899999618530273, -9.10000038146972...</td>\n",
              "      <td>[5.5, 4.900000095367432, 8.300000190734863, 6....</td>\n",
              "      <td>2015-12-28</td>\n",
              "      <td>4.87625</td>\n",
              "      <td>-10.288889</td>\n",
              "      <td>4.888889</td>\n",
              "    </tr>\n",
              "    <tr>\n",
              "      <th>21175</th>\n",
              "      <td>2015-12-29</td>\n",
              "      <td>[-11.899999618530273, -11.399999618530273, -8....</td>\n",
              "      <td>[1.7999999523162842, 1.7000000476837158, 2.099...</td>\n",
              "      <td>2015-12-29</td>\n",
              "      <td>4.99884</td>\n",
              "      <td>-9.411111</td>\n",
              "      <td>1.277778</td>\n",
              "    </tr>\n",
              "    <tr>\n",
              "      <th>21176</th>\n",
              "      <td>2015-12-30</td>\n",
              "      <td>[-7.0, -6.5, -3.4000000953674316, -5.900000095...</td>\n",
              "      <td>[4.099999904632568, 3.5, 4.599999904632568, 5....</td>\n",
              "      <td>2015-12-30</td>\n",
              "      <td>4.428777</td>\n",
              "      <td>-5.055556</td>\n",
              "      <td>3.444444</td>\n",
              "    </tr>\n",
              "    <tr>\n",
              "      <th>21177</th>\n",
              "      <td>2015-12-31</td>\n",
              "      <td>[-2.4000000953674316, -2.0999999046325684, 1.2...</td>\n",
              "      <td>[6.400000095367432, 7.400000095367432, 8.5, 8....</td>\n",
              "      <td>2015-12-31</td>\n",
              "      <td>4.047925</td>\n",
              "      <td>-0.733333</td>\n",
              "      <td>8.322222</td>\n",
              "    </tr>\n",
              "  </tbody>\n",
              "</table>\n",
              "<p>21178 rows × 7 columns</p>\n",
              "</div>\n",
              "      <button class=\"colab-df-convert\" onclick=\"convertToInteractive('df-47dbc018-c30f-4673-8453-b18cc68d1f45')\"\n",
              "              title=\"Convert this dataframe to an interactive table.\"\n",
              "              style=\"display:none;\">\n",
              "        \n",
              "  <svg xmlns=\"http://www.w3.org/2000/svg\" height=\"24px\"viewBox=\"0 0 24 24\"\n",
              "       width=\"24px\">\n",
              "    <path d=\"M0 0h24v24H0V0z\" fill=\"none\"/>\n",
              "    <path d=\"M18.56 5.44l.94 2.06.94-2.06 2.06-.94-2.06-.94-.94-2.06-.94 2.06-2.06.94zm-11 1L8.5 8.5l.94-2.06 2.06-.94-2.06-.94L8.5 2.5l-.94 2.06-2.06.94zm10 10l.94 2.06.94-2.06 2.06-.94-2.06-.94-.94-2.06-.94 2.06-2.06.94z\"/><path d=\"M17.41 7.96l-1.37-1.37c-.4-.4-.92-.59-1.43-.59-.52 0-1.04.2-1.43.59L10.3 9.45l-7.72 7.72c-.78.78-.78 2.05 0 2.83L4 21.41c.39.39.9.59 1.41.59.51 0 1.02-.2 1.41-.59l7.78-7.78 2.81-2.81c.8-.78.8-2.07 0-2.86zM5.41 20L4 18.59l7.72-7.72 1.47 1.35L5.41 20z\"/>\n",
              "  </svg>\n",
              "      </button>\n",
              "      \n",
              "  <style>\n",
              "    .colab-df-container {\n",
              "      display:flex;\n",
              "      flex-wrap:wrap;\n",
              "      gap: 12px;\n",
              "    }\n",
              "\n",
              "    .colab-df-convert {\n",
              "      background-color: #E8F0FE;\n",
              "      border: none;\n",
              "      border-radius: 50%;\n",
              "      cursor: pointer;\n",
              "      display: none;\n",
              "      fill: #1967D2;\n",
              "      height: 32px;\n",
              "      padding: 0 0 0 0;\n",
              "      width: 32px;\n",
              "    }\n",
              "\n",
              "    .colab-df-convert:hover {\n",
              "      background-color: #E2EBFA;\n",
              "      box-shadow: 0px 1px 2px rgba(60, 64, 67, 0.3), 0px 1px 3px 1px rgba(60, 64, 67, 0.15);\n",
              "      fill: #174EA6;\n",
              "    }\n",
              "\n",
              "    [theme=dark] .colab-df-convert {\n",
              "      background-color: #3B4455;\n",
              "      fill: #D2E3FC;\n",
              "    }\n",
              "\n",
              "    [theme=dark] .colab-df-convert:hover {\n",
              "      background-color: #434B5C;\n",
              "      box-shadow: 0px 1px 3px 1px rgba(0, 0, 0, 0.15);\n",
              "      filter: drop-shadow(0px 1px 2px rgba(0, 0, 0, 0.3));\n",
              "      fill: #FFFFFF;\n",
              "    }\n",
              "  </style>\n",
              "\n",
              "      <script>\n",
              "        const buttonEl =\n",
              "          document.querySelector('#df-47dbc018-c30f-4673-8453-b18cc68d1f45 button.colab-df-convert');\n",
              "        buttonEl.style.display =\n",
              "          google.colab.kernel.accessAllowed ? 'block' : 'none';\n",
              "\n",
              "        async function convertToInteractive(key) {\n",
              "          const element = document.querySelector('#df-47dbc018-c30f-4673-8453-b18cc68d1f45');\n",
              "          const dataTable =\n",
              "            await google.colab.kernel.invokeFunction('convertToInteractive',\n",
              "                                                     [key], {});\n",
              "          if (!dataTable) return;\n",
              "\n",
              "          const docLinkHtml = 'Like what you see? Visit the ' +\n",
              "            '<a target=\"_blank\" href=https://colab.research.google.com/notebooks/data_table.ipynb>data table notebook</a>'\n",
              "            + ' to learn more about interactive tables.';\n",
              "          element.innerHTML = '';\n",
              "          dataTable['output_type'] = 'display_data';\n",
              "          await google.colab.output.renderOutput(dataTable, element);\n",
              "          const docLink = document.createElement('div');\n",
              "          docLink.innerHTML = docLinkHtml;\n",
              "          element.appendChild(docLink);\n",
              "        }\n",
              "      </script>\n",
              "    </div>\n",
              "  </div>\n",
              "  "
            ]
          },
          "metadata": {},
          "execution_count": 12
        }
      ]
    },
    {
      "cell_type": "markdown",
      "source": [
        "## Inicia el TDA"
      ],
      "metadata": {
        "id": "ApBkz9OC-8SQ"
      }
    },
    {
      "cell_type": "code",
      "source": [
        "max_embedding_dimension = 10\n",
        "max_time_delay = 20\n",
        "stride = 30\n",
        "\n",
        "embedder_periodic = SingleTakensEmbedding(\n",
        "    parameters_type=\"search\",\n",
        "    time_delay=max_time_delay,\n",
        "    dimension=max_embedding_dimension,\n",
        "    stride=stride,\n",
        ")"
      ],
      "metadata": {
        "id": "SYJ45nHglQP9"
      },
      "execution_count": 13,
      "outputs": []
    },
    {
      "cell_type": "code",
      "source": [
        "def fit_embedder(embedder: SingleTakensEmbedding, y: np.ndarray, verbose: bool=True) -> np.ndarray:\n",
        "    \"\"\"Fits a Takens embedder and displays optimal search parameters.\"\"\"\n",
        "    y_embedded = embedder.fit_transform(y)\n",
        "\n",
        "    if verbose:\n",
        "        print(f\"Shape of embedded time series: {y_embedded.shape}\")\n",
        "        print(\n",
        "            f\"Optimal embedding dimension is {embedder.dimension_} and time delay is {embedder.time_delay_}\"\n",
        "        )\n",
        "\n",
        "    return y_embedded"
      ],
      "metadata": {
        "id": "2cxDqWOJlQ44"
      },
      "execution_count": 14,
      "outputs": []
    },
    {
      "cell_type": "markdown",
      "source": [
        "#### Incrustacion y plot de componentes principales de precipitaciones"
      ],
      "metadata": {
        "id": "Z52F5oZLATyf"
      }
    },
    {
      "cell_type": "code",
      "source": [
        "df_final.boxplot('precipitations')"
      ],
      "metadata": {
        "colab": {
          "base_uri": "https://localhost:8080/",
          "height": 282
        },
        "id": "kUINgHK956tE",
        "outputId": "8373fd39-ed6a-466a-e5e7-5b8140ca18cb"
      },
      "execution_count": 15,
      "outputs": [
        {
          "output_type": "execute_result",
          "data": {
            "text/plain": [
              "<matplotlib.axes._subplots.AxesSubplot at 0x7ffb883b2250>"
            ]
          },
          "metadata": {},
          "execution_count": 15
        },
        {
          "output_type": "display_data",
          "data": {
            "text/plain": [
              "<Figure size 432x288 with 1 Axes>"
            ],
            "image/png": "[encoded data removed]"
          },
          "metadata": {
            "needs_background": "light"
          }
        }
      ]
    },
    {
      "cell_type": "code",
      "source": [
        "y_periodic_embedded = fit_embedder(embedder_periodic, df_final['precipitations'])"
      ],
      "metadata": {
        "colab": {
          "base_uri": "https://localhost:8080/"
        },
        "id": "bESLxzvD0NFa",
        "outputId": "678cd66f-7f13-4680-80b2-a0b464c8f236"
      },
      "execution_count": 16,
      "outputs": [
        {
          "output_type": "stream",
          "name": "stdout",
          "text": [
            "Shape of embedded time series: (702, 8)\n",
            "Optimal embedding dimension is 8 and time delay is 18\n"
          ]
        }
      ]
    },
    {
      "cell_type": "code",
      "source": [
        "pca = PCA(n_components=3)\n",
        "y_periodic_embedded_pca = pca.fit_transform(y_periodic_embedded)\n",
        "plot_point_cloud(y_periodic_embedded_pca)"
      ],
      "metadata": {
        "colab": {
          "base_uri": "https://localhost:8080/",
          "height": 542
        },
        "id": "V73jX37Y0j_p",
        "outputId": "3f55e574-5e58-4ab2-a583-8072dfe1fd6b"
      },
      "execution_count": 17,
      "outputs": [
        {
          "output_type": "display_data",
          "data": {
            "text/html": [
              "<html>\n",
              "<head><meta charset=\"utf-8\" /></head>\n",
              "<body>\n",
              "    <div>            <script src=\"https://cdnjs.cloudflare.com/ajax/libs/mathjax/2.7.5/MathJax.js?config=TeX-AMS-MML_SVG\"></script><script type=\"text/javascript\">if (window.MathJax) {MathJax.Hub.Config({SVG: {font: \"STIX-Web\"}});}</script>                <script type=\"text/javascript\">window.PlotlyConfig = {MathJaxConfig: 'local'};</script>\n",
              "        <script src=\"https://cdn.plot.ly/plotly-2.8.3.min.js\"></script>                <div id=\"306a1857-1511-400d-accd-90ed3cd56a85\" class=\"plotly-graph-div\" style=\"height:525px; width:100%;\"></div>            <script type=\"text/javascript\">                                    window.PLOTLYENV=window.PLOTLYENV || {};                                    if (document.getElementById(\"306a1857-1511-400d-accd-90ed3cd56a85\")) {                    Plotly.newPlot(                        \"306a1857-1511-400d-accd-90ed3cd56a85\",                        [{\"marker\":{\"color\":[0,1,2,3,4,5,6,7,8,9,10,11,12,13,14,15,16,17,18,19,20,21,22,23,24,25,26,27,28,29,30,31,32,33,34,35,36,37,38,39,40,41,42,43,44,45,46,47,48,49,50,51,52,53,54,55,56,57,58,59,60,61,62,63,64,65,66,67,68,69,70,71,72,73,74,75,76,77,78,79,80,81,82,83,84,85,86,87,88,89,90,91,92,93,94,95,96,97,98,99,100,101,102,103,104,105,106,107,108,109,110,111,112,113,114,115,116,117,118,119,120,121,122,123,124,125,126,127,128,129,130,131,132,133,134,135,136,137,138,139,140,141,142,143,144,145,146,147,148,149,150,151,152,153,154,155,156,157,158,159,160,161,162,163,164,165,166,167,168,169,170,171,172,173,174,175,176,177,178,179,180,181,182,183,184,185,186,187,188,189,190,191,192,193,194,195,196,197,198,199,200,201,202,203,204,205,206,207,208,209,210,211,212,213,214,215,216,217,218,219,220,221,222,223,224,225,226,227,228,229,230,231,232,233,234,235,236,237,238,239,240,241,242,243,244,245,246,247,248,249,250,251,252,253,254,255,256,257,258,259,260,261,262,263,264,265,266,267,268,269,270,271,272,273,274,275,276,277,278,279,280,281,282,283,284,285,286,287,288,289,290,291,292,293,294,295,296,297,298,299,300,301,302,303,304,305,306,307,308,309,310,311,312,313,314,315,316,317,318,319,320,321,322,323,324,325,326,327,328,329,330,331,332,333,334,335,336,337,338,339,340,341,342,343,344,345,346,347,348,349,350,351,352,353,354,355,356,357,358,359,360,361,362,363,364,365,366,367,368,369,370,371,372,373,374,375,376,377,378,379,380,381,382,383,384,385,386,387,388,389,390,391,392,393,394,395,396,397,398,399,400,401,402,403,404,405,406,407,408,409,410,411,412,413,414,415,416,417,418,419,420,421,422,423,424,425,426,427,428,429,430,431,432,433,434,435,436,437,438,439,440,441,442,443,444,445,446,447,448,449,450,451,452,453,454,455,456,457,458,459,460,461,462,463,464,465,466,467,468,469,470,471,472,473,474,475,476,477,478,479,480,481,482,483,484,485,486,487,488,489,490,491,492,493,494,495,496,497,498,499,500,501,502,503,504,505,506,507,508,509,510,511,512,513,514,515,516,517,518,519,520,521,522,523,524,525,526,527,528,529,530,531,532,533,534,535,536,537,538,539,540,541,542,543,544,545,546,547,548,549,550,551,552,553,554,555,556,557,558,559,560,561,562,563,564,565,566,567,568,569,570,571,572,573,574,575,576,577,578,579,580,581,582,583,584,585,586,587,588,589,590,591,592,593,594,595,596,597,598,599,600,601,602,603,604,605,606,607,608,609,610,611,612,613,614,615,616,617,618,619,620,621,622,623,624,625,626,627,628,629,630,631,632,633,634,635,636,637,638,639,640,641,642,643,644,645,646,647,648,649,650,651,652,653,654,655,656,657,658,659,660,661,662,663,664,665,666,667,668,669,670,671,672,673,674,675,676,677,678,679,680,681,682,683,684,685,686,687,688,689,690,691,692,693,694,695,696,697,698,699,700,701],\"colorscale\":[[0.0,\"#440154\"],[0.1111111111111111,\"#482878\"],[0.2222222222222222,\"#3e4989\"],[0.3333333333333333,\"#31688e\"],[0.4444444444444444,\"#26828e\"],[0.5555555555555556,\"#1f9e89\"],[0.6666666666666666,\"#35b779\"],[0.7777777777777778,\"#6ece58\"],[0.8888888888888888,\"#b5de2b\"],[1.0,\"#fde725\"]],\"opacity\":0.8,\"size\":4},\"mode\":\"markers\",\"x\":[-0.8730079224801263,-3.563875309521149,-3.9107746929153846,16.294601700661914,-4.439077047961571,5.1978353714251915,-3.7742932620109757,26.81126848961344,-2.9312282991284095,-1.6402312398478178,-2.6371760879896904,-3.462477967497811,-1.4324898537693171,-2.0644879537338254,-2.6979297510514697,-2.424396517542881,0.3289879902272886,-0.7714017931054846,-1.7894847314185234,-1.1120098429895506,10.232637902038002,-1.0846964711682738,2.4003883377920707,-2.996654805217181,-2.44990621369681,-0.37609422099246714,-10.41536801703439,-2.5991494401424906,5.984123168079371,-3.8526991433168227,-4.358204752032221,15.965315051783385,8.401588430907355,2.254698391600588,6.222569718792253,-2.645383849171623,-2.404605798455335,3.963747941621817,-2.903696116031877,11.506163523654255,-0.13244656190826556,-4.246894056613172,-6.786435597246483,23.999573627252758,-4.594417838620617,2.027663559032774,6.8206934788368905,-1.6393559796458836,-0.457523580171886,-1.9067154084227331,-2.2793990789606875,-4.819998984435662,-2.0947306637467724,-1.027532413845952,-2.934260481027457,-2.3837716604844568,-2.4604278461580495,-4.187909226689572,-2.2661594211163694,-2.709268529529386,-3.0122902520360766,-2.4771171355516572,-1.9185339718265924,-1.3717242204412678,-2.3688315124396064,-5.32096796866642,9.100062397265392,-0.35239724850204823,-3.4497299776947226,10.3754434739845,1.0304662829231388,-3.1696737886598463,-2.037546914751205,-2.186890346357785,-1.6209575655378434,-2.5897037726581975,1.5419521134839744,0.6243446368411377,0.6214394900053232,-1.7040533130843432,20.38743578425171,4.613466487734617,-1.6366055639244534,7.113975161476343,-2.4001552145082643,-2.089373478281065,0.9912611709770173,-2.577787068080014,19.040490961554926,2.9611419151278,-2.3825361565983556,22.569564190846528,-2.368054866738225,-2.919738332811762,0.4762933312815422,-2.3599618131174487,3.9750915450643034,-4.977355186004505,-2.5179345870746745,1.3745435503607517,2.274618665238363,-0.48536211062721835,4.059350628396102,12.922985365499892,-2.794056790400966,-3.228541861296892,16.426523002798152,-3.250101500070648,-0.45586299073380315,-2.5342649051121384,-1.8776539340222604,0.7316905508861492,-2.629291812725818,0.26459563035669725,4.31240170360631,11.941184177767488,-2.7077149809663887,22.46458069499784,-1.829375424189336,-1.1386605488998736,1.24113532019663,-2.538119256673957,-2.473725203120874,-0.8488100527608254,-1.9477413103434669,-0.09855029847492755,1.413984817543784,-0.1447517051540694,-2.1239637360506793,-2.298345935824462,4.230038368384391,-2.2897276236238824,0.28639907008621696,-1.9669657000943082,-4.566285667204896,5.418750503111492,-1.4088350168253407,-4.437062335613255,1.7310096873115546,-2.4755732899928766,-2.2881260833189847,-2.0894009704542973,-0.4017549823600997,-1.213036148392623,-2.171579582120351,-2.5085183280533143,-2.3596595064199404,-0.4754500459566109,-2.5912545863081813,-3.49251244554296,0.4918587971066754,-2.435961095563392,-4.506321902835739,-3.22198312403134,3.595099533631328,-3.8940516806334093,-3.3493778086419,-2.4555924427547433,-2.7545609320227156,-3.6321296683242563,-3.4142713674898264,-3.0921313504182018,-2.446861990299918,-4.106699021271745,-2.172198906097558,-1.3824732481853832,0.3256898844546111,-1.5663394465231566,-1.9449966072410791,-2.1132325259877907,6.698277008421062,3.1326317645464727,-2.454115866408259,5.155133845862229,-0.6953617036793985,-2.4000184664340116,-2.892032857518617,-3.7213387762705143,-2.6365389146199996,0.9316603245659166,-2.4913087072456133,-2.9060249767897184,-1.7191623654694468,-2.4043412619173297,-2.4194755588350225,-2.7503917454848654,-3.260492687258588,-2.375472940422703,-1.5684045101741377,-2.9100099509188015,-2.514277272004268,-3.593124117142305,-1.6157039617025046,-2.556332676479878,-2.536336715816551,-2.562575251786462,-1.9684304441145979,-2.4710084711956446,-3.9772314626468486,-2.5522931601494556,-2.171884354934828,3.2432072858061956,-0.185554266376147,-3.0974629656705956,1.5364601987338833,-2.3911381342268077,-3.1196482028255197,-2.763475164184719,-2.36863646189656,-2.1344105438017635,-1.8823910181760537,-2.354528628877844,-1.186916273118545,-3.6720581460009827,5.208191998952396,6.181592251292281,-2.7946269084382642,-2.4187288353313363,-1.9774350892016215,-2.3786980196405665,-2.1963483661024696,1.6732904734246756,4.413440721604954,-2.246547412251914,-2.8570548722523474,5.922085378427786,-1.9354530235604632,5.002963961574875,-1.2975288409461188,-0.5419038033704189,-2.423380742809146,-2.4781615814744353,-1.6131281285296413,-2.1405509970138463,14.229742438790057,-2.0652656575594133,-1.6276939353250341,4.9881197303201885,-1.5711393514514234,-2.8164926730123754,-2.282326072073567,-2.0618070406946756,1.2733445156750014,5.226158237515923,-1.281245582350364,-1.203670972320082,-2.8706340832046813,10.746502994984747,-1.8917133663435806,-2.745001290921476,-0.5181333217110321,-2.0081402239406967,-2.1297199998629774,-2.605647931638448,-1.4930290350415172,-0.9935423599890557,-2.253103996403579,-3.734314308763744,-4.394714384013351,-1.1113922818662278,-3.2597684380970797,-0.37421505327543386,-1.1106304475934168,-3.7832701824824797,-2.2521317580581144,4.589853539394109,-0.7442037993547376,-2.563102516568227,-2.4019379105702856,-2.6791690034322424,-2.066383519268259,-0.9647531907776948,6.608699242243153,0.22049208641042164,-2.233472909608228,-1.94327811374911,2.851172691609295,-2.402990869056367,-2.2835600023027847,-2.744572766988753,6.143838462077256,-2.572112408120901,-2.2006549818094574,1.1417159374494286,-3.195701248515064,-3.0978613115937157,-2.6891786943099407,-3.293151763695487,-3.7823289418294443,-2.3107982371563343,-2.3704184872811025,-1.6810379024504094,-0.225241258839669,-3.1458745573647784,-0.7842114711712539,-2.8848546157004655,-3.3150472231542336,-4.540865829640874,-0.10005001899827858,-3.15939313295497,-3.17645146220782,-0.3155789775860707,-2.05236157853478,-2.6540372435016715,-2.1997336053214402,-2.4393473852147527,-1.892343580945481,-2.9468571648346433,-2.527335394392389,-2.060709205963931,8.184062604270496,0.7402335816212182,-3.333613596376675,-2.528988971926593,-1.9835538367408734,-0.09609918814868379,-3.6683665685440117,-0.7138913533800734,-1.912988625938116,10.813520927182232,-1.7363029103809096,9.6168045119678,-2.6226310361227005,10.758996917910842,-0.46352436929381857,-2.234785126684117,-0.5995237519691301,-0.38055596401597086,-0.29796641686821446,-3.495331221601845,0.8869699369364792,-2.2176500292573174,6.907569672530273,-1.8694760190445765,1.8375037548596203,-2.339656196767378,-0.3023583112874589,-2.4985039212632354,-0.8870646199608294,-2.086623140500175,-2.2654738599904514,-1.357694253597915,0.3409996793796587,-2.0325842170375084,-1.3130507579406503,0.2660816473993902,8.458835213422319,1.069609625812621,-0.39121780431926245,-2.765071059014538,1.0943894162434582,-1.6046426004638028,-2.8612773426575386,1.4967446535059872,-1.42486194008429,2.8960155905738496,8.783820437992865,-1.7385991372423721,-1.9148202550247109,-2.666158576844465,19.70882494036552,4.257143829026244,-3.238147133824823,6.633441160636706,-1.738141755363702,-3.814484118568199,-2.5018495458188164,-3.8080318106198363,-2.7636648846144376,-1.814315633595667,11.309707981911687,-2.412004561116653,-2.1339172503723565,0.4086250859226127,-2.4990241300035785,-2.261643745987821,-4.333015838067895,3.74475028401463,3.910287133726988,-2.68804315675437,9.04161447972915,-1.826060699940915,-1.4307522480504618,2.7780646224226473,-3.336495448118845,4.34455752179215,-2.8434649212649448,-1.374840180634514,4.883452227215544,-2.615253249374359,4.702752928671779,-2.6191469608143834,5.481420378547373,3.7671005646953892,-2.5600366680476787,-0.5565549276642517,-2.115701753571868,5.152308035115522,-2.928700957870917,-2.3510453683286783,-2.8319241604154928,-2.754173023794827,-1.9174712962598104,-2.9145819304444855,-2.3483709242282176,0.3646564646139576,-2.481329366923796,-2.743631275376554,-2.484069247677219,-2.8721628864106488,-3.194916544655146,-2.628028599577199,-2.652966015725496,-2.528048186060869,-2.3410329199114313,-2.380359439833802,0.2714533461179376,-2.1664746016161187,31.59278648215653,-2.517223537837313,-2.950517781591047,4.124755034647251,11.255346657172886,6.206780026504332,-0.4724327239179922,-1.4155618821629674,-2.9384677893106206,-2.490388983487453,-2.005313834283574,-2.0130110713484206,-3.6988511662320467,1.9637470391492793,-1.836812921960894,-2.0804315628167376,9.91739078072258,-2.8521713949874643,9.965255976571894,-1.0634011066915325,4.22931058137695,-2.309286399558509,-2.2033030541548713,-2.7139167974352087,-1.939000363826114,-3.6560283490757155,36.90410312573485,-2.006894664560224,-5.900039538043417,6.439870091493296,-2.7444874727682653,-0.808105504310948,1.0199834642866994,-4.126071366341683,-1.3123305176548798,6.245295385929388,0.06890797879491435,-1.7425604157698764,17.80527760473833,8.894436029292072,-2.6094612595510505,-0.6896879289788258,-0.6070514334655077,-2.372453016610405,-2.2235345564610824,-0.5019077499559212,-2.545609256569033,8.257286791492476,9.67551091069902,-2.3721689893964273,17.8803286153195,1.9658169933749172,7.846409898215177,-2.7080118873959567,-1.8722626555897157,-2.8314842584842825,-0.5096685994424192,-1.0626585781256999,-2.333514583454104,-0.7674418780129275,6.8964675389523205,-0.47330240863433864,-2.749682083403235,-3.478993327581515,-5.113585014470739,-1.5359984448658572,-2.2598736902079115,-2.837996292197703,-0.666028218596792,-2.3543492463328684,-3.1957792176305757,-1.3822727842533726,-2.542404947600829,-2.08511491928355,-1.9796046109478382,-2.227850043127672,-1.3215011875934206,-2.5133670150791794,-4.544971113149367,0.17941532500979046,-0.8613355033982226,-1.4447965043866566,-2.325609325208966,-2.839064747973052,-3.123187936393003,-3.291752079814658,-3.335016373171084,-3.1996219192099953,-4.862413462306967,-3.507474427849343,0.03619409112218866,-2.0279464443827964,-0.44299605802254155,-2.511125727911653,-3.337249100250511,-2.3848552685721773,-3.7144308088297406,-2.486620129604348,-3.6648159644962064,2.1999392849268875,0.6221239328792555,-1.71435644375681,-1.0768389421577367,7.953488877495801,-3.4458119756765275,-2.65177661709444,3.2492449748900625,-3.0183233410252366,-2.3890364244221685,-0.4346854349155032,20.523320135220796,-0.4215470276681232,-0.6816203992523089,-2.5970897252048584,9.589011019627314,-1.779903800397961,8.078132272844885,-3.3642798745017064,-3.9192073821291817,17.806933443456614,-0.2368736209357479,4.3353981995493065,-1.7380031781707388,-1.9729210728737143,-2.4023830888524715,-2.1142696008858657,-1.023573954467958,0.3853886268390407,-1.5562488809868362,2.03178234952682,-2.0615202642345425,-3.0292542186092586,8.02000531685922,0.06512909021774085,15.124745209806393,-1.2456355518250048,35.29142024197296,-2.5276576096770405,-2.1492297150419537,-1.6278337378672165,-2.776114476915404,-2.6479777238964517,-2.6118333601722568,-1.8662209915317856,-1.897970693064688,10.550262828774981,6.646919188126786,3.9273078423041015,-3.6938805576721454,3.786488597436336,-1.6264729913754654,-2.361685303308523,-2.6013537419335067,-0.5432216091946322,4.5362377082216065,-2.947522566555589,-3.75046406500184,12.727055042740606,-4.089986432811748,-2.6295939150276126,-3.1360162424695512,-2.1657574507950343,-0.8945401136794964,0.8649650922671888,0.07517504822562622,4.321442738707737,-3.1967478161959026,0.76335267534816,-2.315202167872808,-4.430291687827362,-3.0488989566795035,4.5654431993700415,0.9020794182814682,19.67348539615236,-1.0821680738951394,3.5001050127152316,-2.3008961801644072,-1.8529352966110524,4.64259631078798,0.034149995497742995,-2.2962196495968574,-5.663200669523002,54.667490795012,-2.101238363011618,0.437195453132216,-2.4042168029185365,-2.198389440081628,13.222535933372988,-7.304637265496998,-2.819364008549127,-2.6052334195202667,6.121908361186724,-0.2729383696755424,-2.836376462293109,-0.6715817940241052,-2.7000065128449773,-2.0229684035947644,-2.594328171697373,-1.2794993342905718,-3.170884072633786,-3.070387296909155,6.108925132879943,-2.2365996734443656,-1.9253946476692938,-2.9114201999968796,-4.636292104594363,0.2618264324440315,1.2972055153885211,-3.73742882646615,4.394630494688913,-3.708850849282186,-1.4520150554289422,2.781030246801427,-4.059812994970724,-1.7167739999597065,-0.5282144184662888,-2.7468439820761876,-4.374325757500649,-3.243768511761832,-0.4386901079444394,3.418875264162104,-2.777842645748044,-2.4973953048733257,-1.18647970176897,-2.5535947318451253,-0.9533528545557236,-2.3082373119341533,-2.449498796686556,-2.203604447509688,-1.90248518841254,-2.7346487505108747,4.17740399692637,-2.1410589645257736,12.226579173018258,3.3761758505869133,-2.726000154559618,4.21831808736513,-1.8057821374181933,-3.022591869455778,-2.387246488541026,-4.231926226522053,-2.722216845363709,-4.71167417165104,8.864914852558316,1.2451439462521372,-2.397984689886226,-2.4176744827678927,7.521533959550209,-0.6728392731096738,-0.9228159448246995,-3.985553912716267,-2.696037804064799,-4.210407645488828,-3.0643756627130188,3.7997501622981726,0.6364271755435338,-2.4666778092135178,-1.563104854598415,-3.706352139315083,-1.9084787308347466,-2.8203314499945504,-1.9096916554090926,2.690517274470942,1.486637740570651,-0.34494515435094225,-3.9293872058914445,-2.422273581818489,2.646146179568154,1.9757273671000197,0.26813569460780445,-0.9174514175072345,-0.4430778053427926,31.86492601544921,-2.9059468894817853,-1.6540721471932227,-3.4419131456611383,-2.1567532459480994,-2.7436784302971278,-2.6010346756567304,-5.946521680879741,0.08577649704305215,-2.2495716479926253,-2.773163047359677,-3.895627099334609],\"y\":[-3.373188710941725,20.5794609277623,4.298477757924226,9.590520092324178,-9.305353491013673,-2.6596204418317626,-4.493311280505908,-0.13999409581422426,6.8229703226030995,5.641486260399279,-0.18452022399016738,-4.9881842765270745,-5.658021285957325,-1.4814691310668762,1.2538422093911927,-0.40241298593359504,-0.32673662725775926,-4.79620592435994,2.7890064904567384,10.291172745046033,8.779496877043785,-2.903323651512226,-16.505097661520573,-4.85054528846426,0.15118800779651745,-1.015979313516707,18.646974783322857,0.71821903145945,3.221333540118832,-17.262523591027428,9.990207707528315,-4.599452154182653,1.2324300869140823,-7.27659094660749,0.9947131121867053,-0.16986520471128808,-0.7522726516079093,2.1751429579817354,6.257862450678202,2.233743820728174,-7.084560218613265,7.390488760390247,17.1714407464834,2.9601541001030274,-7.839111913715242,-21.342308517676365,2.4637185913243442,-2.9867214015762986,-1.9271153177551799,-0.7070160457721766,-0.1170137094952206,2.3322141375186325,0.05537878961962608,-1.0314451124272068,1.5663504546390343,2.9598342081523175,1.2653213300040989,-3.97262487224026,-5.233749691056444,-1.1373902655366595,1.4727134226458243,0.3011737928515506,1.8366845282927893,2.267930588346379,1.1006343025624608,11.367909337441438,1.856430365108808,1.8215519934458821,3.0611330796135197,-11.51552964513801,-10.427831364802408,-5.103783469774845,1.098407111941452,-0.0435865926799964,0.9657948885438524,0.9746612861647942,8.55701712037433,0.47059976319258445,8.530993715952532,-9.379018213602922,0.7551901358506989,-20.043773113283798,3.3739394803830276,-0.2617055994992508,1.8338158639946314,3.5565568971181265,2.224363149040193,-1.2619541948698043,-1.5946335604419961,-1.676384950684443,-1.677655877107417,5.877364372941704,-0.5610047900972378,1.9487593533306946,-8.099968623712034,-0.6038053985149854,0.5030991213775842,4.868031695639525,2.0564253222024425,-2.0381603192772304,-1.1095721215833145,1.4627602553707544,6.183484916478023,-0.2990673373270531,-0.1379676479637714,11.21744597703078,0.8931307839485955,-0.22714238281986826,-6.566214430394529,1.8943217628358067,6.334917486184093,-2.5935631131927157,-2.1873767895029665,-10.921627530622649,3.415003119151718,12.803386761166133,8.91448292008776,1.7999012642514804,-6.724852791326131,-6.411498851343142,-6.945384494676339,-2.611883647190174,0.2327014293388791,-1.1129493597118825,0.2079562591121486,1.7509474490728345,-4.009682044517927,15.848849065027737,3.8125540536359446,0.1942989171856031,-23.64585855871263,-4.700989851611122,0.3281999878099306,-1.5676708423636594,9.617474558621906,3.8558368828035703,-0.561865960000017,-5.222262512829787,1.116551926991426,-0.11905519306255612,6.397589068053995,-2.6458044224041153,3.2298263389125212,-7.072583898048418,2.615133531838279,-3.5321085428103456,1.4570418612873701,2.8794407003223603,0.21433224182894775,3.2525037443169573,-3.0587340331393342,0.20695307072634017,4.164845707901368,1.389524809301895,1.4388542178669106,-3.6515476981570916,0.8292823046501658,-2.0632632671371978,0.8824033156246804,0.028275115149140998,0.7121344814156328,4.466083160823178,-2.5371863094171485,2.3097822421238194,-3.736522373120333,-1.722167133984912,-3.2177236629472166,-0.9544300521717474,-1.150843248608285,-0.20327025680351873,2.143504901252899,-0.22186812095800917,-0.36378580880642586,4.488550650865812,8.118674537497062,-0.02931491087519741,-4.8615861477377855,-4.766619471377374,3.4057918927788005,0.9274627808335812,-2.1082662142770228,-4.229520854899471,-1.938853572648291,5.357369139797627,1.292313596315173,2.016817595244643,-2.6282531131364486,-1.3346851462691158,-4.576782852583996,-2.155739036899179,-0.27995849929724576,2.280428988198402,1.3992564884553578,1.3002065090278483,-2.494774234436069,-1.6453668808261472,-1.4451005878057517,0.36082865391758295,2.888493369410379,1.803338783383364,4.295041411915422,4.582377551269116,-2.631511886157957,-0.5245116395620665,-10.31652716232478,-0.7865059186890825,-2.6157375722528937,-1.4249319573484913,-0.5613437677303498,-1.1315408427574114,0.6072197598640839,4.866293452300934,-2.1949248645316155,-0.5741994006068752,-3.7325872071242476,0.09117683545063762,-1.0517863439995088,-1.2446538261102778,-0.9351724177438967,-0.6382118016671955,0.4842541188035487,-0.04633723663735503,0.39095439717247,-0.862340877309651,3.2260167933415183,10.133029161436165,0.4365801878747203,-4.247464926238156,-6.8868932453588645,-0.6172088070150898,-1.0455781618756597,-3.95065600005082,-2.039259020803415,1.1652238534909418,1.3220686274761693,0.895261854152829,1.9768561584683269,-0.26448134476174284,-2.6236435544687824,-4.80694716465026,-0.0061367441116626535,1.2990047642430511,0.6279284346749094,0.4691031970837248,-3.590261227070374,-2.0444360723571355,8.765656777787612,1.7083833071201922,-2.1307811556543403,-7.167115315169983,0.36426167578163704,0.3518531575610496,-1.0982695361439387,1.2083364441790063,-3.5467071630529357,4.425310186657749,-1.2471375943883665,2.7582652219582755,5.9732302241116875,2.159133551682589,2.3227614556094425,-9.620934789928713,6.110293316218845,2.2667487196728824,-0.8903207928394801,-10.91205266000564,1.2961013282029559,2.352572360626983,-0.775355816765025,6.639808428898546,5.6755729371939525,-0.2341850911042603,-3.1006652848013987,-10.393270617979551,1.2835765109520823,-2.599976397898084,0.07826474753049209,-0.505698465967009,-1.109133793775233,0.4841784967277507,0.4357755398801586,1.7586946923209603,0.18966683895863487,1.478669342237843,0.8294971587444251,11.137488516988345,-1.2014551778053775,-1.690271083660451,-9.921152649633651,-0.30948756216312723,-0.5801033332642013,4.547478865059933,-0.24879273904170973,7.599953263698109,-7.741110418412143,0.3242885030083272,-4.977787602964218,4.311769649729743,2.8851635870123578,1.2186378894427232,-2.603982857320062,-2.8221917125002567,-0.33907907942005444,-0.3123344423251833,-1.1388894854584724,0.7050299070479862,0.4942641760495632,-0.447562628180164,-1.2037135027072279,0.15794656724351416,-0.385421374413293,-2.1496229206775492,-0.3307223136668681,1.2575191394489391,-1.5476242067628785,3.131109686024468,1.462123098718495,0.8991171184051723,-2.449687265866496,-1.7753029685613282,-1.511228204930187,0.1849927054990113,6.025315183094065,10.696912060561665,-3.013187688575189,-3.151178786222455,-8.527141337724576,3.052585084098929,-5.897119591515681,1.2532164015467173,-4.626089710779029,0.8315729895424759,0.2392349906359794,5.8161637116495255,0.727776999641651,-3.196610674081507,-10.033746944027715,-0.07446865364441886,-0.37128002811853716,-1.3249572560405778,1.5848273564778843,2.644735702852878,0.04650440715817093,-2.4149424777425654,1.692772970103634,10.265117204256528,0.7873392513721839,-10.292826604394483,-7.100066949402241,2.990483408648143,-0.09079279422226398,-2.634163816756804,0.9382758358413867,0.9784910639130361,0.6640427620100056,1.7358043317794112,-0.5235764820417604,-0.42138250769193486,1.8911900490436209,0.24370055593962245,3.904415178649166,-0.5286026965052021,10.445456633889496,1.0709379993970467,1.7613475460766241,-10.001198554239634,-0.5462489335336395,10.077343168731863,0.2770134933817069,2.52945406065356,-16.95000013771533,-0.5377199313413893,-0.10912716570473528,-0.8258366579438495,2.0645943403143403,0.807074818687043,6.485225919866572,-1.7737910622268451,-2.4011426306311145,-3.3519643666131946,6.915719651860185,-0.9951269724111549,-0.4514236754250364,-11.580626905320885,6.114785031207769,0.2875688572128572,0.39777962370511744,-5.210960969234902,2.629830577597517,-2.673705686045584,-0.9011356292269498,-2.265201775658537,7.649860764729222,0.2446886057572138,0.012802663276759383,-1.598288315437602,2.4584903223347254,3.213383238927904,0.2907396336601704,-2.528651617081568,-0.4627802436244798,-1.1782636468269025,-1.9207449888112547,-1.2048095471539213,0.13441573363570883,-0.02026119905372063,-1.6008645767922267,6.191613481391027,1.4744490469939238,1.0454440999644945,-6.439799099943586,-2.0169650178498806,0.23250028136711332,0.419984986718948,0.7543540171122421,-0.6965724694596042,-0.25625349818419313,2.8951506878554514,7.540835830804869,0.6241509130788968,-0.08369104946267283,-6.799441618327817,1.039233669728439,1.1343405954833783,0.150294705630299,-2.636618553345665,-3.845538946383732,1.404152352395893,3.1341028713445422,4.944567731040431,2.476673909764221,1.5663693587558216,-2.6772058731906276,-0.7818185203786344,-1.3151354996321383,-0.12003011040059058,-1.3256266093013813,-1.9858890548002248,3.6324745306656463,2.979372160258567,-1.0200636121813949,1.2048366001740176,-3.428718255924066,19.387373809165094,4.190474631338229,0.9544599536354378,-12.148035903861503,3.8530267891828323,-1.630716612787939,-0.9695355555005092,-4.8705491727336785,9.06542062380397,-0.546438294521009,0.5077385311279924,-13.25658032073296,-0.18293457281200382,1.9799138569825387,1.9272032385741786,-2.6656698933140563,0.9189018510355579,1.2149008880461618,-0.5746973824582882,-0.28792950585951016,-6.016310351652451,0.057431778247100725,-0.28201034433700245,0.4212062524065031,-0.5713696928739564,1.2496816882561024,1.0530416784835126,4.922187913695081,-0.02491247529939343,0.08939824694187624,-3.656677814795501,-0.9603522416855406,-3.987782008499811,-0.3161351638383863,7.47320012875301,12.461720583798536,1.0599366746831316,-1.8313642446225558,-9.03436860888709,5.495762272882627,-2.070993955334132,-0.7352987430217649,-1.7320925753758782,-2.580081009445855,2.470670978148764,-0.24768898516966073,-0.09964357342484595,0.803506538281888,1.221318215508435,-3.715022685320001,7.954066134580521,-5.4217171168656435,0.9126717724834731,-6.213071081460237,7.991824866191067,-0.7374404450344597,1.802112929553356,-1.068933910003373,2.4888257731085135,1.168095770025014,0.08244953087606732,8.572795651307361,-2.057984130433655,-0.7246862123373682,-6.940023522059899,-2.7291324438402347,-7.246691890319187,0.6532086553547634,1.9691096952256146,3.84327231772034,-1.5955282892542588,0.5606149240954346,4.019784385342966,2.3886436266247046,1.852900598246398,9.242495076549888,5.876126968830102,-5.293124207465386,-5.310899599750114,2.097696216476825,0.7791422450907911,3.697511474250991,-3.431878044829974,3.04851517295614,-1.0291255500197336,-0.12138236152295855,6.16819473412571,-4.651431705809904,-2.112598171136005,-5.696751896280446,-2.1342567108322137,0.801069464563679,-0.8035751020404401,4.910236050549637,3.77602804346203,-0.7720973619292805,-6.639998420846135,-1.350798071901132,1.0489053957013088,-0.4742813971542418,-0.770696372112054,3.338751643820278,0.8997568815262532,-0.6694557616284168,-11.308212705102719,1.266547730621522,1.8660727501424206,0.862381925864404,-4.298914474534157,1.2887055662654527,-3.844469210524976,5.2860244680842845,1.8478406618393286,1.2489404140378977,-2.4733885469629477,-0.5583747025059105,-2.4806461301776372,5.517270593935153,-0.8954109253161727,8.342814097174868,1.1481093808047913,0.529064843969475,-9.926312372478188,0.18056235816422608,3.207441780764505,2.1109434988612734,-0.5901942171016812,-2.426394177620913,-5.403370641958789,-0.05739615908360443,9.733830745796814,2.2453643454513696,25.31907783330467,-6.254490076370895,-3.6877535801902406,-21.455529681552882,1.1728140254046548,-0.21490077455677492,-1.2062552879759043,-2.1312791602514616,0.33062002141015306,2.256815381575373,-0.7617033308346802,-0.7227363162450742,1.5508566722537267,1.780785069645203,9.84258824961598,4.391314322685654,1.2776500181991748,-4.688581952051753,-12.81557625031798,0.79659535658425,-1.8832318478325545,-1.6493707594488154,4.126402859500483,-0.3558123063948691,11.04157097568839,-6.172306490684678,-0.6044601380706099,-8.432681528847443,-0.9956014181074151,2.555096491407968,8.676350652577135,12.457412987905673,-1.8358781188138509,-5.663827613205704,-10.521931852916394,-1.1307119606031268,1.2034541469372302,7.797558778594204,3.1274766130874383,-1.7147163106965229,-8.29271024325078,-1.7562348558693435,1.868825428821847,2.0028238014173083,0.18808910471565685,-3.3891660273098725,-1.331074137975829,-1.5406655675700203,5.077457015787646,2.5899098056216854,2.3442466265677617,-2.5458653926295285,-11.469433891074692,5.12452566429564,6.278383836849208,-2.980228766288395,-0.027101486456617693,-6.639020789457844,-0.1507289737074737,8.969127358748185,7.923460164220696,2.5673611854631027,-15.399290703500872,-9.037180234920712,-1.525264384765423,0.3502072268862086,-2.096470620701778,-0.5532483225501945,-0.2769685131786548,-0.8104412413643127,-0.6348533801429775,3.003931143579668,11.912393825666285,9.42837189909682,7.0312603958740985,-11.114352527334672,-6.080228707266495,-21.50121233743131,0.5522021542946236,-2.048810418935935,-0.8682779309235489,0.05935760657820638,-0.34279813008399274,6.03187029607614,3.0169797296290106,10.682585168376725,-0.9423387332612412,0.024034080480953,-6.0694363411440495,4.958093505377499,0.39663264637336754,-3.728649679459972,-6.774389371277315,1.5738777068342653,-0.9891435656979509,7.843430050931576,-1.238711640312446,0.14014658733287352,3.6815794883818973,0.7272555631936968,5.777494383224343,-8.944369831590992,0.5587591264169863,8.27983729220832,4.892496558478546,2.9874515588353137,-9.417722371137314,-6.891299244502605,-0.08314373672638185,0.344668533537296,0.40501845231042244,-0.5065713323445364,0.9186263068990729,-1.6019601837106234,-1.3043359057119464,0.08887876353503302,5.584245659836709,-1.9972240311926062,2.4174628812316863,-4.300970298345293,5.624838105146484,-3.323957769582092,10.619284622182553,8.362506156829586,-0.9032209971583525,-10.289474814711523,-8.655300018865226],\"z\":[-2.637328170974036,6.157932729366986,-2.4741355688089794,-0.7902871756664865,17.462738783085197,1.0980295218237304,1.7728198523583525,-1.4536721840441236,-0.1040745039325197,3.4307237431871225,-3.8763268715706327,1.0008727462048683,-1.8706520225679786,-2.3164912222168303,0.5353872178732048,-4.888352582878854,-4.697831374430587,0.25113491213934563,2.815172260877647,16.707566863139068,-1.025320340775836,-0.21165337448275676,6.487395028720341,-2.4365017291817868,-3.980997221688098,-3.0958339361510707,5.015488543485285,-2.240383020225775,6.320239396127076,22.974196493307737,4.0920650485775205,0.08764642929440987,-4.182761314482841,4.60226373162078,0.3872168760140078,-3.9329940413269893,-4.858475395133373,5.4578966739480945,1.3399857344350543,-3.780442582723808,3.161505524559326,6.078723857340778,17.470072555163785,-5.255849506405927,3.525116288464505,30.667580157424858,-3.9968333683815858,-2.0152067624298198,0.6762095622495091,-1.4611727952744218,-3.87267519012605,1.6615985118766383,-2.8766090703018823,-4.300185195794435,8.742663526374201,1.7652561958510764,-3.650329612282374,1.1834031999420411,-2.2512996327120627,-2.5266212597979427,-3.023481525034699,-4.040771452115766,-1.21178604139602,2.9415559056678755,-0.852495115716783,4.001186731646098,14.323033307399138,10.208656945569059,1.3425934227378489,1.2753249522051275,1.2596792113613926,-1.6167299678618172,-4.1257185451686595,-2.982316078858858,-3.6800916725063555,0.9087478953129747,3.968059308337367,-2.2462513071425736,21.860067563195795,0.4184566865218648,-3.4815563205062174,5.883723791410247,-2.0064725096942437,-4.762234611666482,-2.8178623071990683,0.5137288297530711,-3.9074436562128807,-2.5372586753837703,-0.6642549224008144,-3.214423809877415,-2.7941174090637912,8.772039235249988,-4.953566237826598,-2.7459205219216565,2.8608387463647795,-4.994083936819723,-1.364733418211156,-1.6632121099051422,-3.5802362689556957,-4.118743941892616,8.289590991913517,-1.9188412163323167,-1.570441523494923,-3.3983018816990165,-0.9442867714570227,3.916560756710905,-4.195880641069345,-2.5159830442146776,7.217291639074205,-3.6720334112966415,12.60688613264039,-1.1743331317591799,-3.383961382448086,1.3288511401170264,1.3775980003253592,1.0771895876913316,0.4660445788008673,7.759432626067863,4.1050899384835935,-0.04095745572887523,3.5245590421580193,-0.7078178389438259,-4.315277988981431,2.420566435517166,-1.7738852211538942,-1.8049260007307693,-3.061375147050966,23.160790002057674,1.3332765387158618,-3.9135600112265325,10.923754946600022,-2.443030404440607,-3.5355470415391004,-4.327201650456077,0.38834204235136294,-3.1690177500366254,-4.901348525767674,6.6938526294082035,-1.6841413770492737,-4.772376984576148,1.5569857378991865,-3.7508375742167277,-1.7602543960027504,-0.5721952257857678,-1.4433127036165196,-1.3528544180748487,-3.4918775098223085,3.4411453453145833,-4.289103677783204,-0.564974056745517,1.3091381444770505,-0.8652241828456033,0.4909402416328563,-0.5510204520987484,-2.076228540516017,4.051954693418014,-0.5022802721969091,0.5270357791720506,0.41488746619513917,0.020735459022002387,-2.8060444105590396,2.05095873655491,1.9142360371932579,-1.8978664361205897,0.3975356038155336,-1.155260987538905,0.8740823682703972,-1.6980431161072524,-2.535066573359374,-4.363375310652841,-1.6233732044216893,-4.400117929089805,-3.6440906593208107,0.07551038358158459,0.4905080094504059,-3.824347554662651,1.8216434099692715,0.2305456686099053,-1.7743392060878986,-3.1305067624505156,-2.186299668132971,-2.810212912521406,-3.117310766545676,-0.9881457866124377,-4.14203726918811,-0.35075957490946824,-0.462466602590266,-0.10815799992809984,-0.9442790803609,-3.429914623194429,-2.377110577403187,-3.4288831540542435,-2.7632247949784374,2.981839183550124,-1.5660782618916518,-4.304566340605669,-2.4205366859302355,-3.7103932001192934,-3.0723574581993107,2.013811901819075,-1.6961212933367171,17.3270749502138,-0.8192092230126998,0.6749877982376336,4.285526590118553,-4.879438123014089,2.0710905282326237,-0.3789612397840461,-4.981757791720346,1.3338221158556913,-2.111438317837688,-0.19040739404633913,-3.3723072322079113,-2.3253454091708,-1.7797669138446688,-3.962363799216841,-1.8058692576015025,-3.4779908555428163,-4.807254754632541,-4.908002501310676,-3.6774718508688937,-5.1388258570111915,-4.890078803139106,-4.761886770735455,0.8481379534796951,8.730670150394282,-2.0904651758384727,0.7798938956102155,5.055897779368573,0.9807496186670788,-3.759746805177045,4.369901739253373,-1.7123378748035878,-0.2700590401454438,-2.8563332073807866,-1.3477703680611588,1.7744957123110086,-4.035686707506528,-3.365135274052386,-1.4135958576063832,-3.6578672432326,-0.6481693728066307,-0.2976954873407565,-4.045032972353401,-3.2381608953152345,-0.7352734955135455,0.1431390665737775,-5.042184602917727,-2.230882736506175,0.08933036523865766,-4.657221369163242,-0.8289129250622924,-4.556966843798315,-2.5744450346525247,-2.578805970113875,-0.9051036448705857,1.3822477930609027,-2.7446297580277323,3.6400327042377407,-0.6575076294782652,3.2210477635459367,11.726099822502121,11.552159186451945,-1.830500053114198,-4.839688273050878,1.4171360183094257,-2.2898284096724493,-3.4026062909956103,-4.888810845362478,0.5333773186018876,7.639138351941744,-4.982628383047482,2.8476559891103395,0.5690838137108197,-3.4986369391972874,-1.7646104591222898,-5.186004953062665,-4.9782393231168784,-1.648059159958254,-4.330192613148152,-5.193254404130713,-1.771998031906089,-3.8225240770023614,-4.170555370814783,0.5976373278475602,3.3370930623777117,-3.850527893573601,3.188802484467135,1.0170119555168913,-4.319852340743775,-5.002688519984971,3.660461672603111,-3.1335802891013698,-0.5933542156639928,-1.014269428604934,-3.231101500462753,0.6470716063135411,-2.391616835604491,0.5468642234220711,-2.649016363110631,2.818312391660103,4.405241924744015,1.4163451233532383,-4.418268939342308,-2.7016166471388363,3.170173120836119,-1.6730025124063843,-2.0011297363594904,-1.0819901526960365,-3.124005214484507,-3.0876885812189734,-1.1326435659695815,-2.649442147551703,-2.6402476500401075,-4.260062098847667,1.680174922143766,-1.749519744132597,-2.1458030820728022,-0.341336068398285,1.1952710644954005,-2.369792440912769,2.907776795876625,0.12139416057421114,7.126692412411497,-0.6723247494977347,8.335527620016112,1.1902618521713375,5.153903461001158,-1.848619773866111,-1.4890281239183343,4.489238829271154,-3.6277928274374855,3.0335329596407097,9.697245101378037,-3.5088951630184915,-1.623043623272538,3.7627640825779034,-2.5878474052564067,-2.9108716787885807,-4.073109552769169,-3.0076348898384553,-2.9640911515209036,-4.522181490511024,-3.6511192644488006,14.061227178259633,1.6069364899762313,-5.241506659405309,1.3572551399948214,2.5470776171057756,-2.873394609282604,-3.8384645191737197,-3.8535987087372354,-1.8678174237566738,0.01710538043710099,-2.3783241641661146,-0.7599541205782097,-1.605670701975254,-1.040972493204143,0.9963064479089058,-1.9944296553534593,-2.4482545479532605,1.8336984219168102,3.505141767129302,-0.6951022826631684,0.4476198146996097,1.0409097867058326,-3.3837060892198814,18.280693119886767,-4.128035820777119,-2.957995419364106,11.078092380422182,-4.768969180589247,3.710654149969915,-4.712462735175059,-3.5830473293162868,-1.2103615983324503,-0.6995909414439827,-3.6629183861882653,1.3598892336632518,-1.5727801019787109,11.997334156585637,-3.178315091582355,-5.0421443830189805,6.766223681092609,0.0798005315316801,-5.224703837040143,-0.5517069992375778,3.0377566279358983,-3.9944057150472148,-0.8473236605161678,-3.1486257716619153,-3.825331336007113,-1.4925895248784813,-4.344327683050658,-4.566102328844661,2.3074279031596197,-3.3838244041671053,-3.445169295101844,-2.8799227446476627,1.8083801172957872,1.2641857807280987,-2.3300476595065813,-4.134514649926203,-2.9463744916445007,-2.1983084541637123,-4.660159365929074,-3.7197600828791093,0.8668693002867518,-3.898130187760897,-3.770140901769841,-0.8190644205702081,-4.06071743602248,-4.394246224853998,-4.433925732402162,-4.143441480350325,-4.79405191409942,-4.203569857476322,2.2280721284620904,2.613505415911294,-3.53908974603674,2.135199534812278,-1.4479341480419083,-1.9677897102255217,5.505720599070708,-4.75965828322878,-3.8929050403413683,-1.9752727015893885,-3.930616178701583,-1.7746976442472033,2.0077877446928394,-1.3350317485750995,3.6839264084252594,1.0542233882052723,-0.6612346289572927,0.35747812666877155,-0.5906618605516176,-3.8539115654622647,-3.4035267686525987,2.6553983760621684,-1.5451353841431592,-4.769773255888312,-1.1362731537973687,-0.9766293592185556,5.8806039944817305,-5.690155660328697,-2.5954337917062986,5.807620114601213,1.4272726919867758,-3.1146733949191754,1.1467516330389156,-2.2511464253723594,9.446877802597047,-0.344990117229336,-5.303820715463866,8.466428483402627,-1.327082036420266,-5.682623709261252,-2.7683472982400787,-3.75573769789072,-4.358895878125251,6.012575672080658,-5.005601645700077,-1.2310764214562968,0.10493977712975405,-4.580313265955951,-2.976862544241171,1.4632099891125931,-5.011562691544453,-5.085643878427394,-1.0526208172057894,-3.0878156639998067,-4.40534236908192,0.2981561430604948,-3.1293367285656406,-3.9499116088713944,-3.0561225807958246,-4.429212287088911,-0.7990317504016601,1.084645958511761,-3.897024690355476,5.680516298343197,2.532895724197274,0.12443139438438125,3.5739976702848275,-3.968810451499485,3.612591083431806,2.128233233505172,-3.2288518710770777,-2.4880646697577675,0.5127462837881603,-0.3286248815521912,3.883087700469499,-2.1145565584985073,3.233009668391717,-2.294127369666215,-3.8610123493781052,1.9125023339094875,-0.6455351985564404,-3.6317765323161297,0.6459975173100393,5.815579399544521,-3.1485856045039475,3.572191190173862,7.123081366210678,1.617758623523485,6.509236197898732,9.38360454566162,4.5287742384161005,-3.0648444000982527,4.69524040268182,-2.116831235063195,-3.628912180637071,-2.6728273662529514,-2.32885831105673,-1.3340357283879036,3.4850851185678264,-3.345085146491652,2.941431456651352,6.286082408297063,4.874661677798179,1.954607349665361,3.2704683060232695,1.7598701139031137,-3.2634248641145573,7.053599676384866,3.5464836293838897,-0.07546958474711496,4.392131280581364,-1.2118273251148863,6.225718494625971,1.0782470576714542,-4.084104306208729,2.341505651017569,-3.9574707977286403,-5.324251614238985,1.0909290480003688,1.2626800323382417,-2.557986060265346,0.433701332425499,3.334454056930175,0.9268291328930626,-1.4576618599356572,-4.944579145836618,-2.824272219497057,15.183131804624175,-4.565271469482276,-4.917492064457521,4.138781164194609,1.759119482497033,-2.9808741015379234,1.410424981891013,-1.5153599585951176,-5.415083391690664,-2.3234959239734576,-2.1993529847596363,-3.6723998233852777,-2.1950852985851657,-3.5705990367030838,-1.3923542734703866,-3.8629656700277955,-1.6868871096036973,-3.731000535873173,5.953570071437435,-0.5838246722507406,-5.022633531536556,0.5034560402732529,4.689547519320181,-3.5818286942964312,1.8255084378871496,-3.4997334729491216,-3.0798100106322064,-1.3985331406860793,-2.727131102163906,0.6036595195865874,-2.948774900797468,13.717003390107195,0.925100298100595,0.5813864939636187,12.8650846471615,-0.8215014607832796,-4.942205060680419,-4.270790976461198,-3.2530820561230955,-5.023149641946106,-3.258931832185617,-4.763497512741187,-4.929995171087371,-0.7135022429059832,-3.573137376377692,1.8377753767482021,18.732504711754686,-4.578857468470129,9.23506829499841,6.565755835164952,-2.2218615654156855,-3.7784471130766475,-4.052535569221777,15.174189158452034,-4.37075735753963,2.5960268467151884,0.48780988199061404,-3.987048024925566,6.3947903806167306,-4.319824182959632,-2.225589339611788,-1.4930474664423643,2.087014456565181,-1.7900006836991305,-1.6003246366021295,13.21227090826563,-2.764751078057128,-2.472619874152072,1.3374240950474894,-1.9943512996505752,-1.6961433899667595,2.3935783426145267,0.11999207924153839,-0.3681844355055649,-2.2139100376488927,-2.6421401157929294,1.0711530255853183,3.354532327586626,-3.4689770722545874,-2.136313220546791,14.999367548572165,-2.1931931698966998,5.244110177152956,5.937096646404975,1.229538932913962,4.503462662003246,-3.5668927412503852,-0.3964816588166229,0.6093779595520741,-4.791083277442271,17.510922886574328,6.035062939463307,-1.3750550249606748,6.511982830644228,8.860170712889568,2.0185539062539726,-3.9125704892176554,-1.4491175499225144,-4.690631469560443,-3.6170078711073237,-4.879597287067755,-4.379583810238577,3.6917998807408896,5.286092101622258,3.912579458669322,29.005322889772337,5.1604300017212825,2.3532036328412826,8.964058413618755,-4.319903004331275,-4.002060704250244,-3.0972098331313385,-3.2227901467319495,-4.89238799807626,0.5528247474118667,0.3364331017510421,1.7215582357060963,1.9966926265581864,-0.05091801560177659,9.777161473771134,3.369242584864166,0.6318839885621638,-0.18785064939632157,3.7255207660373166,-2.1353779809404556,-2.7393977547774346,2.3762573149096093,3.0097987585591244,-2.2370477373376656,9.853157971585173,-1.9645922473739674,3.3907381228755797,0.4869281530208204,-3.4366107129009955,4.154966654116539,4.295569772167193,0.32544205351815103,2.7795675174223664,1.2102453913250795,-0.12819916986814164,-4.513010832516905,-0.7637948716275216,3.671072773686059,0.41361362096674986,-2.217642875176094,0.6160086313230844,-3.1889913856474923,1.7222434330592808,-3.894398650936101,-3.0620317970638418,-0.35648139152357916,-1.4303069894500156,-0.029066171308930612,2.0887849284699307,9.511184876181787,-4.786793601674722,20.02737349970669,4.814656809303174],\"type\":\"scatter3d\"}],                        {\"template\":{\"data\":{\"bar\":[{\"error_x\":{\"color\":\"#2a3f5f\"},\"error_y\":{\"color\":\"#2a3f5f\"},\"marker\":{\"line\":{\"color\":\"#E5ECF6\",\"width\":0.5},\"pattern\":{\"fillmode\":\"overlay\",\"size\":10,\"solidity\":0.2}},\"type\":\"bar\"}],\"barpolar\":[{\"marker\":{\"line\":{\"color\":\"#E5ECF6\",\"width\":0.5},\"pattern\":{\"fillmode\":\"overlay\",\"size\":10,\"solidity\":0.2}},\"type\":\"barpolar\"}],\"carpet\":[{\"aaxis\":{\"endlinecolor\":\"#2a3f5f\",\"gridcolor\":\"white\",\"linecolor\":\"white\",\"minorgridcolor\":\"white\",\"startlinecolor\":\"#2a3f5f\"},\"baxis\":{\"endlinecolor\":\"#2a3f5f\",\"gridcolor\":\"white\",\"linecolor\":\"white\",\"minorgridcolor\":\"white\",\"startlinecolor\":\"#2a3f5f\"},\"type\":\"carpet\"}],\"choropleth\":[{\"colorbar\":{\"outlinewidth\":0,\"ticks\":\"\"},\"type\":\"choropleth\"}],\"contour\":[{\"colorbar\":{\"outlinewidth\":0,\"ticks\":\"\"},\"colorscale\":[[0.0,\"#0d0887\"],[0.1111111111111111,\"#46039f\"],[0.2222222222222222,\"#7201a8\"],[0.3333333333333333,\"#9c179e\"],[0.4444444444444444,\"#bd3786\"],[0.5555555555555556,\"#d8576b\"],[0.6666666666666666,\"#ed7953\"],[0.7777777777777778,\"#fb9f3a\"],[0.8888888888888888,\"#fdca26\"],[1.0,\"#f0f921\"]],\"type\":\"contour\"}],\"contourcarpet\":[{\"colorbar\":{\"outlinewidth\":0,\"ticks\":\"\"},\"type\":\"contourcarpet\"}],\"heatmap\":[{\"colorbar\":{\"outlinewidth\":0,\"ticks\":\"\"},\"colorscale\":[[0.0,\"#0d0887\"],[0.1111111111111111,\"#46039f\"],[0.2222222222222222,\"#7201a8\"],[0.3333333333333333,\"#9c179e\"],[0.4444444444444444,\"#bd3786\"],[0.5555555555555556,\"#d8576b\"],[0.6666666666666666,\"#ed7953\"],[0.7777777777777778,\"#fb9f3a\"],[0.8888888888888888,\"#fdca26\"],[1.0,\"#f0f921\"]],\"type\":\"heatmap\"}],\"heatmapgl\":[{\"colorbar\":{\"outlinewidth\":0,\"ticks\":\"\"},\"colorscale\":[[0.0,\"#0d0887\"],[0.1111111111111111,\"#46039f\"],[0.2222222222222222,\"#7201a8\"],[0.3333333333333333,\"#9c179e\"],[0.4444444444444444,\"#bd3786\"],[0.5555555555555556,\"#d8576b\"],[0.6666666666666666,\"#ed7953\"],[0.7777777777777778,\"#fb9f3a\"],[0.8888888888888888,\"#fdca26\"],[1.0,\"#f0f921\"]],\"type\":\"heatmapgl\"}],\"histogram\":[{\"marker\":{\"pattern\":{\"fillmode\":\"overlay\",\"size\":10,\"solidity\":0.2}},\"type\":\"histogram\"}],\"histogram2d\":[{\"colorbar\":{\"outlinewidth\":0,\"ticks\":\"\"},\"colorscale\":[[0.0,\"#0d0887\"],[0.1111111111111111,\"#46039f\"],[0.2222222222222222,\"#7201a8\"],[0.3333333333333333,\"#9c179e\"],[0.4444444444444444,\"#bd3786\"],[0.5555555555555556,\"#d8576b\"],[0.6666666666666666,\"#ed7953\"],[0.7777777777777778,\"#fb9f3a\"],[0.8888888888888888,\"#fdca26\"],[1.0,\"#f0f921\"]],\"type\":\"histogram2d\"}],\"histogram2dcontour\":[{\"colorbar\":{\"outlinewidth\":0,\"ticks\":\"\"},\"colorscale\":[[0.0,\"#0d0887\"],[0.1111111111111111,\"#46039f\"],[0.2222222222222222,\"#7201a8\"],[0.3333333333333333,\"#9c179e\"],[0.4444444444444444,\"#bd3786\"],[0.5555555555555556,\"#d8576b\"],[0.6666666666666666,\"#ed7953\"],[0.7777777777777778,\"#fb9f3a\"],[0.8888888888888888,\"#fdca26\"],[1.0,\"#f0f921\"]],\"type\":\"histogram2dcontour\"}],\"mesh3d\":[{\"colorbar\":{\"outlinewidth\":0,\"ticks\":\"\"},\"type\":\"mesh3d\"}],\"parcoords\":[{\"line\":{\"colorbar\":{\"outlinewidth\":0,\"ticks\":\"\"}},\"type\":\"parcoords\"}],\"pie\":[{\"automargin\":true,\"type\":\"pie\"}],\"scatter\":[{\"marker\":{\"colorbar\":{\"outlinewidth\":0,\"ticks\":\"\"}},\"type\":\"scatter\"}],\"scatter3d\":[{\"line\":{\"colorbar\":{\"outlinewidth\":0,\"ticks\":\"\"}},\"marker\":{\"colorbar\":{\"outlinewidth\":0,\"ticks\":\"\"}},\"type\":\"scatter3d\"}],\"scattercarpet\":[{\"marker\":{\"colorbar\":{\"outlinewidth\":0,\"ticks\":\"\"}},\"type\":\"scattercarpet\"}],\"scattergeo\":[{\"marker\":{\"colorbar\":{\"outlinewidth\":0,\"ticks\":\"\"}},\"type\":\"scattergeo\"}],\"scattergl\":[{\"marker\":{\"colorbar\":{\"outlinewidth\":0,\"ticks\":\"\"}},\"type\":\"scattergl\"}],\"scattermapbox\":[{\"marker\":{\"colorbar\":{\"outlinewidth\":0,\"ticks\":\"\"}},\"type\":\"scattermapbox\"}],\"scatterpolar\":[{\"marker\":{\"colorbar\":{\"outlinewidth\":0,\"ticks\":\"\"}},\"type\":\"scatterpolar\"}],\"scatterpolargl\":[{\"marker\":{\"colorbar\":{\"outlinewidth\":0,\"ticks\":\"\"}},\"type\":\"scatterpolargl\"}],\"scatterternary\":[{\"marker\":{\"colorbar\":{\"outlinewidth\":0,\"ticks\":\"\"}},\"type\":\"scatterternary\"}],\"surface\":[{\"colorbar\":{\"outlinewidth\":0,\"ticks\":\"\"},\"colorscale\":[[0.0,\"#0d0887\"],[0.1111111111111111,\"#46039f\"],[0.2222222222222222,\"#7201a8\"],[0.3333333333333333,\"#9c179e\"],[0.4444444444444444,\"#bd3786\"],[0.5555555555555556,\"#d8576b\"],[0.6666666666666666,\"#ed7953\"],[0.7777777777777778,\"#fb9f3a\"],[0.8888888888888888,\"#fdca26\"],[1.0,\"#f0f921\"]],\"type\":\"surface\"}],\"table\":[{\"cells\":{\"fill\":{\"color\":\"#EBF0F8\"},\"line\":{\"color\":\"white\"}},\"header\":{\"fill\":{\"color\":\"#C8D4E3\"},\"line\":{\"color\":\"white\"}},\"type\":\"table\"}]},\"layout\":{\"annotationdefaults\":{\"arrowcolor\":\"#2a3f5f\",\"arrowhead\":0,\"arrowwidth\":1},\"autotypenumbers\":\"strict\",\"coloraxis\":{\"colorbar\":{\"outlinewidth\":0,\"ticks\":\"\"}},\"colorscale\":{\"diverging\":[[0,\"#8e0152\"],[0.1,\"#c51b7d\"],[0.2,\"#de77ae\"],[0.3,\"#f1b6da\"],[0.4,\"#fde0ef\"],[0.5,\"#f7f7f7\"],[0.6,\"#e6f5d0\"],[0.7,\"#b8e186\"],[0.8,\"#7fbc41\"],[0.9,\"#4d9221\"],[1,\"#276419\"]],\"sequential\":[[0.0,\"#0d0887\"],[0.1111111111111111,\"#46039f\"],[0.2222222222222222,\"#7201a8\"],[0.3333333333333333,\"#9c179e\"],[0.4444444444444444,\"#bd3786\"],[0.5555555555555556,\"#d8576b\"],[0.6666666666666666,\"#ed7953\"],[0.7777777777777778,\"#fb9f3a\"],[0.8888888888888888,\"#fdca26\"],[1.0,\"#f0f921\"]],\"sequentialminus\":[[0.0,\"#0d0887\"],[0.1111111111111111,\"#46039f\"],[0.2222222222222222,\"#7201a8\"],[0.3333333333333333,\"#9c179e\"],[0.4444444444444444,\"#bd3786\"],[0.5555555555555556,\"#d8576b\"],[0.6666666666666666,\"#ed7953\"],[0.7777777777777778,\"#fb9f3a\"],[0.8888888888888888,\"#fdca26\"],[1.0,\"#f0f921\"]]},\"colorway\":[\"#636efa\",\"#EF553B\",\"#00cc96\",\"#ab63fa\",\"#FFA15A\",\"#19d3f3\",\"#FF6692\",\"#B6E880\",\"#FF97FF\",\"#FECB52\"],\"font\":{\"color\":\"#2a3f5f\"},\"geo\":{\"bgcolor\":\"white\",\"lakecolor\":\"white\",\"landcolor\":\"#E5ECF6\",\"showlakes\":true,\"showland\":true,\"subunitcolor\":\"white\"},\"hoverlabel\":{\"align\":\"left\"},\"hovermode\":\"closest\",\"mapbox\":{\"style\":\"light\"},\"paper_bgcolor\":\"white\",\"plot_bgcolor\":\"#E5ECF6\",\"polar\":{\"angularaxis\":{\"gridcolor\":\"white\",\"linecolor\":\"white\",\"ticks\":\"\"},\"bgcolor\":\"#E5ECF6\",\"radialaxis\":{\"gridcolor\":\"white\",\"linecolor\":\"white\",\"ticks\":\"\"}},\"scene\":{\"xaxis\":{\"backgroundcolor\":\"#E5ECF6\",\"gridcolor\":\"white\",\"gridwidth\":2,\"linecolor\":\"white\",\"showbackground\":true,\"ticks\":\"\",\"zerolinecolor\":\"white\"},\"yaxis\":{\"backgroundcolor\":\"#E5ECF6\",\"gridcolor\":\"white\",\"gridwidth\":2,\"linecolor\":\"white\",\"showbackground\":true,\"ticks\":\"\",\"zerolinecolor\":\"white\"},\"zaxis\":{\"backgroundcolor\":\"#E5ECF6\",\"gridcolor\":\"white\",\"gridwidth\":2,\"linecolor\":\"white\",\"showbackground\":true,\"ticks\":\"\",\"zerolinecolor\":\"white\"}},\"shapedefaults\":{\"line\":{\"color\":\"#2a3f5f\"}},\"ternary\":{\"aaxis\":{\"gridcolor\":\"white\",\"linecolor\":\"white\",\"ticks\":\"\"},\"baxis\":{\"gridcolor\":\"white\",\"linecolor\":\"white\",\"ticks\":\"\"},\"bgcolor\":\"#E5ECF6\",\"caxis\":{\"gridcolor\":\"white\",\"linecolor\":\"white\",\"ticks\":\"\"}},\"title\":{\"x\":0.05},\"xaxis\":{\"automargin\":true,\"gridcolor\":\"white\",\"linecolor\":\"white\",\"ticks\":\"\",\"title\":{\"standoff\":15},\"zerolinecolor\":\"white\",\"zerolinewidth\":2},\"yaxis\":{\"automargin\":true,\"gridcolor\":\"white\",\"linecolor\":\"white\",\"ticks\":\"\",\"title\":{\"standoff\":15},\"zerolinecolor\":\"white\",\"zerolinewidth\":2}}},\"scene\":{\"xaxis\":{\"title\":{\"text\":\"0th\"},\"type\":\"linear\",\"showexponent\":\"all\",\"exponentformat\":\"e\"},\"yaxis\":{\"title\":{\"text\":\"1st\"},\"type\":\"linear\",\"showexponent\":\"all\",\"exponentformat\":\"e\"},\"zaxis\":{\"title\":{\"text\":\"2nd\"},\"type\":\"linear\",\"showexponent\":\"all\",\"exponentformat\":\"e\"}}},                        {\"responsive\": true}                    ).then(function(){\n",
              "                            \n",
              "var gd = document.getElementById('306a1857-1511-400d-accd-90ed3cd56a85');\n",
              "var x = new MutationObserver(function (mutations, observer) {{\n",
              "        var display = window.getComputedStyle(gd).display;\n",
              "        if (!display || display === 'none') {{\n",
              "            console.log([gd, 'removed!']);\n",
              "            Plotly.purge(gd);\n",
              "            observer.disconnect();\n",
              "        }}\n",
              "}});\n",
              "\n",
              "// Listen for the removal of the full notebook cells\n",
              "var notebookContainer = gd.closest('#notebook-container');\n",
              "if (notebookContainer) {{\n",
              "    x.observe(notebookContainer, {childList: true});\n",
              "}}\n",
              "\n",
              "// Listen for the clearing of the current output cell\n",
              "var outputEl = gd.closest('.output');\n",
              "if (outputEl) {{\n",
              "    x.observe(outputEl, {childList: true});\n",
              "}}\n",
              "\n",
              "                        })                };                            </script>        </div>\n",
              "</body>\n",
              "</html>"
            ]
          },
          "metadata": {}
        }
      ]
    },
    {
      "cell_type": "markdown",
      "source": [
        "#### Incrustacion y plot de componentes principales de temperaturas"
      ],
      "metadata": {
        "id": "g88k1QXX9yy5"
      }
    },
    {
      "cell_type": "code",
      "source": [
        "df_final.boxplot('temperatures')"
      ],
      "metadata": {
        "colab": {
          "base_uri": "https://localhost:8080/",
          "height": 282
        },
        "id": "rDOuj9aa2zTy",
        "outputId": "47e4b7c5-e1c6-49cd-d90e-74f2fe144c28"
      },
      "execution_count": 18,
      "outputs": [
        {
          "output_type": "execute_result",
          "data": {
            "text/plain": [
              "<matplotlib.axes._subplots.AxesSubplot at 0x7ffb880e9bd0>"
            ]
          },
          "metadata": {},
          "execution_count": 18
        },
        {
          "output_type": "display_data",
          "data": {
            "text/plain": [
              "<Figure size 432x288 with 1 Axes>"
            ],
            "image/png": "[encoded data removed]"
          },
          "metadata": {
            "needs_background": "light"
          }
        }
      ]
    },
    {
      "cell_type": "code",
      "source": [
        "y_periodic_embedded = fit_embedder(embedder_periodic, df_final['temperatures'])\n",
        "pca = PCA(n_components=3)\n",
        "y_periodic_embedded_pca = pca.fit_transform(y_periodic_embedded)\n",
        "plot_point_cloud(y_periodic_embedded_pca)"
      ],
      "metadata": {
        "colab": {
          "base_uri": "https://localhost:8080/",
          "height": 577
        },
        "id": "X-BwkTVL1T0w",
        "outputId": "c06cfda5-92d2-4b98-fc96-6b40ad0750fc"
      },
      "execution_count": 19,
      "outputs": [
        {
          "output_type": "stream",
          "name": "stdout",
          "text": [
            "Shape of embedded time series: (703, 6)\n",
            "Optimal embedding dimension is 6 and time delay is 20\n"
          ]
        },
        {
          "output_type": "display_data",
          "data": {
            "text/html": [
              "<html>\n",
              "<head><meta charset=\"utf-8\" /></head>\n",
              "<body>\n",
              "    <div>            <script src=\"https://cdnjs.cloudflare.com/ajax/libs/mathjax/2.7.5/MathJax.js?config=TeX-AMS-MML_SVG\"></script><script type=\"text/javascript\">if (window.MathJax) {MathJax.Hub.Config({SVG: {font: \"STIX-Web\"}});}</script>                <script type=\"text/javascript\">window.PlotlyConfig = {MathJaxConfig: 'local'};</script>\n",
              "        <script src=\"https://cdn.plot.ly/plotly-2.8.3.min.js\"></script>                <div id=\"4876fa3e-29ff-4ee0-8fcc-77ae0d3c4925\" class=\"plotly-graph-div\" style=\"height:525px; width:100%;\"></div>            <script type=\"text/javascript\">                                    window.PLOTLYENV=window.PLOTLYENV || {};                                    if (document.getElementById(\"4876fa3e-29ff-4ee0-8fcc-77ae0d3c4925\")) {                    Plotly.newPlot(                        \"4876fa3e-29ff-4ee0-8fcc-77ae0d3c4925\",                        [{\"marker\":{\"color\":[0,1,2,3,4,5,6,7,8,9,10,11,12,13,14,15,16,17,18,19,20,21,22,23,24,25,26,27,28,29,30,31,32,33,34,35,36,37,38,39,40,41,42,43,44,45,46,47,48,49,50,51,52,53,54,55,56,57,58,59,60,61,62,63,64,65,66,67,68,69,70,71,72,73,74,75,76,77,78,79,80,81,82,83,84,85,86,87,88,89,90,91,92,93,94,95,96,97,98,99,100,101,102,103,104,105,106,107,108,109,110,111,112,113,114,115,116,117,118,119,120,121,122,123,124,125,126,127,128,129,130,131,132,133,134,135,136,137,138,139,140,141,142,143,144,145,146,147,148,149,150,151,152,153,154,155,156,157,158,159,160,161,162,163,164,165,166,167,168,169,170,171,172,173,174,175,176,177,178,179,180,181,182,183,184,185,186,187,188,189,190,191,192,193,194,195,196,197,198,199,200,201,202,203,204,205,206,207,208,209,210,211,212,213,214,215,216,217,218,219,220,221,222,223,224,225,226,227,228,229,230,231,232,233,234,235,236,237,238,239,240,241,242,243,244,245,246,247,248,249,250,251,252,253,254,255,256,257,258,259,260,261,262,263,264,265,266,267,268,269,270,271,272,273,274,275,276,277,278,279,280,281,282,283,284,285,286,287,288,289,290,291,292,293,294,295,296,297,298,299,300,301,302,303,304,305,306,307,308,309,310,311,312,313,314,315,316,317,318,319,320,321,322,323,324,325,326,327,328,329,330,331,332,333,334,335,336,337,338,339,340,341,342,343,344,345,346,347,348,349,350,351,352,353,354,355,356,357,358,359,360,361,362,363,364,365,366,367,368,369,370,371,372,373,374,375,376,377,378,379,380,381,382,383,384,385,386,387,388,389,390,391,392,393,394,395,396,397,398,399,400,401,402,403,404,405,406,407,408,409,410,411,412,413,414,415,416,417,418,419,420,421,422,423,424,425,426,427,428,429,430,431,432,433,434,435,436,437,438,439,440,441,442,443,444,445,446,447,448,449,450,451,452,453,454,455,456,457,458,459,460,461,462,463,464,465,466,467,468,469,470,471,472,473,474,475,476,477,478,479,480,481,482,483,484,485,486,487,488,489,490,491,492,493,494,495,496,497,498,499,500,501,502,503,504,505,506,507,508,509,510,511,512,513,514,515,516,517,518,519,520,521,522,523,524,525,526,527,528,529,530,531,532,533,534,535,536,537,538,539,540,541,542,543,544,545,546,547,548,549,550,551,552,553,554,555,556,557,558,559,560,561,562,563,564,565,566,567,568,569,570,571,572,573,574,575,576,577,578,579,580,581,582,583,584,585,586,587,588,589,590,591,592,593,594,595,596,597,598,599,600,601,602,603,604,605,606,607,608,609,610,611,612,613,614,615,616,617,618,619,620,621,622,623,624,625,626,627,628,629,630,631,632,633,634,635,636,637,638,639,640,641,642,643,644,645,646,647,648,649,650,651,652,653,654,655,656,657,658,659,660,661,662,663,664,665,666,667,668,669,670,671,672,673,674,675,676,677,678,679,680,681,682,683,684,685,686,687,688,689,690,691,692,693,694,695,696,697,698,699,700,701,702],\"colorscale\":[[0.0,\"#440154\"],[0.1111111111111111,\"#482878\"],[0.2222222222222222,\"#3e4989\"],[0.3333333333333333,\"#31688e\"],[0.4444444444444444,\"#26828e\"],[0.5555555555555556,\"#1f9e89\"],[0.6666666666666666,\"#35b779\"],[0.7777777777777778,\"#6ece58\"],[0.8888888888888888,\"#b5de2b\"],[1.0,\"#fde725\"]],\"opacity\":0.8,\"size\":4},\"mode\":\"markers\",\"x\":[22.29518215558208,14.991019072983015,-1.604135134506695,-13.933135109795257,-19.29607623268806,-21.57359499594308,-16.695434008259276,-7.887588008328606,-0.06304510524997264,13.445835747730582,20.656741902012588,17.440392326850382,14.288640297040105,0.5146889788127103,-11.32693236798452,-18.52943468890485,-28.086158730230128,-25.38391902397187,-19.52457862600171,-7.016929905489481,-1.1935128357405071,18.061535651147686,23.66985827213155,24.383032794078062,30.822008319008066,7.109287294714526,-1.6153069423943713,-15.07446068377377,-21.335754080177804,-20.65942587451245,-11.442417357106422,-8.845433196563866,5.072426988670794,15.880593921237981,18.3610738831677,20.719023330645204,11.966375125762346,8.247814330151803,-7.4516016043276405,-12.843899210201066,-16.990682410994125,-21.363331507054973,-19.24168142236416,-12.99356268327267,-4.489951979889905,4.086966304823814,15.992615508134095,19.935035813420885,21.514192202210452,16.28363636338916,8.72121347385211,-7.774683870914574,-13.09801016602683,-18.943739904517514,-14.489005000877132,-11.827797093850249,-0.6688044354859399,11.911271233191542,19.666862683983243,26.389700111464244,26.809028445268055,11.432040065893691,3.2789073790042984,-11.848750126659684,-17.3705914964632,-26.22363501011504,-16.3306795060195,-14.445313020175812,-1.115431479273464,4.26421508750854,18.97547878216271,10.551553332501085,22.69157677080125,11.73093990824897,3.9128382055681357,-4.233750001362443,-15.467137778856568,-23.089456674658123,-15.538514884908542,-14.299962058036048,-6.219869847648994,7.9331482157476465,13.692710515662252,15.539682850026802,23.479376673759592,11.316828992031752,11.594783092663114,-6.5577949365556725,-11.160359424866815,-15.959870520377507,-17.878747591915246,-11.731885731576964,-4.957449076847118,5.393869457824208,22.786792294247512,26.806833401213613,33.68893041448296,26.094441488755084,11.376471542189103,2.7988799754240494,-12.405629699055341,-19.92596261088039,-20.733808865687347,-14.501052762301505,-5.760400255255662,5.9113904181439265,13.34336362717251,26.702091484051238,19.36226717868079,20.76801369629623,9.827179161227843,-0.19997106247985302,-8.182126417242403,-18.245725178906067,-21.288485536374868,-18.21167733388354,-11.966575396093281,1.4999648669790109,14.314896178030502,24.192645004284472,25.67521452058409,21.78737221628193,9.011820741605625,3.2969486196280657,-12.623945269012273,-17.66583263264627,-25.47743933583381,-19.78061790973552,-10.327355710561065,5.659729940157703,10.374066017815306,26.001699084534188,25.06753019493319,32.30966013002961,24.947370080474013,12.206672585539138,-4.625327063542214,-19.38476168857105,-26.43681088746423,-25.1368581032811,-19.488179080493463,-2.702343164772642,4.198250860601173,26.84866332812125,26.471847983169685,36.15249162909873,22.972830693304445,9.829951867379574,-8.72276810713221,-20.722527581935335,-25.71669063987559,-18.514304453280616,-16.49970297395653,-0.5316005210934831,11.383615412577686,15.236078967129645,24.9522326781444,23.276470772836337,13.56180610239353,11.429981106849096,-8.444451476104748,-14.717830157045253,-24.634835190587598,-19.59604290483796,-19.344421924602557,-2.652987413898162,0.7169513486444917,20.427681598286988,17.381045511566516,23.30935807196634,19.390991493752228,6.782140550283061,-1.4651125520334292,-13.81482247335181,-20.073518228434846,-20.786664834189917,-17.727120277807142,-5.045784739643935,0.12965292584781246,8.198699895606746,12.498192633050872,10.582835107853503,12.494971278011135,4.878208264620863,-1.2298350853804776,-11.541119126150656,-19.296955998424664,-25.218635372316612,-19.396853069701418,-6.415836552752643,3.4839417697263237,17.578898185544926,15.311039344133391,16.677780075395038,8.99380563036256,4.83389240147101,-5.539359414815965,-12.132764437949179,-19.444622331043984,-21.971124755728958,-18.528341872908314,-10.004835096386568,-3.185191386142253,15.049626760609097,8.078290463621746,19.970371346159972,14.786959118183615,15.952529639831418,8.043848174998043,-5.6489949814477285,-19.12750706312927,-30.914010061527993,-25.92926344331598,-19.45443516572442,-1.5816007786682056,-0.47288313458751197,23.54791536021578,9.64823252755655,27.428529968870418,14.05921852479795,2.281231610656582,-6.788524647022785,-20.463574912162958,-26.606184745592337,-22.863999205351288,-13.496727742822298,-4.2560785589312635,11.725807519017371,15.775203643046485,30.362748422154308,25.21114137816125,22.69914191241201,13.855073488170657,-1.6088705297988672,-6.536652696723616,-24.170032608100197,-16.47754167397852,-19.00594343014631,-5.3236304401267045,3.2013867123114834,11.385200995535934,22.64263592421576,23.11359504895112,25.517382116098574,20.34500995815249,-1.1982924304965414,-9.390140479641127,-19.591930045093992,-21.959496787263003,-15.260601394301831,-8.161727606709583,-1.9228803499330462,16.424806880758005,28.977478122678527,32.37878372766722,28.119596998147617,16.01326080173863,3.2949107578368846,-11.93710654810511,-14.351867266045367,-25.67616463526375,-15.841591739500423,-11.324553289657574,3.199820939148574,18.35229975014974,20.88916576121165,29.643155891746087,24.718787683934693,12.564131631163322,-0.6051673758917359,-11.093128399904279,-22.448031454833085,-23.894825667961673,-18.83407782299655,-10.5194540151299,5.558528989716983,9.099094123837773,16.9462968110849,20.92704389407311,14.385642195663491,20.906093285302212,3.823345007904514,-4.484997647677766,-19.188755869259932,-21.081701745997005,-23.18097905962592,-12.680941246639835,-4.659123838896377,10.76947085768864,25.872025133576813,24.607457278393216,25.258265227785017,12.385502231999972,2.628817982721483,-13.760940854241568,-12.559123191852086,-32.18152720711984,-17.17410582876762,-20.4300633075597,-2.0632001413130294,0.45836947999639316,8.770937506396741,11.87286542984258,16.83855588397761,14.938943678702229,9.963324893659884,-1.6920022650962259,-10.533503866441508,-25.23172283257657,-22.297019348083403,-20.009366822584344,-9.932646168046068,-1.912186546859469,13.352500102091975,20.422666751341744,20.69894469413132,23.19390561827881,5.789550752829552,-1.2763148720536241,-17.180517996911465,-22.794372821039907,-23.88370366638198,-18.518363418840256,-10.284313929447379,-0.841085043134805,9.437293165266345,20.735637113335567,23.058119355027827,28.641897372835167,14.430776517197609,4.046831723602841,-10.631628337727296,-15.234823676991914,-23.016003044953486,-16.148136647927384,-12.345769654319751,2.792310048920183,12.566001576991303,27.298466414437424,23.97851272152038,27.556884609579456,11.979179952433283,7.17440375301812,-10.454967004914232,-20.468203224489965,-22.75964704303136,-19.901514435347764,-10.002811477222629,-0.943056088350246,13.215827238354851,27.835475600636165,32.48998590786173,33.709827601480534,22.493508637580927,9.458883446494553,-6.6853746729122365,-9.592223908928839,-19.510010222436968,-15.564670537335262,-12.2255506257241,-0.7210650241289102,5.842722672929565,19.069688743179398,18.297679491674145,18.665527580706712,19.73996018522962,4.384174270319019,-5.180957315272888,-18.820486405398306,-23.632552837474176,-23.77702760376024,-13.997698509207238,-3.005549219471785,5.9753843250148835,9.160272060368392,12.610954665053505,7.183763327181213,4.488237792270991,5.048206593482176,-5.537983418964787,-11.121710322432088,-23.319943599528102,-16.487845057136433,-17.19167189878853,-4.4499720995078516,3.8335325289691737,5.89137615759775,18.700759450144897,2.8477977756926665,13.667088138216517,-3.3217959984765866,-5.817024004926062,-14.663326128297799,-21.11383873165241,-23.489746634068936,-16.64386523586009,-8.932259355583533,6.993432677525995,13.888867397286822,22.600895913438013,18.09692564134583,16.877159726314385,9.191565845016681,-0.4246348850216013,-10.659198947581343,-16.70947956911851,-26.837071836853166,-16.913371565041,-10.285337431739455,6.373007792060764,6.918042847685995,14.484220262619893,13.516528396544953,10.40614388168381,9.649751741065254,0.181004109534908,-11.52035467105174,-19.519036418602866,-23.081258333171036,-16.962860610090708,-8.625835276092145,2.0116547826082445,12.672254419231072,20.932775855552045,17.8576351092383,23.380767046097866,8.267928186205735,5.85218383252178,-13.490693971971643,-14.706176803999648,-24.810136074979177,-14.513502521971674,-12.57499095742876,5.104360047515592,6.8260169202217424,20.48285481004438,24.983725366718925,25.600408971921006,19.94094003051779,8.662696414670295,-6.905845995237944,-19.738379956632585,-25.07030907655101,-24.916786356407638,-14.82379399979679,-6.491779880964472,9.236779546115512,9.330483450265458,20.76716208744335,15.662167718183271,20.146071597695745,10.739060070528552,0.17086435586840776,-8.090261220732476,-20.600034039615217,-17.964447625351873,-20.554234149836088,-8.019471497557934,-2.2164366493109036,14.60576069451118,24.281273778037043,27.325492362550513,25.24265004951169,9.599824360542954,1.346653699546663,-16.70286061907253,-16.992113649533295,-21.631487723869288,-17.83582442527151,-8.298996118231129,0.8385952431231494,24.75588517530146,12.525855835396602,27.600226682585877,14.306048487822203,8.636548986090917,-0.4507132856051766,-7.8732213378831775,-22.84865295824198,-24.99281429156654,-20.38307731573987,-12.024207781242147,5.744989643982657,13.505844575585277,20.054167094906774,17.06195836503111,14.33434207336055,13.412765378608821,1.5695563333571534,-5.588260460028309,-17.652296397496187,-21.52428665903256,-20.637906588802345,-14.239087574346007,-0.6285757074321181,14.130616027389438,20.4610368617024,25.907205862556843,24.577832836484916,11.77791829689624,4.406355665191661,-9.360189438245138,-16.584659344751632,-20.40484334417201,-23.974893362034276,-15.441179624654612,-12.594005684405149,5.7353941374451844,12.84774430861186,17.990672806267607,20.89461840261167,11.910308591990116,5.244595127929545,-8.539941735586138,-15.732867921846044,-22.25944713091045,-22.197216642390043,-17.95808171471544,-7.48578521551718,-2.1733118012963404,13.965589560212182,12.286342390783286,36.94758778015306,14.681846615844357,20.41911150119942,-2.0106989577213694,-13.50999611317505,-26.90924450246273,-23.04438643565184,-21.944825266882056,-9.347209255712876,1.089803610294498,12.294093159958992,17.934645164526977,18.618764374022373,15.381895270708343,6.810062338614635,-3.139345477730136,-15.1858710366849,-21.71213436461937,-27.18074843628539,-19.297170551680708,-12.41260003214997,9.930620831867955,15.871388488283033,24.766759956656937,20.046118737305758,17.217049148663556,5.978658222910809,2.1442851420257565,-13.881574016873014,-23.495148075770388,-24.34433337963831,-26.020196839277254,-12.020006663083658,-2.6096077419115282,13.495440013460302,16.05362501831477,25.41635360218824,21.488717921673317,10.681636502719188,1.2943488267084997,-9.108519286114243,-18.413701042673825,-23.583859381353022,-21.013409179839556,-13.625267157089581,-3.313202536634518,8.001889320457447,9.932491853141283,10.969113502206778,12.245054379780733,6.9686776488673345,1.8918883644603404,-4.520741494171052,-18.175688450311807,-17.689044193160857,-22.450218746233215,-13.513799599843297,-10.92725387453123,3.2623410224512432,11.226768910032906,11.03483081246106,32.5693836723592,15.84156323808368,17.67232312104659,-0.729061174458054,-17.794094884848473,-23.058741310031742,-30.350861653051822,-21.061630113054534,-10.73810135736772,-2.351577359806411,5.01744531590047,12.01927243791102,10.805103908551603,10.322736517292334,6.281650040320056,-5.224615681576527,-16.645598348115453,-20.65142406446409,-27.822929788070063,-19.719563665951174,-13.82296588300837,2.386213230846122,13.791060158712767,19.95799974671804,18.164640192924136,16.923274086160074,1.1306859713038568,1.9426085667529043,-18.550153805049742,-19.368272127226316,-27.219138315014394,-16.38702704634037,-14.553327317952583,2.66971077169878,2.5227891539587555,21.320817484921527,15.136593200855945,13.61941853869652,11.150182662645536,-6.269477698491084,-14.083174895138695,-20.614817269095038,-26.123554703824325,-20.88075103772182,-11.615535574425548,4.260745453627312,7.772280752658184,38.60854119337516,23.474325876808752,34.20953564859413,13.706120329528863,7.049055126692844,-13.706086904326508,-12.23948940606835,-25.268875939237564,-19.4514702961614,-14.315192934452464,2.1310176582078664,13.33776466389332,24.085535032310318,28.234418737394307,25.59894263175925,12.769363744772438,5.870860086492074,-9.713078807032867,-17.646269483224227,-24.103040634838038,-22.18211804486052,-22.000713784098984,-9.545245195353754,-0.12922191751930184,12.70850310641345,18.821854095087826,16.517286740139834,13.11587987944088,-1.7647153699043245,-4.72392229481559,-14.48389544437298,-20.4245403260873,-21.2778768765752,-15.764510059009936,-8.240666077165512,7.146308928753791,21.434555906855856,19.68619016403828,31.071514742885512,19.293668691382873,10.20971465670635,-0.08347864578043282,-11.424280516517394,-20.538284149604134,-25.36366148687449,-19.30764707757786,-9.279001226122782,1.0867814308018353,9.955492110603606,15.53522363331751,16.159261249086452,10.388695483892734,6.010028322913673,-6.462684582274461,-17.391750095543216,-22.210099614248385,-29.2391972686385,-20.493581492258734,-13.072975321337838,-7.374707313959873,7.124498056809945,14.752261976950031,13.641820714627832,17.985614982261268,9.021507463831464,1.6370123547916398,-7.548908052794084,-14.72184592575783,-21.0751693692066,-21.368522099399023,-13.724540657796322,-10.519533877863822,2.9176165214149616],\"y\":[12.726614016249584,19.40974805571133,19.76981782739177,10.171734615205423,3.467796597417197,-2.684971349645325,-3.807103127375864,-11.855058566797195,-14.104678080193892,-9.659677143437532,-2.6807767390631208,8.659598536332217,12.72496328117419,11.72636618350363,17.912707224557703,10.783794651261868,1.4787181891316068,-4.930612767791141,-8.324555077310508,-14.743647450389494,-9.084867051904377,-11.91037452098856,-17.720899775762888,3.9671161467385585,12.504282884028276,13.36858511100563,19.97706690457413,7.574653272167321,2.695528706299677,-1.0570932785008726,-12.303018923279561,-13.8941046500093,-5.8936667493780375,-9.100351129797696,-8.884108897780132,9.263989518172291,14.461823544015473,12.842773512780182,6.012945903854641,13.368331890818563,3.751306819012995,-3.0535479704464046,-2.8976664279557065,-7.337386541148673,-15.781434291465834,-8.211198200376229,-5.585822765749969,-4.738241702761814,1.8520305638724148,14.220427181373248,16.89813926441063,13.807158154007054,8.615908681701525,0.5748020208447063,-4.816876015012601,-6.929590665666741,-7.756764579615575,-20.96081653038416,-12.374887717770084,1.599497190813893,6.622563947208657,7.854742460670169,17.812093409117313,15.686885205873951,6.439093908286917,-0.27872282734347076,-5.421681707977621,-10.246890288838404,-12.276066216116302,-7.498515311723982,-5.583527647728419,2.521502912362068,7.488293361394133,3.0531271464877627,19.81614662285779,17.638556744340153,2.8987877210004953,4.548131844727878,-0.6651150782230034,-16.207150547591937,-7.987854545333933,-10.665871931820003,-10.288941699774428,-4.109580118356405,-0.9688643311502181,5.814401117785691,11.276062945256404,11.32689448585201,10.705654848878094,0.15645869211924587,-1.748521267242264,-4.055585231325208,-12.683257309105942,-15.765689453019455,-19.13428979119024,-9.385169614218476,8.9071528907429,4.797691443132105,18.724548770860448,19.34328781755677,12.274709566243335,5.62752259673433,-2.1793521279320385,-7.646595620584717,-12.430285909765832,-14.919130865492471,-4.8220345214557385,-8.547733857314043,4.5644560060557415,11.673798630569037,11.988414628960358,11.44881299257818,10.666412629672704,9.773409866955177,1.3443239579566566,-6.43088542185558,-15.403765661584943,-16.702042672728613,-17.445374955484212,-8.493650209268923,2.151774266373044,4.913478938998781,10.578280651588852,10.826780875039448,11.894629392233986,7.823113551206011,1.312016175902462,-7.508034887525001,-15.50048441260513,-19.69943328047901,-7.636005812227541,-6.573186548406075,-12.213842117519377,1.22543461248509,9.739220010088179,21.253157442701728,18.614917484860605,14.465263949881113,3.463230700684207,-9.044152684512163,-11.338990422019569,-16.57194399128495,-12.777350957732102,-14.519247770377905,-9.107516042172744,6.601568608494616,13.913460273550585,23.900165891415238,16.538319559417452,7.081098037699521,1.8408463771703458,-10.527708723780787,-9.605037105966222,-12.397769300873566,-15.354523605197365,-6.952001595502015,2.949592489926407,-4.879343089193715,10.55349736270623,14.272082252539553,12.544353110957884,8.191402129981942,4.540434451468351,-3.9223220825964806,-11.71588981209815,-16.51002781055915,-6.583453643896631,-12.185535429841758,-7.006691399599861,5.812078737767424,11.222370330185745,11.553241024185494,12.587674689806596,13.725461197016926,6.159768003888113,-6.086380716373354,-10.839019860789207,-10.793564222354265,-10.759128951833057,-7.738466470845977,-7.299377445939245,2.035364755865105,2.53328354525651,2.8277496002820364,7.669148200548503,14.58187610203493,7.471127454879218,-1.8145459174499168,-10.655357145549836,-16.0368708821643,-17.49218871727778,-4.612561836492963,-0.13146301578951022,6.903648996499185,3.763038012756158,6.129560275947303,11.205038634575805,10.50835662788826,3.8463454366729812,0.18714973733364362,-6.377621619496685,-12.026584448290738,-10.655798053472779,-9.373629571248713,-3.070855377791551,6.958617212715962,-5.609575130064216,2.9583199018386184,9.798515971944452,22.414823072254737,15.082324585250966,3.7918591845186422,-11.158798384159047,-14.756152382416637,-14.13832193938232,-3.655936939309656,-13.737629998570352,-1.22921008090883,9.199870292640702,7.286847603909788,15.752990000469923,22.104391030775215,9.03359173856644,3.2988725462457107,-6.56045319220097,-14.32077005812749,-14.258845872582057,-13.028734462886781,-11.31318900175876,-7.78607659840167,1.3096911698690514,14.202334246564375,14.634318903930962,13.630961694801554,13.284356307610773,10.17181442669906,0.11470968090425941,-13.459759366666873,-12.753696056307083,-9.830644332020821,-5.473242485513185,-13.66295798943595,-8.102165490090744,6.148843611151189,10.919002365233016,16.876770561347314,14.267972889486028,3.8348899159120053,-5.741633308279462,-4.273231323109954,-12.607418738882139,-11.350512618790345,-14.259825511713634,-15.178554078566314,1.4885213932813692,18.741079370014308,16.430787734444248,13.829063322245272,13.236739547253457,6.790590434009807,0.17593308968537924,-4.107085035767186,-14.991968874286947,-13.86562564926535,-18.063743135632173,-7.948195896919374,5.871176799487438,2.6908469949011145,15.150737916745522,21.668665990887305,16.435739153505985,5.220598516388022,-0.047394261004269043,-5.385393710621837,-17.904076404854067,-17.55277279753188,-5.894393437378381,7.444981835266308,-6.773365114427035,-0.22543914745230487,12.901092332299768,16.661755398861917,15.052073819484232,10.581733946139787,0.3523303154864178,-3.942282204988733,-11.71237349450959,-13.42568524357013,-17.00051422543082,-14.652376752661954,-1.8424618511214388,17.14270455876468,10.171712638425962,8.800263374371257,15.49728119150002,11.948897168555078,0.9474087778354972,-3.797480529752325,-15.419455145163367,-8.495466138673228,-9.120030085986663,-2.735209472841473,-5.858297479199296,-1.4885696435270972,1.8695471926526288,13.759791105117454,16.300251084650505,9.403666736107807,7.121430363954263,-0.2709516716516029,-13.149179845838628,-17.045773153254107,-10.201699294842404,-12.109830297383414,-14.778551033533844,-0.4747750226412793,9.780054417228799,12.980530725309002,14.903478567087681,8.84072442559762,7.955804680867295,-3.5540566853325926,-10.920125576296233,-13.841381884450836,-8.36505790790836,-10.913280703700957,-19.63528072128972,-3.4248110917668044,5.703801627157708,14.160357730491082,14.206980119219232,14.643772112689692,5.744171818260258,-2.383643028799781,-3.776675429860911,-11.698362389752265,-18.118791636850784,-16.162227719283667,-8.018172991150271,5.40742958157958,7.987481040143337,11.090532171534017,16.148056508428475,17.36128885061876,12.115901970077458,-2.3752858852060026,-13.076901739519434,-10.238400755710547,-5.316217622920142,-16.681008958278937,-15.948257894261776,-6.6137070398447655,18.330868861541347,15.731897457560597,12.328064972367887,15.689400492837539,9.159985609303169,1.0338112668906503,-4.270856948827834,-8.229977243976641,-16.43996127128159,-10.77144989387755,-7.180848709093241,-4.342781780878811,4.501229393948477,2.5182777697907626,12.478302019205216,21.795087901997213,9.884330682596891,-0.9924953086622156,-4.323451226326959,-7.577669644662158,-17.861406729790552,-13.872915114796841,5.369664315750122,5.619317528201148,-4.438699969994503,2.1733783217880864,10.33353917092444,12.69595416077303,8.051541613788714,7.314886488163582,-2.1437499863443352,-11.976395831216838,-11.299637422861972,-14.337528971939063,-1.2768000709292502,-3.90585498050348,4.9729963237173385,7.171138874930532,5.793724247176566,13.120013758902852,10.2738706001267,3.6281775135026875,-0.6520205914632402,-8.486034281674394,-17.04826293433044,-15.650932551734021,-11.029386100778666,-1.9760732327900579,2.9643540974324165,8.50865720726256,5.133465783409756,11.378416942107693,16.557803592844113,8.137461177464065,-1.2065228981721017,-8.019737123201969,-16.763253658880416,-16.12906678929471,-5.412821001034159,5.0157445539009196,-2.4445762399978657,-3.6865692872511735,7.38728631295045,16.6455513325344,14.655469821108671,5.829279709479873,-5.233875306323925,-5.027372086127445,-15.029994514351095,-12.141967260750503,-11.564378142901685,-6.984096494913374,1.1330583857071215,2.944992829583643,7.889489293664846,12.720327222579565,14.094894950062654,8.314856342615679,-2.900050650587855,-6.6029293105828675,-8.54885368362653,-13.449150419311874,-10.21972614390672,-3.399398852200207,-7.613984914327886,2.220699233321597,12.820050023718972,19.648955556519,12.455639454075419,12.736031733870577,4.514510136756847,-8.48707323473841,-19.311107698890588,-12.38017239391096,-8.360217365579006,-6.8956182979554095,-6.424226471794365,0.590054025980013,6.405861121178085,6.811632491172216,12.96412756754461,15.378442795711655,9.785197352099196,-4.153413986707898,-7.430999953219849,-8.175105558378055,-10.858613696288758,-14.99904483414189,-16.154000119952006,3.4426913250404243,14.055356777914714,21.448818695430877,11.693587394338536,10.606983844425221,9.284188727999991,-0.9777092454330776,-7.549111866325945,-14.272725453374548,-10.427069595985676,-19.414847300975207,0.08946432189127035,14.456597500123737,2.324295339692773,4.76547332534739,18.024264869552997,13.149794765280006,8.477515332445472,4.35709235594234,-8.640895541951501,-19.57092290856236,-18.729180184210218,-7.559156111243128,-0.4348695568390672,0.5519278496158134,-0.003909524284785022,4.880594617473234,9.411414606910737,15.195137193639425,7.761380419192612,2.3185784377562224,-5.196028639168539,-10.732367617630645,-14.189291053023707,-17.55050835037133,-10.175554625887939,4.656822082020794,5.650441596690861,10.634093147127766,15.157365344311787,8.986703048827499,11.09946680464471,1.8024610441315636,-0.3329774765544419,-9.44530860261619,-8.64685513706659,-11.905479339390583,-12.808449896090016,0.1405539173304947,6.300443115435762,8.700389299200015,9.896975746250558,14.05407023892291,11.04227860087944,1.7188415095901872,-3.4744055976737873,-5.247633915538195,-11.784555024379058,-12.581508242422546,-15.661789947453927,-4.672700663624529,-9.629823106386683,-0.3604694460414715,24.014764697630405,15.917519546074898,11.688177060769883,7.291789394354185,-1.0427600394062781,-13.233623714755142,-14.282834262602076,-13.20193664652677,-7.8429275006967,-5.662139957729445,-0.245175747034068,7.532167956698996,12.769667327383045,13.566196350311374,7.956365327049829,7.618922871749381,2.916574059970061,-10.662817624736764,-20.81278272338103,-21.61917187812072,-11.067711788965543,-0.7815687062507977,1.6987152668513201,2.8076069085040363,10.155905135457937,12.37749038108856,10.532195519237762,14.482690989038817,1.6752015058382226,-11.828272327299452,-12.601984389143931,-11.772699960472654,-14.423742676665322,-8.106264819060051,2.9523926889657566,4.3857369478029735,13.459005550473872,16.978957470573146,12.600585193328197,7.713707610191758,5.626227778238647,-2.171661970733889,-15.354719582578335,-16.520386069611344,-8.37965749286468,-1.6012723755851395,-0.45665665667894656,-0.9355602818592424,2.0231739723033555,14.646747870434881,9.399419897786807,8.620891644586978,5.812038624223334,-4.369416853127173,-11.8107197823776,-8.806969622685104,-10.91658017866394,-19.07540617570252,-6.002152448543965,-5.212427096526915,-1.7196869895603335,18.000497623416916,17.170006122560036,19.347504892522416,6.682454453011502,-5.939463619079285,-10.414381414393027,-13.96673951316082,-12.104176188254254,-3.5544106501661736,-6.441609966195198,-3.2158173563617747,8.066455819071152,9.41066249030075,10.432686600145354,13.03413923210137,7.67082957421528,-3.030735122833655,-7.67905235243029,-13.789295814529442,-18.294928973948533,-14.929224449173546,-1.6168798689698825,8.818236138633381,1.8826410423642075,10.260937725946745,16.651717484216192,11.00726590344742,5.995100194470188,-2.7846310483433983,-7.8888424718236445,-14.58823405416713,-13.620800514570217,-9.894212325423068,-7.971250052630753,-7.630385321193021,12.409215996640068,10.756206919971119,5.3364841743843865,18.341555048524846,5.959702525659048,-3.6790135591648605,-11.264727754474752,-12.148808695906617,-20.9197987299206,-15.262850121221213,-16.116268714921414,-6.39616650441822,21.646410829579562,13.805906046713732,11.550057472524328,14.367673443303579,14.187113464258335,-2.721807726713374,-5.997881971086698,-9.68142688931654,-19.652853221561564,-19.902678921105654,-7.877615586366742,3.269876958328708,4.166993759631682,13.70515136049382,16.630983598854172,12.894173628727804,8.292467459787916,6.156084029513185,-4.37082885026196,-8.205794037791868,-9.694953333570131,-15.00222096931495,-16.405021385201977,-6.108134972334254,12.527512481127738,8.849188218818894,7.800031072685466,7.806233623577635,9.78201996506392,7.243275849551862,-2.037911570194747,-12.291204679979932,-11.551703967183846,-10.605411140861843,-19.004025286858077,-5.867426971860895,8.295591979714928,3.376605585772585,10.872578394552077,14.094993037057698,12.328609606617638,8.137007849870654,1.1387443843476395,-7.927054371992109,-18.34684430074204,-12.99538620682907,-4.6052552446871635,-2.7008856479109764,-1.848274923082437,6.534206329621334,12.032797286922586,12.412060773636973,12.49353901313212,7.427004106831519,-2.8476647060161913,-5.394269763298582,-15.300772414158356,-9.44539086117322,-7.939358045648655,-14.33565687348194,0.2044312032584664,9.2639563105381,6.451902907646701,7.795461007880272,15.563876808227864,7.461524389250328,1.7340122161499423,-1.534080965418496,-5.561372634095841,-11.17756356955532,-7.958458566297798],\"z\":[0.16886426606452093,-5.959632372097339,0.9786150915196471,0.6941777619787068,-2.28134395093477,1.4685575204840138,-2.521260092550792,3.769012505810642,-1.6857433452881552,4.555930986488194,5.999502474680131,0.7839230748085675,1.4784785593776248,1.2509328786919887,-3.0234797314666517,-1.7819347671040018,2.973255107829753,-1.2358893714864552,1.9738498760856227,2.650246938592509,1.655304293303979,7.821481882583272,-1.3808872749903391,1.0632827763002,-4.146957333475734,-4.035584182185348,-1.0566445331740213,-2.0906239458928453,1.9937195757962072,-1.309228875641091,4.383488724156071,0.24541784478290551,-0.42727894867819327,4.612264502011112,-0.4443831351927052,3.603519627572154,-9.8514609483768,7.224929542014645,0.7288322471443849,0.430260138788311,-1.6449887734228548,-2.8053324224895246,-1.9919268517020794,-1.065485695720958,-0.10097167422983476,7.783653064902256,6.105518544557128,9.40578059687642,6.104284698893718,6.929662053853305,2.4575297754027305,5.359624904283625,0.7809981080447872,1.6447230065168819,1.9671975442919996,-1.2771393635170496,-0.1316222410808572,-3.2462575773917997,-3.322160696349644,-8.491031809956523,-4.39625575007094,-3.9195051155096468,-2.226811186789947,-1.3138390358113434,0.7110273637790324,-0.5387494441044368,-1.638322561654346,0.7423589848369218,-4.6747804365576195,5.061815123517976,5.565829937614463,1.6863021154559648,10.594615394143936,10.400648177037816,5.14764522614018,0.3530361175203355,-0.516460791586127,-1.5170374452935604,0.8698526120466558,-2.2218749082989504,4.171833482012483,-3.0830258395985917,3.385055315199834,-5.97410606209062,-6.198784694721379,0.6828009099483882,-2.5042576910194847,1.5297387225349528,1.5948511362045967,1.8039625145938767,-1.689753227825132,0.06607894350047815,-3.722365247829606,-1.1822666338816095,1.2221640847124893,-3.5742011275418872,6.150102927128971,-2.9705048160203926,8.35816667411899,1.1631448495062353,0.22607022705901553,-0.11077098061142675,-0.4789623242805706,-1.5124120019472942,4.696649412447184,-0.2072517314136762,2.986511171910703,-0.422336307300249,5.1547147913201705,-10.100870065908907,2.9157368056098436,0.6595441938984485,-5.198017857998993,1.1880809521725937,-6.44264152134627,-0.020890527532624575,-2.7422578950620995,0.36197943089107554,-5.203526689442483,3.5560846682592744,-3.9854129071639246,-9.881450209564099,-7.39827451072236,-6.616293976933858,1.6164386076044148,-0.9874026260386294,4.945695096253477,-4.400465673186536,0.8130314074533685,-5.386824693826239,-1.4182053727657646,-11.624758606120892,-6.073935858678489,0.19632953491991806,-5.994485760784392,-1.0227511500624729,1.4035161681917268,-1.1772022390834074,2.5909115864861154,-2.603757415959236,1.1254193210878942,-0.7918253352834819,5.398983889762121,4.068589399805512,0.6712724589594825,1.5850309792914714,-2.51642288593483,2.327644244445429,-2.222281545110847,-3.4587395412511928,7.6427055931036945,-3.497572241738984,3.9594877979416787,-4.570957778847733,4.973189836013779,-5.010869967282801,0.7985564736490395,-8.564844207887004,-1.3018328136766635,-12.93207527986664,0.4811738894801645,-0.4293754861890049,3.6524166674632363,3.717737981115142,-2.114187726692876,-3.198703195263889,4.42060703787373,-1.9343563160570374,9.57873393023638,4.540254439250559,1.6608774456950395,1.761762955781782,-0.9225506098889159,-1.2763483386430754,-4.300519923742153,-1.8737645378835266,-1.0647037861642847,-1.6857847681533868,-3.643550750677068,-4.703806029227323,-8.120145170727241,-0.2724754617668582,-2.3151539647102988,4.769914856256262,5.240088374345904,-1.1938644079337855,-1.681781221924632,0.5700587970651934,-2.603041853346375,0.7909459961361892,-4.059448146363203,2.2997119126683834,-8.91799185255104,-3.8082708839217294,-0.8223963083096018,-0.22293359644143473,-1.131348391033925,3.009273348765535,0.299706349141185,4.156080080203534,-1.8664063669778628,0.8372823835786135,1.7708564975094943,5.735374453838815,-2.4323578135635886,-2.6187880693361087,-5.535010587415195,1.5899728723268016,-4.7560080054995355,1.6843291881161773,-1.4523753952926803,2.6681286786935403,-1.1141281755118013,4.058781427626613,0.7634453574324052,1.6107838765763411,0.6528729223373978,4.239379392542328,-4.521565163839176,5.434735987357454,-2.108973001046711,2.805867855388791,-0.2794889937990813,-1.501691016879456,-0.983875217973683,-2.767339619980972,-3.7028891135152016,-5.483575315454885,-4.750256167982876,-3.8919994332444907,4.284435491339149,-5.63161140637595,10.439295729344886,0.002495660067264659,3.195683655577216,-6.243832013604381,-3.540218021273059,0.9323877035865501,1.9444090608462876,-1.839500897621121,5.850511340200265,-10.066339175781996,0.5945510259264758,-2.7065964337268413,-3.8949664998926754,1.2875776553259881,-11.075179743348327,4.2162160630211805,-6.522719531830404,1.6214168272336964,-1.065563566287877,-5.563750808679542,2.288882842282318,16.11925201106997,8.90487434252976,3.6823514884032154,0.18670710680490474,1.6280078195154908,-0.15694924057026588,2.556700371797501,3.8271900986090555,0.3612419580134079,3.315769945895406,4.6262195166867945,-3.9687348855885825,-5.232327579816832,-0.20633001646513638,2.2170074674692697,11.568603664880733,2.3629925229670943,3.5465819813947186,5.97940046348122,0.4325931258548012,-0.35989816454498785,-5.309263188777338,3.049252351054472,1.509474165775585,0.7243646893315769,10.447540329399231,5.753437322111955,9.496663792068118,1.8085039185859608,1.0358472189545296,4.766619292463901,-2.9506258222513635,4.115629408003361,1.3498288197289825,0.287837963197932,-2.4381237525150037,3.6102958808492285,-3.698914168241056,-10.744105239051509,-4.5147691412253605,-2.783720815365464,-0.5302244993683972,1.9107658744112797,2.3513795718207855,1.1458613831323483,5.934374207013369,1.540412066382648,0.7897310887618694,3.8119530252093785,-6.539433959138557,6.606359555889334,-2.9479699187486053,3.1283175947682427,1.0469130401021784,-1.3547579321469674,-6.096987990978896,-5.2995479379939665,-0.5191395204093027,-0.4825671729847211,-2.3366730001825884,-0.1396328213510468,-2.529513361692171,-2.4159992040381812,-11.553148641384722,1.0250052075592442,-3.557585632913747,-1.469573192922565,2.11191449753849,-4.313094688640435,1.056894139016234,2.5533103386927247,-3.4145694251815257,-3.7083794716780876,-5.80511857727253,-0.8025433986147401,-3.4467697963255772,-2.978112112225458,2.462496480604346,-0.7443190659995443,3.978555789352686,-1.1451015230748576,-2.349453218369629,0.9317366682263868,-5.367196694129507,5.309988628833154,-0.8600247095542416,3.301139289837542,3.7781195166526875,2.063577761963032,2.284155326441483,-1.4814567310761004,-4.184759154185034,2.402353774555607,2.151822660318935,0.6842744561276144,2.7576489007967218,2.414948310901501,10.098242731222014,1.2513607884632494,-11.41453577562561,3.1796484105237446,-1.7179206813368828,0.1582814947345875,0.37822302514617984,-3.081175606557179,-3.2874115699611055,-1.5112646477768665,-4.273487919177159,1.7004614520932646,5.984553261663785,-7.654107542277541,-0.3591703025101606,8.23715258939,-2.9577243251206937,3.667224940186298,-2.768815339361081,-1.2246582643160326,-0.5360029605147403,0.4468569933094383,1.8640307867554649,-1.6093510205758392,-0.31413377429681016,-9.621281497747347,1.8817047114466485,3.937152791255841,2.1617012407737235,4.15213020837439,0.3368731865323075,-5.289313325492781,-4.005478453032836,-0.4576076122194124,0.0643958895172593,-3.1913548850597064,-0.7078792351674501,-0.31924330376877813,-1.012925717761307,0.9807697580773508,5.6924523287189395,-3.5790471283759406,3.0940818876812073,-2.656576114719459,-4.2757222100384045,0.5787848586581626,-2.906260693987939,-2.777095460803906,-5.523595019890141,-3.1314098989680854,-5.338533504067698,7.211787616184737,-0.6214996920643409,1.6475823106750969,-5.905084461375109,1.6305953437967253,-6.7720052882054835,1.1542628695642858,1.5038976654371063,-1.1408253581060874,-1.7633142469419856,-6.424884571560148,1.3755711410598082,2.0842773126946743,-0.065118366744262,0.7593653195724661,-7.3923097489136325,4.412347432637266,-1.885714316827411,-1.0892614368695888,-4.267217569251746,5.988524131924839,-0.8094051381405858,4.204949429717728,3.6051599258814804,1.235913015144894,3.336947866774058,1.6292130056185425,-6.924557905693135,4.567749748558554,-0.6022975687622438,0.09846397891472747,5.7328136331757555,2.131631631000356,5.246390549067259,0.6612902883000888,-1.0468927549071516,8.045006234635325,-3.166142037207961,5.4307034446766576,-2.945370497137679,-1.207249727521622,-3.551975201955579,0.012585498382128748,-0.5733951254119558,-2.1818475592240163,-1.0426699564316981,-2.655766942889876,-2.5013103196348854,1.9939431082399763,-7.448797505109075,4.71457460732742,-1.3366815108503112,0.2369296843872507,4.559354062491119,4.054530652741861,2.2749678585466815,-3.1719991414143878,-3.1834897970504206,5.663272683822158,8.813014805447906,-3.0260269172223166,-0.7167122098507547,2.8608072114163106,-0.05566507788810682,4.274987449918409,1.6285340614411732,3.1162207083132762,0.3577956529573171,3.2958385711725966,1.7992364831267889,7.289150835537721,3.509877141161931,-9.266256259393474,1.2401066390717383,-6.161154255594872,-2.8799967513870772,0.06034871518882366,3.3480431373136574,-0.6605584639168032,-1.27733809561396,-0.6558870311126639,-0.3182720104248987,-0.7024409518500349,1.7060420409587684,-2.030883363781815,-1.4505742953796794,1.9356837785485366,-0.8228495598437005,-1.081411879693148,2.341175044298684,0.2476928721364897,0.23223452770877695,-0.8720925017506042,4.951810364071621,6.337392600369975,-5.3013254657771816,-4.5035240426421055,-2.6398327752687107,-4.966639720178088,0.7885682021733019,-1.221579775507624,1.1043760582705757,-2.1889472775048775,2.2419980382944495,-1.4764679526079025,7.542843736961418,-0.7397693010329066,13.144420777382559,-3.268127555284575,2.5613073945481135,-0.6436128560521366,-1.4251164189714927,-4.038147637696232,1.7384361766427692,-0.9868484882566344,1.3524183056333887,3.7460499351386423,-0.08400231918007044,1.707877960905238,-5.736842124480601,-1.4901133270135474,3.177364850400794,-0.7218896911502269,-2.4274803801111298,-5.3642879750679295,0.7961339079331133,-2.674813765812328,4.88271443308324,-0.1794229987218863,0.05242732159948874,-4.064176844991492,-0.3570779784988372,0.09073984389120235,-5.800268243992569,2.831234211282523,-4.265333580137955,-0.15304598521258422,-0.8681651922283175,5.023306828401458,-3.0957411115656313,-0.8156906622299614,-4.097661542779093,-1.8727844813250838,-7.891066030190305,-2.220286865644499,-5.363351460132116,5.790047346994323,-4.703149516616247,5.645580475873044,3.995427387228865,-0.7164409567210468,0.49290672081723735,2.7855501351543888,2.180502287277258,5.388204583381764,-0.18859369251356464,2.2658542395209764,5.407296261607325,2.608472320319689,3.6564410325767396,-0.7783841216490026,3.7290598757393165,5.452225896438089,3.241494119567864,1.1807568069938987,2.539719089599493,-1.821497283565726,1.2856961313202264,-1.0503955950537225,-0.5667547889613108,8.848303670061032,1.2368933258003345,1.3347561358945328,2.8474784800690327,-1.9356255603612134,0.4132685484245425,2.8503370772305057,-2.5941320711454026,-1.334279768111325,-2.0547550038966045,-5.637830711224053,-5.606765654722494,0.4145978114695233,6.002876675143434,0.7383668826561359,-2.2414055218027227,-3.2266796261845063,-2.720337304919078,-0.298277380549972,0.620053935226761,-2.336467957392879,-0.923786972604752,-2.7832986093433845,0.018128114038103764,3.1351145666891975,1.212840190186508,1.0193826165793984,2.1373348897908846,-0.9921354721307658,-1.3945201498640658,0.49508201949709624,3.1777195636345366,2.92863563410716,-0.6670135230940955,-1.3034466341422846,1.6811852275833776,-8.008472448845865,-2.155960835101445,3.0731925825463664,-5.143434202909601,-4.848370275323792,-2.0363155833141957,-8.082018464288414,-0.9783519253751741,-3.5096502430056535,-2.29634974690827,-6.517487757146672,1.5262705167106962,-0.674476965503857,-4.109865997423514,0.6912753753825209,-1.7143317285747142,3.5431190085281434,-4.134542677523964,-2.732077418515293,-2.6890285749827725,-6.076327318946047,-1.9103789800400697,-7.6739237314534865,3.273470204795474,0.3700295191970573,3.044681044482578,-1.6558706222442445,9.065165918523707,-3.0680450945658375,0.9305093583892436,-0.6071223098077262,1.601536041581336,3.015963236346594,-2.0798283867959144,0.4457299781732965,1.10822710157456,-3.7470761605414227,5.550868473706461,8.161766783913837,-0.24363256872772476,5.580064493247925,-0.2662980732670962,3.2566125614612944,1.6021951500484553,2.943495900526776,1.5846793458785517,3.188419269119191,2.7749264845091495,-0.8950079701619552,3.8571968300661617,-8.544807452296446,8.963021839709754,0.1529567573654117,0.37263668589762616,-2.532962846929795,1.0076941440203362,-0.6511811598952602,0.7459200860535794,3.1249189954412184,1.6889328291663832,-6.811053831164728,4.651196199496647,-9.569131106516927,4.478640578301034,-1.5447275561066043,0.908627690692231,3.766951074381884,-2.7819855419920505,4.212263322952046,0.08423496433760141,-0.5141495293912577,-4.182170033490634,-6.74364104040894,2.3665683200037644,-4.156109554590287,-3.903243294695967,5.386171101020423,-1.9394161484788095,6.973527696508939,-1.867908601562728,2.8728212761347307,-4.5169837993852004,-3.4274768359781267,-2.885074649729446,5.0680247871695006,1.7358108955861757,1.4860312836755374,2.623794980476115,1.194127333027876,5.1197174002597645,-1.5220543604609822,1.8248370171870822,0.12301023568733588,0.8772555511469986,0.3862104140883143,7.172056274051196],\"type\":\"scatter3d\"}],                        {\"template\":{\"data\":{\"bar\":[{\"error_x\":{\"color\":\"#2a3f5f\"},\"error_y\":{\"color\":\"#2a3f5f\"},\"marker\":{\"line\":{\"color\":\"#E5ECF6\",\"width\":0.5},\"pattern\":{\"fillmode\":\"overlay\",\"size\":10,\"solidity\":0.2}},\"type\":\"bar\"}],\"barpolar\":[{\"marker\":{\"line\":{\"color\":\"#E5ECF6\",\"width\":0.5},\"pattern\":{\"fillmode\":\"overlay\",\"size\":10,\"solidity\":0.2}},\"type\":\"barpolar\"}],\"carpet\":[{\"aaxis\":{\"endlinecolor\":\"#2a3f5f\",\"gridcolor\":\"white\",\"linecolor\":\"white\",\"minorgridcolor\":\"white\",\"startlinecolor\":\"#2a3f5f\"},\"baxis\":{\"endlinecolor\":\"#2a3f5f\",\"gridcolor\":\"white\",\"linecolor\":\"white\",\"minorgridcolor\":\"white\",\"startlinecolor\":\"#2a3f5f\"},\"type\":\"carpet\"}],\"choropleth\":[{\"colorbar\":{\"outlinewidth\":0,\"ticks\":\"\"},\"type\":\"choropleth\"}],\"contour\":[{\"colorbar\":{\"outlinewidth\":0,\"ticks\":\"\"},\"colorscale\":[[0.0,\"#0d0887\"],[0.1111111111111111,\"#46039f\"],[0.2222222222222222,\"#7201a8\"],[0.3333333333333333,\"#9c179e\"],[0.4444444444444444,\"#bd3786\"],[0.5555555555555556,\"#d8576b\"],[0.6666666666666666,\"#ed7953\"],[0.7777777777777778,\"#fb9f3a\"],[0.8888888888888888,\"#fdca26\"],[1.0,\"#f0f921\"]],\"type\":\"contour\"}],\"contourcarpet\":[{\"colorbar\":{\"outlinewidth\":0,\"ticks\":\"\"},\"type\":\"contourcarpet\"}],\"heatmap\":[{\"colorbar\":{\"outlinewidth\":0,\"ticks\":\"\"},\"colorscale\":[[0.0,\"#0d0887\"],[0.1111111111111111,\"#46039f\"],[0.2222222222222222,\"#7201a8\"],[0.3333333333333333,\"#9c179e\"],[0.4444444444444444,\"#bd3786\"],[0.5555555555555556,\"#d8576b\"],[0.6666666666666666,\"#ed7953\"],[0.7777777777777778,\"#fb9f3a\"],[0.8888888888888888,\"#fdca26\"],[1.0,\"#f0f921\"]],\"type\":\"heatmap\"}],\"heatmapgl\":[{\"colorbar\":{\"outlinewidth\":0,\"ticks\":\"\"},\"colorscale\":[[0.0,\"#0d0887\"],[0.1111111111111111,\"#46039f\"],[0.2222222222222222,\"#7201a8\"],[0.3333333333333333,\"#9c179e\"],[0.4444444444444444,\"#bd3786\"],[0.5555555555555556,\"#d8576b\"],[0.6666666666666666,\"#ed7953\"],[0.7777777777777778,\"#fb9f3a\"],[0.8888888888888888,\"#fdca26\"],[1.0,\"#f0f921\"]],\"type\":\"heatmapgl\"}],\"histogram\":[{\"marker\":{\"pattern\":{\"fillmode\":\"overlay\",\"size\":10,\"solidity\":0.2}},\"type\":\"histogram\"}],\"histogram2d\":[{\"colorbar\":{\"outlinewidth\":0,\"ticks\":\"\"},\"colorscale\":[[0.0,\"#0d0887\"],[0.1111111111111111,\"#46039f\"],[0.2222222222222222,\"#7201a8\"],[0.3333333333333333,\"#9c179e\"],[0.4444444444444444,\"#bd3786\"],[0.5555555555555556,\"#d8576b\"],[0.6666666666666666,\"#ed7953\"],[0.7777777777777778,\"#fb9f3a\"],[0.8888888888888888,\"#fdca26\"],[1.0,\"#f0f921\"]],\"type\":\"histogram2d\"}],\"histogram2dcontour\":[{\"colorbar\":{\"outlinewidth\":0,\"ticks\":\"\"},\"colorscale\":[[0.0,\"#0d0887\"],[0.1111111111111111,\"#46039f\"],[0.2222222222222222,\"#7201a8\"],[0.3333333333333333,\"#9c179e\"],[0.4444444444444444,\"#bd3786\"],[0.5555555555555556,\"#d8576b\"],[0.6666666666666666,\"#ed7953\"],[0.7777777777777778,\"#fb9f3a\"],[0.8888888888888888,\"#fdca26\"],[1.0,\"#f0f921\"]],\"type\":\"histogram2dcontour\"}],\"mesh3d\":[{\"colorbar\":{\"outlinewidth\":0,\"ticks\":\"\"},\"type\":\"mesh3d\"}],\"parcoords\":[{\"line\":{\"colorbar\":{\"outlinewidth\":0,\"ticks\":\"\"}},\"type\":\"parcoords\"}],\"pie\":[{\"automargin\":true,\"type\":\"pie\"}],\"scatter\":[{\"marker\":{\"colorbar\":{\"outlinewidth\":0,\"ticks\":\"\"}},\"type\":\"scatter\"}],\"scatter3d\":[{\"line\":{\"colorbar\":{\"outlinewidth\":0,\"ticks\":\"\"}},\"marker\":{\"colorbar\":{\"outlinewidth\":0,\"ticks\":\"\"}},\"type\":\"scatter3d\"}],\"scattercarpet\":[{\"marker\":{\"colorbar\":{\"outlinewidth\":0,\"ticks\":\"\"}},\"type\":\"scattercarpet\"}],\"scattergeo\":[{\"marker\":{\"colorbar\":{\"outlinewidth\":0,\"ticks\":\"\"}},\"type\":\"scattergeo\"}],\"scattergl\":[{\"marker\":{\"colorbar\":{\"outlinewidth\":0,\"ticks\":\"\"}},\"type\":\"scattergl\"}],\"scattermapbox\":[{\"marker\":{\"colorbar\":{\"outlinewidth\":0,\"ticks\":\"\"}},\"type\":\"scattermapbox\"}],\"scatterpolar\":[{\"marker\":{\"colorbar\":{\"outlinewidth\":0,\"ticks\":\"\"}},\"type\":\"scatterpolar\"}],\"scatterpolargl\":[{\"marker\":{\"colorbar\":{\"outlinewidth\":0,\"ticks\":\"\"}},\"type\":\"scatterpolargl\"}],\"scatterternary\":[{\"marker\":{\"colorbar\":{\"outlinewidth\":0,\"ticks\":\"\"}},\"type\":\"scatterternary\"}],\"surface\":[{\"colorbar\":{\"outlinewidth\":0,\"ticks\":\"\"},\"colorscale\":[[0.0,\"#0d0887\"],[0.1111111111111111,\"#46039f\"],[0.2222222222222222,\"#7201a8\"],[0.3333333333333333,\"#9c179e\"],[0.4444444444444444,\"#bd3786\"],[0.5555555555555556,\"#d8576b\"],[0.6666666666666666,\"#ed7953\"],[0.7777777777777778,\"#fb9f3a\"],[0.8888888888888888,\"#fdca26\"],[1.0,\"#f0f921\"]],\"type\":\"surface\"}],\"table\":[{\"cells\":{\"fill\":{\"color\":\"#EBF0F8\"},\"line\":{\"color\":\"white\"}},\"header\":{\"fill\":{\"color\":\"#C8D4E3\"},\"line\":{\"color\":\"white\"}},\"type\":\"table\"}]},\"layout\":{\"annotationdefaults\":{\"arrowcolor\":\"#2a3f5f\",\"arrowhead\":0,\"arrowwidth\":1},\"autotypenumbers\":\"strict\",\"coloraxis\":{\"colorbar\":{\"outlinewidth\":0,\"ticks\":\"\"}},\"colorscale\":{\"diverging\":[[0,\"#8e0152\"],[0.1,\"#c51b7d\"],[0.2,\"#de77ae\"],[0.3,\"#f1b6da\"],[0.4,\"#fde0ef\"],[0.5,\"#f7f7f7\"],[0.6,\"#e6f5d0\"],[0.7,\"#b8e186\"],[0.8,\"#7fbc41\"],[0.9,\"#4d9221\"],[1,\"#276419\"]],\"sequential\":[[0.0,\"#0d0887\"],[0.1111111111111111,\"#46039f\"],[0.2222222222222222,\"#7201a8\"],[0.3333333333333333,\"#9c179e\"],[0.4444444444444444,\"#bd3786\"],[0.5555555555555556,\"#d8576b\"],[0.6666666666666666,\"#ed7953\"],[0.7777777777777778,\"#fb9f3a\"],[0.8888888888888888,\"#fdca26\"],[1.0,\"#f0f921\"]],\"sequentialminus\":[[0.0,\"#0d0887\"],[0.1111111111111111,\"#46039f\"],[0.2222222222222222,\"#7201a8\"],[0.3333333333333333,\"#9c179e\"],[0.4444444444444444,\"#bd3786\"],[0.5555555555555556,\"#d8576b\"],[0.6666666666666666,\"#ed7953\"],[0.7777777777777778,\"#fb9f3a\"],[0.8888888888888888,\"#fdca26\"],[1.0,\"#f0f921\"]]},\"colorway\":[\"#636efa\",\"#EF553B\",\"#00cc96\",\"#ab63fa\",\"#FFA15A\",\"#19d3f3\",\"#FF6692\",\"#B6E880\",\"#FF97FF\",\"#FECB52\"],\"font\":{\"color\":\"#2a3f5f\"},\"geo\":{\"bgcolor\":\"white\",\"lakecolor\":\"white\",\"landcolor\":\"#E5ECF6\",\"showlakes\":true,\"showland\":true,\"subunitcolor\":\"white\"},\"hoverlabel\":{\"align\":\"left\"},\"hovermode\":\"closest\",\"mapbox\":{\"style\":\"light\"},\"paper_bgcolor\":\"white\",\"plot_bgcolor\":\"#E5ECF6\",\"polar\":{\"angularaxis\":{\"gridcolor\":\"white\",\"linecolor\":\"white\",\"ticks\":\"\"},\"bgcolor\":\"#E5ECF6\",\"radialaxis\":{\"gridcolor\":\"white\",\"linecolor\":\"white\",\"ticks\":\"\"}},\"scene\":{\"xaxis\":{\"backgroundcolor\":\"#E5ECF6\",\"gridcolor\":\"white\",\"gridwidth\":2,\"linecolor\":\"white\",\"showbackground\":true,\"ticks\":\"\",\"zerolinecolor\":\"white\"},\"yaxis\":{\"backgroundcolor\":\"#E5ECF6\",\"gridcolor\":\"white\",\"gridwidth\":2,\"linecolor\":\"white\",\"showbackground\":true,\"ticks\":\"\",\"zerolinecolor\":\"white\"},\"zaxis\":{\"backgroundcolor\":\"#E5ECF6\",\"gridcolor\":\"white\",\"gridwidth\":2,\"linecolor\":\"white\",\"showbackground\":true,\"ticks\":\"\",\"zerolinecolor\":\"white\"}},\"shapedefaults\":{\"line\":{\"color\":\"#2a3f5f\"}},\"ternary\":{\"aaxis\":{\"gridcolor\":\"white\",\"linecolor\":\"white\",\"ticks\":\"\"},\"baxis\":{\"gridcolor\":\"white\",\"linecolor\":\"white\",\"ticks\":\"\"},\"bgcolor\":\"#E5ECF6\",\"caxis\":{\"gridcolor\":\"white\",\"linecolor\":\"white\",\"ticks\":\"\"}},\"title\":{\"x\":0.05},\"xaxis\":{\"automargin\":true,\"gridcolor\":\"white\",\"linecolor\":\"white\",\"ticks\":\"\",\"title\":{\"standoff\":15},\"zerolinecolor\":\"white\",\"zerolinewidth\":2},\"yaxis\":{\"automargin\":true,\"gridcolor\":\"white\",\"linecolor\":\"white\",\"ticks\":\"\",\"title\":{\"standoff\":15},\"zerolinecolor\":\"white\",\"zerolinewidth\":2}}},\"scene\":{\"xaxis\":{\"title\":{\"text\":\"0th\"},\"type\":\"linear\",\"showexponent\":\"all\",\"exponentformat\":\"e\"},\"yaxis\":{\"title\":{\"text\":\"1st\"},\"type\":\"linear\",\"showexponent\":\"all\",\"exponentformat\":\"e\"},\"zaxis\":{\"title\":{\"text\":\"2nd\"},\"type\":\"linear\",\"showexponent\":\"all\",\"exponentformat\":\"e\"}}},                        {\"responsive\": true}                    ).then(function(){\n",
              "                            \n",
              "var gd = document.getElementById('4876fa3e-29ff-4ee0-8fcc-77ae0d3c4925');\n",
              "var x = new MutationObserver(function (mutations, observer) {{\n",
              "        var display = window.getComputedStyle(gd).display;\n",
              "        if (!display || display === 'none') {{\n",
              "            console.log([gd, 'removed!']);\n",
              "            Plotly.purge(gd);\n",
              "            observer.disconnect();\n",
              "        }}\n",
              "}});\n",
              "\n",
              "// Listen for the removal of the full notebook cells\n",
              "var notebookContainer = gd.closest('#notebook-container');\n",
              "if (notebookContainer) {{\n",
              "    x.observe(notebookContainer, {childList: true});\n",
              "}}\n",
              "\n",
              "// Listen for the clearing of the current output cell\n",
              "var outputEl = gd.closest('.output');\n",
              "if (outputEl) {{\n",
              "    x.observe(outputEl, {childList: true});\n",
              "}}\n",
              "\n",
              "                        })                };                            </script>        </div>\n",
              "</body>\n",
              "</html>"
            ]
          },
          "metadata": {}
        }
      ]
    },
    {
      "cell_type": "code",
      "source": [
        "y_periodic_embedded = fit_embedder(embedder_periodic, df_final['temperatures'])\n",
        "\n",
        "\n",
        "pca = PCA(n_components=2)\n",
        "y_periodic_embedded_pca = pca.fit_transform(y_periodic_embedded)\n",
        "plot_point_cloud(y_periodic_embedded_pca)"
      ],
      "metadata": {
        "colab": {
          "base_uri": "https://localhost:8080/",
          "height": 652
        },
        "id": "5FNw6S9O-lVa",
        "outputId": "635659ee-3fbb-4589-b7a0-2da053c98332"
      },
      "execution_count": 20,
      "outputs": [
        {
          "output_type": "stream",
          "name": "stdout",
          "text": [
            "Shape of embedded time series: (703, 6)\n",
            "Optimal embedding dimension is 6 and time delay is 20\n"
          ]
        },
        {
          "output_type": "display_data",
          "data": {
            "text/html": [
              "<html>\n",
              "<head><meta charset=\"utf-8\" /></head>\n",
              "<body>\n",
              "    <div>            <script src=\"https://cdnjs.cloudflare.com/ajax/libs/mathjax/2.7.5/MathJax.js?config=TeX-AMS-MML_SVG\"></script><script type=\"text/javascript\">if (window.MathJax) {MathJax.Hub.Config({SVG: {font: \"STIX-Web\"}});}</script>                <script type=\"text/javascript\">window.PlotlyConfig = {MathJaxConfig: 'local'};</script>\n",
              "        <script src=\"https://cdn.plot.ly/plotly-2.8.3.min.js\"></script>                <div id=\"bf8efe8c-5f40-4f16-b6ea-3a68aa285814\" class=\"plotly-graph-div\" style=\"height:600px; width:600px;\"></div>            <script type=\"text/javascript\">                                    window.PLOTLYENV=window.PLOTLYENV || {};                                    if (document.getElementById(\"bf8efe8c-5f40-4f16-b6ea-3a68aa285814\")) {                    Plotly.newPlot(                        \"bf8efe8c-5f40-4f16-b6ea-3a68aa285814\",                        [{\"marker\":{\"color\":[0,1,2,3,4,5,6,7,8,9,10,11,12,13,14,15,16,17,18,19,20,21,22,23,24,25,26,27,28,29,30,31,32,33,34,35,36,37,38,39,40,41,42,43,44,45,46,47,48,49,50,51,52,53,54,55,56,57,58,59,60,61,62,63,64,65,66,67,68,69,70,71,72,73,74,75,76,77,78,79,80,81,82,83,84,85,86,87,88,89,90,91,92,93,94,95,96,97,98,99,100,101,102,103,104,105,106,107,108,109,110,111,112,113,114,115,116,117,118,119,120,121,122,123,124,125,126,127,128,129,130,131,132,133,134,135,136,137,138,139,140,141,142,143,144,145,146,147,148,149,150,151,152,153,154,155,156,157,158,159,160,161,162,163,164,165,166,167,168,169,170,171,172,173,174,175,176,177,178,179,180,181,182,183,184,185,186,187,188,189,190,191,192,193,194,195,196,197,198,199,200,201,202,203,204,205,206,207,208,209,210,211,212,213,214,215,216,217,218,219,220,221,222,223,224,225,226,227,228,229,230,231,232,233,234,235,236,237,238,239,240,241,242,243,244,245,246,247,248,249,250,251,252,253,254,255,256,257,258,259,260,261,262,263,264,265,266,267,268,269,270,271,272,273,274,275,276,277,278,279,280,281,282,283,284,285,286,287,288,289,290,291,292,293,294,295,296,297,298,299,300,301,302,303,304,305,306,307,308,309,310,311,312,313,314,315,316,317,318,319,320,321,322,323,324,325,326,327,328,329,330,331,332,333,334,335,336,337,338,339,340,341,342,343,344,345,346,347,348,349,350,351,352,353,354,355,356,357,358,359,360,361,362,363,364,365,366,367,368,369,370,371,372,373,374,375,376,377,378,379,380,381,382,383,384,385,386,387,388,389,390,391,392,393,394,395,396,397,398,399,400,401,402,403,404,405,406,407,408,409,410,411,412,413,414,415,416,417,418,419,420,421,422,423,424,425,426,427,428,429,430,431,432,433,434,435,436,437,438,439,440,441,442,443,444,445,446,447,448,449,450,451,452,453,454,455,456,457,458,459,460,461,462,463,464,465,466,467,468,469,470,471,472,473,474,475,476,477,478,479,480,481,482,483,484,485,486,487,488,489,490,491,492,493,494,495,496,497,498,499,500,501,502,503,504,505,506,507,508,509,510,511,512,513,514,515,516,517,518,519,520,521,522,523,524,525,526,527,528,529,530,531,532,533,534,535,536,537,538,539,540,541,542,543,544,545,546,547,548,549,550,551,552,553,554,555,556,557,558,559,560,561,562,563,564,565,566,567,568,569,570,571,572,573,574,575,576,577,578,579,580,581,582,583,584,585,586,587,588,589,590,591,592,593,594,595,596,597,598,599,600,601,602,603,604,605,606,607,608,609,610,611,612,613,614,615,616,617,618,619,620,621,622,623,624,625,626,627,628,629,630,631,632,633,634,635,636,637,638,639,640,641,642,643,644,645,646,647,648,649,650,651,652,653,654,655,656,657,658,659,660,661,662,663,664,665,666,667,668,669,670,671,672,673,674,675,676,677,678,679,680,681,682,683,684,685,686,687,688,689,690,691,692,693,694,695,696,697,698,699,700,701,702],\"colorscale\":[[0.0,\"#440154\"],[0.1111111111111111,\"#482878\"],[0.2222222222222222,\"#3e4989\"],[0.3333333333333333,\"#31688e\"],[0.4444444444444444,\"#26828e\"],[0.5555555555555556,\"#1f9e89\"],[0.6666666666666666,\"#35b779\"],[0.7777777777777778,\"#6ece58\"],[0.8888888888888888,\"#b5de2b\"],[1.0,\"#fde725\"]],\"opacity\":0.8,\"size\":4},\"mode\":\"markers\",\"x\":[22.29518215558214,14.991019072983036,-1.6041351345066788,-13.933135109795254,-19.296076232688062,-21.57359499594309,-16.69543400825928,-7.88758800832862,-0.06304510524997821,13.445835747730587,20.656741902012598,17.440392326850393,14.288640297040132,0.5146889788127237,-11.326932367984517,-18.529434688904857,-28.086158730230146,-25.38391902397189,-19.524578626001716,-7.016929905489496,-1.1935128357405145,18.061535651147686,23.669858272131574,24.383032794078083,30.822008319008077,7.109287294714535,-1.6153069423943598,-15.074460683773774,-21.335754080177814,-20.65942587451247,-11.442417357106434,-8.84543319656388,5.072426988670793,15.880593921237988,18.361073883167716,20.71902333064523,11.966375125762356,8.247814330151819,-7.451601604327643,-12.843899210201057,-16.990682410994133,-21.36333150705499,-19.241681422364174,-12.993562683272684,-4.489951979889919,4.086966304823811,15.9926155081341,19.935035813420907,21.514192202210474,16.283636363389178,8.72121347385213,-7.7746838709145685,-13.09801016602683,-18.943739904517525,-14.489005000877137,-11.827797093850261,-0.6688044354859423,11.911271233191544,19.66686268398326,26.389700111464254,26.80902844526807,11.432040065893696,3.2789073790043086,-11.84875012665968,-17.370591496463202,-26.223635010115057,-16.33067950601951,-14.445313020175826,-1.1154314792734694,4.26421508750854,18.975478782162714,10.551553332501094,22.69157677080127,11.730939908248983,3.912838205568157,-4.233750001362431,-15.467137778856573,-23.08945667465813,-15.538514884908553,-14.299962058036064,-6.219869847648999,7.933148215747642,13.692710515662261,15.539682850026807,23.47937667375961,11.316828992031759,11.59478309266312,-6.557794936555671,-11.160359424866812,-15.959870520377521,-17.87874759191525,-11.731885731576973,-4.957449076847128,5.3938694578242075,22.786792294247515,26.806833401213613,33.688930414482975,26.094441488755102,11.376471542189131,2.798879975424064,-12.40562969905534,-19.925962610880394,-20.733808865687365,-14.501052762301516,-5.7604002552556715,5.911390418143919,13.343363627172517,26.702091484051248,19.362267178680813,20.768013696296254,9.827179161227864,-0.1999710624798505,-8.1821264172424,-18.245725178906067,-21.288485536374885,-18.21167733388356,-11.966575396093296,1.499964866978998,14.314896178030498,24.192645004284486,25.675214520584102,21.787372216281945,9.011820741605636,3.2969486196280706,-12.623945269012282,-17.665832632646275,-25.47743933583382,-19.78061790973553,-10.327355710561076,5.659729940157697,10.374066017815307,26.001699084534195,25.067530194933205,32.309660130029634,24.94737008047403,12.206672585539158,-4.625327063542208,-19.384761688571047,-26.43681088746425,-25.136858103281124,-19.48817908049348,-2.7023431647726532,4.198250860601175,26.84866332812126,26.471847983169695,36.15249162909874,22.972830693304466,9.829951867379593,-8.722768107132207,-20.722527581935342,-25.716690639875598,-18.51430445328064,-16.49970297395654,-0.5316005210934895,11.383615412577686,15.236078967129645,24.952232678144423,23.276470772836362,13.561806102393547,11.429981106849102,-8.44445147610475,-14.717830157045267,-24.634835190587612,-19.596042904837976,-19.344421924602575,-2.6529874138981726,0.7169513486444841,20.427681598286984,17.381045511566526,23.30935807196635,19.390991493752242,6.782140550283077,-1.46511255203342,-13.814822473351814,-20.073518228434864,-20.786664834189935,-17.727120277807156,-5.045784739643946,0.12965292584780744,8.198699895606746,12.498192633050868,10.582835107853507,12.494971278011139,4.8782082646208735,-1.2298350853804767,-11.54111912615066,-19.296955998424675,-25.21863537231663,-19.39685306970144,-6.415836552752653,3.4839417697263166,17.57889818554494,15.311039344133397,16.677780075395056,8.993805630362566,4.833892401471011,-5.539359414815964,-12.132764437949184,-19.444622331043995,-21.97112475572896,-18.528341872908328,-10.004835096386575,-3.185191386142263,15.049626760609106,8.078290463621748,19.970371346159993,14.786959118183622,15.952529639831427,8.043848174998047,-5.648994981447724,-19.12750706312928,-30.914010061528007,-25.92926344331599,-19.45443516572443,-1.5816007786682176,-0.47288313458751424,23.547915360215782,9.648232527556566,27.42852996887044,14.059218524797968,2.281231610656594,-6.78852464702277,-20.46357491216297,-26.606184745592348,-22.863999205351313,-13.49672774282231,-4.256078558931279,11.725807519017371,15.77520364304648,30.36274842215433,25.211141378161265,22.699141912412028,13.855073488170671,-1.6088705297988586,-6.536652696723604,-24.1700326081002,-16.477541673978532,-19.00594343014633,-5.323630440126721,3.2013867123114856,11.385200995535936,22.64263592421577,23.113595048951137,25.517382116098588,20.34500995815252,-1.1982924304965348,-9.390140479641127,-19.591930045093996,-21.95949678726302,-15.26060139430184,-8.161727606709597,-1.922880349933056,16.424806880758005,28.977478122678537,32.37878372766726,28.119596998147664,16.013260801738657,3.294910757836894,-11.93710654810511,-14.351867266045371,-25.676164635263767,-15.841591739500434,-11.32455328965759,3.199820939148571,18.352299750149747,20.889165761211647,29.643155891746098,24.718787683934703,12.564131631163347,-0.6051673758917252,-11.093128399904273,-22.448031454833096,-23.894825667961687,-18.834077822996562,-10.51945401512992,5.5585289897169785,9.09909412383777,16.946296811084913,20.92704389407313,14.385642195663506,20.90609328530224,3.823345007904526,-4.484997647677756,-19.18875586925994,-21.08170174599703,-23.18097905962593,-12.68094124663985,-4.659123838896391,10.769470857688633,25.87202513357683,24.607457278393223,25.258265227785042,12.385502231999983,2.628817982721492,-13.76094085424157,-12.559123191852084,-32.181527207119856,-17.17410582876763,-20.430063307559724,-2.0632001413130396,0.45836947999639066,8.770937506396745,11.872865429842586,16.83855588397762,14.938943678702234,9.963324893659902,-1.692002265096216,-10.533503866441507,-25.23172283257659,-22.297019348083417,-20.009366822584358,-9.932646168046086,-1.9121865468594783,13.352500102091978,20.422666751341758,20.69894469413133,23.19390561827883,5.78955075282956,-1.2763148720536213,-17.180517996911462,-22.794372821039918,-23.883703666382008,-18.51836341884027,-10.284313929447391,-0.8410850431348109,9.437293165266343,20.735637113335564,23.058119355027838,28.641897372835167,14.430776517197632,4.046831723602851,-10.631628337727292,-15.23482367699191,-23.016003044953496,-16.14813664792739,-12.34576965431977,2.7923100489201746,12.5660015769913,27.29846641443743,23.978512721520392,27.55688460957949,11.979179952433308,7.174403753018136,-10.45496700491423,-20.46820322448998,-22.759647043031375,-19.90151443534778,-10.002811477222645,-0.9430560883502508,13.21582723835484,27.835475600636187,32.48998590786174,33.70982760148057,22.493508637580952,9.458883446494568,-6.6853746729122285,-9.59222390892884,-19.510010222436975,-15.564670537335276,-12.225550625724116,-0.7210650241289263,5.842722672929568,19.069688743179395,18.29767949167415,18.66552758070673,19.739960185229627,4.384174270319027,-5.180957315272874,-18.820486405398317,-23.632552837474183,-23.777027603760253,-13.997698509207249,-3.005549219471797,5.975384325014888,9.1602720603684,12.61095466505351,7.183763327181214,4.488237792270996,5.0482065934821865,-5.537983418964777,-11.121710322432085,-23.319943599528113,-16.48784505713644,-17.191671898788552,-4.449972099507862,3.8335325289691653,5.891376157597756,18.700759450144897,2.8477977756926713,13.66708813821653,-3.321795998476584,-5.817024004926054,-14.6633261282978,-21.11383873165243,-23.48974663406895,-16.6438652358601,-8.932259355583547,6.993432677525995,13.888867397286822,22.60089591343802,18.096925641345827,16.8771597263144,9.191565845016694,-0.4246348850215935,-10.659198947581338,-16.709479569118514,-26.837071836853184,-16.91337156504101,-10.285337431739475,6.373007792060765,6.918042847685993,14.484220262619894,13.516528396544958,10.40614388168382,9.649751741065273,0.1810041095349126,-11.520354671051738,-19.519036418602862,-23.081258333171046,-16.96286061009072,-8.625835276092163,2.011654782608239,12.672254419231065,20.932775855552055,17.857635109238306,23.380767046097876,8.26792818620575,5.852183832521784,-13.490693971971645,-14.706176803999647,-24.8101360749792,-14.513502521971688,-12.574990957428774,5.104360047515587,6.826016920221742,20.48285481004439,24.98372536671894,25.600408971921023,19.940940030517808,8.662696414670316,-6.9058459952379385,-19.738379956632592,-25.07030907655102,-24.916786356407652,-14.823793999796811,-6.491779880964485,9.23677954611551,9.330483450265463,20.767162087443364,15.66216771818328,20.14607159769575,10.739060070528568,0.17086435586841017,-8.090261220732474,-20.60003403961522,-17.96444762535188,-20.5542341498361,-8.019471497557952,-2.216436649310917,14.605760694511181,24.28127377803705,27.325492362550538,25.24265004951171,9.599824360542975,1.3466536995466698,-16.702860619072528,-16.9921136495333,-21.631487723869302,-17.835824425271525,-8.298996118231145,0.8385952431231434,24.75588517530146,12.52585583539661,27.600226682585912,14.30604848782222,8.636548986090919,-0.4507132856051693,-7.873221337883176,-22.848652958241985,-24.992814291566557,-20.383077315739897,-12.024207781242161,5.7449896439826444,13.50584457558528,20.054167094906777,17.061958365031124,14.334342073360556,13.412765378608835,1.5695563333571518,-5.588260460028303,-17.65229639749619,-21.524286659032565,-20.63790658880236,-14.239087574346025,-0.6285757074321235,14.130616027389443,20.461036861702407,25.907205862556875,24.577832836484934,11.777918296896248,4.406355665191676,-9.360189438245134,-16.58465934475164,-20.404843344172022,-23.974893362034294,-15.441179624654623,-12.59400568440516,5.735394137445185,12.847744308611862,17.990672806267618,20.894618402611698,11.91030859199013,5.244595127929548,-8.539941735586133,-15.732867921846045,-22.259447130910452,-22.197216642390053,-17.958081714715455,-7.485785215517193,-2.1733118012963466,13.965589560212186,12.286342390783288,36.947587780153064,14.681846615844368,20.41911150119945,-2.010698957721367,-13.509996113175056,-26.90924450246274,-23.04438643565186,-21.944825266882074,-9.34720925571289,1.089803610294491,12.294093159958997,17.934645164526987,18.618764374022387,15.38189527070836,6.81006233861464,-3.139345477730134,-15.185871036684901,-21.71213436461938,-27.180748436285413,-19.297170551680733,-12.412600032149983,9.930620831867946,15.871388488283035,24.766759956656944,20.046118737305772,17.21704914866357,5.978658222910813,2.1442851420257667,-13.881574016873016,-23.495148075770395,-24.34433337963833,-26.020196839277276,-12.020006663083668,-2.609607741911536,13.495440013460302,16.053625018314772,25.41635360218826,21.48871792167333,10.681636502719206,1.2943488267085095,-9.10851928611424,-18.413701042673825,-23.58385938135303,-21.013409179839563,-13.625267157089594,-3.313202536634534,8.00188932045744,9.932491853141284,10.969113502206781,12.245054379780745,6.968677648867339,1.8918883644603557,-4.520741494171051,-18.175688450311828,-17.68904419316086,-22.450218746233233,-13.513799599843313,-10.927253874531242,3.2623410224512357,11.226768910032899,11.034830812461058,32.56938367235921,15.841563238083689,17.672323121046603,-0.7290611744580432,-17.794094884848473,-23.058741310031753,-30.35086165305184,-21.06163011305456,-10.738101357367732,-2.3515773598064222,5.017445315900464,12.019272437911022,10.805103908551613,10.322736517292345,6.281650040320063,-5.2246156815765215,-16.64559834811546,-20.651424064464106,-27.822929788070084,-19.719563665951192,-13.822965883008383,2.3862132308461113,13.79106015871277,19.957999746718052,18.164640192924143,16.923274086160085,1.1306859713038668,1.9426085667529147,-18.550153805049742,-19.368272127226323,-27.219138315014415,-16.38702704634038,-14.553327317952608,2.6697107716987705,2.522789153958746,21.320817484921537,15.136593200855954,13.619418538696534,11.150182662645545,-6.269477698491086,-14.083174895138686,-20.61481726909505,-26.123554703824333,-20.88075103772185,-11.615535574425563,4.260745453627301,7.772280752658176,38.60854119337518,23.474325876808763,34.20953564859417,13.70612032952888,7.049055126692863,-13.706086904326504,-12.23948940606835,-25.26887593923758,-19.451470296161407,-14.315192934452481,2.131017658207853,13.337764663893317,24.08553503231032,28.234418737394318,25.598942631759268,12.76936374477245,5.870860086492092,-9.713078807032861,-17.646269483224224,-24.10304063483805,-22.182118044860538,-22.000713784099,-9.545245195353772,-0.1292219175193115,12.70850310641345,18.821854095087836,16.517286740139852,13.115879879440891,-1.7647153699043148,-4.723922294815589,-14.483895444372978,-20.42454032608731,-21.27787687657521,-15.76451005900996,-8.240666077165521,7.146308928753787,21.43455590685585,19.686190164038287,31.071514742885537,19.29366869138288,10.209714656706364,-0.08347864578042874,-11.424280516517392,-20.53828414960414,-25.36366148687451,-19.307647077577887,-9.279001226122794,1.0867814308018338,9.95549211060361,15.535223633317525,16.159261249086455,10.38869548389274,6.010028322913682,-6.462684582274459,-17.39175009554322,-22.21009961424839,-29.239197268638524,-20.493581492258752,-13.072975321337857,-7.374707313959887,7.124498056809943,14.752261976950027,13.64182071462784,17.985614982261282,9.021507463831476,1.6370123547916449,-7.5489080527940775,-14.721845925757835,-21.075169369206613,-21.36852209939903,-13.724540657796334,-10.519533877863832,2.9176165214149585],\"y\":[12.726614016249439,19.409748055711336,19.769817827391773,10.17173461520544,3.467796597417207,-2.6849713496453194,-3.807103127375858,-11.855058566797197,-14.104678080193898,-9.659677143437543,-2.6807767390631305,8.659598536332217,12.72496328117419,11.72636618350363,17.912707224557714,10.783794651261884,1.4787181891316181,-4.930612767791136,-8.324555077310505,-14.743647450389505,-9.084867051904384,-11.910374520988574,-17.720899775762906,3.967116146738542,12.504282884028276,13.368585111005638,19.977066904574134,7.574653272167328,2.6955287062996875,-1.0570932785008604,-12.303018923279566,-13.894104650009304,-5.893666749378044,-9.100351129797707,-8.884108897780148,9.263989518172288,14.461823544015484,12.842773512780179,6.012945903854647,13.36833189081857,3.7513068190130014,-3.0535479704463957,-2.8976664279556994,-7.3373865411486685,-15.781434291465832,-8.211198200376232,-5.585822765749981,-4.7382417027618295,1.8520305638724033,14.220427181373244,16.898139264410638,13.807158154007062,8.615908681701532,0.574802020844711,-4.8168760150126015,-6.929590665666741,-7.756764579615576,-20.960816530384186,-12.374887717770093,1.5994971908138884,6.62256394720865,7.854742460670172,17.812093409117317,15.686885205873965,6.439093908286924,-0.2787228273434616,-5.421681707977615,-10.246890288838403,-12.276066216116309,-7.498515311723992,-5.583527647728427,2.521502912362066,7.488293361394129,3.0531271464877547,19.816146622857786,17.638556744340164,2.8987877210005024,4.548131844727888,-0.6651150782229955,-16.20715054759194,-7.987854545333935,-10.665871931820016,-10.288941699774442,-4.109580118356408,-0.9688643311502236,5.814401117785688,11.276062945256404,11.326894485852012,10.705654848878101,0.1564586921192512,-1.7485212672422559,-4.055585231325203,-12.683257309105942,-15.765689453019467,-19.13428979119026,-9.385169614218487,8.907152890742896,4.797691443132097,18.724548770860444,19.34328781755677,12.274709566243342,5.627522596734343,-2.17935212793203,-7.646595620584718,-12.43028590976584,-14.919130865492477,-4.822034521455749,-8.547733857314055,4.564456006055736,11.67379863056904,11.988414628960356,11.448812992578192,10.666412629672717,9.773409866955184,1.3443239579566695,-6.430885421855574,-15.403765661584943,-16.70204267272862,-17.445374955484226,-8.493650209268944,2.151774266373036,4.913478938998782,10.578280651588859,10.826780875039457,11.894629392234004,7.8231135512060215,1.3120161759024642,-7.508034887525001,-15.500484412605127,-19.699433280479017,-7.636005812227553,-6.573186548406083,-12.213842117519391,1.2254346124850823,9.739220010088182,21.253157442701728,18.614917484860623,14.465263949881122,3.463230700684216,-9.044152684512149,-11.338990422019567,-16.571943991284957,-12.777350957732114,-14.519247770377923,-9.107516042172756,6.601568608494609,13.913460273550584,23.90016589141524,16.53831955941747,7.081098037699533,1.8408463771703523,-10.527708723780787,-9.605037105966224,-12.397769300873575,-15.354523605197377,-6.95200159550202,2.9495924899263968,-4.879343089193727,10.553497362706228,14.272082252539569,12.544353110957893,8.191402129981958,4.540434451468358,-3.9223220825964806,-11.715889812098153,-16.51002781055916,-6.583453643896632,-12.18553542984177,-7.006691399599877,5.812078737767413,11.222370330185742,11.5532410241855,12.5876746898066,13.725461197016932,6.159768003888125,-6.0863807163733465,-10.839019860789207,-10.793564222354265,-10.759128951833063,-7.738466470845981,-7.299377445939246,2.035364755865107,2.53328354525651,2.8277496002820297,7.669148200548499,14.581876102034943,7.471127454879223,-1.8145459174499112,-10.655357145549836,-16.03687088216431,-17.492188717277788,-4.612561836492971,-0.13146301578950875,6.903648996499185,3.7630380127561582,6.129560275947307,11.205038634575818,10.508356627888272,3.8463454366729857,0.18714973733364923,-6.377621619496678,-12.026584448290734,-10.655798053472777,-9.37362957124872,-3.070855377791558,6.958617212715956,-5.609575130064222,2.958319901838614,9.798515971944461,22.414823072254737,15.08232458525098,3.7918591845186476,-11.15879838415904,-14.75615238241664,-14.138321939382323,-3.655936939309657,-13.737629998570364,-1.2292100809088387,9.1998702926407,7.286847603909789,15.752990000469927,22.10439103077523,9.033591738566459,3.2988725462457156,-6.560453192200966,-14.32077005812749,-14.25884587258206,-13.028734462886794,-11.313189001758767,-7.786076598401683,1.309691169869044,14.202334246564382,14.634318903930955,13.630961694801558,13.284356307610773,10.171814426699072,0.11470968090426725,-13.459759366666871,-12.753696056307088,-9.830644332020828,-5.473242485513196,-13.662957989435954,-8.102165490090757,6.148843611151186,10.919002365233014,16.876770561347325,14.26797288948605,3.8348899159120116,-5.741633308279448,-4.273231323109952,-12.607418738882139,-11.350512618790345,-14.259825511713643,-15.178554078566332,1.4885213932813517,18.7410793700143,16.430787734444248,13.829063322245277,13.236739547253466,6.790590434009817,0.17593308968538546,-4.107085035767185,-14.991968874286957,-13.865625649265361,-18.06374313563219,-7.94819589691938,5.871176799487442,2.690846994901106,15.150737916745516,21.66866599088732,16.435739153505995,5.220598516388027,-0.047394261004261515,-5.385393710621834,-17.90407640485407,-17.552772797531894,-5.894393437378387,7.444981835266308,-6.77336511442705,-0.22543914745231303,12.90109233229976,16.661755398861917,15.052073819484239,10.581733946139794,0.3523303154864296,-3.9422822049887327,-11.712373494509592,-13.425685243570138,-17.00051422543083,-14.652376752661972,-1.842461851121451,17.142704558764684,10.171712638425966,8.80026337437126,15.497281191500036,11.94889716855509,0.9474087778355095,-3.7974805297523204,-15.419455145163363,-8.495466138673228,-9.120030085986672,-2.7352094728414813,-5.858297479199299,-1.4885696435271043,1.8695471926526306,13.759791105117454,16.30025108465051,9.403666736107809,7.121430363954277,-0.27095167165159323,-13.149179845838622,-17.045773153254107,-10.201699294842404,-12.10983029738343,-14.778551033533866,-0.47477502264128746,9.780054417228804,12.980530725309011,14.903478567087696,8.840724425597623,7.955804680867305,-3.5540566853325797,-10.92012557629623,-13.841381884450836,-8.365057907908362,-10.913280703700968,-19.63528072128973,-3.424811091766815,5.703801627157704,14.160357730491087,14.206980119219237,14.643772112689708,5.744171818260262,-2.3836430287997734,-3.776675429860905,-11.698362389752265,-18.118791636850787,-16.162227719283685,-8.018172991150282,5.407429581579569,7.987481040143331,11.090532171534017,16.148056508428475,17.361288850618774,12.115901970077473,-2.375285885206002,-13.076901739519426,-10.238400755710545,-5.316217622920144,-16.68100895827896,-15.948257894261802,-6.6137070398447815,18.330868861541354,15.731897457560594,12.328064972367889,15.68940049283755,9.159985609303176,1.033811266890656,-4.27085694882783,-8.229977243976636,-16.439961271281597,-10.771449893877566,-7.180848709093258,-4.342781780878811,4.501229393948467,2.518277769790753,12.478302019205225,21.795087901997217,9.884330682596906,-0.9924953086622061,-4.3234512263269504,-7.577669644662155,-17.86140672979056,-13.872915114796855,5.369664315750122,5.619317528201161,-4.4386999699945076,2.173378321788082,10.333539170924443,12.695954160773036,8.051541613788723,7.314886488163597,-2.1437499863443295,-11.976395831216832,-11.299637422861972,-14.337528971939069,-1.2768000709292537,-3.9058549805034883,4.972996323717343,7.171138874930529,5.793724247176571,13.12001375890286,10.27387060012671,3.628177513502703,-0.6520205914632298,-8.486034281674396,-17.048262934330445,-15.650932551734032,-11.029386100778671,-1.9760732327900579,2.964354097432417,8.508657207262548,5.133465783409756,11.378416942107698,16.55780359284413,8.137461177464072,-1.2065228981720857,-8.019737123201967,-16.76325365888041,-16.129066789294722,-5.412821001034167,5.015744553900925,-2.4445762399978714,-3.6865692872511864,7.3872863129504465,16.645551332534414,14.655469821108689,5.829279709479878,-5.233875306323918,-5.02737208612744,-15.029994514351097,-12.141967260750507,-11.564378142901692,-6.984096494913383,1.1330583857071115,2.9449928295836285,7.889489293664839,12.720327222579575,14.09489495006267,8.314856342615684,-2.9000506505878474,-6.602929310582867,-8.548853683626534,-13.449150419311877,-10.219726143906724,-3.399398852200219,-7.613984914327902,2.2206992333215902,12.820050023718975,19.648955556519002,12.45563945407543,12.736031733870593,4.514510136756859,-8.487073234738407,-19.311107698890595,-12.380172393910962,-8.36021736557901,-6.895618297955417,-6.424226471794376,0.5900540259800088,6.4058611211780905,6.811632491172209,12.96412756754462,15.378442795711669,9.785197352099209,-4.153413986707897,-7.430999953219847,-8.175105558378053,-10.858613696288762,-14.999044834141904,-16.154000119952023,3.4426913250404203,14.05535677791471,21.44881869543088,11.693587394338541,10.606983844425232,9.284188728000004,-0.9777092454330697,-7.549111866325944,-14.272725453374552,-10.427069595985683,-19.414847300975225,0.08946432189126624,14.456597500123738,2.324295339692764,4.765473325347397,18.024264869553008,13.149794765280017,8.477515332445483,4.3570923559423544,-8.6408955419515,-19.570922908562363,-18.729180184210225,-7.559156111243135,-0.43486955683907863,0.5519278496158082,-0.00390952428479162,4.880594617473227,9.411414606910746,15.19513719363944,7.761380419192617,2.31857843775623,-5.196028639168529,-10.732367617630647,-14.189291053023721,-17.550508350371345,-10.175554625887955,4.656822082020783,5.650441596690858,10.634093147127773,15.157365344311799,8.986703048827506,11.099466804644722,1.8024610441315734,-0.33297747655443444,-9.445308602616192,-8.646855137066593,-11.905479339390592,-12.808449896090035,0.14055391733049358,6.30044311543575,8.700389299200014,9.896975746250556,14.054070238922924,11.042278600879454,1.7188415095902012,-3.4744055976737824,-5.247633915538196,-11.784555024379062,-12.58150824242256,-15.66178994745394,-4.672700663624535,-9.629823106386699,-0.3604694460414795,24.0147646976304,15.91751954607491,11.688177060769894,7.291789394354199,-1.0427600394062746,-13.23362371475514,-14.282834262602082,-13.201936646526779,-7.842927500696711,-5.662139957729448,-0.24517574703407075,7.53216795669899,12.769667327383056,13.566196350311383,7.9563653270498405,7.6189228717493895,2.916574059970074,-10.662817624736766,-20.812782723381034,-21.61917187812074,-11.067711788965548,-0.7815687062508039,1.6987152668513117,2.807606908504025,10.15590513545795,12.37749038108856,10.532195519237764,14.482690989038828,1.675201505838231,-11.828272327299448,-12.601984389143936,-11.772699960472666,-14.423742676665329,-8.106264819060062,2.9523926889657477,4.385736947802962,13.45900555047387,16.978957470573153,12.600585193328207,7.713707610191765,5.626227778238653,-2.1716619707338882,-15.354719582578346,-16.52038606961135,-8.379657492864684,-1.6012723755851437,-0.45665665667895444,-0.9355602818592503,2.023173972303352,14.646747870434881,9.399419897786812,8.620891644586994,5.812038624223338,-4.36941685312717,-11.810719782377602,-8.806969622685102,-10.916580178663947,-19.075406175702533,-6.002152448543966,-5.212427096526927,-1.7196869895603457,18.00049762341691,17.170006122560043,19.347504892522426,6.682454453011516,-5.939463619079274,-10.414381414393022,-13.96673951316082,-12.104176188254252,-3.554410650166173,-6.441609966195205,-3.2158173563617845,8.066455819071152,9.410662490300751,10.432686600145358,13.03413923210138,7.670829574215291,-3.030735122833642,-7.679052352430289,-13.789295814529446,-18.294928973948533,-14.92922444917356,-1.616879868969895,8.818236138633386,1.8826410423642033,10.260937725946752,16.651717484216203,11.007265903447431,5.9951001944702,-2.7846310483433827,-7.888842471823645,-14.588234054167135,-13.620800514570217,-9.89421232542306,-7.971250052630763,-7.630385321193031,12.409215996640073,10.756206919971124,5.336484174384392,18.341555048524842,5.959702525659058,-3.6790135591648516,-11.264727754474743,-12.148808695906618,-20.919798729920608,-15.262850121221215,-16.116268714921436,-6.396166504418233,21.646410829579562,13.805906046713734,11.550057472524319,14.367673443303588,14.187113464258346,-2.7218077267133625,-5.997881971086695,-9.681426889316542,-19.65285322156157,-19.902678921105665,-7.877615586366755,3.269876958328704,4.166993759631669,13.705151360493815,16.630983598854172,12.894173628727811,8.292467459787929,6.156084029513194,-4.370828850261957,-8.205794037791863,-9.694953333570131,-15.002220969314957,-16.405021385201987,-6.108134972334267,12.527512481127745,8.849188218818899,7.800031072685463,7.806233623577639,9.78201996506393,7.243275849551873,-2.0379115701947397,-12.29120467997993,-11.551703967183842,-10.605411140861852,-19.00402528685809,-5.867426971860907,8.295591979714917,3.3766055857725856,10.872578394552068,14.094993037057705,12.328609606617642,8.137007849870665,1.1387443843476497,-7.927054371992111,-18.346844300742045,-12.995386206829078,-4.605255244687169,-2.7008856479109786,-1.8482749230824442,6.534206329621335,12.032797286922587,12.412060773636979,12.493539013132134,7.427004106831528,-2.8476647060161797,-5.394269763298581,-15.300772414158356,-9.445390861173218,-7.939358045648656,-14.335656873481948,0.2044312032584604,9.263956310538093,6.451902907646705,7.795461007880275,15.563876808227871,7.461524389250336,1.7340122161499492,-1.5340809654184897,-5.561372634095838,-11.177563569555325,-7.958458566297803],\"type\":\"scatter\"}],                        {\"height\":600,\"plot_bgcolor\":\"white\",\"width\":600,\"xaxis\":{\"anchor\":\"x\",\"exponentformat\":\"e\",\"showexponent\":\"all\",\"showline\":true,\"side\":\"bottom\",\"ticks\":\"outside\",\"title\":{\"text\":\"0th\"},\"type\":\"linear\",\"zeroline\":true,\"linewidth\":1,\"linecolor\":\"black\",\"mirror\":false},\"yaxis\":{\"anchor\":\"y\",\"exponentformat\":\"e\",\"showexponent\":\"all\",\"showline\":true,\"side\":\"left\",\"ticks\":\"outside\",\"title\":{\"text\":\"1st\"},\"type\":\"linear\",\"zeroline\":true,\"linewidth\":1,\"linecolor\":\"black\",\"mirror\":false},\"template\":{\"data\":{\"bar\":[{\"error_x\":{\"color\":\"#2a3f5f\"},\"error_y\":{\"color\":\"#2a3f5f\"},\"marker\":{\"line\":{\"color\":\"#E5ECF6\",\"width\":0.5},\"pattern\":{\"fillmode\":\"overlay\",\"size\":10,\"solidity\":0.2}},\"type\":\"bar\"}],\"barpolar\":[{\"marker\":{\"line\":{\"color\":\"#E5ECF6\",\"width\":0.5},\"pattern\":{\"fillmode\":\"overlay\",\"size\":10,\"solidity\":0.2}},\"type\":\"barpolar\"}],\"carpet\":[{\"aaxis\":{\"endlinecolor\":\"#2a3f5f\",\"gridcolor\":\"white\",\"linecolor\":\"white\",\"minorgridcolor\":\"white\",\"startlinecolor\":\"#2a3f5f\"},\"baxis\":{\"endlinecolor\":\"#2a3f5f\",\"gridcolor\":\"white\",\"linecolor\":\"white\",\"minorgridcolor\":\"white\",\"startlinecolor\":\"#2a3f5f\"},\"type\":\"carpet\"}],\"choropleth\":[{\"colorbar\":{\"outlinewidth\":0,\"ticks\":\"\"},\"type\":\"choropleth\"}],\"contour\":[{\"colorbar\":{\"outlinewidth\":0,\"ticks\":\"\"},\"colorscale\":[[0.0,\"#0d0887\"],[0.1111111111111111,\"#46039f\"],[0.2222222222222222,\"#7201a8\"],[0.3333333333333333,\"#9c179e\"],[0.4444444444444444,\"#bd3786\"],[0.5555555555555556,\"#d8576b\"],[0.6666666666666666,\"#ed7953\"],[0.7777777777777778,\"#fb9f3a\"],[0.8888888888888888,\"#fdca26\"],[1.0,\"#f0f921\"]],\"type\":\"contour\"}],\"contourcarpet\":[{\"colorbar\":{\"outlinewidth\":0,\"ticks\":\"\"},\"type\":\"contourcarpet\"}],\"heatmap\":[{\"colorbar\":{\"outlinewidth\":0,\"ticks\":\"\"},\"colorscale\":[[0.0,\"#0d0887\"],[0.1111111111111111,\"#46039f\"],[0.2222222222222222,\"#7201a8\"],[0.3333333333333333,\"#9c179e\"],[0.4444444444444444,\"#bd3786\"],[0.5555555555555556,\"#d8576b\"],[0.6666666666666666,\"#ed7953\"],[0.7777777777777778,\"#fb9f3a\"],[0.8888888888888888,\"#fdca26\"],[1.0,\"#f0f921\"]],\"type\":\"heatmap\"}],\"heatmapgl\":[{\"colorbar\":{\"outlinewidth\":0,\"ticks\":\"\"},\"colorscale\":[[0.0,\"#0d0887\"],[0.1111111111111111,\"#46039f\"],[0.2222222222222222,\"#7201a8\"],[0.3333333333333333,\"#9c179e\"],[0.4444444444444444,\"#bd3786\"],[0.5555555555555556,\"#d8576b\"],[0.6666666666666666,\"#ed7953\"],[0.7777777777777778,\"#fb9f3a\"],[0.8888888888888888,\"#fdca26\"],[1.0,\"#f0f921\"]],\"type\":\"heatmapgl\"}],\"histogram\":[{\"marker\":{\"pattern\":{\"fillmode\":\"overlay\",\"size\":10,\"solidity\":0.2}},\"type\":\"histogram\"}],\"histogram2d\":[{\"colorbar\":{\"outlinewidth\":0,\"ticks\":\"\"},\"colorscale\":[[0.0,\"#0d0887\"],[0.1111111111111111,\"#46039f\"],[0.2222222222222222,\"#7201a8\"],[0.3333333333333333,\"#9c179e\"],[0.4444444444444444,\"#bd3786\"],[0.5555555555555556,\"#d8576b\"],[0.6666666666666666,\"#ed7953\"],[0.7777777777777778,\"#fb9f3a\"],[0.8888888888888888,\"#fdca26\"],[1.0,\"#f0f921\"]],\"type\":\"histogram2d\"}],\"histogram2dcontour\":[{\"colorbar\":{\"outlinewidth\":0,\"ticks\":\"\"},\"colorscale\":[[0.0,\"#0d0887\"],[0.1111111111111111,\"#46039f\"],[0.2222222222222222,\"#7201a8\"],[0.3333333333333333,\"#9c179e\"],[0.4444444444444444,\"#bd3786\"],[0.5555555555555556,\"#d8576b\"],[0.6666666666666666,\"#ed7953\"],[0.7777777777777778,\"#fb9f3a\"],[0.8888888888888888,\"#fdca26\"],[1.0,\"#f0f921\"]],\"type\":\"histogram2dcontour\"}],\"mesh3d\":[{\"colorbar\":{\"outlinewidth\":0,\"ticks\":\"\"},\"type\":\"mesh3d\"}],\"parcoords\":[{\"line\":{\"colorbar\":{\"outlinewidth\":0,\"ticks\":\"\"}},\"type\":\"parcoords\"}],\"pie\":[{\"automargin\":true,\"type\":\"pie\"}],\"scatter\":[{\"marker\":{\"colorbar\":{\"outlinewidth\":0,\"ticks\":\"\"}},\"type\":\"scatter\"}],\"scatter3d\":[{\"line\":{\"colorbar\":{\"outlinewidth\":0,\"ticks\":\"\"}},\"marker\":{\"colorbar\":{\"outlinewidth\":0,\"ticks\":\"\"}},\"type\":\"scatter3d\"}],\"scattercarpet\":[{\"marker\":{\"colorbar\":{\"outlinewidth\":0,\"ticks\":\"\"}},\"type\":\"scattercarpet\"}],\"scattergeo\":[{\"marker\":{\"colorbar\":{\"outlinewidth\":0,\"ticks\":\"\"}},\"type\":\"scattergeo\"}],\"scattergl\":[{\"marker\":{\"colorbar\":{\"outlinewidth\":0,\"ticks\":\"\"}},\"type\":\"scattergl\"}],\"scattermapbox\":[{\"marker\":{\"colorbar\":{\"outlinewidth\":0,\"ticks\":\"\"}},\"type\":\"scattermapbox\"}],\"scatterpolar\":[{\"marker\":{\"colorbar\":{\"outlinewidth\":0,\"ticks\":\"\"}},\"type\":\"scatterpolar\"}],\"scatterpolargl\":[{\"marker\":{\"colorbar\":{\"outlinewidth\":0,\"ticks\":\"\"}},\"type\":\"scatterpolargl\"}],\"scatterternary\":[{\"marker\":{\"colorbar\":{\"outlinewidth\":0,\"ticks\":\"\"}},\"type\":\"scatterternary\"}],\"surface\":[{\"colorbar\":{\"outlinewidth\":0,\"ticks\":\"\"},\"colorscale\":[[0.0,\"#0d0887\"],[0.1111111111111111,\"#46039f\"],[0.2222222222222222,\"#7201a8\"],[0.3333333333333333,\"#9c179e\"],[0.4444444444444444,\"#bd3786\"],[0.5555555555555556,\"#d8576b\"],[0.6666666666666666,\"#ed7953\"],[0.7777777777777778,\"#fb9f3a\"],[0.8888888888888888,\"#fdca26\"],[1.0,\"#f0f921\"]],\"type\":\"surface\"}],\"table\":[{\"cells\":{\"fill\":{\"color\":\"#EBF0F8\"},\"line\":{\"color\":\"white\"}},\"header\":{\"fill\":{\"color\":\"#C8D4E3\"},\"line\":{\"color\":\"white\"}},\"type\":\"table\"}]},\"layout\":{\"annotationdefaults\":{\"arrowcolor\":\"#2a3f5f\",\"arrowhead\":0,\"arrowwidth\":1},\"autotypenumbers\":\"strict\",\"coloraxis\":{\"colorbar\":{\"outlinewidth\":0,\"ticks\":\"\"}},\"colorscale\":{\"diverging\":[[0,\"#8e0152\"],[0.1,\"#c51b7d\"],[0.2,\"#de77ae\"],[0.3,\"#f1b6da\"],[0.4,\"#fde0ef\"],[0.5,\"#f7f7f7\"],[0.6,\"#e6f5d0\"],[0.7,\"#b8e186\"],[0.8,\"#7fbc41\"],[0.9,\"#4d9221\"],[1,\"#276419\"]],\"sequential\":[[0.0,\"#0d0887\"],[0.1111111111111111,\"#46039f\"],[0.2222222222222222,\"#7201a8\"],[0.3333333333333333,\"#9c179e\"],[0.4444444444444444,\"#bd3786\"],[0.5555555555555556,\"#d8576b\"],[0.6666666666666666,\"#ed7953\"],[0.7777777777777778,\"#fb9f3a\"],[0.8888888888888888,\"#fdca26\"],[1.0,\"#f0f921\"]],\"sequentialminus\":[[0.0,\"#0d0887\"],[0.1111111111111111,\"#46039f\"],[0.2222222222222222,\"#7201a8\"],[0.3333333333333333,\"#9c179e\"],[0.4444444444444444,\"#bd3786\"],[0.5555555555555556,\"#d8576b\"],[0.6666666666666666,\"#ed7953\"],[0.7777777777777778,\"#fb9f3a\"],[0.8888888888888888,\"#fdca26\"],[1.0,\"#f0f921\"]]},\"colorway\":[\"#636efa\",\"#EF553B\",\"#00cc96\",\"#ab63fa\",\"#FFA15A\",\"#19d3f3\",\"#FF6692\",\"#B6E880\",\"#FF97FF\",\"#FECB52\"],\"font\":{\"color\":\"#2a3f5f\"},\"geo\":{\"bgcolor\":\"white\",\"lakecolor\":\"white\",\"landcolor\":\"#E5ECF6\",\"showlakes\":true,\"showland\":true,\"subunitcolor\":\"white\"},\"hoverlabel\":{\"align\":\"left\"},\"hovermode\":\"closest\",\"mapbox\":{\"style\":\"light\"},\"paper_bgcolor\":\"white\",\"plot_bgcolor\":\"#E5ECF6\",\"polar\":{\"angularaxis\":{\"gridcolor\":\"white\",\"linecolor\":\"white\",\"ticks\":\"\"},\"bgcolor\":\"#E5ECF6\",\"radialaxis\":{\"gridcolor\":\"white\",\"linecolor\":\"white\",\"ticks\":\"\"}},\"scene\":{\"xaxis\":{\"backgroundcolor\":\"#E5ECF6\",\"gridcolor\":\"white\",\"gridwidth\":2,\"linecolor\":\"white\",\"showbackground\":true,\"ticks\":\"\",\"zerolinecolor\":\"white\"},\"yaxis\":{\"backgroundcolor\":\"#E5ECF6\",\"gridcolor\":\"white\",\"gridwidth\":2,\"linecolor\":\"white\",\"showbackground\":true,\"ticks\":\"\",\"zerolinecolor\":\"white\"},\"zaxis\":{\"backgroundcolor\":\"#E5ECF6\",\"gridcolor\":\"white\",\"gridwidth\":2,\"linecolor\":\"white\",\"showbackground\":true,\"ticks\":\"\",\"zerolinecolor\":\"white\"}},\"shapedefaults\":{\"line\":{\"color\":\"#2a3f5f\"}},\"ternary\":{\"aaxis\":{\"gridcolor\":\"white\",\"linecolor\":\"white\",\"ticks\":\"\"},\"baxis\":{\"gridcolor\":\"white\",\"linecolor\":\"white\",\"ticks\":\"\"},\"bgcolor\":\"#E5ECF6\",\"caxis\":{\"gridcolor\":\"white\",\"linecolor\":\"white\",\"ticks\":\"\"}},\"title\":{\"x\":0.05},\"xaxis\":{\"automargin\":true,\"gridcolor\":\"white\",\"linecolor\":\"white\",\"ticks\":\"\",\"title\":{\"standoff\":15},\"zerolinecolor\":\"white\",\"zerolinewidth\":2},\"yaxis\":{\"automargin\":true,\"gridcolor\":\"white\",\"linecolor\":\"white\",\"ticks\":\"\",\"title\":{\"standoff\":15},\"zerolinecolor\":\"white\",\"zerolinewidth\":2}}}},                        {\"responsive\": true}                    ).then(function(){\n",
              "                            \n",
              "var gd = document.getElementById('bf8efe8c-5f40-4f16-b6ea-3a68aa285814');\n",
              "var x = new MutationObserver(function (mutations, observer) {{\n",
              "        var display = window.getComputedStyle(gd).display;\n",
              "        if (!display || display === 'none') {{\n",
              "            console.log([gd, 'removed!']);\n",
              "            Plotly.purge(gd);\n",
              "            observer.disconnect();\n",
              "        }}\n",
              "}});\n",
              "\n",
              "// Listen for the removal of the full notebook cells\n",
              "var notebookContainer = gd.closest('#notebook-container');\n",
              "if (notebookContainer) {{\n",
              "    x.observe(notebookContainer, {childList: true});\n",
              "}}\n",
              "\n",
              "// Listen for the clearing of the current output cell\n",
              "var outputEl = gd.closest('.output');\n",
              "if (outputEl) {{\n",
              "    x.observe(outputEl, {childList: true});\n",
              "}}\n",
              "\n",
              "                        })                };                            </script>        </div>\n",
              "</body>\n",
              "</html>"
            ]
          },
          "metadata": {}
        }
      ]
    },
    {
      "cell_type": "code",
      "source": [
        "from scipy import stats\n",
        "owo=df_final[(np.abs(stats.zscore(df_final['temperatures'])) < 3)]"
      ],
      "metadata": {
        "id": "JoGanfHL3Ibz"
      },
      "execution_count": 21,
      "outputs": []
    },
    {
      "cell_type": "markdown",
      "source": [
        "### Diagrama de persistencia"
      ],
      "metadata": {
        "id": "b4XCAsTZ9vZ6"
      }
    },
    {
      "cell_type": "code",
      "source": [
        "y_periodic_embedded = y_periodic_embedded_pca[None, :, :]\n",
        "from gtda.homology import VietorisRipsPersistence\n",
        "# 0 - connected components, 1 - loops, 2 - voids\n",
        "homology_dimensions = [0, 1, 2]\n",
        "periodic_persistence = VietorisRipsPersistence(\n",
        "    homology_dimensions=homology_dimensions, n_jobs=6\n",
        ")\n",
        "print(\"Persistence diagram for periodic signal\")\n",
        "periodic_persistence.fit_transform_plot(y_periodic_embedded)\n",
        "\n"
      ],
      "metadata": {
        "colab": {
          "base_uri": "https://localhost:8080/",
          "height": 656
        },
        "id": "jZ9T78ER66aU",
        "outputId": "19b3fb3e-0c81-4f0c-ac66-131c29117576"
      },
      "execution_count": 22,
      "outputs": [
        {
          "output_type": "stream",
          "name": "stdout",
          "text": [
            "Persistence diagram for periodic signal\n"
          ]
        },
        {
          "output_type": "display_data",
          "data": {
            "text/html": [
              "<html>\n",
              "<head><meta charset=\"utf-8\" /></head>\n",
              "<body>\n",
              "    <div>            <script src=\"https://cdnjs.cloudflare.com/ajax/libs/mathjax/2.7.5/MathJax.js?config=TeX-AMS-MML_SVG\"></script><script type=\"text/javascript\">if (window.MathJax) {MathJax.Hub.Config({SVG: {font: \"STIX-Web\"}});}</script>                <script type=\"text/javascript\">window.PlotlyConfig = {MathJaxConfig: 'local'};</script>\n",
              "        <script src=\"https://cdn.plot.ly/plotly-2.8.3.min.js\"></script>                <div id=\"1370d0d7-0334-4a42-bab3-df9f7dd722f2\" class=\"plotly-graph-div\" style=\"height:500px; width:500px;\"></div>            <script type=\"text/javascript\">                                    window.PLOTLYENV=window.PLOTLYENV || {};                                    if (document.getElementById(\"1370d0d7-0334-4a42-bab3-df9f7dd722f2\")) {                    Plotly.newPlot(                        \"1370d0d7-0334-4a42-bab3-df9f7dd722f2\",                        [{\"hoverinfo\":\"none\",\"line\":{\"color\":\"black\",\"dash\":\"dash\",\"width\":1},\"mode\":\"lines\",\"showlegend\":false,\"x\":[-0.22532186508178711,11.491415119171142],\"y\":[-0.22532186508178711,11.491415119171142],\"type\":\"scatter\"},{\"hoverinfo\":\"text\",\"hovertext\":[\"(0.0, 0.06319975852966309)\",\"(0.0, 0.07646697014570236)\",\"(0.0, 0.07918082922697067)\",\"(0.0, 0.08453930169343948)\",\"(0.0, 0.09982907772064209)\",\"(0.0, 0.0999613106250763)\",\"(0.0, 0.10171785205602646)\",\"(0.0, 0.12400300055742264)\",\"(0.0, 0.12983167171478271)\",\"(0.0, 0.14775246381759644)\",\"(0.0, 0.17545881867408752)\",\"(0.0, 0.18158908188343048)\",\"(0.0, 0.2065725475549698)\",\"(0.0, 0.2072884738445282)\",\"(0.0, 0.20754997432231903)\",\"(0.0, 0.21080932021141052)\",\"(0.0, 0.21216079592704773)\",\"(0.0, 0.22411225736141205)\",\"(0.0, 0.2244296818971634)\",\"(0.0, 0.22739189863204956)\",\"(0.0, 0.23184199631214142)\",\"(0.0, 0.23431038856506348)\",\"(0.0, 0.23543457686901093)\",\"(0.0, 0.2360108196735382)\",\"(0.0, 0.23826256394386292)\",\"(0.0, 0.24521271884441376)\",\"(0.0, 0.2564921975135803)\",\"(0.0, 0.2636485993862152)\",\"(0.0, 0.2669335603713989)\",\"(0.0, 0.2676354944705963)\",\"(0.0, 0.2681044340133667)\",\"(0.0, 0.2720160484313965)\",\"(0.0, 0.27970606088638306)\",\"(0.0, 0.2815234363079071)\",\"(0.0, 0.2895977199077606)\",\"(0.0, 0.2963652014732361)\",\"(0.0, 0.29659503698349)\",\"(0.0, 0.3040784001350403)\",\"(0.0, 0.32111284136772156)\",\"(0.0, 0.32172441482543945)\",\"(0.0, 0.3255307078361511)\",\"(0.0, 0.33546432852745056)\",\"(0.0, 0.3392610251903534)\",\"(0.0, 0.3427344262599945)\",\"(0.0, 0.3475661277770996)\",\"(0.0, 0.34849074482917786)\",\"(0.0, 0.3601582646369934)\",\"(0.0, 0.3641299307346344)\",\"(0.0, 0.3692108392715454)\",\"(0.0, 0.37031784653663635)\",\"(0.0, 0.37289464473724365)\",\"(0.0, 0.38400518894195557)\",\"(0.0, 0.3924378454685211)\",\"(0.0, 0.3976384699344635)\",\"(0.0, 0.3979368209838867)\",\"(0.0, 0.4021981656551361)\",\"(0.0, 0.4033847749233246)\",\"(0.0, 0.40665116906166077)\",\"(0.0, 0.40794146060943604)\",\"(0.0, 0.4088456332683563)\",\"(0.0, 0.42006686329841614)\",\"(0.0, 0.42146891355514526)\",\"(0.0, 0.4243341386318207)\",\"(0.0, 0.4268285632133484)\",\"(0.0, 0.4322669506072998)\",\"(0.0, 0.4350939393043518)\",\"(0.0, 0.4426499605178833)\",\"(0.0, 0.44425299763679504)\",\"(0.0, 0.4452989399433136)\",\"(0.0, 0.4469011425971985)\",\"(0.0, 0.45071086287498474)\",\"(0.0, 0.4507710039615631)\",\"(0.0, 0.45189422369003296)\",\"(0.0, 0.45284226536750793)\",\"(0.0, 0.4541969299316406)\",\"(0.0, 0.46412935853004456)\",\"(0.0, 0.4654977321624756)\",\"(0.0, 0.4682239890098572)\",\"(0.0, 0.4697614312171936)\",\"(0.0, 0.4707839787006378)\",\"(0.0, 0.47306525707244873)\",\"(0.0, 0.47870248556137085)\",\"(0.0, 0.478768527507782)\",\"(0.0, 0.4797111749649048)\",\"(0.0, 0.48032957315444946)\",\"(0.0, 0.48081210255622864)\",\"(0.0, 0.481826514005661)\",\"(0.0, 0.48402315378189087)\",\"(0.0, 0.4871435761451721)\",\"(0.0, 0.49146777391433716)\",\"(0.0, 0.4921512007713318)\",\"(0.0, 0.49804720282554626)\",\"(0.0, 0.4988414943218231)\",\"(0.0, 0.501003086566925)\",\"(0.0, 0.5013381242752075)\",\"(0.0, 0.5064691305160522)\",\"(0.0, 0.5076319575309753)\",\"(0.0, 0.5080514550209045)\",\"(0.0, 0.5095335841178894)\",\"(0.0, 0.5119197368621826)\",\"(0.0, 0.5193518996238708)\",\"(0.0, 0.5235574841499329)\",\"(0.0, 0.5237409472465515)\",\"(0.0, 0.5245267748832703)\",\"(0.0, 0.5274629592895508)\",\"(0.0, 0.5336686372756958)\",\"(0.0, 0.5385783910751343)\",\"(0.0, 0.5423762202262878)\",\"(0.0, 0.543472170829773)\",\"(0.0, 0.5466382503509521)\",\"(0.0, 0.5481425523757935)\",\"(0.0, 0.5506607294082642)\",\"(0.0, 0.5523204207420349)\",\"(0.0, 0.5533218383789062)\",\"(0.0, 0.5549203157424927)\",\"(0.0, 0.5621958374977112)\",\"(0.0, 0.5689642429351807)\",\"(0.0, 0.5718253254890442)\",\"(0.0, 0.5722315907478333)\",\"(0.0, 0.5728349089622498)\",\"(0.0, 0.5770882368087769)\",\"(0.0, 0.5775352120399475)\",\"(0.0, 0.5787555575370789)\",\"(0.0, 0.5800085067749023)\",\"(0.0, 0.5802413821220398)\",\"(0.0, 0.5804330706596375)\",\"(0.0, 0.5806059241294861)\",\"(0.0, 0.5806512236595154)\",\"(0.0, 0.5831074118614197)\",\"(0.0, 0.5839145183563232)\",\"(0.0, 0.5853664875030518)\",\"(0.0, 0.5855792760848999)\",\"(0.0, 0.5903103351593018)\",\"(0.0, 0.5944564342498779)\",\"(0.0, 0.5963809490203857)\",\"(0.0, 0.5989733338356018)\",\"(0.0, 0.6014053821563721)\",\"(0.0, 0.6042702198028564)\",\"(0.0, 0.6052835583686829)\",\"(0.0, 0.6063876748085022)\",\"(0.0, 0.6074249744415283)\",\"(0.0, 0.6130313277244568)\",\"(0.0, 0.6153863668441772)\",\"(0.0, 0.6170709133148193)\",\"(0.0, 0.6213565468788147)\",\"(0.0, 0.6230143308639526)\",\"(0.0, 0.6236154437065125)\",\"(0.0, 0.6252769231796265)\",\"(0.0, 0.6322194337844849)\",\"(0.0, 0.634432852268219)\",\"(0.0, 0.6347361207008362)\",\"(0.0, 0.639502763748169)\",\"(0.0, 0.6460112929344177)\",\"(0.0, 0.6467143297195435)\",\"(0.0, 0.6520209908485413)\",\"(0.0, 0.6647076606750488)\",\"(0.0, 0.6647911071777344)\",\"(0.0, 0.6659295558929443)\",\"(0.0, 0.6664443612098694)\",\"(0.0, 0.668538510799408)\",\"(0.0, 0.6695058345794678)\",\"(0.0, 0.6695725917816162)\",\"(0.0, 0.6707162857055664)\",\"(0.0, 0.6720761656761169)\",\"(0.0, 0.6738117337226868)\",\"(0.0, 0.6746958494186401)\",\"(0.0, 0.6756213903427124)\",\"(0.0, 0.6759593486785889)\",\"(0.0, 0.6793719530105591)\",\"(0.0, 0.681568443775177)\",\"(0.0, 0.6842491626739502)\",\"(0.0, 0.6856397986412048)\",\"(0.0, 0.6895889639854431)\",\"(0.0, 0.6897063851356506)\",\"(0.0, 0.6901271939277649)\",\"(0.0, 0.699602484703064)\",\"(0.0, 0.7032854557037354)\",\"(0.0, 0.7054163813591003)\",\"(0.0, 0.7075052857398987)\",\"(0.0, 0.7104238271713257)\",\"(0.0, 0.7114320397377014)\",\"(0.0, 0.7116430401802063)\",\"(0.0, 0.7193818092346191)\",\"(0.0, 0.7231816649436951)\",\"(0.0, 0.7239507436752319)\",\"(0.0, 0.7261726260185242)\",\"(0.0, 0.728938639163971)\",\"(0.0, 0.7330944538116455)\",\"(0.0, 0.7343936562538147)\",\"(0.0, 0.7370796203613281)\",\"(0.0, 0.7371729612350464)\",\"(0.0, 0.7381557822227478)\",\"(0.0, 0.7393608689308167)\",\"(0.0, 0.73996901512146)\",\"(0.0, 0.7414181232452393)\",\"(0.0, 0.7418199181556702)\",\"(0.0, 0.7450724840164185)\",\"(0.0, 0.7457031607627869)\",\"(0.0, 0.7516085505485535)\",\"(0.0, 0.7530688643455505)\",\"(0.0, 0.7544876933097839)\",\"(0.0, 0.7558285593986511)\",\"(0.0, 0.755933403968811)\",\"(0.0, 0.7590283751487732)\",\"(0.0, 0.7617602944374084)\",\"(0.0, 0.7627378106117249)\",\"(0.0, 0.7635142207145691)\",\"(0.0, 0.7638927102088928)\",\"(0.0, 0.7653166055679321)\",\"(0.0, 0.7659865617752075)\",\"(0.0, 0.7661831378936768)\",\"(0.0, 0.7666646838188171)\",\"(0.0, 0.7677420377731323)\",\"(0.0, 0.7686540484428406)\",\"(0.0, 0.7696869969367981)\",\"(0.0, 0.7766150236129761)\",\"(0.0, 0.77675461769104)\",\"(0.0, 0.7774422764778137)\",\"(0.0, 0.7783913016319275)\",\"(0.0, 0.7787448167800903)\",\"(0.0, 0.7793280482292175)\",\"(0.0, 0.7817306518554688)\",\"(0.0, 0.7819903492927551)\",\"(0.0, 0.7828554511070251)\",\"(0.0, 0.783287525177002)\",\"(0.0, 0.7840278744697571)\",\"(0.0, 0.7880388498306274)\",\"(0.0, 0.788665771484375)\",\"(0.0, 0.7891587615013123)\",\"(0.0, 0.7901158928871155)\",\"(0.0, 0.7944392561912537)\",\"(0.0, 0.7953891158103943)\",\"(0.0, 0.7975573539733887)\",\"(0.0, 0.8001232147216797)\",\"(0.0, 0.8007486462593079)\",\"(0.0, 0.8014552593231201)\",\"(0.0, 0.8022210597991943)\",\"(0.0, 0.8024200797080994)\",\"(0.0, 0.8041052222251892)\",\"(0.0, 0.8044816255569458)\",\"(0.0, 0.8061244487762451)\",\"(0.0, 0.8066985607147217)\",\"(0.0, 0.817686915397644)\",\"(0.0, 0.8247910141944885)\",\"(0.0, 0.8288550972938538)\",\"(0.0, 0.8290351033210754)\",\"(0.0, 0.8323842287063599)\",\"(0.0, 0.8326101899147034)\",\"(0.0, 0.8340211510658264)\",\"(0.0, 0.8386447429656982)\",\"(0.0, 0.8415499329566956)\",\"(0.0, 0.8464364409446716)\",\"(0.0, 0.8464374542236328)\",\"(0.0, 0.8537090420722961)\",\"(0.0, 0.8545961976051331)\",\"(0.0, 0.857988178730011)\",\"(0.0, 0.8618861436843872)\",\"(0.0, 0.8652454018592834)\",\"(0.0, 0.8667922616004944)\",\"(0.0, 0.8693711161613464)\",\"(0.0, 0.8696638941764832)\",\"(0.0, 0.8701794743537903)\",\"(0.0, 0.8719244599342346)\",\"(0.0, 0.8726087808609009)\",\"(0.0, 0.8747499585151672)\",\"(0.0, 0.8748804330825806)\",\"(0.0, 0.8754260540008545)\",\"(0.0, 0.8766939043998718)\",\"(0.0, 0.8867620825767517)\",\"(0.0, 0.8888033032417297)\",\"(0.0, 0.8937294483184814)\",\"(0.0, 0.8965504169464111)\",\"(0.0, 0.8984628915786743)\",\"(0.0, 0.8996911644935608)\",\"(0.0, 0.8999792337417603)\",\"(0.0, 0.9030501842498779)\",\"(0.0, 0.9046313762664795)\",\"(0.0, 0.908353865146637)\",\"(0.0, 0.9086518287658691)\",\"(0.0, 0.9089177846908569)\",\"(0.0, 0.9097849726676941)\",\"(0.0, 0.912094235420227)\",\"(0.0, 0.9149269461631775)\",\"(0.0, 0.915960967540741)\",\"(0.0, 0.9162911772727966)\",\"(0.0, 0.9214071035385132)\",\"(0.0, 0.9233222603797913)\",\"(0.0, 0.9241110682487488)\",\"(0.0, 0.9252091646194458)\",\"(0.0, 0.9255280494689941)\",\"(0.0, 0.9293211102485657)\",\"(0.0, 0.9332661032676697)\",\"(0.0, 0.9340693354606628)\",\"(0.0, 0.9360806345939636)\",\"(0.0, 0.9417913556098938)\",\"(0.0, 0.9421594142913818)\",\"(0.0, 0.943880558013916)\",\"(0.0, 0.9476404190063477)\",\"(0.0, 0.9487598538398743)\",\"(0.0, 0.9543870687484741)\",\"(0.0, 0.9561274647712708)\",\"(0.0, 0.9561886191368103)\",\"(0.0, 0.9577071070671082)\",\"(0.0, 0.9586867094039917)\",\"(0.0, 0.9591484069824219)\",\"(0.0, 0.9604043960571289)\",\"(0.0, 0.9614924788475037)\",\"(0.0, 0.9650852084159851)\",\"(0.0, 0.9674206376075745)\",\"(0.0, 0.9685497879981995)\",\"(0.0, 0.9686381220817566)\",\"(0.0, 0.9704976081848145)\",\"(0.0, 0.9707927703857422)\",\"(0.0, 0.9715242385864258)\",\"(0.0, 0.9723109006881714)\",\"(0.0, 0.9727473258972168)\",\"(0.0, 0.9739750623703003)\",\"(0.0, 0.9739919304847717)\",\"(0.0, 0.9816715717315674)\",\"(0.0, 0.9824100732803345)\",\"(0.0, 0.9828282594680786)\",\"(0.0, 0.9852990508079529)\",\"(0.0, 0.9856700897216797)\",\"(0.0, 0.9897575378417969)\",\"(0.0, 0.9922143816947937)\",\"(0.0, 0.9922187924385071)\",\"(0.0, 0.9928500652313232)\",\"(0.0, 0.9930011034011841)\",\"(0.0, 0.9973194003105164)\",\"(0.0, 0.9975419640541077)\",\"(0.0, 0.998182475566864)\",\"(0.0, 1.0003899335861206)\",\"(0.0, 1.0010911226272583)\",\"(0.0, 1.0013811588287354)\",\"(0.0, 1.0090328454971313)\",\"(0.0, 1.0097124576568604)\",\"(0.0, 1.0122567415237427)\",\"(0.0, 1.0133167505264282)\",\"(0.0, 1.0151517391204834)\",\"(0.0, 1.0161149501800537)\",\"(0.0, 1.019303798675537)\",\"(0.0, 1.0232648849487305)\",\"(0.0, 1.0256996154785156)\",\"(0.0, 1.0276148319244385)\",\"(0.0, 1.0279079675674438)\",\"(0.0, 1.0316907167434692)\",\"(0.0, 1.032484769821167)\",\"(0.0, 1.0331547260284424)\",\"(0.0, 1.0355710983276367)\",\"(0.0, 1.0358790159225464)\",\"(0.0, 1.0397249460220337)\",\"(0.0, 1.0405995845794678)\",\"(0.0, 1.041908860206604)\",\"(0.0, 1.0429240465164185)\",\"(0.0, 1.0437405109405518)\",\"(0.0, 1.0443921089172363)\",\"(0.0, 1.048171043395996)\",\"(0.0, 1.0503673553466797)\",\"(0.0, 1.0505948066711426)\",\"(0.0, 1.050685167312622)\",\"(0.0, 1.0519566535949707)\",\"(0.0, 1.053144931793213)\",\"(0.0, 1.0619795322418213)\",\"(0.0, 1.062791109085083)\",\"(0.0, 1.06355881690979)\",\"(0.0, 1.0638357400894165)\",\"(0.0, 1.0641939640045166)\",\"(0.0, 1.0659198760986328)\",\"(0.0, 1.0670899152755737)\",\"(0.0, 1.067517876625061)\",\"(0.0, 1.0702800750732422)\",\"(0.0, 1.0705068111419678)\",\"(0.0, 1.0719276666641235)\",\"(0.0, 1.072786808013916)\",\"(0.0, 1.0743582248687744)\",\"(0.0, 1.0799449682235718)\",\"(0.0, 1.0824329853057861)\",\"(0.0, 1.0824648141860962)\",\"(0.0, 1.0842007398605347)\",\"(0.0, 1.087130069732666)\",\"(0.0, 1.087645173072815)\",\"(0.0, 1.0893263816833496)\",\"(0.0, 1.0902348756790161)\",\"(0.0, 1.0910985469818115)\",\"(0.0, 1.0942384004592896)\",\"(0.0, 1.1009708642959595)\",\"(0.0, 1.1010929346084595)\",\"(0.0, 1.1033328771591187)\",\"(0.0, 1.1050399541854858)\",\"(0.0, 1.108228325843811)\",\"(0.0, 1.1111832857131958)\",\"(0.0, 1.112257957458496)\",\"(0.0, 1.1124998331069946)\",\"(0.0, 1.1193708181381226)\",\"(0.0, 1.1218712329864502)\",\"(0.0, 1.126556396484375)\",\"(0.0, 1.1267799139022827)\",\"(0.0, 1.127504587173462)\",\"(0.0, 1.1279841661453247)\",\"(0.0, 1.1282508373260498)\",\"(0.0, 1.1286201477050781)\",\"(0.0, 1.1293258666992188)\",\"(0.0, 1.1309387683868408)\",\"(0.0, 1.1340198516845703)\",\"(0.0, 1.1390970945358276)\",\"(0.0, 1.1433579921722412)\",\"(0.0, 1.1503750085830688)\",\"(0.0, 1.1504772901535034)\",\"(0.0, 1.1518750190734863)\",\"(0.0, 1.1525135040283203)\",\"(0.0, 1.154644250869751)\",\"(0.0, 1.1562800407409668)\",\"(0.0, 1.1587953567504883)\",\"(0.0, 1.1591148376464844)\",\"(0.0, 1.1621944904327393)\",\"(0.0, 1.1659085750579834)\",\"(0.0, 1.1694557666778564)\",\"(0.0, 1.1727573871612549)\",\"(0.0, 1.177523136138916)\",\"(0.0, 1.1795862913131714)\",\"(0.0, 1.179639220237732)\",\"(0.0, 1.179701566696167)\",\"(0.0, 1.179754614830017)\",\"(0.0, 1.181057095527649)\",\"(0.0, 1.181110143661499)\",\"(0.0, 1.1859159469604492)\",\"(0.0, 1.1860543489456177)\",\"(0.0, 1.1898295879364014)\",\"(0.0, 1.1906580924987793)\",\"(0.0, 1.1910927295684814)\",\"(0.0, 1.196351170539856)\",\"(0.0, 1.1978750228881836)\",\"(0.0, 1.2033103704452515)\",\"(0.0, 1.2043020725250244)\",\"(0.0, 1.2053725719451904)\",\"(0.0, 1.2058902978897095)\",\"(0.0, 1.2062543630599976)\",\"(0.0, 1.2100344896316528)\",\"(0.0, 1.2101646661758423)\",\"(0.0, 1.214233636856079)\",\"(0.0, 1.2147194147109985)\",\"(0.0, 1.2159465551376343)\",\"(0.0, 1.2191647291183472)\",\"(0.0, 1.2200781106948853)\",\"(0.0, 1.222450613975525)\",\"(0.0, 1.2229231595993042)\",\"(0.0, 1.2258158922195435)\",\"(0.0, 1.2279115915298462)\",\"(0.0, 1.2282485961914062)\",\"(0.0, 1.2313274145126343)\",\"(0.0, 1.233515739440918)\",\"(0.0, 1.2350331544876099)\",\"(0.0, 1.2350367307662964)\",\"(0.0, 1.236709475517273)\",\"(0.0, 1.2429817914962769)\",\"(0.0, 1.2502315044403076)\",\"(0.0, 1.2520380020141602)\",\"(0.0, 1.2540819644927979)\",\"(0.0, 1.2571114301681519)\",\"(0.0, 1.2584571838378906)\",\"(0.0, 1.262088656425476)\",\"(0.0, 1.2634681463241577)\",\"(0.0, 1.265286922454834)\",\"(0.0, 1.265758752822876)\",\"(0.0, 1.2726703882217407)\",\"(0.0, 1.2728382349014282)\",\"(0.0, 1.27346932888031)\",\"(0.0, 1.2795461416244507)\",\"(0.0, 1.2832454442977905)\",\"(0.0, 1.2846277952194214)\",\"(0.0, 1.2936680316925049)\",\"(0.0, 1.2971187829971313)\",\"(0.0, 1.2995715141296387)\",\"(0.0, 1.3009363412857056)\",\"(0.0, 1.3011780977249146)\",\"(0.0, 1.3066372871398926)\",\"(0.0, 1.3087470531463623)\",\"(0.0, 1.315253734588623)\",\"(0.0, 1.3159078359603882)\",\"(0.0, 1.3169549703598022)\",\"(0.0, 1.3171054124832153)\",\"(0.0, 1.321128010749817)\",\"(0.0, 1.3246313333511353)\",\"(0.0, 1.3280836343765259)\",\"(0.0, 1.3364872932434082)\",\"(0.0, 1.3452345132827759)\",\"(0.0, 1.3482962846755981)\",\"(0.0, 1.3519612550735474)\",\"(0.0, 1.3540509939193726)\",\"(0.0, 1.3584963083267212)\",\"(0.0, 1.361221432685852)\",\"(0.0, 1.361943244934082)\",\"(0.0, 1.361990213394165)\",\"(0.0, 1.362855076789856)\",\"(0.0, 1.3645603656768799)\",\"(0.0, 1.3658188581466675)\",\"(0.0, 1.366679072380066)\",\"(0.0, 1.3691617250442505)\",\"(0.0, 1.3717797994613647)\",\"(0.0, 1.3757765293121338)\",\"(0.0, 1.37717604637146)\",\"(0.0, 1.3816957473754883)\",\"(0.0, 1.3895282745361328)\",\"(0.0, 1.390123963356018)\",\"(0.0, 1.3945506811141968)\",\"(0.0, 1.398633360862732)\",\"(0.0, 1.4000037908554077)\",\"(0.0, 1.4003098011016846)\",\"(0.0, 1.4035274982452393)\",\"(0.0, 1.4087015390396118)\",\"(0.0, 1.4118449687957764)\",\"(0.0, 1.414292573928833)\",\"(0.0, 1.415562629699707)\",\"(0.0, 1.4192249774932861)\",\"(0.0, 1.420737385749817)\",\"(0.0, 1.424551010131836)\",\"(0.0, 1.4260926246643066)\",\"(0.0, 1.4280505180358887)\",\"(0.0, 1.4319298267364502)\",\"(0.0, 1.4402616024017334)\",\"(0.0, 1.4410090446472168)\",\"(0.0, 1.4450331926345825)\",\"(0.0, 1.44596529006958)\",\"(0.0, 1.4465842247009277)\",\"(0.0, 1.447882890701294)\",\"(0.0, 1.4488364458084106)\",\"(0.0, 1.4538092613220215)\",\"(0.0, 1.4540601968765259)\",\"(0.0, 1.4554599523544312)\",\"(0.0, 1.455861210823059)\",\"(0.0, 1.4570566415786743)\",\"(0.0, 1.461470365524292)\",\"(0.0, 1.4642411470413208)\",\"(0.0, 1.469220757484436)\",\"(0.0, 1.4697468280792236)\",\"(0.0, 1.4702531099319458)\",\"(0.0, 1.470613956451416)\",\"(0.0, 1.4707177877426147)\",\"(0.0, 1.470829963684082)\",\"(0.0, 1.4737492799758911)\",\"(0.0, 1.4745267629623413)\",\"(0.0, 1.4760572910308838)\",\"(0.0, 1.476889967918396)\",\"(0.0, 1.4839063882827759)\",\"(0.0, 1.4851993322372437)\",\"(0.0, 1.4878267049789429)\",\"(0.0, 1.5028523206710815)\",\"(0.0, 1.510801911354065)\",\"(0.0, 1.5111244916915894)\",\"(0.0, 1.517992377281189)\",\"(0.0, 1.51917564868927)\",\"(0.0, 1.5243566036224365)\",\"(0.0, 1.5296730995178223)\",\"(0.0, 1.5302174091339111)\",\"(0.0, 1.5318447351455688)\",\"(0.0, 1.535882830619812)\",\"(0.0, 1.5404454469680786)\",\"(0.0, 1.5433238744735718)\",\"(0.0, 1.5441633462905884)\",\"(0.0, 1.5476739406585693)\",\"(0.0, 1.5547910928726196)\",\"(0.0, 1.5563700199127197)\",\"(0.0, 1.6025816202163696)\",\"(0.0, 1.60467529296875)\",\"(0.0, 1.6060899496078491)\",\"(0.0, 1.6108484268188477)\",\"(0.0, 1.6118720769882202)\",\"(0.0, 1.6134097576141357)\",\"(0.0, 1.618636965751648)\",\"(0.0, 1.6232750415802002)\",\"(0.0, 1.6236995458602905)\",\"(0.0, 1.6239088773727417)\",\"(0.0, 1.6291005611419678)\",\"(0.0, 1.6323034763336182)\",\"(0.0, 1.6343737840652466)\",\"(0.0, 1.6361027956008911)\",\"(0.0, 1.6402177810668945)\",\"(0.0, 1.640917181968689)\",\"(0.0, 1.6455419063568115)\",\"(0.0, 1.649448037147522)\",\"(0.0, 1.6654701232910156)\",\"(0.0, 1.6665763854980469)\",\"(0.0, 1.6676703691482544)\",\"(0.0, 1.6678870916366577)\",\"(0.0, 1.6711814403533936)\",\"(0.0, 1.6725636720657349)\",\"(0.0, 1.6742631196975708)\",\"(0.0, 1.6744883060455322)\",\"(0.0, 1.6819641590118408)\",\"(0.0, 1.6861498355865479)\",\"(0.0, 1.696747899055481)\",\"(0.0, 1.698268175125122)\",\"(0.0, 1.699175477027893)\",\"(0.0, 1.7079344987869263)\",\"(0.0, 1.7089624404907227)\",\"(0.0, 1.7190824747085571)\",\"(0.0, 1.725570797920227)\",\"(0.0, 1.7352380752563477)\",\"(0.0, 1.7366255521774292)\",\"(0.0, 1.7403104305267334)\",\"(0.0, 1.7404788732528687)\",\"(0.0, 1.7458456754684448)\",\"(0.0, 1.7509396076202393)\",\"(0.0, 1.7534791231155396)\",\"(0.0, 1.7539398670196533)\",\"(0.0, 1.7568320035934448)\",\"(0.0, 1.7571536302566528)\",\"(0.0, 1.765018343925476)\",\"(0.0, 1.7662615776062012)\",\"(0.0, 1.767462134361267)\",\"(0.0, 1.776102066040039)\",\"(0.0, 1.7864347696304321)\",\"(0.0, 1.7968709468841553)\",\"(0.0, 1.797551155090332)\",\"(0.0, 1.80666184425354)\",\"(0.0, 1.8093172311782837)\",\"(0.0, 1.8157581090927124)\",\"(0.0, 1.819393277168274)\",\"(0.0, 1.822833776473999)\",\"(0.0, 1.8230953216552734)\",\"(0.0, 1.8307133913040161)\",\"(0.0, 1.8447846174240112)\",\"(0.0, 1.8457672595977783)\",\"(0.0, 1.8538333177566528)\",\"(0.0, 1.856461524963379)\",\"(0.0, 1.8828719854354858)\",\"(0.0, 1.9072258472442627)\",\"(0.0, 1.9372997283935547)\",\"(0.0, 1.9415435791015625)\",\"(0.0, 1.9702510833740234)\",\"(0.0, 1.9732651710510254)\",\"(0.0, 1.988979458808899)\",\"(0.0, 1.991980791091919)\",\"(0.0, 1.997662901878357)\",\"(0.0, 2.0012800693511963)\",\"(0.0, 2.0058205127716064)\",\"(0.0, 2.0102574825286865)\",\"(0.0, 2.0292155742645264)\",\"(0.0, 2.047746181488037)\",\"(0.0, 2.0502519607543945)\",\"(0.0, 2.0754716396331787)\",\"(0.0, 2.087200880050659)\",\"(0.0, 2.088423252105713)\",\"(0.0, 2.0922086238861084)\",\"(0.0, 2.124687671661377)\",\"(0.0, 2.148649215698242)\",\"(0.0, 2.152012825012207)\",\"(0.0, 2.1535837650299072)\",\"(0.0, 2.1758503913879395)\",\"(0.0, 2.187547206878662)\",\"(0.0, 2.2268354892730713)\",\"(0.0, 2.2399563789367676)\",\"(0.0, 2.245587110519409)\",\"(0.0, 2.2582366466522217)\",\"(0.0, 2.268131732940674)\",\"(0.0, 2.2742502689361572)\",\"(0.0, 2.2839608192443848)\",\"(0.0, 2.2983062267303467)\",\"(0.0, 2.339850664138794)\",\"(0.0, 2.346167802810669)\",\"(0.0, 2.39147686958313)\",\"(0.0, 2.410491466522217)\",\"(0.0, 2.4289071559906006)\",\"(0.0, 2.439521551132202)\",\"(0.0, 2.452784538269043)\",\"(0.0, 2.462125539779663)\",\"(0.0, 2.4845142364501953)\",\"(0.0, 2.497612714767456)\",\"(0.0, 2.4976484775543213)\",\"(0.0, 2.5196897983551025)\",\"(0.0, 2.5396392345428467)\",\"(0.0, 2.5986571311950684)\",\"(0.0, 2.61418080329895)\",\"(0.0, 2.6614086627960205)\",\"(0.0, 2.66988205909729)\",\"(0.0, 2.6879122257232666)\",\"(0.0, 2.751438617706299)\",\"(0.0, 2.789405584335327)\",\"(0.0, 2.8116164207458496)\",\"(0.0, 2.8138937950134277)\",\"(0.0, 2.815279722213745)\",\"(0.0, 2.854825258255005)\",\"(0.0, 2.9134864807128906)\",\"(0.0, 2.953751802444458)\",\"(0.0, 3.0290887355804443)\",\"(0.0, 3.073059320449829)\",\"(0.0, 3.0873873233795166)\",\"(0.0, 3.1140806674957275)\",\"(0.0, 3.228344678878784)\",\"(0.0, 3.2775022983551025)\",\"(0.0, 3.2855772972106934)\",\"(0.0, 3.352987766265869)\",\"(0.0, 3.3741447925567627)\",\"(0.0, 3.653404474258423)\",\"(0.0, 3.767148733139038)\",\"(0.0, 3.8424062728881836)\",\"(0.0, 3.844848871231079)\",\"(0.0, 4.510985374450684)\",\"(0.0, 5.382115840911865)\",\"(0.0, 5.605260848999023)\",\"(0.0, 6.6118268966674805)\",\"(0.0, 6.695725917816162)\"],\"mode\":\"markers\",\"name\":\"H0\",\"x\":[0.0,0.0,0.0,0.0,0.0,0.0,0.0,0.0,0.0,0.0,0.0,0.0,0.0,0.0,0.0,0.0,0.0,0.0,0.0,0.0,0.0,0.0,0.0,0.0,0.0,0.0,0.0,0.0,0.0,0.0,0.0,0.0,0.0,0.0,0.0,0.0,0.0,0.0,0.0,0.0,0.0,0.0,0.0,0.0,0.0,0.0,0.0,0.0,0.0,0.0,0.0,0.0,0.0,0.0,0.0,0.0,0.0,0.0,0.0,0.0,0.0,0.0,0.0,0.0,0.0,0.0,0.0,0.0,0.0,0.0,0.0,0.0,0.0,0.0,0.0,0.0,0.0,0.0,0.0,0.0,0.0,0.0,0.0,0.0,0.0,0.0,0.0,0.0,0.0,0.0,0.0,0.0,0.0,0.0,0.0,0.0,0.0,0.0,0.0,0.0,0.0,0.0,0.0,0.0,0.0,0.0,0.0,0.0,0.0,0.0,0.0,0.0,0.0,0.0,0.0,0.0,0.0,0.0,0.0,0.0,0.0,0.0,0.0,0.0,0.0,0.0,0.0,0.0,0.0,0.0,0.0,0.0,0.0,0.0,0.0,0.0,0.0,0.0,0.0,0.0,0.0,0.0,0.0,0.0,0.0,0.0,0.0,0.0,0.0,0.0,0.0,0.0,0.0,0.0,0.0,0.0,0.0,0.0,0.0,0.0,0.0,0.0,0.0,0.0,0.0,0.0,0.0,0.0,0.0,0.0,0.0,0.0,0.0,0.0,0.0,0.0,0.0,0.0,0.0,0.0,0.0,0.0,0.0,0.0,0.0,0.0,0.0,0.0,0.0,0.0,0.0,0.0,0.0,0.0,0.0,0.0,0.0,0.0,0.0,0.0,0.0,0.0,0.0,0.0,0.0,0.0,0.0,0.0,0.0,0.0,0.0,0.0,0.0,0.0,0.0,0.0,0.0,0.0,0.0,0.0,0.0,0.0,0.0,0.0,0.0,0.0,0.0,0.0,0.0,0.0,0.0,0.0,0.0,0.0,0.0,0.0,0.0,0.0,0.0,0.0,0.0,0.0,0.0,0.0,0.0,0.0,0.0,0.0,0.0,0.0,0.0,0.0,0.0,0.0,0.0,0.0,0.0,0.0,0.0,0.0,0.0,0.0,0.0,0.0,0.0,0.0,0.0,0.0,0.0,0.0,0.0,0.0,0.0,0.0,0.0,0.0,0.0,0.0,0.0,0.0,0.0,0.0,0.0,0.0,0.0,0.0,0.0,0.0,0.0,0.0,0.0,0.0,0.0,0.0,0.0,0.0,0.0,0.0,0.0,0.0,0.0,0.0,0.0,0.0,0.0,0.0,0.0,0.0,0.0,0.0,0.0,0.0,0.0,0.0,0.0,0.0,0.0,0.0,0.0,0.0,0.0,0.0,0.0,0.0,0.0,0.0,0.0,0.0,0.0,0.0,0.0,0.0,0.0,0.0,0.0,0.0,0.0,0.0,0.0,0.0,0.0,0.0,0.0,0.0,0.0,0.0,0.0,0.0,0.0,0.0,0.0,0.0,0.0,0.0,0.0,0.0,0.0,0.0,0.0,0.0,0.0,0.0,0.0,0.0,0.0,0.0,0.0,0.0,0.0,0.0,0.0,0.0,0.0,0.0,0.0,0.0,0.0,0.0,0.0,0.0,0.0,0.0,0.0,0.0,0.0,0.0,0.0,0.0,0.0,0.0,0.0,0.0,0.0,0.0,0.0,0.0,0.0,0.0,0.0,0.0,0.0,0.0,0.0,0.0,0.0,0.0,0.0,0.0,0.0,0.0,0.0,0.0,0.0,0.0,0.0,0.0,0.0,0.0,0.0,0.0,0.0,0.0,0.0,0.0,0.0,0.0,0.0,0.0,0.0,0.0,0.0,0.0,0.0,0.0,0.0,0.0,0.0,0.0,0.0,0.0,0.0,0.0,0.0,0.0,0.0,0.0,0.0,0.0,0.0,0.0,0.0,0.0,0.0,0.0,0.0,0.0,0.0,0.0,0.0,0.0,0.0,0.0,0.0,0.0,0.0,0.0,0.0,0.0,0.0,0.0,0.0,0.0,0.0,0.0,0.0,0.0,0.0,0.0,0.0,0.0,0.0,0.0,0.0,0.0,0.0,0.0,0.0,0.0,0.0,0.0,0.0,0.0,0.0,0.0,0.0,0.0,0.0,0.0,0.0,0.0,0.0,0.0,0.0,0.0,0.0,0.0,0.0,0.0,0.0,0.0,0.0,0.0,0.0,0.0,0.0,0.0,0.0,0.0,0.0,0.0,0.0,0.0,0.0,0.0,0.0,0.0,0.0,0.0,0.0,0.0,0.0,0.0,0.0,0.0,0.0,0.0,0.0,0.0,0.0,0.0,0.0,0.0,0.0,0.0,0.0,0.0,0.0,0.0,0.0,0.0,0.0,0.0,0.0,0.0,0.0,0.0,0.0,0.0,0.0,0.0,0.0,0.0,0.0,0.0,0.0,0.0,0.0,0.0,0.0,0.0,0.0,0.0,0.0,0.0,0.0,0.0,0.0,0.0,0.0,0.0,0.0,0.0,0.0,0.0,0.0,0.0,0.0,0.0,0.0,0.0,0.0,0.0,0.0,0.0,0.0,0.0,0.0,0.0,0.0,0.0,0.0,0.0,0.0,0.0,0.0,0.0,0.0,0.0,0.0,0.0,0.0,0.0,0.0,0.0,0.0,0.0,0.0,0.0,0.0,0.0,0.0,0.0,0.0,0.0,0.0,0.0,0.0,0.0,0.0,0.0,0.0,0.0,0.0,0.0,0.0,0.0,0.0,0.0,0.0,0.0,0.0,0.0,0.0,0.0,0.0,0.0,0.0,0.0,0.0,0.0,0.0,0.0,0.0,0.0,0.0,0.0,0.0,0.0,0.0,0.0,0.0,0.0,0.0,0.0,0.0,0.0,0.0,0.0,0.0,0.0,0.0,0.0,0.0,0.0,0.0,0.0,0.0,0.0,0.0,0.0,0.0,0.0,0.0,0.0,0.0,0.0,0.0,0.0,0.0,0.0,0.0,0.0,0.0,0.0,0.0,0.0,0.0,0.0,0.0,0.0,0.0,0.0],\"y\":[0.06319975852966309,0.07646697014570236,0.07918082922697067,0.08453930169343948,0.09982907772064209,0.0999613106250763,0.10171785205602646,0.12400300055742264,0.12983167171478271,0.14775246381759644,0.17545881867408752,0.18158908188343048,0.2065725475549698,0.2072884738445282,0.20754997432231903,0.21080932021141052,0.21216079592704773,0.22411225736141205,0.2244296818971634,0.22739189863204956,0.23184199631214142,0.23431038856506348,0.23543457686901093,0.2360108196735382,0.23826256394386292,0.24521271884441376,0.2564921975135803,0.2636485993862152,0.2669335603713989,0.2676354944705963,0.2681044340133667,0.2720160484313965,0.27970606088638306,0.2815234363079071,0.2895977199077606,0.2963652014732361,0.29659503698349,0.3040784001350403,0.32111284136772156,0.32172441482543945,0.3255307078361511,0.33546432852745056,0.3392610251903534,0.3427344262599945,0.3475661277770996,0.34849074482917786,0.3601582646369934,0.3641299307346344,0.3692108392715454,0.37031784653663635,0.37289464473724365,0.38400518894195557,0.3924378454685211,0.3976384699344635,0.3979368209838867,0.4021981656551361,0.4033847749233246,0.40665116906166077,0.40794146060943604,0.4088456332683563,0.42006686329841614,0.42146891355514526,0.4243341386318207,0.4268285632133484,0.4322669506072998,0.4350939393043518,0.4426499605178833,0.44425299763679504,0.4452989399433136,0.4469011425971985,0.45071086287498474,0.4507710039615631,0.45189422369003296,0.45284226536750793,0.4541969299316406,0.46412935853004456,0.4654977321624756,0.4682239890098572,0.4697614312171936,0.4707839787006378,0.47306525707244873,0.47870248556137085,0.478768527507782,0.4797111749649048,0.48032957315444946,0.48081210255622864,0.481826514005661,0.48402315378189087,0.4871435761451721,0.49146777391433716,0.4921512007713318,0.49804720282554626,0.4988414943218231,0.501003086566925,0.5013381242752075,0.5064691305160522,0.5076319575309753,0.5080514550209045,0.5095335841178894,0.5119197368621826,0.5193518996238708,0.5235574841499329,0.5237409472465515,0.5245267748832703,0.5274629592895508,0.5336686372756958,0.5385783910751343,0.5423762202262878,0.543472170829773,0.5466382503509521,0.5481425523757935,0.5506607294082642,0.5523204207420349,0.5533218383789062,0.5549203157424927,0.5621958374977112,0.5689642429351807,0.5718253254890442,0.5722315907478333,0.5728349089622498,0.5770882368087769,0.5775352120399475,0.5787555575370789,0.5800085067749023,0.5802413821220398,0.5804330706596375,0.5806059241294861,0.5806512236595154,0.5831074118614197,0.5839145183563232,0.5853664875030518,0.5855792760848999,0.5903103351593018,0.5944564342498779,0.5963809490203857,0.5989733338356018,0.6014053821563721,0.6042702198028564,0.6052835583686829,0.6063876748085022,0.6074249744415283,0.6130313277244568,0.6153863668441772,0.6170709133148193,0.6213565468788147,0.6230143308639526,0.6236154437065125,0.6252769231796265,0.6322194337844849,0.634432852268219,0.6347361207008362,0.639502763748169,0.6460112929344177,0.6467143297195435,0.6520209908485413,0.6647076606750488,0.6647911071777344,0.6659295558929443,0.6664443612098694,0.668538510799408,0.6695058345794678,0.6695725917816162,0.6707162857055664,0.6720761656761169,0.6738117337226868,0.6746958494186401,0.6756213903427124,0.6759593486785889,0.6793719530105591,0.681568443775177,0.6842491626739502,0.6856397986412048,0.6895889639854431,0.6897063851356506,0.6901271939277649,0.699602484703064,0.7032854557037354,0.7054163813591003,0.7075052857398987,0.7104238271713257,0.7114320397377014,0.7116430401802063,0.7193818092346191,0.7231816649436951,0.7239507436752319,0.7261726260185242,0.728938639163971,0.7330944538116455,0.7343936562538147,0.7370796203613281,0.7371729612350464,0.7381557822227478,0.7393608689308167,0.73996901512146,0.7414181232452393,0.7418199181556702,0.7450724840164185,0.7457031607627869,0.7516085505485535,0.7530688643455505,0.7544876933097839,0.7558285593986511,0.755933403968811,0.7590283751487732,0.7617602944374084,0.7627378106117249,0.7635142207145691,0.7638927102088928,0.7653166055679321,0.7659865617752075,0.7661831378936768,0.7666646838188171,0.7677420377731323,0.7686540484428406,0.7696869969367981,0.7766150236129761,0.77675461769104,0.7774422764778137,0.7783913016319275,0.7787448167800903,0.7793280482292175,0.7817306518554688,0.7819903492927551,0.7828554511070251,0.783287525177002,0.7840278744697571,0.7880388498306274,0.788665771484375,0.7891587615013123,0.7901158928871155,0.7944392561912537,0.7953891158103943,0.7975573539733887,0.8001232147216797,0.8007486462593079,0.8014552593231201,0.8022210597991943,0.8024200797080994,0.8041052222251892,0.8044816255569458,0.8061244487762451,0.8066985607147217,0.817686915397644,0.8247910141944885,0.8288550972938538,0.8290351033210754,0.8323842287063599,0.8326101899147034,0.8340211510658264,0.8386447429656982,0.8415499329566956,0.8464364409446716,0.8464374542236328,0.8537090420722961,0.8545961976051331,0.857988178730011,0.8618861436843872,0.8652454018592834,0.8667922616004944,0.8693711161613464,0.8696638941764832,0.8701794743537903,0.8719244599342346,0.8726087808609009,0.8747499585151672,0.8748804330825806,0.8754260540008545,0.8766939043998718,0.8867620825767517,0.8888033032417297,0.8937294483184814,0.8965504169464111,0.8984628915786743,0.8996911644935608,0.8999792337417603,0.9030501842498779,0.9046313762664795,0.908353865146637,0.9086518287658691,0.9089177846908569,0.9097849726676941,0.912094235420227,0.9149269461631775,0.915960967540741,0.9162911772727966,0.9214071035385132,0.9233222603797913,0.9241110682487488,0.9252091646194458,0.9255280494689941,0.9293211102485657,0.9332661032676697,0.9340693354606628,0.9360806345939636,0.9417913556098938,0.9421594142913818,0.943880558013916,0.9476404190063477,0.9487598538398743,0.9543870687484741,0.9561274647712708,0.9561886191368103,0.9577071070671082,0.9586867094039917,0.9591484069824219,0.9604043960571289,0.9614924788475037,0.9650852084159851,0.9674206376075745,0.9685497879981995,0.9686381220817566,0.9704976081848145,0.9707927703857422,0.9715242385864258,0.9723109006881714,0.9727473258972168,0.9739750623703003,0.9739919304847717,0.9816715717315674,0.9824100732803345,0.9828282594680786,0.9852990508079529,0.9856700897216797,0.9897575378417969,0.9922143816947937,0.9922187924385071,0.9928500652313232,0.9930011034011841,0.9973194003105164,0.9975419640541077,0.998182475566864,1.0003899335861206,1.0010911226272583,1.0013811588287354,1.0090328454971313,1.0097124576568604,1.0122567415237427,1.0133167505264282,1.0151517391204834,1.0161149501800537,1.019303798675537,1.0232648849487305,1.0256996154785156,1.0276148319244385,1.0279079675674438,1.0316907167434692,1.032484769821167,1.0331547260284424,1.0355710983276367,1.0358790159225464,1.0397249460220337,1.0405995845794678,1.041908860206604,1.0429240465164185,1.0437405109405518,1.0443921089172363,1.048171043395996,1.0503673553466797,1.0505948066711426,1.050685167312622,1.0519566535949707,1.053144931793213,1.0619795322418213,1.062791109085083,1.06355881690979,1.0638357400894165,1.0641939640045166,1.0659198760986328,1.0670899152755737,1.067517876625061,1.0702800750732422,1.0705068111419678,1.0719276666641235,1.072786808013916,1.0743582248687744,1.0799449682235718,1.0824329853057861,1.0824648141860962,1.0842007398605347,1.087130069732666,1.087645173072815,1.0893263816833496,1.0902348756790161,1.0910985469818115,1.0942384004592896,1.1009708642959595,1.1010929346084595,1.1033328771591187,1.1050399541854858,1.108228325843811,1.1111832857131958,1.112257957458496,1.1124998331069946,1.1193708181381226,1.1218712329864502,1.126556396484375,1.1267799139022827,1.127504587173462,1.1279841661453247,1.1282508373260498,1.1286201477050781,1.1293258666992188,1.1309387683868408,1.1340198516845703,1.1390970945358276,1.1433579921722412,1.1503750085830688,1.1504772901535034,1.1518750190734863,1.1525135040283203,1.154644250869751,1.1562800407409668,1.1587953567504883,1.1591148376464844,1.1621944904327393,1.1659085750579834,1.1694557666778564,1.1727573871612549,1.177523136138916,1.1795862913131714,1.179639220237732,1.179701566696167,1.179754614830017,1.181057095527649,1.181110143661499,1.1859159469604492,1.1860543489456177,1.1898295879364014,1.1906580924987793,1.1910927295684814,1.196351170539856,1.1978750228881836,1.2033103704452515,1.2043020725250244,1.2053725719451904,1.2058902978897095,1.2062543630599976,1.2100344896316528,1.2101646661758423,1.214233636856079,1.2147194147109985,1.2159465551376343,1.2191647291183472,1.2200781106948853,1.222450613975525,1.2229231595993042,1.2258158922195435,1.2279115915298462,1.2282485961914062,1.2313274145126343,1.233515739440918,1.2350331544876099,1.2350367307662964,1.236709475517273,1.2429817914962769,1.2502315044403076,1.2520380020141602,1.2540819644927979,1.2571114301681519,1.2584571838378906,1.262088656425476,1.2634681463241577,1.265286922454834,1.265758752822876,1.2726703882217407,1.2728382349014282,1.27346932888031,1.2795461416244507,1.2832454442977905,1.2846277952194214,1.2936680316925049,1.2971187829971313,1.2995715141296387,1.3009363412857056,1.3011780977249146,1.3066372871398926,1.3087470531463623,1.315253734588623,1.3159078359603882,1.3169549703598022,1.3171054124832153,1.321128010749817,1.3246313333511353,1.3280836343765259,1.3364872932434082,1.3452345132827759,1.3482962846755981,1.3519612550735474,1.3540509939193726,1.3584963083267212,1.361221432685852,1.361943244934082,1.361990213394165,1.362855076789856,1.3645603656768799,1.3658188581466675,1.366679072380066,1.3691617250442505,1.3717797994613647,1.3757765293121338,1.37717604637146,1.3816957473754883,1.3895282745361328,1.390123963356018,1.3945506811141968,1.398633360862732,1.4000037908554077,1.4003098011016846,1.4035274982452393,1.4087015390396118,1.4118449687957764,1.414292573928833,1.415562629699707,1.4192249774932861,1.420737385749817,1.424551010131836,1.4260926246643066,1.4280505180358887,1.4319298267364502,1.4402616024017334,1.4410090446472168,1.4450331926345825,1.44596529006958,1.4465842247009277,1.447882890701294,1.4488364458084106,1.4538092613220215,1.4540601968765259,1.4554599523544312,1.455861210823059,1.4570566415786743,1.461470365524292,1.4642411470413208,1.469220757484436,1.4697468280792236,1.4702531099319458,1.470613956451416,1.4707177877426147,1.470829963684082,1.4737492799758911,1.4745267629623413,1.4760572910308838,1.476889967918396,1.4839063882827759,1.4851993322372437,1.4878267049789429,1.5028523206710815,1.510801911354065,1.5111244916915894,1.517992377281189,1.51917564868927,1.5243566036224365,1.5296730995178223,1.5302174091339111,1.5318447351455688,1.535882830619812,1.5404454469680786,1.5433238744735718,1.5441633462905884,1.5476739406585693,1.5547910928726196,1.5563700199127197,1.6025816202163696,1.60467529296875,1.6060899496078491,1.6108484268188477,1.6118720769882202,1.6134097576141357,1.618636965751648,1.6232750415802002,1.6236995458602905,1.6239088773727417,1.6291005611419678,1.6323034763336182,1.6343737840652466,1.6361027956008911,1.6402177810668945,1.640917181968689,1.6455419063568115,1.649448037147522,1.6654701232910156,1.6665763854980469,1.6676703691482544,1.6678870916366577,1.6711814403533936,1.6725636720657349,1.6742631196975708,1.6744883060455322,1.6819641590118408,1.6861498355865479,1.696747899055481,1.698268175125122,1.699175477027893,1.7079344987869263,1.7089624404907227,1.7190824747085571,1.725570797920227,1.7352380752563477,1.7366255521774292,1.7403104305267334,1.7404788732528687,1.7458456754684448,1.7509396076202393,1.7534791231155396,1.7539398670196533,1.7568320035934448,1.7571536302566528,1.765018343925476,1.7662615776062012,1.767462134361267,1.776102066040039,1.7864347696304321,1.7968709468841553,1.797551155090332,1.80666184425354,1.8093172311782837,1.8157581090927124,1.819393277168274,1.822833776473999,1.8230953216552734,1.8307133913040161,1.8447846174240112,1.8457672595977783,1.8538333177566528,1.856461524963379,1.8828719854354858,1.9072258472442627,1.9372997283935547,1.9415435791015625,1.9702510833740234,1.9732651710510254,1.988979458808899,1.991980791091919,1.997662901878357,2.0012800693511963,2.0058205127716064,2.0102574825286865,2.0292155742645264,2.047746181488037,2.0502519607543945,2.0754716396331787,2.087200880050659,2.088423252105713,2.0922086238861084,2.124687671661377,2.148649215698242,2.152012825012207,2.1535837650299072,2.1758503913879395,2.187547206878662,2.2268354892730713,2.2399563789367676,2.245587110519409,2.2582366466522217,2.268131732940674,2.2742502689361572,2.2839608192443848,2.2983062267303467,2.339850664138794,2.346167802810669,2.39147686958313,2.410491466522217,2.4289071559906006,2.439521551132202,2.452784538269043,2.462125539779663,2.4845142364501953,2.497612714767456,2.4976484775543213,2.5196897983551025,2.5396392345428467,2.5986571311950684,2.61418080329895,2.6614086627960205,2.66988205909729,2.6879122257232666,2.751438617706299,2.789405584335327,2.8116164207458496,2.8138937950134277,2.815279722213745,2.854825258255005,2.9134864807128906,2.953751802444458,3.0290887355804443,3.073059320449829,3.0873873233795166,3.1140806674957275,3.228344678878784,3.2775022983551025,3.2855772972106934,3.352987766265869,3.3741447925567627,3.653404474258423,3.767148733139038,3.8424062728881836,3.844848871231079,4.510985374450684,5.382115840911865,5.605260848999023,6.6118268966674805,6.695725917816162],\"type\":\"scatter\"},{\"hoverinfo\":\"text\",\"hovertext\":[\"(9.676605224609375, 9.71138858795166)\",\"(6.502968788146973, 6.797106742858887)\",\"(6.443098545074463, 8.645747184753418)\",\"(6.3548502922058105, 6.550185203552246)\",\"(5.328261852264404, 5.655409812927246)\",\"(4.6825103759765625, 5.313539028167725)\",\"(4.468752861022949, 5.57589054107666)\",\"(4.310877799987793, 4.924226760864258)\",\"(4.216080188751221, 5.324830532073975)\",\"(4.084483623504639, 4.264389514923096)\",\"(3.8831567764282227, 4.344945430755615)\",\"(3.7659873962402344, 4.221543788909912)\",\"(3.5863120555877686, 3.7034807205200195)\",\"(3.5335447788238525, 4.710458278656006)\",\"(3.471369743347168, 4.214025974273682)\",\"(3.464480400085449, 4.599792003631592)\",\"(3.463381052017212, 3.6048948764801025)\",\"(3.375214099884033, 3.671769618988037)\",\"(3.339272975921631, 4.901933193206787)\",\"(3.320626974105835, 4.887539386749268)\",\"(3.234408140182495, 3.384840965270996)\",\"(3.156196355819702, 4.03493595123291)\",\"(3.14784836769104, 4.061283111572266)\",\"(3.118134021759033, 3.2930500507354736)\",\"(3.1164791584014893, 4.193849563598633)\",\"(3.103909730911255, 3.2200260162353516)\",\"(3.0712063312530518, 4.2284626960754395)\",\"(3.0514047145843506, 3.1220815181732178)\",\"(2.9139695167541504, 3.2982370853424072)\",\"(2.8940560817718506, 2.89755916595459)\",\"(2.869628667831421, 4.5491228103637695)\",\"(2.8668978214263916, 3.2524025440216064)\",\"(2.8633549213409424, 3.1908810138702393)\",\"(2.862468957901001, 3.4290931224823)\",\"(2.828644275665283, 3.0988059043884277)\",\"(2.7862436771392822, 3.705643653869629)\",\"(2.7802340984344482, 3.2412302494049072)\",\"(2.594911575317383, 2.719769239425659)\",\"(2.592073917388916, 2.6988513469696045)\",\"(2.5844597816467285, 2.593824625015259)\",\"(2.560925245285034, 2.6486785411834717)\",\"(2.551624059677124, 2.5807127952575684)\",\"(2.539104700088501, 3.635342597961426)\",\"(2.5349581241607666, 2.654940605163574)\",\"(2.5281150341033936, 2.7722764015197754)\",\"(2.52763295173645, 2.707881212234497)\",\"(2.5217814445495605, 2.7498831748962402)\",\"(2.5087485313415527, 2.8653523921966553)\",\"(2.4835808277130127, 3.0991172790527344)\",\"(2.4822006225585938, 3.2239768505096436)\",\"(2.4780821800231934, 3.1625850200653076)\",\"(2.4677982330322266, 2.703806161880493)\",\"(2.465294361114502, 2.6957709789276123)\",\"(2.444014310836792, 2.5959231853485107)\",\"(2.4238855838775635, 4.011435031890869)\",\"(2.421114921569824, 2.423640727996826)\",\"(2.383756160736084, 2.6201891899108887)\",\"(2.3781492710113525, 2.5339484214782715)\",\"(2.3466625213623047, 3.311594009399414)\",\"(2.33990216255188, 2.5641117095947266)\",\"(2.322761058807373, 2.6355273723602295)\",\"(2.260404348373413, 2.324047088623047)\",\"(2.245978832244873, 2.5615837574005127)\",\"(2.2373762130737305, 2.4932751655578613)\",\"(2.2364392280578613, 3.322117328643799)\",\"(2.233583927154541, 2.776728391647339)\",\"(2.1836960315704346, 3.1086480617523193)\",\"(2.1810288429260254, 2.7849605083465576)\",\"(2.163022994995117, 2.5584287643432617)\",\"(2.1540770530700684, 2.4636290073394775)\",\"(2.137953042984009, 3.736517906188965)\",\"(2.1339478492736816, 2.3155455589294434)\",\"(2.1338162422180176, 2.2389445304870605)\",\"(2.1335999965667725, 2.411649465560913)\",\"(2.1165623664855957, 2.1339917182922363)\",\"(2.115252733230591, 2.157719612121582)\",\"(2.1013779640197754, 2.3823471069335938)\",\"(2.0977399349212646, 2.215397834777832)\",\"(2.0876948833465576, 2.4096381664276123)\",\"(2.0853428840637207, 2.407083749771118)\",\"(2.082881450653076, 2.277040719985962)\",\"(2.077725410461426, 2.305137872695923)\",\"(2.077637195587158, 2.1231112480163574)\",\"(2.0774683952331543, 2.3843302726745605)\",\"(2.067931890487671, 3.161412000656128)\",\"(2.0553030967712402, 2.656721830368042)\",\"(2.051647424697876, 2.9784915447235107)\",\"(2.0509774684906006, 2.406893253326416)\",\"(2.0413973331451416, 2.0837254524230957)\",\"(2.0349016189575195, 2.4354159832000732)\",\"(2.014326333999634, 2.0958855152130127)\",\"(2.0081892013549805, 2.1269187927246094)\",\"(2.0046474933624268, 11.266093254089355)\",\"(2.0025851726531982, 2.489112615585327)\",\"(1.9953488111495972, 2.0526905059814453)\",\"(1.9772661924362183, 2.242156505584717)\",\"(1.9766004085540771, 2.2191975116729736)\",\"(1.9692834615707397, 2.0814552307128906)\",\"(1.9556761980056763, 2.0950863361358643)\",\"(1.9427504539489746, 2.7317793369293213)\",\"(1.9331926107406616, 2.7636427879333496)\",\"(1.9321835041046143, 2.2452051639556885)\",\"(1.9311449527740479, 2.033048391342163)\",\"(1.9221328496932983, 2.8333308696746826)\",\"(1.9215679168701172, 2.0078232288360596)\",\"(1.9177569150924683, 2.617982864379883)\",\"(1.9075660705566406, 2.0221009254455566)\",\"(1.9014685153961182, 2.467804193496704)\",\"(1.8988643884658813, 2.768930673599243)\",\"(1.8961737155914307, 2.197777032852173)\",\"(1.8918206691741943, 2.0901715755462646)\",\"(1.8843849897384644, 1.9676557779312134)\",\"(1.8771167993545532, 2.5272443294525146)\",\"(1.8610560894012451, 2.1456637382507324)\",\"(1.8580657243728638, 2.442504405975342)\",\"(1.8566126823425293, 2.6981680393218994)\",\"(1.8522967100143433, 2.6310341358184814)\",\"(1.836191177368164, 1.9255555868148804)\",\"(1.8352676630020142, 2.8189778327941895)\",\"(1.8269656896591187, 2.198145627975464)\",\"(1.8234883546829224, 3.1350350379943848)\",\"(1.8043760061264038, 2.389902353286743)\",\"(1.802241325378418, 2.250255823135376)\",\"(1.7899632453918457, 1.8807631731033325)\",\"(1.7864559888839722, 2.0423858165740967)\",\"(1.782729148864746, 2.2548911571502686)\",\"(1.7802790403366089, 1.887962818145752)\",\"(1.7757573127746582, 2.241755962371826)\",\"(1.769792914390564, 2.2070162296295166)\",\"(1.767030954360962, 2.136030673980713)\",\"(1.766478419303894, 2.43247652053833)\",\"(1.7657939195632935, 1.8112132549285889)\",\"(1.7624094486236572, 1.938733696937561)\",\"(1.7489720582962036, 1.813489317893982)\",\"(1.728880763053894, 2.180671215057373)\",\"(1.725197434425354, 1.9741979837417603)\",\"(1.7236899137496948, 3.1676347255706787)\",\"(1.7177733182907104, 2.1100733280181885)\",\"(1.697600245475769, 1.6980379819869995)\",\"(1.6891766786575317, 2.0350608825683594)\",\"(1.678730845451355, 1.6938410997390747)\",\"(1.6560252904891968, 2.26196026802063)\",\"(1.6478794813156128, 1.724008560180664)\",\"(1.6444416046142578, 2.7419400215148926)\",\"(1.6442738771438599, 1.871414303779602)\",\"(1.642699956893921, 3.061587333679199)\",\"(1.6205482482910156, 2.3248109817504883)\",\"(1.5952736139297485, 1.9005588293075562)\",\"(1.5631247758865356, 1.5877926349639893)\",\"(1.5505543947219849, 1.6022405624389648)\",\"(1.5456066131591797, 1.7343754768371582)\",\"(1.534333348274231, 2.530359983444214)\",\"(1.5195730924606323, 1.7416173219680786)\",\"(1.496041178703308, 1.6945594549179077)\",\"(1.490916132926941, 1.519681453704834)\",\"(1.488726258277893, 1.6844358444213867)\",\"(1.4875423908233643, 1.9843735694885254)\",\"(1.4777491092681885, 1.5240447521209717)\",\"(1.4569737911224365, 1.5673458576202393)\",\"(1.411245346069336, 1.6497305631637573)\",\"(1.4111438989639282, 1.4675935506820679)\",\"(1.3904026746749878, 1.4600824117660522)\",\"(1.382449746131897, 1.4505764245986938)\",\"(1.345689058303833, 1.3567653894424438)\",\"(1.344077229499817, 1.4560350179672241)\",\"(1.3411833047866821, 1.746401309967041)\",\"(1.2523176670074463, 1.3220843076705933)\",\"(1.2479013204574585, 1.329277753829956)\",\"(1.2322287559509277, 1.3785135746002197)\",\"(1.2282601594924927, 1.2480396032333374)\",\"(1.2101218700408936, 1.2167314291000366)\",\"(1.1458476781845093, 1.295436978340149)\",\"(1.0385706424713135, 1.0482618808746338)\",\"(0.93788743019104, 0.9467855095863342)\"],\"mode\":\"markers\",\"name\":\"H1\",\"x\":[9.676605224609375,6.502968788146973,6.443098545074463,6.3548502922058105,5.328261852264404,4.6825103759765625,4.468752861022949,4.310877799987793,4.216080188751221,4.084483623504639,3.8831567764282227,3.7659873962402344,3.5863120555877686,3.5335447788238525,3.471369743347168,3.464480400085449,3.463381052017212,3.375214099884033,3.339272975921631,3.320626974105835,3.234408140182495,3.156196355819702,3.14784836769104,3.118134021759033,3.1164791584014893,3.103909730911255,3.0712063312530518,3.0514047145843506,2.9139695167541504,2.8940560817718506,2.869628667831421,2.8668978214263916,2.8633549213409424,2.862468957901001,2.828644275665283,2.7862436771392822,2.7802340984344482,2.594911575317383,2.592073917388916,2.5844597816467285,2.560925245285034,2.551624059677124,2.539104700088501,2.5349581241607666,2.5281150341033936,2.52763295173645,2.5217814445495605,2.5087485313415527,2.4835808277130127,2.4822006225585938,2.4780821800231934,2.4677982330322266,2.465294361114502,2.444014310836792,2.4238855838775635,2.421114921569824,2.383756160736084,2.3781492710113525,2.3466625213623047,2.33990216255188,2.322761058807373,2.260404348373413,2.245978832244873,2.2373762130737305,2.2364392280578613,2.233583927154541,2.1836960315704346,2.1810288429260254,2.163022994995117,2.1540770530700684,2.137953042984009,2.1339478492736816,2.1338162422180176,2.1335999965667725,2.1165623664855957,2.115252733230591,2.1013779640197754,2.0977399349212646,2.0876948833465576,2.0853428840637207,2.082881450653076,2.077725410461426,2.077637195587158,2.0774683952331543,2.067931890487671,2.0553030967712402,2.051647424697876,2.0509774684906006,2.0413973331451416,2.0349016189575195,2.014326333999634,2.0081892013549805,2.0046474933624268,2.0025851726531982,1.9953488111495972,1.9772661924362183,1.9766004085540771,1.9692834615707397,1.9556761980056763,1.9427504539489746,1.9331926107406616,1.9321835041046143,1.9311449527740479,1.9221328496932983,1.9215679168701172,1.9177569150924683,1.9075660705566406,1.9014685153961182,1.8988643884658813,1.8961737155914307,1.8918206691741943,1.8843849897384644,1.8771167993545532,1.8610560894012451,1.8580657243728638,1.8566126823425293,1.8522967100143433,1.836191177368164,1.8352676630020142,1.8269656896591187,1.8234883546829224,1.8043760061264038,1.802241325378418,1.7899632453918457,1.7864559888839722,1.782729148864746,1.7802790403366089,1.7757573127746582,1.769792914390564,1.767030954360962,1.766478419303894,1.7657939195632935,1.7624094486236572,1.7489720582962036,1.728880763053894,1.725197434425354,1.7236899137496948,1.7177733182907104,1.697600245475769,1.6891766786575317,1.678730845451355,1.6560252904891968,1.6478794813156128,1.6444416046142578,1.6442738771438599,1.642699956893921,1.6205482482910156,1.5952736139297485,1.5631247758865356,1.5505543947219849,1.5456066131591797,1.534333348274231,1.5195730924606323,1.496041178703308,1.490916132926941,1.488726258277893,1.4875423908233643,1.4777491092681885,1.4569737911224365,1.411245346069336,1.4111438989639282,1.3904026746749878,1.382449746131897,1.345689058303833,1.344077229499817,1.3411833047866821,1.2523176670074463,1.2479013204574585,1.2322287559509277,1.2282601594924927,1.2101218700408936,1.1458476781845093,1.0385706424713135,0.93788743019104],\"y\":[9.71138858795166,6.797106742858887,8.645747184753418,6.550185203552246,5.655409812927246,5.313539028167725,5.57589054107666,4.924226760864258,5.324830532073975,4.264389514923096,4.344945430755615,4.221543788909912,3.7034807205200195,4.710458278656006,4.214025974273682,4.599792003631592,3.6048948764801025,3.671769618988037,4.901933193206787,4.887539386749268,3.384840965270996,4.03493595123291,4.061283111572266,3.2930500507354736,4.193849563598633,3.2200260162353516,4.2284626960754395,3.1220815181732178,3.2982370853424072,2.89755916595459,4.5491228103637695,3.2524025440216064,3.1908810138702393,3.4290931224823,3.0988059043884277,3.705643653869629,3.2412302494049072,2.719769239425659,2.6988513469696045,2.593824625015259,2.6486785411834717,2.5807127952575684,3.635342597961426,2.654940605163574,2.7722764015197754,2.707881212234497,2.7498831748962402,2.8653523921966553,3.0991172790527344,3.2239768505096436,3.1625850200653076,2.703806161880493,2.6957709789276123,2.5959231853485107,4.011435031890869,2.423640727996826,2.6201891899108887,2.5339484214782715,3.311594009399414,2.5641117095947266,2.6355273723602295,2.324047088623047,2.5615837574005127,2.4932751655578613,3.322117328643799,2.776728391647339,3.1086480617523193,2.7849605083465576,2.5584287643432617,2.4636290073394775,3.736517906188965,2.3155455589294434,2.2389445304870605,2.411649465560913,2.1339917182922363,2.157719612121582,2.3823471069335938,2.215397834777832,2.4096381664276123,2.407083749771118,2.277040719985962,2.305137872695923,2.1231112480163574,2.3843302726745605,3.161412000656128,2.656721830368042,2.9784915447235107,2.406893253326416,2.0837254524230957,2.4354159832000732,2.0958855152130127,2.1269187927246094,11.266093254089355,2.489112615585327,2.0526905059814453,2.242156505584717,2.2191975116729736,2.0814552307128906,2.0950863361358643,2.7317793369293213,2.7636427879333496,2.2452051639556885,2.033048391342163,2.8333308696746826,2.0078232288360596,2.617982864379883,2.0221009254455566,2.467804193496704,2.768930673599243,2.197777032852173,2.0901715755462646,1.9676557779312134,2.5272443294525146,2.1456637382507324,2.442504405975342,2.6981680393218994,2.6310341358184814,1.9255555868148804,2.8189778327941895,2.198145627975464,3.1350350379943848,2.389902353286743,2.250255823135376,1.8807631731033325,2.0423858165740967,2.2548911571502686,1.887962818145752,2.241755962371826,2.2070162296295166,2.136030673980713,2.43247652053833,1.8112132549285889,1.938733696937561,1.813489317893982,2.180671215057373,1.9741979837417603,3.1676347255706787,2.1100733280181885,1.6980379819869995,2.0350608825683594,1.6938410997390747,2.26196026802063,1.724008560180664,2.7419400215148926,1.871414303779602,3.061587333679199,2.3248109817504883,1.9005588293075562,1.5877926349639893,1.6022405624389648,1.7343754768371582,2.530359983444214,1.7416173219680786,1.6945594549179077,1.519681453704834,1.6844358444213867,1.9843735694885254,1.5240447521209717,1.5673458576202393,1.6497305631637573,1.4675935506820679,1.4600824117660522,1.4505764245986938,1.3567653894424438,1.4560350179672241,1.746401309967041,1.3220843076705933,1.329277753829956,1.3785135746002197,1.2480396032333374,1.2167314291000366,1.295436978340149,1.0482618808746338,0.9467855095863342],\"type\":\"scatter\"},{\"hoverinfo\":\"text\",\"hovertext\":[],\"mode\":\"markers\",\"name\":\"H2\",\"x\":[],\"y\":[],\"type\":\"scatter\"}],                        {\"template\":{\"data\":{\"bar\":[{\"error_x\":{\"color\":\"#2a3f5f\"},\"error_y\":{\"color\":\"#2a3f5f\"},\"marker\":{\"line\":{\"color\":\"#E5ECF6\",\"width\":0.5},\"pattern\":{\"fillmode\":\"overlay\",\"size\":10,\"solidity\":0.2}},\"type\":\"bar\"}],\"barpolar\":[{\"marker\":{\"line\":{\"color\":\"#E5ECF6\",\"width\":0.5},\"pattern\":{\"fillmode\":\"overlay\",\"size\":10,\"solidity\":0.2}},\"type\":\"barpolar\"}],\"carpet\":[{\"aaxis\":{\"endlinecolor\":\"#2a3f5f\",\"gridcolor\":\"white\",\"linecolor\":\"white\",\"minorgridcolor\":\"white\",\"startlinecolor\":\"#2a3f5f\"},\"baxis\":{\"endlinecolor\":\"#2a3f5f\",\"gridcolor\":\"white\",\"linecolor\":\"white\",\"minorgridcolor\":\"white\",\"startlinecolor\":\"#2a3f5f\"},\"type\":\"carpet\"}],\"choropleth\":[{\"colorbar\":{\"outlinewidth\":0,\"ticks\":\"\"},\"type\":\"choropleth\"}],\"contour\":[{\"colorbar\":{\"outlinewidth\":0,\"ticks\":\"\"},\"colorscale\":[[0.0,\"#0d0887\"],[0.1111111111111111,\"#46039f\"],[0.2222222222222222,\"#7201a8\"],[0.3333333333333333,\"#9c179e\"],[0.4444444444444444,\"#bd3786\"],[0.5555555555555556,\"#d8576b\"],[0.6666666666666666,\"#ed7953\"],[0.7777777777777778,\"#fb9f3a\"],[0.8888888888888888,\"#fdca26\"],[1.0,\"#f0f921\"]],\"type\":\"contour\"}],\"contourcarpet\":[{\"colorbar\":{\"outlinewidth\":0,\"ticks\":\"\"},\"type\":\"contourcarpet\"}],\"heatmap\":[{\"colorbar\":{\"outlinewidth\":0,\"ticks\":\"\"},\"colorscale\":[[0.0,\"#0d0887\"],[0.1111111111111111,\"#46039f\"],[0.2222222222222222,\"#7201a8\"],[0.3333333333333333,\"#9c179e\"],[0.4444444444444444,\"#bd3786\"],[0.5555555555555556,\"#d8576b\"],[0.6666666666666666,\"#ed7953\"],[0.7777777777777778,\"#fb9f3a\"],[0.8888888888888888,\"#fdca26\"],[1.0,\"#f0f921\"]],\"type\":\"heatmap\"}],\"heatmapgl\":[{\"colorbar\":{\"outlinewidth\":0,\"ticks\":\"\"},\"colorscale\":[[0.0,\"#0d0887\"],[0.1111111111111111,\"#46039f\"],[0.2222222222222222,\"#7201a8\"],[0.3333333333333333,\"#9c179e\"],[0.4444444444444444,\"#bd3786\"],[0.5555555555555556,\"#d8576b\"],[0.6666666666666666,\"#ed7953\"],[0.7777777777777778,\"#fb9f3a\"],[0.8888888888888888,\"#fdca26\"],[1.0,\"#f0f921\"]],\"type\":\"heatmapgl\"}],\"histogram\":[{\"marker\":{\"pattern\":{\"fillmode\":\"overlay\",\"size\":10,\"solidity\":0.2}},\"type\":\"histogram\"}],\"histogram2d\":[{\"colorbar\":{\"outlinewidth\":0,\"ticks\":\"\"},\"colorscale\":[[0.0,\"#0d0887\"],[0.1111111111111111,\"#46039f\"],[0.2222222222222222,\"#7201a8\"],[0.3333333333333333,\"#9c179e\"],[0.4444444444444444,\"#bd3786\"],[0.5555555555555556,\"#d8576b\"],[0.6666666666666666,\"#ed7953\"],[0.7777777777777778,\"#fb9f3a\"],[0.8888888888888888,\"#fdca26\"],[1.0,\"#f0f921\"]],\"type\":\"histogram2d\"}],\"histogram2dcontour\":[{\"colorbar\":{\"outlinewidth\":0,\"ticks\":\"\"},\"colorscale\":[[0.0,\"#0d0887\"],[0.1111111111111111,\"#46039f\"],[0.2222222222222222,\"#7201a8\"],[0.3333333333333333,\"#9c179e\"],[0.4444444444444444,\"#bd3786\"],[0.5555555555555556,\"#d8576b\"],[0.6666666666666666,\"#ed7953\"],[0.7777777777777778,\"#fb9f3a\"],[0.8888888888888888,\"#fdca26\"],[1.0,\"#f0f921\"]],\"type\":\"histogram2dcontour\"}],\"mesh3d\":[{\"colorbar\":{\"outlinewidth\":0,\"ticks\":\"\"},\"type\":\"mesh3d\"}],\"parcoords\":[{\"line\":{\"colorbar\":{\"outlinewidth\":0,\"ticks\":\"\"}},\"type\":\"parcoords\"}],\"pie\":[{\"automargin\":true,\"type\":\"pie\"}],\"scatter\":[{\"marker\":{\"colorbar\":{\"outlinewidth\":0,\"ticks\":\"\"}},\"type\":\"scatter\"}],\"scatter3d\":[{\"line\":{\"colorbar\":{\"outlinewidth\":0,\"ticks\":\"\"}},\"marker\":{\"colorbar\":{\"outlinewidth\":0,\"ticks\":\"\"}},\"type\":\"scatter3d\"}],\"scattercarpet\":[{\"marker\":{\"colorbar\":{\"outlinewidth\":0,\"ticks\":\"\"}},\"type\":\"scattercarpet\"}],\"scattergeo\":[{\"marker\":{\"colorbar\":{\"outlinewidth\":0,\"ticks\":\"\"}},\"type\":\"scattergeo\"}],\"scattergl\":[{\"marker\":{\"colorbar\":{\"outlinewidth\":0,\"ticks\":\"\"}},\"type\":\"scattergl\"}],\"scattermapbox\":[{\"marker\":{\"colorbar\":{\"outlinewidth\":0,\"ticks\":\"\"}},\"type\":\"scattermapbox\"}],\"scatterpolar\":[{\"marker\":{\"colorbar\":{\"outlinewidth\":0,\"ticks\":\"\"}},\"type\":\"scatterpolar\"}],\"scatterpolargl\":[{\"marker\":{\"colorbar\":{\"outlinewidth\":0,\"ticks\":\"\"}},\"type\":\"scatterpolargl\"}],\"scatterternary\":[{\"marker\":{\"colorbar\":{\"outlinewidth\":0,\"ticks\":\"\"}},\"type\":\"scatterternary\"}],\"surface\":[{\"colorbar\":{\"outlinewidth\":0,\"ticks\":\"\"},\"colorscale\":[[0.0,\"#0d0887\"],[0.1111111111111111,\"#46039f\"],[0.2222222222222222,\"#7201a8\"],[0.3333333333333333,\"#9c179e\"],[0.4444444444444444,\"#bd3786\"],[0.5555555555555556,\"#d8576b\"],[0.6666666666666666,\"#ed7953\"],[0.7777777777777778,\"#fb9f3a\"],[0.8888888888888888,\"#fdca26\"],[1.0,\"#f0f921\"]],\"type\":\"surface\"}],\"table\":[{\"cells\":{\"fill\":{\"color\":\"#EBF0F8\"},\"line\":{\"color\":\"white\"}},\"header\":{\"fill\":{\"color\":\"#C8D4E3\"},\"line\":{\"color\":\"white\"}},\"type\":\"table\"}]},\"layout\":{\"annotationdefaults\":{\"arrowcolor\":\"#2a3f5f\",\"arrowhead\":0,\"arrowwidth\":1},\"autotypenumbers\":\"strict\",\"coloraxis\":{\"colorbar\":{\"outlinewidth\":0,\"ticks\":\"\"}},\"colorscale\":{\"diverging\":[[0,\"#8e0152\"],[0.1,\"#c51b7d\"],[0.2,\"#de77ae\"],[0.3,\"#f1b6da\"],[0.4,\"#fde0ef\"],[0.5,\"#f7f7f7\"],[0.6,\"#e6f5d0\"],[0.7,\"#b8e186\"],[0.8,\"#7fbc41\"],[0.9,\"#4d9221\"],[1,\"#276419\"]],\"sequential\":[[0.0,\"#0d0887\"],[0.1111111111111111,\"#46039f\"],[0.2222222222222222,\"#7201a8\"],[0.3333333333333333,\"#9c179e\"],[0.4444444444444444,\"#bd3786\"],[0.5555555555555556,\"#d8576b\"],[0.6666666666666666,\"#ed7953\"],[0.7777777777777778,\"#fb9f3a\"],[0.8888888888888888,\"#fdca26\"],[1.0,\"#f0f921\"]],\"sequentialminus\":[[0.0,\"#0d0887\"],[0.1111111111111111,\"#46039f\"],[0.2222222222222222,\"#7201a8\"],[0.3333333333333333,\"#9c179e\"],[0.4444444444444444,\"#bd3786\"],[0.5555555555555556,\"#d8576b\"],[0.6666666666666666,\"#ed7953\"],[0.7777777777777778,\"#fb9f3a\"],[0.8888888888888888,\"#fdca26\"],[1.0,\"#f0f921\"]]},\"colorway\":[\"#636efa\",\"#EF553B\",\"#00cc96\",\"#ab63fa\",\"#FFA15A\",\"#19d3f3\",\"#FF6692\",\"#B6E880\",\"#FF97FF\",\"#FECB52\"],\"font\":{\"color\":\"#2a3f5f\"},\"geo\":{\"bgcolor\":\"white\",\"lakecolor\":\"white\",\"landcolor\":\"#E5ECF6\",\"showlakes\":true,\"showland\":true,\"subunitcolor\":\"white\"},\"hoverlabel\":{\"align\":\"left\"},\"hovermode\":\"closest\",\"mapbox\":{\"style\":\"light\"},\"paper_bgcolor\":\"white\",\"plot_bgcolor\":\"#E5ECF6\",\"polar\":{\"angularaxis\":{\"gridcolor\":\"white\",\"linecolor\":\"white\",\"ticks\":\"\"},\"bgcolor\":\"#E5ECF6\",\"radialaxis\":{\"gridcolor\":\"white\",\"linecolor\":\"white\",\"ticks\":\"\"}},\"scene\":{\"xaxis\":{\"backgroundcolor\":\"#E5ECF6\",\"gridcolor\":\"white\",\"gridwidth\":2,\"linecolor\":\"white\",\"showbackground\":true,\"ticks\":\"\",\"zerolinecolor\":\"white\"},\"yaxis\":{\"backgroundcolor\":\"#E5ECF6\",\"gridcolor\":\"white\",\"gridwidth\":2,\"linecolor\":\"white\",\"showbackground\":true,\"ticks\":\"\",\"zerolinecolor\":\"white\"},\"zaxis\":{\"backgroundcolor\":\"#E5ECF6\",\"gridcolor\":\"white\",\"gridwidth\":2,\"linecolor\":\"white\",\"showbackground\":true,\"ticks\":\"\",\"zerolinecolor\":\"white\"}},\"shapedefaults\":{\"line\":{\"color\":\"#2a3f5f\"}},\"ternary\":{\"aaxis\":{\"gridcolor\":\"white\",\"linecolor\":\"white\",\"ticks\":\"\"},\"baxis\":{\"gridcolor\":\"white\",\"linecolor\":\"white\",\"ticks\":\"\"},\"bgcolor\":\"#E5ECF6\",\"caxis\":{\"gridcolor\":\"white\",\"linecolor\":\"white\",\"ticks\":\"\"}},\"title\":{\"x\":0.05},\"xaxis\":{\"automargin\":true,\"gridcolor\":\"white\",\"linecolor\":\"white\",\"ticks\":\"\",\"title\":{\"standoff\":15},\"zerolinecolor\":\"white\",\"zerolinewidth\":2},\"yaxis\":{\"automargin\":true,\"gridcolor\":\"white\",\"linecolor\":\"white\",\"ticks\":\"\",\"title\":{\"standoff\":15},\"zerolinecolor\":\"white\",\"zerolinewidth\":2}}},\"xaxis\":{\"title\":{\"text\":\"Birth\"},\"side\":\"bottom\",\"type\":\"linear\",\"range\":[-0.22532186508178711,11.491415119171142],\"autorange\":false,\"ticks\":\"outside\",\"showline\":true,\"zeroline\":true,\"linewidth\":1,\"linecolor\":\"black\",\"mirror\":false,\"showexponent\":\"all\",\"exponentformat\":\"e\"},\"yaxis\":{\"title\":{\"text\":\"Death\"},\"side\":\"left\",\"type\":\"linear\",\"range\":[-0.22532186508178711,11.491415119171142],\"autorange\":false,\"scaleanchor\":\"x\",\"scaleratio\":1,\"ticks\":\"outside\",\"showline\":true,\"zeroline\":true,\"linewidth\":1,\"linecolor\":\"black\",\"mirror\":false,\"showexponent\":\"all\",\"exponentformat\":\"e\"},\"width\":500,\"height\":500,\"plot_bgcolor\":\"white\"},                        {\"responsive\": true}                    ).then(function(){\n",
              "                            \n",
              "var gd = document.getElementById('1370d0d7-0334-4a42-bab3-df9f7dd722f2');\n",
              "var x = new MutationObserver(function (mutations, observer) {{\n",
              "        var display = window.getComputedStyle(gd).display;\n",
              "        if (!display || display === 'none') {{\n",
              "            console.log([gd, 'removed!']);\n",
              "            Plotly.purge(gd);\n",
              "            observer.disconnect();\n",
              "        }}\n",
              "}});\n",
              "\n",
              "// Listen for the removal of the full notebook cells\n",
              "var notebookContainer = gd.closest('#notebook-container');\n",
              "if (notebookContainer) {{\n",
              "    x.observe(notebookContainer, {childList: true});\n",
              "}}\n",
              "\n",
              "// Listen for the clearing of the current output cell\n",
              "var outputEl = gd.closest('.output');\n",
              "if (outputEl) {{\n",
              "    x.observe(outputEl, {childList: true});\n",
              "}}\n",
              "\n",
              "                        })                };                            </script>        </div>\n",
              "</body>\n",
              "</html>"
            ]
          },
          "metadata": {}
        },
        {
          "output_type": "execute_result",
          "data": {
            "text/plain": [
              "array([[[0.        , 0.06319976, 0.        ],\n",
              "        [0.        , 0.07646697, 0.        ],\n",
              "        [0.        , 0.07918083, 0.        ],\n",
              "        ...,\n",
              "        [1.03857064, 1.04826188, 1.        ],\n",
              "        [0.93788743, 0.94678551, 1.        ],\n",
              "        [0.        , 0.        , 2.        ]]])"
            ]
          },
          "metadata": {},
          "execution_count": 22
        }
      ]
    },
    {
      "cell_type": "markdown",
      "source": [
        "##DELIRIOS"
      ],
      "metadata": {
        "id": "O2PjRCc2kh6T"
      }
    },
    {
      "cell_type": "code",
      "source": [
        "!pip install keras\n",
        "!pip install tensorflow"
      ],
      "metadata": {
        "colab": {
          "base_uri": "https://localhost:8080/"
        },
        "id": "0mdlNvdCUZx-",
        "outputId": "b5758314-fcc0-4878-a84e-6a89b515449f"
      },
      "execution_count": 23,
      "outputs": [
        {
          "output_type": "stream",
          "name": "stdout",
          "text": [
            "Looking in indexes: https://pypi.org/simple, https://us-python.pkg.dev/colab-wheels/public/simple/\n",
            "Requirement already satisfied: keras in /usr/local/lib/python3.7/dist-packages (2.8.0)\n",
            "Looking in indexes: https://pypi.org/simple, https://us-python.pkg.dev/colab-wheels/public/simple/\n",
            "Requirement already satisfied: tensorflow in /usr/local/lib/python3.7/dist-packages (2.8.2+zzzcolab20220719082949)\n",
            "Requirement already satisfied: protobuf<3.20,>=3.9.2 in /usr/local/lib/python3.7/dist-packages (from tensorflow) (3.17.3)\n",
            "Requirement already satisfied: google-pasta>=0.1.1 in /usr/local/lib/python3.7/dist-packages (from tensorflow) (0.2.0)\n",
            "Requirement already satisfied: grpcio<2.0,>=1.24.3 in /usr/local/lib/python3.7/dist-packages (from tensorflow) (1.47.0)\n",
            "Requirement already satisfied: gast>=0.2.1 in /usr/local/lib/python3.7/dist-packages (from tensorflow) (0.5.3)\n",
            "Requirement already satisfied: termcolor>=1.1.0 in /usr/local/lib/python3.7/dist-packages (from tensorflow) (1.1.0)\n",
            "Requirement already satisfied: absl-py>=0.4.0 in /usr/local/lib/python3.7/dist-packages (from tensorflow) (1.2.0)\n",
            "Requirement already satisfied: six>=1.12.0 in /usr/local/lib/python3.7/dist-packages (from tensorflow) (1.15.0)\n",
            "Requirement already satisfied: keras-preprocessing>=1.1.1 in /usr/local/lib/python3.7/dist-packages (from tensorflow) (1.1.2)\n",
            "Requirement already satisfied: h5py>=2.9.0 in /usr/local/lib/python3.7/dist-packages (from tensorflow) (3.1.0)\n",
            "Requirement already satisfied: tensorflow-estimator<2.9,>=2.8 in /usr/local/lib/python3.7/dist-packages (from tensorflow) (2.8.0)\n",
            "Requirement already satisfied: flatbuffers>=1.12 in /usr/local/lib/python3.7/dist-packages (from tensorflow) (2.0)\n",
            "Requirement already satisfied: astunparse>=1.6.0 in /usr/local/lib/python3.7/dist-packages (from tensorflow) (1.6.3)\n",
            "Requirement already satisfied: libclang>=9.0.1 in /usr/local/lib/python3.7/dist-packages (from tensorflow) (14.0.6)\n",
            "Requirement already satisfied: typing-extensions>=3.6.6 in /usr/local/lib/python3.7/dist-packages (from tensorflow) (4.1.1)\n",
            "Requirement already satisfied: tensorflow-io-gcs-filesystem>=0.23.1 in /usr/local/lib/python3.7/dist-packages (from tensorflow) (0.26.0)\n",
            "Requirement already satisfied: keras<2.9,>=2.8.0rc0 in /usr/local/lib/python3.7/dist-packages (from tensorflow) (2.8.0)\n",
            "Requirement already satisfied: opt-einsum>=2.3.2 in /usr/local/lib/python3.7/dist-packages (from tensorflow) (3.3.0)\n",
            "Requirement already satisfied: setuptools in /usr/local/lib/python3.7/dist-packages (from tensorflow) (57.4.0)\n",
            "Requirement already satisfied: numpy>=1.20 in /usr/local/lib/python3.7/dist-packages (from tensorflow) (1.21.6)\n",
            "Requirement already satisfied: tensorboard<2.9,>=2.8 in /usr/local/lib/python3.7/dist-packages (from tensorflow) (2.8.0)\n",
            "Requirement already satisfied: wrapt>=1.11.0 in /usr/local/lib/python3.7/dist-packages (from tensorflow) (1.14.1)\n",
            "Requirement already satisfied: wheel<1.0,>=0.23.0 in /usr/local/lib/python3.7/dist-packages (from astunparse>=1.6.0->tensorflow) (0.37.1)\n",
            "Requirement already satisfied: cached-property in /usr/local/lib/python3.7/dist-packages (from h5py>=2.9.0->tensorflow) (1.5.2)\n",
            "Requirement already satisfied: google-auth-oauthlib<0.5,>=0.4.1 in /usr/local/lib/python3.7/dist-packages (from tensorboard<2.9,>=2.8->tensorflow) (0.4.6)\n",
            "Requirement already satisfied: google-auth<3,>=1.6.3 in /usr/local/lib/python3.7/dist-packages (from tensorboard<2.9,>=2.8->tensorflow) (1.35.0)\n",
            "Requirement already satisfied: werkzeug>=0.11.15 in /usr/local/lib/python3.7/dist-packages (from tensorboard<2.9,>=2.8->tensorflow) (1.0.1)\n",
            "Requirement already satisfied: markdown>=2.6.8 in /usr/local/lib/python3.7/dist-packages (from tensorboard<2.9,>=2.8->tensorflow) (3.4.1)\n",
            "Requirement already satisfied: requests<3,>=2.21.0 in /usr/local/lib/python3.7/dist-packages (from tensorboard<2.9,>=2.8->tensorflow) (2.23.0)\n",
            "Requirement already satisfied: tensorboard-data-server<0.7.0,>=0.6.0 in /usr/local/lib/python3.7/dist-packages (from tensorboard<2.9,>=2.8->tensorflow) (0.6.1)\n",
            "Requirement already satisfied: tensorboard-plugin-wit>=1.6.0 in /usr/local/lib/python3.7/dist-packages (from tensorboard<2.9,>=2.8->tensorflow) (1.8.1)\n",
            "Requirement already satisfied: pyasn1-modules>=0.2.1 in /usr/local/lib/python3.7/dist-packages (from google-auth<3,>=1.6.3->tensorboard<2.9,>=2.8->tensorflow) (0.2.8)\n",
            "Requirement already satisfied: cachetools<5.0,>=2.0.0 in /usr/local/lib/python3.7/dist-packages (from google-auth<3,>=1.6.3->tensorboard<2.9,>=2.8->tensorflow) (4.2.4)\n",
            "Requirement already satisfied: rsa<5,>=3.1.4 in /usr/local/lib/python3.7/dist-packages (from google-auth<3,>=1.6.3->tensorboard<2.9,>=2.8->tensorflow) (4.9)\n",
            "Requirement already satisfied: requests-oauthlib>=0.7.0 in /usr/local/lib/python3.7/dist-packages (from google-auth-oauthlib<0.5,>=0.4.1->tensorboard<2.9,>=2.8->tensorflow) (1.3.1)\n",
            "Requirement already satisfied: importlib-metadata>=4.4 in /usr/local/lib/python3.7/dist-packages (from markdown>=2.6.8->tensorboard<2.9,>=2.8->tensorflow) (4.12.0)\n",
            "Requirement already satisfied: zipp>=0.5 in /usr/local/lib/python3.7/dist-packages (from importlib-metadata>=4.4->markdown>=2.6.8->tensorboard<2.9,>=2.8->tensorflow) (3.8.1)\n",
            "Requirement already satisfied: pyasn1<0.5.0,>=0.4.6 in /usr/local/lib/python3.7/dist-packages (from pyasn1-modules>=0.2.1->google-auth<3,>=1.6.3->tensorboard<2.9,>=2.8->tensorflow) (0.4.8)\n",
            "Requirement already satisfied: idna<3,>=2.5 in /usr/local/lib/python3.7/dist-packages (from requests<3,>=2.21.0->tensorboard<2.9,>=2.8->tensorflow) (2.10)\n",
            "Requirement already satisfied: certifi>=2017.4.17 in /usr/local/lib/python3.7/dist-packages (from requests<3,>=2.21.0->tensorboard<2.9,>=2.8->tensorflow) (2022.6.15)\n",
            "Requirement already satisfied: chardet<4,>=3.0.2 in /usr/local/lib/python3.7/dist-packages (from requests<3,>=2.21.0->tensorboard<2.9,>=2.8->tensorflow) (3.0.4)\n",
            "Requirement already satisfied: urllib3!=1.25.0,!=1.25.1,<1.26,>=1.21.1 in /usr/local/lib/python3.7/dist-packages (from requests<3,>=2.21.0->tensorboard<2.9,>=2.8->tensorflow) (1.24.3)\n",
            "Requirement already satisfied: oauthlib>=3.0.0 in /usr/local/lib/python3.7/dist-packages (from requests-oauthlib>=0.7.0->google-auth-oauthlib<0.5,>=0.4.1->tensorboard<2.9,>=2.8->tensorflow) (3.2.0)\n"
          ]
        }
      ]
    },
    {
      "cell_type": "code",
      "source": [
        "train = df_final[['temperatures','precipitations']]\n",
        "test = df_final['flow']"
      ],
      "metadata": {
        "id": "hqICXwlul6Yf"
      },
      "execution_count": 24,
      "outputs": []
    },
    {
      "cell_type": "code",
      "source": [
        "train = np.asarray(train).astype('float32')"
      ],
      "metadata": {
        "id": "WOnPegchV1_s"
      },
      "execution_count": 25,
      "outputs": []
    },
    {
      "cell_type": "code",
      "source": [
        "test = np.asarray(test).astype('float32')"
      ],
      "metadata": {
        "id": "ZPwdo0tdV5Ov"
      },
      "execution_count": 26,
      "outputs": []
    },
    {
      "cell_type": "code",
      "source": [
        "import statsmodels.api as sm\n",
        "import statsmodels.formula.api as smf\n",
        "import tensorflow\n",
        "tensorflow.random.set_seed(1)\n",
        "from tensorflow.python.keras.layers import Dense\n",
        "from tensorflow.keras.layers import Dropout\n",
        "from tensorflow.python.keras.models import Sequential\n",
        "from tensorflow.python.keras.wrappers.scikit_learn import KerasRegressor\n",
        "from sklearn.metrics import mean_absolute_error\n",
        "from sklearn.metrics import mean_squared_error\n",
        "from sklearn.model_selection import train_test_split\n",
        "from sklearn.preprocessing import MinMaxScaler\n",
        "from tensorflow.keras.optimizers import Adam"
      ],
      "metadata": {
        "id": "55CspvEH6Kfq"
      },
      "execution_count": 27,
      "outputs": []
    },
    {
      "cell_type": "code",
      "source": [
        "#batch_size = 64\n",
        "#epochs = 20\n",
        "#num_classes = 10000"
      ],
      "metadata": {
        "id": "E0jakuqMC-Rf"
      },
      "execution_count": 28,
      "outputs": []
    },
    {
      "cell_type": "code",
      "source": [
        "model = Sequential()\n",
        "model.add(Dense(256, input_dim=2, kernel_initializer='normal', activation='relu'))\n",
        "\n",
        "model.add(Dense(128, activation='relu'))\n",
        "model.add(Dense(128, activation='relu'))\n",
        "model.add(Dense(128, activation='relu'))\n",
        "\n",
        "model.add(Dense(1, activation='linear'))"
      ],
      "metadata": {
        "id": "sqQFRqn_SNem"
      },
      "execution_count": 29,
      "outputs": []
    },
    {
      "cell_type": "code",
      "source": [
        "model.compile(loss='mse', metrics=['mse','mae'],optimizer='adam')"
      ],
      "metadata": {
        "id": "FHR4k-17SbVf"
      },
      "execution_count": 32,
      "outputs": []
    },
    {
      "cell_type": "code",
      "source": [
        "model.summary()"
      ],
      "metadata": {
        "colab": {
          "base_uri": "https://localhost:8080/"
        },
        "id": "0aOjFn07Sdfw",
        "outputId": "e6030ba4-23f1-47fe-9db8-1e50dc28e5c1"
      },
      "execution_count": 33,
      "outputs": [
        {
          "output_type": "stream",
          "name": "stdout",
          "text": [
            "Model: \"sequential\"\n",
            "_________________________________________________________________\n",
            "Layer (type)                 Output Shape              Param #   \n",
            "=================================================================\n",
            "dense (Dense)                (None, 256)               768       \n",
            "_________________________________________________________________\n",
            "dense_1 (Dense)              (None, 128)               32896     \n",
            "_________________________________________________________________\n",
            "dense_2 (Dense)              (None, 128)               16512     \n",
            "_________________________________________________________________\n",
            "dense_3 (Dense)              (None, 128)               16512     \n",
            "_________________________________________________________________\n",
            "dense_4 (Dense)              (None, 1)                 129       \n",
            "=================================================================\n",
            "Total params: 66,817\n",
            "Trainable params: 66,817\n",
            "Non-trainable params: 0\n",
            "_________________________________________________________________\n"
          ]
        }
      ]
    },
    {
      "cell_type": "code",
      "source": [
        "history = model.fit(train, test, epochs=20, verbose = 1,batch_size=32)\n",
        "model.evaluate(train, test)"
      ],
      "metadata": {
        "colab": {
          "base_uri": "https://localhost:8080/"
        },
        "id": "K-WVGuDoSnsu",
        "outputId": "67f8f14a-9fd1-4916-b625-106ba0c65441"
      },
      "execution_count": 35,
      "outputs": [
        {
          "output_type": "stream",
          "name": "stdout",
          "text": [
            "Epoch 1/20\n",
            "662/662 [==============================] - 2s 3ms/step - loss: 67.2462 - mse: 67.2462 - mae: 4.9914\n",
            "Epoch 2/20\n",
            "662/662 [==============================] - 1s 2ms/step - loss: 67.3095 - mse: 67.3095 - mae: 4.9954\n",
            "Epoch 3/20\n",
            "662/662 [==============================] - 1s 1ms/step - loss: 67.2258 - mse: 67.2258 - mae: 4.9924\n",
            "Epoch 4/20\n",
            "662/662 [==============================] - 1s 1ms/step - loss: 67.3279 - mse: 67.3279 - mae: 4.9909\n",
            "Epoch 5/20\n",
            "662/662 [==============================] - 1s 2ms/step - loss: 67.3348 - mse: 67.3348 - mae: 4.9978\n",
            "Epoch 6/20\n",
            "662/662 [==============================] - 1s 2ms/step - loss: 67.3593 - mse: 67.3593 - mae: 4.9920\n",
            "Epoch 7/20\n",
            "662/662 [==============================] - 1s 1ms/step - loss: 67.3394 - mse: 67.3394 - mae: 4.9892\n",
            "Epoch 8/20\n",
            "662/662 [==============================] - 1s 1ms/step - loss: 67.1821 - mse: 67.1821 - mae: 4.9971\n",
            "Epoch 9/20\n",
            "662/662 [==============================] - 1s 2ms/step - loss: 67.5408 - mse: 67.5408 - mae: 4.9990\n",
            "Epoch 10/20\n",
            "662/662 [==============================] - 1s 1ms/step - loss: 67.6315 - mse: 67.6315 - mae: 5.0050\n",
            "Epoch 11/20\n",
            "662/662 [==============================] - 1s 1ms/step - loss: 67.3625 - mse: 67.3625 - mae: 4.9956\n",
            "Epoch 12/20\n",
            "662/662 [==============================] - 1s 2ms/step - loss: 67.2812 - mse: 67.2812 - mae: 4.9897\n",
            "Epoch 13/20\n",
            "662/662 [==============================] - 1s 1ms/step - loss: 67.3734 - mse: 67.3734 - mae: 4.9912\n",
            "Epoch 14/20\n",
            "662/662 [==============================] - 1s 2ms/step - loss: 67.3657 - mse: 67.3657 - mae: 5.0059\n",
            "Epoch 15/20\n",
            "662/662 [==============================] - 1s 1ms/step - loss: 67.2175 - mse: 67.2175 - mae: 4.9888\n",
            "Epoch 16/20\n",
            "662/662 [==============================] - 1s 1ms/step - loss: 67.1481 - mse: 67.1481 - mae: 4.9817\n",
            "Epoch 17/20\n",
            "662/662 [==============================] - 1s 1ms/step - loss: 67.2555 - mse: 67.2555 - mae: 4.9925\n",
            "Epoch 18/20\n",
            "662/662 [==============================] - 1s 2ms/step - loss: 67.2169 - mse: 67.2169 - mae: 4.9876\n",
            "Epoch 19/20\n",
            "662/662 [==============================] - 2s 3ms/step - loss: 67.3002 - mse: 67.3002 - mae: 4.9914\n",
            "Epoch 20/20\n",
            "662/662 [==============================] - 2s 4ms/step - loss: 67.2246 - mse: 67.2246 - mae: 4.9933\n",
            "662/662 [==============================] - 1s 2ms/step - loss: 66.9978 - mse: 66.9978 - mae: 5.0413\n"
          ]
        },
        {
          "output_type": "execute_result",
          "data": {
            "text/plain": [
              "[66.99784088134766, 66.99784088134766, 5.04131555557251]"
            ]
          },
          "metadata": {},
          "execution_count": 35
        }
      ]
    },
    {
      "cell_type": "code",
      "source": [
        "model = Sequential()\n",
        "model.add(Dense(128, input_dim=2, kernel_initializer='normal', activation='relu'))\n",
        "\n",
        "model.add(Dense(256, activation='relu'))\n",
        "model.add(Dense(256, activation='relu'))\n",
        "model.add(Dense(256, activation='relu'))\n",
        "\n",
        "model.add(Dense(1, activation='linear'))\n",
        "\n",
        "model.compile(loss='mse', metrics=['mse','mae'],optimizer='adam')\n",
        "model.summary()"
      ],
      "metadata": {
        "id": "BjRqQRUwEn2U"
      },
      "execution_count": 37,
      "outputs": []
    },
    {
      "cell_type": "code",
      "source": [
        "history = model.fit(train, test, epochs=20, verbose = 1,batch_size=32)\n",
        "model.evaluate(train, test)"
      ],
      "metadata": {
        "colab": {
          "base_uri": "https://localhost:8080/"
        },
        "id": "DluPrS4g6N_e",
        "outputId": "46a0eebb-9e78-47da-b748-b45b50518497"
      },
      "execution_count": 40,
      "outputs": [
        {
          "output_type": "stream",
          "name": "stdout",
          "text": [
            "Epoch 1/20\n",
            "662/662 [==============================] - 2s 3ms/step - loss: 75.1048 - mse: 75.1048 - mae: 5.1972\n",
            "Epoch 2/20\n",
            "662/662 [==============================] - 1s 2ms/step - loss: 69.6402 - mse: 69.6402 - mae: 5.0512\n",
            "Epoch 3/20\n",
            "662/662 [==============================] - 1s 2ms/step - loss: 69.1075 - mse: 69.1075 - mae: 5.0450\n",
            "Epoch 4/20\n",
            "662/662 [==============================] - 1s 2ms/step - loss: 68.8273 - mse: 68.8273 - mae: 5.0296\n",
            "Epoch 5/20\n",
            "662/662 [==============================] - 1s 2ms/step - loss: 68.8025 - mse: 68.8025 - mae: 5.0452\n",
            "Epoch 6/20\n",
            "662/662 [==============================] - 1s 2ms/step - loss: 68.7145 - mse: 68.7145 - mae: 5.0311\n",
            "Epoch 7/20\n",
            "662/662 [==============================] - 1s 2ms/step - loss: 68.5321 - mse: 68.5321 - mae: 5.0278\n",
            "Epoch 8/20\n",
            "662/662 [==============================] - 1s 2ms/step - loss: 68.2025 - mse: 68.2025 - mae: 5.0190\n",
            "Epoch 9/20\n",
            "662/662 [==============================] - 1s 2ms/step - loss: 68.2550 - mse: 68.2550 - mae: 5.0200\n",
            "Epoch 10/20\n",
            "662/662 [==============================] - 1s 2ms/step - loss: 68.5450 - mse: 68.5450 - mae: 5.0289\n",
            "Epoch 11/20\n",
            "662/662 [==============================] - 1s 2ms/step - loss: 68.2002 - mse: 68.2002 - mae: 5.0182\n",
            "Epoch 12/20\n",
            "662/662 [==============================] - 1s 2ms/step - loss: 67.9826 - mse: 67.9826 - mae: 5.0071\n",
            "Epoch 13/20\n",
            "662/662 [==============================] - 1s 2ms/step - loss: 68.2157 - mse: 68.2157 - mae: 5.0107\n",
            "Epoch 14/20\n",
            "662/662 [==============================] - 1s 2ms/step - loss: 68.1252 - mse: 68.1252 - mae: 5.0227\n",
            "Epoch 15/20\n",
            "662/662 [==============================] - 1s 2ms/step - loss: 68.2081 - mse: 68.2081 - mae: 5.0125\n",
            "Epoch 16/20\n",
            "662/662 [==============================] - 1s 2ms/step - loss: 68.0653 - mse: 68.0653 - mae: 5.0116\n",
            "Epoch 17/20\n",
            "662/662 [==============================] - 1s 2ms/step - loss: 68.0733 - mse: 68.0733 - mae: 5.0143\n",
            "Epoch 18/20\n",
            "662/662 [==============================] - 1s 2ms/step - loss: 67.9786 - mse: 67.9786 - mae: 5.0117\n",
            "Epoch 19/20\n",
            "662/662 [==============================] - 1s 2ms/step - loss: 68.0309 - mse: 68.0309 - mae: 5.0071\n",
            "Epoch 20/20\n",
            "662/662 [==============================] - 1s 2ms/step - loss: 67.9098 - mse: 67.9098 - mae: 5.0135\n",
            "662/662 [==============================] - 1s 958us/step - loss: 67.7258 - mse: 67.7258 - mae: 5.0608\n"
          ]
        },
        {
          "output_type": "execute_result",
          "data": {
            "text/plain": [
              "[67.72581481933594, 67.72581481933594, 5.060823440551758]"
            ]
          },
          "metadata": {},
          "execution_count": 40
        }
      ]
    },
    {
      "cell_type": "code",
      "source": [
        "model = Sequential()\n",
        "model.add(Dense(128, input_dim=2, kernel_initializer='normal', activation='gelu'))\n",
        "\n",
        "model.add(Dense(256, activation='gelu'))\n",
        "model.add(Dense(256, activation='gelu'))\n",
        "model.add(Dense(256, activation='gelu'))\n",
        "\n",
        "model.add(Dense(1, activation='linear'))\n",
        "\n",
        "model.compile(loss='mse', metrics=['mse','mae'],optimizer='adam')\n",
        "model.summary()"
      ],
      "metadata": {
        "colab": {
          "base_uri": "https://localhost:8080/"
        },
        "id": "WbCReQIL6u4u",
        "outputId": "4b272e61-4ae6-4474-f454-5deab8530999"
      },
      "execution_count": 51,
      "outputs": [
        {
          "output_type": "stream",
          "name": "stdout",
          "text": [
            "Model: \"sequential_2\"\n",
            "_________________________________________________________________\n",
            " Layer (type)                Output Shape              Param #   \n",
            "=================================================================\n",
            " dense (Dense)               (None, 128)               384       \n",
            "                                                                 \n",
            " dense_1 (Dense)             (None, 256)               33024     \n",
            "                                                                 \n",
            " dense_2 (Dense)             (None, 256)               65792     \n",
            "                                                                 \n",
            " dense_3 (Dense)             (None, 256)               65792     \n",
            "                                                                 \n",
            " dense_4 (Dense)             (None, 1)                 257       \n",
            "                                                                 \n",
            "=================================================================\n",
            "Total params: 165,249\n",
            "Trainable params: 165,249\n",
            "Non-trainable params: 0\n",
            "_________________________________________________________________\n"
          ]
        }
      ]
    },
    {
      "cell_type": "code",
      "source": [
        "history = model.fit(train, test, epochs=20, verbose = 1,batch_size=64)\n",
        "model.evaluate(train, test)"
      ],
      "metadata": {
        "colab": {
          "base_uri": "https://localhost:8080/"
        },
        "id": "tdvu-UGz7yPg",
        "outputId": "933477f5-244b-4057-fd57-812c20567c64"
      },
      "execution_count": 52,
      "outputs": [
        {
          "output_type": "stream",
          "name": "stdout",
          "text": [
            "Epoch 1/20\n",
            "662/662 [==============================] - 3s 3ms/step - loss: 70.8664 - mse: 70.8664 - mae: 5.1078\n",
            "Epoch 2/20\n",
            "662/662 [==============================] - 2s 3ms/step - loss: 69.0149 - mse: 69.0149 - mae: 5.0489\n",
            "Epoch 3/20\n",
            "662/662 [==============================] - 2s 3ms/step - loss: 68.7349 - mse: 68.7349 - mae: 5.0455\n",
            "Epoch 4/20\n",
            "662/662 [==============================] - 2s 3ms/step - loss: 68.7248 - mse: 68.7248 - mae: 5.0313\n",
            "Epoch 5/20\n",
            "662/662 [==============================] - 2s 3ms/step - loss: 68.4794 - mse: 68.4794 - mae: 5.0377\n",
            "Epoch 6/20\n",
            "662/662 [==============================] - 2s 3ms/step - loss: 68.4774 - mse: 68.4774 - mae: 5.0261\n",
            "Epoch 7/20\n",
            "662/662 [==============================] - 2s 3ms/step - loss: 68.4971 - mse: 68.4971 - mae: 5.0261\n",
            "Epoch 8/20\n",
            "662/662 [==============================] - 2s 3ms/step - loss: 68.1702 - mse: 68.1702 - mae: 5.0210\n",
            "Epoch 9/20\n",
            "662/662 [==============================] - 2s 3ms/step - loss: 68.0590 - mse: 68.0590 - mae: 5.0166\n",
            "Epoch 10/20\n",
            "662/662 [==============================] - 2s 3ms/step - loss: 68.3092 - mse: 68.3092 - mae: 5.0283\n",
            "Epoch 11/20\n",
            "662/662 [==============================] - 2s 3ms/step - loss: 68.0582 - mse: 68.0582 - mae: 5.0153\n",
            "Epoch 12/20\n",
            "662/662 [==============================] - 2s 3ms/step - loss: 67.8711 - mse: 67.8711 - mae: 5.0048\n",
            "Epoch 13/20\n",
            "662/662 [==============================] - 2s 3ms/step - loss: 68.1057 - mse: 68.1057 - mae: 5.0106\n",
            "Epoch 14/20\n",
            "662/662 [==============================] - 2s 3ms/step - loss: 68.0228 - mse: 68.0228 - mae: 5.0218\n",
            "Epoch 15/20\n",
            "662/662 [==============================] - 2s 3ms/step - loss: 67.9209 - mse: 67.9209 - mae: 5.0100\n",
            "Epoch 16/20\n",
            "662/662 [==============================] - 2s 3ms/step - loss: 67.9486 - mse: 67.9486 - mae: 5.0092\n",
            "Epoch 17/20\n",
            "662/662 [==============================] - 2s 3ms/step - loss: 67.9680 - mse: 67.9680 - mae: 5.0184\n",
            "Epoch 18/20\n",
            "662/662 [==============================] - 2s 3ms/step - loss: 67.9126 - mse: 67.9126 - mae: 5.0103\n",
            "Epoch 19/20\n",
            "662/662 [==============================] - 2s 3ms/step - loss: 67.9077 - mse: 67.9077 - mae: 5.0063\n",
            "Epoch 20/20\n",
            "662/662 [==============================] - 2s 3ms/step - loss: 67.8263 - mse: 67.8263 - mae: 5.0111\n",
            "662/662 [==============================] - 1s 1ms/step - loss: 67.5505 - mse: 67.5505 - mae: 5.0851\n"
          ]
        },
        {
          "output_type": "execute_result",
          "data": {
            "text/plain": [
              "[67.55046844482422, 67.55046844482422, 5.085148334503174]"
            ]
          },
          "metadata": {},
          "execution_count": 52
        }
      ]
    },
    {
      "cell_type": "code",
      "source": [
        "history = model.fit(train, test, epochs=50, verbose = 1,batch_size=32)\n",
        "model.evaluate(train, test)"
      ],
      "metadata": {
        "colab": {
          "base_uri": "https://localhost:8080/"
        },
        "id": "F3y7nCxl8KLL",
        "outputId": "c1c80cc8-e428-43fd-8516-0664de1c7014"
      },
      "execution_count": 54,
      "outputs": [
        {
          "output_type": "stream",
          "name": "stdout",
          "text": [
            "Epoch 1/50\n",
            "662/662 [==============================] - 2s 4ms/step - loss: 67.6675 - mse: 67.6675 - mae: 5.0093\n",
            "Epoch 2/50\n",
            "662/662 [==============================] - 2s 3ms/step - loss: 67.6265 - mse: 67.6265 - mae: 5.0025\n",
            "Epoch 3/50\n",
            "662/662 [==============================] - 2s 3ms/step - loss: 67.5220 - mse: 67.5220 - mae: 5.0031\n",
            "Epoch 4/50\n",
            "662/662 [==============================] - 2s 3ms/step - loss: 67.6365 - mse: 67.6365 - mae: 4.9990\n",
            "Epoch 5/50\n",
            "662/662 [==============================] - 2s 3ms/step - loss: 67.5056 - mse: 67.5056 - mae: 5.0055\n",
            "Epoch 6/50\n",
            "662/662 [==============================] - 2s 3ms/step - loss: 67.6015 - mse: 67.6015 - mae: 4.9967\n",
            "Epoch 7/50\n",
            "662/662 [==============================] - 2s 3ms/step - loss: 67.7640 - mse: 67.7640 - mae: 5.0025\n",
            "Epoch 8/50\n",
            "662/662 [==============================] - 2s 3ms/step - loss: 67.5629 - mse: 67.5629 - mae: 5.0034\n",
            "Epoch 9/50\n",
            "662/662 [==============================] - 2s 3ms/step - loss: 67.5164 - mse: 67.5164 - mae: 5.0030\n",
            "Epoch 10/50\n",
            "662/662 [==============================] - 2s 3ms/step - loss: 67.6567 - mse: 67.6567 - mae: 5.0096\n",
            "Epoch 11/50\n",
            "662/662 [==============================] - 2s 3ms/step - loss: 67.4891 - mse: 67.4891 - mae: 5.0001\n",
            "Epoch 12/50\n",
            "662/662 [==============================] - 2s 3ms/step - loss: 67.4585 - mse: 67.4585 - mae: 4.9962\n",
            "Epoch 13/50\n",
            "662/662 [==============================] - 2s 3ms/step - loss: 67.5351 - mse: 67.5351 - mae: 4.9932\n",
            "Epoch 14/50\n",
            "662/662 [==============================] - 2s 3ms/step - loss: 67.5101 - mse: 67.5101 - mae: 5.0040\n",
            "Epoch 15/50\n",
            "662/662 [==============================] - 2s 3ms/step - loss: 68.0432 - mse: 68.0432 - mae: 5.0014\n",
            "Epoch 16/50\n",
            "662/662 [==============================] - 2s 3ms/step - loss: 67.4528 - mse: 67.4528 - mae: 4.9892\n",
            "Epoch 17/50\n",
            "662/662 [==============================] - 2s 3ms/step - loss: 67.4203 - mse: 67.4203 - mae: 5.0011\n",
            "Epoch 18/50\n",
            "662/662 [==============================] - 2s 2ms/step - loss: 67.4508 - mse: 67.4508 - mae: 4.9944\n",
            "Epoch 19/50\n",
            "662/662 [==============================] - 2s 3ms/step - loss: 67.4178 - mse: 67.4178 - mae: 4.9902\n",
            "Epoch 20/50\n",
            "662/662 [==============================] - 2s 3ms/step - loss: 67.4563 - mse: 67.4563 - mae: 4.9990\n",
            "Epoch 21/50\n",
            "662/662 [==============================] - 2s 3ms/step - loss: 67.4367 - mse: 67.4367 - mae: 4.9991\n",
            "Epoch 22/50\n",
            "662/662 [==============================] - 2s 3ms/step - loss: 67.4099 - mse: 67.4099 - mae: 4.9951\n",
            "Epoch 23/50\n",
            "662/662 [==============================] - 2s 3ms/step - loss: 67.5539 - mse: 67.5539 - mae: 4.9978\n",
            "Epoch 24/50\n",
            "662/662 [==============================] - 2s 3ms/step - loss: 67.4086 - mse: 67.4086 - mae: 5.0082\n",
            "Epoch 25/50\n",
            "662/662 [==============================] - 2s 3ms/step - loss: 67.4701 - mse: 67.4701 - mae: 4.9961\n",
            "Epoch 26/50\n",
            "662/662 [==============================] - 2s 3ms/step - loss: 67.4467 - mse: 67.4467 - mae: 4.9901\n",
            "Epoch 27/50\n",
            "662/662 [==============================] - 2s 3ms/step - loss: 67.5397 - mse: 67.5397 - mae: 5.0065\n",
            "Epoch 28/50\n",
            "662/662 [==============================] - 2s 3ms/step - loss: 67.4646 - mse: 67.4646 - mae: 5.0026\n",
            "Epoch 29/50\n",
            "662/662 [==============================] - 3s 4ms/step - loss: 67.5454 - mse: 67.5454 - mae: 4.9966\n",
            "Epoch 30/50\n",
            "662/662 [==============================] - 2s 3ms/step - loss: 67.4030 - mse: 67.4030 - mae: 4.9972\n",
            "Epoch 31/50\n",
            "662/662 [==============================] - 2s 3ms/step - loss: 67.5727 - mse: 67.5727 - mae: 4.9923\n",
            "Epoch 32/50\n",
            "662/662 [==============================] - 2s 3ms/step - loss: 67.4730 - mse: 67.4730 - mae: 4.9989\n",
            "Epoch 33/50\n",
            "662/662 [==============================] - 2s 3ms/step - loss: 67.4201 - mse: 67.4201 - mae: 4.9957\n",
            "Epoch 34/50\n",
            "662/662 [==============================] - 2s 3ms/step - loss: 67.4925 - mse: 67.4925 - mae: 5.0033\n",
            "Epoch 35/50\n",
            "662/662 [==============================] - 2s 3ms/step - loss: 67.4895 - mse: 67.4895 - mae: 4.9950\n",
            "Epoch 36/50\n",
            "662/662 [==============================] - 2s 3ms/step - loss: 67.3984 - mse: 67.3984 - mae: 5.0013\n",
            "Epoch 37/50\n",
            "662/662 [==============================] - 2s 3ms/step - loss: 67.4163 - mse: 67.4163 - mae: 4.9975\n",
            "Epoch 38/50\n",
            "662/662 [==============================] - 2s 3ms/step - loss: 67.6219 - mse: 67.6219 - mae: 5.0019\n",
            "Epoch 39/50\n",
            "662/662 [==============================] - 2s 3ms/step - loss: 67.4572 - mse: 67.4572 - mae: 4.9863\n",
            "Epoch 40/50\n",
            "662/662 [==============================] - 2s 3ms/step - loss: 67.5145 - mse: 67.5145 - mae: 5.0005\n",
            "Epoch 41/50\n",
            "662/662 [==============================] - 2s 3ms/step - loss: 67.3474 - mse: 67.3474 - mae: 4.9913\n",
            "Epoch 42/50\n",
            "662/662 [==============================] - 2s 3ms/step - loss: 67.4181 - mse: 67.4181 - mae: 5.0040\n",
            "Epoch 43/50\n",
            "662/662 [==============================] - 2s 3ms/step - loss: 67.4327 - mse: 67.4327 - mae: 4.9965\n",
            "Epoch 44/50\n",
            "662/662 [==============================] - 2s 3ms/step - loss: 67.3160 - mse: 67.3160 - mae: 4.9945\n",
            "Epoch 45/50\n",
            "662/662 [==============================] - 2s 3ms/step - loss: 67.4079 - mse: 67.4079 - mae: 4.9974\n",
            "Epoch 46/50\n",
            "662/662 [==============================] - 2s 3ms/step - loss: 67.3571 - mse: 67.3571 - mae: 4.9929\n",
            "Epoch 47/50\n",
            "662/662 [==============================] - 2s 3ms/step - loss: 67.4159 - mse: 67.4159 - mae: 4.9935\n",
            "Epoch 48/50\n",
            "662/662 [==============================] - 2s 3ms/step - loss: 67.4803 - mse: 67.4803 - mae: 4.9918\n",
            "Epoch 49/50\n",
            "662/662 [==============================] - 2s 3ms/step - loss: 67.3063 - mse: 67.3063 - mae: 4.9881\n",
            "Epoch 50/50\n",
            "662/662 [==============================] - 2s 3ms/step - loss: 67.3234 - mse: 67.3234 - mae: 4.9903\n",
            "662/662 [==============================] - 1s 1ms/step - loss: 67.0921 - mse: 67.0921 - mae: 5.1045\n"
          ]
        },
        {
          "output_type": "execute_result",
          "data": {
            "text/plain": [
              "[67.09205627441406, 67.09205627441406, 5.104537010192871]"
            ]
          },
          "metadata": {},
          "execution_count": 54
        }
      ]
    },
    {
      "cell_type": "code",
      "source": [
        "model = Sequential()\n",
        "model.add(Dense(64, input_dim=2, kernel_initializer='normal', activation='gelu'))\n",
        "\n",
        "model.add(Dense(32, activation='gelu'))\n",
        "model.add(Dense(32, activation='gelu'))\n",
        "model.add(Dense(32, activation='gelu'))\n",
        "\n",
        "model.add(Dense(1, activation='linear'))\n",
        "\n",
        "model.compile(loss='mse', metrics=['mse','mae'],optimizer='adam')\n",
        "model.summary()"
      ],
      "metadata": {
        "colab": {
          "base_uri": "https://localhost:8080/"
        },
        "id": "o_kENkdE8W3V",
        "outputId": "67b73e24-8326-4576-d503-08ce8a9e6550"
      },
      "execution_count": 55,
      "outputs": [
        {
          "output_type": "stream",
          "name": "stdout",
          "text": [
            "Model: \"sequential_3\"\n",
            "_________________________________________________________________\n",
            " Layer (type)                Output Shape              Param #   \n",
            "=================================================================\n",
            " dense_5 (Dense)             (None, 64)                192       \n",
            "                                                                 \n",
            " dense_6 (Dense)             (None, 32)                2080      \n",
            "                                                                 \n",
            " dense_7 (Dense)             (None, 32)                1056      \n",
            "                                                                 \n",
            " dense_8 (Dense)             (None, 32)                1056      \n",
            "                                                                 \n",
            " dense_9 (Dense)             (None, 1)                 33        \n",
            "                                                                 \n",
            "=================================================================\n",
            "Total params: 4,417\n",
            "Trainable params: 4,417\n",
            "Non-trainable params: 0\n",
            "_________________________________________________________________\n"
          ]
        }
      ]
    },
    {
      "cell_type": "code",
      "source": [
        "history = model.fit(train, test, epochs=20, verbose = 1,batch_size=32)\n",
        "model.evaluate(train, test)"
      ],
      "metadata": {
        "colab": {
          "base_uri": "https://localhost:8080/"
        },
        "id": "5enHJFsW9REy",
        "outputId": "bdca8c4e-8a49-4708-a9f3-4ae12be9eb02"
      },
      "execution_count": 56,
      "outputs": [
        {
          "output_type": "stream",
          "name": "stdout",
          "text": [
            "Epoch 1/20\n",
            "662/662 [==============================] - 2s 2ms/step - loss: 74.5161 - mse: 74.5161 - mae: 5.1689\n",
            "Epoch 2/20\n",
            "662/662 [==============================] - 1s 1ms/step - loss: 68.5511 - mse: 68.5511 - mae: 5.0268\n",
            "Epoch 3/20\n",
            "662/662 [==============================] - 1s 1ms/step - loss: 68.2480 - mse: 68.2480 - mae: 5.0260\n",
            "Epoch 4/20\n",
            "662/662 [==============================] - 1s 1ms/step - loss: 68.3415 - mse: 68.3415 - mae: 5.0156\n",
            "Epoch 5/20\n",
            "662/662 [==============================] - 1s 1ms/step - loss: 68.2483 - mse: 68.2483 - mae: 5.0331\n",
            "Epoch 6/20\n",
            "662/662 [==============================] - 1s 1ms/step - loss: 68.2097 - mse: 68.2097 - mae: 5.0179\n",
            "Epoch 7/20\n",
            "662/662 [==============================] - 1s 1ms/step - loss: 68.2232 - mse: 68.2232 - mae: 5.0180\n",
            "Epoch 8/20\n",
            "662/662 [==============================] - 1s 1ms/step - loss: 68.0403 - mse: 68.0403 - mae: 5.0177\n",
            "Epoch 9/20\n",
            "662/662 [==============================] - 1s 1ms/step - loss: 67.9451 - mse: 67.9451 - mae: 5.0141\n",
            "Epoch 10/20\n",
            "662/662 [==============================] - 1s 1ms/step - loss: 68.1020 - mse: 68.1020 - mae: 5.0179\n",
            "Epoch 11/20\n",
            "662/662 [==============================] - 1s 1ms/step - loss: 67.9450 - mse: 67.9450 - mae: 5.0103\n",
            "Epoch 12/20\n",
            "662/662 [==============================] - 1s 1ms/step - loss: 67.7670 - mse: 67.7670 - mae: 5.0030\n",
            "Epoch 13/20\n",
            "662/662 [==============================] - 1s 1ms/step - loss: 68.0186 - mse: 68.0186 - mae: 5.0065\n",
            "Epoch 14/20\n",
            "662/662 [==============================] - 1s 1ms/step - loss: 67.9168 - mse: 67.9168 - mae: 5.0174\n",
            "Epoch 15/20\n",
            "662/662 [==============================] - 1s 1ms/step - loss: 67.8491 - mse: 67.8491 - mae: 5.0057\n",
            "Epoch 16/20\n",
            "662/662 [==============================] - 1s 1ms/step - loss: 67.7996 - mse: 67.7996 - mae: 5.0015\n",
            "Epoch 17/20\n",
            "662/662 [==============================] - 1s 1ms/step - loss: 67.8527 - mse: 67.8527 - mae: 5.0094\n",
            "Epoch 18/20\n",
            "662/662 [==============================] - 1s 1ms/step - loss: 67.8480 - mse: 67.8480 - mae: 5.0036\n",
            "Epoch 19/20\n",
            "662/662 [==============================] - 1s 1ms/step - loss: 67.8019 - mse: 67.8019 - mae: 5.0002\n",
            "Epoch 20/20\n",
            "662/662 [==============================] - 1s 1ms/step - loss: 67.7495 - mse: 67.7495 - mae: 5.0062\n",
            "662/662 [==============================] - 1s 891us/step - loss: 67.5108 - mse: 67.5108 - mae: 5.0896\n"
          ]
        },
        {
          "output_type": "execute_result",
          "data": {
            "text/plain": [
              "[67.51079559326172, 67.51079559326172, 5.089613437652588]"
            ]
          },
          "metadata": {},
          "execution_count": 56
        }
      ]
    },
    {
      "cell_type": "code",
      "source": [
        "model = Sequential()\n",
        "model.add(Dense(8, input_dim=2, kernel_initializer='normal', activation='gelu'))\n",
        "\n",
        "model.add(Dense(32, activation='gelu'))\n",
        "model.add(Dense(64, activation='gelu'))\n",
        "model.add(Dense(32, activation='gelu'))\n",
        "\n",
        "model.add(Dense(1, activation='linear'))\n",
        "\n",
        "model.compile(loss='mse', metrics=['mse','mae'],optimizer='adam')\n",
        "model.summary()"
      ],
      "metadata": {
        "colab": {
          "base_uri": "https://localhost:8080/"
        },
        "id": "smH0lXoW9Tj8",
        "outputId": "f38ecbe1-d356-4841-c431-69bef36e6645"
      },
      "execution_count": 57,
      "outputs": [
        {
          "output_type": "stream",
          "name": "stdout",
          "text": [
            "Model: \"sequential_4\"\n",
            "_________________________________________________________________\n",
            " Layer (type)                Output Shape              Param #   \n",
            "=================================================================\n",
            " dense_10 (Dense)            (None, 8)                 24        \n",
            "                                                                 \n",
            " dense_11 (Dense)            (None, 32)                288       \n",
            "                                                                 \n",
            " dense_12 (Dense)            (None, 64)                2112      \n",
            "                                                                 \n",
            " dense_13 (Dense)            (None, 32)                2080      \n",
            "                                                                 \n",
            " dense_14 (Dense)            (None, 1)                 33        \n",
            "                                                                 \n",
            "=================================================================\n",
            "Total params: 4,537\n",
            "Trainable params: 4,537\n",
            "Non-trainable params: 0\n",
            "_________________________________________________________________\n"
          ]
        }
      ]
    },
    {
      "cell_type": "code",
      "source": [
        "history = model.fit(train, test, epochs=20, verbose = 1,batch_size=32)\n",
        "model.evaluate(train, test)"
      ],
      "metadata": {
        "colab": {
          "base_uri": "https://localhost:8080/"
        },
        "id": "Th0T-b759hYr",
        "outputId": "01883598-a0fc-42c7-c6a7-9446f5689d73"
      },
      "execution_count": 58,
      "outputs": [
        {
          "output_type": "stream",
          "name": "stdout",
          "text": [
            "Epoch 1/20\n",
            "662/662 [==============================] - 2s 2ms/step - loss: 75.4735 - mse: 75.4735 - mae: 5.2264\n",
            "Epoch 2/20\n",
            "662/662 [==============================] - 1s 1ms/step - loss: 68.5413 - mse: 68.5413 - mae: 5.0313\n",
            "Epoch 3/20\n",
            "662/662 [==============================] - 1s 1ms/step - loss: 68.2757 - mse: 68.2757 - mae: 5.0326\n",
            "Epoch 4/20\n",
            "662/662 [==============================] - 1s 1ms/step - loss: 68.3773 - mse: 68.3773 - mae: 5.0193\n",
            "Epoch 5/20\n",
            "662/662 [==============================] - 1s 1ms/step - loss: 68.2477 - mse: 68.2477 - mae: 5.0345\n",
            "Epoch 6/20\n",
            "662/662 [==============================] - 1s 1ms/step - loss: 68.1956 - mse: 68.1956 - mae: 5.0203\n",
            "Epoch 7/20\n",
            "662/662 [==============================] - 1s 1ms/step - loss: 68.2112 - mse: 68.2112 - mae: 5.0195\n",
            "Epoch 8/20\n",
            "662/662 [==============================] - 1s 1ms/step - loss: 68.0718 - mse: 68.0718 - mae: 5.0194\n",
            "Epoch 9/20\n",
            "662/662 [==============================] - 1s 1ms/step - loss: 67.9570 - mse: 67.9570 - mae: 5.0130\n",
            "Epoch 10/20\n",
            "662/662 [==============================] - 1s 1ms/step - loss: 68.1217 - mse: 68.1217 - mae: 5.0224\n",
            "Epoch 11/20\n",
            "662/662 [==============================] - 1s 1ms/step - loss: 67.9891 - mse: 67.9891 - mae: 5.0125\n",
            "Epoch 12/20\n",
            "662/662 [==============================] - 1s 1ms/step - loss: 67.8327 - mse: 67.8327 - mae: 5.0056\n",
            "Epoch 13/20\n",
            "662/662 [==============================] - 1s 1ms/step - loss: 68.0651 - mse: 68.0651 - mae: 5.0115\n",
            "Epoch 14/20\n",
            "662/662 [==============================] - 1s 1ms/step - loss: 67.9791 - mse: 67.9791 - mae: 5.0222\n",
            "Epoch 15/20\n",
            "662/662 [==============================] - 1s 1ms/step - loss: 67.9402 - mse: 67.9402 - mae: 5.0104\n",
            "Epoch 16/20\n",
            "662/662 [==============================] - 1s 1ms/step - loss: 67.8753 - mse: 67.8753 - mae: 5.0064\n",
            "Epoch 17/20\n",
            "662/662 [==============================] - 1s 1ms/step - loss: 67.9519 - mse: 67.9519 - mae: 5.0139\n",
            "Epoch 18/20\n",
            "662/662 [==============================] - 1s 1ms/step - loss: 67.9409 - mse: 67.9409 - mae: 5.0082\n",
            "Epoch 19/20\n",
            "662/662 [==============================] - 1s 1ms/step - loss: 67.8874 - mse: 67.8874 - mae: 5.0079\n",
            "Epoch 20/20\n",
            "662/662 [==============================] - 1s 1ms/step - loss: 67.8664 - mse: 67.8664 - mae: 5.0125\n",
            "662/662 [==============================] - 1s 902us/step - loss: 67.6690 - mse: 67.6690 - mae: 5.0728\n"
          ]
        },
        {
          "output_type": "execute_result",
          "data": {
            "text/plain": [
              "[67.66902923583984, 67.66902923583984, 5.072835922241211]"
            ]
          },
          "metadata": {},
          "execution_count": 58
        }
      ]
    },
    {
      "cell_type": "code",
      "source": [
        "model = Sequential()\n",
        "model.add(Dense(512, input_dim=2, kernel_initializer='normal', activation='gelu'))\n",
        "\n",
        "model.add(Dense(256, activation='gelu'))\n",
        "model.add(Dense(128, activation='gelu'))\n",
        "model.add(Dense(64, activation='gelu'))\n",
        "\n",
        "model.add(Dense(1, activation='linear'))\n",
        "\n",
        "model.compile(loss='mse', metrics=['mse','mae'],optimizer='adam')\n",
        "model.summary()"
      ],
      "metadata": {
        "colab": {
          "base_uri": "https://localhost:8080/"
        },
        "id": "KFN7Rcgi9ixB",
        "outputId": "f600f96f-cf42-431e-cf32-678ad99bb723"
      },
      "execution_count": 59,
      "outputs": [
        {
          "output_type": "stream",
          "name": "stdout",
          "text": [
            "Model: \"sequential_5\"\n",
            "_________________________________________________________________\n",
            " Layer (type)                Output Shape              Param #   \n",
            "=================================================================\n",
            " dense_15 (Dense)            (None, 512)               1536      \n",
            "                                                                 \n",
            " dense_16 (Dense)            (None, 256)               131328    \n",
            "                                                                 \n",
            " dense_17 (Dense)            (None, 128)               32896     \n",
            "                                                                 \n",
            " dense_18 (Dense)            (None, 64)                8256      \n",
            "                                                                 \n",
            " dense_19 (Dense)            (None, 1)                 65        \n",
            "                                                                 \n",
            "=================================================================\n",
            "Total params: 174,081\n",
            "Trainable params: 174,081\n",
            "Non-trainable params: 0\n",
            "_________________________________________________________________\n"
          ]
        }
      ]
    },
    {
      "cell_type": "code",
      "source": [
        "history = model.fit(train, test, epochs=20, verbose = 1,batch_size=32)\n",
        "model.evaluate(train, test)"
      ],
      "metadata": {
        "colab": {
          "base_uri": "https://localhost:8080/"
        },
        "id": "5QoXtAmI9zME",
        "outputId": "abbe5181-6327-4fe9-ddb4-df61404f6ec0"
      },
      "execution_count": 60,
      "outputs": [
        {
          "output_type": "stream",
          "name": "stdout",
          "text": [
            "Epoch 1/20\n",
            "662/662 [==============================] - 3s 3ms/step - loss: 71.0367 - mse: 71.0367 - mae: 5.0892\n",
            "Epoch 2/20\n",
            "662/662 [==============================] - 2s 3ms/step - loss: 69.0296 - mse: 69.0296 - mae: 5.0445\n",
            "Epoch 3/20\n",
            "662/662 [==============================] - 2s 3ms/step - loss: 68.6373 - mse: 68.6373 - mae: 5.0341\n",
            "Epoch 4/20\n",
            "662/662 [==============================] - 2s 3ms/step - loss: 68.6293 - mse: 68.6293 - mae: 5.0253\n",
            "Epoch 5/20\n",
            "662/662 [==============================] - 2s 3ms/step - loss: 68.4276 - mse: 68.4276 - mae: 5.0312\n",
            "Epoch 6/20\n",
            "662/662 [==============================] - 2s 3ms/step - loss: 68.3645 - mse: 68.3645 - mae: 5.0203\n",
            "Epoch 7/20\n",
            "662/662 [==============================] - 2s 3ms/step - loss: 68.3858 - mse: 68.3858 - mae: 5.0229\n",
            "Epoch 8/20\n",
            "662/662 [==============================] - 2s 3ms/step - loss: 68.1092 - mse: 68.1092 - mae: 5.0182\n",
            "Epoch 9/20\n",
            "662/662 [==============================] - 2s 3ms/step - loss: 68.0674 - mse: 68.0674 - mae: 5.0138\n",
            "Epoch 10/20\n",
            "662/662 [==============================] - 2s 3ms/step - loss: 68.2929 - mse: 68.2929 - mae: 5.0198\n",
            "Epoch 11/20\n",
            "662/662 [==============================] - 2s 3ms/step - loss: 68.0612 - mse: 68.0612 - mae: 5.0103\n",
            "Epoch 12/20\n",
            "662/662 [==============================] - 2s 3ms/step - loss: 67.8225 - mse: 67.8225 - mae: 5.0004\n",
            "Epoch 13/20\n",
            "662/662 [==============================] - 2s 3ms/step - loss: 68.1030 - mse: 68.1030 - mae: 5.0010\n",
            "Epoch 14/20\n",
            "662/662 [==============================] - 2s 3ms/step - loss: 67.9876 - mse: 67.9876 - mae: 5.0144\n",
            "Epoch 15/20\n",
            "662/662 [==============================] - 2s 3ms/step - loss: 67.9174 - mse: 67.9174 - mae: 5.0030\n",
            "Epoch 16/20\n",
            "662/662 [==============================] - 2s 3ms/step - loss: 67.9027 - mse: 67.9027 - mae: 5.0015\n",
            "Epoch 17/20\n",
            "662/662 [==============================] - 2s 3ms/step - loss: 67.9218 - mse: 67.9218 - mae: 5.0081\n",
            "Epoch 18/20\n",
            "662/662 [==============================] - 2s 3ms/step - loss: 67.9502 - mse: 67.9502 - mae: 5.0044\n",
            "Epoch 19/20\n",
            "662/662 [==============================] - 2s 3ms/step - loss: 67.8657 - mse: 67.8657 - mae: 5.0016\n",
            "Epoch 20/20\n",
            "662/662 [==============================] - 2s 3ms/step - loss: 67.8889 - mse: 67.8889 - mae: 5.0071\n",
            "662/662 [==============================] - 1s 1ms/step - loss: 67.4339 - mse: 67.4339 - mae: 5.0748\n"
          ]
        },
        {
          "output_type": "execute_result",
          "data": {
            "text/plain": [
              "[67.43392944335938, 67.43392944335938, 5.074832916259766]"
            ]
          },
          "metadata": {},
          "execution_count": 60
        }
      ]
    },
    {
      "cell_type": "code",
      "source": [],
      "metadata": {
        "id": "XNbTXope90dR"
      },
      "execution_count": null,
      "outputs": []
    }
  ]
}